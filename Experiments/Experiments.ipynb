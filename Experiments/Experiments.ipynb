{
 "cells": [
  {
   "cell_type": "code",
   "execution_count": null,
   "id": "611a3716",
   "metadata": {},
   "outputs": [],
   "source": [
    "%pip install synthcity[all]\n",
    "%pip install catenets\n",
    "%pip install captum\n",
    "%pip install diffprivlib\n",
    "%pip install opacus"
   ]
  },
  {
   "cell_type": "code",
   "execution_count": 1,
   "id": "hearing-blind",
   "metadata": {},
   "outputs": [
    {
     "name": "stdout",
     "output_type": "stream",
     "text": [
      "\n",
      "[KeOps] Warning : There were warnings or errors :\n",
      "<stdin>:1:10: fatal error: cuda.h: No such file or directory\n",
      "compilation terminated.\n",
      "\n",
      "[KeOps] Warning : \n",
      "    The location of Cuda header files cuda.h and nvrtc.h could not be detected on your system.\n",
      "    You must determine their location and then define the environment variable CUDA_PATH,\n",
      "    either before launching Python or using os.environ before importing keops. For example\n",
      "    if these files are in /vol/cuda/10.2.89-cudnn7.6.4.38/include you can do :\n",
      "      import os\n",
      "      os.environ['CUDA_PATH'] = '/vol/cuda/10.2.89-cudnn7.6.4.38'\n",
      "    \n",
      "[KeOps] Compiling cuda jit compiler engine ... \n",
      "[KeOps] Warning : There were warnings or errors :\n",
      "/anaconda/envs/azureml_py310_sdkv2/lib/python3.10/site-packages/keopscore/binders/nvrtc/nvrtc_jit.cpp:16:10: fatal error: cuda.h: No such file or directory\n",
      " #include <cuda.h>\n",
      "          ^~~~~~~~\n",
      "compilation terminated.\n",
      "\n",
      "OK\n",
      "[pyKeOps] Compiling nvrtc binder for python ... \n",
      "[KeOps] Warning : There were warnings or errors :\n",
      "In file included from /anaconda/envs/azureml_py310_sdkv2/lib/python3.10/site-packages/pykeops/common/keops_io/pykeops_nvrtc.cpp:8:0:\n",
      "/anaconda/envs/azureml_py310_sdkv2/lib/python3.10/site-packages/keopscore/binders/nvrtc/keops_nvrtc.cpp:17:10: fatal error: cuda.h: No such file or directory\n",
      " #include <cuda.h>\n",
      "          ^~~~~~~~\n",
      "compilation terminated.\n",
      "\n",
      "OK\n"
     ]
    }
   ],
   "source": [
    "from synthcity.plugins import Plugins\n",
    "from synthcity.metrics.eval_statistical import AlphaPrecision, InverseKLDivergence, MaximumMeanDiscrepancy, WassersteinDistance\n",
    "from synthcity.metrics.eval_privacy import *\n",
    "from synthcity.plugins.core.dataloader import GenericDataLoader\n",
    "from synthcity.utils.serialization import save_to_file, load_from_file\n",
    "import matplotlib.pyplot as plt\n",
    "import pandas as pd\n",
    "from catenets.models.torch import *\n",
    "from catenets.experiment_utils.simulation_utils import simulate_treatment_setup\n",
    "import numpy as np\n",
    "from sklearn.metrics import mean_squared_error\n",
    "from os import listdir\n",
    "from sklearn.preprocessing import OneHotEncoder\n",
    "from captum.attr import *\n",
    "import torch\n",
    "from sklearn.metrics.pairwise import cosine_similarity\n",
    "from scipy.stats import multivariate_normal\n",
    "import itertools\n",
    "from sklearn.model_selection import train_test_split\n",
    "from sklearn.linear_model import LogisticRegression\n",
    "from sklearn.ensemble import RandomForestClassifier\n",
    "from sklearn.metrics import accuracy_score\n",
    "from synthcity.plugins.core.constraints import Constraints\n",
    "import random\n",
    "from OneClass import OneClassLayer\n",
    "from diffprivlib.models import LogisticRegression as LogisticRegressionDP\n",
    "from diffprivlib.models import RandomForestClassifier as RandomForestClassifierDP\n",
    "from opacus import PrivacyEngine\n",
    "from CATENets_dp.catenets_dp.models.torch import TLearner as TLearnerDP\n",
    "from torch.utils.data import Dataset, DataLoader\n",
    "from tqdm import tqdm\n",
    "import torch.nn as nn\n",
    "import torch.optim as optim\n",
    "import sklearn.metrics\n"
   ]
  },
  {
   "cell_type": "code",
   "execution_count": 2,
   "id": "hydraulic-scottish",
   "metadata": {},
   "outputs": [],
   "source": [
    "def train_models(gen_list, datasets, n_runs):\n",
    "    for g in gen_list:\n",
    "        for dataset in datasets:\n",
    "            for i in range(n_runs):\n",
    "                print(f'Training model {g} iteration {i} on dataset {dataset}')\n",
    "                model = Plugins().get(g)\n",
    "                model.fit(datasets[dataset])\n",
    "                fp = 'models/' + g + '_' + dataset + '_' + str(i) + '.pkl'\n",
    "                print(f'Saving model {g} iteration {i} on dataset {dataset}')\n",
    "                save_to_file(fp, model)"
   ]
  },
  {
   "cell_type": "code",
   "execution_count": 3,
   "id": "86c15772",
   "metadata": {},
   "outputs": [],
   "source": [
    "def generate_data(models, n):\n",
    "    for fp in models:\n",
    "        g = load_from_file('models/' + fp)\n",
    "        df = g.generate(count = n).dataframe()\n",
    "\n",
    "        name_list = fp.split('.')\n",
    "        name = name_list[0]\n",
    "        df.to_csv('syn_data/' + name + '.csv', index=False)"
   ]
  },
  {
   "cell_type": "code",
   "execution_count": 4,
   "id": "03152c9f",
   "metadata": {},
   "outputs": [],
   "source": [
    "def get_CATE_PEHE(datasets, X_t, mu0, mu1, outcome_col, treatment_col, include_S = True):\n",
    "    results = pd.DataFrame(columns=['generator', 'learner', 'rmse'])\n",
    "    for d in datasets:\n",
    "        dataset = datasets[d]\n",
    "        X = np.array(dataset.drop([treatment_col, outcome_col], axis=1))\n",
    "        y = np.array(dataset[outcome_col])\n",
    "        w = np.array(dataset[treatment_col])  \n",
    "        if include_S:\n",
    "            learners = [TNet(), SNet(), PWNet(), RANet(), DRNet()]\n",
    "        else:\n",
    "            learners = [TNet(), PWNet(), RANet(), DRNet()]\n",
    "\n",
    "        for learner in learners:\n",
    "            learner.fit(X,y,w)\n",
    "            pred = learner.predict(X_t)\n",
    "            cate = mu1 - mu0\n",
    "            rmse = mean_squared_error(cate, pred, squared = False)\n",
    "            results.loc[len(results.index)] = [d, learner.__str__(), rmse]\n",
    "            print(f'{learner} complete on {d}')\n",
    "\n",
    "    return results"
   ]
  },
  {
   "cell_type": "code",
   "execution_count": 5,
   "id": "ef3f3d96",
   "metadata": {},
   "outputs": [],
   "source": [
    "def get_CATE_estimates(training_datasets, X_t, mu0, mu1, outcome_col, treatment_col, include_S = True):\n",
    "    results = X_t.copy()\n",
    "    results = pd.concat([results, mu0, mu1], axis=1)\n",
    "    results['CATE'] = results['mu1'] - results['mu0']\n",
    "\n",
    "    for d in training_datasets:\n",
    "        dataset = training_datasets[d]\n",
    "        X = np.array(dataset.drop([treatment_col, outcome_col], axis=1))\n",
    "        y = np.array(dataset[outcome_col])\n",
    "        w = np.array(dataset[treatment_col])\n",
    "\n",
    "        if include_S:\n",
    "            learners = [TNet(), SNet(), PWNet(), RANet(), DRNet()]\n",
    "        else:\n",
    "            learners = [TNet(), PWNet(), RANet(), DRNet()]\n",
    "\n",
    "        for learner in learners:\n",
    "            learner.fit(X,y,w)\n",
    "            X_t_array = np.array(X_t)\n",
    "            pred = learner.predict(X_t_array)\n",
    "            col = d.split('.')[0] + '_' + learner.__str__()\n",
    "            results[col] = pred\n",
    "        \n",
    "            print(f'{learner} complete on {d}')\n",
    "            \n",
    "    return results"
   ]
  },
  {
   "cell_type": "code",
   "execution_count": 6,
   "id": "f901bc31",
   "metadata": {},
   "outputs": [],
   "source": [
    "def rate_of_flipping(d, cols):\n",
    "    rates = pd.DataFrame()\n",
    "    for c in cols:\n",
    "        m = d['CATE'] * d[c]\n",
    "        wrong = sum(m<0)\n",
    "        rate = wrong / d.shape[0]\n",
    "        rates[c] = [rate]\n",
    "    rates = rates.transpose()\n",
    "    return rates"
   ]
  },
  {
   "cell_type": "code",
   "execution_count": 7,
   "id": "8db1bbec",
   "metadata": {},
   "outputs": [],
   "source": [
    "def standard_metrics(datasets, real, metrics):\n",
    "    results = pd.DataFrame(columns = ['dataset', 'metric', 'result'])\n",
    "    for d in datasets:\n",
    "        dataset = GenericDataLoader(datasets[d])\n",
    "        for m in metrics:\n",
    "            metric = metrics[m]\n",
    "            result = metric.evaluate(real, dataset)\n",
    "            for r in result:\n",
    "                results.loc[len(results.index)] = [d, r, result[r]]\n",
    "    \n",
    "    return results"
   ]
  },
  {
   "cell_type": "code",
   "execution_count": 8,
   "id": "e8c65018",
   "metadata": {},
   "outputs": [],
   "source": [
    "def encode_acic_datasets(real, syn_data):\n",
    "    encoder = OneHotEncoder()\n",
    "    categorical = ['x_2', 'x_21', 'x_24']\n",
    "    encoded = encoder.fit_transform(real[categorical])\n",
    "    encoded_df = pd.DataFrame(encoded.toarray(), columns=encoder.get_feature_names_out(categorical))\n",
    "    real_encoded = pd.concat([real, encoded_df], axis=1)\n",
    "    real_encoded.drop(categorical, axis=1, inplace=True)\n",
    "\n",
    "    syn_data_encoded = {}\n",
    "    for d in syn_data:\n",
    "        syn_dataset = syn_data[d]\n",
    "        encoded = encoder.transform(syn_dataset[categorical])\n",
    "        encoded_df = pd.DataFrame(encoded.toarray(), columns=encoder.get_feature_names_out(categorical))\n",
    "        syn_encoded = pd.concat([syn_dataset, encoded_df], axis=1)\n",
    "        syn_encoded.drop(categorical, axis=1, inplace=True)\n",
    "        syn_data_encoded[d] = syn_encoded\n",
    "    \n",
    "    return real_encoded, syn_data_encoded"
   ]
  },
  {
   "cell_type": "code",
   "execution_count": 9,
   "id": "995d7eff",
   "metadata": {},
   "outputs": [],
   "source": [
    "def encode_acic(real, syn_dataset):\n",
    "    encoder = OneHotEncoder()\n",
    "    categorical = ['x_2', 'x_21', 'x_24']\n",
    "    encoded = encoder.fit_transform(real[categorical])\n",
    "    encoded_df = pd.DataFrame(encoded.toarray(), columns=encoder.get_feature_names_out(categorical))\n",
    "    real_encoded = pd.concat([real, encoded_df], axis=1)\n",
    "    real_encoded.drop(categorical, axis=1, inplace=True)\n",
    "    encoded = encoder.transform(syn_dataset[categorical])\n",
    "    encoded_df = pd.DataFrame(encoded.toarray(), columns=encoder.get_feature_names_out(categorical))\n",
    "    syn_encoded = pd.concat([syn_dataset, encoded_df], axis=1)\n",
    "    syn_encoded.drop(categorical, axis=1, inplace=True)\n",
    "    return real_encoded, syn_encoded"
   ]
  },
  {
   "cell_type": "code",
   "execution_count": 10,
   "id": "656c4639",
   "metadata": {},
   "outputs": [],
   "source": [
    "def encode(real):\n",
    "    encoder = OneHotEncoder()\n",
    "    categorical = ['x_2', 'x_21', 'x_24']\n",
    "    encoded = encoder.fit_transform(real[categorical])\n",
    "    encoded_df = pd.DataFrame(encoded.toarray(), columns=encoder.get_feature_names_out(categorical))\n",
    "    real_encoded = pd.concat([real, encoded_df], axis=1)\n",
    "    real_encoded.drop(categorical, axis=1, inplace=True)\n",
    "    return real_encoded"
   ]
  },
  {
   "cell_type": "markdown",
   "id": "d0b88a56",
   "metadata": {},
   "source": [
    "## New metrics"
   ]
  },
  {
   "cell_type": "code",
   "execution_count": 11,
   "id": "f3fb8010",
   "metadata": {},
   "outputs": [],
   "source": [
    "def evaluate_f(real, synth, treatment_col, outcome_col):\n",
    "    alpha = AlphaPrecision(random_state = random.randint(0, 1000000))\n",
    "\n",
    "    real_cov = real.drop([treatment_col, outcome_col], axis=1)\n",
    "    synth_cov = synth.drop([treatment_col, outcome_col], axis=1)\n",
    "\n",
    "    f = alpha.evaluate(GenericDataLoader(real_cov), GenericDataLoader(synth_cov))['delta_precision_alpha_OC']\n",
    "\n",
    "    return f"
   ]
  },
  {
   "cell_type": "code",
   "execution_count": 12,
   "id": "c8a2a2d4",
   "metadata": {},
   "outputs": [],
   "source": [
    "def evaluate_c(real, synth, treatment_col, outcome_col):\n",
    "    alpha = AlphaPrecision(random_state = random.randint(0, 1000000))\n",
    "\n",
    "    real_cov = real.drop([treatment_col, outcome_col], axis=1)\n",
    "    synth_cov = synth.drop([treatment_col, outcome_col], axis=1)\n",
    "\n",
    "    c = alpha.evaluate(GenericDataLoader(real_cov), GenericDataLoader(synth_cov))['delta_coverage_beta_OC']\n",
    "\n",
    "    return c"
   ]
  },
  {
   "cell_type": "code",
   "execution_count": 13,
   "id": "7607d8b8",
   "metadata": {},
   "outputs": [],
   "source": [
    "def propensity_distance(p_real, p_synth):\n",
    "    return 1 - abs(p_synth - p_real) / max(p_real, 1-p_real)"
   ]
  },
  {
   "cell_type": "code",
   "execution_count": 14,
   "id": "acba74c8",
   "metadata": {},
   "outputs": [],
   "source": [
    "def train_propensity_function(real, treatment_col, outcome_col):\n",
    "    X = np.array(real.drop([treatment_col, outcome_col], axis=1))\n",
    "    y = np.array(real[treatment_col])\n",
    "    classifier = LogisticRegression(random_state = random.randint(0, 1000000))\n",
    "    classifier.fit(X, y)\n",
    "\n",
    "    return classifier"
   ]
  },
  {
   "cell_type": "code",
   "execution_count": 15,
   "id": "f1b9a3bf",
   "metadata": {},
   "outputs": [],
   "source": [
    "def get_d_max(props):\n",
    "    propensities_max = [0 if i >= 0.5 else 1 for i in props]\n",
    "\n",
    "    return mean_squared_error(props, propensities_max, squared=False)"
   ]
  },
  {
   "cell_type": "code",
   "execution_count": 16,
   "id": "7c6bc844",
   "metadata": {},
   "outputs": [],
   "source": [
    "def evaluate_d(real, synth, treatment_col, outcome_col):\n",
    "    n = len(real)\n",
    "    n_test = 0.2*n\n",
    "    test = real[:round(n_test)]\n",
    "    real = real[round(n_test):]\n",
    "\n",
    "    pi_real = train_propensity_function(real, treatment_col, outcome_col)\n",
    "    pi_synth = train_propensity_function(synth, treatment_col, outcome_col)\n",
    "\n",
    "    probabilities_real = pi_real.predict_proba(np.array(test.drop([treatment_col, outcome_col], axis=1)))\n",
    "    propensities_real = probabilities_real[:, 1]\n",
    "\n",
    "    probabilities_synth = pi_synth.predict_proba(np.array(test.drop([treatment_col, outcome_col], axis=1)))\n",
    "    propensities_synth = probabilities_synth[:, 1]\n",
    "\n",
    "    d_max = get_d_max(propensities_real)\n",
    "\n",
    "    return 1 - mean_squared_error(propensities_real, propensities_synth, squared=False)/d_max"
   ]
  },
  {
   "cell_type": "code",
   "execution_count": 17,
   "id": "c7b6dbe9",
   "metadata": {},
   "outputs": [],
   "source": [
    "def cosine_average_first(v1, v2):\n",
    "    return cosine_similarity(v1.sum(axis=0).reshape(1,-1), v2.sum(axis=0).reshape(1,-1))[0][0]"
   ]
  },
  {
   "cell_type": "code",
   "execution_count": 18,
   "id": "1c722b3c",
   "metadata": {},
   "outputs": [],
   "source": [
    "def evaluate_u_int(real, synth, treatment_col, outcome_col, n_units):\n",
    "    n = len(real)\n",
    "    n_test = 0.2*n\n",
    "    test = real[:round(n_test)]\n",
    "    real = real[round(n_test):]\n",
    "\n",
    "\n",
    "    l_real = TLearner(n_unit_in=n_units, binary_y=False, seed=random.randint(0,1000000))\n",
    "    X_real = np.array(real.drop([treatment_col, outcome_col], axis=1))\n",
    "    y_real = np.array(real[outcome_col])\n",
    "    w_real = np.array(real[treatment_col])\n",
    "    l_real.fit(X_real, y_real, w_real)\n",
    "    ig_real = IntegratedGradients(l_real)\n",
    "    X_t = np.array(test.drop([treatment_col, outcome_col], axis=1))\n",
    "    X_t = torch.tensor(X_t)\n",
    "    attr_real = ig_real.attribute(X_t)\n",
    "\n",
    "    l_synth = TLearner(n_unit_in=n_units, binary_y=False, seed=random.randint(0,1000000))\n",
    "    X_synth = np.array(synth.drop([treatment_col, outcome_col], axis=1))\n",
    "    y_synth = np.array(synth[outcome_col])\n",
    "    w_synth = np.array(synth[treatment_col])\n",
    "    l_synth.fit(X_synth, y_synth, w_synth)\n",
    "    ig_synth = IntegratedGradients(l_synth)\n",
    "    attr_synth = ig_synth.attribute(X_t)\n",
    "\n",
    "    first = cosine_average_first(attr_real, attr_synth)\n",
    "    return first"
   ]
  },
  {
   "cell_type": "code",
   "execution_count": 19,
   "id": "6fea9659",
   "metadata": {},
   "outputs": [],
   "source": [
    "def evaluate_u_pehe(real, synth, treatment_col, outcome_col, n_units):\n",
    "    n = len(real)\n",
    "    n_test = 0.2*n\n",
    "    test = real[:round(n_test)]\n",
    "    real = real[round(n_test):]\n",
    "\n",
    "    l_real = TLearner(n_unit_in=n_units, binary_y=False, seed=random.randint(0,1000000))\n",
    "    X_real = np.array(real.drop([treatment_col, outcome_col], axis=1))\n",
    "    y_real = np.array(real[outcome_col])\n",
    "    w_real = np.array(real[treatment_col])\n",
    "    l_real.fit(X_real, y_real, w_real)\n",
    "    X_t = np.array(test.drop([treatment_col, outcome_col], axis=1))\n",
    "    X_t = torch.tensor(X_t)\n",
    "    pred_real = l_real.predict(X_t)\n",
    "\n",
    "    l_synth = TLearner(n_unit_in=n_units, binary_y=False, seed=random.randint(0,1000000))\n",
    "    X_synth = np.array(synth.drop([treatment_col, outcome_col], axis=1))\n",
    "    y_synth = np.array(synth[outcome_col])\n",
    "    w_synth = np.array(synth[treatment_col])\n",
    "    l_synth.fit(X_synth, y_synth, w_synth)\n",
    "    pred_synth = l_synth.predict(X_t)\n",
    "\n",
    "    pehe = mean_squared_error(pred_real.cpu().detach().numpy(), pred_synth.cpu().detach().numpy(), squared=False)\n",
    "    return pehe"
   ]
  },
  {
   "cell_type": "code",
   "execution_count": 20,
   "id": "b23d36f3",
   "metadata": {},
   "outputs": [],
   "source": [
    "def evaluate_average_u_pehe(real, synth, treatment_col, outcome_col, n_units):\n",
    "    n = len(real)\n",
    "    n_test = 0.2*n\n",
    "    test = real[:round(n_test)]\n",
    "    real = real[round(n_test):]\n",
    "\n",
    "    real_learners = [TLearner(n_unit_in=n_units, binary_y=False, seed=random.randint(0,1000000)), SLearner(n_unit_in=n_units, binary_y=False, seed=random.randint(0,1000000)), \n",
    "                DRLearner(n_unit_in=n_units, binary_y=False, seed=random.randint(0,1000000)), RALearner(n_unit_in=n_units, binary_y=False,seed=random.randint(0,1000000))]\n",
    "    synth_learners = [TLearner(n_unit_in=n_units, binary_y=False, seed=random.randint(0,1000000)), SLearner(n_unit_in=n_units, binary_y=False, seed=random.randint(0,1000000)), \n",
    "                DRLearner(n_unit_in=n_units, binary_y=False, seed=random.randint(0,1000000)), RALearner(n_unit_in=n_units, binary_y=False,seed=random.randint(0,1000000))]\n",
    "\n",
    "    avg_pehe = 0\n",
    "    for i in range(len(real_learners)):\n",
    "        l_real = real_learners[i]\n",
    "        l_synth = synth_learners[i]\n",
    "        X_real = np.array(real.drop([treatment_col, outcome_col], axis=1))\n",
    "        y_real = np.array(real[outcome_col])\n",
    "        w_real = np.array(real[treatment_col])\n",
    "        l_real.fit(X_real, y_real, w_real)\n",
    "        X_t = np.array(test.drop([treatment_col, outcome_col], axis=1))\n",
    "        X_t = torch.tensor(X_t)\n",
    "        pred_real = l_real.predict(X_t)\n",
    "\n",
    "        X_synth = np.array(synth.drop([treatment_col, outcome_col], axis=1))\n",
    "        y_synth = np.array(synth[outcome_col])\n",
    "        w_synth = np.array(synth[treatment_col])\n",
    "        l_synth.fit(X_synth, y_synth, w_synth)\n",
    "        pred_synth = l_synth.predict(X_t)\n",
    "\n",
    "        pehe = mean_squared_error(pred_real.cpu().detach().numpy(), pred_synth.cpu().detach().numpy(), squared=False)\n",
    "        avg_pehe += pehe\n",
    "\n",
    "    return avg_pehe / len(real_learners)"
   ]
  },
  {
   "cell_type": "code",
   "execution_count": 21,
   "id": "190cfb60",
   "metadata": {},
   "outputs": [],
   "source": [
    "def evaluate_u_policy(real, synth, treatment_col, outcome_col, n_units):\n",
    "    n = len(real)\n",
    "    n_test = 0.2*n\n",
    "    test = real[:round(n_test)]\n",
    "    real = real[round(n_test):]\n",
    "\n",
    "    l_real = TLearner(n_unit_in=n_units, binary_y=False, seed=random.randint(0,1000000))\n",
    "    X_real = np.array(real.drop([treatment_col, outcome_col], axis=1))\n",
    "    y_real = np.array(real[outcome_col])\n",
    "    w_real = np.array(real[treatment_col])\n",
    "    l_real.fit(X_real, y_real, w_real)\n",
    "    X_t = np.array(test.drop([treatment_col, outcome_col], axis=1))\n",
    "    X_t = torch.tensor(X_t)\n",
    "    pred_real = l_real.predict(X_t)\n",
    "\n",
    "    l_synth = TLearner(n_unit_in=n_units, binary_y=False, seed=random.randint(0,1000000))\n",
    "    X_synth = np.array(synth.drop([treatment_col, outcome_col], axis=1))\n",
    "    y_synth = np.array(synth[outcome_col])\n",
    "    w_synth = np.array(synth[treatment_col])\n",
    "    l_synth.fit(X_synth, y_synth, w_synth)\n",
    "    pred_synth = l_synth.predict(X_t)\n",
    "\n",
    "    pred_mult = pd.DataFrame(pred_real * pred_synth)\n",
    "    num_pos = len(pred_mult[pred_mult[0]>0])\n",
    "    correct_rate = num_pos / len(pred_real)\n",
    "\n",
    "    return correct_rate"
   ]
  },
  {
   "cell_type": "code",
   "execution_count": 22,
   "id": "dd45d9b8",
   "metadata": {},
   "outputs": [],
   "source": [
    "def evaluate_average_u_policy(real, synth, treatment_col, outcome_col, n_units):\n",
    "    n = len(real)\n",
    "    n_test = 0.2*n\n",
    "    test = real[:round(n_test)]\n",
    "    real = real[round(n_test):]\n",
    "\n",
    "    real_learners = [TLearner(n_unit_in=n_units, binary_y=False, seed=random.randint(0,1000000)), SLearner(n_unit_in=n_units, binary_y=False, seed=random.randint(0,1000000)), \n",
    "                DRLearner(n_unit_in=n_units, binary_y=False, seed=random.randint(0,1000000)), RALearner(n_unit_in=n_units, binary_y=False,seed=random.randint(0,1000000))]\n",
    "    synth_learners = [TLearner(n_unit_in=n_units, binary_y=False, seed=random.randint(0,1000000)), SLearner(n_unit_in=n_units, binary_y=False, seed=random.randint(0,1000000)), \n",
    "                DRLearner(n_unit_in=n_units, binary_y=False, seed=random.randint(0,1000000)), RALearner(n_unit_in=n_units, binary_y=False,seed=random.randint(0,1000000))]\n",
    "\n",
    "    avg_correct_rate = 0\n",
    "    for i in range(len(real_learners)):\n",
    "        l_real = real_learners[i]\n",
    "        l_synth = synth_learners[i]\n",
    "        X_real = np.array(real.drop([treatment_col, outcome_col], axis=1))\n",
    "        y_real = np.array(real[outcome_col])\n",
    "        w_real = np.array(real[treatment_col])\n",
    "        l_real.fit(X_real, y_real, w_real)\n",
    "        X_t = np.array(test.drop([treatment_col, outcome_col], axis=1))\n",
    "        X_t = torch.tensor(X_t)\n",
    "        pred_real = l_real.predict(X_t)\n",
    "\n",
    "        X_synth = np.array(synth.drop([treatment_col, outcome_col], axis=1))\n",
    "        y_synth = np.array(synth[outcome_col])\n",
    "        w_synth = np.array(synth[treatment_col])\n",
    "        l_synth.fit(X_synth, y_synth, w_synth)\n",
    "        pred_synth = l_synth.predict(X_t)\n",
    "\n",
    "        pred_mult = pd.DataFrame(pred_real * pred_synth)\n",
    "        num_pos = len(pred_mult[pred_mult[0]>0])\n",
    "        correct_rate = num_pos / len(pred_real)\n",
    "        avg_correct_rate += correct_rate\n",
    "        #print(f'{l_synth.__str__()} PEHE: {pehe}')\n",
    "\n",
    "    return avg_correct_rate / len(real_learners)"
   ]
  },
  {
   "cell_type": "code",
   "execution_count": 23,
   "id": "f95c0d48",
   "metadata": {},
   "outputs": [],
   "source": [
    "def generate_sequentially_to_w(real, gen, treatment_col, outcome_col, encode=False, private=False, epsilon=None, delta=None):\n",
    "    random.seed()\n",
    "\n",
    "    #generate covariates\n",
    "    if private:\n",
    "        g = Plugins().get(gen, random_state = random.randint(0, 1000000), epsilon=epsilon, delta=delta)\n",
    "    else:\n",
    "        g = Plugins().get(gen, random_state = random.randint(0, 1000000))\n",
    "    real_cov = real.drop([treatment_col, outcome_col], axis=1)\n",
    "    print(f'Fitting {gen} covariate model')\n",
    "    g.fit(real_cov)\n",
    "    print(f'Generating {gen} synthetic covariates')\n",
    "    synth_cov = g.generate(count = len(real)).dataframe()\n",
    "\n",
    "    if encode:\n",
    "        real_encoded, syn_encoded = encode_acic(real, synth_cov)\n",
    "    else:\n",
    "        real_encoded, syn_encoded = real, synth_cov\n",
    "\n",
    "    #generate propensities\n",
    "    X = np.array(real_encoded.drop([treatment_col, outcome_col], axis=1))\n",
    "    y = np.array(real_encoded[treatment_col])\n",
    "    \n",
    "    if private:\n",
    "        classifier = LogisticRegressionDP(random_state = random.randint(0, 1000000), epsilon=epsilon)\n",
    "    else:\n",
    "        classifier = LogisticRegression(random_state = random.randint(0, 1000000))\n",
    "    print('Fitting propensity model')\n",
    "    classifier.fit(X, y)\n",
    "    print('Generating propensities')\n",
    "    probabilities = classifier.predict_proba(np.array(syn_encoded))\n",
    "    prob_class_1 = probabilities[:, 1]\n",
    "    binary_outcomes = np.random.binomial(n=1, p=prob_class_1)\n",
    "\n",
    "    synth_cov_with_prop = syn_encoded\n",
    "    synth_cov_with_prop[treatment_col] = pd.Series(binary_outcomes)\n",
    "\n",
    "    synth_cov_with_prop[outcome_col] = 0\n",
    "\n",
    "    return synth_cov_with_prop"
   ]
  },
  {
   "cell_type": "code",
   "execution_count": 34,
   "id": "68c8b8b3",
   "metadata": {},
   "outputs": [],
   "source": [
    "def generate_sequentially(real, gen, treatment_col, outcome_col, encode=False, private=False, epsilon=None, delta=None):\n",
    "    random.seed()\n",
    "    synth = generate_sequentially_to_w(real, gen, treatment_col, outcome_col, encode=encode, private=private, epsilon=epsilon, delta=delta)\n",
    "\n",
    "    X = np.array(real.drop([treatment_col, outcome_col], axis=1))\n",
    "    y = np.array(real[outcome_col])\n",
    "    w = np.array(real[treatment_col])\n",
    "    n_units = len(real.drop([treatment_col, outcome_col], axis=1).columns)\n",
    "    if private:\n",
    "        l = TLearnerDP(n_unit_in=n_units, binary_y=False, seed=random.randint(0,1000000), batch_norm=False)\n",
    "        print('Fitting private CATE learner')\n",
    "        l.fit(X, y, w, epsilon=epsilon, delta=delta)\n",
    "    else:\n",
    "        l = TLearner(n_unit_in=n_units, binary_y=False, seed=random.randint(0,1000000), batch_norm=False)\n",
    "        print('Fitting CATE learner')\n",
    "        l.fit(X, y, w)\n",
    "\n",
    "    seq_X = np.array(synth.drop([treatment_col, outcome_col], axis=1))\n",
    "    print('Generating POs')\n",
    "    cate, y0, y1 = l.predict(seq_X, return_po=True)\n",
    "\n",
    "    outcomes = []\n",
    "    for index, value in synth[treatment_col].iteritems():\n",
    "        if value == 0:\n",
    "            outcomes.append(y0[index].item())\n",
    "        else:\n",
    "            outcomes.append(y1[index].item())\n",
    "\n",
    "    synth[outcome_col] = outcomes\n",
    "    return synth"
   ]
  },
  {
   "cell_type": "code",
   "execution_count": 25,
   "id": "bcab675f",
   "metadata": {},
   "outputs": [],
   "source": [
    "def generate_standard(real, gen, private=False, epsilon=None, delta=None):\n",
    "    random.seed()\n",
    "    if private:\n",
    "        g = Plugins().get(gen, random_state = random.randint(0, 1000000), epsilon=epsilon, delta=delta)\n",
    "    else:\n",
    "        g = Plugins().get(gen, random_state = random.randint(0, 1000000))\n",
    "    print(f'Fitting {gen} model')\n",
    "    g.fit(real)\n",
    "    print(f'Generating {gen} synthetic dataset')\n",
    "    synth = g.generate(count = len(real)).dataframe()\n",
    "    return synth"
   ]
  },
  {
   "cell_type": "code",
   "execution_count": 26,
   "id": "d68c151e",
   "metadata": {},
   "outputs": [],
   "source": [
    "def seq_test(real, gen, treatment_col, outcome_col, n_iter, encode=False, private=False, epsilon=None, delta=None, save=False, fp=''):\n",
    "    results = pd.DataFrame(columns = ['method', 'f', 'c', 'd', 'u_pehe', 'u_policy', 'u_int'])\n",
    "    for _ in range(n_iter):\n",
    "        stand = generate_standard(real, gen, private=private, epsilon=epsilon, delta=delta)\n",
    "        seq_new = generate_sequentially(real, gen, treatment_col, outcome_col, encode=encode, private=private, epsilon=epsilon, delta=delta)\n",
    "        n_units = len(real.drop([treatment_col, outcome_col], axis=1).columns)\n",
    "        \n",
    "        if encode:\n",
    "            real_encoded, stand_encoded = encode_acic(real, stand)\n",
    "            _, seq_encoded = encode_acic(real, seq_new)\n",
    "        else:\n",
    "            real_encoded = real\n",
    "            stand_encoded = stand\n",
    "            seq_encoded = seq_new\n",
    "\n",
    "        results.loc[len(results)] = ['standard', evaluate_f(real_encoded, stand_encoded, treatment_col, outcome_col), evaluate_c(real_encoded, stand_encoded, treatment_col, outcome_col), \n",
    "                                     evaluate_d(real_encoded, stand_encoded, treatment_col, outcome_col), evaluate_average_u_pehe(real_encoded, stand_encoded, treatment_col, outcome_col, n_units), \n",
    "                                     evaluate_u_policy(real_encoded, stand_encoded, treatment_col, outcome_col, n_units), evaluate_u_int(real_encoded, stand_encoded, treatment_col, outcome_col, n_units)]\n",
    "        results.loc[len(results)] = ['seq_new', evaluate_f(real_encoded, seq_encoded, treatment_col, outcome_col), evaluate_c(real_encoded, seq_encoded, treatment_col, outcome_col), \n",
    "                                     evaluate_d(real_encoded, seq_encoded, treatment_col, outcome_col), evaluate_average_u_pehe(real_encoded, seq_encoded, treatment_col, outcome_col, n_units), \n",
    "                                     evaluate_u_policy(real_encoded, seq_encoded, treatment_col, outcome_col, n_units), evaluate_u_int(real_encoded, seq_encoded, treatment_col, outcome_col, n_units)]\n",
    "    if save:\n",
    "        results.to_csv(fp, index=False)\n",
    "    \n",
    "    return results\n"
   ]
  },
  {
   "cell_type": "code",
   "execution_count": 27,
   "id": "c18466bb",
   "metadata": {},
   "outputs": [],
   "source": [
    "def u_pehe_test(real, gen, treatment_col, outcome_col, n_iter, encode=False, save=False, fp=''):\n",
    "    results = pd.DataFrame(columns = ['method', 'u_pehe'])\n",
    "    for _ in range(n_iter):\n",
    "        stand = generate_standard(real, gen)\n",
    "        seq_new = generate_sequentially(real, gen, treatment_col, outcome_col, encode=encode)\n",
    "        n_units = len(real.drop([treatment_col, outcome_col], axis=1).columns)\n",
    "        \n",
    "        if encode:\n",
    "            real_encoded, stand_encoded = encode_acic(real, stand)\n",
    "            _, seq_encoded = encode_acic(real, seq_new)\n",
    "        else:\n",
    "            real_encoded = real\n",
    "            stand_encoded = stand\n",
    "            seq_encoded = seq_new\n",
    "\n",
    "        results.loc[len(results)] = ['standard', evaluate_average_u_pehe(real_encoded, stand_encoded, treatment_col, outcome_col, n_units)]\n",
    "        results.loc[len(results)] = ['seq_new', evaluate_average_u_pehe(real_encoded, seq_encoded, treatment_col, outcome_col, n_units)]\n",
    "    if save:\n",
    "        results.to_csv(fp, index=False)\n",
    "    \n",
    "    return results"
   ]
  },
  {
   "cell_type": "markdown",
   "id": "fc3f8f97",
   "metadata": {},
   "source": [
    "## Load real datasets"
   ]
  },
  {
   "cell_type": "code",
   "execution_count": 28,
   "id": "73709436",
   "metadata": {},
   "outputs": [],
   "source": [
    "ihdp_full = pd.read_csv('../Datasets/ihdp.csv')\n",
    "ihdp = ihdp_full.drop(['y_cfactual', 'mu0', 'mu1'], axis=1)\n",
    "ihdp['treatment'] = ihdp['treatment'].astype(int)\n",
    "#train on 80% of the data, the remaining 20% for testing of CATE estimators\n",
    "train_ihdp = ihdp.loc[[i for i in range(600)]]\n",
    "test_ihdp = ihdp.loc[[i+600 for i in range(147)]]"
   ]
  },
  {
   "cell_type": "code",
   "execution_count": 44,
   "id": "8589a925",
   "metadata": {},
   "outputs": [],
   "source": [
    "jobs =pd.read_csv('../Datasets/jobs_small.csv')"
   ]
  },
  {
   "cell_type": "code",
   "execution_count": 134,
   "id": "2fcaff2b",
   "metadata": {},
   "outputs": [],
   "source": [
    "twins = pd.read_csv('../Datasets/twins.csv')"
   ]
  },
  {
   "cell_type": "code",
   "execution_count": 278,
   "id": "7fac565c",
   "metadata": {},
   "outputs": [],
   "source": [
    "acic_full = pd.read_csv('../Datasets/acic.csv')\n",
    "acic_full['y'] = acic_full['y0']\n",
    "acic_full.loc[acic_full['z']==1, 'y'] = acic_full.loc[acic_full['z']==1, 'y1']\n",
    "\n",
    "acic = acic_full.drop(['y0', 'y1', 'mu0', 'mu1'], axis=1)\n",
    "acic_train = acic.loc[[i for i in range(4000)]]\n",
    "acic_test = acic.loc[[i+4000 for i in range(802)]]\n",
    "acic_encoded = encode(acic)"
   ]
  },
  {
   "cell_type": "code",
   "execution_count": null,
   "id": "b981b724",
   "metadata": {},
   "outputs": [],
   "source": []
  },
  {
   "cell_type": "markdown",
   "id": "7973a056",
   "metadata": {},
   "source": [
    "## New generation ideas"
   ]
  },
  {
   "cell_type": "markdown",
   "id": "d4122a38",
   "metadata": {},
   "source": [
    "### Training a generator for each treatment group"
   ]
  },
  {
   "cell_type": "code",
   "execution_count": 406,
   "id": "13faca75",
   "metadata": {},
   "outputs": [],
   "source": [
    "def train_models_separate(gen_list, datasets, n_runs, treatment_cols):\n",
    "    j=0\n",
    "\n",
    "    for g in gen_list:\n",
    "        for d in datasets:\n",
    "            treatment_col = treatment_cols[j]\n",
    "\n",
    "            dataset = datasets[d]\n",
    "            dataset_0 = dataset[dataset[treatment_col] == 0].drop(treatment_col, axis=1)\n",
    "            dataset_1 = dataset[dataset[treatment_col] == 1].drop(treatment_col, axis=1)\n",
    "\n",
    "            for i in range(n_runs):\n",
    "\n",
    "                print(f'Training model {g} iteration {i} on dataset {d} treatment 0')\n",
    "                model = Plugins().get(g)\n",
    "                model.fit(dataset_0)\n",
    "                fp = 'separate_models/' + g + '_' + d + '0_' + str(i) + '.pkl'\n",
    "                save_to_file(fp, model)\n",
    "\n",
    "                print(f'Training model {g} iteration {i} on dataset {d} treatment 1')\n",
    "                model = Plugins().get(g)\n",
    "                model.fit(dataset_1)\n",
    "                fp = 'separate_models/' + g + '_' + d + '1_' + str(i) + '.pkl'\n",
    "                save_to_file(fp, model)\n",
    "        j += 1"
   ]
  },
  {
   "cell_type": "code",
   "execution_count": 419,
   "id": "feaabf99",
   "metadata": {},
   "outputs": [],
   "source": [
    "def generate_data_separate(model0, model1, pi, n, treatment_col):\n",
    "    n_1 = round(n*pi)\n",
    "    n_0 = n - n_1\n",
    "\n",
    "    g_0 = load_from_file('separate_models/' + model0)\n",
    "    g_1 = load_from_file('separate_models/' + model1)\n",
    "    df_0 = g_0.generate(count = n_0).dataframe()\n",
    "    df_0[treatment_col] = 0\n",
    "    df_1 = g_1.generate(count = n_1).dataframe()\n",
    "    df_1[treatment_col] = 1\n",
    "\n",
    "    df = pd.concat([df_0, df_1])\n",
    "\n",
    "    model0 = model0.split('.')[0]\n",
    "    name_list = model0.split('_')\n",
    "    name = name_list[0] + '_' + name_list[1][:-1] + '_' + name_list[2]\n",
    "    df.to_csv('syn_data_separate/' + name + '_separate.csv', index=False)"
   ]
  },
  {
   "cell_type": "code",
   "execution_count": 324,
   "id": "fbd9164e",
   "metadata": {},
   "outputs": [],
   "source": [
    "def gen_sep(real, gen, treatment_col):\n",
    "    dataset_0 = real[real[treatment_col] == 0].drop(treatment_col, axis=1)\n",
    "    dataset_1 = real[real[treatment_col] == 1].drop(treatment_col, axis=1)\n",
    "    n = len(real)\n",
    "    pi = sum(real[treatment_col]) / n\n",
    "    n_1 = round(n*pi)\n",
    "    n_0 = n - n_1\n",
    "    g_0 = Plugins().get(gen)\n",
    "    g_0.fit(dataset_0)\n",
    "    g_1 = Plugins().get(gen)\n",
    "    g_1.fit(dataset_1)\n",
    "    df_0 = g_0.generate(count = n_0).dataframe()\n",
    "    df_0[treatment_col] = 0\n",
    "    df_1 = g_1.generate(count = n_1).dataframe()\n",
    "    df_1[treatment_col] = 1\n",
    "    df = pd.concat([df_0, df_1])\n",
    "\n",
    "    return df"
   ]
  },
  {
   "cell_type": "code",
   "execution_count": 351,
   "id": "98dec9de",
   "metadata": {},
   "outputs": [],
   "source": [
    "m = 1\n",
    "\n",
    "X_0 = pd.DataFrame(np.random.normal(loc = m, size=(2000,20)))\n",
    "X_1 = pd.DataFrame(np.random.normal(loc = -m, size=(2000,20)))\n",
    "X_0['w'] = 0\n",
    "X_1['w'] = 1\n",
    "d = pd.concat([X_0, X_1], axis=0)\n",
    "d['y'] = np.random.normal(loc = 0, size=(4000,1))"
   ]
  },
  {
   "cell_type": "code",
   "execution_count": 352,
   "id": "a5aa5e30",
   "metadata": {},
   "outputs": [
    {
     "name": "stderr",
     "output_type": "stream",
     "text": [
      "[2024-04-30T07:45:40.868909+0000][4191568][CRITICAL] load failed: module 'synthcity.plugins.generic.plugin_goggle' has no attribute 'plugin'\n",
      "[2024-04-30T07:45:40.869464+0000][4191568][CRITICAL] load failed: module 'synthcity.plugins.generic.plugin_goggle' has no attribute 'plugin'\n",
      "[2024-04-30T07:45:40.869947+0000][4191568][CRITICAL] module plugin_goggle load failed\n",
      " 42%|████▏     | 849/2000 [02:59<04:03,  4.73it/s]\n",
      "[2024-04-30T07:48:47.132985+0000][4191568][CRITICAL] load failed: module 'synthcity.plugins.generic.plugin_goggle' has no attribute 'plugin'\n",
      "[2024-04-30T07:48:47.133526+0000][4191568][CRITICAL] load failed: module 'synthcity.plugins.generic.plugin_goggle' has no attribute 'plugin'\n",
      "[2024-04-30T07:48:47.133968+0000][4191568][CRITICAL] module plugin_goggle load failed\n",
      " 27%|██▋       | 549/2000 [01:54<05:02,  4.79it/s]\n"
     ]
    }
   ],
   "source": [
    "synth_sep = gen_sep(d, 'ctgan', 'w')"
   ]
  },
  {
   "cell_type": "code",
   "execution_count": 353,
   "id": "61c422d4",
   "metadata": {},
   "outputs": [
    {
     "name": "stderr",
     "output_type": "stream",
     "text": [
      "[2024-04-30T07:50:48.657028+0000][4191568][CRITICAL] load failed: module 'synthcity.plugins.generic.plugin_goggle' has no attribute 'plugin'\n",
      "[2024-04-30T07:50:48.658350+0000][4191568][CRITICAL] load failed: module 'synthcity.plugins.generic.plugin_goggle' has no attribute 'plugin'\n",
      "[2024-04-30T07:50:48.658777+0000][4191568][CRITICAL] module plugin_goggle load failed\n",
      " 27%|██▋       | 549/2000 [04:42<12:26,  1.94it/s]\n"
     ]
    }
   ],
   "source": [
    "synth = generate_standard(d, 'ctgan')"
   ]
  },
  {
   "cell_type": "code",
   "execution_count": 356,
   "id": "93cdab35",
   "metadata": {},
   "outputs": [
    {
     "data": {
      "text/plain": [
       "0.002374114615312479"
      ]
     },
     "execution_count": 356,
     "metadata": {},
     "output_type": "execute_result"
    }
   ],
   "source": [
    "evaluate_d(d, synth_sep, 'w', 'y')"
   ]
  },
  {
   "cell_type": "code",
   "execution_count": 357,
   "id": "f22d56eb",
   "metadata": {},
   "outputs": [
    {
     "data": {
      "text/plain": [
       "0.014232456084814337"
      ]
     },
     "execution_count": 357,
     "metadata": {},
     "output_type": "execute_result"
    }
   ],
   "source": [
    "evaluate_d(d, synth, 'w', 'y')"
   ]
  },
  {
   "cell_type": "code",
   "execution_count": 427,
   "id": "92494a8c",
   "metadata": {},
   "outputs": [],
   "source": [
    "gen_list = ['ddpm']\n",
    "datasets = {}\n",
    "datasets['acic'] = acic"
   ]
  },
  {
   "cell_type": "code",
   "execution_count": 428,
   "id": "82b48a71",
   "metadata": {},
   "outputs": [
    {
     "name": "stderr",
     "output_type": "stream",
     "text": [
      "[2024-04-29T04:10:11.992729+0000][3754226][CRITICAL] load failed: module 'synthcity.plugins.generic.plugin_goggle' has no attribute 'plugin'\n",
      "[2024-04-29T04:10:11.993217+0000][3754226][CRITICAL] load failed: module 'synthcity.plugins.generic.plugin_goggle' has no attribute 'plugin'\n",
      "[2024-04-29T04:10:11.993525+0000][3754226][CRITICAL] module plugin_goggle load failed\n"
     ]
    },
    {
     "name": "stdout",
     "output_type": "stream",
     "text": [
      "Training model ddpm iteration 0 on dataset acic treatment 0\n"
     ]
    },
    {
     "name": "stderr",
     "output_type": "stream",
     "text": [
      "Epoch: 100%|██████████| 1000/1000 [01:32<00:00, 10.76it/s, loss=0.876]\n",
      "[2024-04-29T04:11:45.183756+0000][3754226][CRITICAL] load failed: module 'synthcity.plugins.generic.plugin_goggle' has no attribute 'plugin'\n",
      "[2024-04-29T04:11:45.184238+0000][3754226][CRITICAL] load failed: module 'synthcity.plugins.generic.plugin_goggle' has no attribute 'plugin'\n",
      "[2024-04-29T04:11:45.184579+0000][3754226][CRITICAL] module plugin_goggle load failed\n"
     ]
    },
    {
     "name": "stdout",
     "output_type": "stream",
     "text": [
      "Training model ddpm iteration 0 on dataset acic treatment 1\n"
     ]
    },
    {
     "name": "stderr",
     "output_type": "stream",
     "text": [
      "Epoch: 100%|██████████| 1000/1000 [00:22<00:00, 44.65it/s, loss=1.26]\n"
     ]
    }
   ],
   "source": [
    "train_models_separate(gen_list, datasets, 1, ['z'])"
   ]
  },
  {
   "cell_type": "code",
   "execution_count": 426,
   "id": "030e2da9",
   "metadata": {},
   "outputs": [
    {
     "data": {
      "text/plain": [
       "0.17867555185339443"
      ]
     },
     "execution_count": 426,
     "metadata": {},
     "output_type": "execute_result"
    }
   ],
   "source": [
    "sum(acic['z'])/len(acic)"
   ]
  },
  {
   "cell_type": "code",
   "execution_count": 429,
   "id": "9fab5863",
   "metadata": {},
   "outputs": [],
   "source": [
    "generate_data_separate('ddpm_acic0_0.pkl', 'ddpm_acic0_0.pkl', 0.179, 747, 'treatment')"
   ]
  },
  {
   "cell_type": "code",
   "execution_count": 430,
   "id": "11501094",
   "metadata": {},
   "outputs": [],
   "source": [
    "separate = pd.read_csv('syn_data_separate/ddpm_acic_0_separate.csv')"
   ]
  },
  {
   "cell_type": "code",
   "execution_count": 434,
   "id": "f869e687",
   "metadata": {},
   "outputs": [],
   "source": [
    "separate = separate.rename(columns = {'treatment':'z'})"
   ]
  },
  {
   "cell_type": "markdown",
   "id": "f2326f83",
   "metadata": {},
   "source": [
    "### Generation in a sequential manner, mimicing the true DGP"
   ]
  },
  {
   "cell_type": "markdown",
   "id": "9b8d13fc",
   "metadata": {},
   "source": [
    "Given a real dataset $D = [X, W, Y]$, will train a generative model only on the covariates $X$. Then will predict the treatment assignment $W$ based on the propensity score $\\pi(x)$ for each instance, where $\\pi(.)$ is learnt from the real dataset. Then, will generate the outcomes $Y$ based on a conditional generative model that has been trained on $D$."
   ]
  },
  {
   "cell_type": "code",
   "execution_count": 279,
   "id": "ff0188f4",
   "metadata": {},
   "outputs": [
    {
     "name": "stderr",
     "output_type": "stream",
     "text": [
      "[2024-05-14T16:22:34.205821+0000][130783][CRITICAL] load failed: module 'synthcity.plugins.generic.plugin_goggle' has no attribute 'plugin'\n",
      "[2024-05-14T16:22:34.206825+0000][130783][CRITICAL] load failed: module 'synthcity.plugins.generic.plugin_goggle' has no attribute 'plugin'\n",
      "[2024-05-14T16:22:34.207260+0000][130783][CRITICAL] module plugin_goggle load failed\n"
     ]
    },
    {
     "name": "stdout",
     "output_type": "stream",
     "text": [
      "Fitting ddpm model\n"
     ]
    },
    {
     "name": "stderr",
     "output_type": "stream",
     "text": [
      "Epoch: 100%|██████████| 1000/1000 [02:49<00:00,  5.91it/s, loss=0.744]\n"
     ]
    },
    {
     "name": "stdout",
     "output_type": "stream",
     "text": [
      "Generating ddpm synthetic dataset\n"
     ]
    },
    {
     "name": "stderr",
     "output_type": "stream",
     "text": [
      "[2024-05-14T16:26:42.221936+0000][130783][CRITICAL] load failed: module 'synthcity.plugins.generic.plugin_goggle' has no attribute 'plugin'\n",
      "[2024-05-14T16:26:42.223134+0000][130783][CRITICAL] load failed: module 'synthcity.plugins.generic.plugin_goggle' has no attribute 'plugin'\n",
      "[2024-05-14T16:26:42.223514+0000][130783][CRITICAL] module plugin_goggle load failed\n"
     ]
    },
    {
     "name": "stdout",
     "output_type": "stream",
     "text": [
      "Fitting ddpm covariate model\n"
     ]
    },
    {
     "name": "stderr",
     "output_type": "stream",
     "text": [
      "Epoch: 100%|██████████| 1000/1000 [02:40<00:00,  6.23it/s, loss=0.747]\n"
     ]
    },
    {
     "name": "stdout",
     "output_type": "stream",
     "text": [
      "Generating ddpm synthetic covariates\n",
      "Fitting propensity model\n",
      "Generating propensities\n",
      "Fitting CATE learner\n",
      "Generating POs\n"
     ]
    },
    {
     "name": "stderr",
     "output_type": "stream",
     "text": [
      "[2024-05-14T16:40:54.470380+0000][130783][CRITICAL] load failed: module 'synthcity.plugins.generic.plugin_goggle' has no attribute 'plugin'\n",
      "[2024-05-14T16:40:54.474044+0000][130783][CRITICAL] load failed: module 'synthcity.plugins.generic.plugin_goggle' has no attribute 'plugin'\n",
      "[2024-05-14T16:40:54.474709+0000][130783][CRITICAL] module plugin_goggle load failed\n"
     ]
    },
    {
     "name": "stdout",
     "output_type": "stream",
     "text": [
      "Fitting ddpm model\n"
     ]
    },
    {
     "name": "stderr",
     "output_type": "stream",
     "text": [
      "Epoch: 100%|██████████| 1000/1000 [02:47<00:00,  5.98it/s, loss=0.785]\n"
     ]
    },
    {
     "name": "stdout",
     "output_type": "stream",
     "text": [
      "Generating ddpm synthetic dataset\n"
     ]
    },
    {
     "name": "stderr",
     "output_type": "stream",
     "text": [
      "[2024-05-14T16:44:59.999545+0000][130783][CRITICAL] load failed: module 'synthcity.plugins.generic.plugin_goggle' has no attribute 'plugin'\n",
      "[2024-05-14T16:45:00.000921+0000][130783][CRITICAL] load failed: module 'synthcity.plugins.generic.plugin_goggle' has no attribute 'plugin'\n",
      "[2024-05-14T16:45:00.001487+0000][130783][CRITICAL] module plugin_goggle load failed\n"
     ]
    },
    {
     "name": "stdout",
     "output_type": "stream",
     "text": [
      "Fitting ddpm covariate model\n"
     ]
    },
    {
     "name": "stderr",
     "output_type": "stream",
     "text": [
      "Epoch: 100%|██████████| 1000/1000 [02:45<00:00,  6.03it/s, loss=0.748]\n"
     ]
    },
    {
     "name": "stdout",
     "output_type": "stream",
     "text": [
      "Generating ddpm synthetic covariates\n",
      "Fitting propensity model\n",
      "Generating propensities\n",
      "Fitting CATE learner\n",
      "Generating POs\n"
     ]
    },
    {
     "name": "stderr",
     "output_type": "stream",
     "text": [
      "[2024-05-14T16:58:34.021500+0000][130783][CRITICAL] load failed: module 'synthcity.plugins.generic.plugin_goggle' has no attribute 'plugin'\n",
      "[2024-05-14T16:58:34.024979+0000][130783][CRITICAL] load failed: module 'synthcity.plugins.generic.plugin_goggle' has no attribute 'plugin'\n",
      "[2024-05-14T16:58:34.025642+0000][130783][CRITICAL] module plugin_goggle load failed\n"
     ]
    },
    {
     "name": "stdout",
     "output_type": "stream",
     "text": [
      "Fitting ddpm model\n"
     ]
    },
    {
     "name": "stderr",
     "output_type": "stream",
     "text": [
      "Epoch: 100%|██████████| 1000/1000 [02:43<00:00,  6.13it/s, loss=0.75]\n"
     ]
    },
    {
     "name": "stdout",
     "output_type": "stream",
     "text": [
      "Generating ddpm synthetic dataset\n"
     ]
    },
    {
     "name": "stderr",
     "output_type": "stream",
     "text": [
      "[2024-05-14T17:02:36.098963+0000][130783][CRITICAL] load failed: module 'synthcity.plugins.generic.plugin_goggle' has no attribute 'plugin'\n",
      "[2024-05-14T17:02:36.099993+0000][130783][CRITICAL] load failed: module 'synthcity.plugins.generic.plugin_goggle' has no attribute 'plugin'\n",
      "[2024-05-14T17:02:36.100308+0000][130783][CRITICAL] module plugin_goggle load failed\n"
     ]
    },
    {
     "name": "stdout",
     "output_type": "stream",
     "text": [
      "Fitting ddpm covariate model\n"
     ]
    },
    {
     "name": "stderr",
     "output_type": "stream",
     "text": [
      "Epoch: 100%|██████████| 1000/1000 [02:40<00:00,  6.23it/s, loss=0.751]\n"
     ]
    },
    {
     "name": "stdout",
     "output_type": "stream",
     "text": [
      "Generating ddpm synthetic covariates\n",
      "Fitting propensity model\n",
      "Generating propensities\n",
      "Fitting CATE learner\n",
      "Generating POs\n"
     ]
    },
    {
     "name": "stderr",
     "output_type": "stream",
     "text": [
      "[2024-05-14T17:16:14.962675+0000][130783][CRITICAL] load failed: module 'synthcity.plugins.generic.plugin_goggle' has no attribute 'plugin'\n",
      "[2024-05-14T17:16:14.966001+0000][130783][CRITICAL] load failed: module 'synthcity.plugins.generic.plugin_goggle' has no attribute 'plugin'\n",
      "[2024-05-14T17:16:14.966546+0000][130783][CRITICAL] module plugin_goggle load failed\n"
     ]
    },
    {
     "name": "stdout",
     "output_type": "stream",
     "text": [
      "Fitting ddpm model\n"
     ]
    },
    {
     "name": "stderr",
     "output_type": "stream",
     "text": [
      "Epoch: 100%|██████████| 1000/1000 [02:46<00:00,  6.02it/s, loss=0.739]\n"
     ]
    },
    {
     "name": "stdout",
     "output_type": "stream",
     "text": [
      "Generating ddpm synthetic dataset\n"
     ]
    },
    {
     "name": "stderr",
     "output_type": "stream",
     "text": [
      "[2024-05-14T17:20:19.529456+0000][130783][CRITICAL] load failed: module 'synthcity.plugins.generic.plugin_goggle' has no attribute 'plugin'\n",
      "[2024-05-14T17:20:19.530593+0000][130783][CRITICAL] load failed: module 'synthcity.plugins.generic.plugin_goggle' has no attribute 'plugin'\n",
      "[2024-05-14T17:20:19.531086+0000][130783][CRITICAL] module plugin_goggle load failed\n"
     ]
    },
    {
     "name": "stdout",
     "output_type": "stream",
     "text": [
      "Fitting ddpm covariate model\n"
     ]
    },
    {
     "name": "stderr",
     "output_type": "stream",
     "text": [
      "Epoch: 100%|██████████| 1000/1000 [02:43<00:00,  6.13it/s, loss=0.746]\n"
     ]
    },
    {
     "name": "stdout",
     "output_type": "stream",
     "text": [
      "Generating ddpm synthetic covariates\n",
      "Fitting propensity model\n",
      "Generating propensities\n",
      "Fitting CATE learner\n",
      "Generating POs\n"
     ]
    },
    {
     "name": "stderr",
     "output_type": "stream",
     "text": [
      "[2024-05-14T17:34:45.793291+0000][130783][CRITICAL] load failed: module 'synthcity.plugins.generic.plugin_goggle' has no attribute 'plugin'\n",
      "[2024-05-14T17:34:45.796865+0000][130783][CRITICAL] load failed: module 'synthcity.plugins.generic.plugin_goggle' has no attribute 'plugin'\n",
      "[2024-05-14T17:34:45.797782+0000][130783][CRITICAL] module plugin_goggle load failed\n"
     ]
    },
    {
     "name": "stdout",
     "output_type": "stream",
     "text": [
      "Fitting ddpm model\n"
     ]
    },
    {
     "name": "stderr",
     "output_type": "stream",
     "text": [
      "Epoch: 100%|██████████| 1000/1000 [02:42<00:00,  6.14it/s, loss=0.74]\n"
     ]
    },
    {
     "name": "stdout",
     "output_type": "stream",
     "text": [
      "Generating ddpm synthetic dataset\n"
     ]
    },
    {
     "name": "stderr",
     "output_type": "stream",
     "text": [
      "[2024-05-14T17:38:47.228844+0000][130783][CRITICAL] load failed: module 'synthcity.plugins.generic.plugin_goggle' has no attribute 'plugin'\n",
      "[2024-05-14T17:38:47.229782+0000][130783][CRITICAL] load failed: module 'synthcity.plugins.generic.plugin_goggle' has no attribute 'plugin'\n",
      "[2024-05-14T17:38:47.230180+0000][130783][CRITICAL] module plugin_goggle load failed\n"
     ]
    },
    {
     "name": "stdout",
     "output_type": "stream",
     "text": [
      "Fitting ddpm covariate model\n"
     ]
    },
    {
     "name": "stderr",
     "output_type": "stream",
     "text": [
      "Epoch: 100%|██████████| 1000/1000 [02:41<00:00,  6.17it/s, loss=0.738]\n"
     ]
    },
    {
     "name": "stdout",
     "output_type": "stream",
     "text": [
      "Generating ddpm synthetic covariates\n",
      "Fitting propensity model\n",
      "Generating propensities\n",
      "Fitting CATE learner\n",
      "Generating POs\n"
     ]
    }
   ],
   "source": [
    "results = seq_test(acic_encoded, 'ddpm', 'z', 'y', 5, save=True, fp='acic_sequential_vs_standard_ddpm_2.csv')"
   ]
  },
  {
   "cell_type": "code",
   "execution_count": 280,
   "id": "b9e34bcc",
   "metadata": {},
   "outputs": [
    {
     "name": "stderr",
     "output_type": "stream",
     "text": [
      "[2024-05-14T17:53:25.474583+0000][130783][CRITICAL] load failed: module 'synthcity.plugins.generic.plugin_goggle' has no attribute 'plugin'\n",
      "[2024-05-14T17:53:25.475588+0000][130783][CRITICAL] load failed: module 'synthcity.plugins.generic.plugin_goggle' has no attribute 'plugin'\n",
      "[2024-05-14T17:53:25.475924+0000][130783][CRITICAL] module plugin_goggle load failed\n"
     ]
    },
    {
     "name": "stdout",
     "output_type": "stream",
     "text": [
      "Fitting tvae model\n"
     ]
    },
    {
     "name": "stderr",
     "output_type": "stream",
     "text": [
      " 30%|███       | 300/1000 [05:48<13:32,  1.16s/it]\n"
     ]
    },
    {
     "name": "stdout",
     "output_type": "stream",
     "text": [
      "Generating tvae synthetic dataset\n"
     ]
    },
    {
     "name": "stderr",
     "output_type": "stream",
     "text": [
      "[2024-05-14T17:59:24.810587+0000][130783][CRITICAL] load failed: module 'synthcity.plugins.generic.plugin_goggle' has no attribute 'plugin'\n",
      "[2024-05-14T17:59:24.811321+0000][130783][CRITICAL] load failed: module 'synthcity.plugins.generic.plugin_goggle' has no attribute 'plugin'\n",
      "[2024-05-14T17:59:24.811752+0000][130783][CRITICAL] module plugin_goggle load failed\n"
     ]
    },
    {
     "name": "stdout",
     "output_type": "stream",
     "text": [
      "Fitting tvae covariate model\n"
     ]
    },
    {
     "name": "stderr",
     "output_type": "stream",
     "text": [
      " 30%|███       | 300/1000 [05:45<13:26,  1.15s/it]\n"
     ]
    },
    {
     "name": "stdout",
     "output_type": "stream",
     "text": [
      "Generating tvae synthetic covariates\n",
      "Fitting propensity model\n",
      "Generating propensities\n",
      "Fitting CATE learner\n",
      "Generating POs\n"
     ]
    },
    {
     "name": "stderr",
     "output_type": "stream",
     "text": [
      "[2024-05-14T18:14:32.906989+0000][130783][CRITICAL] load failed: module 'synthcity.plugins.generic.plugin_goggle' has no attribute 'plugin'\n",
      "[2024-05-14T18:14:32.910364+0000][130783][CRITICAL] load failed: module 'synthcity.plugins.generic.plugin_goggle' has no attribute 'plugin'\n",
      "[2024-05-14T18:14:32.911394+0000][130783][CRITICAL] module plugin_goggle load failed\n"
     ]
    },
    {
     "name": "stdout",
     "output_type": "stream",
     "text": [
      "Fitting tvae model\n"
     ]
    },
    {
     "name": "stderr",
     "output_type": "stream",
     "text": [
      " 30%|███       | 300/1000 [05:42<13:19,  1.14s/it]\n"
     ]
    },
    {
     "name": "stdout",
     "output_type": "stream",
     "text": [
      "Generating tvae synthetic dataset\n"
     ]
    },
    {
     "name": "stderr",
     "output_type": "stream",
     "text": [
      "[2024-05-14T18:20:26.944243+0000][130783][CRITICAL] load failed: module 'synthcity.plugins.generic.plugin_goggle' has no attribute 'plugin'\n",
      "[2024-05-14T18:20:26.945028+0000][130783][CRITICAL] load failed: module 'synthcity.plugins.generic.plugin_goggle' has no attribute 'plugin'\n",
      "[2024-05-14T18:20:26.945463+0000][130783][CRITICAL] module plugin_goggle load failed\n"
     ]
    },
    {
     "name": "stdout",
     "output_type": "stream",
     "text": [
      "Fitting tvae covariate model\n"
     ]
    },
    {
     "name": "stderr",
     "output_type": "stream",
     "text": [
      " 30%|███       | 300/1000 [05:31<12:53,  1.11s/it]\n"
     ]
    },
    {
     "name": "stdout",
     "output_type": "stream",
     "text": [
      "Generating tvae synthetic covariates\n",
      "Fitting propensity model\n",
      "Generating propensities\n",
      "Fitting CATE learner\n",
      "Generating POs\n"
     ]
    },
    {
     "name": "stderr",
     "output_type": "stream",
     "text": [
      "[2024-05-14T18:35:09.160791+0000][130783][CRITICAL] load failed: module 'synthcity.plugins.generic.plugin_goggle' has no attribute 'plugin'\n",
      "[2024-05-14T18:35:09.161526+0000][130783][CRITICAL] load failed: module 'synthcity.plugins.generic.plugin_goggle' has no attribute 'plugin'\n",
      "[2024-05-14T18:35:09.162122+0000][130783][CRITICAL] module plugin_goggle load failed\n"
     ]
    },
    {
     "name": "stdout",
     "output_type": "stream",
     "text": [
      "Fitting tvae model\n"
     ]
    },
    {
     "name": "stderr",
     "output_type": "stream",
     "text": [
      " 30%|███       | 300/1000 [05:48<13:32,  1.16s/it]\n"
     ]
    },
    {
     "name": "stdout",
     "output_type": "stream",
     "text": [
      "Generating tvae synthetic dataset\n"
     ]
    },
    {
     "name": "stderr",
     "output_type": "stream",
     "text": [
      "[2024-05-14T18:41:08.111344+0000][130783][CRITICAL] load failed: module 'synthcity.plugins.generic.plugin_goggle' has no attribute 'plugin'\n",
      "[2024-05-14T18:41:08.112165+0000][130783][CRITICAL] load failed: module 'synthcity.plugins.generic.plugin_goggle' has no attribute 'plugin'\n",
      "[2024-05-14T18:41:08.112659+0000][130783][CRITICAL] module plugin_goggle load failed\n"
     ]
    },
    {
     "name": "stdout",
     "output_type": "stream",
     "text": [
      "Fitting tvae covariate model\n"
     ]
    },
    {
     "name": "stderr",
     "output_type": "stream",
     "text": [
      " 30%|███       | 300/1000 [05:52<13:42,  1.17s/it]\n"
     ]
    },
    {
     "name": "stdout",
     "output_type": "stream",
     "text": [
      "Generating tvae synthetic covariates\n",
      "Fitting propensity model\n",
      "Generating propensities\n",
      "Fitting CATE learner\n",
      "Generating POs\n"
     ]
    },
    {
     "name": "stderr",
     "output_type": "stream",
     "text": [
      "[2024-05-14T18:56:26.188077+0000][130783][CRITICAL] load failed: module 'synthcity.plugins.generic.plugin_goggle' has no attribute 'plugin'\n",
      "[2024-05-14T18:56:26.190400+0000][130783][CRITICAL] load failed: module 'synthcity.plugins.generic.plugin_goggle' has no attribute 'plugin'\n",
      "[2024-05-14T18:56:26.190933+0000][130783][CRITICAL] module plugin_goggle load failed\n"
     ]
    },
    {
     "name": "stdout",
     "output_type": "stream",
     "text": [
      "Fitting tvae model\n"
     ]
    },
    {
     "name": "stderr",
     "output_type": "stream",
     "text": [
      " 30%|███       | 300/1000 [05:53<13:45,  1.18s/it]\n"
     ]
    },
    {
     "name": "stdout",
     "output_type": "stream",
     "text": [
      "Generating tvae synthetic dataset\n"
     ]
    },
    {
     "name": "stderr",
     "output_type": "stream",
     "text": [
      "[2024-05-14T19:02:31.058313+0000][130783][CRITICAL] load failed: module 'synthcity.plugins.generic.plugin_goggle' has no attribute 'plugin'\n",
      "[2024-05-14T19:02:31.059143+0000][130783][CRITICAL] load failed: module 'synthcity.plugins.generic.plugin_goggle' has no attribute 'plugin'\n",
      "[2024-05-14T19:02:31.059588+0000][130783][CRITICAL] module plugin_goggle load failed\n"
     ]
    },
    {
     "name": "stdout",
     "output_type": "stream",
     "text": [
      "Fitting tvae covariate model\n"
     ]
    },
    {
     "name": "stderr",
     "output_type": "stream",
     "text": [
      " 30%|███       | 300/1000 [05:48<13:33,  1.16s/it]\n"
     ]
    },
    {
     "name": "stdout",
     "output_type": "stream",
     "text": [
      "Generating tvae synthetic covariates\n",
      "Fitting propensity model\n",
      "Generating propensities\n",
      "Fitting CATE learner\n",
      "Generating POs\n"
     ]
    },
    {
     "name": "stderr",
     "output_type": "stream",
     "text": [
      "[2024-05-14T19:17:52.107124+0000][130783][CRITICAL] load failed: module 'synthcity.plugins.generic.plugin_goggle' has no attribute 'plugin'\n",
      "[2024-05-14T19:17:52.107858+0000][130783][CRITICAL] load failed: module 'synthcity.plugins.generic.plugin_goggle' has no attribute 'plugin'\n",
      "[2024-05-14T19:17:52.108239+0000][130783][CRITICAL] module plugin_goggle load failed\n"
     ]
    },
    {
     "name": "stdout",
     "output_type": "stream",
     "text": [
      "Fitting tvae model\n"
     ]
    },
    {
     "name": "stderr",
     "output_type": "stream",
     "text": [
      " 30%|███       | 300/1000 [06:02<14:05,  1.21s/it]\n"
     ]
    },
    {
     "name": "stdout",
     "output_type": "stream",
     "text": [
      "Generating tvae synthetic dataset\n"
     ]
    },
    {
     "name": "stderr",
     "output_type": "stream",
     "text": [
      "[2024-05-14T19:24:06.049872+0000][130783][CRITICAL] load failed: module 'synthcity.plugins.generic.plugin_goggle' has no attribute 'plugin'\n",
      "[2024-05-14T19:24:06.051048+0000][130783][CRITICAL] load failed: module 'synthcity.plugins.generic.plugin_goggle' has no attribute 'plugin'\n",
      "[2024-05-14T19:24:06.051656+0000][130783][CRITICAL] module plugin_goggle load failed\n"
     ]
    },
    {
     "name": "stdout",
     "output_type": "stream",
     "text": [
      "Fitting tvae covariate model\n"
     ]
    },
    {
     "name": "stderr",
     "output_type": "stream",
     "text": [
      " 35%|███▌      | 350/1000 [06:55<12:52,  1.19s/it]\n"
     ]
    },
    {
     "name": "stdout",
     "output_type": "stream",
     "text": [
      "Generating tvae synthetic covariates\n",
      "Fitting propensity model\n",
      "Generating propensities\n",
      "Fitting CATE learner\n",
      "Generating POs\n"
     ]
    }
   ],
   "source": [
    "results_tvae = seq_test(acic_encoded, 'tvae', 'z', 'y', 5, save=True, fp='acic_sequential_vs_standard_tvae_2.csv')"
   ]
  },
  {
   "cell_type": "code",
   "execution_count": 281,
   "id": "faab479e",
   "metadata": {},
   "outputs": [
    {
     "name": "stderr",
     "output_type": "stream",
     "text": [
      "[2024-05-14T19:40:23.508943+0000][130783][CRITICAL] load failed: module 'synthcity.plugins.generic.plugin_goggle' has no attribute 'plugin'\n",
      "[2024-05-14T19:40:23.510301+0000][130783][CRITICAL] load failed: module 'synthcity.plugins.generic.plugin_goggle' has no attribute 'plugin'\n",
      "[2024-05-14T19:40:23.510715+0000][130783][CRITICAL] module plugin_goggle load failed\n"
     ]
    },
    {
     "name": "stdout",
     "output_type": "stream",
     "text": [
      "Fitting ctgan model\n"
     ]
    },
    {
     "name": "stderr",
     "output_type": "stream",
     "text": [
      " 35%|███▍      | 699/2000 [15:36<29:02,  1.34s/it]  \n"
     ]
    },
    {
     "name": "stdout",
     "output_type": "stream",
     "text": [
      "Generating ctgan synthetic dataset\n"
     ]
    },
    {
     "name": "stderr",
     "output_type": "stream",
     "text": [
      "[2024-05-14T19:56:11.434570+0000][130783][CRITICAL] load failed: module 'synthcity.plugins.generic.plugin_goggle' has no attribute 'plugin'\n",
      "[2024-05-14T19:56:11.435336+0000][130783][CRITICAL] load failed: module 'synthcity.plugins.generic.plugin_goggle' has no attribute 'plugin'\n",
      "[2024-05-14T19:56:11.435817+0000][130783][CRITICAL] module plugin_goggle load failed\n"
     ]
    },
    {
     "name": "stdout",
     "output_type": "stream",
     "text": [
      "Fitting ctgan covariate model\n"
     ]
    },
    {
     "name": "stderr",
     "output_type": "stream",
     "text": [
      " 42%|████▏     | 849/2000 [19:07<25:55,  1.35s/it]  \n"
     ]
    },
    {
     "name": "stdout",
     "output_type": "stream",
     "text": [
      "Generating ctgan synthetic covariates\n",
      "Fitting propensity model\n",
      "Generating propensities\n",
      "Fitting CATE learner\n",
      "Generating POs\n"
     ]
    },
    {
     "name": "stderr",
     "output_type": "stream",
     "text": [
      "[2024-05-14T20:24:43.678059+0000][130783][CRITICAL] load failed: module 'synthcity.plugins.generic.plugin_goggle' has no attribute 'plugin'\n",
      "[2024-05-14T20:24:43.681740+0000][130783][CRITICAL] load failed: module 'synthcity.plugins.generic.plugin_goggle' has no attribute 'plugin'\n",
      "[2024-05-14T20:24:43.682186+0000][130783][CRITICAL] module plugin_goggle load failed\n"
     ]
    },
    {
     "name": "stdout",
     "output_type": "stream",
     "text": [
      "Fitting ctgan model\n"
     ]
    },
    {
     "name": "stderr",
     "output_type": "stream",
     "text": [
      " 30%|██▉       | 599/2000 [13:42<32:04,  1.37s/it]  \n"
     ]
    },
    {
     "name": "stdout",
     "output_type": "stream",
     "text": [
      "Generating ctgan synthetic dataset\n"
     ]
    },
    {
     "name": "stderr",
     "output_type": "stream",
     "text": [
      "[2024-05-14T20:38:37.597752+0000][130783][CRITICAL] load failed: module 'synthcity.plugins.generic.plugin_goggle' has no attribute 'plugin'\n",
      "[2024-05-14T20:38:37.598656+0000][130783][CRITICAL] load failed: module 'synthcity.plugins.generic.plugin_goggle' has no attribute 'plugin'\n",
      "[2024-05-14T20:38:37.599162+0000][130783][CRITICAL] module plugin_goggle load failed\n"
     ]
    },
    {
     "name": "stdout",
     "output_type": "stream",
     "text": [
      "Fitting ctgan covariate model\n"
     ]
    },
    {
     "name": "stderr",
     "output_type": "stream",
     "text": [
      " 50%|████▉     | 999/2000 [22:19<22:21,  1.34s/it]  \n"
     ]
    },
    {
     "name": "stdout",
     "output_type": "stream",
     "text": [
      "Generating ctgan synthetic covariates\n",
      "Fitting propensity model\n",
      "Generating propensities\n",
      "Fitting CATE learner\n",
      "Generating POs\n"
     ]
    },
    {
     "name": "stderr",
     "output_type": "stream",
     "text": [
      "[2024-05-14T21:10:05.574534+0000][130783][CRITICAL] load failed: module 'synthcity.plugins.generic.plugin_goggle' has no attribute 'plugin'\n",
      "[2024-05-14T21:10:05.576722+0000][130783][CRITICAL] load failed: module 'synthcity.plugins.generic.plugin_goggle' has no attribute 'plugin'\n",
      "[2024-05-14T21:10:05.577739+0000][130783][CRITICAL] module plugin_goggle load failed\n"
     ]
    },
    {
     "name": "stdout",
     "output_type": "stream",
     "text": [
      "Fitting ctgan model\n"
     ]
    },
    {
     "name": "stderr",
     "output_type": "stream",
     "text": [
      " 37%|███▋      | 749/2000 [16:52<28:11,  1.35s/it]  \n"
     ]
    },
    {
     "name": "stdout",
     "output_type": "stream",
     "text": [
      "Generating ctgan synthetic dataset\n"
     ]
    },
    {
     "name": "stderr",
     "output_type": "stream",
     "text": [
      "[2024-05-14T21:27:09.924588+0000][130783][CRITICAL] load failed: module 'synthcity.plugins.generic.plugin_goggle' has no attribute 'plugin'\n",
      "[2024-05-14T21:27:09.925269+0000][130783][CRITICAL] load failed: module 'synthcity.plugins.generic.plugin_goggle' has no attribute 'plugin'\n",
      "[2024-05-14T21:27:09.925716+0000][130783][CRITICAL] module plugin_goggle load failed\n"
     ]
    },
    {
     "name": "stdout",
     "output_type": "stream",
     "text": [
      "Fitting ctgan covariate model\n"
     ]
    },
    {
     "name": "stderr",
     "output_type": "stream",
     "text": [
      " 52%|█████▏    | 1049/2000 [22:33<20:27,  1.29s/it] \n"
     ]
    },
    {
     "name": "stdout",
     "output_type": "stream",
     "text": [
      "Generating ctgan synthetic covariates\n",
      "Fitting propensity model\n",
      "Generating propensities\n",
      "Fitting CATE learner\n",
      "Generating POs\n"
     ]
    },
    {
     "name": "stderr",
     "output_type": "stream",
     "text": [
      "[2024-05-14T21:59:02.942601+0000][130783][CRITICAL] load failed: module 'synthcity.plugins.generic.plugin_goggle' has no attribute 'plugin'\n",
      "[2024-05-14T21:59:02.946995+0000][130783][CRITICAL] load failed: module 'synthcity.plugins.generic.plugin_goggle' has no attribute 'plugin'\n",
      "[2024-05-14T21:59:02.947665+0000][130783][CRITICAL] module plugin_goggle load failed\n"
     ]
    },
    {
     "name": "stdout",
     "output_type": "stream",
     "text": [
      "Fitting ctgan model\n"
     ]
    },
    {
     "name": "stderr",
     "output_type": "stream",
     "text": [
      " 40%|███▉      | 799/2000 [17:35<26:25,  1.32s/it]  \n"
     ]
    },
    {
     "name": "stdout",
     "output_type": "stream",
     "text": [
      "Generating ctgan synthetic dataset\n"
     ]
    },
    {
     "name": "stderr",
     "output_type": "stream",
     "text": [
      "[2024-05-14T22:16:49.147685+0000][130783][CRITICAL] load failed: module 'synthcity.plugins.generic.plugin_goggle' has no attribute 'plugin'\n",
      "[2024-05-14T22:16:49.148376+0000][130783][CRITICAL] load failed: module 'synthcity.plugins.generic.plugin_goggle' has no attribute 'plugin'\n",
      "[2024-05-14T22:16:49.148730+0000][130783][CRITICAL] module plugin_goggle load failed\n"
     ]
    },
    {
     "name": "stdout",
     "output_type": "stream",
     "text": [
      "Fitting ctgan covariate model\n"
     ]
    },
    {
     "name": "stderr",
     "output_type": "stream",
     "text": [
      " 57%|█████▋    | 1149/2000 [25:22<18:47,  1.32s/it] \n"
     ]
    },
    {
     "name": "stdout",
     "output_type": "stream",
     "text": [
      "Generating ctgan synthetic covariates\n",
      "Fitting propensity model\n",
      "Generating propensities\n",
      "Fitting CATE learner\n",
      "Generating POs\n"
     ]
    },
    {
     "name": "stderr",
     "output_type": "stream",
     "text": [
      "[2024-05-14T22:51:40.641786+0000][130783][CRITICAL] load failed: module 'synthcity.plugins.generic.plugin_goggle' has no attribute 'plugin'\n",
      "[2024-05-14T22:51:40.642833+0000][130783][CRITICAL] load failed: module 'synthcity.plugins.generic.plugin_goggle' has no attribute 'plugin'\n",
      "[2024-05-14T22:51:40.643284+0000][130783][CRITICAL] module plugin_goggle load failed\n"
     ]
    },
    {
     "name": "stdout",
     "output_type": "stream",
     "text": [
      "Fitting ctgan model\n"
     ]
    },
    {
     "name": "stderr",
     "output_type": "stream",
     "text": [
      " 27%|██▋       | 549/2000 [12:34<33:14,  1.37s/it]  \n"
     ]
    },
    {
     "name": "stdout",
     "output_type": "stream",
     "text": [
      "Generating ctgan synthetic dataset\n"
     ]
    },
    {
     "name": "stderr",
     "output_type": "stream",
     "text": [
      "[2024-05-14T23:04:26.737249+0000][130783][CRITICAL] load failed: module 'synthcity.plugins.generic.plugin_goggle' has no attribute 'plugin'\n",
      "[2024-05-14T23:04:26.738261+0000][130783][CRITICAL] load failed: module 'synthcity.plugins.generic.plugin_goggle' has no attribute 'plugin'\n",
      "[2024-05-14T23:04:26.738957+0000][130783][CRITICAL] module plugin_goggle load failed\n"
     ]
    },
    {
     "name": "stdout",
     "output_type": "stream",
     "text": [
      "Fitting ctgan covariate model\n"
     ]
    },
    {
     "name": "stderr",
     "output_type": "stream",
     "text": [
      " 15%|█▍        | 299/2000 [06:47<38:37,  1.36s/it]  \n"
     ]
    },
    {
     "name": "stdout",
     "output_type": "stream",
     "text": [
      "Generating ctgan synthetic covariates\n",
      "Fitting propensity model\n",
      "Generating propensities\n",
      "Fitting CATE learner\n",
      "Generating POs\n"
     ]
    }
   ],
   "source": [
    "results_ctgan = seq_test(acic_encoded, 'ctgan', 'z', 'y', 5, save=True, fp='acic_sequential_vs_standard_ctgan_2.csv')"
   ]
  },
  {
   "cell_type": "code",
   "execution_count": 98,
   "id": "a5523eec",
   "metadata": {},
   "outputs": [],
   "source": [
    "results = pd.read_csv('acic_sequential_vs_standard_tvae_avg.csv')"
   ]
  },
  {
   "cell_type": "code",
   "execution_count": 101,
   "id": "7b387d7d",
   "metadata": {},
   "outputs": [
    {
     "data": {
      "text/html": [
       "<div>\n",
       "<style scoped>\n",
       "    .dataframe tbody tr th:only-of-type {\n",
       "        vertical-align: middle;\n",
       "    }\n",
       "\n",
       "    .dataframe tbody tr th {\n",
       "        vertical-align: top;\n",
       "    }\n",
       "\n",
       "    .dataframe thead th {\n",
       "        text-align: right;\n",
       "    }\n",
       "</style>\n",
       "<table border=\"1\" class=\"dataframe\">\n",
       "  <thead>\n",
       "    <tr style=\"text-align: right;\">\n",
       "      <th></th>\n",
       "      <th>f</th>\n",
       "      <th>c</th>\n",
       "      <th>d</th>\n",
       "      <th>u_pehe</th>\n",
       "      <th>u_policy</th>\n",
       "      <th>u_int</th>\n",
       "    </tr>\n",
       "    <tr>\n",
       "      <th>method</th>\n",
       "      <th></th>\n",
       "      <th></th>\n",
       "      <th></th>\n",
       "      <th></th>\n",
       "      <th></th>\n",
       "      <th></th>\n",
       "    </tr>\n",
       "  </thead>\n",
       "  <tbody>\n",
       "    <tr>\n",
       "      <th>seq_new</th>\n",
       "      <td>0.758701</td>\n",
       "      <td>0.515838</td>\n",
       "      <td>0.963163</td>\n",
       "      <td>2.162760</td>\n",
       "      <td>0.964792</td>\n",
       "      <td>-0.156712</td>\n",
       "    </tr>\n",
       "    <tr>\n",
       "      <th>standard</th>\n",
       "      <td>0.781902</td>\n",
       "      <td>0.518853</td>\n",
       "      <td>0.922269</td>\n",
       "      <td>4.047876</td>\n",
       "      <td>0.633125</td>\n",
       "      <td>-0.030681</td>\n",
       "    </tr>\n",
       "  </tbody>\n",
       "</table>\n",
       "</div>"
      ],
      "text/plain": [
       "                 f         c         d    u_pehe  u_policy     u_int\n",
       "method                                                              \n",
       "seq_new   0.758701  0.515838  0.963163  2.162760  0.964792 -0.156712\n",
       "standard  0.781902  0.518853  0.922269  4.047876  0.633125 -0.030681"
      ]
     },
     "execution_count": 101,
     "metadata": {},
     "output_type": "execute_result"
    }
   ],
   "source": [
    "results.groupby('method').mean()"
   ]
  },
  {
   "cell_type": "code",
   "execution_count": 102,
   "id": "2ae2c38b",
   "metadata": {},
   "outputs": [
    {
     "data": {
      "text/html": [
       "<div>\n",
       "<style scoped>\n",
       "    .dataframe tbody tr th:only-of-type {\n",
       "        vertical-align: middle;\n",
       "    }\n",
       "\n",
       "    .dataframe tbody tr th {\n",
       "        vertical-align: top;\n",
       "    }\n",
       "\n",
       "    .dataframe thead th {\n",
       "        text-align: right;\n",
       "    }\n",
       "</style>\n",
       "<table border=\"1\" class=\"dataframe\">\n",
       "  <thead>\n",
       "    <tr style=\"text-align: right;\">\n",
       "      <th></th>\n",
       "      <th>f</th>\n",
       "      <th>c</th>\n",
       "      <th>d</th>\n",
       "      <th>u_pehe</th>\n",
       "      <th>u_policy</th>\n",
       "      <th>u_int</th>\n",
       "    </tr>\n",
       "    <tr>\n",
       "      <th>method</th>\n",
       "      <th></th>\n",
       "      <th></th>\n",
       "      <th></th>\n",
       "      <th></th>\n",
       "      <th></th>\n",
       "      <th></th>\n",
       "    </tr>\n",
       "  </thead>\n",
       "  <tbody>\n",
       "    <tr>\n",
       "      <th>seq_new</th>\n",
       "      <td>0.014389</td>\n",
       "      <td>0.007743</td>\n",
       "      <td>0.005599</td>\n",
       "      <td>0.251443</td>\n",
       "      <td>0.004584</td>\n",
       "      <td>0.147712</td>\n",
       "    </tr>\n",
       "    <tr>\n",
       "      <th>standard</th>\n",
       "      <td>0.022983</td>\n",
       "      <td>0.012270</td>\n",
       "      <td>0.009513</td>\n",
       "      <td>0.098481</td>\n",
       "      <td>0.075180</td>\n",
       "      <td>0.161490</td>\n",
       "    </tr>\n",
       "  </tbody>\n",
       "</table>\n",
       "</div>"
      ],
      "text/plain": [
       "                 f         c         d    u_pehe  u_policy     u_int\n",
       "method                                                              \n",
       "seq_new   0.014389  0.007743  0.005599  0.251443  0.004584  0.147712\n",
       "standard  0.022983  0.012270  0.009513  0.098481  0.075180  0.161490"
      ]
     },
     "execution_count": 102,
     "metadata": {},
     "output_type": "execute_result"
    }
   ],
   "source": [
    "results.groupby('method').std() / np.sqrt(5) * 1.96"
   ]
  },
  {
   "cell_type": "code",
   "execution_count": 188,
   "id": "4e856ca2",
   "metadata": {},
   "outputs": [
    {
     "data": {
      "text/html": [
       "<div>\n",
       "<style scoped>\n",
       "    .dataframe tbody tr th:only-of-type {\n",
       "        vertical-align: middle;\n",
       "    }\n",
       "\n",
       "    .dataframe tbody tr th {\n",
       "        vertical-align: top;\n",
       "    }\n",
       "\n",
       "    .dataframe thead th {\n",
       "        text-align: right;\n",
       "    }\n",
       "</style>\n",
       "<table border=\"1\" class=\"dataframe\">\n",
       "  <thead>\n",
       "    <tr style=\"text-align: right;\">\n",
       "      <th></th>\n",
       "      <th>f</th>\n",
       "      <th>c</th>\n",
       "      <th>d</th>\n",
       "      <th>u_pehe</th>\n",
       "      <th>u_policy</th>\n",
       "      <th>u_int</th>\n",
       "    </tr>\n",
       "    <tr>\n",
       "      <th>method</th>\n",
       "      <th></th>\n",
       "      <th></th>\n",
       "      <th></th>\n",
       "      <th></th>\n",
       "      <th></th>\n",
       "      <th></th>\n",
       "    </tr>\n",
       "  </thead>\n",
       "  <tbody>\n",
       "    <tr>\n",
       "      <th>seq_new</th>\n",
       "      <td>0.758701</td>\n",
       "      <td>0.515838</td>\n",
       "      <td>0.963163</td>\n",
       "      <td>2.162760</td>\n",
       "      <td>0.964792</td>\n",
       "      <td>-0.156712</td>\n",
       "    </tr>\n",
       "    <tr>\n",
       "      <th>standard</th>\n",
       "      <td>0.781902</td>\n",
       "      <td>0.518853</td>\n",
       "      <td>0.922269</td>\n",
       "      <td>4.047876</td>\n",
       "      <td>0.633125</td>\n",
       "      <td>-0.030681</td>\n",
       "    </tr>\n",
       "  </tbody>\n",
       "</table>\n",
       "</div>"
      ],
      "text/plain": [
       "                 f         c         d    u_pehe  u_policy     u_int\n",
       "method                                                              \n",
       "seq_new   0.758701  0.515838  0.963163  2.162760  0.964792 -0.156712\n",
       "standard  0.781902  0.518853  0.922269  4.047876  0.633125 -0.030681"
      ]
     },
     "execution_count": 188,
     "metadata": {},
     "output_type": "execute_result"
    }
   ],
   "source": [
    "results_tvae.groupby('method').mean()"
   ]
  },
  {
   "cell_type": "code",
   "execution_count": 159,
   "id": "19258b0a",
   "metadata": {},
   "outputs": [
    {
     "data": {
      "text/html": [
       "<div>\n",
       "<style scoped>\n",
       "    .dataframe tbody tr th:only-of-type {\n",
       "        vertical-align: middle;\n",
       "    }\n",
       "\n",
       "    .dataframe tbody tr th {\n",
       "        vertical-align: top;\n",
       "    }\n",
       "\n",
       "    .dataframe thead th {\n",
       "        text-align: right;\n",
       "    }\n",
       "</style>\n",
       "<table border=\"1\" class=\"dataframe\">\n",
       "  <thead>\n",
       "    <tr style=\"text-align: right;\">\n",
       "      <th></th>\n",
       "      <th>f</th>\n",
       "      <th>c</th>\n",
       "      <th>d</th>\n",
       "      <th>u_pehe</th>\n",
       "      <th>u_policy</th>\n",
       "      <th>u_int</th>\n",
       "    </tr>\n",
       "    <tr>\n",
       "      <th>method</th>\n",
       "      <th></th>\n",
       "      <th></th>\n",
       "      <th></th>\n",
       "      <th></th>\n",
       "      <th></th>\n",
       "      <th></th>\n",
       "    </tr>\n",
       "  </thead>\n",
       "  <tbody>\n",
       "    <tr>\n",
       "      <th>seq_new</th>\n",
       "      <td>0.016416</td>\n",
       "      <td>0.008833</td>\n",
       "      <td>0.006387</td>\n",
       "      <td>0.286859</td>\n",
       "      <td>0.005229</td>\n",
       "      <td>0.168517</td>\n",
       "    </tr>\n",
       "    <tr>\n",
       "      <th>standard</th>\n",
       "      <td>0.026220</td>\n",
       "      <td>0.013999</td>\n",
       "      <td>0.010853</td>\n",
       "      <td>0.112352</td>\n",
       "      <td>0.085770</td>\n",
       "      <td>0.184236</td>\n",
       "    </tr>\n",
       "  </tbody>\n",
       "</table>\n",
       "</div>"
      ],
      "text/plain": [
       "                 f         c         d    u_pehe  u_policy     u_int\n",
       "method                                                              \n",
       "seq_new   0.016416  0.008833  0.006387  0.286859  0.005229  0.168517\n",
       "standard  0.026220  0.013999  0.010853  0.112352  0.085770  0.184236"
      ]
     },
     "execution_count": 159,
     "metadata": {},
     "output_type": "execute_result"
    }
   ],
   "source": [
    "results_tvae.groupby('method').std()"
   ]
  },
  {
   "cell_type": "code",
   "execution_count": 160,
   "id": "53620580",
   "metadata": {},
   "outputs": [
    {
     "data": {
      "text/html": [
       "<div>\n",
       "<style scoped>\n",
       "    .dataframe tbody tr th:only-of-type {\n",
       "        vertical-align: middle;\n",
       "    }\n",
       "\n",
       "    .dataframe tbody tr th {\n",
       "        vertical-align: top;\n",
       "    }\n",
       "\n",
       "    .dataframe thead th {\n",
       "        text-align: right;\n",
       "    }\n",
       "</style>\n",
       "<table border=\"1\" class=\"dataframe\">\n",
       "  <thead>\n",
       "    <tr style=\"text-align: right;\">\n",
       "      <th></th>\n",
       "      <th>f</th>\n",
       "      <th>c</th>\n",
       "      <th>d</th>\n",
       "      <th>u_pehe</th>\n",
       "      <th>u_policy</th>\n",
       "      <th>u_int</th>\n",
       "    </tr>\n",
       "    <tr>\n",
       "      <th>method</th>\n",
       "      <th></th>\n",
       "      <th></th>\n",
       "      <th></th>\n",
       "      <th></th>\n",
       "      <th></th>\n",
       "      <th></th>\n",
       "    </tr>\n",
       "  </thead>\n",
       "  <tbody>\n",
       "    <tr>\n",
       "      <th>seq_new</th>\n",
       "      <td>0.869298</td>\n",
       "      <td>0.436882</td>\n",
       "      <td>0.967178</td>\n",
       "      <td>2.289130</td>\n",
       "      <td>0.967083</td>\n",
       "      <td>0.199079</td>\n",
       "    </tr>\n",
       "    <tr>\n",
       "      <th>standard</th>\n",
       "      <td>0.877918</td>\n",
       "      <td>0.433569</td>\n",
       "      <td>0.906551</td>\n",
       "      <td>4.450897</td>\n",
       "      <td>0.558750</td>\n",
       "      <td>0.038587</td>\n",
       "    </tr>\n",
       "  </tbody>\n",
       "</table>\n",
       "</div>"
      ],
      "text/plain": [
       "                 f         c         d    u_pehe  u_policy     u_int\n",
       "method                                                              \n",
       "seq_new   0.869298  0.436882  0.967178  2.289130  0.967083  0.199079\n",
       "standard  0.877918  0.433569  0.906551  4.450897  0.558750  0.038587"
      ]
     },
     "execution_count": 160,
     "metadata": {},
     "output_type": "execute_result"
    }
   ],
   "source": [
    "results_ctgan.groupby('method').mean()"
   ]
  },
  {
   "cell_type": "code",
   "execution_count": 161,
   "metadata": {},
   "outputs": [
    {
     "data": {
      "text/html": [
       "<div>\n",
       "<style scoped>\n",
       "    .dataframe tbody tr th:only-of-type {\n",
       "        vertical-align: middle;\n",
       "    }\n",
       "\n",
       "    .dataframe tbody tr th {\n",
       "        vertical-align: top;\n",
       "    }\n",
       "\n",
       "    .dataframe thead th {\n",
       "        text-align: right;\n",
       "    }\n",
       "</style>\n",
       "<table border=\"1\" class=\"dataframe\">\n",
       "  <thead>\n",
       "    <tr style=\"text-align: right;\">\n",
       "      <th></th>\n",
       "      <th>f</th>\n",
       "      <th>c</th>\n",
       "      <th>d</th>\n",
       "      <th>u_pehe</th>\n",
       "      <th>u_policy</th>\n",
       "      <th>u_int</th>\n",
       "    </tr>\n",
       "    <tr>\n",
       "      <th>method</th>\n",
       "      <th></th>\n",
       "      <th></th>\n",
       "      <th></th>\n",
       "      <th></th>\n",
       "      <th></th>\n",
       "      <th></th>\n",
       "    </tr>\n",
       "  </thead>\n",
       "  <tbody>\n",
       "    <tr>\n",
       "      <th>seq_new</th>\n",
       "      <td>0.035122</td>\n",
       "      <td>0.018883</td>\n",
       "      <td>0.005114</td>\n",
       "      <td>0.472164</td>\n",
       "      <td>0.006362</td>\n",
       "      <td>0.407908</td>\n",
       "    </tr>\n",
       "    <tr>\n",
       "      <th>standard</th>\n",
       "      <td>0.042579</td>\n",
       "      <td>0.030014</td>\n",
       "      <td>0.028165</td>\n",
       "      <td>0.439662</td>\n",
       "      <td>0.062168</td>\n",
       "      <td>0.194385</td>\n",
       "    </tr>\n",
       "  </tbody>\n",
       "</table>\n",
       "</div>"
      ],
      "text/plain": [
       "                 f         c         d    u_pehe  u_policy     u_int\n",
       "method                                                              \n",
       "seq_new   0.035122  0.018883  0.005114  0.472164  0.006362  0.407908\n",
       "standard  0.042579  0.030014  0.028165  0.439662  0.062168  0.194385"
      ]
     },
     "execution_count": 161,
     "metadata": {},
     "output_type": "execute_result"
    }
   ],
   "source": [
    "results_ctgan.groupby('method').std()"
   ]
  },
  {
   "cell_type": "markdown",
   "id": "65e703b0",
   "metadata": {},
   "source": [
    "### Insights"
   ]
  },
  {
   "cell_type": "markdown",
   "id": "e1e68dbc",
   "metadata": {},
   "source": [
    "How does altering the size of $D_\\text{real}$ affect the performance difference between standard and sequential generation?"
   ]
  },
  {
   "cell_type": "code",
   "execution_count": 273,
   "id": "8fd88cef",
   "metadata": {},
   "outputs": [],
   "source": [
    "X,y,w,p,t = simulate_treatment_setup(200, d=10, n_o=5, n_t=5)\n",
    "X_df = pd.DataFrame(X)\n",
    "y_df = pd.DataFrame(y, columns = ['y'])\n",
    "w_df = pd.DataFrame(w, columns = ['w'])\n",
    "\n",
    "d_real = pd.concat([X_df,w_df,y_df], axis=1)"
   ]
  },
  {
   "cell_type": "code",
   "execution_count": 274,
   "id": "4cd0c51d",
   "metadata": {},
   "outputs": [
    {
     "name": "stderr",
     "output_type": "stream",
     "text": [
      "[2024-05-03T02:31:39.097615+0000][1207925][CRITICAL] load failed: module 'synthcity.plugins.generic.plugin_goggle' has no attribute 'plugin'\n",
      "[2024-05-03T02:31:39.098649+0000][1207925][CRITICAL] load failed: module 'synthcity.plugins.generic.plugin_goggle' has no attribute 'plugin'\n",
      "[2024-05-03T02:31:39.099041+0000][1207925][CRITICAL] module plugin_goggle load failed\n",
      "Epoch: 100%|██████████| 1000/1000 [00:08<00:00, 122.36it/s, loss=0.989]\n",
      "[2024-05-03T02:31:50.969285+0000][1207925][CRITICAL] load failed: module 'synthcity.plugins.generic.plugin_goggle' has no attribute 'plugin'\n",
      "[2024-05-03T02:31:50.969945+0000][1207925][CRITICAL] load failed: module 'synthcity.plugins.generic.plugin_goggle' has no attribute 'plugin'\n",
      "[2024-05-03T02:31:50.970408+0000][1207925][CRITICAL] module plugin_goggle load failed\n",
      "Epoch: 100%|██████████| 1000/1000 [00:04<00:00, 217.33it/s, loss=0.386]\n",
      "[2024-05-03T02:33:20.888257+0000][1207925][CRITICAL] load failed: module 'synthcity.plugins.generic.plugin_goggle' has no attribute 'plugin'\n",
      "[2024-05-03T02:33:20.889212+0000][1207925][CRITICAL] load failed: module 'synthcity.plugins.generic.plugin_goggle' has no attribute 'plugin'\n",
      "[2024-05-03T02:33:20.889614+0000][1207925][CRITICAL] module plugin_goggle load failed\n",
      "Epoch: 100%|██████████| 1000/1000 [00:08<00:00, 124.81it/s, loss=0.99]\n",
      "[2024-05-03T02:33:32.654215+0000][1207925][CRITICAL] load failed: module 'synthcity.plugins.generic.plugin_goggle' has no attribute 'plugin'\n",
      "[2024-05-03T02:33:32.654891+0000][1207925][CRITICAL] load failed: module 'synthcity.plugins.generic.plugin_goggle' has no attribute 'plugin'\n",
      "[2024-05-03T02:33:32.655213+0000][1207925][CRITICAL] module plugin_goggle load failed\n",
      "Epoch: 100%|██████████| 1000/1000 [00:04<00:00, 217.90it/s, loss=0.392]\n",
      "[2024-05-03T02:34:57.435861+0000][1207925][CRITICAL] load failed: module 'synthcity.plugins.generic.plugin_goggle' has no attribute 'plugin'\n",
      "[2024-05-03T02:34:57.437024+0000][1207925][CRITICAL] load failed: module 'synthcity.plugins.generic.plugin_goggle' has no attribute 'plugin'\n",
      "[2024-05-03T02:34:57.437375+0000][1207925][CRITICAL] module plugin_goggle load failed\n",
      "Epoch: 100%|██████████| 1000/1000 [00:07<00:00, 125.92it/s, loss=0.974]\n",
      "[2024-05-03T02:35:09.071312+0000][1207925][CRITICAL] load failed: module 'synthcity.plugins.generic.plugin_goggle' has no attribute 'plugin'\n",
      "[2024-05-03T02:35:09.071891+0000][1207925][CRITICAL] load failed: module 'synthcity.plugins.generic.plugin_goggle' has no attribute 'plugin'\n",
      "[2024-05-03T02:35:09.072245+0000][1207925][CRITICAL] module plugin_goggle load failed\n",
      "Epoch: 100%|██████████| 1000/1000 [00:04<00:00, 217.68it/s, loss=0.389]\n"
     ]
    }
   ],
   "source": [
    "test_small = seq_test(d_real, 'ddpm', 'w', 'y', 3)"
   ]
  },
  {
   "cell_type": "code",
   "execution_count": 275,
   "id": "4f54b0a7",
   "metadata": {},
   "outputs": [
    {
     "data": {
      "text/html": [
       "<div>\n",
       "<style scoped>\n",
       "    .dataframe tbody tr th:only-of-type {\n",
       "        vertical-align: middle;\n",
       "    }\n",
       "\n",
       "    .dataframe tbody tr th {\n",
       "        vertical-align: top;\n",
       "    }\n",
       "\n",
       "    .dataframe thead th {\n",
       "        text-align: right;\n",
       "    }\n",
       "</style>\n",
       "<table border=\"1\" class=\"dataframe\">\n",
       "  <thead>\n",
       "    <tr style=\"text-align: right;\">\n",
       "      <th></th>\n",
       "      <th>f</th>\n",
       "      <th>d</th>\n",
       "      <th>u_pehe</th>\n",
       "      <th>u_policy</th>\n",
       "      <th>u_int</th>\n",
       "    </tr>\n",
       "    <tr>\n",
       "      <th>method</th>\n",
       "      <th></th>\n",
       "      <th></th>\n",
       "      <th></th>\n",
       "      <th></th>\n",
       "      <th></th>\n",
       "    </tr>\n",
       "  </thead>\n",
       "  <tbody>\n",
       "    <tr>\n",
       "      <th>seq_new</th>\n",
       "      <td>0.015315</td>\n",
       "      <td>0.770233</td>\n",
       "      <td>4.121382</td>\n",
       "      <td>0.691667</td>\n",
       "      <td>0.719221</td>\n",
       "    </tr>\n",
       "    <tr>\n",
       "      <th>standard</th>\n",
       "      <td>0.002097</td>\n",
       "      <td>0.716804</td>\n",
       "      <td>9.071507</td>\n",
       "      <td>0.666667</td>\n",
       "      <td>0.316862</td>\n",
       "    </tr>\n",
       "  </tbody>\n",
       "</table>\n",
       "</div>"
      ],
      "text/plain": [
       "                 f         d    u_pehe  u_policy     u_int\n",
       "method                                                    \n",
       "seq_new   0.015315  0.770233  4.121382  0.691667  0.719221\n",
       "standard  0.002097  0.716804  9.071507  0.666667  0.316862"
      ]
     },
     "execution_count": 275,
     "metadata": {},
     "output_type": "execute_result"
    }
   ],
   "source": [
    "test_small.groupby('method').mean()"
   ]
  },
  {
   "cell_type": "code",
   "execution_count": 271,
   "id": "5ebb0f26",
   "metadata": {},
   "outputs": [
    {
     "data": {
      "text/html": [
       "<div>\n",
       "<style scoped>\n",
       "    .dataframe tbody tr th:only-of-type {\n",
       "        vertical-align: middle;\n",
       "    }\n",
       "\n",
       "    .dataframe tbody tr th {\n",
       "        vertical-align: top;\n",
       "    }\n",
       "\n",
       "    .dataframe thead th {\n",
       "        text-align: right;\n",
       "    }\n",
       "</style>\n",
       "<table border=\"1\" class=\"dataframe\">\n",
       "  <thead>\n",
       "    <tr style=\"text-align: right;\">\n",
       "      <th></th>\n",
       "      <th>f</th>\n",
       "      <th>d</th>\n",
       "      <th>u_pehe</th>\n",
       "      <th>u_policy</th>\n",
       "      <th>u_int</th>\n",
       "    </tr>\n",
       "    <tr>\n",
       "      <th>method</th>\n",
       "      <th></th>\n",
       "      <th></th>\n",
       "      <th></th>\n",
       "      <th></th>\n",
       "      <th></th>\n",
       "    </tr>\n",
       "  </thead>\n",
       "  <tbody>\n",
       "    <tr>\n",
       "      <th>seq_new</th>\n",
       "      <td>0.360417</td>\n",
       "      <td>0.88249</td>\n",
       "      <td>2.100155</td>\n",
       "      <td>0.93</td>\n",
       "      <td>0.927594</td>\n",
       "    </tr>\n",
       "    <tr>\n",
       "      <th>standard</th>\n",
       "      <td>0.152567</td>\n",
       "      <td>0.82901</td>\n",
       "      <td>7.167894</td>\n",
       "      <td>0.94</td>\n",
       "      <td>-0.003107</td>\n",
       "    </tr>\n",
       "  </tbody>\n",
       "</table>\n",
       "</div>"
      ],
      "text/plain": [
       "                 f        d    u_pehe  u_policy     u_int\n",
       "method                                                   \n",
       "seq_new   0.360417  0.88249  2.100155      0.93  0.927594\n",
       "standard  0.152567  0.82901  7.167894      0.94 -0.003107"
      ]
     },
     "execution_count": 271,
     "metadata": {},
     "output_type": "execute_result"
    }
   ],
   "source": [
    "test.groupby('method').mean()"
   ]
  },
  {
   "cell_type": "code",
   "execution_count": 272,
   "id": "7c31c053",
   "metadata": {},
   "outputs": [
    {
     "data": {
      "text/html": [
       "<div>\n",
       "<style scoped>\n",
       "    .dataframe tbody tr th:only-of-type {\n",
       "        vertical-align: middle;\n",
       "    }\n",
       "\n",
       "    .dataframe tbody tr th {\n",
       "        vertical-align: top;\n",
       "    }\n",
       "\n",
       "    .dataframe thead th {\n",
       "        text-align: right;\n",
       "    }\n",
       "</style>\n",
       "<table border=\"1\" class=\"dataframe\">\n",
       "  <thead>\n",
       "    <tr style=\"text-align: right;\">\n",
       "      <th></th>\n",
       "      <th>method</th>\n",
       "      <th>f</th>\n",
       "      <th>d</th>\n",
       "      <th>u_pehe</th>\n",
       "      <th>u_policy</th>\n",
       "      <th>u_int</th>\n",
       "    </tr>\n",
       "  </thead>\n",
       "  <tbody>\n",
       "    <tr>\n",
       "      <th>0</th>\n",
       "      <td>standard</td>\n",
       "      <td>0.167027</td>\n",
       "      <td>0.867223</td>\n",
       "      <td>6.095212</td>\n",
       "      <td>0.955</td>\n",
       "      <td>0.072566</td>\n",
       "    </tr>\n",
       "    <tr>\n",
       "      <th>1</th>\n",
       "      <td>seq_new</td>\n",
       "      <td>0.439605</td>\n",
       "      <td>0.887411</td>\n",
       "      <td>2.238435</td>\n",
       "      <td>0.940</td>\n",
       "      <td>0.902416</td>\n",
       "    </tr>\n",
       "    <tr>\n",
       "      <th>2</th>\n",
       "      <td>standard</td>\n",
       "      <td>0.147813</td>\n",
       "      <td>0.832681</td>\n",
       "      <td>7.002279</td>\n",
       "      <td>0.890</td>\n",
       "      <td>0.150050</td>\n",
       "    </tr>\n",
       "    <tr>\n",
       "      <th>3</th>\n",
       "      <td>seq_new</td>\n",
       "      <td>0.333976</td>\n",
       "      <td>0.890791</td>\n",
       "      <td>1.966447</td>\n",
       "      <td>0.920</td>\n",
       "      <td>0.959688</td>\n",
       "    </tr>\n",
       "    <tr>\n",
       "      <th>4</th>\n",
       "      <td>standard</td>\n",
       "      <td>0.142860</td>\n",
       "      <td>0.787125</td>\n",
       "      <td>8.406189</td>\n",
       "      <td>0.975</td>\n",
       "      <td>-0.231937</td>\n",
       "    </tr>\n",
       "    <tr>\n",
       "      <th>5</th>\n",
       "      <td>seq_new</td>\n",
       "      <td>0.307669</td>\n",
       "      <td>0.869267</td>\n",
       "      <td>2.095585</td>\n",
       "      <td>0.930</td>\n",
       "      <td>0.920677</td>\n",
       "    </tr>\n",
       "  </tbody>\n",
       "</table>\n",
       "</div>"
      ],
      "text/plain": [
       "     method         f         d    u_pehe  u_policy     u_int\n",
       "0  standard  0.167027  0.867223  6.095212     0.955  0.072566\n",
       "1   seq_new  0.439605  0.887411  2.238435     0.940  0.902416\n",
       "2  standard  0.147813  0.832681  7.002279     0.890  0.150050\n",
       "3   seq_new  0.333976  0.890791  1.966447     0.920  0.959688\n",
       "4  standard  0.142860  0.787125  8.406189     0.975 -0.231937\n",
       "5   seq_new  0.307669  0.869267  2.095585     0.930  0.920677"
      ]
     },
     "execution_count": 272,
     "metadata": {},
     "output_type": "execute_result"
    }
   ],
   "source": [
    "test"
   ]
  },
  {
   "cell_type": "markdown",
   "id": "79182e5d",
   "metadata": {},
   "source": [
    "How does altering the complexity of $\\pi$, aka the number of confounding, change the performance delta"
   ]
  },
  {
   "cell_type": "code",
   "execution_count": 292,
   "id": "440bc2a9",
   "metadata": {},
   "outputs": [],
   "source": [
    "X,y,w,p,t = simulate_treatment_setup(500, d=10, n_c=0, n_t=5)\n",
    "X_df = pd.DataFrame(X)\n",
    "y_df = pd.DataFrame(y, columns = ['y'])\n",
    "w_df = pd.DataFrame(w, columns = ['w'])\n",
    "\n",
    "d_real = pd.concat([X_df,w_df,y_df], axis=1)"
   ]
  },
  {
   "cell_type": "code",
   "execution_count": 293,
   "id": "e9b42cab",
   "metadata": {},
   "outputs": [
    {
     "name": "stderr",
     "output_type": "stream",
     "text": [
      "[2024-05-03T02:41:49.165677+0000][1207925][CRITICAL] load failed: module 'synthcity.plugins.generic.plugin_goggle' has no attribute 'plugin'\n",
      "[2024-05-03T02:41:49.167369+0000][1207925][CRITICAL] load failed: module 'synthcity.plugins.generic.plugin_goggle' has no attribute 'plugin'\n",
      "[2024-05-03T02:41:49.167746+0000][1207925][CRITICAL] module plugin_goggle load failed\n",
      "Epoch: 100%|██████████| 1000/1000 [00:09<00:00, 106.30it/s, loss=0.874]\n",
      "[2024-05-03T02:42:02.367143+0000][1207925][CRITICAL] load failed: module 'synthcity.plugins.generic.plugin_goggle' has no attribute 'plugin'\n",
      "[2024-05-03T02:42:02.367865+0000][1207925][CRITICAL] load failed: module 'synthcity.plugins.generic.plugin_goggle' has no attribute 'plugin'\n",
      "[2024-05-03T02:42:02.368231+0000][1207925][CRITICAL] module plugin_goggle load failed\n",
      "Epoch: 100%|██████████| 1000/1000 [00:05<00:00, 172.63it/s, loss=0.445]\n",
      "[2024-05-03T02:43:03.426300+0000][1207925][CRITICAL] load failed: module 'synthcity.plugins.generic.plugin_goggle' has no attribute 'plugin'\n",
      "[2024-05-03T02:43:03.427655+0000][1207925][CRITICAL] load failed: module 'synthcity.plugins.generic.plugin_goggle' has no attribute 'plugin'\n",
      "[2024-05-03T02:43:03.428019+0000][1207925][CRITICAL] module plugin_goggle load failed\n",
      "Epoch: 100%|██████████| 1000/1000 [00:09<00:00, 104.01it/s, loss=0.878]\n",
      "[2024-05-03T02:43:16.722004+0000][1207925][CRITICAL] load failed: module 'synthcity.plugins.generic.plugin_goggle' has no attribute 'plugin'\n",
      "[2024-05-03T02:43:16.722548+0000][1207925][CRITICAL] load failed: module 'synthcity.plugins.generic.plugin_goggle' has no attribute 'plugin'\n",
      "[2024-05-03T02:43:16.723044+0000][1207925][CRITICAL] module plugin_goggle load failed\n",
      "Epoch: 100%|██████████| 1000/1000 [00:06<00:00, 166.44it/s, loss=0.444]\n",
      "[2024-05-03T02:44:14.009376+0000][1207925][CRITICAL] load failed: module 'synthcity.plugins.generic.plugin_goggle' has no attribute 'plugin'\n",
      "[2024-05-03T02:44:14.010778+0000][1207925][CRITICAL] load failed: module 'synthcity.plugins.generic.plugin_goggle' has no attribute 'plugin'\n",
      "[2024-05-03T02:44:14.011144+0000][1207925][CRITICAL] module plugin_goggle load failed\n",
      "Epoch: 100%|██████████| 1000/1000 [00:09<00:00, 106.61it/s, loss=0.878]\n",
      "[2024-05-03T02:44:27.105666+0000][1207925][CRITICAL] load failed: module 'synthcity.plugins.generic.plugin_goggle' has no attribute 'plugin'\n",
      "[2024-05-03T02:44:27.106486+0000][1207925][CRITICAL] load failed: module 'synthcity.plugins.generic.plugin_goggle' has no attribute 'plugin'\n",
      "[2024-05-03T02:44:27.106932+0000][1207925][CRITICAL] module plugin_goggle load failed\n",
      "Epoch: 100%|██████████| 1000/1000 [00:05<00:00, 175.85it/s, loss=0.444]\n"
     ]
    }
   ],
   "source": [
    "test_no_conf = seq_test(d_real, 'ddpm', 'w', 'y', 3)"
   ]
  },
  {
   "cell_type": "code",
   "execution_count": 294,
   "id": "5ceda4c5",
   "metadata": {},
   "outputs": [
    {
     "data": {
      "text/html": [
       "<div>\n",
       "<style scoped>\n",
       "    .dataframe tbody tr th:only-of-type {\n",
       "        vertical-align: middle;\n",
       "    }\n",
       "\n",
       "    .dataframe tbody tr th {\n",
       "        vertical-align: top;\n",
       "    }\n",
       "\n",
       "    .dataframe thead th {\n",
       "        text-align: right;\n",
       "    }\n",
       "</style>\n",
       "<table border=\"1\" class=\"dataframe\">\n",
       "  <thead>\n",
       "    <tr style=\"text-align: right;\">\n",
       "      <th></th>\n",
       "      <th>f</th>\n",
       "      <th>d</th>\n",
       "      <th>u_pehe</th>\n",
       "      <th>u_policy</th>\n",
       "      <th>u_int</th>\n",
       "    </tr>\n",
       "    <tr>\n",
       "      <th>method</th>\n",
       "      <th></th>\n",
       "      <th></th>\n",
       "      <th></th>\n",
       "      <th></th>\n",
       "      <th></th>\n",
       "    </tr>\n",
       "  </thead>\n",
       "  <tbody>\n",
       "    <tr>\n",
       "      <th>seq_new</th>\n",
       "      <td>0.129772</td>\n",
       "      <td>0.821495</td>\n",
       "      <td>1.642043</td>\n",
       "      <td>0.756667</td>\n",
       "      <td>0.945134</td>\n",
       "    </tr>\n",
       "    <tr>\n",
       "      <th>standard</th>\n",
       "      <td>0.040088</td>\n",
       "      <td>0.820911</td>\n",
       "      <td>5.189636</td>\n",
       "      <td>0.716667</td>\n",
       "      <td>0.621149</td>\n",
       "    </tr>\n",
       "  </tbody>\n",
       "</table>\n",
       "</div>"
      ],
      "text/plain": [
       "                 f         d    u_pehe  u_policy     u_int\n",
       "method                                                    \n",
       "seq_new   0.129772  0.821495  1.642043  0.756667  0.945134\n",
       "standard  0.040088  0.820911  5.189636  0.716667  0.621149"
      ]
     },
     "execution_count": 294,
     "metadata": {},
     "output_type": "execute_result"
    }
   ],
   "source": [
    "test_no_conf.groupby('method').mean()"
   ]
  },
  {
   "cell_type": "code",
   "execution_count": 295,
   "id": "625733f8",
   "metadata": {},
   "outputs": [],
   "source": [
    "X,y,w,p,t = simulate_treatment_setup(500, d=10, n_c=5, n_t=5)\n",
    "X_df = pd.DataFrame(X)\n",
    "y_df = pd.DataFrame(y, columns = ['y'])\n",
    "w_df = pd.DataFrame(w, columns = ['w'])\n",
    "\n",
    "d_real = pd.concat([X_df,w_df,y_df], axis=1)"
   ]
  },
  {
   "cell_type": "code",
   "execution_count": 296,
   "id": "7356fd6e",
   "metadata": {},
   "outputs": [
    {
     "name": "stderr",
     "output_type": "stream",
     "text": [
      "[2024-05-03T02:45:15.541286+0000][1207925][CRITICAL] load failed: module 'synthcity.plugins.generic.plugin_goggle' has no attribute 'plugin'\n",
      "[2024-05-03T02:45:15.541946+0000][1207925][CRITICAL] load failed: module 'synthcity.plugins.generic.plugin_goggle' has no attribute 'plugin'\n",
      "[2024-05-03T02:45:15.542539+0000][1207925][CRITICAL] module plugin_goggle load failed\n",
      "Epoch: 100%|██████████| 1000/1000 [00:09<00:00, 102.82it/s, loss=0.94]\n",
      "[2024-05-03T02:45:28.928814+0000][1207925][CRITICAL] load failed: module 'synthcity.plugins.generic.plugin_goggle' has no attribute 'plugin'\n",
      "[2024-05-03T02:45:28.929577+0000][1207925][CRITICAL] load failed: module 'synthcity.plugins.generic.plugin_goggle' has no attribute 'plugin'\n",
      "[2024-05-03T02:45:28.930003+0000][1207925][CRITICAL] module plugin_goggle load failed\n",
      "Epoch: 100%|██████████| 1000/1000 [00:05<00:00, 172.85it/s, loss=0.445]\n",
      "[2024-05-03T02:47:16.612714+0000][1207925][CRITICAL] load failed: module 'synthcity.plugins.generic.plugin_goggle' has no attribute 'plugin'\n",
      "[2024-05-03T02:47:16.614059+0000][1207925][CRITICAL] load failed: module 'synthcity.plugins.generic.plugin_goggle' has no attribute 'plugin'\n",
      "[2024-05-03T02:47:16.614458+0000][1207925][CRITICAL] module plugin_goggle load failed\n",
      "Epoch: 100%|██████████| 1000/1000 [00:09<00:00, 107.85it/s, loss=0.946]\n",
      "[2024-05-03T02:47:29.558403+0000][1207925][CRITICAL] load failed: module 'synthcity.plugins.generic.plugin_goggle' has no attribute 'plugin'\n",
      "[2024-05-03T02:47:29.559210+0000][1207925][CRITICAL] load failed: module 'synthcity.plugins.generic.plugin_goggle' has no attribute 'plugin'\n",
      "[2024-05-03T02:47:29.559538+0000][1207925][CRITICAL] module plugin_goggle load failed\n",
      "Epoch: 100%|██████████| 1000/1000 [00:06<00:00, 166.11it/s, loss=0.445]\n",
      "[2024-05-03T02:49:12.461857+0000][1207925][CRITICAL] load failed: module 'synthcity.plugins.generic.plugin_goggle' has no attribute 'plugin'\n",
      "[2024-05-03T02:49:12.463122+0000][1207925][CRITICAL] load failed: module 'synthcity.plugins.generic.plugin_goggle' has no attribute 'plugin'\n",
      "[2024-05-03T02:49:12.463497+0000][1207925][CRITICAL] module plugin_goggle load failed\n",
      "Epoch: 100%|██████████| 1000/1000 [00:09<00:00, 107.29it/s, loss=0.946]\n",
      "[2024-05-03T02:49:25.433453+0000][1207925][CRITICAL] load failed: module 'synthcity.plugins.generic.plugin_goggle' has no attribute 'plugin'\n",
      "[2024-05-03T02:49:25.434170+0000][1207925][CRITICAL] load failed: module 'synthcity.plugins.generic.plugin_goggle' has no attribute 'plugin'\n",
      "[2024-05-03T02:49:25.434622+0000][1207925][CRITICAL] module plugin_goggle load failed\n",
      "Epoch: 100%|██████████| 1000/1000 [00:05<00:00, 167.46it/s, loss=0.444]\n"
     ]
    }
   ],
   "source": [
    "test_conf = seq_test(d_real, 'ddpm', 'w', 'y', 3)"
   ]
  },
  {
   "cell_type": "code",
   "execution_count": 308,
   "id": "a9297e22",
   "metadata": {},
   "outputs": [
    {
     "data": {
      "text/html": [
       "<div>\n",
       "<style scoped>\n",
       "    .dataframe tbody tr th:only-of-type {\n",
       "        vertical-align: middle;\n",
       "    }\n",
       "\n",
       "    .dataframe tbody tr th {\n",
       "        vertical-align: top;\n",
       "    }\n",
       "\n",
       "    .dataframe thead th {\n",
       "        text-align: right;\n",
       "    }\n",
       "</style>\n",
       "<table border=\"1\" class=\"dataframe\">\n",
       "  <thead>\n",
       "    <tr style=\"text-align: right;\">\n",
       "      <th></th>\n",
       "      <th>method</th>\n",
       "      <th>f</th>\n",
       "      <th>d</th>\n",
       "      <th>u_pehe</th>\n",
       "      <th>u_policy</th>\n",
       "      <th>u_int</th>\n",
       "    </tr>\n",
       "  </thead>\n",
       "  <tbody>\n",
       "    <tr>\n",
       "      <th>0</th>\n",
       "      <td>standard</td>\n",
       "      <td>0.022478</td>\n",
       "      <td>0.703656</td>\n",
       "      <td>14.005186</td>\n",
       "      <td>0.87</td>\n",
       "      <td>0.617082</td>\n",
       "    </tr>\n",
       "    <tr>\n",
       "      <th>1</th>\n",
       "      <td>seq_new</td>\n",
       "      <td>0.113149</td>\n",
       "      <td>0.893558</td>\n",
       "      <td>2.330140</td>\n",
       "      <td>1.00</td>\n",
       "      <td>0.882679</td>\n",
       "    </tr>\n",
       "    <tr>\n",
       "      <th>2</th>\n",
       "      <td>standard</td>\n",
       "      <td>0.026847</td>\n",
       "      <td>0.738174</td>\n",
       "      <td>14.396672</td>\n",
       "      <td>0.97</td>\n",
       "      <td>0.608709</td>\n",
       "    </tr>\n",
       "    <tr>\n",
       "      <th>3</th>\n",
       "      <td>seq_new</td>\n",
       "      <td>0.106421</td>\n",
       "      <td>0.896517</td>\n",
       "      <td>2.045986</td>\n",
       "      <td>0.98</td>\n",
       "      <td>0.944349</td>\n",
       "    </tr>\n",
       "    <tr>\n",
       "      <th>4</th>\n",
       "      <td>standard</td>\n",
       "      <td>0.023043</td>\n",
       "      <td>0.786037</td>\n",
       "      <td>9.014050</td>\n",
       "      <td>0.98</td>\n",
       "      <td>0.424975</td>\n",
       "    </tr>\n",
       "    <tr>\n",
       "      <th>5</th>\n",
       "      <td>seq_new</td>\n",
       "      <td>0.076220</td>\n",
       "      <td>0.886541</td>\n",
       "      <td>2.258104</td>\n",
       "      <td>0.99</td>\n",
       "      <td>0.950160</td>\n",
       "    </tr>\n",
       "  </tbody>\n",
       "</table>\n",
       "</div>"
      ],
      "text/plain": [
       "     method         f         d     u_pehe  u_policy     u_int\n",
       "0  standard  0.022478  0.703656  14.005186      0.87  0.617082\n",
       "1   seq_new  0.113149  0.893558   2.330140      1.00  0.882679\n",
       "2  standard  0.026847  0.738174  14.396672      0.97  0.608709\n",
       "3   seq_new  0.106421  0.896517   2.045986      0.98  0.944349\n",
       "4  standard  0.023043  0.786037   9.014050      0.98  0.424975\n",
       "5   seq_new  0.076220  0.886541   2.258104      0.99  0.950160"
      ]
     },
     "execution_count": 308,
     "metadata": {},
     "output_type": "execute_result"
    }
   ],
   "source": [
    "test_conf"
   ]
  },
  {
   "cell_type": "code",
   "execution_count": 62,
   "id": "5f94479b",
   "metadata": {},
   "outputs": [],
   "source": [
    "def confounding_insight(n, d, n_t, n_cs, gen, n_iter, save=False, fp=''):\n",
    "    results = pd.DataFrame(columns=['method', 'f', 'c', 'd', 'u_pehe', 'u_policy', 'u_int', 'n_c'])\n",
    "    for n_c in n_cs:\n",
    "        X,y,w,p,t = simulate_treatment_setup(n, d=d, n_c=n_c, n_t=n_t)\n",
    "        X_df = pd.DataFrame(X)\n",
    "        y_df = pd.DataFrame(y, columns = ['y'])\n",
    "        w_df = pd.DataFrame(w, columns = ['w'])\n",
    "        d_real = pd.concat([X_df,w_df,y_df], axis=1)\n",
    "\n",
    "        r = seq_test(d_real, gen, 'w', 'y', n_iter)\n",
    "        r['n_c'] = n_c\n",
    "        results = pd.concat([results, r])\n",
    "        print(f'Tested n_c = {n_c}')\n",
    "\n",
    "    if save:\n",
    "        results.to_csv(fp, index=False)\n",
    "        \n",
    "    return results"
   ]
  },
  {
   "cell_type": "code",
   "execution_count": 64,
   "id": "098bba98",
   "metadata": {},
   "outputs": [
    {
     "name": "stderr",
     "output_type": "stream",
     "text": [
      "[2024-05-09T05:00:44.651238+0000][2265347][CRITICAL] load failed: module 'synthcity.plugins.generic.plugin_goggle' has no attribute 'plugin'\n",
      "[2024-05-09T05:00:44.651782+0000][2265347][CRITICAL] load failed: module 'synthcity.plugins.generic.plugin_goggle' has no attribute 'plugin'\n",
      "[2024-05-09T05:00:44.652180+0000][2265347][CRITICAL] module plugin_goggle load failed\n",
      "Epoch: 100%|██████████| 1000/1000 [00:12<00:00, 81.16it/s, loss=0.876]\n",
      "[2024-05-09T05:01:00.788366+0000][2265347][CRITICAL] load failed: module 'synthcity.plugins.generic.plugin_goggle' has no attribute 'plugin'\n",
      "[2024-05-09T05:01:00.789311+0000][2265347][CRITICAL] load failed: module 'synthcity.plugins.generic.plugin_goggle' has no attribute 'plugin'\n",
      "[2024-05-09T05:01:00.789649+0000][2265347][CRITICAL] module plugin_goggle load failed\n",
      "Epoch: 100%|██████████| 1000/1000 [00:08<00:00, 116.74it/s, loss=0.471]\n",
      "[2024-05-09T05:02:29.114690+0000][2265347][CRITICAL] load failed: module 'synthcity.plugins.generic.plugin_goggle' has no attribute 'plugin'\n",
      "[2024-05-09T05:02:29.117844+0000][2265347][CRITICAL] load failed: module 'synthcity.plugins.generic.plugin_goggle' has no attribute 'plugin'\n",
      "[2024-05-09T05:02:29.118447+0000][2265347][CRITICAL] module plugin_goggle load failed\n",
      "Epoch: 100%|██████████| 1000/1000 [00:11<00:00, 84.77it/s, loss=0.869]\n",
      "[2024-05-09T05:02:44.730259+0000][2265347][CRITICAL] load failed: module 'synthcity.plugins.generic.plugin_goggle' has no attribute 'plugin'\n",
      "[2024-05-09T05:02:44.731214+0000][2265347][CRITICAL] load failed: module 'synthcity.plugins.generic.plugin_goggle' has no attribute 'plugin'\n",
      "[2024-05-09T05:02:44.731552+0000][2265347][CRITICAL] module plugin_goggle load failed\n",
      "Epoch: 100%|██████████| 1000/1000 [00:08<00:00, 119.37it/s, loss=0.469]\n",
      "[2024-05-09T05:04:09.846859+0000][2265347][CRITICAL] load failed: module 'synthcity.plugins.generic.plugin_goggle' has no attribute 'plugin'\n",
      "[2024-05-09T05:04:09.847427+0000][2265347][CRITICAL] load failed: module 'synthcity.plugins.generic.plugin_goggle' has no attribute 'plugin'\n",
      "[2024-05-09T05:04:09.847895+0000][2265347][CRITICAL] module plugin_goggle load failed\n"
     ]
    },
    {
     "name": "stdout",
     "output_type": "stream",
     "text": [
      "Tested n_c = 1\n"
     ]
    },
    {
     "name": "stderr",
     "output_type": "stream",
     "text": [
      "Epoch: 100%|██████████| 1000/1000 [00:11<00:00, 85.00it/s, loss=0.881]\n",
      "[2024-05-09T05:04:25.415847+0000][2265347][CRITICAL] load failed: module 'synthcity.plugins.generic.plugin_goggle' has no attribute 'plugin'\n",
      "[2024-05-09T05:04:25.416460+0000][2265347][CRITICAL] load failed: module 'synthcity.plugins.generic.plugin_goggle' has no attribute 'plugin'\n",
      "[2024-05-09T05:04:25.416843+0000][2265347][CRITICAL] module plugin_goggle load failed\n",
      "Epoch: 100%|██████████| 1000/1000 [00:08<00:00, 119.00it/s, loss=0.472]\n",
      "[2024-05-09T05:06:05.106968+0000][2265347][CRITICAL] load failed: module 'synthcity.plugins.generic.plugin_goggle' has no attribute 'plugin'\n",
      "[2024-05-09T05:06:05.109812+0000][2265347][CRITICAL] load failed: module 'synthcity.plugins.generic.plugin_goggle' has no attribute 'plugin'\n",
      "[2024-05-09T05:06:05.110382+0000][2265347][CRITICAL] module plugin_goggle load failed\n",
      "Epoch: 100%|██████████| 1000/1000 [00:11<00:00, 83.65it/s, loss=0.9] \n",
      "[2024-05-09T05:06:20.782233+0000][2265347][CRITICAL] load failed: module 'synthcity.plugins.generic.plugin_goggle' has no attribute 'plugin'\n",
      "[2024-05-09T05:06:20.782915+0000][2265347][CRITICAL] load failed: module 'synthcity.plugins.generic.plugin_goggle' has no attribute 'plugin'\n",
      "[2024-05-09T05:06:20.783270+0000][2265347][CRITICAL] module plugin_goggle load failed\n",
      "Epoch: 100%|██████████| 1000/1000 [00:08<00:00, 119.78it/s, loss=0.471]\n",
      "[2024-05-09T05:07:56.307095+0000][2265347][CRITICAL] load failed: module 'synthcity.plugins.generic.plugin_goggle' has no attribute 'plugin'\n",
      "[2024-05-09T05:07:56.307927+0000][2265347][CRITICAL] load failed: module 'synthcity.plugins.generic.plugin_goggle' has no attribute 'plugin'\n",
      "[2024-05-09T05:07:56.308353+0000][2265347][CRITICAL] module plugin_goggle load failed\n"
     ]
    },
    {
     "name": "stdout",
     "output_type": "stream",
     "text": [
      "Tested n_c = 2\n"
     ]
    },
    {
     "name": "stderr",
     "output_type": "stream",
     "text": [
      "Epoch: 100%|██████████| 1000/1000 [00:12<00:00, 82.88it/s, loss=0.91]\n",
      "[2024-05-09T05:08:12.178072+0000][2265347][CRITICAL] load failed: module 'synthcity.plugins.generic.plugin_goggle' has no attribute 'plugin'\n",
      "[2024-05-09T05:08:12.178648+0000][2265347][CRITICAL] load failed: module 'synthcity.plugins.generic.plugin_goggle' has no attribute 'plugin'\n",
      "[2024-05-09T05:08:12.178992+0000][2265347][CRITICAL] module plugin_goggle load failed\n",
      "Epoch: 100%|██████████| 1000/1000 [00:08<00:00, 119.81it/s, loss=0.468]\n",
      "[2024-05-09T05:10:06.413243+0000][2265347][CRITICAL] load failed: module 'synthcity.plugins.generic.plugin_goggle' has no attribute 'plugin'\n",
      "[2024-05-09T05:10:06.415778+0000][2265347][CRITICAL] load failed: module 'synthcity.plugins.generic.plugin_goggle' has no attribute 'plugin'\n",
      "[2024-05-09T05:10:06.416848+0000][2265347][CRITICAL] module plugin_goggle load failed\n",
      "Epoch: 100%|██████████| 1000/1000 [00:12<00:00, 81.06it/s, loss=0.905]\n",
      "[2024-05-09T05:10:22.510076+0000][2265347][CRITICAL] load failed: module 'synthcity.plugins.generic.plugin_goggle' has no attribute 'plugin'\n",
      "[2024-05-09T05:10:22.510841+0000][2265347][CRITICAL] load failed: module 'synthcity.plugins.generic.plugin_goggle' has no attribute 'plugin'\n",
      "[2024-05-09T05:10:22.511315+0000][2265347][CRITICAL] module plugin_goggle load failed\n",
      "Epoch: 100%|██████████| 1000/1000 [00:08<00:00, 116.37it/s, loss=0.47]\n",
      "[2024-05-09T05:12:21.929868+0000][2265347][CRITICAL] load failed: module 'synthcity.plugins.generic.plugin_goggle' has no attribute 'plugin'\n",
      "[2024-05-09T05:12:21.930787+0000][2265347][CRITICAL] load failed: module 'synthcity.plugins.generic.plugin_goggle' has no attribute 'plugin'\n",
      "[2024-05-09T05:12:21.931310+0000][2265347][CRITICAL] module plugin_goggle load failed\n"
     ]
    },
    {
     "name": "stdout",
     "output_type": "stream",
     "text": [
      "Tested n_c = 3\n"
     ]
    },
    {
     "name": "stderr",
     "output_type": "stream",
     "text": [
      "Epoch: 100%|██████████| 1000/1000 [00:12<00:00, 81.88it/s, loss=0.91]\n",
      "[2024-05-09T05:12:37.921661+0000][2265347][CRITICAL] load failed: module 'synthcity.plugins.generic.plugin_goggle' has no attribute 'plugin'\n",
      "[2024-05-09T05:12:37.922461+0000][2265347][CRITICAL] load failed: module 'synthcity.plugins.generic.plugin_goggle' has no attribute 'plugin'\n",
      "[2024-05-09T05:12:37.922931+0000][2265347][CRITICAL] module plugin_goggle load failed\n",
      "Epoch: 100%|██████████| 1000/1000 [00:08<00:00, 117.30it/s, loss=0.471]\n",
      "[2024-05-09T05:14:43.938169+0000][2265347][CRITICAL] load failed: module 'synthcity.plugins.generic.plugin_goggle' has no attribute 'plugin'\n",
      "[2024-05-09T05:14:43.940307+0000][2265347][CRITICAL] load failed: module 'synthcity.plugins.generic.plugin_goggle' has no attribute 'plugin'\n",
      "[2024-05-09T05:14:43.941298+0000][2265347][CRITICAL] module plugin_goggle load failed\n",
      "Epoch: 100%|██████████| 1000/1000 [00:12<00:00, 79.30it/s, loss=0.919]\n",
      "[2024-05-09T05:15:00.332718+0000][2265347][CRITICAL] load failed: module 'synthcity.plugins.generic.plugin_goggle' has no attribute 'plugin'\n",
      "[2024-05-09T05:15:00.334309+0000][2265347][CRITICAL] load failed: module 'synthcity.plugins.generic.plugin_goggle' has no attribute 'plugin'\n",
      "[2024-05-09T05:15:00.335010+0000][2265347][CRITICAL] module plugin_goggle load failed\n",
      "Epoch: 100%|██████████| 1000/1000 [00:08<00:00, 114.94it/s, loss=0.471]\n",
      "[2024-05-09T05:17:08.546944+0000][2265347][CRITICAL] load failed: module 'synthcity.plugins.generic.plugin_goggle' has no attribute 'plugin'\n",
      "[2024-05-09T05:17:08.547865+0000][2265347][CRITICAL] load failed: module 'synthcity.plugins.generic.plugin_goggle' has no attribute 'plugin'\n",
      "[2024-05-09T05:17:08.548242+0000][2265347][CRITICAL] module plugin_goggle load failed\n"
     ]
    },
    {
     "name": "stdout",
     "output_type": "stream",
     "text": [
      "Tested n_c = 4\n"
     ]
    },
    {
     "name": "stderr",
     "output_type": "stream",
     "text": [
      "Epoch: 100%|██████████| 1000/1000 [00:12<00:00, 82.59it/s, loss=0.939]\n",
      "[2024-05-09T05:17:24.375161+0000][2265347][CRITICAL] load failed: module 'synthcity.plugins.generic.plugin_goggle' has no attribute 'plugin'\n",
      "[2024-05-09T05:17:24.375836+0000][2265347][CRITICAL] load failed: module 'synthcity.plugins.generic.plugin_goggle' has no attribute 'plugin'\n",
      "[2024-05-09T05:17:24.376278+0000][2265347][CRITICAL] module plugin_goggle load failed\n",
      "Epoch: 100%|██████████| 1000/1000 [00:08<00:00, 119.08it/s, loss=0.469]\n",
      "[2024-05-09T05:19:31.718230+0000][2265347][CRITICAL] load failed: module 'synthcity.plugins.generic.plugin_goggle' has no attribute 'plugin'\n",
      "[2024-05-09T05:19:31.720462+0000][2265347][CRITICAL] load failed: module 'synthcity.plugins.generic.plugin_goggle' has no attribute 'plugin'\n",
      "[2024-05-09T05:19:31.721477+0000][2265347][CRITICAL] module plugin_goggle load failed\n",
      "Epoch: 100%|██████████| 1000/1000 [00:11<00:00, 84.28it/s, loss=0.94]\n",
      "[2024-05-09T05:19:47.320442+0000][2265347][CRITICAL] load failed: module 'synthcity.plugins.generic.plugin_goggle' has no attribute 'plugin'\n",
      "[2024-05-09T05:19:47.321049+0000][2265347][CRITICAL] load failed: module 'synthcity.plugins.generic.plugin_goggle' has no attribute 'plugin'\n",
      "[2024-05-09T05:19:47.321410+0000][2265347][CRITICAL] module plugin_goggle load failed\n",
      "Epoch: 100%|██████████| 1000/1000 [00:08<00:00, 121.37it/s, loss=0.469]\n",
      "[2024-05-09T05:21:52.454875+0000][2265347][CRITICAL] load failed: module 'synthcity.plugins.generic.plugin_goggle' has no attribute 'plugin'\n",
      "[2024-05-09T05:21:52.455814+0000][2265347][CRITICAL] load failed: module 'synthcity.plugins.generic.plugin_goggle' has no attribute 'plugin'\n",
      "[2024-05-09T05:21:52.456202+0000][2265347][CRITICAL] module plugin_goggle load failed\n"
     ]
    },
    {
     "name": "stdout",
     "output_type": "stream",
     "text": [
      "Tested n_c = 5\n"
     ]
    },
    {
     "name": "stderr",
     "output_type": "stream",
     "text": [
      "Epoch: 100%|██████████| 1000/1000 [00:11<00:00, 83.83it/s, loss=0.961]\n",
      "[2024-05-09T05:22:08.070560+0000][2265347][CRITICAL] load failed: module 'synthcity.plugins.generic.plugin_goggle' has no attribute 'plugin'\n",
      "[2024-05-09T05:22:08.071794+0000][2265347][CRITICAL] load failed: module 'synthcity.plugins.generic.plugin_goggle' has no attribute 'plugin'\n",
      "[2024-05-09T05:22:08.072217+0000][2265347][CRITICAL] module plugin_goggle load failed\n",
      "Epoch: 100%|██████████| 1000/1000 [00:08<00:00, 119.61it/s, loss=0.47]\n",
      "[2024-05-09T05:24:21.955746+0000][2265347][CRITICAL] load failed: module 'synthcity.plugins.generic.plugin_goggle' has no attribute 'plugin'\n",
      "[2024-05-09T05:24:21.959074+0000][2265347][CRITICAL] load failed: module 'synthcity.plugins.generic.plugin_goggle' has no attribute 'plugin'\n",
      "[2024-05-09T05:24:21.959678+0000][2265347][CRITICAL] module plugin_goggle load failed\n",
      "Epoch: 100%|██████████| 1000/1000 [00:11<00:00, 85.82it/s, loss=0.964]\n",
      "[2024-05-09T05:24:37.261918+0000][2265347][CRITICAL] load failed: module 'synthcity.plugins.generic.plugin_goggle' has no attribute 'plugin'\n",
      "[2024-05-09T05:24:37.262493+0000][2265347][CRITICAL] load failed: module 'synthcity.plugins.generic.plugin_goggle' has no attribute 'plugin'\n",
      "[2024-05-09T05:24:37.262824+0000][2265347][CRITICAL] module plugin_goggle load failed\n",
      "Epoch: 100%|██████████| 1000/1000 [00:08<00:00, 123.11it/s, loss=0.469]\n",
      "[2024-05-09T05:26:51.927412+0000][2265347][CRITICAL] load failed: module 'synthcity.plugins.generic.plugin_goggle' has no attribute 'plugin'\n",
      "[2024-05-09T05:26:51.928234+0000][2265347][CRITICAL] load failed: module 'synthcity.plugins.generic.plugin_goggle' has no attribute 'plugin'\n",
      "[2024-05-09T05:26:51.928643+0000][2265347][CRITICAL] module plugin_goggle load failed\n"
     ]
    },
    {
     "name": "stdout",
     "output_type": "stream",
     "text": [
      "Tested n_c = 6\n"
     ]
    },
    {
     "name": "stderr",
     "output_type": "stream",
     "text": [
      "Epoch: 100%|██████████| 1000/1000 [00:11<00:00, 84.37it/s, loss=0.973]\n",
      "[2024-05-09T05:27:07.488862+0000][2265347][CRITICAL] load failed: module 'synthcity.plugins.generic.plugin_goggle' has no attribute 'plugin'\n",
      "[2024-05-09T05:27:07.489679+0000][2265347][CRITICAL] load failed: module 'synthcity.plugins.generic.plugin_goggle' has no attribute 'plugin'\n",
      "[2024-05-09T05:27:07.490153+0000][2265347][CRITICAL] module plugin_goggle load failed\n",
      "Epoch: 100%|██████████| 1000/1000 [00:08<00:00, 113.84it/s, loss=0.469]\n",
      "[2024-05-09T05:29:44.584957+0000][2265347][CRITICAL] load failed: module 'synthcity.plugins.generic.plugin_goggle' has no attribute 'plugin'\n",
      "[2024-05-09T05:29:44.587195+0000][2265347][CRITICAL] load failed: module 'synthcity.plugins.generic.plugin_goggle' has no attribute 'plugin'\n",
      "[2024-05-09T05:29:44.588213+0000][2265347][CRITICAL] module plugin_goggle load failed\n",
      "Epoch: 100%|██████████| 1000/1000 [00:12<00:00, 82.42it/s, loss=0.965]\n",
      "[2024-05-09T05:30:00.375615+0000][2265347][CRITICAL] load failed: module 'synthcity.plugins.generic.plugin_goggle' has no attribute 'plugin'\n",
      "[2024-05-09T05:30:00.376303+0000][2265347][CRITICAL] load failed: module 'synthcity.plugins.generic.plugin_goggle' has no attribute 'plugin'\n",
      "[2024-05-09T05:30:00.376819+0000][2265347][CRITICAL] module plugin_goggle load failed\n",
      "Epoch: 100%|██████████| 1000/1000 [00:08<00:00, 112.96it/s, loss=0.469]\n",
      "[2024-05-09T05:32:32.759643+0000][2265347][CRITICAL] load failed: module 'synthcity.plugins.generic.plugin_goggle' has no attribute 'plugin'\n",
      "[2024-05-09T05:32:32.760487+0000][2265347][CRITICAL] load failed: module 'synthcity.plugins.generic.plugin_goggle' has no attribute 'plugin'\n",
      "[2024-05-09T05:32:32.760841+0000][2265347][CRITICAL] module plugin_goggle load failed\n"
     ]
    },
    {
     "name": "stdout",
     "output_type": "stream",
     "text": [
      "Tested n_c = 7\n"
     ]
    },
    {
     "name": "stderr",
     "output_type": "stream",
     "text": [
      "Epoch: 100%|██████████| 1000/1000 [00:11<00:00, 86.95it/s, loss=0.988]\n",
      "[2024-05-09T05:32:47.928648+0000][2265347][CRITICAL] load failed: module 'synthcity.plugins.generic.plugin_goggle' has no attribute 'plugin'\n",
      "[2024-05-09T05:32:47.929320+0000][2265347][CRITICAL] load failed: module 'synthcity.plugins.generic.plugin_goggle' has no attribute 'plugin'\n",
      "[2024-05-09T05:32:47.929743+0000][2265347][CRITICAL] module plugin_goggle load failed\n",
      "Epoch: 100%|██████████| 1000/1000 [00:08<00:00, 118.79it/s, loss=0.47]\n",
      "[2024-05-09T05:35:28.290208+0000][2265347][CRITICAL] load failed: module 'synthcity.plugins.generic.plugin_goggle' has no attribute 'plugin'\n",
      "[2024-05-09T05:35:28.292720+0000][2265347][CRITICAL] load failed: module 'synthcity.plugins.generic.plugin_goggle' has no attribute 'plugin'\n",
      "[2024-05-09T05:35:28.293844+0000][2265347][CRITICAL] module plugin_goggle load failed\n",
      "Epoch: 100%|██████████| 1000/1000 [00:11<00:00, 85.49it/s, loss=0.987]\n",
      "[2024-05-09T05:35:43.678290+0000][2265347][CRITICAL] load failed: module 'synthcity.plugins.generic.plugin_goggle' has no attribute 'plugin'\n",
      "[2024-05-09T05:35:43.679501+0000][2265347][CRITICAL] load failed: module 'synthcity.plugins.generic.plugin_goggle' has no attribute 'plugin'\n",
      "[2024-05-09T05:35:43.679919+0000][2265347][CRITICAL] module plugin_goggle load failed\n",
      "Epoch: 100%|██████████| 1000/1000 [00:08<00:00, 115.61it/s, loss=0.469]\n",
      "[2024-05-09T05:38:23.026753+0000][2265347][CRITICAL] load failed: module 'synthcity.plugins.generic.plugin_goggle' has no attribute 'plugin'\n",
      "[2024-05-09T05:38:23.027714+0000][2265347][CRITICAL] load failed: module 'synthcity.plugins.generic.plugin_goggle' has no attribute 'plugin'\n",
      "[2024-05-09T05:38:23.028091+0000][2265347][CRITICAL] module plugin_goggle load failed\n"
     ]
    },
    {
     "name": "stdout",
     "output_type": "stream",
     "text": [
      "Tested n_c = 8\n"
     ]
    },
    {
     "name": "stderr",
     "output_type": "stream",
     "text": [
      "Epoch: 100%|██████████| 1000/1000 [00:11<00:00, 85.63it/s, loss=0.972]\n",
      "[2024-05-09T05:38:38.411810+0000][2265347][CRITICAL] load failed: module 'synthcity.plugins.generic.plugin_goggle' has no attribute 'plugin'\n",
      "[2024-05-09T05:38:38.412603+0000][2265347][CRITICAL] load failed: module 'synthcity.plugins.generic.plugin_goggle' has no attribute 'plugin'\n",
      "[2024-05-09T05:38:38.412941+0000][2265347][CRITICAL] module plugin_goggle load failed\n",
      "Epoch: 100%|██████████| 1000/1000 [00:08<00:00, 115.32it/s, loss=0.471]\n",
      "[2024-05-09T05:41:30.840887+0000][2265347][CRITICAL] load failed: module 'synthcity.plugins.generic.plugin_goggle' has no attribute 'plugin'\n",
      "[2024-05-09T05:41:30.843246+0000][2265347][CRITICAL] load failed: module 'synthcity.plugins.generic.plugin_goggle' has no attribute 'plugin'\n",
      "[2024-05-09T05:41:30.844284+0000][2265347][CRITICAL] module plugin_goggle load failed\n",
      "Epoch: 100%|██████████| 1000/1000 [00:11<00:00, 85.40it/s, loss=0.969]\n",
      "[2024-05-09T05:41:46.232718+0000][2265347][CRITICAL] load failed: module 'synthcity.plugins.generic.plugin_goggle' has no attribute 'plugin'\n",
      "[2024-05-09T05:41:46.233485+0000][2265347][CRITICAL] load failed: module 'synthcity.plugins.generic.plugin_goggle' has no attribute 'plugin'\n",
      "[2024-05-09T05:41:46.233915+0000][2265347][CRITICAL] module plugin_goggle load failed\n",
      "Epoch: 100%|██████████| 1000/1000 [00:08<00:00, 115.84it/s, loss=0.471]\n",
      "[2024-05-09T05:44:37.743096+0000][2265347][CRITICAL] load failed: module 'synthcity.plugins.generic.plugin_goggle' has no attribute 'plugin'\n",
      "[2024-05-09T05:44:37.744043+0000][2265347][CRITICAL] load failed: module 'synthcity.plugins.generic.plugin_goggle' has no attribute 'plugin'\n",
      "[2024-05-09T05:44:37.744509+0000][2265347][CRITICAL] module plugin_goggle load failed\n"
     ]
    },
    {
     "name": "stdout",
     "output_type": "stream",
     "text": [
      "Tested n_c = 9\n"
     ]
    },
    {
     "name": "stderr",
     "output_type": "stream",
     "text": [
      "Epoch: 100%|██████████| 1000/1000 [00:12<00:00, 82.66it/s, loss=0.996]\n",
      "[2024-05-09T05:44:53.539250+0000][2265347][CRITICAL] load failed: module 'synthcity.plugins.generic.plugin_goggle' has no attribute 'plugin'\n",
      "[2024-05-09T05:44:53.540319+0000][2265347][CRITICAL] load failed: module 'synthcity.plugins.generic.plugin_goggle' has no attribute 'plugin'\n",
      "[2024-05-09T05:44:53.540705+0000][2265347][CRITICAL] module plugin_goggle load failed\n",
      "Epoch: 100%|██████████| 1000/1000 [00:08<00:00, 118.32it/s, loss=0.47]\n",
      "[2024-05-09T05:47:45.764111+0000][2265347][CRITICAL] load failed: module 'synthcity.plugins.generic.plugin_goggle' has no attribute 'plugin'\n",
      "[2024-05-09T05:47:45.767555+0000][2265347][CRITICAL] load failed: module 'synthcity.plugins.generic.plugin_goggle' has no attribute 'plugin'\n",
      "[2024-05-09T05:47:45.768059+0000][2265347][CRITICAL] module plugin_goggle load failed\n",
      "Epoch: 100%|██████████| 1000/1000 [00:11<00:00, 87.30it/s, loss=1]   \n",
      "[2024-05-09T05:48:00.870732+0000][2265347][CRITICAL] load failed: module 'synthcity.plugins.generic.plugin_goggle' has no attribute 'plugin'\n",
      "[2024-05-09T05:48:00.871636+0000][2265347][CRITICAL] load failed: module 'synthcity.plugins.generic.plugin_goggle' has no attribute 'plugin'\n",
      "[2024-05-09T05:48:00.871958+0000][2265347][CRITICAL] module plugin_goggle load failed\n",
      "Epoch: 100%|██████████| 1000/1000 [00:08<00:00, 122.01it/s, loss=0.47]\n"
     ]
    },
    {
     "name": "stdout",
     "output_type": "stream",
     "text": [
      "Tested n_c = 10\n"
     ]
    }
   ],
   "source": [
    "conf_results = confounding_insight(1000, 15, 5, [1,2,3,4,5,6,7,8,9,10], 'ddpm', 2)#, save=True, fp = 'confounding_insight_new.csv')"
   ]
  },
  {
   "cell_type": "code",
   "execution_count": 65,
   "id": "3cc3f55c",
   "metadata": {},
   "outputs": [
    {
     "data": {
      "text/html": [
       "<div>\n",
       "<style scoped>\n",
       "    .dataframe tbody tr th:only-of-type {\n",
       "        vertical-align: middle;\n",
       "    }\n",
       "\n",
       "    .dataframe tbody tr th {\n",
       "        vertical-align: top;\n",
       "    }\n",
       "\n",
       "    .dataframe thead th {\n",
       "        text-align: right;\n",
       "    }\n",
       "</style>\n",
       "<table border=\"1\" class=\"dataframe\">\n",
       "  <thead>\n",
       "    <tr style=\"text-align: right;\">\n",
       "      <th></th>\n",
       "      <th></th>\n",
       "      <th>f</th>\n",
       "      <th>c</th>\n",
       "      <th>d</th>\n",
       "      <th>u_pehe</th>\n",
       "      <th>u_policy</th>\n",
       "      <th>u_int</th>\n",
       "    </tr>\n",
       "    <tr>\n",
       "      <th>n_c</th>\n",
       "      <th>method</th>\n",
       "      <th></th>\n",
       "      <th></th>\n",
       "      <th></th>\n",
       "      <th></th>\n",
       "      <th></th>\n",
       "      <th></th>\n",
       "    </tr>\n",
       "  </thead>\n",
       "  <tbody>\n",
       "    <tr>\n",
       "      <th rowspan=\"2\" valign=\"top\">1</th>\n",
       "      <th>seq_new</th>\n",
       "      <td>0.571867</td>\n",
       "      <td>0.361967</td>\n",
       "      <td>0.898288</td>\n",
       "      <td>1.735367</td>\n",
       "      <td>0.9900</td>\n",
       "      <td>0.979436</td>\n",
       "    </tr>\n",
       "    <tr>\n",
       "      <th>standard</th>\n",
       "      <td>0.301067</td>\n",
       "      <td>0.272733</td>\n",
       "      <td>0.811606</td>\n",
       "      <td>7.819979</td>\n",
       "      <td>0.9950</td>\n",
       "      <td>0.737268</td>\n",
       "    </tr>\n",
       "    <tr>\n",
       "      <th rowspan=\"2\" valign=\"top\">2</th>\n",
       "      <th>seq_new</th>\n",
       "      <td>0.584067</td>\n",
       "      <td>0.387300</td>\n",
       "      <td>0.906842</td>\n",
       "      <td>1.819694</td>\n",
       "      <td>0.9750</td>\n",
       "      <td>0.960768</td>\n",
       "    </tr>\n",
       "    <tr>\n",
       "      <th>standard</th>\n",
       "      <td>0.297700</td>\n",
       "      <td>0.260933</td>\n",
       "      <td>0.869077</td>\n",
       "      <td>9.289557</td>\n",
       "      <td>0.9675</td>\n",
       "      <td>0.764662</td>\n",
       "    </tr>\n",
       "    <tr>\n",
       "      <th rowspan=\"2\" valign=\"top\">3</th>\n",
       "      <th>seq_new</th>\n",
       "      <td>0.627933</td>\n",
       "      <td>0.370767</td>\n",
       "      <td>0.917268</td>\n",
       "      <td>2.051066</td>\n",
       "      <td>0.9850</td>\n",
       "      <td>0.949069</td>\n",
       "    </tr>\n",
       "    <tr>\n",
       "      <th>standard</th>\n",
       "      <td>0.197400</td>\n",
       "      <td>0.213867</td>\n",
       "      <td>0.801802</td>\n",
       "      <td>8.090952</td>\n",
       "      <td>0.9575</td>\n",
       "      <td>0.422187</td>\n",
       "    </tr>\n",
       "    <tr>\n",
       "      <th rowspan=\"2\" valign=\"top\">4</th>\n",
       "      <th>seq_new</th>\n",
       "      <td>0.680933</td>\n",
       "      <td>0.430500</td>\n",
       "      <td>0.896328</td>\n",
       "      <td>2.207393</td>\n",
       "      <td>0.9700</td>\n",
       "      <td>0.913801</td>\n",
       "    </tr>\n",
       "    <tr>\n",
       "      <th>standard</th>\n",
       "      <td>0.252200</td>\n",
       "      <td>0.250233</td>\n",
       "      <td>0.782999</td>\n",
       "      <td>7.335314</td>\n",
       "      <td>0.8875</td>\n",
       "      <td>0.176199</td>\n",
       "    </tr>\n",
       "    <tr>\n",
       "      <th rowspan=\"2\" valign=\"top\">5</th>\n",
       "      <th>seq_new</th>\n",
       "      <td>0.625633</td>\n",
       "      <td>0.393667</td>\n",
       "      <td>0.923571</td>\n",
       "      <td>2.471355</td>\n",
       "      <td>0.9950</td>\n",
       "      <td>0.898546</td>\n",
       "    </tr>\n",
       "    <tr>\n",
       "      <th>standard</th>\n",
       "      <td>0.280800</td>\n",
       "      <td>0.263400</td>\n",
       "      <td>0.833517</td>\n",
       "      <td>9.730895</td>\n",
       "      <td>0.9850</td>\n",
       "      <td>0.446926</td>\n",
       "    </tr>\n",
       "    <tr>\n",
       "      <th rowspan=\"2\" valign=\"top\">6</th>\n",
       "      <th>seq_new</th>\n",
       "      <td>0.592600</td>\n",
       "      <td>0.367767</td>\n",
       "      <td>0.913660</td>\n",
       "      <td>2.418814</td>\n",
       "      <td>0.9750</td>\n",
       "      <td>0.828705</td>\n",
       "    </tr>\n",
       "    <tr>\n",
       "      <th>standard</th>\n",
       "      <td>0.203633</td>\n",
       "      <td>0.193833</td>\n",
       "      <td>0.781289</td>\n",
       "      <td>13.431386</td>\n",
       "      <td>0.9725</td>\n",
       "      <td>0.497751</td>\n",
       "    </tr>\n",
       "    <tr>\n",
       "      <th rowspan=\"2\" valign=\"top\">7</th>\n",
       "      <th>seq_new</th>\n",
       "      <td>0.637800</td>\n",
       "      <td>0.398467</td>\n",
       "      <td>0.901532</td>\n",
       "      <td>2.540632</td>\n",
       "      <td>0.9750</td>\n",
       "      <td>0.752279</td>\n",
       "    </tr>\n",
       "    <tr>\n",
       "      <th>standard</th>\n",
       "      <td>0.161000</td>\n",
       "      <td>0.170467</td>\n",
       "      <td>0.771561</td>\n",
       "      <td>13.358511</td>\n",
       "      <td>0.9475</td>\n",
       "      <td>0.023714</td>\n",
       "    </tr>\n",
       "    <tr>\n",
       "      <th rowspan=\"2\" valign=\"top\">8</th>\n",
       "      <th>seq_new</th>\n",
       "      <td>0.626733</td>\n",
       "      <td>0.405300</td>\n",
       "      <td>0.904361</td>\n",
       "      <td>2.505873</td>\n",
       "      <td>0.9850</td>\n",
       "      <td>0.818118</td>\n",
       "    </tr>\n",
       "    <tr>\n",
       "      <th>standard</th>\n",
       "      <td>0.222467</td>\n",
       "      <td>0.236100</td>\n",
       "      <td>0.765633</td>\n",
       "      <td>15.217230</td>\n",
       "      <td>0.9700</td>\n",
       "      <td>0.256221</td>\n",
       "    </tr>\n",
       "    <tr>\n",
       "      <th rowspan=\"2\" valign=\"top\">9</th>\n",
       "      <th>seq_new</th>\n",
       "      <td>0.640633</td>\n",
       "      <td>0.360000</td>\n",
       "      <td>0.910724</td>\n",
       "      <td>2.467514</td>\n",
       "      <td>0.9775</td>\n",
       "      <td>0.771144</td>\n",
       "    </tr>\n",
       "    <tr>\n",
       "      <th>standard</th>\n",
       "      <td>0.163867</td>\n",
       "      <td>0.158167</td>\n",
       "      <td>0.781971</td>\n",
       "      <td>10.833029</td>\n",
       "      <td>0.8225</td>\n",
       "      <td>0.158609</td>\n",
       "    </tr>\n",
       "    <tr>\n",
       "      <th rowspan=\"2\" valign=\"top\">10</th>\n",
       "      <th>seq_new</th>\n",
       "      <td>0.551100</td>\n",
       "      <td>0.374100</td>\n",
       "      <td>0.914829</td>\n",
       "      <td>3.169065</td>\n",
       "      <td>0.9750</td>\n",
       "      <td>0.758853</td>\n",
       "    </tr>\n",
       "    <tr>\n",
       "      <th>standard</th>\n",
       "      <td>0.148367</td>\n",
       "      <td>0.171100</td>\n",
       "      <td>0.746026</td>\n",
       "      <td>22.392828</td>\n",
       "      <td>0.9750</td>\n",
       "      <td>0.396284</td>\n",
       "    </tr>\n",
       "  </tbody>\n",
       "</table>\n",
       "</div>"
      ],
      "text/plain": [
       "                     f         c         d     u_pehe  u_policy     u_int\n",
       "n_c method                                                               \n",
       "1   seq_new   0.571867  0.361967  0.898288   1.735367    0.9900  0.979436\n",
       "    standard  0.301067  0.272733  0.811606   7.819979    0.9950  0.737268\n",
       "2   seq_new   0.584067  0.387300  0.906842   1.819694    0.9750  0.960768\n",
       "    standard  0.297700  0.260933  0.869077   9.289557    0.9675  0.764662\n",
       "3   seq_new   0.627933  0.370767  0.917268   2.051066    0.9850  0.949069\n",
       "    standard  0.197400  0.213867  0.801802   8.090952    0.9575  0.422187\n",
       "4   seq_new   0.680933  0.430500  0.896328   2.207393    0.9700  0.913801\n",
       "    standard  0.252200  0.250233  0.782999   7.335314    0.8875  0.176199\n",
       "5   seq_new   0.625633  0.393667  0.923571   2.471355    0.9950  0.898546\n",
       "    standard  0.280800  0.263400  0.833517   9.730895    0.9850  0.446926\n",
       "6   seq_new   0.592600  0.367767  0.913660   2.418814    0.9750  0.828705\n",
       "    standard  0.203633  0.193833  0.781289  13.431386    0.9725  0.497751\n",
       "7   seq_new   0.637800  0.398467  0.901532   2.540632    0.9750  0.752279\n",
       "    standard  0.161000  0.170467  0.771561  13.358511    0.9475  0.023714\n",
       "8   seq_new   0.626733  0.405300  0.904361   2.505873    0.9850  0.818118\n",
       "    standard  0.222467  0.236100  0.765633  15.217230    0.9700  0.256221\n",
       "9   seq_new   0.640633  0.360000  0.910724   2.467514    0.9775  0.771144\n",
       "    standard  0.163867  0.158167  0.781971  10.833029    0.8225  0.158609\n",
       "10  seq_new   0.551100  0.374100  0.914829   3.169065    0.9750  0.758853\n",
       "    standard  0.148367  0.171100  0.746026  22.392828    0.9750  0.396284"
      ]
     },
     "execution_count": 65,
     "metadata": {},
     "output_type": "execute_result"
    }
   ],
   "source": [
    "conf_results.groupby(['n_c', 'method']).mean()"
   ]
  },
  {
   "cell_type": "code",
   "execution_count": 112,
   "id": "138a27ab",
   "metadata": {},
   "outputs": [],
   "source": [
    "conf_results = pd.read_csv('confounding_insight_new.csv')"
   ]
  },
  {
   "cell_type": "code",
   "execution_count": 113,
   "id": "98aaa698",
   "metadata": {},
   "outputs": [],
   "source": [
    "conf_results = conf_results[conf_results['n_c']!=0]"
   ]
  },
  {
   "cell_type": "code",
   "execution_count": 152,
   "id": "ea55cd2f",
   "metadata": {},
   "outputs": [
    {
     "data": {
      "image/png": "[encoded data removed]",
      "text/plain": [
       "<Figure size 640x480 with 1 Axes>"
      ]
     },
     "metadata": {},
     "output_type": "display_data"
    }
   ],
   "source": [
    "x = [1,2,3,4,5]\n",
    "d_seq = conf_results[conf_results['method']=='seq_new'].groupby(['n_c']).mean()['d']\n",
    "d_stand = conf_results[conf_results['method']=='standard'].groupby(['n_c']).mean()['d']\n",
    "\n",
    "d_seq_std = conf_results[conf_results['method']=='seq_new'].groupby(['n_c']).std()['d'] / np.sqrt(10) * 1.96\n",
    "d_stand_std = conf_results[conf_results['method']=='standard'].groupby(['n_c']).std()['d']/ np.sqrt(10) * 1.96\n",
    "\n",
    "\n",
    "plt.plot(x, d_stand, 'o-', label = 'Standard')\n",
    "plt.plot(x, d_seq, 'o-', label = 'Sequential')\n",
    "\n",
    "\n",
    "plt.fill_between(x, d_stand - d_stand_std, d_stand + d_stand_std, alpha=0.2)\n",
    "plt.fill_between(x, d_seq - d_seq_std, d_seq + d_seq_std, alpha=0.2)\n",
    "plt.legend()\n",
    "plt.xlabel('No. confounding covariates')\n",
    "plt.ylabel('$D$')\n",
    "plt.ylim([0.6,1])\n",
    "plt.savefig('plots/confounding_complexity_plot.png')"
   ]
  },
  {
   "cell_type": "markdown",
   "id": "4fb8bb0d",
   "metadata": {},
   "source": [
    "What happens are num covariates increases?"
   ]
  },
  {
   "cell_type": "code",
   "execution_count": 300,
   "id": "445fbf2d",
   "metadata": {},
   "outputs": [],
   "source": [
    "X,y,w,p,t = simulate_treatment_setup(500, d=2, n_o=1, n_t=1)\n",
    "X_df = pd.DataFrame(X)\n",
    "y_df = pd.DataFrame(y, columns = ['y'])\n",
    "w_df = pd.DataFrame(w, columns = ['w'])\n",
    "\n",
    "d_real = pd.concat([X_df,w_df,y_df], axis=1)"
   ]
  },
  {
   "cell_type": "code",
   "execution_count": 301,
   "metadata": {},
   "outputs": [
    {
     "name": "stderr",
     "output_type": "stream",
     "text": [
      "[2024-05-03T02:56:02.472509+0000][1207925][CRITICAL] load failed: module 'synthcity.plugins.generic.plugin_goggle' has no attribute 'plugin'\n",
      "[2024-05-03T02:56:02.473777+0000][1207925][CRITICAL] load failed: module 'synthcity.plugins.generic.plugin_goggle' has no attribute 'plugin'\n",
      "[2024-05-03T02:56:02.474460+0000][1207925][CRITICAL] module plugin_goggle load failed\n",
      "Epoch: 100%|██████████| 1000/1000 [00:09<00:00, 105.83it/s, loss=1.08]\n",
      "[2024-05-03T02:56:15.610555+0000][1207925][CRITICAL] load failed: module 'synthcity.plugins.generic.plugin_goggle' has no attribute 'plugin'\n",
      "[2024-05-03T02:56:15.611305+0000][1207925][CRITICAL] load failed: module 'synthcity.plugins.generic.plugin_goggle' has no attribute 'plugin'\n",
      "[2024-05-03T02:56:15.611758+0000][1207925][CRITICAL] module plugin_goggle load failed\n",
      "Epoch: 100%|██████████| 1000/1000 [00:06<00:00, 165.80it/s, loss=0.471]\n",
      "[2024-05-03T02:56:52.424485+0000][1207925][CRITICAL] load failed: module 'synthcity.plugins.generic.plugin_goggle' has no attribute 'plugin'\n",
      "[2024-05-03T02:56:52.425466+0000][1207925][CRITICAL] load failed: module 'synthcity.plugins.generic.plugin_goggle' has no attribute 'plugin'\n",
      "[2024-05-03T02:56:52.425888+0000][1207925][CRITICAL] module plugin_goggle load failed\n",
      "Epoch: 100%|██████████| 1000/1000 [00:09<00:00, 107.52it/s, loss=1.08]\n",
      "[2024-05-03T02:57:05.286030+0000][1207925][CRITICAL] load failed: module 'synthcity.plugins.generic.plugin_goggle' has no attribute 'plugin'\n",
      "[2024-05-03T02:57:05.286584+0000][1207925][CRITICAL] load failed: module 'synthcity.plugins.generic.plugin_goggle' has no attribute 'plugin'\n",
      "[2024-05-03T02:57:05.286961+0000][1207925][CRITICAL] module plugin_goggle load failed\n",
      "Epoch: 100%|██████████| 1000/1000 [00:05<00:00, 179.03it/s, loss=0.471]\n",
      "[2024-05-03T02:57:38.416119+0000][1207925][CRITICAL] load failed: module 'synthcity.plugins.generic.plugin_goggle' has no attribute 'plugin'\n",
      "[2024-05-03T02:57:38.417226+0000][1207925][CRITICAL] load failed: module 'synthcity.plugins.generic.plugin_goggle' has no attribute 'plugin'\n",
      "[2024-05-03T02:57:38.417684+0000][1207925][CRITICAL] module plugin_goggle load failed\n",
      "Epoch: 100%|██████████| 1000/1000 [00:08<00:00, 114.06it/s, loss=1.08]\n",
      "[2024-05-03T02:57:50.748852+0000][1207925][CRITICAL] load failed: module 'synthcity.plugins.generic.plugin_goggle' has no attribute 'plugin'\n",
      "[2024-05-03T02:57:50.749469+0000][1207925][CRITICAL] load failed: module 'synthcity.plugins.generic.plugin_goggle' has no attribute 'plugin'\n",
      "[2024-05-03T02:57:50.749854+0000][1207925][CRITICAL] module plugin_goggle load failed\n",
      "Epoch: 100%|██████████| 1000/1000 [00:05<00:00, 172.35it/s, loss=0.471]\n"
     ]
    }
   ],
   "source": [
    "test_cov_small = seq_test(d_real, 'ddpm', 'w', 'y', 3)"
   ]
  },
  {
   "cell_type": "code",
   "execution_count": 302,
   "id": "13f1ee2d",
   "metadata": {},
   "outputs": [
    {
     "data": {
      "text/html": [
       "<div>\n",
       "<style scoped>\n",
       "    .dataframe tbody tr th:only-of-type {\n",
       "        vertical-align: middle;\n",
       "    }\n",
       "\n",
       "    .dataframe tbody tr th {\n",
       "        vertical-align: top;\n",
       "    }\n",
       "\n",
       "    .dataframe thead th {\n",
       "        text-align: right;\n",
       "    }\n",
       "</style>\n",
       "<table border=\"1\" class=\"dataframe\">\n",
       "  <thead>\n",
       "    <tr style=\"text-align: right;\">\n",
       "      <th></th>\n",
       "      <th>f</th>\n",
       "      <th>d</th>\n",
       "      <th>u_pehe</th>\n",
       "      <th>u_policy</th>\n",
       "      <th>u_int</th>\n",
       "    </tr>\n",
       "    <tr>\n",
       "      <th>method</th>\n",
       "      <th></th>\n",
       "      <th></th>\n",
       "      <th></th>\n",
       "      <th></th>\n",
       "      <th></th>\n",
       "    </tr>\n",
       "  </thead>\n",
       "  <tbody>\n",
       "    <tr>\n",
       "      <th>seq_new</th>\n",
       "      <td>0.949355</td>\n",
       "      <td>0.948425</td>\n",
       "      <td>0.613462</td>\n",
       "      <td>0.756667</td>\n",
       "      <td>0.963520</td>\n",
       "    </tr>\n",
       "    <tr>\n",
       "      <th>standard</th>\n",
       "      <td>0.830259</td>\n",
       "      <td>0.914691</td>\n",
       "      <td>1.155762</td>\n",
       "      <td>0.506667</td>\n",
       "      <td>0.999829</td>\n",
       "    </tr>\n",
       "  </tbody>\n",
       "</table>\n",
       "</div>"
      ],
      "text/plain": [
       "                 f         d    u_pehe  u_policy     u_int\n",
       "method                                                    \n",
       "seq_new   0.949355  0.948425  0.613462  0.756667  0.963520\n",
       "standard  0.830259  0.914691  1.155762  0.506667  0.999829"
      ]
     },
     "execution_count": 302,
     "metadata": {},
     "output_type": "execute_result"
    }
   ],
   "source": [
    "test_cov_small.groupby('method').mean()"
   ]
  },
  {
   "cell_type": "markdown",
   "id": "c177872e",
   "metadata": {},
   "source": [
    "What happens as number of predictive variables changes?"
   ]
  },
  {
   "cell_type": "code",
   "execution_count": 145,
   "id": "b9d02eeb",
   "metadata": {},
   "outputs": [],
   "source": [
    "def predictive_insight(n, d, n_o, n_ts, gen, n_iter, save=False, fp=''):\n",
    "    results = pd.DataFrame(columns=['method', 'f', 'c', 'd', 'u_pehe', 'u_policy', 'u_int', 'n_t'])\n",
    "    for n_t in n_ts:\n",
    "        X,y,w,p,t = simulate_treatment_setup(n, d=d, n_o=n_o, n_t=n_t)\n",
    "        X_df = pd.DataFrame(X)\n",
    "        y_df = pd.DataFrame(y, columns = ['y'])\n",
    "        w_df = pd.DataFrame(w, columns = ['w'])\n",
    "        d_real = pd.concat([X_df,w_df,y_df], axis=1)\n",
    "\n",
    "        r = seq_test(d_real, gen, 'w', 'y', n_iter)\n",
    "        r['n_t'] = n_t\n",
    "        results = pd.concat([results, r])\n",
    "\n",
    "        print(f'Tested n_t = {n_t}')\n",
    "\n",
    "    if save:\n",
    "        results.to_csv(fp, index=False)\n",
    "        \n",
    "    return results"
   ]
  },
  {
   "cell_type": "code",
   "execution_count": 146,
   "id": "8c1d009a",
   "metadata": {},
   "outputs": [
    {
     "name": "stderr",
     "output_type": "stream",
     "text": [
      "[2024-05-13T13:13:09.302883+0000][4058068][CRITICAL] load failed: module 'synthcity.plugins.generic.plugin_goggle' has no attribute 'plugin'\n",
      "[2024-05-13T13:13:09.303474+0000][4058068][CRITICAL] load failed: module 'synthcity.plugins.generic.plugin_goggle' has no attribute 'plugin'\n",
      "[2024-05-13T13:13:09.303832+0000][4058068][CRITICAL] module plugin_goggle load failed\n"
     ]
    },
    {
     "name": "stdout",
     "output_type": "stream",
     "text": [
      "Fitting ddpm model\n"
     ]
    },
    {
     "name": "stderr",
     "output_type": "stream",
     "text": [
      "Epoch: 100%|██████████| 1000/1000 [00:12<00:00, 82.24it/s, loss=1.18]\n"
     ]
    },
    {
     "name": "stdout",
     "output_type": "stream",
     "text": [
      "Generating ddpm synthetic dataset\n"
     ]
    },
    {
     "name": "stderr",
     "output_type": "stream",
     "text": [
      "[2024-05-13T13:13:25.110268+0000][4058068][CRITICAL] load failed: module 'synthcity.plugins.generic.plugin_goggle' has no attribute 'plugin'\n",
      "[2024-05-13T13:13:25.110835+0000][4058068][CRITICAL] load failed: module 'synthcity.plugins.generic.plugin_goggle' has no attribute 'plugin'\n",
      "[2024-05-13T13:13:25.111166+0000][4058068][CRITICAL] module plugin_goggle load failed\n"
     ]
    },
    {
     "name": "stdout",
     "output_type": "stream",
     "text": [
      "Fitting ddpm covariate model\n"
     ]
    },
    {
     "name": "stderr",
     "output_type": "stream",
     "text": [
      "Epoch: 100%|██████████| 1000/1000 [00:08<00:00, 120.49it/s, loss=0.474]\n"
     ]
    },
    {
     "name": "stdout",
     "output_type": "stream",
     "text": [
      "Generating ddpm synthetic covariates\n",
      "Fitting propensity model\n",
      "Generating propensities\n",
      "Fitting CATE learner\n",
      "Generating POs\n"
     ]
    },
    {
     "name": "stderr",
     "output_type": "stream",
     "text": [
      "[2024-05-13T13:17:22.828150+0000][4058068][CRITICAL] load failed: module 'synthcity.plugins.generic.plugin_goggle' has no attribute 'plugin'\n",
      "[2024-05-13T13:17:22.830469+0000][4058068][CRITICAL] load failed: module 'synthcity.plugins.generic.plugin_goggle' has no attribute 'plugin'\n",
      "[2024-05-13T13:17:22.831508+0000][4058068][CRITICAL] module plugin_goggle load failed\n"
     ]
    },
    {
     "name": "stdout",
     "output_type": "stream",
     "text": [
      "Fitting ddpm model\n"
     ]
    },
    {
     "name": "stderr",
     "output_type": "stream",
     "text": [
      "Epoch: 100%|██████████| 1000/1000 [00:11<00:00, 85.33it/s, loss=1.18]\n"
     ]
    },
    {
     "name": "stdout",
     "output_type": "stream",
     "text": [
      "Generating ddpm synthetic dataset\n"
     ]
    },
    {
     "name": "stderr",
     "output_type": "stream",
     "text": [
      "[2024-05-13T13:17:38.191124+0000][4058068][CRITICAL] load failed: module 'synthcity.plugins.generic.plugin_goggle' has no attribute 'plugin'\n",
      "[2024-05-13T13:17:38.191684+0000][4058068][CRITICAL] load failed: module 'synthcity.plugins.generic.plugin_goggle' has no attribute 'plugin'\n",
      "[2024-05-13T13:17:38.192037+0000][4058068][CRITICAL] module plugin_goggle load failed\n"
     ]
    },
    {
     "name": "stdout",
     "output_type": "stream",
     "text": [
      "Fitting ddpm covariate model\n"
     ]
    },
    {
     "name": "stderr",
     "output_type": "stream",
     "text": [
      "Epoch: 100%|██████████| 1000/1000 [00:08<00:00, 118.96it/s, loss=0.471]\n"
     ]
    },
    {
     "name": "stdout",
     "output_type": "stream",
     "text": [
      "Generating ddpm synthetic covariates\n",
      "Fitting propensity model\n",
      "Generating propensities\n",
      "Fitting CATE learner\n",
      "Generating POs\n"
     ]
    },
    {
     "name": "stderr",
     "output_type": "stream",
     "text": [
      "[2024-05-13T13:21:35.748460+0000][4058068][CRITICAL] load failed: module 'synthcity.plugins.generic.plugin_goggle' has no attribute 'plugin'\n",
      "[2024-05-13T13:21:35.751101+0000][4058068][CRITICAL] load failed: module 'synthcity.plugins.generic.plugin_goggle' has no attribute 'plugin'\n",
      "[2024-05-13T13:21:35.752081+0000][4058068][CRITICAL] module plugin_goggle load failed\n"
     ]
    },
    {
     "name": "stdout",
     "output_type": "stream",
     "text": [
      "Fitting ddpm model\n"
     ]
    },
    {
     "name": "stderr",
     "output_type": "stream",
     "text": [
      "Epoch: 100%|██████████| 1000/1000 [00:11<00:00, 86.33it/s, loss=1.18]\n"
     ]
    },
    {
     "name": "stdout",
     "output_type": "stream",
     "text": [
      "Generating ddpm synthetic dataset\n"
     ]
    },
    {
     "name": "stderr",
     "output_type": "stream",
     "text": [
      "[2024-05-13T13:21:51.009463+0000][4058068][CRITICAL] load failed: module 'synthcity.plugins.generic.plugin_goggle' has no attribute 'plugin'\n",
      "[2024-05-13T13:21:51.010236+0000][4058068][CRITICAL] load failed: module 'synthcity.plugins.generic.plugin_goggle' has no attribute 'plugin'\n",
      "[2024-05-13T13:21:51.010587+0000][4058068][CRITICAL] module plugin_goggle load failed\n"
     ]
    },
    {
     "name": "stdout",
     "output_type": "stream",
     "text": [
      "Fitting ddpm covariate model\n"
     ]
    },
    {
     "name": "stderr",
     "output_type": "stream",
     "text": [
      "Epoch: 100%|██████████| 1000/1000 [00:08<00:00, 114.86it/s, loss=0.472]\n"
     ]
    },
    {
     "name": "stdout",
     "output_type": "stream",
     "text": [
      "Generating ddpm synthetic covariates\n",
      "Fitting propensity model\n",
      "Generating propensities\n",
      "Fitting CATE learner\n",
      "Generating POs\n"
     ]
    },
    {
     "name": "stderr",
     "output_type": "stream",
     "text": [
      "[2024-05-13T13:25:42.899887+0000][4058068][CRITICAL] load failed: module 'synthcity.plugins.generic.plugin_goggle' has no attribute 'plugin'\n",
      "[2024-05-13T13:25:42.902463+0000][4058068][CRITICAL] load failed: module 'synthcity.plugins.generic.plugin_goggle' has no attribute 'plugin'\n",
      "[2024-05-13T13:25:42.903429+0000][4058068][CRITICAL] module plugin_goggle load failed\n"
     ]
    },
    {
     "name": "stdout",
     "output_type": "stream",
     "text": [
      "Fitting ddpm model\n"
     ]
    },
    {
     "name": "stderr",
     "output_type": "stream",
     "text": [
      "Epoch: 100%|██████████| 1000/1000 [00:11<00:00, 86.51it/s, loss=1.17]\n"
     ]
    },
    {
     "name": "stdout",
     "output_type": "stream",
     "text": [
      "Generating ddpm synthetic dataset\n"
     ]
    },
    {
     "name": "stderr",
     "output_type": "stream",
     "text": [
      "[2024-05-13T13:25:58.127779+0000][4058068][CRITICAL] load failed: module 'synthcity.plugins.generic.plugin_goggle' has no attribute 'plugin'\n",
      "[2024-05-13T13:25:58.128445+0000][4058068][CRITICAL] load failed: module 'synthcity.plugins.generic.plugin_goggle' has no attribute 'plugin'\n",
      "[2024-05-13T13:25:58.128862+0000][4058068][CRITICAL] module plugin_goggle load failed\n"
     ]
    },
    {
     "name": "stdout",
     "output_type": "stream",
     "text": [
      "Fitting ddpm covariate model\n"
     ]
    },
    {
     "name": "stderr",
     "output_type": "stream",
     "text": [
      "Epoch: 100%|██████████| 1000/1000 [00:08<00:00, 117.19it/s, loss=0.474]\n"
     ]
    },
    {
     "name": "stdout",
     "output_type": "stream",
     "text": [
      "Generating ddpm synthetic covariates\n",
      "Fitting propensity model\n",
      "Generating propensities\n",
      "Fitting CATE learner\n",
      "Generating POs\n"
     ]
    },
    {
     "name": "stderr",
     "output_type": "stream",
     "text": [
      "[2024-05-13T13:29:53.900123+0000][4058068][CRITICAL] load failed: module 'synthcity.plugins.generic.plugin_goggle' has no attribute 'plugin'\n",
      "[2024-05-13T13:29:53.901824+0000][4058068][CRITICAL] load failed: module 'synthcity.plugins.generic.plugin_goggle' has no attribute 'plugin'\n",
      "[2024-05-13T13:29:53.902321+0000][4058068][CRITICAL] module plugin_goggle load failed\n"
     ]
    },
    {
     "name": "stdout",
     "output_type": "stream",
     "text": [
      "Fitting ddpm model\n"
     ]
    },
    {
     "name": "stderr",
     "output_type": "stream",
     "text": [
      "Epoch: 100%|██████████| 1000/1000 [00:11<00:00, 85.95it/s, loss=1.18]\n"
     ]
    },
    {
     "name": "stdout",
     "output_type": "stream",
     "text": [
      "Generating ddpm synthetic dataset\n"
     ]
    },
    {
     "name": "stderr",
     "output_type": "stream",
     "text": [
      "[2024-05-13T13:30:09.178669+0000][4058068][CRITICAL] load failed: module 'synthcity.plugins.generic.plugin_goggle' has no attribute 'plugin'\n",
      "[2024-05-13T13:30:09.179225+0000][4058068][CRITICAL] load failed: module 'synthcity.plugins.generic.plugin_goggle' has no attribute 'plugin'\n",
      "[2024-05-13T13:30:09.179569+0000][4058068][CRITICAL] module plugin_goggle load failed\n"
     ]
    },
    {
     "name": "stdout",
     "output_type": "stream",
     "text": [
      "Fitting ddpm covariate model\n"
     ]
    },
    {
     "name": "stderr",
     "output_type": "stream",
     "text": [
      "Epoch: 100%|██████████| 1000/1000 [00:08<00:00, 123.95it/s, loss=0.473]\n"
     ]
    },
    {
     "name": "stdout",
     "output_type": "stream",
     "text": [
      "Generating ddpm synthetic covariates\n",
      "Fitting propensity model\n",
      "Generating propensities\n",
      "Fitting CATE learner\n",
      "Generating POs\n"
     ]
    },
    {
     "name": "stderr",
     "output_type": "stream",
     "text": [
      "[2024-05-13T13:34:01.687731+0000][4058068][CRITICAL] load failed: module 'synthcity.plugins.generic.plugin_goggle' has no attribute 'plugin'\n",
      "[2024-05-13T13:34:01.690222+0000][4058068][CRITICAL] load failed: module 'synthcity.plugins.generic.plugin_goggle' has no attribute 'plugin'\n",
      "[2024-05-13T13:34:01.691170+0000][4058068][CRITICAL] module plugin_goggle load failed\n"
     ]
    },
    {
     "name": "stdout",
     "output_type": "stream",
     "text": [
      "Fitting ddpm model\n"
     ]
    },
    {
     "name": "stderr",
     "output_type": "stream",
     "text": [
      "Epoch: 100%|██████████| 1000/1000 [00:11<00:00, 84.93it/s, loss=1.18]\n"
     ]
    },
    {
     "name": "stdout",
     "output_type": "stream",
     "text": [
      "Generating ddpm synthetic dataset\n"
     ]
    },
    {
     "name": "stderr",
     "output_type": "stream",
     "text": [
      "[2024-05-13T13:34:17.121012+0000][4058068][CRITICAL] load failed: module 'synthcity.plugins.generic.plugin_goggle' has no attribute 'plugin'\n",
      "[2024-05-13T13:34:17.121574+0000][4058068][CRITICAL] load failed: module 'synthcity.plugins.generic.plugin_goggle' has no attribute 'plugin'\n",
      "[2024-05-13T13:34:17.121947+0000][4058068][CRITICAL] module plugin_goggle load failed\n"
     ]
    },
    {
     "name": "stdout",
     "output_type": "stream",
     "text": [
      "Fitting ddpm covariate model\n"
     ]
    },
    {
     "name": "stderr",
     "output_type": "stream",
     "text": [
      "Epoch: 100%|██████████| 1000/1000 [00:08<00:00, 122.03it/s, loss=0.473]\n"
     ]
    },
    {
     "name": "stdout",
     "output_type": "stream",
     "text": [
      "Generating ddpm synthetic covariates\n",
      "Fitting propensity model\n",
      "Generating propensities\n",
      "Fitting CATE learner\n",
      "Generating POs\n"
     ]
    },
    {
     "name": "stderr",
     "output_type": "stream",
     "text": [
      "[2024-05-13T13:38:22.445999+0000][4058068][CRITICAL] load failed: module 'synthcity.plugins.generic.plugin_goggle' has no attribute 'plugin'\n",
      "[2024-05-13T13:38:22.448295+0000][4058068][CRITICAL] load failed: module 'synthcity.plugins.generic.plugin_goggle' has no attribute 'plugin'\n",
      "[2024-05-13T13:38:22.449353+0000][4058068][CRITICAL] module plugin_goggle load failed\n"
     ]
    },
    {
     "name": "stdout",
     "output_type": "stream",
     "text": [
      "Fitting ddpm model\n"
     ]
    },
    {
     "name": "stderr",
     "output_type": "stream",
     "text": [
      "Epoch: 100%|██████████| 1000/1000 [00:11<00:00, 83.71it/s, loss=1.18]\n"
     ]
    },
    {
     "name": "stdout",
     "output_type": "stream",
     "text": [
      "Generating ddpm synthetic dataset\n"
     ]
    },
    {
     "name": "stderr",
     "output_type": "stream",
     "text": [
      "[2024-05-13T13:38:38.056449+0000][4058068][CRITICAL] load failed: module 'synthcity.plugins.generic.plugin_goggle' has no attribute 'plugin'\n",
      "[2024-05-13T13:38:38.057047+0000][4058068][CRITICAL] load failed: module 'synthcity.plugins.generic.plugin_goggle' has no attribute 'plugin'\n",
      "[2024-05-13T13:38:38.057398+0000][4058068][CRITICAL] module plugin_goggle load failed\n"
     ]
    },
    {
     "name": "stdout",
     "output_type": "stream",
     "text": [
      "Fitting ddpm covariate model\n"
     ]
    },
    {
     "name": "stderr",
     "output_type": "stream",
     "text": [
      "Epoch: 100%|██████████| 1000/1000 [00:08<00:00, 115.02it/s, loss=0.473]\n"
     ]
    },
    {
     "name": "stdout",
     "output_type": "stream",
     "text": [
      "Generating ddpm synthetic covariates\n",
      "Fitting propensity model\n",
      "Generating propensities\n",
      "Fitting CATE learner\n",
      "Generating POs\n"
     ]
    },
    {
     "name": "stderr",
     "output_type": "stream",
     "text": [
      "[2024-05-13T13:42:29.462114+0000][4058068][CRITICAL] load failed: module 'synthcity.plugins.generic.plugin_goggle' has no attribute 'plugin'\n",
      "[2024-05-13T13:42:29.464461+0000][4058068][CRITICAL] load failed: module 'synthcity.plugins.generic.plugin_goggle' has no attribute 'plugin'\n",
      "[2024-05-13T13:42:29.465413+0000][4058068][CRITICAL] module plugin_goggle load failed\n"
     ]
    },
    {
     "name": "stdout",
     "output_type": "stream",
     "text": [
      "Fitting ddpm model\n"
     ]
    },
    {
     "name": "stderr",
     "output_type": "stream",
     "text": [
      "Epoch: 100%|██████████| 1000/1000 [00:11<00:00, 86.28it/s, loss=1.18]\n"
     ]
    },
    {
     "name": "stdout",
     "output_type": "stream",
     "text": [
      "Generating ddpm synthetic dataset\n"
     ]
    },
    {
     "name": "stderr",
     "output_type": "stream",
     "text": [
      "[2024-05-13T13:42:44.749209+0000][4058068][CRITICAL] load failed: module 'synthcity.plugins.generic.plugin_goggle' has no attribute 'plugin'\n",
      "[2024-05-13T13:42:44.750007+0000][4058068][CRITICAL] load failed: module 'synthcity.plugins.generic.plugin_goggle' has no attribute 'plugin'\n",
      "[2024-05-13T13:42:44.750457+0000][4058068][CRITICAL] module plugin_goggle load failed\n"
     ]
    },
    {
     "name": "stdout",
     "output_type": "stream",
     "text": [
      "Fitting ddpm covariate model\n"
     ]
    },
    {
     "name": "stderr",
     "output_type": "stream",
     "text": [
      "Epoch: 100%|██████████| 1000/1000 [00:08<00:00, 115.09it/s, loss=0.474]\n"
     ]
    },
    {
     "name": "stdout",
     "output_type": "stream",
     "text": [
      "Generating ddpm synthetic covariates\n",
      "Fitting propensity model\n",
      "Generating propensities\n",
      "Fitting CATE learner\n",
      "Generating POs\n"
     ]
    },
    {
     "name": "stderr",
     "output_type": "stream",
     "text": [
      "[2024-05-13T13:46:36.321978+0000][4058068][CRITICAL] load failed: module 'synthcity.plugins.generic.plugin_goggle' has no attribute 'plugin'\n",
      "[2024-05-13T13:46:36.325878+0000][4058068][CRITICAL] load failed: module 'synthcity.plugins.generic.plugin_goggle' has no attribute 'plugin'\n",
      "[2024-05-13T13:46:36.326890+0000][4058068][CRITICAL] module plugin_goggle load failed\n"
     ]
    },
    {
     "name": "stdout",
     "output_type": "stream",
     "text": [
      "Fitting ddpm model\n"
     ]
    },
    {
     "name": "stderr",
     "output_type": "stream",
     "text": [
      "Epoch: 100%|██████████| 1000/1000 [00:12<00:00, 82.32it/s, loss=1.18]\n"
     ]
    },
    {
     "name": "stdout",
     "output_type": "stream",
     "text": [
      "Generating ddpm synthetic dataset\n"
     ]
    },
    {
     "name": "stderr",
     "output_type": "stream",
     "text": [
      "[2024-05-13T13:46:52.114846+0000][4058068][CRITICAL] load failed: module 'synthcity.plugins.generic.plugin_goggle' has no attribute 'plugin'\n",
      "[2024-05-13T13:46:52.115507+0000][4058068][CRITICAL] load failed: module 'synthcity.plugins.generic.plugin_goggle' has no attribute 'plugin'\n",
      "[2024-05-13T13:46:52.115922+0000][4058068][CRITICAL] module plugin_goggle load failed\n"
     ]
    },
    {
     "name": "stdout",
     "output_type": "stream",
     "text": [
      "Fitting ddpm covariate model\n"
     ]
    },
    {
     "name": "stderr",
     "output_type": "stream",
     "text": [
      "Epoch: 100%|██████████| 1000/1000 [00:08<00:00, 119.89it/s, loss=0.472]\n"
     ]
    },
    {
     "name": "stdout",
     "output_type": "stream",
     "text": [
      "Generating ddpm synthetic covariates\n",
      "Fitting propensity model\n",
      "Generating propensities\n",
      "Fitting CATE learner\n",
      "Generating POs\n"
     ]
    },
    {
     "name": "stderr",
     "output_type": "stream",
     "text": [
      "[2024-05-13T13:50:43.175291+0000][4058068][CRITICAL] load failed: module 'synthcity.plugins.generic.plugin_goggle' has no attribute 'plugin'\n",
      "[2024-05-13T13:50:43.177357+0000][4058068][CRITICAL] load failed: module 'synthcity.plugins.generic.plugin_goggle' has no attribute 'plugin'\n",
      "[2024-05-13T13:50:43.178444+0000][4058068][CRITICAL] module plugin_goggle load failed\n"
     ]
    },
    {
     "name": "stdout",
     "output_type": "stream",
     "text": [
      "Fitting ddpm model\n"
     ]
    },
    {
     "name": "stderr",
     "output_type": "stream",
     "text": [
      "Epoch: 100%|██████████| 1000/1000 [00:11<00:00, 84.17it/s, loss=1.18]\n"
     ]
    },
    {
     "name": "stdout",
     "output_type": "stream",
     "text": [
      "Generating ddpm synthetic dataset\n"
     ]
    },
    {
     "name": "stderr",
     "output_type": "stream",
     "text": [
      "[2024-05-13T13:50:58.708355+0000][4058068][CRITICAL] load failed: module 'synthcity.plugins.generic.plugin_goggle' has no attribute 'plugin'\n",
      "[2024-05-13T13:50:58.708946+0000][4058068][CRITICAL] load failed: module 'synthcity.plugins.generic.plugin_goggle' has no attribute 'plugin'\n",
      "[2024-05-13T13:50:58.709384+0000][4058068][CRITICAL] module plugin_goggle load failed\n"
     ]
    },
    {
     "name": "stdout",
     "output_type": "stream",
     "text": [
      "Fitting ddpm covariate model\n"
     ]
    },
    {
     "name": "stderr",
     "output_type": "stream",
     "text": [
      "Epoch: 100%|██████████| 1000/1000 [00:08<00:00, 118.82it/s, loss=0.473]\n"
     ]
    },
    {
     "name": "stdout",
     "output_type": "stream",
     "text": [
      "Generating ddpm synthetic covariates\n",
      "Fitting propensity model\n",
      "Generating propensities\n",
      "Fitting CATE learner\n",
      "Generating POs\n"
     ]
    },
    {
     "name": "stderr",
     "output_type": "stream",
     "text": [
      "[2024-05-13T13:54:55.230244+0000][4058068][CRITICAL] load failed: module 'synthcity.plugins.generic.plugin_goggle' has no attribute 'plugin'\n",
      "[2024-05-13T13:54:55.231143+0000][4058068][CRITICAL] load failed: module 'synthcity.plugins.generic.plugin_goggle' has no attribute 'plugin'\n",
      "[2024-05-13T13:54:55.231576+0000][4058068][CRITICAL] module plugin_goggle load failed\n"
     ]
    },
    {
     "name": "stdout",
     "output_type": "stream",
     "text": [
      "Tested n_t = 0\n",
      "Fitting ddpm model\n"
     ]
    },
    {
     "name": "stderr",
     "output_type": "stream",
     "text": [
      "Epoch: 100%|██████████| 1000/1000 [00:11<00:00, 87.20it/s, loss=1.17]\n"
     ]
    },
    {
     "name": "stdout",
     "output_type": "stream",
     "text": [
      "Generating ddpm synthetic dataset\n"
     ]
    },
    {
     "name": "stderr",
     "output_type": "stream",
     "text": [
      "[2024-05-13T13:55:10.391803+0000][4058068][CRITICAL] load failed: module 'synthcity.plugins.generic.plugin_goggle' has no attribute 'plugin'\n",
      "[2024-05-13T13:55:10.392384+0000][4058068][CRITICAL] load failed: module 'synthcity.plugins.generic.plugin_goggle' has no attribute 'plugin'\n",
      "[2024-05-13T13:55:10.392747+0000][4058068][CRITICAL] module plugin_goggle load failed\n"
     ]
    },
    {
     "name": "stdout",
     "output_type": "stream",
     "text": [
      "Fitting ddpm covariate model\n"
     ]
    },
    {
     "name": "stderr",
     "output_type": "stream",
     "text": [
      "Epoch: 100%|██████████| 1000/1000 [00:08<00:00, 117.90it/s, loss=0.473]\n"
     ]
    },
    {
     "name": "stdout",
     "output_type": "stream",
     "text": [
      "Generating ddpm synthetic covariates\n",
      "Fitting propensity model\n",
      "Generating propensities\n",
      "Fitting CATE learner\n",
      "Generating POs\n"
     ]
    },
    {
     "name": "stderr",
     "output_type": "stream",
     "text": [
      "[2024-05-13T13:59:28.714400+0000][4058068][CRITICAL] load failed: module 'synthcity.plugins.generic.plugin_goggle' has no attribute 'plugin'\n",
      "[2024-05-13T13:59:28.718005+0000][4058068][CRITICAL] load failed: module 'synthcity.plugins.generic.plugin_goggle' has no attribute 'plugin'\n",
      "[2024-05-13T13:59:28.719081+0000][4058068][CRITICAL] module plugin_goggle load failed\n"
     ]
    },
    {
     "name": "stdout",
     "output_type": "stream",
     "text": [
      "Fitting ddpm model\n"
     ]
    },
    {
     "name": "stderr",
     "output_type": "stream",
     "text": [
      "Epoch: 100%|██████████| 1000/1000 [00:11<00:00, 83.39it/s, loss=1.15]\n"
     ]
    },
    {
     "name": "stdout",
     "output_type": "stream",
     "text": [
      "Generating ddpm synthetic dataset\n"
     ]
    },
    {
     "name": "stderr",
     "output_type": "stream",
     "text": [
      "[2024-05-13T13:59:44.424708+0000][4058068][CRITICAL] load failed: module 'synthcity.plugins.generic.plugin_goggle' has no attribute 'plugin'\n",
      "[2024-05-13T13:59:44.425647+0000][4058068][CRITICAL] load failed: module 'synthcity.plugins.generic.plugin_goggle' has no attribute 'plugin'\n",
      "[2024-05-13T13:59:44.425992+0000][4058068][CRITICAL] module plugin_goggle load failed\n"
     ]
    },
    {
     "name": "stdout",
     "output_type": "stream",
     "text": [
      "Fitting ddpm covariate model\n"
     ]
    },
    {
     "name": "stderr",
     "output_type": "stream",
     "text": [
      "Epoch: 100%|██████████| 1000/1000 [00:08<00:00, 115.69it/s, loss=0.473]\n"
     ]
    },
    {
     "name": "stdout",
     "output_type": "stream",
     "text": [
      "Generating ddpm synthetic covariates\n",
      "Fitting propensity model\n",
      "Generating propensities\n",
      "Fitting CATE learner\n",
      "Generating POs\n"
     ]
    },
    {
     "name": "stderr",
     "output_type": "stream",
     "text": [
      "[2024-05-13T14:04:03.760474+0000][4058068][CRITICAL] load failed: module 'synthcity.plugins.generic.plugin_goggle' has no attribute 'plugin'\n",
      "[2024-05-13T14:04:03.762669+0000][4058068][CRITICAL] load failed: module 'synthcity.plugins.generic.plugin_goggle' has no attribute 'plugin'\n",
      "[2024-05-13T14:04:03.763629+0000][4058068][CRITICAL] module plugin_goggle load failed\n"
     ]
    },
    {
     "name": "stdout",
     "output_type": "stream",
     "text": [
      "Fitting ddpm model\n"
     ]
    },
    {
     "name": "stderr",
     "output_type": "stream",
     "text": [
      "Epoch: 100%|██████████| 1000/1000 [00:11<00:00, 85.13it/s, loss=1.16]\n"
     ]
    },
    {
     "name": "stdout",
     "output_type": "stream",
     "text": [
      "Generating ddpm synthetic dataset\n"
     ]
    },
    {
     "name": "stderr",
     "output_type": "stream",
     "text": [
      "[2024-05-13T14:04:19.148487+0000][4058068][CRITICAL] load failed: module 'synthcity.plugins.generic.plugin_goggle' has no attribute 'plugin'\n",
      "[2024-05-13T14:04:19.149206+0000][4058068][CRITICAL] load failed: module 'synthcity.plugins.generic.plugin_goggle' has no attribute 'plugin'\n",
      "[2024-05-13T14:04:19.149593+0000][4058068][CRITICAL] module plugin_goggle load failed\n"
     ]
    },
    {
     "name": "stdout",
     "output_type": "stream",
     "text": [
      "Fitting ddpm covariate model\n"
     ]
    },
    {
     "name": "stderr",
     "output_type": "stream",
     "text": [
      "Epoch: 100%|██████████| 1000/1000 [00:08<00:00, 120.08it/s, loss=0.473]\n"
     ]
    },
    {
     "name": "stdout",
     "output_type": "stream",
     "text": [
      "Generating ddpm synthetic covariates\n",
      "Fitting propensity model\n",
      "Generating propensities\n",
      "Fitting CATE learner\n",
      "Generating POs\n"
     ]
    },
    {
     "name": "stderr",
     "output_type": "stream",
     "text": [
      "[2024-05-13T14:08:41.439460+0000][4058068][CRITICAL] load failed: module 'synthcity.plugins.generic.plugin_goggle' has no attribute 'plugin'\n",
      "[2024-05-13T14:08:41.441803+0000][4058068][CRITICAL] load failed: module 'synthcity.plugins.generic.plugin_goggle' has no attribute 'plugin'\n",
      "[2024-05-13T14:08:41.442815+0000][4058068][CRITICAL] module plugin_goggle load failed\n"
     ]
    },
    {
     "name": "stdout",
     "output_type": "stream",
     "text": [
      "Fitting ddpm model\n"
     ]
    },
    {
     "name": "stderr",
     "output_type": "stream",
     "text": [
      "Epoch: 100%|██████████| 1000/1000 [00:12<00:00, 81.14it/s, loss=1.16]\n"
     ]
    },
    {
     "name": "stdout",
     "output_type": "stream",
     "text": [
      "Generating ddpm synthetic dataset\n"
     ]
    },
    {
     "name": "stderr",
     "output_type": "stream",
     "text": [
      "[2024-05-13T14:08:57.458232+0000][4058068][CRITICAL] load failed: module 'synthcity.plugins.generic.plugin_goggle' has no attribute 'plugin'\n",
      "[2024-05-13T14:08:57.458814+0000][4058068][CRITICAL] load failed: module 'synthcity.plugins.generic.plugin_goggle' has no attribute 'plugin'\n",
      "[2024-05-13T14:08:57.459383+0000][4058068][CRITICAL] module plugin_goggle load failed\n"
     ]
    },
    {
     "name": "stdout",
     "output_type": "stream",
     "text": [
      "Fitting ddpm covariate model\n"
     ]
    },
    {
     "name": "stderr",
     "output_type": "stream",
     "text": [
      "Epoch: 100%|██████████| 1000/1000 [00:08<00:00, 118.51it/s, loss=0.473]\n"
     ]
    },
    {
     "name": "stdout",
     "output_type": "stream",
     "text": [
      "Generating ddpm synthetic covariates\n",
      "Fitting propensity model\n",
      "Generating propensities\n",
      "Fitting CATE learner\n",
      "Generating POs\n"
     ]
    },
    {
     "name": "stderr",
     "output_type": "stream",
     "text": [
      "[2024-05-13T14:13:10.601571+0000][4058068][CRITICAL] load failed: module 'synthcity.plugins.generic.plugin_goggle' has no attribute 'plugin'\n",
      "[2024-05-13T14:13:10.604309+0000][4058068][CRITICAL] load failed: module 'synthcity.plugins.generic.plugin_goggle' has no attribute 'plugin'\n",
      "[2024-05-13T14:13:10.605264+0000][4058068][CRITICAL] module plugin_goggle load failed\n"
     ]
    },
    {
     "name": "stdout",
     "output_type": "stream",
     "text": [
      "Fitting ddpm model\n"
     ]
    },
    {
     "name": "stderr",
     "output_type": "stream",
     "text": [
      "Epoch: 100%|██████████| 1000/1000 [00:11<00:00, 84.04it/s, loss=1.16]\n"
     ]
    },
    {
     "name": "stdout",
     "output_type": "stream",
     "text": [
      "Generating ddpm synthetic dataset\n"
     ]
    },
    {
     "name": "stderr",
     "output_type": "stream",
     "text": [
      "[2024-05-13T14:13:26.152581+0000][4058068][CRITICAL] load failed: module 'synthcity.plugins.generic.plugin_goggle' has no attribute 'plugin'\n",
      "[2024-05-13T14:13:26.153144+0000][4058068][CRITICAL] load failed: module 'synthcity.plugins.generic.plugin_goggle' has no attribute 'plugin'\n",
      "[2024-05-13T14:13:26.153498+0000][4058068][CRITICAL] module plugin_goggle load failed\n"
     ]
    },
    {
     "name": "stdout",
     "output_type": "stream",
     "text": [
      "Fitting ddpm covariate model\n"
     ]
    },
    {
     "name": "stderr",
     "output_type": "stream",
     "text": [
      "Epoch: 100%|██████████| 1000/1000 [00:08<00:00, 114.69it/s, loss=0.473]\n"
     ]
    },
    {
     "name": "stdout",
     "output_type": "stream",
     "text": [
      "Generating ddpm synthetic covariates\n",
      "Fitting propensity model\n",
      "Generating propensities\n",
      "Fitting CATE learner\n",
      "Generating POs\n"
     ]
    },
    {
     "name": "stderr",
     "output_type": "stream",
     "text": [
      "[2024-05-13T14:17:39.876723+0000][4058068][CRITICAL] load failed: module 'synthcity.plugins.generic.plugin_goggle' has no attribute 'plugin'\n",
      "[2024-05-13T14:17:39.879173+0000][4058068][CRITICAL] load failed: module 'synthcity.plugins.generic.plugin_goggle' has no attribute 'plugin'\n",
      "[2024-05-13T14:17:39.880146+0000][4058068][CRITICAL] module plugin_goggle load failed\n"
     ]
    },
    {
     "name": "stdout",
     "output_type": "stream",
     "text": [
      "Fitting ddpm model\n"
     ]
    },
    {
     "name": "stderr",
     "output_type": "stream",
     "text": [
      "Epoch: 100%|██████████| 1000/1000 [00:11<00:00, 87.49it/s, loss=1.16]\n"
     ]
    },
    {
     "name": "stdout",
     "output_type": "stream",
     "text": [
      "Generating ddpm synthetic dataset\n"
     ]
    },
    {
     "name": "stderr",
     "output_type": "stream",
     "text": [
      "[2024-05-13T14:17:54.993437+0000][4058068][CRITICAL] load failed: module 'synthcity.plugins.generic.plugin_goggle' has no attribute 'plugin'\n",
      "[2024-05-13T14:17:54.994076+0000][4058068][CRITICAL] load failed: module 'synthcity.plugins.generic.plugin_goggle' has no attribute 'plugin'\n",
      "[2024-05-13T14:17:54.994735+0000][4058068][CRITICAL] module plugin_goggle load failed\n"
     ]
    },
    {
     "name": "stdout",
     "output_type": "stream",
     "text": [
      "Fitting ddpm covariate model\n"
     ]
    },
    {
     "name": "stderr",
     "output_type": "stream",
     "text": [
      "Epoch: 100%|██████████| 1000/1000 [00:08<00:00, 117.25it/s, loss=0.473]\n"
     ]
    },
    {
     "name": "stdout",
     "output_type": "stream",
     "text": [
      "Generating ddpm synthetic covariates\n",
      "Fitting propensity model\n",
      "Generating propensities\n",
      "Fitting CATE learner\n",
      "Generating POs\n"
     ]
    },
    {
     "name": "stderr",
     "output_type": "stream",
     "text": [
      "[2024-05-13T14:22:11.077252+0000][4058068][CRITICAL] load failed: module 'synthcity.plugins.generic.plugin_goggle' has no attribute 'plugin'\n",
      "[2024-05-13T14:22:11.081688+0000][4058068][CRITICAL] load failed: module 'synthcity.plugins.generic.plugin_goggle' has no attribute 'plugin'\n",
      "[2024-05-13T14:22:11.082264+0000][4058068][CRITICAL] module plugin_goggle load failed\n"
     ]
    },
    {
     "name": "stdout",
     "output_type": "stream",
     "text": [
      "Fitting ddpm model\n"
     ]
    },
    {
     "name": "stderr",
     "output_type": "stream",
     "text": [
      "Epoch: 100%|██████████| 1000/1000 [00:11<00:00, 84.40it/s, loss=1.14]\n"
     ]
    },
    {
     "name": "stdout",
     "output_type": "stream",
     "text": [
      "Generating ddpm synthetic dataset\n"
     ]
    },
    {
     "name": "stderr",
     "output_type": "stream",
     "text": [
      "[2024-05-13T14:22:26.610356+0000][4058068][CRITICAL] load failed: module 'synthcity.plugins.generic.plugin_goggle' has no attribute 'plugin'\n",
      "[2024-05-13T14:22:26.611172+0000][4058068][CRITICAL] load failed: module 'synthcity.plugins.generic.plugin_goggle' has no attribute 'plugin'\n",
      "[2024-05-13T14:22:26.611633+0000][4058068][CRITICAL] module plugin_goggle load failed\n"
     ]
    },
    {
     "name": "stdout",
     "output_type": "stream",
     "text": [
      "Fitting ddpm covariate model\n"
     ]
    },
    {
     "name": "stderr",
     "output_type": "stream",
     "text": [
      "Epoch: 100%|██████████| 1000/1000 [00:08<00:00, 119.49it/s, loss=0.472]\n"
     ]
    },
    {
     "name": "stdout",
     "output_type": "stream",
     "text": [
      "Generating ddpm synthetic covariates\n",
      "Fitting propensity model\n",
      "Generating propensities\n",
      "Fitting CATE learner\n",
      "Generating POs\n"
     ]
    },
    {
     "name": "stderr",
     "output_type": "stream",
     "text": [
      "[2024-05-13T14:26:43.654661+0000][4058068][CRITICAL] load failed: module 'synthcity.plugins.generic.plugin_goggle' has no attribute 'plugin'\n",
      "[2024-05-13T14:26:43.657716+0000][4058068][CRITICAL] load failed: module 'synthcity.plugins.generic.plugin_goggle' has no attribute 'plugin'\n",
      "[2024-05-13T14:26:43.658738+0000][4058068][CRITICAL] module plugin_goggle load failed\n"
     ]
    },
    {
     "name": "stdout",
     "output_type": "stream",
     "text": [
      "Fitting ddpm model\n"
     ]
    },
    {
     "name": "stderr",
     "output_type": "stream",
     "text": [
      "Epoch: 100%|██████████| 1000/1000 [00:11<00:00, 86.96it/s, loss=1.16]\n"
     ]
    },
    {
     "name": "stdout",
     "output_type": "stream",
     "text": [
      "Generating ddpm synthetic dataset\n"
     ]
    },
    {
     "name": "stderr",
     "output_type": "stream",
     "text": [
      "[2024-05-13T14:26:58.789568+0000][4058068][CRITICAL] load failed: module 'synthcity.plugins.generic.plugin_goggle' has no attribute 'plugin'\n",
      "[2024-05-13T14:26:58.790360+0000][4058068][CRITICAL] load failed: module 'synthcity.plugins.generic.plugin_goggle' has no attribute 'plugin'\n",
      "[2024-05-13T14:26:58.790763+0000][4058068][CRITICAL] module plugin_goggle load failed\n"
     ]
    },
    {
     "name": "stdout",
     "output_type": "stream",
     "text": [
      "Fitting ddpm covariate model\n"
     ]
    },
    {
     "name": "stderr",
     "output_type": "stream",
     "text": [
      "Epoch: 100%|██████████| 1000/1000 [00:08<00:00, 117.43it/s, loss=0.473]\n"
     ]
    },
    {
     "name": "stdout",
     "output_type": "stream",
     "text": [
      "Generating ddpm synthetic covariates\n",
      "Fitting propensity model\n",
      "Generating propensities\n",
      "Fitting CATE learner\n",
      "Generating POs\n"
     ]
    },
    {
     "name": "stderr",
     "output_type": "stream",
     "text": [
      "[2024-05-13T14:31:17.907033+0000][4058068][CRITICAL] load failed: module 'synthcity.plugins.generic.plugin_goggle' has no attribute 'plugin'\n",
      "[2024-05-13T14:31:17.909624+0000][4058068][CRITICAL] load failed: module 'synthcity.plugins.generic.plugin_goggle' has no attribute 'plugin'\n",
      "[2024-05-13T14:31:17.910780+0000][4058068][CRITICAL] module plugin_goggle load failed\n"
     ]
    },
    {
     "name": "stdout",
     "output_type": "stream",
     "text": [
      "Fitting ddpm model\n"
     ]
    },
    {
     "name": "stderr",
     "output_type": "stream",
     "text": [
      "Epoch: 100%|██████████| 1000/1000 [00:11<00:00, 87.85it/s, loss=1.14]\n"
     ]
    },
    {
     "name": "stdout",
     "output_type": "stream",
     "text": [
      "Generating ddpm synthetic dataset\n"
     ]
    },
    {
     "name": "stderr",
     "output_type": "stream",
     "text": [
      "[2024-05-13T14:31:32.933792+0000][4058068][CRITICAL] load failed: module 'synthcity.plugins.generic.plugin_goggle' has no attribute 'plugin'\n",
      "[2024-05-13T14:31:32.934360+0000][4058068][CRITICAL] load failed: module 'synthcity.plugins.generic.plugin_goggle' has no attribute 'plugin'\n",
      "[2024-05-13T14:31:32.934718+0000][4058068][CRITICAL] module plugin_goggle load failed\n"
     ]
    },
    {
     "name": "stdout",
     "output_type": "stream",
     "text": [
      "Fitting ddpm covariate model\n"
     ]
    },
    {
     "name": "stderr",
     "output_type": "stream",
     "text": [
      "Epoch: 100%|██████████| 1000/1000 [00:08<00:00, 116.61it/s, loss=0.474]\n"
     ]
    },
    {
     "name": "stdout",
     "output_type": "stream",
     "text": [
      "Generating ddpm synthetic covariates\n",
      "Fitting propensity model\n",
      "Generating propensities\n",
      "Fitting CATE learner\n",
      "Generating POs\n"
     ]
    },
    {
     "name": "stderr",
     "output_type": "stream",
     "text": [
      "[2024-05-13T14:35:52.758793+0000][4058068][CRITICAL] load failed: module 'synthcity.plugins.generic.plugin_goggle' has no attribute 'plugin'\n",
      "[2024-05-13T14:35:52.761820+0000][4058068][CRITICAL] load failed: module 'synthcity.plugins.generic.plugin_goggle' has no attribute 'plugin'\n",
      "[2024-05-13T14:35:52.762373+0000][4058068][CRITICAL] module plugin_goggle load failed\n"
     ]
    },
    {
     "name": "stdout",
     "output_type": "stream",
     "text": [
      "Fitting ddpm model\n"
     ]
    },
    {
     "name": "stderr",
     "output_type": "stream",
     "text": [
      "Epoch: 100%|██████████| 1000/1000 [00:11<00:00, 85.34it/s, loss=1.15]\n"
     ]
    },
    {
     "name": "stdout",
     "output_type": "stream",
     "text": [
      "Generating ddpm synthetic dataset\n"
     ]
    },
    {
     "name": "stderr",
     "output_type": "stream",
     "text": [
      "[2024-05-13T14:36:08.113403+0000][4058068][CRITICAL] load failed: module 'synthcity.plugins.generic.plugin_goggle' has no attribute 'plugin'\n",
      "[2024-05-13T14:36:08.114002+0000][4058068][CRITICAL] load failed: module 'synthcity.plugins.generic.plugin_goggle' has no attribute 'plugin'\n",
      "[2024-05-13T14:36:08.114376+0000][4058068][CRITICAL] module plugin_goggle load failed\n"
     ]
    },
    {
     "name": "stdout",
     "output_type": "stream",
     "text": [
      "Fitting ddpm covariate model\n"
     ]
    },
    {
     "name": "stderr",
     "output_type": "stream",
     "text": [
      "Epoch: 100%|██████████| 1000/1000 [00:08<00:00, 124.49it/s, loss=0.473]\n"
     ]
    },
    {
     "name": "stdout",
     "output_type": "stream",
     "text": [
      "Generating ddpm synthetic covariates\n",
      "Fitting propensity model\n",
      "Generating propensities\n",
      "Fitting CATE learner\n",
      "Generating POs\n"
     ]
    },
    {
     "name": "stderr",
     "output_type": "stream",
     "text": [
      "[2024-05-13T14:40:31.836129+0000][4058068][CRITICAL] load failed: module 'synthcity.plugins.generic.plugin_goggle' has no attribute 'plugin'\n",
      "[2024-05-13T14:40:31.837040+0000][4058068][CRITICAL] load failed: module 'synthcity.plugins.generic.plugin_goggle' has no attribute 'plugin'\n",
      "[2024-05-13T14:40:31.837399+0000][4058068][CRITICAL] module plugin_goggle load failed\n"
     ]
    },
    {
     "name": "stdout",
     "output_type": "stream",
     "text": [
      "Tested n_t = 1\n",
      "Fitting ddpm model\n"
     ]
    },
    {
     "name": "stderr",
     "output_type": "stream",
     "text": [
      "Epoch: 100%|██████████| 1000/1000 [00:11<00:00, 84.71it/s, loss=1.13]\n"
     ]
    },
    {
     "name": "stdout",
     "output_type": "stream",
     "text": [
      "Generating ddpm synthetic dataset\n"
     ]
    },
    {
     "name": "stderr",
     "output_type": "stream",
     "text": [
      "[2024-05-13T14:40:47.292009+0000][4058068][CRITICAL] load failed: module 'synthcity.plugins.generic.plugin_goggle' has no attribute 'plugin'\n",
      "[2024-05-13T14:40:47.292617+0000][4058068][CRITICAL] load failed: module 'synthcity.plugins.generic.plugin_goggle' has no attribute 'plugin'\n",
      "[2024-05-13T14:40:47.292981+0000][4058068][CRITICAL] module plugin_goggle load failed\n"
     ]
    },
    {
     "name": "stdout",
     "output_type": "stream",
     "text": [
      "Fitting ddpm covariate model\n"
     ]
    },
    {
     "name": "stderr",
     "output_type": "stream",
     "text": [
      "Epoch: 100%|██████████| 1000/1000 [00:08<00:00, 122.57it/s, loss=0.474]\n"
     ]
    },
    {
     "name": "stdout",
     "output_type": "stream",
     "text": [
      "Generating ddpm synthetic covariates\n",
      "Fitting propensity model\n",
      "Generating propensities\n",
      "Fitting CATE learner\n",
      "Generating POs\n"
     ]
    },
    {
     "name": "stderr",
     "output_type": "stream",
     "text": [
      "[2024-05-13T14:45:09.136772+0000][4058068][CRITICAL] load failed: module 'synthcity.plugins.generic.plugin_goggle' has no attribute 'plugin'\n",
      "[2024-05-13T14:45:09.139376+0000][4058068][CRITICAL] load failed: module 'synthcity.plugins.generic.plugin_goggle' has no attribute 'plugin'\n",
      "[2024-05-13T14:45:09.140381+0000][4058068][CRITICAL] module plugin_goggle load failed\n"
     ]
    },
    {
     "name": "stdout",
     "output_type": "stream",
     "text": [
      "Fitting ddpm model\n"
     ]
    },
    {
     "name": "stderr",
     "output_type": "stream",
     "text": [
      "Epoch: 100%|██████████| 1000/1000 [00:11<00:00, 83.63it/s, loss=1.13]\n"
     ]
    },
    {
     "name": "stdout",
     "output_type": "stream",
     "text": [
      "Generating ddpm synthetic dataset\n"
     ]
    },
    {
     "name": "stderr",
     "output_type": "stream",
     "text": [
      "[2024-05-13T14:45:24.784427+0000][4058068][CRITICAL] load failed: module 'synthcity.plugins.generic.plugin_goggle' has no attribute 'plugin'\n",
      "[2024-05-13T14:45:24.785147+0000][4058068][CRITICAL] load failed: module 'synthcity.plugins.generic.plugin_goggle' has no attribute 'plugin'\n",
      "[2024-05-13T14:45:24.785523+0000][4058068][CRITICAL] module plugin_goggle load failed\n"
     ]
    },
    {
     "name": "stdout",
     "output_type": "stream",
     "text": [
      "Fitting ddpm covariate model\n"
     ]
    },
    {
     "name": "stderr",
     "output_type": "stream",
     "text": [
      "Epoch: 100%|██████████| 1000/1000 [00:08<00:00, 114.35it/s, loss=0.473]\n"
     ]
    },
    {
     "name": "stdout",
     "output_type": "stream",
     "text": [
      "Generating ddpm synthetic covariates\n",
      "Fitting propensity model\n",
      "Generating propensities\n",
      "Fitting CATE learner\n",
      "Generating POs\n"
     ]
    },
    {
     "name": "stderr",
     "output_type": "stream",
     "text": [
      "[2024-05-13T14:49:49.486781+0000][4058068][CRITICAL] load failed: module 'synthcity.plugins.generic.plugin_goggle' has no attribute 'plugin'\n",
      "[2024-05-13T14:49:49.489199+0000][4058068][CRITICAL] load failed: module 'synthcity.plugins.generic.plugin_goggle' has no attribute 'plugin'\n",
      "[2024-05-13T14:49:49.490178+0000][4058068][CRITICAL] module plugin_goggle load failed\n"
     ]
    },
    {
     "name": "stdout",
     "output_type": "stream",
     "text": [
      "Fitting ddpm model\n"
     ]
    },
    {
     "name": "stderr",
     "output_type": "stream",
     "text": [
      "Epoch: 100%|██████████| 1000/1000 [00:11<00:00, 84.25it/s, loss=1.13]\n"
     ]
    },
    {
     "name": "stdout",
     "output_type": "stream",
     "text": [
      "Generating ddpm synthetic dataset\n"
     ]
    },
    {
     "name": "stderr",
     "output_type": "stream",
     "text": [
      "[2024-05-13T14:50:04.983504+0000][4058068][CRITICAL] load failed: module 'synthcity.plugins.generic.plugin_goggle' has no attribute 'plugin'\n",
      "[2024-05-13T14:50:04.984090+0000][4058068][CRITICAL] load failed: module 'synthcity.plugins.generic.plugin_goggle' has no attribute 'plugin'\n",
      "[2024-05-13T14:50:04.984441+0000][4058068][CRITICAL] module plugin_goggle load failed\n"
     ]
    },
    {
     "name": "stdout",
     "output_type": "stream",
     "text": [
      "Fitting ddpm covariate model\n"
     ]
    },
    {
     "name": "stderr",
     "output_type": "stream",
     "text": [
      "Epoch: 100%|██████████| 1000/1000 [00:08<00:00, 115.11it/s, loss=0.474]\n"
     ]
    },
    {
     "name": "stdout",
     "output_type": "stream",
     "text": [
      "Generating ddpm synthetic covariates\n",
      "Fitting propensity model\n",
      "Generating propensities\n",
      "Fitting CATE learner\n",
      "Generating POs\n"
     ]
    },
    {
     "name": "stderr",
     "output_type": "stream",
     "text": [
      "[2024-05-13T14:54:41.274027+0000][4058068][CRITICAL] load failed: module 'synthcity.plugins.generic.plugin_goggle' has no attribute 'plugin'\n",
      "[2024-05-13T14:54:41.276365+0000][4058068][CRITICAL] load failed: module 'synthcity.plugins.generic.plugin_goggle' has no attribute 'plugin'\n",
      "[2024-05-13T14:54:41.277284+0000][4058068][CRITICAL] module plugin_goggle load failed\n"
     ]
    },
    {
     "name": "stdout",
     "output_type": "stream",
     "text": [
      "Fitting ddpm model\n"
     ]
    },
    {
     "name": "stderr",
     "output_type": "stream",
     "text": [
      "Epoch: 100%|██████████| 1000/1000 [00:11<00:00, 84.67it/s, loss=1.14]\n"
     ]
    },
    {
     "name": "stdout",
     "output_type": "stream",
     "text": [
      "Generating ddpm synthetic dataset\n"
     ]
    },
    {
     "name": "stderr",
     "output_type": "stream",
     "text": [
      "[2024-05-13T14:54:56.759517+0000][4058068][CRITICAL] load failed: module 'synthcity.plugins.generic.plugin_goggle' has no attribute 'plugin'\n",
      "[2024-05-13T14:54:56.760087+0000][4058068][CRITICAL] load failed: module 'synthcity.plugins.generic.plugin_goggle' has no attribute 'plugin'\n",
      "[2024-05-13T14:54:56.760378+0000][4058068][CRITICAL] module plugin_goggle load failed\n"
     ]
    },
    {
     "name": "stdout",
     "output_type": "stream",
     "text": [
      "Fitting ddpm covariate model\n"
     ]
    },
    {
     "name": "stderr",
     "output_type": "stream",
     "text": [
      "Epoch: 100%|██████████| 1000/1000 [00:08<00:00, 122.61it/s, loss=0.473]\n"
     ]
    },
    {
     "name": "stdout",
     "output_type": "stream",
     "text": [
      "Generating ddpm synthetic covariates\n",
      "Fitting propensity model\n",
      "Generating propensities\n",
      "Fitting CATE learner\n",
      "Generating POs\n"
     ]
    },
    {
     "name": "stderr",
     "output_type": "stream",
     "text": [
      "[2024-05-13T14:59:28.569030+0000][4058068][CRITICAL] load failed: module 'synthcity.plugins.generic.plugin_goggle' has no attribute 'plugin'\n",
      "[2024-05-13T14:59:28.571306+0000][4058068][CRITICAL] load failed: module 'synthcity.plugins.generic.plugin_goggle' has no attribute 'plugin'\n",
      "[2024-05-13T14:59:28.572331+0000][4058068][CRITICAL] module plugin_goggle load failed\n"
     ]
    },
    {
     "name": "stdout",
     "output_type": "stream",
     "text": [
      "Fitting ddpm model\n"
     ]
    },
    {
     "name": "stderr",
     "output_type": "stream",
     "text": [
      "Epoch: 100%|██████████| 1000/1000 [00:11<00:00, 83.37it/s, loss=1.13]\n"
     ]
    },
    {
     "name": "stdout",
     "output_type": "stream",
     "text": [
      "Generating ddpm synthetic dataset\n"
     ]
    },
    {
     "name": "stderr",
     "output_type": "stream",
     "text": [
      "[2024-05-13T14:59:44.545526+0000][4058068][CRITICAL] load failed: module 'synthcity.plugins.generic.plugin_goggle' has no attribute 'plugin'\n",
      "[2024-05-13T14:59:44.546285+0000][4058068][CRITICAL] load failed: module 'synthcity.plugins.generic.plugin_goggle' has no attribute 'plugin'\n",
      "[2024-05-13T14:59:44.546670+0000][4058068][CRITICAL] module plugin_goggle load failed\n"
     ]
    },
    {
     "name": "stdout",
     "output_type": "stream",
     "text": [
      "Fitting ddpm covariate model\n"
     ]
    },
    {
     "name": "stderr",
     "output_type": "stream",
     "text": [
      "Epoch: 100%|██████████| 1000/1000 [00:08<00:00, 118.25it/s, loss=0.474]\n"
     ]
    },
    {
     "name": "stdout",
     "output_type": "stream",
     "text": [
      "Generating ddpm synthetic covariates\n",
      "Fitting propensity model\n",
      "Generating propensities\n",
      "Fitting CATE learner\n",
      "Generating POs\n"
     ]
    },
    {
     "name": "stderr",
     "output_type": "stream",
     "text": [
      "[2024-05-13T15:04:05.123619+0000][4058068][CRITICAL] load failed: module 'synthcity.plugins.generic.plugin_goggle' has no attribute 'plugin'\n",
      "[2024-05-13T15:04:05.125792+0000][4058068][CRITICAL] load failed: module 'synthcity.plugins.generic.plugin_goggle' has no attribute 'plugin'\n",
      "[2024-05-13T15:04:05.126793+0000][4058068][CRITICAL] module plugin_goggle load failed\n"
     ]
    },
    {
     "name": "stdout",
     "output_type": "stream",
     "text": [
      "Fitting ddpm model\n"
     ]
    },
    {
     "name": "stderr",
     "output_type": "stream",
     "text": [
      "Epoch: 100%|██████████| 1000/1000 [00:11<00:00, 87.77it/s, loss=1.14]\n"
     ]
    },
    {
     "name": "stdout",
     "output_type": "stream",
     "text": [
      "Generating ddpm synthetic dataset\n"
     ]
    },
    {
     "name": "stderr",
     "output_type": "stream",
     "text": [
      "[2024-05-13T15:04:20.157337+0000][4058068][CRITICAL] load failed: module 'synthcity.plugins.generic.plugin_goggle' has no attribute 'plugin'\n",
      "[2024-05-13T15:04:20.158309+0000][4058068][CRITICAL] load failed: module 'synthcity.plugins.generic.plugin_goggle' has no attribute 'plugin'\n",
      "[2024-05-13T15:04:20.158741+0000][4058068][CRITICAL] module plugin_goggle load failed\n"
     ]
    },
    {
     "name": "stdout",
     "output_type": "stream",
     "text": [
      "Fitting ddpm covariate model\n"
     ]
    },
    {
     "name": "stderr",
     "output_type": "stream",
     "text": [
      "Epoch: 100%|██████████| 1000/1000 [00:08<00:00, 118.67it/s, loss=0.474]\n"
     ]
    },
    {
     "name": "stdout",
     "output_type": "stream",
     "text": [
      "Generating ddpm synthetic covariates\n",
      "Fitting propensity model\n",
      "Generating propensities\n",
      "Fitting CATE learner\n",
      "Generating POs\n"
     ]
    },
    {
     "name": "stderr",
     "output_type": "stream",
     "text": [
      "[2024-05-13T15:08:51.882476+0000][4058068][CRITICAL] load failed: module 'synthcity.plugins.generic.plugin_goggle' has no attribute 'plugin'\n",
      "[2024-05-13T15:08:51.883795+0000][4058068][CRITICAL] load failed: module 'synthcity.plugins.generic.plugin_goggle' has no attribute 'plugin'\n",
      "[2024-05-13T15:08:51.884312+0000][4058068][CRITICAL] module plugin_goggle load failed\n"
     ]
    },
    {
     "name": "stdout",
     "output_type": "stream",
     "text": [
      "Fitting ddpm model\n"
     ]
    },
    {
     "name": "stderr",
     "output_type": "stream",
     "text": [
      "Epoch: 100%|██████████| 1000/1000 [00:11<00:00, 87.16it/s, loss=1.13]\n"
     ]
    },
    {
     "name": "stdout",
     "output_type": "stream",
     "text": [
      "Generating ddpm synthetic dataset\n"
     ]
    },
    {
     "name": "stderr",
     "output_type": "stream",
     "text": [
      "[2024-05-13T15:09:07.051095+0000][4058068][CRITICAL] load failed: module 'synthcity.plugins.generic.plugin_goggle' has no attribute 'plugin'\n",
      "[2024-05-13T15:09:07.051699+0000][4058068][CRITICAL] load failed: module 'synthcity.plugins.generic.plugin_goggle' has no attribute 'plugin'\n",
      "[2024-05-13T15:09:07.052051+0000][4058068][CRITICAL] module plugin_goggle load failed\n"
     ]
    },
    {
     "name": "stdout",
     "output_type": "stream",
     "text": [
      "Fitting ddpm covariate model\n"
     ]
    },
    {
     "name": "stderr",
     "output_type": "stream",
     "text": [
      "Epoch: 100%|██████████| 1000/1000 [00:08<00:00, 118.24it/s, loss=0.474]\n"
     ]
    },
    {
     "name": "stdout",
     "output_type": "stream",
     "text": [
      "Generating ddpm synthetic covariates\n",
      "Fitting propensity model\n",
      "Generating propensities\n",
      "Fitting CATE learner\n",
      "Generating POs\n"
     ]
    },
    {
     "name": "stderr",
     "output_type": "stream",
     "text": [
      "[2024-05-13T15:13:40.088254+0000][4058068][CRITICAL] load failed: module 'synthcity.plugins.generic.plugin_goggle' has no attribute 'plugin'\n",
      "[2024-05-13T15:13:40.089494+0000][4058068][CRITICAL] load failed: module 'synthcity.plugins.generic.plugin_goggle' has no attribute 'plugin'\n",
      "[2024-05-13T15:13:40.093732+0000][4058068][CRITICAL] module plugin_goggle load failed\n"
     ]
    },
    {
     "name": "stdout",
     "output_type": "stream",
     "text": [
      "Fitting ddpm model\n"
     ]
    },
    {
     "name": "stderr",
     "output_type": "stream",
     "text": [
      "Epoch: 100%|██████████| 1000/1000 [00:11<00:00, 85.10it/s, loss=1.14]\n"
     ]
    },
    {
     "name": "stdout",
     "output_type": "stream",
     "text": [
      "Generating ddpm synthetic dataset\n"
     ]
    },
    {
     "name": "stderr",
     "output_type": "stream",
     "text": [
      "[2024-05-13T15:13:55.513566+0000][4058068][CRITICAL] load failed: module 'synthcity.plugins.generic.plugin_goggle' has no attribute 'plugin'\n",
      "[2024-05-13T15:13:55.514247+0000][4058068][CRITICAL] load failed: module 'synthcity.plugins.generic.plugin_goggle' has no attribute 'plugin'\n",
      "[2024-05-13T15:13:55.514604+0000][4058068][CRITICAL] module plugin_goggle load failed\n"
     ]
    },
    {
     "name": "stdout",
     "output_type": "stream",
     "text": [
      "Fitting ddpm covariate model\n"
     ]
    },
    {
     "name": "stderr",
     "output_type": "stream",
     "text": [
      "Epoch: 100%|██████████| 1000/1000 [00:08<00:00, 123.42it/s, loss=0.473]\n"
     ]
    },
    {
     "name": "stdout",
     "output_type": "stream",
     "text": [
      "Generating ddpm synthetic covariates\n",
      "Fitting propensity model\n",
      "Generating propensities\n",
      "Fitting CATE learner\n",
      "Generating POs\n"
     ]
    },
    {
     "name": "stderr",
     "output_type": "stream",
     "text": [
      "[2024-05-13T15:18:24.449623+0000][4058068][CRITICAL] load failed: module 'synthcity.plugins.generic.plugin_goggle' has no attribute 'plugin'\n",
      "[2024-05-13T15:18:24.451526+0000][4058068][CRITICAL] load failed: module 'synthcity.plugins.generic.plugin_goggle' has no attribute 'plugin'\n",
      "[2024-05-13T15:18:24.452547+0000][4058068][CRITICAL] module plugin_goggle load failed\n"
     ]
    },
    {
     "name": "stdout",
     "output_type": "stream",
     "text": [
      "Fitting ddpm model\n"
     ]
    },
    {
     "name": "stderr",
     "output_type": "stream",
     "text": [
      "Epoch: 100%|██████████| 1000/1000 [00:11<00:00, 84.53it/s, loss=1.14]\n"
     ]
    },
    {
     "name": "stdout",
     "output_type": "stream",
     "text": [
      "Generating ddpm synthetic dataset\n"
     ]
    },
    {
     "name": "stderr",
     "output_type": "stream",
     "text": [
      "[2024-05-13T15:18:39.935003+0000][4058068][CRITICAL] load failed: module 'synthcity.plugins.generic.plugin_goggle' has no attribute 'plugin'\n",
      "[2024-05-13T15:18:39.935887+0000][4058068][CRITICAL] load failed: module 'synthcity.plugins.generic.plugin_goggle' has no attribute 'plugin'\n",
      "[2024-05-13T15:18:39.936334+0000][4058068][CRITICAL] module plugin_goggle load failed\n"
     ]
    },
    {
     "name": "stdout",
     "output_type": "stream",
     "text": [
      "Fitting ddpm covariate model\n"
     ]
    },
    {
     "name": "stderr",
     "output_type": "stream",
     "text": [
      "Epoch: 100%|██████████| 1000/1000 [00:08<00:00, 120.67it/s, loss=0.474]\n"
     ]
    },
    {
     "name": "stdout",
     "output_type": "stream",
     "text": [
      "Generating ddpm synthetic covariates\n",
      "Fitting propensity model\n",
      "Generating propensities\n",
      "Fitting CATE learner\n",
      "Generating POs\n"
     ]
    },
    {
     "name": "stderr",
     "output_type": "stream",
     "text": [
      "[2024-05-13T15:23:16.658666+0000][4058068][CRITICAL] load failed: module 'synthcity.plugins.generic.plugin_goggle' has no attribute 'plugin'\n",
      "[2024-05-13T15:23:16.660777+0000][4058068][CRITICAL] load failed: module 'synthcity.plugins.generic.plugin_goggle' has no attribute 'plugin'\n",
      "[2024-05-13T15:23:16.661753+0000][4058068][CRITICAL] module plugin_goggle load failed\n"
     ]
    },
    {
     "name": "stdout",
     "output_type": "stream",
     "text": [
      "Fitting ddpm model\n"
     ]
    },
    {
     "name": "stderr",
     "output_type": "stream",
     "text": [
      "Epoch: 100%|██████████| 1000/1000 [00:11<00:00, 88.02it/s, loss=1.14]\n"
     ]
    },
    {
     "name": "stdout",
     "output_type": "stream",
     "text": [
      "Generating ddpm synthetic dataset\n"
     ]
    },
    {
     "name": "stderr",
     "output_type": "stream",
     "text": [
      "[2024-05-13T15:23:31.672481+0000][4058068][CRITICAL] load failed: module 'synthcity.plugins.generic.plugin_goggle' has no attribute 'plugin'\n",
      "[2024-05-13T15:23:31.673146+0000][4058068][CRITICAL] load failed: module 'synthcity.plugins.generic.plugin_goggle' has no attribute 'plugin'\n",
      "[2024-05-13T15:23:31.673506+0000][4058068][CRITICAL] module plugin_goggle load failed\n"
     ]
    },
    {
     "name": "stdout",
     "output_type": "stream",
     "text": [
      "Fitting ddpm covariate model\n"
     ]
    },
    {
     "name": "stderr",
     "output_type": "stream",
     "text": [
      "Epoch: 100%|██████████| 1000/1000 [00:08<00:00, 117.06it/s, loss=0.472]\n"
     ]
    },
    {
     "name": "stdout",
     "output_type": "stream",
     "text": [
      "Generating ddpm synthetic covariates\n",
      "Fitting propensity model\n",
      "Generating propensities\n",
      "Fitting CATE learner\n",
      "Generating POs\n"
     ]
    },
    {
     "name": "stderr",
     "output_type": "stream",
     "text": [
      "[2024-05-13T15:27:57.502601+0000][4058068][CRITICAL] load failed: module 'synthcity.plugins.generic.plugin_goggle' has no attribute 'plugin'\n",
      "[2024-05-13T15:27:57.503446+0000][4058068][CRITICAL] load failed: module 'synthcity.plugins.generic.plugin_goggle' has no attribute 'plugin'\n",
      "[2024-05-13T15:27:57.503936+0000][4058068][CRITICAL] module plugin_goggle load failed\n"
     ]
    },
    {
     "name": "stdout",
     "output_type": "stream",
     "text": [
      "Tested n_t = 2\n",
      "Fitting ddpm model\n"
     ]
    },
    {
     "name": "stderr",
     "output_type": "stream",
     "text": [
      "Epoch: 100%|██████████| 1000/1000 [00:11<00:00, 86.55it/s, loss=1.08]\n"
     ]
    },
    {
     "name": "stdout",
     "output_type": "stream",
     "text": [
      "Generating ddpm synthetic dataset\n"
     ]
    },
    {
     "name": "stderr",
     "output_type": "stream",
     "text": [
      "[2024-05-13T15:28:12.689096+0000][4058068][CRITICAL] load failed: module 'synthcity.plugins.generic.plugin_goggle' has no attribute 'plugin'\n",
      "[2024-05-13T15:28:12.689917+0000][4058068][CRITICAL] load failed: module 'synthcity.plugins.generic.plugin_goggle' has no attribute 'plugin'\n",
      "[2024-05-13T15:28:12.690276+0000][4058068][CRITICAL] module plugin_goggle load failed\n"
     ]
    },
    {
     "name": "stdout",
     "output_type": "stream",
     "text": [
      "Fitting ddpm covariate model\n"
     ]
    },
    {
     "name": "stderr",
     "output_type": "stream",
     "text": [
      "Epoch: 100%|██████████| 1000/1000 [00:08<00:00, 114.17it/s, loss=0.473]\n"
     ]
    },
    {
     "name": "stdout",
     "output_type": "stream",
     "text": [
      "Generating ddpm synthetic covariates\n",
      "Fitting propensity model\n",
      "Generating propensities\n",
      "Fitting CATE learner\n",
      "Generating POs\n"
     ]
    },
    {
     "name": "stderr",
     "output_type": "stream",
     "text": [
      "[2024-05-13T15:33:10.330035+0000][4058068][CRITICAL] load failed: module 'synthcity.plugins.generic.plugin_goggle' has no attribute 'plugin'\n",
      "[2024-05-13T15:33:10.333643+0000][4058068][CRITICAL] load failed: module 'synthcity.plugins.generic.plugin_goggle' has no attribute 'plugin'\n",
      "[2024-05-13T15:33:10.334211+0000][4058068][CRITICAL] module plugin_goggle load failed\n"
     ]
    },
    {
     "name": "stdout",
     "output_type": "stream",
     "text": [
      "Fitting ddpm model\n"
     ]
    },
    {
     "name": "stderr",
     "output_type": "stream",
     "text": [
      "Epoch: 100%|██████████| 1000/1000 [00:11<00:00, 84.13it/s, loss=1.09]\n"
     ]
    },
    {
     "name": "stdout",
     "output_type": "stream",
     "text": [
      "Generating ddpm synthetic dataset\n"
     ]
    },
    {
     "name": "stderr",
     "output_type": "stream",
     "text": [
      "[2024-05-13T15:33:25.905464+0000][4058068][CRITICAL] load failed: module 'synthcity.plugins.generic.plugin_goggle' has no attribute 'plugin'\n",
      "[2024-05-13T15:33:25.906242+0000][4058068][CRITICAL] load failed: module 'synthcity.plugins.generic.plugin_goggle' has no attribute 'plugin'\n",
      "[2024-05-13T15:33:25.906688+0000][4058068][CRITICAL] module plugin_goggle load failed\n"
     ]
    },
    {
     "name": "stdout",
     "output_type": "stream",
     "text": [
      "Fitting ddpm covariate model\n"
     ]
    },
    {
     "name": "stderr",
     "output_type": "stream",
     "text": [
      "Epoch: 100%|██████████| 1000/1000 [00:08<00:00, 119.60it/s, loss=0.472]\n"
     ]
    },
    {
     "name": "stdout",
     "output_type": "stream",
     "text": [
      "Generating ddpm synthetic covariates\n",
      "Fitting propensity model\n",
      "Generating propensities\n",
      "Fitting CATE learner\n",
      "Generating POs\n"
     ]
    },
    {
     "name": "stderr",
     "output_type": "stream",
     "text": [
      "[2024-05-13T15:38:18.669435+0000][4058068][CRITICAL] load failed: module 'synthcity.plugins.generic.plugin_goggle' has no attribute 'plugin'\n",
      "[2024-05-13T15:38:18.670335+0000][4058068][CRITICAL] load failed: module 'synthcity.plugins.generic.plugin_goggle' has no attribute 'plugin'\n",
      "[2024-05-13T15:38:18.670751+0000][4058068][CRITICAL] module plugin_goggle load failed\n"
     ]
    },
    {
     "name": "stdout",
     "output_type": "stream",
     "text": [
      "Fitting ddpm model\n"
     ]
    },
    {
     "name": "stderr",
     "output_type": "stream",
     "text": [
      "Epoch: 100%|██████████| 1000/1000 [00:11<00:00, 86.67it/s, loss=1.09]\n"
     ]
    },
    {
     "name": "stdout",
     "output_type": "stream",
     "text": [
      "Generating ddpm synthetic dataset\n"
     ]
    },
    {
     "name": "stderr",
     "output_type": "stream",
     "text": [
      "[2024-05-13T15:38:33.873579+0000][4058068][CRITICAL] load failed: module 'synthcity.plugins.generic.plugin_goggle' has no attribute 'plugin'\n",
      "[2024-05-13T15:38:33.874324+0000][4058068][CRITICAL] load failed: module 'synthcity.plugins.generic.plugin_goggle' has no attribute 'plugin'\n",
      "[2024-05-13T15:38:33.874864+0000][4058068][CRITICAL] module plugin_goggle load failed\n"
     ]
    },
    {
     "name": "stdout",
     "output_type": "stream",
     "text": [
      "Fitting ddpm covariate model\n"
     ]
    },
    {
     "name": "stderr",
     "output_type": "stream",
     "text": [
      "Epoch: 100%|██████████| 1000/1000 [00:08<00:00, 120.81it/s, loss=0.473]\n"
     ]
    },
    {
     "name": "stdout",
     "output_type": "stream",
     "text": [
      "Generating ddpm synthetic covariates\n",
      "Fitting propensity model\n",
      "Generating propensities\n",
      "Fitting CATE learner\n",
      "Generating POs\n"
     ]
    },
    {
     "name": "stderr",
     "output_type": "stream",
     "text": [
      "[2024-05-13T15:43:22.030199+0000][4058068][CRITICAL] load failed: module 'synthcity.plugins.generic.plugin_goggle' has no attribute 'plugin'\n",
      "[2024-05-13T15:43:22.034341+0000][4058068][CRITICAL] load failed: module 'synthcity.plugins.generic.plugin_goggle' has no attribute 'plugin'\n",
      "[2024-05-13T15:43:22.035073+0000][4058068][CRITICAL] module plugin_goggle load failed\n"
     ]
    },
    {
     "name": "stdout",
     "output_type": "stream",
     "text": [
      "Fitting ddpm model\n"
     ]
    },
    {
     "name": "stderr",
     "output_type": "stream",
     "text": [
      "Epoch: 100%|██████████| 1000/1000 [00:11<00:00, 85.50it/s, loss=1.09]\n"
     ]
    },
    {
     "name": "stdout",
     "output_type": "stream",
     "text": [
      "Generating ddpm synthetic dataset\n"
     ]
    },
    {
     "name": "stderr",
     "output_type": "stream",
     "text": [
      "[2024-05-13T15:43:37.367738+0000][4058068][CRITICAL] load failed: module 'synthcity.plugins.generic.plugin_goggle' has no attribute 'plugin'\n",
      "[2024-05-13T15:43:37.368456+0000][4058068][CRITICAL] load failed: module 'synthcity.plugins.generic.plugin_goggle' has no attribute 'plugin'\n",
      "[2024-05-13T15:43:37.368998+0000][4058068][CRITICAL] module plugin_goggle load failed\n"
     ]
    },
    {
     "name": "stdout",
     "output_type": "stream",
     "text": [
      "Fitting ddpm covariate model\n"
     ]
    },
    {
     "name": "stderr",
     "output_type": "stream",
     "text": [
      "Epoch: 100%|██████████| 1000/1000 [00:08<00:00, 117.48it/s, loss=0.474]\n"
     ]
    },
    {
     "name": "stdout",
     "output_type": "stream",
     "text": [
      "Generating ddpm synthetic covariates\n",
      "Fitting propensity model\n",
      "Generating propensities\n",
      "Fitting CATE learner\n",
      "Generating POs\n"
     ]
    },
    {
     "name": "stderr",
     "output_type": "stream",
     "text": [
      "[2024-05-13T15:48:09.917284+0000][4058068][CRITICAL] load failed: module 'synthcity.plugins.generic.plugin_goggle' has no attribute 'plugin'\n",
      "[2024-05-13T15:48:09.919648+0000][4058068][CRITICAL] load failed: module 'synthcity.plugins.generic.plugin_goggle' has no attribute 'plugin'\n",
      "[2024-05-13T15:48:09.920659+0000][4058068][CRITICAL] module plugin_goggle load failed\n"
     ]
    },
    {
     "name": "stdout",
     "output_type": "stream",
     "text": [
      "Fitting ddpm model\n"
     ]
    },
    {
     "name": "stderr",
     "output_type": "stream",
     "text": [
      "Epoch: 100%|██████████| 1000/1000 [00:12<00:00, 81.98it/s, loss=1.08]\n"
     ]
    },
    {
     "name": "stdout",
     "output_type": "stream",
     "text": [
      "Generating ddpm synthetic dataset\n"
     ]
    },
    {
     "name": "stderr",
     "output_type": "stream",
     "text": [
      "[2024-05-13T15:48:25.749302+0000][4058068][CRITICAL] load failed: module 'synthcity.plugins.generic.plugin_goggle' has no attribute 'plugin'\n",
      "[2024-05-13T15:48:25.750058+0000][4058068][CRITICAL] load failed: module 'synthcity.plugins.generic.plugin_goggle' has no attribute 'plugin'\n",
      "[2024-05-13T15:48:25.750386+0000][4058068][CRITICAL] module plugin_goggle load failed\n"
     ]
    },
    {
     "name": "stdout",
     "output_type": "stream",
     "text": [
      "Fitting ddpm covariate model\n"
     ]
    },
    {
     "name": "stderr",
     "output_type": "stream",
     "text": [
      "Epoch: 100%|██████████| 1000/1000 [00:08<00:00, 119.36it/s, loss=0.474]\n"
     ]
    },
    {
     "name": "stdout",
     "output_type": "stream",
     "text": [
      "Generating ddpm synthetic covariates\n",
      "Fitting propensity model\n",
      "Generating propensities\n",
      "Fitting CATE learner\n",
      "Generating POs\n"
     ]
    },
    {
     "name": "stderr",
     "output_type": "stream",
     "text": [
      "[2024-05-13T15:53:08.170720+0000][4058068][CRITICAL] load failed: module 'synthcity.plugins.generic.plugin_goggle' has no attribute 'plugin'\n",
      "[2024-05-13T15:53:08.173419+0000][4058068][CRITICAL] load failed: module 'synthcity.plugins.generic.plugin_goggle' has no attribute 'plugin'\n",
      "[2024-05-13T15:53:08.174429+0000][4058068][CRITICAL] module plugin_goggle load failed\n"
     ]
    },
    {
     "name": "stdout",
     "output_type": "stream",
     "text": [
      "Fitting ddpm model\n"
     ]
    },
    {
     "name": "stderr",
     "output_type": "stream",
     "text": [
      "Epoch: 100%|██████████| 1000/1000 [00:12<00:00, 82.34it/s, loss=1.08]\n"
     ]
    },
    {
     "name": "stdout",
     "output_type": "stream",
     "text": [
      "Generating ddpm synthetic dataset\n"
     ]
    },
    {
     "name": "stderr",
     "output_type": "stream",
     "text": [
      "[2024-05-13T15:53:23.977191+0000][4058068][CRITICAL] load failed: module 'synthcity.plugins.generic.plugin_goggle' has no attribute 'plugin'\n",
      "[2024-05-13T15:53:23.978140+0000][4058068][CRITICAL] load failed: module 'synthcity.plugins.generic.plugin_goggle' has no attribute 'plugin'\n",
      "[2024-05-13T15:53:23.978502+0000][4058068][CRITICAL] module plugin_goggle load failed\n"
     ]
    },
    {
     "name": "stdout",
     "output_type": "stream",
     "text": [
      "Fitting ddpm covariate model\n"
     ]
    },
    {
     "name": "stderr",
     "output_type": "stream",
     "text": [
      "Epoch: 100%|██████████| 1000/1000 [00:08<00:00, 119.48it/s, loss=0.473]\n"
     ]
    },
    {
     "name": "stdout",
     "output_type": "stream",
     "text": [
      "Generating ddpm synthetic covariates\n",
      "Fitting propensity model\n",
      "Generating propensities\n",
      "Fitting CATE learner\n",
      "Generating POs\n"
     ]
    },
    {
     "name": "stderr",
     "output_type": "stream",
     "text": [
      "[2024-05-13T15:58:07.278304+0000][4058068][CRITICAL] load failed: module 'synthcity.plugins.generic.plugin_goggle' has no attribute 'plugin'\n",
      "[2024-05-13T15:58:07.279595+0000][4058068][CRITICAL] load failed: module 'synthcity.plugins.generic.plugin_goggle' has no attribute 'plugin'\n",
      "[2024-05-13T15:58:07.280067+0000][4058068][CRITICAL] module plugin_goggle load failed\n"
     ]
    },
    {
     "name": "stdout",
     "output_type": "stream",
     "text": [
      "Fitting ddpm model\n"
     ]
    },
    {
     "name": "stderr",
     "output_type": "stream",
     "text": [
      "Epoch: 100%|██████████| 1000/1000 [00:11<00:00, 87.33it/s, loss=1.08]\n"
     ]
    },
    {
     "name": "stdout",
     "output_type": "stream",
     "text": [
      "Generating ddpm synthetic dataset\n"
     ]
    },
    {
     "name": "stderr",
     "output_type": "stream",
     "text": [
      "[2024-05-13T15:58:22.405629+0000][4058068][CRITICAL] load failed: module 'synthcity.plugins.generic.plugin_goggle' has no attribute 'plugin'\n",
      "[2024-05-13T15:58:22.406259+0000][4058068][CRITICAL] load failed: module 'synthcity.plugins.generic.plugin_goggle' has no attribute 'plugin'\n",
      "[2024-05-13T15:58:22.406591+0000][4058068][CRITICAL] module plugin_goggle load failed\n"
     ]
    },
    {
     "name": "stdout",
     "output_type": "stream",
     "text": [
      "Fitting ddpm covariate model\n"
     ]
    },
    {
     "name": "stderr",
     "output_type": "stream",
     "text": [
      "Epoch: 100%|██████████| 1000/1000 [00:08<00:00, 117.48it/s, loss=0.473]\n"
     ]
    },
    {
     "name": "stdout",
     "output_type": "stream",
     "text": [
      "Generating ddpm synthetic covariates\n",
      "Fitting propensity model\n",
      "Generating propensities\n",
      "Fitting CATE learner\n",
      "Generating POs\n"
     ]
    },
    {
     "name": "stderr",
     "output_type": "stream",
     "text": [
      "[2024-05-13T16:03:08.634735+0000][4058068][CRITICAL] load failed: module 'synthcity.plugins.generic.plugin_goggle' has no attribute 'plugin'\n",
      "[2024-05-13T16:03:08.637434+0000][4058068][CRITICAL] load failed: module 'synthcity.plugins.generic.plugin_goggle' has no attribute 'plugin'\n",
      "[2024-05-13T16:03:08.638462+0000][4058068][CRITICAL] module plugin_goggle load failed\n"
     ]
    },
    {
     "name": "stdout",
     "output_type": "stream",
     "text": [
      "Fitting ddpm model\n"
     ]
    },
    {
     "name": "stderr",
     "output_type": "stream",
     "text": [
      "Epoch: 100%|██████████| 1000/1000 [00:11<00:00, 84.87it/s, loss=1.1] \n"
     ]
    },
    {
     "name": "stdout",
     "output_type": "stream",
     "text": [
      "Generating ddpm synthetic dataset\n"
     ]
    },
    {
     "name": "stderr",
     "output_type": "stream",
     "text": [
      "[2024-05-13T16:03:24.077794+0000][4058068][CRITICAL] load failed: module 'synthcity.plugins.generic.plugin_goggle' has no attribute 'plugin'\n",
      "[2024-05-13T16:03:24.078569+0000][4058068][CRITICAL] load failed: module 'synthcity.plugins.generic.plugin_goggle' has no attribute 'plugin'\n",
      "[2024-05-13T16:03:24.079057+0000][4058068][CRITICAL] module plugin_goggle load failed\n"
     ]
    },
    {
     "name": "stdout",
     "output_type": "stream",
     "text": [
      "Fitting ddpm covariate model\n"
     ]
    },
    {
     "name": "stderr",
     "output_type": "stream",
     "text": [
      "Epoch: 100%|██████████| 1000/1000 [00:08<00:00, 115.18it/s, loss=0.473]\n"
     ]
    },
    {
     "name": "stdout",
     "output_type": "stream",
     "text": [
      "Generating ddpm synthetic covariates\n",
      "Fitting propensity model\n",
      "Generating propensities\n",
      "Fitting CATE learner\n",
      "Generating POs\n"
     ]
    },
    {
     "name": "stderr",
     "output_type": "stream",
     "text": [
      "[2024-05-13T16:07:58.542967+0000][4058068][CRITICAL] load failed: module 'synthcity.plugins.generic.plugin_goggle' has no attribute 'plugin'\n",
      "[2024-05-13T16:07:58.545307+0000][4058068][CRITICAL] load failed: module 'synthcity.plugins.generic.plugin_goggle' has no attribute 'plugin'\n",
      "[2024-05-13T16:07:58.546357+0000][4058068][CRITICAL] module plugin_goggle load failed\n"
     ]
    },
    {
     "name": "stdout",
     "output_type": "stream",
     "text": [
      "Fitting ddpm model\n"
     ]
    },
    {
     "name": "stderr",
     "output_type": "stream",
     "text": [
      "Epoch: 100%|██████████| 1000/1000 [00:12<00:00, 81.68it/s, loss=1.08]\n"
     ]
    },
    {
     "name": "stdout",
     "output_type": "stream",
     "text": [
      "Generating ddpm synthetic dataset\n"
     ]
    },
    {
     "name": "stderr",
     "output_type": "stream",
     "text": [
      "[2024-05-13T16:08:14.465206+0000][4058068][CRITICAL] load failed: module 'synthcity.plugins.generic.plugin_goggle' has no attribute 'plugin'\n",
      "[2024-05-13T16:08:14.465951+0000][4058068][CRITICAL] load failed: module 'synthcity.plugins.generic.plugin_goggle' has no attribute 'plugin'\n",
      "[2024-05-13T16:08:14.466363+0000][4058068][CRITICAL] module plugin_goggle load failed\n"
     ]
    },
    {
     "name": "stdout",
     "output_type": "stream",
     "text": [
      "Fitting ddpm covariate model\n"
     ]
    },
    {
     "name": "stderr",
     "output_type": "stream",
     "text": [
      "Epoch: 100%|██████████| 1000/1000 [00:08<00:00, 119.78it/s, loss=0.473]\n"
     ]
    },
    {
     "name": "stdout",
     "output_type": "stream",
     "text": [
      "Generating ddpm synthetic covariates\n",
      "Fitting propensity model\n",
      "Generating propensities\n",
      "Fitting CATE learner\n",
      "Generating POs\n"
     ]
    },
    {
     "name": "stderr",
     "output_type": "stream",
     "text": [
      "[2024-05-13T16:12:58.806256+0000][4058068][CRITICAL] load failed: module 'synthcity.plugins.generic.plugin_goggle' has no attribute 'plugin'\n",
      "[2024-05-13T16:12:58.808797+0000][4058068][CRITICAL] load failed: module 'synthcity.plugins.generic.plugin_goggle' has no attribute 'plugin'\n",
      "[2024-05-13T16:12:58.809881+0000][4058068][CRITICAL] module plugin_goggle load failed\n"
     ]
    },
    {
     "name": "stdout",
     "output_type": "stream",
     "text": [
      "Fitting ddpm model\n"
     ]
    },
    {
     "name": "stderr",
     "output_type": "stream",
     "text": [
      "Epoch: 100%|██████████| 1000/1000 [00:11<00:00, 84.46it/s, loss=1.09]\n"
     ]
    },
    {
     "name": "stdout",
     "output_type": "stream",
     "text": [
      "Generating ddpm synthetic dataset\n"
     ]
    },
    {
     "name": "stderr",
     "output_type": "stream",
     "text": [
      "[2024-05-13T16:13:14.288225+0000][4058068][CRITICAL] load failed: module 'synthcity.plugins.generic.plugin_goggle' has no attribute 'plugin'\n",
      "[2024-05-13T16:13:14.288971+0000][4058068][CRITICAL] load failed: module 'synthcity.plugins.generic.plugin_goggle' has no attribute 'plugin'\n",
      "[2024-05-13T16:13:14.289444+0000][4058068][CRITICAL] module plugin_goggle load failed\n"
     ]
    },
    {
     "name": "stdout",
     "output_type": "stream",
     "text": [
      "Fitting ddpm covariate model\n"
     ]
    },
    {
     "name": "stderr",
     "output_type": "stream",
     "text": [
      "Epoch: 100%|██████████| 1000/1000 [00:08<00:00, 121.78it/s, loss=0.474]\n"
     ]
    },
    {
     "name": "stdout",
     "output_type": "stream",
     "text": [
      "Generating ddpm synthetic covariates\n",
      "Fitting propensity model\n",
      "Generating propensities\n",
      "Fitting CATE learner\n",
      "Generating POs\n"
     ]
    },
    {
     "name": "stderr",
     "output_type": "stream",
     "text": [
      "[2024-05-13T16:17:57.665162+0000][4058068][CRITICAL] load failed: module 'synthcity.plugins.generic.plugin_goggle' has no attribute 'plugin'\n",
      "[2024-05-13T16:17:57.665859+0000][4058068][CRITICAL] load failed: module 'synthcity.plugins.generic.plugin_goggle' has no attribute 'plugin'\n",
      "[2024-05-13T16:17:57.666274+0000][4058068][CRITICAL] module plugin_goggle load failed\n"
     ]
    },
    {
     "name": "stdout",
     "output_type": "stream",
     "text": [
      "Tested n_t = 3\n",
      "Fitting ddpm model\n"
     ]
    },
    {
     "name": "stderr",
     "output_type": "stream",
     "text": [
      "Epoch: 100%|██████████| 1000/1000 [00:11<00:00, 86.83it/s, loss=1.04]\n"
     ]
    },
    {
     "name": "stdout",
     "output_type": "stream",
     "text": [
      "Generating ddpm synthetic dataset\n"
     ]
    },
    {
     "name": "stderr",
     "output_type": "stream",
     "text": [
      "[2024-05-13T16:18:12.803534+0000][4058068][CRITICAL] load failed: module 'synthcity.plugins.generic.plugin_goggle' has no attribute 'plugin'\n",
      "[2024-05-13T16:18:12.804260+0000][4058068][CRITICAL] load failed: module 'synthcity.plugins.generic.plugin_goggle' has no attribute 'plugin'\n",
      "[2024-05-13T16:18:12.804609+0000][4058068][CRITICAL] module plugin_goggle load failed\n"
     ]
    },
    {
     "name": "stdout",
     "output_type": "stream",
     "text": [
      "Fitting ddpm covariate model\n"
     ]
    },
    {
     "name": "stderr",
     "output_type": "stream",
     "text": [
      "Epoch: 100%|██████████| 1000/1000 [00:08<00:00, 116.71it/s, loss=0.472]\n"
     ]
    },
    {
     "name": "stdout",
     "output_type": "stream",
     "text": [
      "Generating ddpm synthetic covariates\n",
      "Fitting propensity model\n",
      "Generating propensities\n",
      "Fitting CATE learner\n",
      "Generating POs\n"
     ]
    },
    {
     "name": "stderr",
     "output_type": "stream",
     "text": [
      "[2024-05-13T16:23:18.954980+0000][4058068][CRITICAL] load failed: module 'synthcity.plugins.generic.plugin_goggle' has no attribute 'plugin'\n",
      "[2024-05-13T16:23:18.957205+0000][4058068][CRITICAL] load failed: module 'synthcity.plugins.generic.plugin_goggle' has no attribute 'plugin'\n",
      "[2024-05-13T16:23:18.958242+0000][4058068][CRITICAL] module plugin_goggle load failed\n"
     ]
    },
    {
     "name": "stdout",
     "output_type": "stream",
     "text": [
      "Fitting ddpm model\n"
     ]
    },
    {
     "name": "stderr",
     "output_type": "stream",
     "text": [
      "Epoch: 100%|██████████| 1000/1000 [00:11<00:00, 84.34it/s, loss=1.04]\n"
     ]
    },
    {
     "name": "stdout",
     "output_type": "stream",
     "text": [
      "Generating ddpm synthetic dataset\n"
     ]
    },
    {
     "name": "stderr",
     "output_type": "stream",
     "text": [
      "[2024-05-13T16:23:34.450377+0000][4058068][CRITICAL] load failed: module 'synthcity.plugins.generic.plugin_goggle' has no attribute 'plugin'\n",
      "[2024-05-13T16:23:34.450937+0000][4058068][CRITICAL] load failed: module 'synthcity.plugins.generic.plugin_goggle' has no attribute 'plugin'\n",
      "[2024-05-13T16:23:34.451269+0000][4058068][CRITICAL] module plugin_goggle load failed\n"
     ]
    },
    {
     "name": "stdout",
     "output_type": "stream",
     "text": [
      "Fitting ddpm covariate model\n"
     ]
    },
    {
     "name": "stderr",
     "output_type": "stream",
     "text": [
      "Epoch: 100%|██████████| 1000/1000 [00:08<00:00, 116.21it/s, loss=0.473]\n"
     ]
    },
    {
     "name": "stdout",
     "output_type": "stream",
     "text": [
      "Generating ddpm synthetic covariates\n",
      "Fitting propensity model\n",
      "Generating propensities\n",
      "Fitting CATE learner\n",
      "Generating POs\n"
     ]
    },
    {
     "name": "stderr",
     "output_type": "stream",
     "text": [
      "[2024-05-13T16:28:32.297296+0000][4058068][CRITICAL] load failed: module 'synthcity.plugins.generic.plugin_goggle' has no attribute 'plugin'\n",
      "[2024-05-13T16:28:32.299337+0000][4058068][CRITICAL] load failed: module 'synthcity.plugins.generic.plugin_goggle' has no attribute 'plugin'\n",
      "[2024-05-13T16:28:32.300340+0000][4058068][CRITICAL] module plugin_goggle load failed\n"
     ]
    },
    {
     "name": "stdout",
     "output_type": "stream",
     "text": [
      "Fitting ddpm model\n"
     ]
    },
    {
     "name": "stderr",
     "output_type": "stream",
     "text": [
      "Epoch: 100%|██████████| 1000/1000 [00:11<00:00, 85.24it/s, loss=1.03]\n"
     ]
    },
    {
     "name": "stdout",
     "output_type": "stream",
     "text": [
      "Generating ddpm synthetic dataset\n"
     ]
    },
    {
     "name": "stderr",
     "output_type": "stream",
     "text": [
      "[2024-05-13T16:28:47.672539+0000][4058068][CRITICAL] load failed: module 'synthcity.plugins.generic.plugin_goggle' has no attribute 'plugin'\n",
      "[2024-05-13T16:28:47.673372+0000][4058068][CRITICAL] load failed: module 'synthcity.plugins.generic.plugin_goggle' has no attribute 'plugin'\n",
      "[2024-05-13T16:28:47.673740+0000][4058068][CRITICAL] module plugin_goggle load failed\n"
     ]
    },
    {
     "name": "stdout",
     "output_type": "stream",
     "text": [
      "Fitting ddpm covariate model\n"
     ]
    },
    {
     "name": "stderr",
     "output_type": "stream",
     "text": [
      "Epoch: 100%|██████████| 1000/1000 [00:08<00:00, 122.44it/s, loss=0.473]\n"
     ]
    },
    {
     "name": "stdout",
     "output_type": "stream",
     "text": [
      "Generating ddpm synthetic covariates\n",
      "Fitting propensity model\n",
      "Generating propensities\n",
      "Fitting CATE learner\n",
      "Generating POs\n"
     ]
    },
    {
     "name": "stderr",
     "output_type": "stream",
     "text": [
      "[2024-05-13T16:33:36.655445+0000][4058068][CRITICAL] load failed: module 'synthcity.plugins.generic.plugin_goggle' has no attribute 'plugin'\n",
      "[2024-05-13T16:33:36.656630+0000][4058068][CRITICAL] load failed: module 'synthcity.plugins.generic.plugin_goggle' has no attribute 'plugin'\n",
      "[2024-05-13T16:33:36.657128+0000][4058068][CRITICAL] module plugin_goggle load failed\n"
     ]
    },
    {
     "name": "stdout",
     "output_type": "stream",
     "text": [
      "Fitting ddpm model\n"
     ]
    },
    {
     "name": "stderr",
     "output_type": "stream",
     "text": [
      "Epoch: 100%|██████████| 1000/1000 [00:11<00:00, 85.48it/s, loss=1.03]\n"
     ]
    },
    {
     "name": "stdout",
     "output_type": "stream",
     "text": [
      "Generating ddpm synthetic dataset\n"
     ]
    },
    {
     "name": "stderr",
     "output_type": "stream",
     "text": [
      "[2024-05-13T16:33:52.027685+0000][4058068][CRITICAL] load failed: module 'synthcity.plugins.generic.plugin_goggle' has no attribute 'plugin'\n",
      "[2024-05-13T16:33:52.028235+0000][4058068][CRITICAL] load failed: module 'synthcity.plugins.generic.plugin_goggle' has no attribute 'plugin'\n",
      "[2024-05-13T16:33:52.028542+0000][4058068][CRITICAL] module plugin_goggle load failed\n"
     ]
    },
    {
     "name": "stdout",
     "output_type": "stream",
     "text": [
      "Fitting ddpm covariate model\n"
     ]
    },
    {
     "name": "stderr",
     "output_type": "stream",
     "text": [
      "Epoch: 100%|██████████| 1000/1000 [00:08<00:00, 123.11it/s, loss=0.473]\n"
     ]
    },
    {
     "name": "stdout",
     "output_type": "stream",
     "text": [
      "Generating ddpm synthetic covariates\n",
      "Fitting propensity model\n",
      "Generating propensities\n",
      "Fitting CATE learner\n",
      "Generating POs\n"
     ]
    },
    {
     "name": "stderr",
     "output_type": "stream",
     "text": [
      "[2024-05-13T16:39:01.185667+0000][4058068][CRITICAL] load failed: module 'synthcity.plugins.generic.plugin_goggle' has no attribute 'plugin'\n",
      "[2024-05-13T16:39:01.187763+0000][4058068][CRITICAL] load failed: module 'synthcity.plugins.generic.plugin_goggle' has no attribute 'plugin'\n",
      "[2024-05-13T16:39:01.188823+0000][4058068][CRITICAL] module plugin_goggle load failed\n"
     ]
    },
    {
     "name": "stdout",
     "output_type": "stream",
     "text": [
      "Fitting ddpm model\n"
     ]
    },
    {
     "name": "stderr",
     "output_type": "stream",
     "text": [
      "Epoch: 100%|██████████| 1000/1000 [00:11<00:00, 83.48it/s, loss=1.03]\n"
     ]
    },
    {
     "name": "stdout",
     "output_type": "stream",
     "text": [
      "Generating ddpm synthetic dataset\n"
     ]
    },
    {
     "name": "stderr",
     "output_type": "stream",
     "text": [
      "[2024-05-13T16:39:16.841130+0000][4058068][CRITICAL] load failed: module 'synthcity.plugins.generic.plugin_goggle' has no attribute 'plugin'\n",
      "[2024-05-13T16:39:16.841703+0000][4058068][CRITICAL] load failed: module 'synthcity.plugins.generic.plugin_goggle' has no attribute 'plugin'\n",
      "[2024-05-13T16:39:16.842080+0000][4058068][CRITICAL] module plugin_goggle load failed\n"
     ]
    },
    {
     "name": "stdout",
     "output_type": "stream",
     "text": [
      "Fitting ddpm covariate model\n"
     ]
    },
    {
     "name": "stderr",
     "output_type": "stream",
     "text": [
      "Epoch: 100%|██████████| 1000/1000 [00:08<00:00, 114.59it/s, loss=0.472]\n"
     ]
    },
    {
     "name": "stdout",
     "output_type": "stream",
     "text": [
      "Generating ddpm synthetic covariates\n",
      "Fitting propensity model\n",
      "Generating propensities\n",
      "Fitting CATE learner\n",
      "Generating POs\n"
     ]
    },
    {
     "name": "stderr",
     "output_type": "stream",
     "text": [
      "[2024-05-13T16:44:13.309400+0000][4058068][CRITICAL] load failed: module 'synthcity.plugins.generic.plugin_goggle' has no attribute 'plugin'\n",
      "[2024-05-13T16:44:13.310725+0000][4058068][CRITICAL] load failed: module 'synthcity.plugins.generic.plugin_goggle' has no attribute 'plugin'\n",
      "[2024-05-13T16:44:13.311107+0000][4058068][CRITICAL] module plugin_goggle load failed\n"
     ]
    },
    {
     "name": "stdout",
     "output_type": "stream",
     "text": [
      "Fitting ddpm model\n"
     ]
    },
    {
     "name": "stderr",
     "output_type": "stream",
     "text": [
      "Epoch: 100%|██████████| 1000/1000 [00:11<00:00, 87.48it/s, loss=1.03]\n"
     ]
    },
    {
     "name": "stdout",
     "output_type": "stream",
     "text": [
      "Generating ddpm synthetic dataset\n"
     ]
    },
    {
     "name": "stderr",
     "output_type": "stream",
     "text": [
      "[2024-05-13T16:44:28.408544+0000][4058068][CRITICAL] load failed: module 'synthcity.plugins.generic.plugin_goggle' has no attribute 'plugin'\n",
      "[2024-05-13T16:44:28.409148+0000][4058068][CRITICAL] load failed: module 'synthcity.plugins.generic.plugin_goggle' has no attribute 'plugin'\n",
      "[2024-05-13T16:44:28.409516+0000][4058068][CRITICAL] module plugin_goggle load failed\n"
     ]
    },
    {
     "name": "stdout",
     "output_type": "stream",
     "text": [
      "Fitting ddpm covariate model\n"
     ]
    },
    {
     "name": "stderr",
     "output_type": "stream",
     "text": [
      "Epoch: 100%|██████████| 1000/1000 [00:08<00:00, 118.79it/s, loss=0.473]\n"
     ]
    },
    {
     "name": "stdout",
     "output_type": "stream",
     "text": [
      "Generating ddpm synthetic covariates\n",
      "Fitting propensity model\n",
      "Generating propensities\n",
      "Fitting CATE learner\n",
      "Generating POs\n"
     ]
    },
    {
     "name": "stderr",
     "output_type": "stream",
     "text": [
      "[2024-05-13T16:49:33.808393+0000][4058068][CRITICAL] load failed: module 'synthcity.plugins.generic.plugin_goggle' has no attribute 'plugin'\n",
      "[2024-05-13T16:49:33.809531+0000][4058068][CRITICAL] load failed: module 'synthcity.plugins.generic.plugin_goggle' has no attribute 'plugin'\n",
      "[2024-05-13T16:49:33.810062+0000][4058068][CRITICAL] module plugin_goggle load failed\n"
     ]
    },
    {
     "name": "stdout",
     "output_type": "stream",
     "text": [
      "Fitting ddpm model\n"
     ]
    },
    {
     "name": "stderr",
     "output_type": "stream",
     "text": [
      "Epoch: 100%|██████████| 1000/1000 [00:11<00:00, 85.32it/s, loss=1.04]\n"
     ]
    },
    {
     "name": "stdout",
     "output_type": "stream",
     "text": [
      "Generating ddpm synthetic dataset\n"
     ]
    },
    {
     "name": "stderr",
     "output_type": "stream",
     "text": [
      "[2024-05-13T16:49:49.190688+0000][4058068][CRITICAL] load failed: module 'synthcity.plugins.generic.plugin_goggle' has no attribute 'plugin'\n",
      "[2024-05-13T16:49:49.191226+0000][4058068][CRITICAL] load failed: module 'synthcity.plugins.generic.plugin_goggle' has no attribute 'plugin'\n",
      "[2024-05-13T16:49:49.191573+0000][4058068][CRITICAL] module plugin_goggle load failed\n"
     ]
    },
    {
     "name": "stdout",
     "output_type": "stream",
     "text": [
      "Fitting ddpm covariate model\n"
     ]
    },
    {
     "name": "stderr",
     "output_type": "stream",
     "text": [
      "Epoch: 100%|██████████| 1000/1000 [00:08<00:00, 122.75it/s, loss=0.473]\n"
     ]
    },
    {
     "name": "stdout",
     "output_type": "stream",
     "text": [
      "Generating ddpm synthetic covariates\n",
      "Fitting propensity model\n",
      "Generating propensities\n",
      "Fitting CATE learner\n",
      "Generating POs\n"
     ]
    },
    {
     "name": "stderr",
     "output_type": "stream",
     "text": [
      "[2024-05-13T16:54:49.898861+0000][4058068][CRITICAL] load failed: module 'synthcity.plugins.generic.plugin_goggle' has no attribute 'plugin'\n",
      "[2024-05-13T16:54:49.901298+0000][4058068][CRITICAL] load failed: module 'synthcity.plugins.generic.plugin_goggle' has no attribute 'plugin'\n",
      "[2024-05-13T16:54:49.902344+0000][4058068][CRITICAL] module plugin_goggle load failed\n"
     ]
    },
    {
     "name": "stdout",
     "output_type": "stream",
     "text": [
      "Fitting ddpm model\n"
     ]
    },
    {
     "name": "stderr",
     "output_type": "stream",
     "text": [
      "Epoch: 100%|██████████| 1000/1000 [00:11<00:00, 84.62it/s, loss=1.03]\n"
     ]
    },
    {
     "name": "stdout",
     "output_type": "stream",
     "text": [
      "Generating ddpm synthetic dataset\n"
     ]
    },
    {
     "name": "stderr",
     "output_type": "stream",
     "text": [
      "[2024-05-13T16:55:05.361612+0000][4058068][CRITICAL] load failed: module 'synthcity.plugins.generic.plugin_goggle' has no attribute 'plugin'\n",
      "[2024-05-13T16:55:05.362409+0000][4058068][CRITICAL] load failed: module 'synthcity.plugins.generic.plugin_goggle' has no attribute 'plugin'\n",
      "[2024-05-13T16:55:05.362810+0000][4058068][CRITICAL] module plugin_goggle load failed\n"
     ]
    },
    {
     "name": "stdout",
     "output_type": "stream",
     "text": [
      "Fitting ddpm covariate model\n"
     ]
    },
    {
     "name": "stderr",
     "output_type": "stream",
     "text": [
      "Epoch: 100%|██████████| 1000/1000 [00:08<00:00, 121.71it/s, loss=0.472]\n"
     ]
    },
    {
     "name": "stdout",
     "output_type": "stream",
     "text": [
      "Generating ddpm synthetic covariates\n",
      "Fitting propensity model\n",
      "Generating propensities\n",
      "Fitting CATE learner\n",
      "Generating POs\n"
     ]
    },
    {
     "name": "stderr",
     "output_type": "stream",
     "text": [
      "[2024-05-13T17:00:21.008582+0000][4058068][CRITICAL] load failed: module 'synthcity.plugins.generic.plugin_goggle' has no attribute 'plugin'\n",
      "[2024-05-13T17:00:21.011218+0000][4058068][CRITICAL] load failed: module 'synthcity.plugins.generic.plugin_goggle' has no attribute 'plugin'\n",
      "[2024-05-13T17:00:21.012144+0000][4058068][CRITICAL] module plugin_goggle load failed\n"
     ]
    },
    {
     "name": "stdout",
     "output_type": "stream",
     "text": [
      "Fitting ddpm model\n"
     ]
    },
    {
     "name": "stderr",
     "output_type": "stream",
     "text": [
      "Epoch: 100%|██████████| 1000/1000 [00:11<00:00, 86.14it/s, loss=1.03]\n"
     ]
    },
    {
     "name": "stdout",
     "output_type": "stream",
     "text": [
      "Generating ddpm synthetic dataset\n"
     ]
    },
    {
     "name": "stderr",
     "output_type": "stream",
     "text": [
      "[2024-05-13T17:00:36.317561+0000][4058068][CRITICAL] load failed: module 'synthcity.plugins.generic.plugin_goggle' has no attribute 'plugin'\n",
      "[2024-05-13T17:00:36.318437+0000][4058068][CRITICAL] load failed: module 'synthcity.plugins.generic.plugin_goggle' has no attribute 'plugin'\n",
      "[2024-05-13T17:00:36.318859+0000][4058068][CRITICAL] module plugin_goggle load failed\n"
     ]
    },
    {
     "name": "stdout",
     "output_type": "stream",
     "text": [
      "Fitting ddpm covariate model\n"
     ]
    },
    {
     "name": "stderr",
     "output_type": "stream",
     "text": [
      "Epoch: 100%|██████████| 1000/1000 [00:08<00:00, 115.75it/s, loss=0.472]\n"
     ]
    },
    {
     "name": "stdout",
     "output_type": "stream",
     "text": [
      "Generating ddpm synthetic covariates\n",
      "Fitting propensity model\n",
      "Generating propensities\n",
      "Fitting CATE learner\n",
      "Generating POs\n"
     ]
    },
    {
     "name": "stderr",
     "output_type": "stream",
     "text": [
      "[2024-05-13T17:05:35.718800+0000][4058068][CRITICAL] load failed: module 'synthcity.plugins.generic.plugin_goggle' has no attribute 'plugin'\n",
      "[2024-05-13T17:05:35.721386+0000][4058068][CRITICAL] load failed: module 'synthcity.plugins.generic.plugin_goggle' has no attribute 'plugin'\n",
      "[2024-05-13T17:05:35.722343+0000][4058068][CRITICAL] module plugin_goggle load failed\n"
     ]
    },
    {
     "name": "stdout",
     "output_type": "stream",
     "text": [
      "Fitting ddpm model\n"
     ]
    },
    {
     "name": "stderr",
     "output_type": "stream",
     "text": [
      "Epoch: 100%|██████████| 1000/1000 [00:11<00:00, 86.01it/s, loss=1.04]\n"
     ]
    },
    {
     "name": "stdout",
     "output_type": "stream",
     "text": [
      "Generating ddpm synthetic dataset\n"
     ]
    },
    {
     "name": "stderr",
     "output_type": "stream",
     "text": [
      "[2024-05-13T17:05:51.032246+0000][4058068][CRITICAL] load failed: module 'synthcity.plugins.generic.plugin_goggle' has no attribute 'plugin'\n",
      "[2024-05-13T17:05:51.033011+0000][4058068][CRITICAL] load failed: module 'synthcity.plugins.generic.plugin_goggle' has no attribute 'plugin'\n",
      "[2024-05-13T17:05:51.033441+0000][4058068][CRITICAL] module plugin_goggle load failed\n"
     ]
    },
    {
     "name": "stdout",
     "output_type": "stream",
     "text": [
      "Fitting ddpm covariate model\n"
     ]
    },
    {
     "name": "stderr",
     "output_type": "stream",
     "text": [
      "Epoch: 100%|██████████| 1000/1000 [00:08<00:00, 114.35it/s, loss=0.474]\n"
     ]
    },
    {
     "name": "stdout",
     "output_type": "stream",
     "text": [
      "Generating ddpm synthetic covariates\n",
      "Fitting propensity model\n",
      "Generating propensities\n",
      "Fitting CATE learner\n",
      "Generating POs\n"
     ]
    },
    {
     "name": "stderr",
     "output_type": "stream",
     "text": [
      "[2024-05-13T17:10:45.489514+0000][4058068][CRITICAL] load failed: module 'synthcity.plugins.generic.plugin_goggle' has no attribute 'plugin'\n",
      "[2024-05-13T17:10:45.490517+0000][4058068][CRITICAL] load failed: module 'synthcity.plugins.generic.plugin_goggle' has no attribute 'plugin'\n",
      "[2024-05-13T17:10:45.490990+0000][4058068][CRITICAL] module plugin_goggle load failed\n"
     ]
    },
    {
     "name": "stdout",
     "output_type": "stream",
     "text": [
      "Tested n_t = 4\n",
      "Fitting ddpm model\n"
     ]
    },
    {
     "name": "stderr",
     "output_type": "stream",
     "text": [
      "Epoch: 100%|██████████| 1000/1000 [00:11<00:00, 84.78it/s, loss=1.01]\n"
     ]
    },
    {
     "name": "stdout",
     "output_type": "stream",
     "text": [
      "Generating ddpm synthetic dataset\n"
     ]
    },
    {
     "name": "stderr",
     "output_type": "stream",
     "text": [
      "[2024-05-13T17:11:00.922427+0000][4058068][CRITICAL] load failed: module 'synthcity.plugins.generic.plugin_goggle' has no attribute 'plugin'\n",
      "[2024-05-13T17:11:00.923180+0000][4058068][CRITICAL] load failed: module 'synthcity.plugins.generic.plugin_goggle' has no attribute 'plugin'\n",
      "[2024-05-13T17:11:00.923535+0000][4058068][CRITICAL] module plugin_goggle load failed\n"
     ]
    },
    {
     "name": "stdout",
     "output_type": "stream",
     "text": [
      "Fitting ddpm covariate model\n"
     ]
    },
    {
     "name": "stderr",
     "output_type": "stream",
     "text": [
      "Epoch: 100%|██████████| 1000/1000 [00:08<00:00, 121.13it/s, loss=0.474]\n"
     ]
    },
    {
     "name": "stdout",
     "output_type": "stream",
     "text": [
      "Generating ddpm synthetic covariates\n",
      "Fitting propensity model\n",
      "Generating propensities\n",
      "Fitting CATE learner\n",
      "Generating POs\n"
     ]
    },
    {
     "name": "stderr",
     "output_type": "stream",
     "text": [
      "[2024-05-13T17:15:54.822667+0000][4058068][CRITICAL] load failed: module 'synthcity.plugins.generic.plugin_goggle' has no attribute 'plugin'\n",
      "[2024-05-13T17:15:54.823410+0000][4058068][CRITICAL] load failed: module 'synthcity.plugins.generic.plugin_goggle' has no attribute 'plugin'\n",
      "[2024-05-13T17:15:54.823840+0000][4058068][CRITICAL] module plugin_goggle load failed\n"
     ]
    },
    {
     "name": "stdout",
     "output_type": "stream",
     "text": [
      "Fitting ddpm model\n"
     ]
    },
    {
     "name": "stderr",
     "output_type": "stream",
     "text": [
      "Epoch: 100%|██████████| 1000/1000 [00:11<00:00, 88.32it/s, loss=0.991]\n"
     ]
    },
    {
     "name": "stdout",
     "output_type": "stream",
     "text": [
      "Generating ddpm synthetic dataset\n"
     ]
    },
    {
     "name": "stderr",
     "output_type": "stream",
     "text": [
      "[2024-05-13T17:16:09.758309+0000][4058068][CRITICAL] load failed: module 'synthcity.plugins.generic.plugin_goggle' has no attribute 'plugin'\n",
      "[2024-05-13T17:16:09.758866+0000][4058068][CRITICAL] load failed: module 'synthcity.plugins.generic.plugin_goggle' has no attribute 'plugin'\n",
      "[2024-05-13T17:16:09.759217+0000][4058068][CRITICAL] module plugin_goggle load failed\n"
     ]
    },
    {
     "name": "stdout",
     "output_type": "stream",
     "text": [
      "Fitting ddpm covariate model\n"
     ]
    },
    {
     "name": "stderr",
     "output_type": "stream",
     "text": [
      "Epoch: 100%|██████████| 1000/1000 [00:08<00:00, 123.14it/s, loss=0.472]\n"
     ]
    },
    {
     "name": "stdout",
     "output_type": "stream",
     "text": [
      "Generating ddpm synthetic covariates\n",
      "Fitting propensity model\n",
      "Generating propensities\n",
      "Fitting CATE learner\n",
      "Generating POs\n"
     ]
    },
    {
     "name": "stderr",
     "output_type": "stream",
     "text": [
      "[2024-05-13T17:21:11.602823+0000][4058068][CRITICAL] load failed: module 'synthcity.plugins.generic.plugin_goggle' has no attribute 'plugin'\n",
      "[2024-05-13T17:21:11.605404+0000][4058068][CRITICAL] load failed: module 'synthcity.plugins.generic.plugin_goggle' has no attribute 'plugin'\n",
      "[2024-05-13T17:21:11.606402+0000][4058068][CRITICAL] module plugin_goggle load failed\n"
     ]
    },
    {
     "name": "stdout",
     "output_type": "stream",
     "text": [
      "Fitting ddpm model\n"
     ]
    },
    {
     "name": "stderr",
     "output_type": "stream",
     "text": [
      "Epoch: 100%|██████████| 1000/1000 [00:11<00:00, 83.42it/s, loss=1.01]\n"
     ]
    },
    {
     "name": "stdout",
     "output_type": "stream",
     "text": [
      "Generating ddpm synthetic dataset\n"
     ]
    },
    {
     "name": "stderr",
     "output_type": "stream",
     "text": [
      "[2024-05-13T17:21:27.263540+0000][4058068][CRITICAL] load failed: module 'synthcity.plugins.generic.plugin_goggle' has no attribute 'plugin'\n",
      "[2024-05-13T17:21:27.264643+0000][4058068][CRITICAL] load failed: module 'synthcity.plugins.generic.plugin_goggle' has no attribute 'plugin'\n",
      "[2024-05-13T17:21:27.265023+0000][4058068][CRITICAL] module plugin_goggle load failed\n"
     ]
    },
    {
     "name": "stdout",
     "output_type": "stream",
     "text": [
      "Fitting ddpm covariate model\n"
     ]
    },
    {
     "name": "stderr",
     "output_type": "stream",
     "text": [
      "Epoch: 100%|██████████| 1000/1000 [00:08<00:00, 113.93it/s, loss=0.473]\n"
     ]
    },
    {
     "name": "stdout",
     "output_type": "stream",
     "text": [
      "Generating ddpm synthetic covariates\n",
      "Fitting propensity model\n",
      "Generating propensities\n",
      "Fitting CATE learner\n",
      "Generating POs\n"
     ]
    },
    {
     "name": "stderr",
     "output_type": "stream",
     "text": [
      "[2024-05-13T17:26:42.908983+0000][4058068][CRITICAL] load failed: module 'synthcity.plugins.generic.plugin_goggle' has no attribute 'plugin'\n",
      "[2024-05-13T17:26:42.911472+0000][4058068][CRITICAL] load failed: module 'synthcity.plugins.generic.plugin_goggle' has no attribute 'plugin'\n",
      "[2024-05-13T17:26:42.912448+0000][4058068][CRITICAL] module plugin_goggle load failed\n"
     ]
    },
    {
     "name": "stdout",
     "output_type": "stream",
     "text": [
      "Fitting ddpm model\n"
     ]
    },
    {
     "name": "stderr",
     "output_type": "stream",
     "text": [
      "Epoch: 100%|██████████| 1000/1000 [00:11<00:00, 84.94it/s, loss=1.01]\n"
     ]
    },
    {
     "name": "stdout",
     "output_type": "stream",
     "text": [
      "Generating ddpm synthetic dataset\n"
     ]
    },
    {
     "name": "stderr",
     "output_type": "stream",
     "text": [
      "[2024-05-13T17:26:58.309053+0000][4058068][CRITICAL] load failed: module 'synthcity.plugins.generic.plugin_goggle' has no attribute 'plugin'\n",
      "[2024-05-13T17:26:58.309825+0000][4058068][CRITICAL] load failed: module 'synthcity.plugins.generic.plugin_goggle' has no attribute 'plugin'\n",
      "[2024-05-13T17:26:58.310373+0000][4058068][CRITICAL] module plugin_goggle load failed\n"
     ]
    },
    {
     "name": "stdout",
     "output_type": "stream",
     "text": [
      "Fitting ddpm covariate model\n"
     ]
    },
    {
     "name": "stderr",
     "output_type": "stream",
     "text": [
      "Epoch: 100%|██████████| 1000/1000 [00:08<00:00, 119.66it/s, loss=0.472]\n"
     ]
    },
    {
     "name": "stdout",
     "output_type": "stream",
     "text": [
      "Generating ddpm synthetic covariates\n",
      "Fitting propensity model\n",
      "Generating propensities\n",
      "Fitting CATE learner\n",
      "Generating POs\n"
     ]
    },
    {
     "name": "stderr",
     "output_type": "stream",
     "text": [
      "[2024-05-13T17:31:57.932607+0000][4058068][CRITICAL] load failed: module 'synthcity.plugins.generic.plugin_goggle' has no attribute 'plugin'\n",
      "[2024-05-13T17:31:57.935297+0000][4058068][CRITICAL] load failed: module 'synthcity.plugins.generic.plugin_goggle' has no attribute 'plugin'\n",
      "[2024-05-13T17:31:57.936250+0000][4058068][CRITICAL] module plugin_goggle load failed\n"
     ]
    },
    {
     "name": "stdout",
     "output_type": "stream",
     "text": [
      "Fitting ddpm model\n"
     ]
    },
    {
     "name": "stderr",
     "output_type": "stream",
     "text": [
      "Epoch: 100%|██████████| 1000/1000 [00:11<00:00, 83.46it/s, loss=1]   \n"
     ]
    },
    {
     "name": "stdout",
     "output_type": "stream",
     "text": [
      "Generating ddpm synthetic dataset\n"
     ]
    },
    {
     "name": "stderr",
     "output_type": "stream",
     "text": [
      "[2024-05-13T17:32:13.587403+0000][4058068][CRITICAL] load failed: module 'synthcity.plugins.generic.plugin_goggle' has no attribute 'plugin'\n",
      "[2024-05-13T17:32:13.588110+0000][4058068][CRITICAL] load failed: module 'synthcity.plugins.generic.plugin_goggle' has no attribute 'plugin'\n",
      "[2024-05-13T17:32:13.588443+0000][4058068][CRITICAL] module plugin_goggle load failed\n"
     ]
    },
    {
     "name": "stdout",
     "output_type": "stream",
     "text": [
      "Fitting ddpm covariate model\n"
     ]
    },
    {
     "name": "stderr",
     "output_type": "stream",
     "text": [
      "Epoch: 100%|██████████| 1000/1000 [00:08<00:00, 120.22it/s, loss=0.473]\n"
     ]
    },
    {
     "name": "stdout",
     "output_type": "stream",
     "text": [
      "Generating ddpm synthetic covariates\n",
      "Fitting propensity model\n",
      "Generating propensities\n",
      "Fitting CATE learner\n",
      "Generating POs\n"
     ]
    },
    {
     "name": "stderr",
     "output_type": "stream",
     "text": [
      "[2024-05-13T17:37:22.571364+0000][4058068][CRITICAL] load failed: module 'synthcity.plugins.generic.plugin_goggle' has no attribute 'plugin'\n",
      "[2024-05-13T17:37:22.573317+0000][4058068][CRITICAL] load failed: module 'synthcity.plugins.generic.plugin_goggle' has no attribute 'plugin'\n",
      "[2024-05-13T17:37:22.574340+0000][4058068][CRITICAL] module plugin_goggle load failed\n"
     ]
    },
    {
     "name": "stdout",
     "output_type": "stream",
     "text": [
      "Fitting ddpm model\n"
     ]
    },
    {
     "name": "stderr",
     "output_type": "stream",
     "text": [
      "Epoch: 100%|██████████| 1000/1000 [00:11<00:00, 84.36it/s, loss=1.01]\n"
     ]
    },
    {
     "name": "stdout",
     "output_type": "stream",
     "text": [
      "Generating ddpm synthetic dataset\n"
     ]
    },
    {
     "name": "stderr",
     "output_type": "stream",
     "text": [
      "[2024-05-13T17:37:38.078472+0000][4058068][CRITICAL] load failed: module 'synthcity.plugins.generic.plugin_goggle' has no attribute 'plugin'\n",
      "[2024-05-13T17:37:38.079427+0000][4058068][CRITICAL] load failed: module 'synthcity.plugins.generic.plugin_goggle' has no attribute 'plugin'\n",
      "[2024-05-13T17:37:38.079942+0000][4058068][CRITICAL] module plugin_goggle load failed\n"
     ]
    },
    {
     "name": "stdout",
     "output_type": "stream",
     "text": [
      "Fitting ddpm covariate model\n"
     ]
    },
    {
     "name": "stderr",
     "output_type": "stream",
     "text": [
      "Epoch: 100%|██████████| 1000/1000 [00:08<00:00, 117.04it/s, loss=0.474]\n"
     ]
    },
    {
     "name": "stdout",
     "output_type": "stream",
     "text": [
      "Generating ddpm synthetic covariates\n",
      "Fitting propensity model\n",
      "Generating propensities\n",
      "Fitting CATE learner\n",
      "Generating POs\n"
     ]
    },
    {
     "name": "stderr",
     "output_type": "stream",
     "text": [
      "[2024-05-13T17:42:39.273795+0000][4058068][CRITICAL] load failed: module 'synthcity.plugins.generic.plugin_goggle' has no attribute 'plugin'\n",
      "[2024-05-13T17:42:39.276297+0000][4058068][CRITICAL] load failed: module 'synthcity.plugins.generic.plugin_goggle' has no attribute 'plugin'\n",
      "[2024-05-13T17:42:39.277266+0000][4058068][CRITICAL] module plugin_goggle load failed\n"
     ]
    },
    {
     "name": "stdout",
     "output_type": "stream",
     "text": [
      "Fitting ddpm model\n"
     ]
    },
    {
     "name": "stderr",
     "output_type": "stream",
     "text": [
      "Epoch: 100%|██████████| 1000/1000 [00:11<00:00, 86.03it/s, loss=1]   \n"
     ]
    },
    {
     "name": "stdout",
     "output_type": "stream",
     "text": [
      "Generating ddpm synthetic dataset\n"
     ]
    },
    {
     "name": "stderr",
     "output_type": "stream",
     "text": [
      "[2024-05-13T17:42:54.550099+0000][4058068][CRITICAL] load failed: module 'synthcity.plugins.generic.plugin_goggle' has no attribute 'plugin'\n",
      "[2024-05-13T17:42:54.550852+0000][4058068][CRITICAL] load failed: module 'synthcity.plugins.generic.plugin_goggle' has no attribute 'plugin'\n",
      "[2024-05-13T17:42:54.551333+0000][4058068][CRITICAL] module plugin_goggle load failed\n"
     ]
    },
    {
     "name": "stdout",
     "output_type": "stream",
     "text": [
      "Fitting ddpm covariate model\n"
     ]
    },
    {
     "name": "stderr",
     "output_type": "stream",
     "text": [
      "Epoch: 100%|██████████| 1000/1000 [00:08<00:00, 116.75it/s, loss=0.474]\n"
     ]
    },
    {
     "name": "stdout",
     "output_type": "stream",
     "text": [
      "Generating ddpm synthetic covariates\n",
      "Fitting propensity model\n",
      "Generating propensities\n",
      "Fitting CATE learner\n",
      "Generating POs\n"
     ]
    },
    {
     "name": "stderr",
     "output_type": "stream",
     "text": [
      "[2024-05-13T17:47:58.937200+0000][4058068][CRITICAL] load failed: module 'synthcity.plugins.generic.plugin_goggle' has no attribute 'plugin'\n",
      "[2024-05-13T17:47:58.939447+0000][4058068][CRITICAL] load failed: module 'synthcity.plugins.generic.plugin_goggle' has no attribute 'plugin'\n",
      "[2024-05-13T17:47:58.940439+0000][4058068][CRITICAL] module plugin_goggle load failed\n"
     ]
    },
    {
     "name": "stdout",
     "output_type": "stream",
     "text": [
      "Fitting ddpm model\n"
     ]
    },
    {
     "name": "stderr",
     "output_type": "stream",
     "text": [
      "Epoch: 100%|██████████| 1000/1000 [00:12<00:00, 81.47it/s, loss=1]   \n"
     ]
    },
    {
     "name": "stdout",
     "output_type": "stream",
     "text": [
      "Generating ddpm synthetic dataset\n"
     ]
    },
    {
     "name": "stderr",
     "output_type": "stream",
     "text": [
      "[2024-05-13T17:48:14.899312+0000][4058068][CRITICAL] load failed: module 'synthcity.plugins.generic.plugin_goggle' has no attribute 'plugin'\n",
      "[2024-05-13T17:48:14.899923+0000][4058068][CRITICAL] load failed: module 'synthcity.plugins.generic.plugin_goggle' has no attribute 'plugin'\n",
      "[2024-05-13T17:48:14.900361+0000][4058068][CRITICAL] module plugin_goggle load failed\n"
     ]
    },
    {
     "name": "stdout",
     "output_type": "stream",
     "text": [
      "Fitting ddpm covariate model\n"
     ]
    },
    {
     "name": "stderr",
     "output_type": "stream",
     "text": [
      "Epoch: 100%|██████████| 1000/1000 [00:08<00:00, 119.51it/s, loss=0.473]\n"
     ]
    },
    {
     "name": "stdout",
     "output_type": "stream",
     "text": [
      "Generating ddpm synthetic covariates\n",
      "Fitting propensity model\n",
      "Generating propensities\n",
      "Fitting CATE learner\n",
      "Generating POs\n"
     ]
    },
    {
     "name": "stderr",
     "output_type": "stream",
     "text": [
      "[2024-05-13T17:53:29.671705+0000][4058068][CRITICAL] load failed: module 'synthcity.plugins.generic.plugin_goggle' has no attribute 'plugin'\n",
      "[2024-05-13T17:53:29.674188+0000][4058068][CRITICAL] load failed: module 'synthcity.plugins.generic.plugin_goggle' has no attribute 'plugin'\n",
      "[2024-05-13T17:53:29.675191+0000][4058068][CRITICAL] module plugin_goggle load failed\n"
     ]
    },
    {
     "name": "stdout",
     "output_type": "stream",
     "text": [
      "Fitting ddpm model\n"
     ]
    },
    {
     "name": "stderr",
     "output_type": "stream",
     "text": [
      "Epoch: 100%|██████████| 1000/1000 [00:12<00:00, 82.98it/s, loss=1]   \n"
     ]
    },
    {
     "name": "stdout",
     "output_type": "stream",
     "text": [
      "Generating ddpm synthetic dataset\n"
     ]
    },
    {
     "name": "stderr",
     "output_type": "stream",
     "text": [
      "[2024-05-13T17:53:45.350841+0000][4058068][CRITICAL] load failed: module 'synthcity.plugins.generic.plugin_goggle' has no attribute 'plugin'\n",
      "[2024-05-13T17:53:45.351597+0000][4058068][CRITICAL] load failed: module 'synthcity.plugins.generic.plugin_goggle' has no attribute 'plugin'\n",
      "[2024-05-13T17:53:45.352053+0000][4058068][CRITICAL] module plugin_goggle load failed\n"
     ]
    },
    {
     "name": "stdout",
     "output_type": "stream",
     "text": [
      "Fitting ddpm covariate model\n"
     ]
    },
    {
     "name": "stderr",
     "output_type": "stream",
     "text": [
      "Epoch: 100%|██████████| 1000/1000 [00:08<00:00, 122.30it/s, loss=0.472]\n"
     ]
    },
    {
     "name": "stdout",
     "output_type": "stream",
     "text": [
      "Generating ddpm synthetic covariates\n",
      "Fitting propensity model\n",
      "Generating propensities\n",
      "Fitting CATE learner\n",
      "Generating POs\n"
     ]
    },
    {
     "name": "stderr",
     "output_type": "stream",
     "text": [
      "[2024-05-13T17:58:43.507080+0000][4058068][CRITICAL] load failed: module 'synthcity.plugins.generic.plugin_goggle' has no attribute 'plugin'\n",
      "[2024-05-13T17:58:43.509288+0000][4058068][CRITICAL] load failed: module 'synthcity.plugins.generic.plugin_goggle' has no attribute 'plugin'\n",
      "[2024-05-13T17:58:43.510253+0000][4058068][CRITICAL] module plugin_goggle load failed\n"
     ]
    },
    {
     "name": "stdout",
     "output_type": "stream",
     "text": [
      "Fitting ddpm model\n"
     ]
    },
    {
     "name": "stderr",
     "output_type": "stream",
     "text": [
      "Epoch: 100%|██████████| 1000/1000 [00:11<00:00, 88.26it/s, loss=1.01]\n"
     ]
    },
    {
     "name": "stdout",
     "output_type": "stream",
     "text": [
      "Generating ddpm synthetic dataset\n"
     ]
    },
    {
     "name": "stderr",
     "output_type": "stream",
     "text": [
      "[2024-05-13T17:58:58.468580+0000][4058068][CRITICAL] load failed: module 'synthcity.plugins.generic.plugin_goggle' has no attribute 'plugin'\n",
      "[2024-05-13T17:58:58.469188+0000][4058068][CRITICAL] load failed: module 'synthcity.plugins.generic.plugin_goggle' has no attribute 'plugin'\n",
      "[2024-05-13T17:58:58.469553+0000][4058068][CRITICAL] module plugin_goggle load failed\n"
     ]
    },
    {
     "name": "stdout",
     "output_type": "stream",
     "text": [
      "Fitting ddpm covariate model\n"
     ]
    },
    {
     "name": "stderr",
     "output_type": "stream",
     "text": [
      "Epoch: 100%|██████████| 1000/1000 [00:08<00:00, 118.64it/s, loss=0.471]\n"
     ]
    },
    {
     "name": "stdout",
     "output_type": "stream",
     "text": [
      "Generating ddpm synthetic covariates\n",
      "Fitting propensity model\n",
      "Generating propensities\n",
      "Fitting CATE learner\n",
      "Generating POs\n",
      "Tested n_t = 5\n"
     ]
    }
   ],
   "source": [
    "pred_results = predictive_insight(1000, 10, 5, [0,1,2,3,4,5], 'ddpm', 10, save=True, fp = 'predictive_insight_average.csv')"
   ]
  },
  {
   "cell_type": "code",
   "execution_count": 147,
   "id": "c8504654",
   "metadata": {},
   "outputs": [
    {
     "data": {
      "text/html": [
       "<div>\n",
       "<style scoped>\n",
       "    .dataframe tbody tr th:only-of-type {\n",
       "        vertical-align: middle;\n",
       "    }\n",
       "\n",
       "    .dataframe tbody tr th {\n",
       "        vertical-align: top;\n",
       "    }\n",
       "\n",
       "    .dataframe thead th {\n",
       "        text-align: right;\n",
       "    }\n",
       "</style>\n",
       "<table border=\"1\" class=\"dataframe\">\n",
       "  <thead>\n",
       "    <tr style=\"text-align: right;\">\n",
       "      <th></th>\n",
       "      <th></th>\n",
       "      <th>f</th>\n",
       "      <th>c</th>\n",
       "      <th>d</th>\n",
       "      <th>u_pehe</th>\n",
       "      <th>u_policy</th>\n",
       "      <th>u_int</th>\n",
       "    </tr>\n",
       "    <tr>\n",
       "      <th>n_t</th>\n",
       "      <th>method</th>\n",
       "      <th></th>\n",
       "      <th></th>\n",
       "      <th></th>\n",
       "      <th></th>\n",
       "      <th></th>\n",
       "      <th></th>\n",
       "    </tr>\n",
       "  </thead>\n",
       "  <tbody>\n",
       "    <tr>\n",
       "      <th rowspan=\"2\" valign=\"top\">0</th>\n",
       "      <th>seq_new</th>\n",
       "      <td>0.712133</td>\n",
       "      <td>0.400833</td>\n",
       "      <td>0.881215</td>\n",
       "      <td>1.290466</td>\n",
       "      <td>0.5100</td>\n",
       "      <td>0.443480</td>\n",
       "    </tr>\n",
       "    <tr>\n",
       "      <th>standard</th>\n",
       "      <td>0.480120</td>\n",
       "      <td>0.359667</td>\n",
       "      <td>0.880678</td>\n",
       "      <td>2.350761</td>\n",
       "      <td>0.5275</td>\n",
       "      <td>-0.026896</td>\n",
       "    </tr>\n",
       "    <tr>\n",
       "      <th rowspan=\"2\" valign=\"top\">1</th>\n",
       "      <th>seq_new</th>\n",
       "      <td>0.677673</td>\n",
       "      <td>0.408480</td>\n",
       "      <td>0.923211</td>\n",
       "      <td>1.341886</td>\n",
       "      <td>0.6760</td>\n",
       "      <td>0.551533</td>\n",
       "    </tr>\n",
       "    <tr>\n",
       "      <th>standard</th>\n",
       "      <td>0.366313</td>\n",
       "      <td>0.296340</td>\n",
       "      <td>0.831724</td>\n",
       "      <td>2.909052</td>\n",
       "      <td>0.6705</td>\n",
       "      <td>0.296638</td>\n",
       "    </tr>\n",
       "    <tr>\n",
       "      <th rowspan=\"2\" valign=\"top\">2</th>\n",
       "      <th>seq_new</th>\n",
       "      <td>0.626507</td>\n",
       "      <td>0.390040</td>\n",
       "      <td>0.901832</td>\n",
       "      <td>1.555458</td>\n",
       "      <td>0.8600</td>\n",
       "      <td>0.771125</td>\n",
       "    </tr>\n",
       "    <tr>\n",
       "      <th>standard</th>\n",
       "      <td>0.345373</td>\n",
       "      <td>0.306687</td>\n",
       "      <td>0.832961</td>\n",
       "      <td>3.096885</td>\n",
       "      <td>0.5885</td>\n",
       "      <td>0.181287</td>\n",
       "    </tr>\n",
       "    <tr>\n",
       "      <th rowspan=\"2\" valign=\"top\">3</th>\n",
       "      <th>seq_new</th>\n",
       "      <td>0.676787</td>\n",
       "      <td>0.389480</td>\n",
       "      <td>0.903201</td>\n",
       "      <td>1.642164</td>\n",
       "      <td>0.9215</td>\n",
       "      <td>0.846488</td>\n",
       "    </tr>\n",
       "    <tr>\n",
       "      <th>standard</th>\n",
       "      <td>0.282220</td>\n",
       "      <td>0.234127</td>\n",
       "      <td>0.794865</td>\n",
       "      <td>3.990815</td>\n",
       "      <td>0.8360</td>\n",
       "      <td>0.226740</td>\n",
       "    </tr>\n",
       "    <tr>\n",
       "      <th rowspan=\"2\" valign=\"top\">4</th>\n",
       "      <th>seq_new</th>\n",
       "      <td>0.640867</td>\n",
       "      <td>0.394460</td>\n",
       "      <td>0.905993</td>\n",
       "      <td>2.098368</td>\n",
       "      <td>0.9470</td>\n",
       "      <td>0.840431</td>\n",
       "    </tr>\n",
       "    <tr>\n",
       "      <th>standard</th>\n",
       "      <td>0.304073</td>\n",
       "      <td>0.275833</td>\n",
       "      <td>0.812379</td>\n",
       "      <td>4.699423</td>\n",
       "      <td>0.9030</td>\n",
       "      <td>0.492629</td>\n",
       "    </tr>\n",
       "    <tr>\n",
       "      <th rowspan=\"2\" valign=\"top\">5</th>\n",
       "      <th>seq_new</th>\n",
       "      <td>0.709607</td>\n",
       "      <td>0.408033</td>\n",
       "      <td>0.889630</td>\n",
       "      <td>2.207379</td>\n",
       "      <td>0.9605</td>\n",
       "      <td>0.910815</td>\n",
       "    </tr>\n",
       "    <tr>\n",
       "      <th>standard</th>\n",
       "      <td>0.307400</td>\n",
       "      <td>0.274647</td>\n",
       "      <td>0.779523</td>\n",
       "      <td>5.559225</td>\n",
       "      <td>0.9595</td>\n",
       "      <td>0.483257</td>\n",
       "    </tr>\n",
       "  </tbody>\n",
       "</table>\n",
       "</div>"
      ],
      "text/plain": [
       "                     f         c         d    u_pehe  u_policy     u_int\n",
       "n_t method                                                              \n",
       "0   seq_new   0.712133  0.400833  0.881215  1.290466    0.5100  0.443480\n",
       "    standard  0.480120  0.359667  0.880678  2.350761    0.5275 -0.026896\n",
       "1   seq_new   0.677673  0.408480  0.923211  1.341886    0.6760  0.551533\n",
       "    standard  0.366313  0.296340  0.831724  2.909052    0.6705  0.296638\n",
       "2   seq_new   0.626507  0.390040  0.901832  1.555458    0.8600  0.771125\n",
       "    standard  0.345373  0.306687  0.832961  3.096885    0.5885  0.181287\n",
       "3   seq_new   0.676787  0.389480  0.903201  1.642164    0.9215  0.846488\n",
       "    standard  0.282220  0.234127  0.794865  3.990815    0.8360  0.226740\n",
       "4   seq_new   0.640867  0.394460  0.905993  2.098368    0.9470  0.840431\n",
       "    standard  0.304073  0.275833  0.812379  4.699423    0.9030  0.492629\n",
       "5   seq_new   0.709607  0.408033  0.889630  2.207379    0.9605  0.910815\n",
       "    standard  0.307400  0.274647  0.779523  5.559225    0.9595  0.483257"
      ]
     },
     "execution_count": 147,
     "metadata": {},
     "output_type": "execute_result"
    }
   ],
   "source": [
    "pred_results.groupby(['n_t', 'method']).mean()"
   ]
  },
  {
   "cell_type": "code",
   "execution_count": 54,
   "id": "7f99a282",
   "metadata": {},
   "outputs": [],
   "source": [
    "pred_results = pd.read_csv('predictive_insight_average.csv')"
   ]
  },
  {
   "cell_type": "code",
   "execution_count": 104,
   "id": "41fae28d",
   "metadata": {},
   "outputs": [],
   "source": [
    "pred_results = pred_results[pred_results['n_t'] != 0]"
   ]
  },
  {
   "cell_type": "code",
   "execution_count": 151,
   "id": "6558e886",
   "metadata": {},
   "outputs": [
    {
     "data": {
      "image/png": "[encoded data removed]",
      "text/plain": [
       "<Figure size 640x480 with 1 Axes>"
      ]
     },
     "metadata": {},
     "output_type": "display_data"
    }
   ],
   "source": [
    "\n",
    "x = [1,2,3,4,5]\n",
    "u_seq = pred_results[pred_results['method']=='seq_new'].groupby(['n_t']).mean()['u_pehe']\n",
    "u_stand = pred_results[pred_results['method']=='standard'].groupby(['n_t']).mean()['u_pehe']\n",
    "\n",
    "u_seq_std = pred_results[pred_results['method']=='seq_new'].groupby(['n_t']).std()['u_pehe'] / np.sqrt(10) * 1.96\n",
    "u_stand_std = pred_results[pred_results['method']=='standard'].groupby(['n_t']).std()['u_pehe']/ np.sqrt(10) * 1.96\n",
    "\n",
    "\n",
    "plt.plot(x, u_stand, 'o-', label = 'Standard')\n",
    "plt.plot(x, u_seq, 'o-', label = 'Sequential')\n",
    "\n",
    "\n",
    "plt.fill_between(x, u_stand - u_stand_std, u_stand + u_stand_std, alpha=0.2)\n",
    "plt.fill_between(x, u_seq - u_seq_std, u_seq + u_seq_std, alpha=0.2)\n",
    "plt.legend()\n",
    "plt.xlabel('No. predictive covariates')\n",
    "plt.ylabel('PEHE')\n",
    "plt.savefig('plots/CATE_complexity_plot.png')"
   ]
  },
  {
   "cell_type": "code",
   "execution_count": null,
   "id": "98d9fc4b",
   "metadata": {},
   "outputs": [],
   "source": []
  },
  {
   "cell_type": "markdown",
   "id": "b3affd2e",
   "metadata": {},
   "source": [
    "## Showing our metrics work"
   ]
  },
  {
   "cell_type": "markdown",
   "id": "154ce727",
   "metadata": {},
   "source": [
    "### D"
   ]
  },
  {
   "cell_type": "code",
   "execution_count": 121,
   "id": "5d6c1de5",
   "metadata": {},
   "outputs": [],
   "source": [
    "def generate_propensities_datasets(n, correct):\n",
    "    d = pd.DataFrame(np.random.normal(loc = 0, size=(n,20)))\n",
    "    d['w'] = 0\n",
    "    d.loc[:round(n/2),'w'] = 1\n",
    "    d['y'] = np.random.normal(loc = 0, size=(n,1))\n",
    "    d = d.sample(frac=1)\n",
    "\n",
    "    n_correct = round(correct*n)\n",
    "    d_adv = pd.DataFrame(np.random.normal(loc = 0, size=(n,20)))\n",
    "    d_adv['w'] = 0\n",
    "    d_adv.loc[:n_correct,'w'] = 1\n",
    "    d_adv['y'] = np.random.normal(loc = 0, size=(n,1))\n",
    "    d_adv = d_adv.sample(frac=1)\n",
    "\n",
    "    return d, d_adv"
   ]
  },
  {
   "cell_type": "code",
   "execution_count": 122,
   "id": "a4045f87",
   "metadata": {},
   "outputs": [],
   "source": [
    "def new_metrics_propensity_exp(n, corrects, n_iter):\n",
    "    results = pd.DataFrame(columns=['treated %', 'f', 'd', 'beta', 'kl'])\n",
    "    alpha = AlphaPrecision()\n",
    "    kl = InverseKLDivergence()\n",
    "\n",
    "    for c in corrects:\n",
    "        for _ in range(n_iter):\n",
    "            d_real, d_adv = generate_propensities_datasets(n, c)\n",
    "            #f = evaluate_f(d_real,d_adv,'w','y')\n",
    "            d = evaluate_d(d_real,d_adv,'w','y')\n",
    "            #prec = alpha.evaluate(GenericDataLoader(d_real), GenericDataLoader(d_adv))['delta_coverage_beta_OC']\n",
    "            #inv_kl = kl.evaluate(GenericDataLoader(d_real), GenericDataLoader(d_adv))['marginal']\n",
    "            results.loc[len(results)] = [c, 0, d, 0, 0]\n",
    "            print('done')\n",
    "    return results\n"
   ]
  },
  {
   "cell_type": "code",
   "execution_count": 126,
   "id": "d1e82a13",
   "metadata": {},
   "outputs": [
    {
     "name": "stdout",
     "output_type": "stream",
     "text": [
      "done\n",
      "done\n",
      "done\n",
      "done\n",
      "done\n",
      "done\n",
      "done\n",
      "done\n",
      "done\n",
      "done\n",
      "done\n",
      "done\n",
      "done\n",
      "done\n",
      "done\n"
     ]
    },
    {
     "name": "stdout",
     "output_type": "stream",
     "text": [
      "done\n",
      "done\n",
      "done\n",
      "done\n",
      "done\n",
      "done\n",
      "done\n",
      "done\n",
      "done\n",
      "done\n",
      "done\n",
      "done\n",
      "done\n",
      "done\n",
      "done\n",
      "done\n",
      "done\n",
      "done\n",
      "done\n",
      "done\n",
      "done\n",
      "done\n",
      "done\n",
      "done\n",
      "done\n",
      "done\n",
      "done\n",
      "done\n",
      "done\n",
      "done\n",
      "done\n",
      "done\n",
      "done\n",
      "done\n",
      "done\n",
      "done\n",
      "done\n",
      "done\n",
      "done\n",
      "done\n",
      "done\n",
      "done\n",
      "done\n",
      "done\n",
      "done\n",
      "done\n",
      "done\n",
      "done\n",
      "done\n",
      "done\n",
      "done\n",
      "done\n",
      "done\n",
      "done\n",
      "done\n",
      "done\n",
      "done\n",
      "done\n",
      "done\n",
      "done\n",
      "done\n",
      "done\n",
      "done\n",
      "done\n",
      "done\n",
      "done\n",
      "done\n",
      "done\n",
      "done\n",
      "done\n",
      "done\n",
      "done\n",
      "done\n",
      "done\n",
      "done\n",
      "done\n",
      "done\n",
      "done\n",
      "done\n",
      "done\n",
      "done\n",
      "done\n",
      "done\n",
      "done\n",
      "done\n",
      "done\n",
      "done\n",
      "done\n",
      "done\n",
      "done\n",
      "done\n",
      "done\n",
      "done\n",
      "done\n",
      "done\n"
     ]
    }
   ],
   "source": [
    "results_prop = new_metrics_propensity_exp(2000, [0.01, 0.1,0.2,0.3,0.4,0.5,0.6,0.7,0.8,0.9, 0.99], 10)"
   ]
  },
  {
   "cell_type": "code",
   "execution_count": 127,
   "id": "13720072",
   "metadata": {},
   "outputs": [
    {
     "data": {
      "text/html": [
       "<div>\n",
       "<style scoped>\n",
       "    .dataframe tbody tr th:only-of-type {\n",
       "        vertical-align: middle;\n",
       "    }\n",
       "\n",
       "    .dataframe tbody tr th {\n",
       "        vertical-align: top;\n",
       "    }\n",
       "\n",
       "    .dataframe thead th {\n",
       "        text-align: right;\n",
       "    }\n",
       "</style>\n",
       "<table border=\"1\" class=\"dataframe\">\n",
       "  <thead>\n",
       "    <tr style=\"text-align: right;\">\n",
       "      <th></th>\n",
       "      <th>f</th>\n",
       "      <th>d</th>\n",
       "      <th>beta</th>\n",
       "      <th>kl</th>\n",
       "    </tr>\n",
       "    <tr>\n",
       "      <th>treated %</th>\n",
       "      <th></th>\n",
       "      <th></th>\n",
       "      <th></th>\n",
       "      <th></th>\n",
       "    </tr>\n",
       "  </thead>\n",
       "  <tbody>\n",
       "    <tr>\n",
       "      <th>0.01</th>\n",
       "      <td>10</td>\n",
       "      <td>10</td>\n",
       "      <td>10</td>\n",
       "      <td>10</td>\n",
       "    </tr>\n",
       "    <tr>\n",
       "      <th>0.10</th>\n",
       "      <td>10</td>\n",
       "      <td>10</td>\n",
       "      <td>10</td>\n",
       "      <td>10</td>\n",
       "    </tr>\n",
       "    <tr>\n",
       "      <th>0.20</th>\n",
       "      <td>10</td>\n",
       "      <td>10</td>\n",
       "      <td>10</td>\n",
       "      <td>10</td>\n",
       "    </tr>\n",
       "    <tr>\n",
       "      <th>0.30</th>\n",
       "      <td>10</td>\n",
       "      <td>10</td>\n",
       "      <td>10</td>\n",
       "      <td>10</td>\n",
       "    </tr>\n",
       "    <tr>\n",
       "      <th>0.40</th>\n",
       "      <td>10</td>\n",
       "      <td>10</td>\n",
       "      <td>10</td>\n",
       "      <td>10</td>\n",
       "    </tr>\n",
       "    <tr>\n",
       "      <th>0.50</th>\n",
       "      <td>10</td>\n",
       "      <td>10</td>\n",
       "      <td>10</td>\n",
       "      <td>10</td>\n",
       "    </tr>\n",
       "    <tr>\n",
       "      <th>0.60</th>\n",
       "      <td>10</td>\n",
       "      <td>10</td>\n",
       "      <td>10</td>\n",
       "      <td>10</td>\n",
       "    </tr>\n",
       "    <tr>\n",
       "      <th>0.70</th>\n",
       "      <td>10</td>\n",
       "      <td>10</td>\n",
       "      <td>10</td>\n",
       "      <td>10</td>\n",
       "    </tr>\n",
       "    <tr>\n",
       "      <th>0.80</th>\n",
       "      <td>10</td>\n",
       "      <td>10</td>\n",
       "      <td>10</td>\n",
       "      <td>10</td>\n",
       "    </tr>\n",
       "    <tr>\n",
       "      <th>0.90</th>\n",
       "      <td>10</td>\n",
       "      <td>10</td>\n",
       "      <td>10</td>\n",
       "      <td>10</td>\n",
       "    </tr>\n",
       "    <tr>\n",
       "      <th>0.99</th>\n",
       "      <td>10</td>\n",
       "      <td>10</td>\n",
       "      <td>10</td>\n",
       "      <td>10</td>\n",
       "    </tr>\n",
       "  </tbody>\n",
       "</table>\n",
       "</div>"
      ],
      "text/plain": [
       "            f   d  beta  kl\n",
       "treated %                  \n",
       "0.01       10  10    10  10\n",
       "0.10       10  10    10  10\n",
       "0.20       10  10    10  10\n",
       "0.30       10  10    10  10\n",
       "0.40       10  10    10  10\n",
       "0.50       10  10    10  10\n",
       "0.60       10  10    10  10\n",
       "0.70       10  10    10  10\n",
       "0.80       10  10    10  10\n",
       "0.90       10  10    10  10\n",
       "0.99       10  10    10  10"
      ]
     },
     "execution_count": 127,
     "metadata": {},
     "output_type": "execute_result"
    }
   ],
   "source": [
    "results_prop.groupby('treated %').count()"
   ]
  },
  {
   "cell_type": "code",
   "execution_count": 129,
   "id": "ad2ac674",
   "metadata": {},
   "outputs": [
    {
     "data": {
      "image/png": "[encoded data removed]",
      "text/plain": [
       "<Figure size 640x480 with 1 Axes>"
      ]
     },
     "metadata": {},
     "output_type": "display_data"
    }
   ],
   "source": [
    "x = [0.01,0.1,0.2,0.3,0.4,0.5,0.6,0.7,0.8,0.9,0.99]\n",
    "d = results_prop.groupby('treated %').mean()['d']\n",
    "beta = results_prop.groupby('treated %').mean()['beta']\n",
    "kl = results_prop.groupby('treated %').mean()['kl']\n",
    "d_std = results_prop.groupby('treated %').std()['d'] / np.sqrt(10) * 1.96\n",
    "beta_std = results_prop.groupby('treated %').std()['beta']/ np.sqrt(10) * 1.96\n",
    "kl_std = results_prop.groupby('treated %').std()['kl']/ np.sqrt(10) * 1.96\n",
    "\n",
    "plt.plot(x, d, 'o-', label = 'd')\n",
    "#plt.plot(x, beta, label = 'beta')\n",
    "#plt.plot(x, kl, label = 'kl')\n",
    "\n",
    "plt.fill_between(x, d - d_std, d + d_std, alpha=0.2)\n",
    "#plt.fill_between(x, beta - beta_std, beta + beta_std, alpha=0.2)\n",
    "#plt.fill_between(x, kl - kl_std, kl + kl_std, alpha=0.2)\n",
    "#plt.legend()\n",
    "plt.ylim([0,1])\n",
    "plt.axvline(x=0.5, color='gray', linestyle='--', alpha=0.5)\n",
    "plt.ylabel('$D$')\n",
    "plt.xlabel('$\\pi_{synth}$')\n",
    "plt.savefig('plots/propensity_metric_plot.png')"
   ]
  },
  {
   "cell_type": "code",
   "execution_count": null,
   "id": "938e4c23",
   "metadata": {},
   "outputs": [],
   "source": []
  },
  {
   "cell_type": "markdown",
   "id": "33058bb7",
   "metadata": {},
   "source": [
    "### U"
   ]
  },
  {
   "cell_type": "code",
   "execution_count": 22,
   "id": "66047f04",
   "metadata": {},
   "outputs": [],
   "source": [
    "def create_simulated_datasets(n, d, n_o, n_t, n_known, error_sd=0):\n",
    "    X,y,w,p,t = simulate_treatment_setup(n, d=d, n_o=n_o, n_t=n_t, error_sd=error_sd)\n",
    "    X_df = pd.DataFrame(X)\n",
    "    y_df = pd.DataFrame(y, columns = ['y'])\n",
    "    w_df = pd.DataFrame(w, columns = ['w'])\n",
    "\n",
    "    d_real = pd.concat([X_df,w_df,y_df], axis=1)\n",
    "    d_synth = pd.concat([X_df,w_df], axis=1)\n",
    "\n",
    "    mu0_coefs = np.ones(n_o)\n",
    "    mu0 = np.dot(X[:, : n_o] ** 2, mu0_coefs)\n",
    "\n",
    "    mu1_coefs = np.ones(n_known)\n",
    "    X_sel = X[:, n_o : n_o + n_known]\n",
    "    mu1 = mu0 + np.dot(X_sel**2, mu1_coefs)\n",
    "\n",
    "    new_column_values = []\n",
    "    for index, value in d_synth['w'].iteritems():\n",
    "        if value == 0:\n",
    "            new_column_values.append(mu0[index])\n",
    "        else:\n",
    "            new_column_values.append(mu1[index])\n",
    "\n",
    "    d_synth['y'] = new_column_values\n",
    "\n",
    "    return d_real, d_synth"
   ]
  },
  {
   "cell_type": "code",
   "execution_count": 23,
   "id": "bb902fcf",
   "metadata": {},
   "outputs": [],
   "source": [
    "def run_utility_exp(n, d, n_o, n_t, n_knowns, n_iter, error_sd=0):\n",
    "    results = pd.DataFrame(columns=['n_known', 'u_pehe', 'u_policy'])\n",
    "    for n_known in n_knowns:\n",
    "        for _ in range(n_iter):\n",
    "            d_real, d_synth = create_simulated_datasets(n, d,n_o, n_t, n_known)\n",
    "            u_pehe = evaluate_u_pehe(d_real, d_synth, 'w', 'y', n_units=d)\n",
    "            u_policy = evaluate_u_policy(d_real, d_synth, 'w', 'y', n_units=d)\n",
    "\n",
    "            results.loc[len(results)] = [n_known, u_pehe, u_policy]\n",
    "            print(f'done {n_known} {_}')\n",
    "\n",
    "    return results"
   ]
  },
  {
   "cell_type": "code",
   "execution_count": 24,
   "id": "312ef30c",
   "metadata": {},
   "outputs": [
    {
     "name": "stdout",
     "output_type": "stream",
     "text": [
      "done 0 0\n",
      "done 0 1\n",
      "done 0 2\n",
      "done 0 3\n",
      "done 0 4\n",
      "done 1 0\n",
      "done 1 1\n",
      "done 1 2\n",
      "done 1 3\n",
      "done 1 4\n",
      "done 2 0\n",
      "done 2 1\n",
      "done 2 2\n",
      "done 2 3\n",
      "done 2 4\n",
      "done 3 0\n",
      "done 3 1\n",
      "done 3 2\n",
      "done 3 3\n",
      "done 3 4\n",
      "done 4 0\n",
      "done 4 1\n",
      "done 4 2\n",
      "done 4 3\n",
      "done 4 4\n",
      "done 5 0\n",
      "done 5 1\n",
      "done 5 2\n",
      "done 5 3\n",
      "done 5 4\n"
     ]
    }
   ],
   "source": [
    "results = run_utility_exp(1000, 10, 5, 5, [0,1,2,3,4,5], n_iter = 5)"
   ]
  },
  {
   "cell_type": "code",
   "execution_count": 25,
   "id": "d1205f76",
   "metadata": {},
   "outputs": [],
   "source": [
    "results.to_csv('utility_simulated_experiment.csv', index=False)"
   ]
  },
  {
   "cell_type": "code",
   "execution_count": 116,
   "id": "b78c4c17",
   "metadata": {},
   "outputs": [],
   "source": [
    "results = pd.read_csv('utility_simulated_experiment.csv')"
   ]
  },
  {
   "cell_type": "code",
   "execution_count": 118,
   "id": "8ba08728",
   "metadata": {},
   "outputs": [
    {
     "data": {
      "text/html": [
       "<div>\n",
       "<style scoped>\n",
       "    .dataframe tbody tr th:only-of-type {\n",
       "        vertical-align: middle;\n",
       "    }\n",
       "\n",
       "    .dataframe tbody tr th {\n",
       "        vertical-align: top;\n",
       "    }\n",
       "\n",
       "    .dataframe thead th {\n",
       "        text-align: right;\n",
       "    }\n",
       "</style>\n",
       "<table border=\"1\" class=\"dataframe\">\n",
       "  <thead>\n",
       "    <tr style=\"text-align: right;\">\n",
       "      <th></th>\n",
       "      <th>u_pehe</th>\n",
       "      <th>u_policy</th>\n",
       "    </tr>\n",
       "    <tr>\n",
       "      <th>n_known</th>\n",
       "      <th></th>\n",
       "      <th></th>\n",
       "    </tr>\n",
       "  </thead>\n",
       "  <tbody>\n",
       "    <tr>\n",
       "      <th>0.0</th>\n",
       "      <td>5</td>\n",
       "      <td>5</td>\n",
       "    </tr>\n",
       "    <tr>\n",
       "      <th>1.0</th>\n",
       "      <td>5</td>\n",
       "      <td>5</td>\n",
       "    </tr>\n",
       "    <tr>\n",
       "      <th>2.0</th>\n",
       "      <td>5</td>\n",
       "      <td>5</td>\n",
       "    </tr>\n",
       "    <tr>\n",
       "      <th>3.0</th>\n",
       "      <td>5</td>\n",
       "      <td>5</td>\n",
       "    </tr>\n",
       "    <tr>\n",
       "      <th>4.0</th>\n",
       "      <td>5</td>\n",
       "      <td>5</td>\n",
       "    </tr>\n",
       "    <tr>\n",
       "      <th>5.0</th>\n",
       "      <td>5</td>\n",
       "      <td>5</td>\n",
       "    </tr>\n",
       "  </tbody>\n",
       "</table>\n",
       "</div>"
      ],
      "text/plain": [
       "         u_pehe  u_policy\n",
       "n_known                  \n",
       "0.0           5         5\n",
       "1.0           5         5\n",
       "2.0           5         5\n",
       "3.0           5         5\n",
       "4.0           5         5\n",
       "5.0           5         5"
      ]
     },
     "execution_count": 118,
     "metadata": {},
     "output_type": "execute_result"
    }
   ],
   "source": [
    "results.groupby('n_known').count()"
   ]
  },
  {
   "cell_type": "code",
   "execution_count": 120,
   "id": "b332047c",
   "metadata": {},
   "outputs": [
    {
     "data": {
      "image/png": "[encoded data removed]",
      "text/plain": [
       "<Figure size 640x480 with 2 Axes>"
      ]
     },
     "metadata": {},
     "output_type": "display_data"
    }
   ],
   "source": [
    "x = [0,1,2,3,4,5]\n",
    "u_pehe = results.groupby('n_known').mean()['u_pehe']\n",
    "u_policy = results.groupby('n_known').mean()['u_policy']\n",
    "u_pehe_std = results.groupby('n_known').std()['u_pehe'] / np.sqrt(5) * 1.96\n",
    "u_policy_std = results.groupby('n_known').std()['u_policy'] / np.sqrt(5) * 1.96\n",
    "\n",
    "fig, ax1 = plt.subplots()\n",
    "ax1.plot(x, u_policy, 'o-', label = 'Policy')\n",
    "ax1.fill_between(x, u_policy - u_policy_std, u_policy + u_policy_std, alpha=0.2)\n",
    "ax1.set_ylabel('Policy/Interpretability')\n",
    "\n",
    "ax2 = ax1.twinx()\n",
    "ax2.plot(x, u_pehe, 'o-', label = 'PEHE', color='g')\n",
    "ax2.set_ylabel('PEHE')\n",
    "ax2.fill_between(x, u_pehe - u_pehe_std, u_pehe + u_pehe_std, alpha=0.2, color='g')\n",
    "\n",
    "handles1, labels1 = ax1.get_legend_handles_labels()\n",
    "handles2, labels2 = ax2.get_legend_handles_labels()\n",
    "handles = handles1+handles2\n",
    "labels=labels1+labels2\n",
    "\n",
    "plt.legend(handles, labels, loc='center right')\n",
    "ax1.set_xlabel('No. recognised predictive covariates')\n",
    "plt.savefig('plots/utility_metric_plot.png')"
   ]
  },
  {
   "cell_type": "code",
   "execution_count": 119,
   "id": "4e9fd599",
   "metadata": {},
   "outputs": [
    {
     "data": {
      "text/plain": [
       "([<matplotlib.lines.Line2D at 0x7f49a058ab90>,\n",
       "  <matplotlib.lines.Line2D at 0x7f49a058ae90>],\n",
       " ['policy', 'int'])"
      ]
     },
     "execution_count": 119,
     "metadata": {},
     "output_type": "execute_result"
    }
   ],
   "source": []
  },
  {
   "cell_type": "code",
   "execution_count": null,
   "id": "6609f753",
   "metadata": {},
   "outputs": [],
   "source": []
  },
  {
   "cell_type": "markdown",
   "id": "8257d815",
   "metadata": {},
   "source": [
    "## New covariate distribution illustrative test"
   ]
  },
  {
   "cell_type": "code",
   "execution_count": 34,
   "id": "07aefdff",
   "metadata": {},
   "outputs": [],
   "source": [
    "def cov_dist_illustrative(n, n_covs):\n",
    "    alpha = AlphaPrecision()\n",
    "    kl = InverseKLDivergence()\n",
    "    mmd = MaximumMeanDiscrepancy()\n",
    "    results = pd.DataFrame(columns=['n_cov', 'alpha', 'beta', 'kl', 'mmd'])\n",
    "    for n_cov in n_covs:\n",
    "        X, y, w, p, t = simulate_treatment_setup(n, n_cov)\n",
    "        X_df = pd.DataFrame(X)\n",
    "        y_df = pd.DataFrame(y, columns = ['y'])\n",
    "        w_df = pd.DataFrame(w, columns = ['w'])\n",
    "\n",
    "        d_real = pd.concat([X_df,w_df,y_df], axis=1)\n",
    "        d_syn = d_real.copy()\n",
    "        c = d_real.drop(['w', 'y'], axis=1).columns\n",
    "        d_syn[c] = 0\n",
    "        results.loc[len(results)] = [n_cov, alpha.evaluate(GenericDataLoader(d_real), GenericDataLoader(d_syn))['delta_precision_alpha_OC'], \n",
    "                                     alpha.evaluate(GenericDataLoader(d_real), GenericDataLoader(d_syn))['delta_coverage_beta_OC'],\n",
    "                                     kl.evaluate(GenericDataLoader(d_real), GenericDataLoader(d_syn))['marginal'],\n",
    "                                     mmd.evaluate(GenericDataLoader(d_real), GenericDataLoader(d_syn))['joint']]\n",
    "    return results"
   ]
  },
  {
   "cell_type": "code",
   "execution_count": 41,
   "id": "739c73ee",
   "metadata": {},
   "outputs": [],
   "source": [
    "results = cov_dist_illustrative(1000, [1,2,3,4,5,6,7,8,9,10])"
   ]
  },
  {
   "cell_type": "code",
   "execution_count": null,
   "id": "1eca1ee4",
   "metadata": {},
   "outputs": [],
   "source": []
  },
  {
   "cell_type": "code",
   "execution_count": 42,
   "id": "62521c7c",
   "metadata": {},
   "outputs": [
    {
     "data": {
      "text/html": [
       "<div>\n",
       "<style scoped>\n",
       "    .dataframe tbody tr th:only-of-type {\n",
       "        vertical-align: middle;\n",
       "    }\n",
       "\n",
       "    .dataframe tbody tr th {\n",
       "        vertical-align: top;\n",
       "    }\n",
       "\n",
       "    .dataframe thead th {\n",
       "        text-align: right;\n",
       "    }\n",
       "</style>\n",
       "<table border=\"1\" class=\"dataframe\">\n",
       "  <thead>\n",
       "    <tr style=\"text-align: right;\">\n",
       "      <th></th>\n",
       "      <th>n_cov</th>\n",
       "      <th>alpha</th>\n",
       "      <th>beta</th>\n",
       "      <th>kl</th>\n",
       "      <th>mmd</th>\n",
       "    </tr>\n",
       "  </thead>\n",
       "  <tbody>\n",
       "    <tr>\n",
       "      <th>0</th>\n",
       "      <td>1.0</td>\n",
       "      <td>0.896641</td>\n",
       "      <td>0.364267</td>\n",
       "      <td>0.685529</td>\n",
       "      <td>0.088571</td>\n",
       "    </tr>\n",
       "    <tr>\n",
       "      <th>1</th>\n",
       "      <td>2.0</td>\n",
       "      <td>0.823956</td>\n",
       "      <td>0.267933</td>\n",
       "      <td>0.527977</td>\n",
       "      <td>0.157971</td>\n",
       "    </tr>\n",
       "    <tr>\n",
       "      <th>2</th>\n",
       "      <td>3.0</td>\n",
       "      <td>0.749559</td>\n",
       "      <td>0.224000</td>\n",
       "      <td>0.433758</td>\n",
       "      <td>0.215335</td>\n",
       "    </tr>\n",
       "    <tr>\n",
       "      <th>3</th>\n",
       "      <td>4.0</td>\n",
       "      <td>0.678671</td>\n",
       "      <td>0.155133</td>\n",
       "      <td>0.370297</td>\n",
       "      <td>0.254347</td>\n",
       "    </tr>\n",
       "    <tr>\n",
       "      <th>4</th>\n",
       "      <td>5.0</td>\n",
       "      <td>0.736425</td>\n",
       "      <td>0.167400</td>\n",
       "      <td>0.325205</td>\n",
       "      <td>0.264557</td>\n",
       "    </tr>\n",
       "    <tr>\n",
       "      <th>5</th>\n",
       "      <td>6.0</td>\n",
       "      <td>0.529867</td>\n",
       "      <td>0.124067</td>\n",
       "      <td>0.291075</td>\n",
       "      <td>0.274397</td>\n",
       "    </tr>\n",
       "    <tr>\n",
       "      <th>6</th>\n",
       "      <td>7.0</td>\n",
       "      <td>0.629968</td>\n",
       "      <td>0.088333</td>\n",
       "      <td>0.264794</td>\n",
       "      <td>0.290047</td>\n",
       "    </tr>\n",
       "    <tr>\n",
       "      <th>7</th>\n",
       "      <td>8.0</td>\n",
       "      <td>0.725625</td>\n",
       "      <td>0.146133</td>\n",
       "      <td>0.244170</td>\n",
       "      <td>0.310178</td>\n",
       "    </tr>\n",
       "    <tr>\n",
       "      <th>8</th>\n",
       "      <td>9.0</td>\n",
       "      <td>0.699582</td>\n",
       "      <td>0.057600</td>\n",
       "      <td>0.226729</td>\n",
       "      <td>0.305175</td>\n",
       "    </tr>\n",
       "    <tr>\n",
       "      <th>9</th>\n",
       "      <td>10.0</td>\n",
       "      <td>0.314533</td>\n",
       "      <td>0.122867</td>\n",
       "      <td>0.212800</td>\n",
       "      <td>0.313197</td>\n",
       "    </tr>\n",
       "  </tbody>\n",
       "</table>\n",
       "</div>"
      ],
      "text/plain": [
       "   n_cov     alpha      beta        kl       mmd\n",
       "0    1.0  0.896641  0.364267  0.685529  0.088571\n",
       "1    2.0  0.823956  0.267933  0.527977  0.157971\n",
       "2    3.0  0.749559  0.224000  0.433758  0.215335\n",
       "3    4.0  0.678671  0.155133  0.370297  0.254347\n",
       "4    5.0  0.736425  0.167400  0.325205  0.264557\n",
       "5    6.0  0.529867  0.124067  0.291075  0.274397\n",
       "6    7.0  0.629968  0.088333  0.264794  0.290047\n",
       "7    8.0  0.725625  0.146133  0.244170  0.310178\n",
       "8    9.0  0.699582  0.057600  0.226729  0.305175\n",
       "9   10.0  0.314533  0.122867  0.212800  0.313197"
      ]
     },
     "execution_count": 42,
     "metadata": {},
     "output_type": "execute_result"
    }
   ],
   "source": [
    "results"
   ]
  },
  {
   "cell_type": "code",
   "execution_count": 40,
   "id": "bd5d413a",
   "metadata": {},
   "outputs": [
    {
     "data": {
      "text/plain": [
       "[<matplotlib.lines.Line2D at 0x7f4a401b5b10>]"
      ]
     },
     "execution_count": 40,
     "metadata": {},
     "output_type": "execute_result"
    },
    {
     "data": {
      "image/png": "[encoded data removed]",
      "text/plain": [
       "<Figure size 640x480 with 1 Axes>"
      ]
     },
     "metadata": {},
     "output_type": "display_data"
    }
   ],
   "source": [
    "plt.plot(results['alpha'])\n",
    "plt.plot(results['beta'])\n",
    "plt.plot(results['kl'])\n",
    "plt.plot(results['mmd'])"
   ]
  },
  {
   "cell_type": "code",
   "execution_count": 49,
   "id": "f3ddd56e",
   "metadata": {},
   "outputs": [],
   "source": [
    "X, y, w, p, t = simulate_treatment_setup(1000, 2)\n",
    "X_df = pd.DataFrame(X)\n",
    "y_df = pd.DataFrame(y, columns = ['y'])\n",
    "w_df = pd.DataFrame(w, columns = ['w'])\n",
    "\n",
    "d_real = pd.concat([X_df,w_df,y_df], axis=1)\n",
    "c = d_real.drop(['w', 'y'], axis=1).columns\n",
    "#d_real[c] *= 10"
   ]
  },
  {
   "cell_type": "code",
   "execution_count": 50,
   "id": "9bac7686",
   "metadata": {},
   "outputs": [],
   "source": [
    "d_syn = d_real.copy()\n",
    "d_syn['w'] = 0"
   ]
  },
  {
   "cell_type": "code",
   "execution_count": 51,
   "id": "2940fe9a",
   "metadata": {},
   "outputs": [],
   "source": [
    "alpha = AlphaPrecision()\n",
    "kl = InverseKLDivergence()\n",
    "mmd = MaximumMeanDiscrepancy()"
   ]
  },
  {
   "cell_type": "code",
   "execution_count": 52,
   "id": "fd194e1f",
   "metadata": {},
   "outputs": [
    {
     "data": {
      "text/plain": [
       "{'delta_precision_alpha_OC': 0.5455333333333334,\n",
       " 'delta_coverage_beta_OC': 0.4749977011494253,\n",
       " 'authenticity_OC': 0.416,\n",
       " 'delta_precision_alpha_naive': 0.9398666666666667,\n",
       " 'delta_coverage_beta_naive': 0.49839999999999995,\n",
       " 'authenticity_naive': 0.503}"
      ]
     },
     "execution_count": 52,
     "metadata": {},
     "output_type": "execute_result"
    }
   ],
   "source": [
    "alpha.evaluate(GenericDataLoader(d_real), GenericDataLoader(d_syn))"
   ]
  },
  {
   "cell_type": "code",
   "execution_count": 53,
   "id": "e95449b2",
   "metadata": {},
   "outputs": [
    {
     "data": {
      "text/plain": [
       "{'marginal': 0.7693872037983206}"
      ]
     },
     "execution_count": 53,
     "metadata": {},
     "output_type": "execute_result"
    }
   ],
   "source": [
    "kl.evaluate(GenericDataLoader(d_real), GenericDataLoader(d_syn))"
   ]
  },
  {
   "cell_type": "code",
   "execution_count": 54,
   "id": "210874aa",
   "metadata": {},
   "outputs": [
    {
     "data": {
      "text/plain": [
       "{'joint': 0.02762580954934199}"
      ]
     },
     "execution_count": 54,
     "metadata": {},
     "output_type": "execute_result"
    }
   ],
   "source": [
    "mmd.evaluate(GenericDataLoader(d_real), GenericDataLoader(d_syn))"
   ]
  },
  {
   "cell_type": "code",
   "execution_count": null,
   "id": "c49ee991",
   "metadata": {},
   "outputs": [],
   "source": []
  },
  {
   "cell_type": "code",
   "execution_count": 63,
   "id": "43406679",
   "metadata": {},
   "outputs": [],
   "source": [
    "X, y, w, p, t = simulate_treatment_setup(1000, 2, n_t=2)\n",
    "X_df = pd.DataFrame(X)\n",
    "y_df = pd.DataFrame(y, columns = ['y'])\n",
    "w_df = pd.DataFrame(w, columns = ['w'])\n",
    "\n",
    "d_real = pd.concat([X_df,w_df,y_df], axis=1)\n",
    "#d_real[c] *= 10"
   ]
  },
  {
   "cell_type": "code",
   "execution_count": 64,
   "id": "2b2b2799",
   "metadata": {},
   "outputs": [],
   "source": [
    "d_syn = pd.DataFrame(columns = d_real.columns)\n",
    "d_syn[0] = d_real[0]\n",
    "d_syn[1] = d_real[1]\n",
    "d_syn['w'] = d_real['w']\n",
    "d_syn['y'] = np.random.normal(loc = 0, size=(1000,1))"
   ]
  },
  {
   "cell_type": "code",
   "execution_count": 65,
   "id": "27ad6dc8",
   "metadata": {},
   "outputs": [
    {
     "data": {
      "text/plain": [
       "{'delta_precision_alpha_OC': 0.8506,\n",
       " 'delta_coverage_beta_OC': 0.44566666666666654,\n",
       " 'authenticity_OC': 0.604,\n",
       " 'delta_precision_alpha_naive': 0.9993356321839081,\n",
       " 'delta_coverage_beta_naive': 0.9993356321839081,\n",
       " 'authenticity_naive': 0.0}"
      ]
     },
     "execution_count": 65,
     "metadata": {},
     "output_type": "execute_result"
    }
   ],
   "source": [
    "alpha.evaluate(GenericDataLoader(d_real), GenericDataLoader(d_syn))"
   ]
  },
  {
   "cell_type": "code",
   "execution_count": 66,
   "id": "de2c9a92",
   "metadata": {},
   "outputs": [
    {
     "data": {
      "text/plain": [
       "{'marginal': 0.8239389674000923}"
      ]
     },
     "execution_count": 66,
     "metadata": {},
     "output_type": "execute_result"
    }
   ],
   "source": [
    "kl.evaluate(GenericDataLoader(d_real), GenericDataLoader(d_syn))"
   ]
  },
  {
   "cell_type": "code",
   "execution_count": 67,
   "id": "7fd929d9",
   "metadata": {},
   "outputs": [
    {
     "data": {
      "text/plain": [
       "{'joint': 0.00893364031042121}"
      ]
     },
     "execution_count": 67,
     "metadata": {},
     "output_type": "execute_result"
    }
   ],
   "source": [
    "mmd.evaluate(GenericDataLoader(d_real), GenericDataLoader(d_syn))"
   ]
  },
  {
   "cell_type": "code",
   "execution_count": null,
   "id": "c3fdd333",
   "metadata": {},
   "outputs": [],
   "source": []
  },
  {
   "cell_type": "markdown",
   "id": "fcb2ac01",
   "metadata": {},
   "source": [
    "## OneClass Testing"
   ]
  },
  {
   "cell_type": "code",
   "execution_count": 122,
   "id": "3d4ea32e",
   "metadata": {},
   "outputs": [],
   "source": [
    "OC_params  = {\n",
    "    \"rep_dim\": 2, \n",
    "    \"num_layers\": 4, \n",
    "    \"num_hidden\": 32, \n",
    "    \"activation\": \"ReLU\",\n",
    "    \"dropout_prob\": 0.2, \n",
    "    \"dropout_active\": False,\n",
    "    \"LossFn\": \"Weighted\",\n",
    "    \"lr\": 2e-3,\n",
    "    \"epochs\": 1000,\n",
    "    \"warm_up_epochs\" : 20,\n",
    "    \"train_prop\" : 1.0,\n",
    "    \"weight_decay\": 2e-3\n",
    "}   \n",
    "\n",
    "lambda_ = 0.1\n",
    "\n",
    "OC_hyperparams = {\n",
    "    \"Radius\": 1, \n",
    "    \"nu\": 1e-2\n",
    "}"
   ]
  },
  {
   "cell_type": "code",
   "execution_count": 123,
   "id": "55f2a0e4",
   "metadata": {},
   "outputs": [],
   "source": [
    "ihdp_cov = ihdp[['x1','x2','x3','x4','x5','x6']]\n",
    "ihdp_cov_array = ihdp_cov.values.astype('float32')\n",
    "ihdp_cov_tensor = torch.tensor(ihdp_cov_array, device='cuda')"
   ]
  },
  {
   "cell_type": "code",
   "execution_count": 171,
   "id": "5f85e0f4",
   "metadata": {},
   "outputs": [],
   "source": [
    "d = np.random.normal(size=(1000,6)).astype('float32')\n",
    "d_tensor = torch.tensor(d, device='cuda')"
   ]
  },
  {
   "cell_type": "code",
   "execution_count": null,
   "id": "e4a65b5b",
   "metadata": {},
   "outputs": [],
   "source": []
  },
  {
   "cell_type": "code",
   "execution_count": 321,
   "id": "bfe2b6b9",
   "metadata": {},
   "outputs": [],
   "source": [
    "OC_params['input_dim'] = d.shape[1]\n",
    "OC_params['reg_weights'] = torch.tensor([1/d.shape[1] for i in range(d.shape[1])], device='cuda')\n",
    "OC_params['reg_weights'] = torch.tensor([100,0,0,0,0,0], device='cuda')\n",
    "#OC_params['reg_weights'] = torch.tensor(np.repeat(10, 25), device='cuda')\n",
    "OC_hyperparams['center'] = torch.ones(OC_params['rep_dim'])"
   ]
  },
  {
   "cell_type": "code",
   "execution_count": 322,
   "id": "d5117e45",
   "metadata": {},
   "outputs": [],
   "source": [
    "model = OneClassLayer(params = OC_params, hyperparams=OC_hyperparams)"
   ]
  },
  {
   "cell_type": "code",
   "execution_count": 323,
   "id": "e8ab96e1",
   "metadata": {},
   "outputs": [
    {
     "name": "stdout",
     "output_type": "stream",
     "text": [
      "epoch 0, loss 356.9244384765625\n",
      "epoch 1, loss 351.957275390625\n",
      "epoch 2, loss 347.19610595703125\n",
      "epoch 3, loss 342.5008239746094\n",
      "epoch 4, loss 337.72174072265625\n",
      "epoch 5, loss 332.7275390625\n",
      "epoch 6, loss 327.4333801269531\n",
      "epoch 7, loss 321.76312255859375\n",
      "epoch 8, loss 315.635498046875\n",
      "epoch 9, loss 308.96771240234375\n",
      "epoch 10, loss 301.677001953125\n",
      "epoch 11, loss 293.67205810546875\n",
      "epoch 12, loss 284.85101318359375\n",
      "epoch 13, loss 275.110107421875\n",
      "epoch 14, loss 264.3504943847656\n",
      "epoch 15, loss 252.48809814453125\n",
      "epoch 16, loss 239.48052978515625\n",
      "epoch 17, loss 225.3479766845703\n",
      "epoch 18, loss 210.2147216796875\n",
      "epoch 19, loss 194.36085510253906\n",
      "epoch 20, loss 178.29425048828125\n",
      "epoch 21, loss 162.84600830078125\n",
      "epoch 22, loss 149.27273559570312\n",
      "epoch 23, loss 139.29913330078125\n",
      "epoch 24, loss 134.81060791015625\n",
      "epoch 25, loss 136.43252563476562\n",
      "epoch 26, loss 141.40687561035156\n",
      "epoch 27, loss 144.77247619628906\n",
      "epoch 28, loss 143.59181213378906\n",
      "epoch 29, loss 138.197998046875\n",
      "epoch 30, loss 130.615478515625\n",
      "epoch 31, loss 122.96702575683594\n",
      "epoch 32, loss 116.67901611328125\n",
      "epoch 33, loss 112.28030395507812\n",
      "epoch 34, loss 109.61753845214844\n",
      "epoch 35, loss 108.18841552734375\n",
      "epoch 36, loss 107.41590881347656\n",
      "epoch 37, loss 106.8157958984375\n",
      "epoch 38, loss 106.04719543457031\n",
      "epoch 39, loss 104.91874694824219\n",
      "epoch 40, loss 103.3689193725586\n",
      "epoch 41, loss 101.43727111816406\n",
      "epoch 42, loss 99.23644256591797\n",
      "epoch 43, loss 96.92672729492188\n",
      "epoch 44, loss 94.68714904785156\n",
      "epoch 45, loss 92.68311309814453\n",
      "epoch 46, loss 91.0320053100586\n",
      "epoch 47, loss 89.76382446289062\n",
      "epoch 48, loss 88.8061294555664\n",
      "epoch 49, loss 87.99774169921875\n",
      "epoch 50, loss 87.14579772949219\n",
      "epoch 51, loss 86.1027603149414\n",
      "epoch 52, loss 84.81716918945312\n",
      "epoch 53, loss 83.33831024169922\n"
     ]
    },
    {
     "name": "stdout",
     "output_type": "stream",
     "text": [
      "epoch 54, loss 81.77720642089844\n",
      "epoch 55, loss 80.25247192382812\n",
      "epoch 56, loss 78.85094451904297\n",
      "epoch 57, loss 77.60681915283203\n",
      "epoch 58, loss 76.50650787353516\n",
      "epoch 59, loss 75.50589752197266\n",
      "epoch 60, loss 74.550048828125\n",
      "epoch 61, loss 73.59078979492188\n",
      "epoch 62, loss 72.59760284423828\n",
      "epoch 63, loss 71.56189727783203\n",
      "epoch 64, loss 70.49465942382812\n",
      "epoch 65, loss 69.41956329345703\n",
      "epoch 66, loss 68.36471557617188\n",
      "epoch 67, loss 67.35466003417969\n",
      "epoch 68, loss 66.40315246582031\n",
      "epoch 69, loss 65.50933837890625\n",
      "epoch 70, loss 64.65933227539062\n",
      "epoch 71, loss 63.832115173339844\n",
      "epoch 72, loss 63.00773239135742\n",
      "epoch 73, loss 62.172637939453125\n",
      "epoch 74, loss 61.324005126953125\n",
      "epoch 75, loss 60.46889114379883\n",
      "epoch 76, loss 59.62005615234375\n",
      "epoch 77, loss 58.79069900512695\n",
      "epoch 78, loss 57.9896354675293\n",
      "epoch 79, loss 57.218849182128906\n",
      "epoch 80, loss 56.4747314453125\n",
      "epoch 81, loss 55.749351501464844\n",
      "epoch 82, loss 55.034950256347656\n",
      "epoch 83, loss 54.32604217529297\n",
      "epoch 84, loss 53.6207160949707\n",
      "epoch 85, loss 52.9202880859375\n",
      "epoch 86, loss 52.228824615478516\n",
      "epoch 87, loss 51.5507698059082\n",
      "epoch 88, loss 50.88909149169922\n",
      "epoch 89, loss 50.24512481689453\n",
      "epoch 90, loss 49.617313385009766\n",
      "epoch 91, loss 49.00293731689453\n",
      "epoch 92, loss 48.39887237548828\n",
      "epoch 93, loss 47.80242919921875\n",
      "epoch 94, loss 47.21236801147461\n",
      "epoch 95, loss 46.62957763671875\n",
      "epoch 96, loss 46.055999755859375\n",
      "epoch 97, loss 45.49332046508789\n",
      "epoch 98, loss 44.94291687011719\n",
      "epoch 99, loss 44.4049072265625\n",
      "epoch 100, loss 43.87822723388672\n",
      "epoch 101, loss 43.36138153076172\n",
      "epoch 102, loss 42.85300827026367\n",
      "epoch 103, loss 42.352394104003906\n",
      "epoch 104, loss 41.859580993652344\n",
      "epoch 105, loss 41.374786376953125\n",
      "epoch 106, loss 40.899024963378906\n",
      "epoch 107, loss 40.432777404785156\n",
      "epoch 108, loss 39.97605895996094\n",
      "epoch 109, loss 39.52836227416992\n",
      "epoch 110, loss 39.0890007019043\n",
      "epoch 111, loss 38.657196044921875\n",
      "epoch 112, loss 38.23258590698242\n",
      "epoch 113, loss 37.815433502197266\n",
      "epoch 114, loss 37.40562438964844\n",
      "epoch 115, loss 37.00328826904297\n",
      "epoch 116, loss 36.60853576660156\n",
      "epoch 117, loss 36.22145080566406\n",
      "epoch 118, loss 35.84178924560547\n",
      "epoch 119, loss 35.469261169433594\n",
      "epoch 120, loss 35.10344696044922\n",
      "epoch 121, loss 34.74402618408203\n",
      "epoch 122, loss 34.391143798828125\n",
      "epoch 123, loss 34.04441452026367\n",
      "epoch 124, loss 33.70359802246094\n",
      "epoch 125, loss 33.36934280395508\n",
      "epoch 126, loss 33.04104232788086\n",
      "epoch 127, loss 32.71906661987305\n",
      "epoch 128, loss 32.402992248535156\n",
      "epoch 129, loss 32.09257125854492\n",
      "epoch 130, loss 31.787296295166016\n",
      "epoch 131, loss 31.487018585205078\n",
      "epoch 132, loss 31.19187355041504\n",
      "epoch 133, loss 30.90279769897461\n",
      "epoch 134, loss 30.619060516357422\n",
      "epoch 135, loss 30.34059715270996\n",
      "epoch 136, loss 30.067310333251953\n",
      "epoch 137, loss 29.79936408996582\n",
      "epoch 138, loss 29.53614044189453\n",
      "epoch 139, loss 29.277647018432617\n",
      "epoch 140, loss 29.024532318115234\n",
      "epoch 141, loss 28.776790618896484\n",
      "epoch 142, loss 28.533451080322266\n",
      "epoch 143, loss 28.29564094543457\n",
      "epoch 144, loss 28.06130027770996\n",
      "epoch 145, loss 27.83049774169922\n",
      "epoch 146, loss 27.604001998901367\n",
      "epoch 147, loss 27.382150650024414\n",
      "epoch 148, loss 27.164011001586914\n",
      "epoch 149, loss 26.949495315551758\n",
      "epoch 150, loss 26.738218307495117\n",
      "epoch 151, loss 26.530981063842773\n",
      "epoch 152, loss 26.328149795532227\n",
      "epoch 153, loss 26.129940032958984\n",
      "epoch 154, loss 25.935012817382812\n",
      "epoch 155, loss 25.743146896362305\n",
      "epoch 156, loss 25.554336547851562\n",
      "epoch 157, loss 25.369190216064453\n",
      "epoch 158, loss 25.187225341796875\n",
      "epoch 159, loss 25.00899887084961\n",
      "epoch 160, loss 24.833641052246094\n",
      "epoch 161, loss 24.660877227783203\n",
      "epoch 162, loss 24.49166488647461\n",
      "epoch 163, loss 24.32537841796875\n",
      "epoch 164, loss 24.16202735900879\n",
      "epoch 165, loss 24.002029418945312\n",
      "epoch 166, loss 23.844932556152344\n",
      "epoch 167, loss 23.690689086914062\n",
      "epoch 168, loss 23.539501190185547\n",
      "epoch 169, loss 23.391212463378906\n",
      "epoch 170, loss 23.24558448791504\n",
      "epoch 171, loss 23.102825164794922\n",
      "epoch 172, loss 22.962635040283203\n",
      "epoch 173, loss 22.824649810791016\n",
      "epoch 174, loss 22.68914031982422\n",
      "epoch 175, loss 22.556528091430664\n",
      "epoch 176, loss 22.425989151000977\n",
      "epoch 177, loss 22.297279357910156\n",
      "epoch 178, loss 22.17050552368164\n",
      "epoch 179, loss 22.046222686767578\n",
      "epoch 180, loss 21.923973083496094\n",
      "epoch 181, loss 21.803136825561523\n",
      "epoch 182, loss 21.68476676940918\n",
      "epoch 183, loss 21.568084716796875\n",
      "epoch 184, loss 21.4549617767334\n",
      "epoch 185, loss 21.343643188476562\n",
      "epoch 186, loss 21.23468017578125\n",
      "epoch 187, loss 21.128135681152344\n",
      "epoch 188, loss 21.022560119628906\n",
      "epoch 189, loss 20.918231964111328\n",
      "epoch 190, loss 20.814407348632812\n",
      "epoch 191, loss 20.71142578125\n",
      "epoch 192, loss 20.611587524414062\n",
      "epoch 193, loss 20.51409149169922\n",
      "epoch 194, loss 20.420106887817383\n",
      "epoch 195, loss 20.326984405517578\n",
      "epoch 196, loss 20.235143661499023\n",
      "epoch 197, loss 20.144306182861328\n",
      "epoch 198, loss 20.054025650024414\n",
      "epoch 199, loss 19.964723587036133\n",
      "epoch 200, loss 19.87735939025879\n",
      "epoch 201, loss 19.795133590698242\n",
      "epoch 202, loss 19.712099075317383\n",
      "epoch 203, loss 19.62907600402832\n",
      "epoch 204, loss 19.548715591430664\n",
      "epoch 205, loss 19.469499588012695\n",
      "epoch 206, loss 19.39261245727539\n",
      "epoch 207, loss 19.316631317138672\n",
      "epoch 208, loss 19.2421817779541\n",
      "epoch 209, loss 19.169105529785156\n",
      "epoch 210, loss 19.09674835205078\n",
      "epoch 211, loss 19.025211334228516\n",
      "epoch 212, loss 18.955608367919922\n",
      "epoch 213, loss 18.88682746887207\n",
      "epoch 214, loss 18.819398880004883\n",
      "epoch 215, loss 18.75295639038086\n",
      "epoch 216, loss 18.687759399414062\n",
      "epoch 217, loss 18.62455177307129\n",
      "epoch 218, loss 18.562847137451172\n",
      "epoch 219, loss 18.501911163330078\n",
      "epoch 220, loss 18.44187355041504\n",
      "epoch 221, loss 18.383224487304688\n",
      "epoch 222, loss 18.326435089111328\n",
      "epoch 223, loss 18.27004051208496\n",
      "epoch 224, loss 18.21429443359375\n",
      "epoch 225, loss 18.158571243286133\n",
      "epoch 226, loss 18.105045318603516\n",
      "epoch 227, loss 18.051786422729492\n",
      "epoch 228, loss 17.999225616455078\n",
      "epoch 229, loss 17.946714401245117\n",
      "epoch 230, loss 17.895435333251953\n",
      "epoch 231, loss 17.8458194732666\n",
      "epoch 232, loss 17.796113967895508\n",
      "epoch 233, loss 17.748226165771484\n",
      "epoch 234, loss 17.700428009033203\n",
      "epoch 235, loss 17.65241050720215\n",
      "epoch 236, loss 17.605148315429688\n",
      "epoch 237, loss 17.559934616088867\n",
      "epoch 238, loss 17.515819549560547\n",
      "epoch 239, loss 17.472414016723633\n",
      "epoch 240, loss 17.427947998046875\n",
      "epoch 241, loss 17.38556480407715\n",
      "epoch 242, loss 17.343101501464844\n",
      "epoch 243, loss 17.300519943237305\n",
      "epoch 244, loss 17.258411407470703\n",
      "epoch 245, loss 17.219581604003906\n",
      "epoch 246, loss 17.17955207824707\n",
      "epoch 247, loss 17.138368606567383\n",
      "epoch 248, loss 17.097381591796875\n",
      "epoch 249, loss 17.05724334716797\n",
      "epoch 250, loss 17.019485473632812\n",
      "epoch 251, loss 16.9835205078125\n",
      "epoch 252, loss 16.945148468017578\n",
      "epoch 253, loss 16.90888214111328\n",
      "epoch 254, loss 16.873878479003906\n",
      "epoch 255, loss 16.840089797973633\n",
      "epoch 256, loss 16.806686401367188\n",
      "epoch 257, loss 16.768604278564453\n",
      "epoch 258, loss 16.736373901367188\n",
      "epoch 259, loss 16.704126358032227\n",
      "epoch 260, loss 16.673629760742188\n",
      "epoch 261, loss 16.64023780822754\n",
      "epoch 262, loss 16.609798431396484\n",
      "epoch 263, loss 16.577512741088867\n",
      "epoch 264, loss 16.549955368041992\n",
      "epoch 265, loss 16.51835060119629\n",
      "epoch 266, loss 16.490888595581055\n",
      "epoch 267, loss 16.46261215209961\n",
      "epoch 268, loss 16.43025016784668\n",
      "epoch 269, loss 16.40392303466797\n",
      "epoch 270, loss 16.376304626464844\n",
      "epoch 271, loss 16.349327087402344\n",
      "epoch 272, loss 16.32417106628418\n",
      "epoch 273, loss 16.292911529541016\n",
      "epoch 274, loss 16.274328231811523\n",
      "epoch 275, loss 16.24425506591797\n",
      "epoch 276, loss 16.217084884643555\n",
      "epoch 277, loss 16.194215774536133\n",
      "epoch 278, loss 16.166881561279297\n",
      "epoch 279, loss 16.14563751220703\n",
      "epoch 280, loss 16.11956024169922\n",
      "epoch 281, loss 16.096172332763672\n",
      "epoch 282, loss 16.07461929321289\n",
      "epoch 283, loss 16.050214767456055\n",
      "epoch 284, loss 16.02640151977539\n",
      "epoch 285, loss 16.00531578063965\n",
      "epoch 286, loss 15.98222541809082\n",
      "epoch 287, loss 15.959135055541992\n",
      "epoch 288, loss 15.939178466796875\n",
      "epoch 289, loss 15.916900634765625\n",
      "epoch 290, loss 15.896333694458008\n",
      "epoch 291, loss 15.876768112182617\n",
      "epoch 292, loss 15.856131553649902\n",
      "epoch 293, loss 15.8359375\n",
      "epoch 294, loss 15.816682815551758\n",
      "epoch 295, loss 15.797381401062012\n",
      "epoch 296, loss 15.777791976928711\n",
      "epoch 297, loss 15.759098052978516\n",
      "epoch 298, loss 15.740152359008789\n",
      "epoch 299, loss 15.721356391906738\n",
      "epoch 300, loss 15.702229499816895\n",
      "epoch 301, loss 15.68482494354248\n",
      "epoch 302, loss 15.668152809143066\n",
      "epoch 303, loss 15.649176597595215\n",
      "epoch 304, loss 15.631423950195312\n",
      "epoch 305, loss 15.614842414855957\n",
      "epoch 306, loss 15.598180770874023\n",
      "epoch 307, loss 15.579741477966309\n",
      "epoch 308, loss 15.564330101013184\n",
      "epoch 309, loss 15.547028541564941\n",
      "epoch 310, loss 15.533857345581055\n",
      "epoch 311, loss 15.515209197998047\n",
      "epoch 312, loss 15.499589920043945\n",
      "epoch 313, loss 15.483997344970703\n",
      "epoch 314, loss 15.468079566955566\n",
      "epoch 315, loss 15.454529762268066\n",
      "epoch 316, loss 15.43964958190918\n",
      "epoch 317, loss 15.42447280883789\n",
      "epoch 318, loss 15.408783912658691\n",
      "epoch 319, loss 15.394877433776855\n",
      "epoch 320, loss 15.378437995910645\n",
      "epoch 321, loss 15.363604545593262\n",
      "epoch 322, loss 15.347229957580566\n",
      "epoch 323, loss 15.331786155700684\n",
      "epoch 324, loss 15.315114974975586\n",
      "epoch 325, loss 15.296955108642578\n",
      "epoch 326, loss 15.283553123474121\n",
      "epoch 327, loss 15.266338348388672\n",
      "epoch 328, loss 15.252230644226074\n",
      "epoch 329, loss 15.236361503601074\n",
      "epoch 330, loss 15.220909118652344\n",
      "epoch 331, loss 15.20602798461914\n",
      "epoch 332, loss 15.187583923339844\n",
      "epoch 333, loss 15.17603588104248\n",
      "epoch 334, loss 15.16045093536377\n",
      "epoch 335, loss 15.145133018493652\n",
      "epoch 336, loss 15.132644653320312\n",
      "epoch 337, loss 15.117879867553711\n",
      "epoch 338, loss 15.104265213012695\n",
      "epoch 339, loss 15.09030532836914\n",
      "epoch 340, loss 15.077676773071289\n",
      "epoch 341, loss 15.065205574035645\n",
      "epoch 342, loss 15.049604415893555\n",
      "epoch 343, loss 15.038228034973145\n",
      "epoch 344, loss 15.02545166015625\n",
      "epoch 345, loss 15.012460708618164\n",
      "epoch 346, loss 15.0010404586792\n",
      "epoch 347, loss 14.98872184753418\n",
      "epoch 348, loss 14.976526260375977\n",
      "epoch 349, loss 14.965009689331055\n",
      "epoch 350, loss 14.950819969177246\n",
      "epoch 351, loss 14.93931770324707\n",
      "epoch 352, loss 14.929678916931152\n",
      "epoch 353, loss 14.918173789978027\n",
      "epoch 354, loss 14.904726028442383\n",
      "epoch 355, loss 14.894968032836914\n",
      "epoch 356, loss 14.885771751403809\n",
      "epoch 357, loss 14.872360229492188\n",
      "epoch 358, loss 14.860945701599121\n",
      "epoch 359, loss 14.85019302368164\n",
      "epoch 360, loss 14.838233947753906\n",
      "epoch 361, loss 14.825935363769531\n",
      "epoch 362, loss 14.814508438110352\n",
      "epoch 363, loss 14.802955627441406\n",
      "epoch 364, loss 14.790251731872559\n",
      "epoch 365, loss 14.7786865234375\n",
      "epoch 366, loss 14.7687406539917\n",
      "epoch 367, loss 14.75609016418457\n",
      "epoch 368, loss 14.745757102966309\n",
      "epoch 369, loss 14.734511375427246\n",
      "epoch 370, loss 14.72171688079834\n",
      "epoch 371, loss 14.712748527526855\n",
      "epoch 372, loss 14.701062202453613\n",
      "epoch 373, loss 14.691283226013184\n",
      "epoch 374, loss 14.67957592010498\n",
      "epoch 375, loss 14.6683349609375\n",
      "epoch 376, loss 14.660025596618652\n",
      "epoch 377, loss 14.648338317871094\n",
      "epoch 378, loss 14.63919734954834\n",
      "epoch 379, loss 14.627360343933105\n",
      "epoch 380, loss 14.616912841796875\n",
      "epoch 381, loss 14.603215217590332\n",
      "epoch 382, loss 14.593303680419922\n",
      "epoch 383, loss 14.582143783569336\n",
      "epoch 384, loss 14.573051452636719\n",
      "epoch 385, loss 14.564155578613281\n",
      "epoch 386, loss 14.553057670593262\n",
      "epoch 387, loss 14.543661117553711\n",
      "epoch 388, loss 14.533616065979004\n",
      "epoch 389, loss 14.52295207977295\n",
      "epoch 390, loss 14.51545524597168\n",
      "epoch 391, loss 14.503239631652832\n",
      "epoch 392, loss 14.495166778564453\n",
      "epoch 393, loss 14.484794616699219\n",
      "epoch 394, loss 14.473785400390625\n",
      "epoch 395, loss 14.46479320526123\n",
      "epoch 396, loss 14.456304550170898\n",
      "epoch 397, loss 14.445549011230469\n",
      "epoch 398, loss 14.436646461486816\n",
      "epoch 399, loss 14.42747688293457\n",
      "epoch 400, loss 14.418313980102539\n",
      "epoch 401, loss 14.412336349487305\n",
      "epoch 402, loss 14.39978313446045\n",
      "epoch 403, loss 14.393239974975586\n",
      "epoch 404, loss 14.385528564453125\n",
      "epoch 405, loss 14.375205993652344\n",
      "epoch 406, loss 14.364623069763184\n",
      "epoch 407, loss 14.357161521911621\n",
      "epoch 408, loss 14.348610877990723\n",
      "epoch 409, loss 14.339226722717285\n",
      "epoch 410, loss 14.33095932006836\n",
      "epoch 411, loss 14.32028865814209\n",
      "epoch 412, loss 14.311545372009277\n",
      "epoch 413, loss 14.303146362304688\n",
      "epoch 414, loss 14.292250633239746\n",
      "epoch 415, loss 14.283426284790039\n",
      "epoch 416, loss 14.274020195007324\n",
      "epoch 417, loss 14.265701293945312\n",
      "epoch 418, loss 14.256021499633789\n",
      "epoch 419, loss 14.244402885437012\n",
      "epoch 420, loss 14.235053062438965\n",
      "epoch 421, loss 14.224515914916992\n",
      "epoch 422, loss 14.213675498962402\n",
      "epoch 423, loss 14.20307445526123\n",
      "epoch 424, loss 14.194815635681152\n",
      "epoch 425, loss 14.183545112609863\n",
      "epoch 426, loss 14.174041748046875\n",
      "epoch 427, loss 14.164032936096191\n",
      "epoch 428, loss 14.154129028320312\n",
      "epoch 429, loss 14.143823623657227\n",
      "epoch 430, loss 14.134134292602539\n",
      "epoch 431, loss 14.125304222106934\n",
      "epoch 432, loss 14.115285873413086\n",
      "epoch 433, loss 14.104307174682617\n",
      "epoch 434, loss 14.095903396606445\n",
      "epoch 435, loss 14.085360527038574\n",
      "epoch 436, loss 14.075793266296387\n",
      "epoch 437, loss 14.065381050109863\n",
      "epoch 438, loss 14.055569648742676\n",
      "epoch 439, loss 14.044134140014648\n",
      "epoch 440, loss 14.03518009185791\n",
      "epoch 441, loss 14.023467063903809\n",
      "epoch 442, loss 14.015316009521484\n",
      "epoch 443, loss 14.006471633911133\n",
      "epoch 444, loss 13.997735977172852\n",
      "epoch 445, loss 13.987027168273926\n",
      "epoch 446, loss 13.976103782653809\n",
      "epoch 447, loss 13.96505355834961\n",
      "epoch 448, loss 13.955792427062988\n",
      "epoch 449, loss 13.945795059204102\n",
      "epoch 450, loss 13.93384838104248\n",
      "epoch 451, loss 13.924413681030273\n",
      "epoch 452, loss 13.914192199707031\n",
      "epoch 453, loss 13.903105735778809\n",
      "epoch 454, loss 13.892003059387207\n",
      "epoch 455, loss 13.883002281188965\n",
      "epoch 456, loss 13.871147155761719\n",
      "epoch 457, loss 13.860859870910645\n",
      "epoch 458, loss 13.851500511169434\n",
      "epoch 459, loss 13.838714599609375\n",
      "epoch 460, loss 13.827264785766602\n",
      "epoch 461, loss 13.819738388061523\n",
      "epoch 462, loss 13.807433128356934\n",
      "epoch 463, loss 13.796296119689941\n",
      "epoch 464, loss 13.785889625549316\n",
      "epoch 465, loss 13.775973320007324\n",
      "epoch 466, loss 13.763932228088379\n",
      "epoch 467, loss 13.752063751220703\n",
      "epoch 468, loss 13.743400573730469\n",
      "epoch 469, loss 13.728386878967285\n",
      "epoch 470, loss 13.71674919128418\n",
      "epoch 471, loss 13.706494331359863\n",
      "epoch 472, loss 13.695403099060059\n",
      "epoch 473, loss 13.682019233703613\n",
      "epoch 474, loss 13.670595169067383\n",
      "epoch 475, loss 13.657499313354492\n",
      "epoch 476, loss 13.646881103515625\n",
      "epoch 477, loss 13.634927749633789\n",
      "epoch 478, loss 13.62293529510498\n",
      "epoch 479, loss 13.611183166503906\n",
      "epoch 480, loss 13.598901748657227\n",
      "epoch 481, loss 13.588017463684082\n",
      "epoch 482, loss 13.575650215148926\n",
      "epoch 483, loss 13.563970565795898\n",
      "epoch 484, loss 13.550661087036133\n",
      "epoch 485, loss 13.53939151763916\n",
      "epoch 486, loss 13.528114318847656\n",
      "epoch 487, loss 13.516368865966797\n",
      "epoch 488, loss 13.50308609008789\n",
      "epoch 489, loss 13.492056846618652\n",
      "epoch 490, loss 13.479762077331543\n",
      "epoch 491, loss 13.468557357788086\n",
      "epoch 492, loss 13.457456588745117\n",
      "epoch 493, loss 13.444567680358887\n",
      "epoch 494, loss 13.433411598205566\n",
      "epoch 495, loss 13.419556617736816\n",
      "epoch 496, loss 13.407590866088867\n",
      "epoch 497, loss 13.396429061889648\n",
      "epoch 498, loss 13.383986473083496\n",
      "epoch 499, loss 13.371864318847656\n",
      "epoch 500, loss 13.360122680664062\n",
      "epoch 501, loss 13.3466157913208\n",
      "epoch 502, loss 13.336304664611816\n",
      "epoch 503, loss 13.325596809387207\n",
      "epoch 504, loss 13.312925338745117\n",
      "epoch 505, loss 13.300922393798828\n",
      "epoch 506, loss 13.288283348083496\n",
      "epoch 507, loss 13.276741981506348\n",
      "epoch 508, loss 13.263039588928223\n",
      "epoch 509, loss 13.251293182373047\n",
      "epoch 510, loss 13.239237785339355\n",
      "epoch 511, loss 13.225556373596191\n",
      "epoch 512, loss 13.213303565979004\n",
      "epoch 513, loss 13.199738502502441\n",
      "epoch 514, loss 13.19155502319336\n",
      "epoch 515, loss 13.173624992370605\n",
      "epoch 516, loss 13.160421371459961\n",
      "epoch 517, loss 13.150421142578125\n",
      "epoch 518, loss 13.135124206542969\n",
      "epoch 519, loss 13.126933097839355\n",
      "epoch 520, loss 13.113058090209961\n",
      "epoch 521, loss 13.100179672241211\n",
      "epoch 522, loss 13.089234352111816\n",
      "epoch 523, loss 13.077779769897461\n",
      "epoch 524, loss 13.068681716918945\n",
      "epoch 525, loss 13.051977157592773\n",
      "epoch 526, loss 13.042494773864746\n",
      "epoch 527, loss 13.03126335144043\n",
      "epoch 528, loss 13.020418167114258\n",
      "epoch 529, loss 13.009167671203613\n",
      "epoch 530, loss 12.995179176330566\n",
      "epoch 531, loss 12.982280731201172\n",
      "epoch 532, loss 12.970783233642578\n",
      "epoch 533, loss 12.956785202026367\n",
      "epoch 534, loss 12.945329666137695\n",
      "epoch 535, loss 12.934082984924316\n",
      "epoch 536, loss 12.920635223388672\n",
      "epoch 537, loss 12.91214656829834\n",
      "epoch 538, loss 12.900606155395508\n",
      "epoch 539, loss 12.889121055603027\n",
      "epoch 540, loss 12.878399848937988\n",
      "epoch 541, loss 12.865750312805176\n",
      "epoch 542, loss 12.851644515991211\n",
      "epoch 543, loss 12.83933162689209\n",
      "epoch 544, loss 12.82368278503418\n",
      "epoch 545, loss 12.812339782714844\n",
      "epoch 546, loss 12.800230026245117\n",
      "epoch 547, loss 12.783275604248047\n",
      "epoch 548, loss 12.772690773010254\n",
      "epoch 549, loss 12.759614944458008\n",
      "epoch 550, loss 12.7462739944458\n",
      "epoch 551, loss 12.731000900268555\n",
      "epoch 552, loss 12.715017318725586\n",
      "epoch 553, loss 12.70633316040039\n",
      "epoch 554, loss 12.693174362182617\n",
      "epoch 555, loss 12.679032325744629\n",
      "epoch 556, loss 12.667792320251465\n",
      "epoch 557, loss 12.65456771850586\n",
      "epoch 558, loss 12.644203186035156\n",
      "epoch 559, loss 12.633706092834473\n",
      "epoch 560, loss 12.619129180908203\n",
      "epoch 561, loss 12.605704307556152\n",
      "epoch 562, loss 12.59635066986084\n",
      "epoch 563, loss 12.580559730529785\n",
      "epoch 564, loss 12.568682670593262\n",
      "epoch 565, loss 12.557208061218262\n",
      "epoch 566, loss 12.546712875366211\n",
      "epoch 567, loss 12.533605575561523\n",
      "epoch 568, loss 12.52359676361084\n",
      "epoch 569, loss 12.510017395019531\n",
      "epoch 570, loss 12.502372741699219\n",
      "epoch 571, loss 12.48725700378418\n",
      "epoch 572, loss 12.476438522338867\n",
      "epoch 573, loss 12.464492797851562\n",
      "epoch 574, loss 12.458094596862793\n",
      "epoch 575, loss 12.438695907592773\n",
      "epoch 576, loss 12.428391456604004\n",
      "epoch 577, loss 12.418264389038086\n",
      "epoch 578, loss 12.406085968017578\n",
      "epoch 579, loss 12.3936185836792\n",
      "epoch 580, loss 12.387161254882812\n",
      "epoch 581, loss 12.373493194580078\n",
      "epoch 582, loss 12.363130569458008\n",
      "epoch 583, loss 12.354119300842285\n",
      "epoch 584, loss 12.342035293579102\n",
      "epoch 585, loss 12.330065727233887\n",
      "epoch 586, loss 12.318768501281738\n",
      "epoch 587, loss 12.309168815612793\n",
      "epoch 588, loss 12.298982620239258\n",
      "epoch 589, loss 12.282747268676758\n",
      "epoch 590, loss 12.279065132141113\n",
      "epoch 591, loss 12.268951416015625\n",
      "epoch 592, loss 12.255105018615723\n",
      "epoch 593, loss 12.250249862670898\n",
      "epoch 594, loss 12.235732078552246\n",
      "epoch 595, loss 12.223817825317383\n",
      "epoch 596, loss 12.21953296661377\n",
      "epoch 597, loss 12.20156192779541\n",
      "epoch 598, loss 12.192444801330566\n",
      "epoch 599, loss 12.179981231689453\n",
      "epoch 600, loss 12.170958518981934\n",
      "epoch 601, loss 12.15704345703125\n",
      "epoch 602, loss 12.149226188659668\n",
      "epoch 603, loss 12.134684562683105\n",
      "epoch 604, loss 12.121953964233398\n",
      "epoch 605, loss 12.117818832397461\n",
      "epoch 606, loss 12.103948593139648\n",
      "epoch 607, loss 12.095686912536621\n",
      "epoch 608, loss 12.0829439163208\n",
      "epoch 609, loss 12.072379112243652\n",
      "epoch 610, loss 12.059561729431152\n",
      "epoch 611, loss 12.050049781799316\n",
      "epoch 612, loss 12.036970138549805\n",
      "epoch 613, loss 12.030867576599121\n",
      "epoch 614, loss 12.013320922851562\n",
      "epoch 615, loss 12.004453659057617\n",
      "epoch 616, loss 12.000845909118652\n",
      "epoch 617, loss 11.98290729522705\n",
      "epoch 618, loss 11.970392227172852\n",
      "epoch 619, loss 11.964768409729004\n",
      "epoch 620, loss 11.951136589050293\n",
      "epoch 621, loss 11.937250137329102\n",
      "epoch 622, loss 11.932367324829102\n",
      "epoch 623, loss 11.924315452575684\n",
      "epoch 624, loss 11.906373977661133\n",
      "epoch 625, loss 11.898757934570312\n",
      "epoch 626, loss 11.895404815673828\n",
      "epoch 627, loss 11.878217697143555\n",
      "epoch 628, loss 11.863325119018555\n",
      "epoch 629, loss 11.854287147521973\n",
      "epoch 630, loss 11.84307861328125\n",
      "epoch 631, loss 11.830150604248047\n",
      "epoch 632, loss 11.82178783416748\n",
      "epoch 633, loss 11.810315132141113\n",
      "epoch 634, loss 11.802803039550781\n",
      "epoch 635, loss 11.789432525634766\n",
      "epoch 636, loss 11.782394409179688\n",
      "epoch 637, loss 11.767549514770508\n",
      "epoch 638, loss 11.758573532104492\n",
      "epoch 639, loss 11.752126693725586\n",
      "epoch 640, loss 11.737081527709961\n",
      "epoch 641, loss 11.733094215393066\n",
      "epoch 642, loss 11.719179153442383\n",
      "epoch 643, loss 11.71159553527832\n",
      "epoch 644, loss 11.700663566589355\n",
      "epoch 645, loss 11.686230659484863\n",
      "epoch 646, loss 11.678218841552734\n",
      "epoch 647, loss 11.671174049377441\n",
      "epoch 648, loss 11.658520698547363\n",
      "epoch 649, loss 11.647515296936035\n",
      "epoch 650, loss 11.637251853942871\n",
      "epoch 651, loss 11.62580394744873\n",
      "epoch 652, loss 11.624598503112793\n",
      "epoch 653, loss 11.612689971923828\n",
      "epoch 654, loss 11.596784591674805\n",
      "epoch 655, loss 11.592365264892578\n",
      "epoch 656, loss 11.586233139038086\n",
      "epoch 657, loss 11.567936897277832\n",
      "epoch 658, loss 11.562232971191406\n",
      "epoch 659, loss 11.551555633544922\n",
      "epoch 660, loss 11.534625053405762\n",
      "epoch 661, loss 11.530369758605957\n",
      "epoch 662, loss 11.51935863494873\n",
      "epoch 663, loss 11.502185821533203\n",
      "epoch 664, loss 11.492764472961426\n",
      "epoch 665, loss 11.484663963317871\n",
      "epoch 666, loss 11.479568481445312\n",
      "epoch 667, loss 11.466620445251465\n",
      "epoch 668, loss 11.451920509338379\n",
      "epoch 669, loss 11.452780723571777\n",
      "epoch 670, loss 11.44705581665039\n",
      "epoch 671, loss 11.425399780273438\n",
      "epoch 672, loss 11.414198875427246\n",
      "epoch 673, loss 11.409089088439941\n",
      "epoch 674, loss 11.390827178955078\n",
      "epoch 675, loss 11.38050365447998\n",
      "epoch 676, loss 11.376294136047363\n",
      "epoch 677, loss 11.362259864807129\n",
      "epoch 678, loss 11.348445892333984\n",
      "epoch 679, loss 11.341251373291016\n",
      "epoch 680, loss 11.325170516967773\n",
      "epoch 681, loss 11.316061019897461\n",
      "epoch 682, loss 11.301323890686035\n",
      "epoch 683, loss 11.292176246643066\n",
      "epoch 684, loss 11.278764724731445\n",
      "epoch 685, loss 11.270965576171875\n",
      "epoch 686, loss 11.251716613769531\n",
      "epoch 687, loss 11.246403694152832\n",
      "epoch 688, loss 11.232193946838379\n",
      "epoch 689, loss 11.218194961547852\n",
      "epoch 690, loss 11.209346771240234\n",
      "epoch 691, loss 11.195213317871094\n",
      "epoch 692, loss 11.179924964904785\n",
      "epoch 693, loss 11.176973342895508\n",
      "epoch 694, loss 11.164111137390137\n",
      "epoch 695, loss 11.152287483215332\n",
      "epoch 696, loss 11.143549919128418\n",
      "epoch 697, loss 11.122464179992676\n",
      "epoch 698, loss 11.112771034240723\n",
      "epoch 699, loss 11.112334251403809\n",
      "epoch 700, loss 11.09762954711914\n",
      "epoch 701, loss 11.070657730102539\n",
      "epoch 702, loss 11.06373405456543\n",
      "epoch 703, loss 11.054047584533691\n",
      "epoch 704, loss 11.039305686950684\n",
      "epoch 705, loss 11.023672103881836\n",
      "epoch 706, loss 11.015497207641602\n",
      "epoch 707, loss 10.9994478225708\n",
      "epoch 708, loss 10.986709594726562\n",
      "epoch 709, loss 10.972944259643555\n",
      "epoch 710, loss 10.958939552307129\n",
      "epoch 711, loss 10.950642585754395\n",
      "epoch 712, loss 10.934950828552246\n",
      "epoch 713, loss 10.924759864807129\n",
      "epoch 714, loss 10.911680221557617\n",
      "epoch 715, loss 10.897401809692383\n",
      "epoch 716, loss 10.884900093078613\n",
      "epoch 717, loss 10.871097564697266\n",
      "epoch 718, loss 10.86653995513916\n",
      "epoch 719, loss 10.848773002624512\n",
      "epoch 720, loss 10.842795372009277\n",
      "epoch 721, loss 10.825249671936035\n",
      "epoch 722, loss 10.810507774353027\n",
      "epoch 723, loss 10.80051040649414\n",
      "epoch 724, loss 10.78892993927002\n",
      "epoch 725, loss 10.780011177062988\n",
      "epoch 726, loss 10.76196002960205\n",
      "epoch 727, loss 10.746927261352539\n",
      "epoch 728, loss 10.738508224487305\n",
      "epoch 729, loss 10.72281265258789\n",
      "epoch 730, loss 10.718241691589355\n",
      "epoch 731, loss 10.695236206054688\n",
      "epoch 732, loss 10.686267852783203\n",
      "epoch 733, loss 10.671630859375\n",
      "epoch 734, loss 10.659516334533691\n",
      "epoch 735, loss 10.65569019317627\n",
      "epoch 736, loss 10.636825561523438\n",
      "epoch 737, loss 10.630330085754395\n",
      "epoch 738, loss 10.619199752807617\n",
      "epoch 739, loss 10.59865951538086\n",
      "epoch 740, loss 10.595088958740234\n",
      "epoch 741, loss 10.588430404663086\n",
      "epoch 742, loss 10.578934669494629\n",
      "epoch 743, loss 10.554981231689453\n",
      "epoch 744, loss 10.54539966583252\n",
      "epoch 745, loss 10.531543731689453\n",
      "epoch 746, loss 10.526461601257324\n",
      "epoch 747, loss 10.512685775756836\n",
      "epoch 748, loss 10.488795280456543\n",
      "epoch 749, loss 10.48695182800293\n",
      "epoch 750, loss 10.46502685546875\n",
      "epoch 751, loss 10.450976371765137\n",
      "epoch 752, loss 10.440555572509766\n",
      "epoch 753, loss 10.429036140441895\n",
      "epoch 754, loss 10.411798477172852\n",
      "epoch 755, loss 10.398432731628418\n",
      "epoch 756, loss 10.391429901123047\n",
      "epoch 757, loss 10.381660461425781\n",
      "epoch 758, loss 10.370644569396973\n",
      "epoch 759, loss 10.361837387084961\n",
      "epoch 760, loss 10.350776672363281\n",
      "epoch 761, loss 10.335814476013184\n",
      "epoch 762, loss 10.327459335327148\n",
      "epoch 763, loss 10.316336631774902\n",
      "epoch 764, loss 10.319306373596191\n",
      "epoch 765, loss 10.310733795166016\n",
      "epoch 766, loss 10.305863380432129\n",
      "epoch 767, loss 10.296060562133789\n",
      "epoch 768, loss 10.266077041625977\n",
      "epoch 769, loss 10.242005348205566\n",
      "epoch 770, loss 10.234732627868652\n",
      "epoch 771, loss 10.236021995544434\n",
      "epoch 772, loss 10.225024223327637\n",
      "epoch 773, loss 10.212728500366211\n",
      "epoch 774, loss 10.18281078338623\n",
      "epoch 775, loss 10.170707702636719\n",
      "epoch 776, loss 10.152108192443848\n",
      "epoch 777, loss 10.156249046325684\n",
      "epoch 778, loss 10.137152671813965\n",
      "epoch 779, loss 10.117971420288086\n",
      "epoch 780, loss 10.102155685424805\n",
      "epoch 781, loss 10.08917236328125\n",
      "epoch 782, loss 10.071109771728516\n",
      "epoch 783, loss 10.061711311340332\n",
      "epoch 784, loss 10.054445266723633\n",
      "epoch 785, loss 10.040534973144531\n",
      "epoch 786, loss 10.024639129638672\n",
      "epoch 787, loss 10.023096084594727\n",
      "epoch 788, loss 10.034601211547852\n",
      "epoch 789, loss 10.048949241638184\n",
      "epoch 790, loss 10.017169952392578\n",
      "epoch 791, loss 9.96420669555664\n",
      "epoch 792, loss 9.94360637664795\n",
      "epoch 793, loss 9.954130172729492\n",
      "epoch 794, loss 9.969294548034668\n",
      "epoch 795, loss 9.963848114013672\n",
      "epoch 796, loss 9.91551685333252\n",
      "epoch 797, loss 9.880492210388184\n",
      "epoch 798, loss 9.88971996307373\n",
      "epoch 799, loss 9.90274715423584\n",
      "epoch 800, loss 9.89792537689209\n",
      "epoch 801, loss 9.860475540161133\n",
      "epoch 802, loss 9.827906608581543\n",
      "epoch 803, loss 9.823197364807129\n",
      "epoch 804, loss 9.85711669921875\n",
      "epoch 805, loss 9.85861873626709\n",
      "epoch 806, loss 9.793368339538574\n",
      "epoch 807, loss 9.775869369506836\n",
      "epoch 808, loss 9.811220169067383\n",
      "epoch 809, loss 9.80001449584961\n",
      "epoch 810, loss 9.758106231689453\n",
      "epoch 811, loss 9.720393180847168\n",
      "epoch 812, loss 9.725759506225586\n",
      "epoch 813, loss 9.749168395996094\n",
      "epoch 814, loss 9.712130546569824\n",
      "epoch 815, loss 9.677410125732422\n",
      "epoch 816, loss 9.67809772491455\n",
      "epoch 817, loss 9.680513381958008\n",
      "epoch 818, loss 9.66442584991455\n",
      "epoch 819, loss 9.626497268676758\n",
      "epoch 820, loss 9.608724594116211\n",
      "epoch 821, loss 9.614102363586426\n",
      "epoch 822, loss 9.613578796386719\n",
      "epoch 823, loss 9.59283447265625\n",
      "epoch 824, loss 9.57225513458252\n",
      "epoch 825, loss 9.549875259399414\n",
      "epoch 826, loss 9.536706924438477\n",
      "epoch 827, loss 9.529436111450195\n",
      "epoch 828, loss 9.528138160705566\n",
      "epoch 829, loss 9.51285457611084\n",
      "epoch 830, loss 9.51730728149414\n",
      "epoch 831, loss 9.496611595153809\n",
      "epoch 832, loss 9.478767395019531\n",
      "epoch 833, loss 9.454225540161133\n",
      "epoch 834, loss 9.43472957611084\n",
      "epoch 835, loss 9.429840087890625\n",
      "epoch 836, loss 9.433391571044922\n",
      "epoch 837, loss 9.429218292236328\n",
      "epoch 838, loss 9.422428131103516\n",
      "epoch 839, loss 9.408956527709961\n",
      "epoch 840, loss 9.370810508728027\n",
      "epoch 841, loss 9.361313819885254\n",
      "epoch 842, loss 9.349564552307129\n",
      "epoch 843, loss 9.344459533691406\n",
      "epoch 844, loss 9.332959175109863\n",
      "epoch 845, loss 9.319664001464844\n",
      "epoch 846, loss 9.304856300354004\n",
      "epoch 847, loss 9.296417236328125\n",
      "epoch 848, loss 9.284740447998047\n",
      "epoch 849, loss 9.273336410522461\n",
      "epoch 850, loss 9.278063774108887\n",
      "epoch 851, loss 9.270615577697754\n",
      "epoch 852, loss 9.265247344970703\n",
      "epoch 853, loss 9.243026733398438\n",
      "epoch 854, loss 9.211480140686035\n",
      "epoch 855, loss 9.190225601196289\n",
      "epoch 856, loss 9.176051139831543\n",
      "epoch 857, loss 9.162208557128906\n",
      "epoch 858, loss 9.16096019744873\n",
      "epoch 859, loss 9.1682767868042\n",
      "epoch 860, loss 9.183624267578125\n",
      "epoch 861, loss 9.249289512634277\n",
      "epoch 862, loss 9.198755264282227\n",
      "epoch 863, loss 9.148667335510254\n",
      "epoch 864, loss 9.112896919250488\n",
      "epoch 865, loss 9.111429214477539\n",
      "epoch 866, loss 9.11851978302002\n",
      "epoch 867, loss 9.089431762695312\n",
      "epoch 868, loss 9.063542366027832\n",
      "epoch 869, loss 9.046698570251465\n",
      "epoch 870, loss 9.026512145996094\n",
      "epoch 871, loss 9.016241073608398\n",
      "epoch 872, loss 9.020302772521973\n",
      "epoch 873, loss 9.020295143127441\n",
      "epoch 874, loss 9.047466278076172\n",
      "epoch 875, loss 9.115039825439453\n",
      "epoch 876, loss 9.064071655273438\n",
      "epoch 877, loss 8.979156494140625\n",
      "epoch 878, loss 8.952105522155762\n",
      "epoch 879, loss 8.969015121459961\n",
      "epoch 880, loss 8.978790283203125\n",
      "epoch 881, loss 8.975739479064941\n",
      "epoch 882, loss 8.986946105957031\n",
      "epoch 883, loss 8.923429489135742\n",
      "epoch 884, loss 8.906232833862305\n",
      "epoch 885, loss 8.936431884765625\n",
      "epoch 886, loss 8.989131927490234\n",
      "epoch 887, loss 8.98179817199707\n",
      "epoch 888, loss 8.871546745300293\n",
      "epoch 889, loss 8.831891059875488\n",
      "epoch 890, loss 8.87408447265625\n",
      "epoch 891, loss 8.859004974365234\n",
      "epoch 892, loss 8.847368240356445\n",
      "epoch 893, loss 8.8021879196167\n",
      "epoch 894, loss 8.763298988342285\n",
      "epoch 895, loss 8.775659561157227\n",
      "epoch 896, loss 8.752218246459961\n",
      "epoch 897, loss 8.734902381896973\n",
      "epoch 898, loss 8.7339506149292\n",
      "epoch 899, loss 8.696754455566406\n",
      "epoch 900, loss 8.701692581176758\n",
      "epoch 901, loss 8.675093650817871\n",
      "epoch 902, loss 8.673665046691895\n",
      "epoch 903, loss 8.670543670654297\n",
      "epoch 904, loss 8.646927833557129\n",
      "epoch 905, loss 8.65122127532959\n",
      "epoch 906, loss 8.630002975463867\n",
      "epoch 907, loss 8.614402770996094\n",
      "epoch 908, loss 8.621341705322266\n",
      "epoch 909, loss 8.620478630065918\n",
      "epoch 910, loss 8.663046836853027\n",
      "epoch 911, loss 8.662751197814941\n",
      "epoch 912, loss 8.726258277893066\n",
      "epoch 913, loss 8.661111831665039\n",
      "epoch 914, loss 8.60384750366211\n",
      "epoch 915, loss 8.552664756774902\n",
      "epoch 916, loss 8.542041778564453\n",
      "epoch 917, loss 8.56980037689209\n",
      "epoch 918, loss 8.583464622497559\n",
      "epoch 919, loss 8.6082124710083\n",
      "epoch 920, loss 8.582657814025879\n",
      "epoch 921, loss 8.52592658996582\n",
      "epoch 922, loss 8.505328178405762\n",
      "epoch 923, loss 8.466493606567383\n",
      "epoch 924, loss 8.456801414489746\n",
      "epoch 925, loss 8.443184852600098\n",
      "epoch 926, loss 8.443305969238281\n",
      "epoch 927, loss 8.424002647399902\n",
      "epoch 928, loss 8.421024322509766\n",
      "epoch 929, loss 8.412382125854492\n",
      "epoch 930, loss 8.4137544631958\n",
      "epoch 931, loss 8.431026458740234\n",
      "epoch 932, loss 8.487481117248535\n",
      "epoch 933, loss 8.526915550231934\n",
      "epoch 934, loss 8.580284118652344\n",
      "epoch 935, loss 8.4472074508667\n",
      "epoch 936, loss 8.37596607208252\n",
      "epoch 937, loss 8.350932121276855\n",
      "epoch 938, loss 8.362017631530762\n",
      "epoch 939, loss 8.419456481933594\n",
      "epoch 940, loss 8.469501495361328\n",
      "epoch 941, loss 8.510636329650879\n",
      "epoch 942, loss 8.400559425354004\n",
      "epoch 943, loss 8.32915210723877\n",
      "epoch 944, loss 8.397866249084473\n",
      "epoch 945, loss 8.503361701965332\n",
      "epoch 946, loss 8.497045516967773\n",
      "epoch 947, loss 8.362584114074707\n",
      "epoch 948, loss 8.296982765197754\n",
      "epoch 949, loss 8.36934757232666\n",
      "epoch 950, loss 8.375707626342773\n",
      "epoch 951, loss 8.311270713806152\n",
      "epoch 952, loss 8.295581817626953\n",
      "epoch 953, loss 8.249490737915039\n",
      "epoch 954, loss 8.283632278442383\n",
      "epoch 955, loss 8.268418312072754\n",
      "epoch 956, loss 8.202910423278809\n",
      "epoch 957, loss 8.225662231445312\n",
      "epoch 958, loss 8.179454803466797\n",
      "epoch 959, loss 8.187187194824219\n",
      "epoch 960, loss 8.163857460021973\n",
      "epoch 961, loss 8.155004501342773\n",
      "epoch 962, loss 8.153411865234375\n",
      "epoch 963, loss 8.12506103515625\n",
      "epoch 964, loss 8.126343727111816\n",
      "epoch 965, loss 8.114535331726074\n",
      "epoch 966, loss 8.095288276672363\n",
      "epoch 967, loss 8.098004341125488\n",
      "epoch 968, loss 8.078227996826172\n",
      "epoch 969, loss 8.072269439697266\n",
      "epoch 970, loss 8.068305969238281\n",
      "epoch 971, loss 8.050106048583984\n",
      "epoch 972, loss 8.048566818237305\n",
      "epoch 973, loss 8.057994842529297\n",
      "epoch 974, loss 8.075597763061523\n",
      "epoch 975, loss 8.083218574523926\n",
      "epoch 976, loss 8.11373233795166\n",
      "epoch 977, loss 8.067577362060547\n",
      "epoch 978, loss 8.044665336608887\n",
      "epoch 979, loss 7.998083591461182\n",
      "epoch 980, loss 8.01445484161377\n",
      "epoch 981, loss 8.04279613494873\n",
      "epoch 982, loss 8.072736740112305\n",
      "epoch 983, loss 8.092665672302246\n",
      "epoch 984, loss 8.021075248718262\n",
      "epoch 985, loss 8.047402381896973\n",
      "epoch 986, loss 7.940304756164551\n",
      "epoch 987, loss 8.127549171447754\n",
      "epoch 988, loss 8.212547302246094\n",
      "epoch 989, loss 8.216370582580566\n",
      "epoch 990, loss 8.054265975952148\n",
      "epoch 991, loss 7.9820733070373535\n",
      "epoch 992, loss 8.0867338180542\n",
      "epoch 993, loss 8.054819107055664\n",
      "epoch 994, loss 8.012242317199707\n",
      "epoch 995, loss 7.891695499420166\n",
      "epoch 996, loss 7.902015209197998\n",
      "epoch 997, loss 7.870605945587158\n",
      "epoch 998, loss 7.9047136306762695\n",
      "epoch 999, loss 7.848114967346191\n"
     ]
    }
   ],
   "source": [
    "model.fit(d, verbosity=True)"
   ]
  },
  {
   "cell_type": "code",
   "execution_count": 324,
   "id": "11297919",
   "metadata": {},
   "outputs": [],
   "source": [
    "two_d = model(d_tensor)"
   ]
  },
  {
   "cell_type": "code",
   "execution_count": 325,
   "id": "29b99f1c",
   "metadata": {},
   "outputs": [
    {
     "data": {
      "text/plain": [
       "<matplotlib.collections.PathCollection at 0x7f96b45246a0>"
      ]
     },
     "execution_count": 325,
     "metadata": {},
     "output_type": "execute_result"
    },
    {
     "data": {
      "image/png": "[encoded data removed]",
      "text/plain": [
       "<Figure size 640x480 with 1 Axes>"
      ]
     },
     "metadata": {},
     "output_type": "display_data"
    }
   ],
   "source": [
    "plt.scatter(two_d[:,0].cpu().detach().numpy(), two_d[:,1].cpu().detach().numpy())\n"
   ]
  },
  {
   "cell_type": "code",
   "execution_count": 326,
   "id": "a0ff905b",
   "metadata": {},
   "outputs": [],
   "source": [
    "p = [i for i in model.parameters()]"
   ]
  },
  {
   "cell_type": "code",
   "execution_count": 327,
   "id": "9c633af0",
   "metadata": {},
   "outputs": [
    {
     "data": {
      "text/plain": [
       "tensor([ 0.0009,  0.2435,  0.4465, -0.3057,  0.2091, -0.2420], device='cuda:0',\n",
       "       grad_fn=<SelectBackward0>)"
      ]
     },
     "execution_count": 327,
     "metadata": {},
     "output_type": "execute_result"
    }
   ],
   "source": [
    "p[0][0]"
   ]
  },
  {
   "cell_type": "code",
   "execution_count": 328,
   "id": "d53b0fb2",
   "metadata": {},
   "outputs": [
    {
     "data": {
      "text/plain": [
       "tensor([ 0.0021, -0.3440,  0.3600, -0.2571, -0.0192,  0.3071], device='cuda:0',\n",
       "       grad_fn=<SelectBackward0>)"
      ]
     },
     "execution_count": 328,
     "metadata": {},
     "output_type": "execute_result"
    }
   ],
   "source": [
    "p[0][1]"
   ]
  },
  {
   "cell_type": "code",
   "execution_count": 329,
   "metadata": {},
   "outputs": [
    {
     "data": {
      "text/plain": [
       "tensor([-0.0008,  0.1214,  0.3498,  0.0333, -0.2970, -0.3349], device='cuda:0',\n",
       "       grad_fn=<SelectBackward0>)"
      ]
     },
     "execution_count": 329,
     "metadata": {},
     "output_type": "execute_result"
    }
   ],
   "source": [
    "p[0][2]"
   ]
  },
  {
   "cell_type": "code",
   "execution_count": 330,
   "id": "6aecd357",
   "metadata": {},
   "outputs": [],
   "source": [
    "true = np.repeat(0,6).astype('float32')\n",
    "true_tensor = torch.tensor(true, device='cuda')"
   ]
  },
  {
   "cell_type": "code",
   "execution_count": 331,
   "id": "209cfd0b",
   "metadata": {},
   "outputs": [],
   "source": [
    "true_2d = model(true_tensor)"
   ]
  },
  {
   "cell_type": "code",
   "execution_count": 332,
   "id": "91287be9",
   "metadata": {},
   "outputs": [
    {
     "data": {
      "text/plain": [
       "tensor([0., 0.], device='cuda:0', grad_fn=<SqueezeBackward3>)"
      ]
     },
     "execution_count": 332,
     "metadata": {},
     "output_type": "execute_result"
    }
   ],
   "source": [
    "true_2d"
   ]
  },
  {
   "cell_type": "code",
   "execution_count": 345,
   "id": "3a215c42",
   "metadata": {},
   "outputs": [],
   "source": [
    "test = torch.tensor([1,0,0,0,0,0], device='cuda').float()"
   ]
  },
  {
   "cell_type": "code",
   "execution_count": 348,
   "id": "2983bd90",
   "metadata": {},
   "outputs": [
    {
     "data": {
      "text/plain": [
       "tensor([0.0335, 0.0338], device='cuda:0', grad_fn=<SqueezeBackward3>)"
      ]
     },
     "execution_count": 348,
     "metadata": {},
     "output_type": "execute_result"
    }
   ],
   "source": [
    "model(test)"
   ]
  },
  {
   "cell_type": "code",
   "execution_count": 294,
   "id": "1af19348",
   "metadata": {},
   "outputs": [],
   "source": [
    "# between 0.38 - 0.7 for no weighting"
   ]
  },
  {
   "cell_type": "code",
   "execution_count": null,
   "id": "627b672b",
   "metadata": {},
   "outputs": [],
   "source": []
  },
  {
   "cell_type": "code",
   "execution_count": null,
   "id": "f4f7a067",
   "metadata": {},
   "outputs": [],
   "source": []
  },
  {
   "cell_type": "markdown",
   "id": "d590aa46",
   "metadata": {},
   "source": [
    "## Privacy"
   ]
  },
  {
   "cell_type": "code",
   "execution_count": 35,
   "id": "87d46633",
   "metadata": {},
   "outputs": [],
   "source": [
    "class CustomDataset(Dataset):\n",
    "    def __init__(self, X, y):\n",
    "        self.data =X\n",
    "        self.labels = y\n",
    "    \n",
    "    def __len__(self):\n",
    "        return len(self.data)\n",
    "    \n",
    "    def __getitem__(self, idx):\n",
    "        return torch.tensor(self.data[idx], dtype=torch.float32), torch.tensor(self.labels[idx], dtype=torch.float32)"
   ]
  },
  {
   "cell_type": "code",
   "execution_count": 58,
   "id": "84ff3485",
   "metadata": {},
   "outputs": [],
   "source": [
    "delta_prescence = DeltaPresence()\n",
    "domias = DomiasMIABNAF()\n",
    "identifiability = IdentifiabilityScore()\n",
    "k_anon = kAnonymization()\n",
    "ldiversity = lDiversityDistinct()"
   ]
  },
  {
   "cell_type": "code",
   "execution_count": null,
   "id": "c5782ca4",
   "metadata": {},
   "outputs": [],
   "source": []
  },
  {
   "cell_type": "code",
   "execution_count": null,
   "id": "ba0c8be9",
   "metadata": {},
   "outputs": [],
   "source": [
    "# do privacy on simulated datasets to make it easier/faster"
   ]
  },
  {
   "cell_type": "code",
   "execution_count": 153,
   "id": "7b5e3368",
   "metadata": {},
   "outputs": [],
   "source": [
    "def privacy_comparison(real, gen, treatment_col, outcome_col, delta, epsilons, n_iter, save=False, fp=''):\n",
    "    results = pd.DataFrame(columns=['method', 'epsilon', 'f', 'c', 'd', 'avg_u_pehe'])\n",
    "    n_units = len(real.drop([treatment_col, outcome_col], axis=1).columns)\n",
    "    for epsilon in epsilons:\n",
    "        for _ in range(n_iter):\n",
    "            synth = generate_standard(real, gen, private=True, epsilon=epsilon, delta=delta)\n",
    "\n",
    "            results.loc[len(results)] = ['standard', epsilon, evaluate_f(real, synth, treatment_col, outcome_col), evaluate_c(real, synth, treatment_col, outcome_col), \n",
    "                                     evaluate_d(real, synth, treatment_col, outcome_col), evaluate_average_u_pehe(real, synth, treatment_col, outcome_col, n_units)]\n",
    "\n",
    "            synth_seq = generate_sequentially(real, gen, treatment_col, outcome_col, private=True, epsilon = epsilon/3, delta=delta/3)\n",
    "\n",
    "            results.loc[len(results)] = ['sequential', epsilon, evaluate_f(real, synth_seq, treatment_col, outcome_col), evaluate_c(real, synth_seq, treatment_col, outcome_col), \n",
    "                                     evaluate_d(real, synth_seq, treatment_col, outcome_col), evaluate_average_u_pehe(real, synth_seq, treatment_col, outcome_col, n_units)]\n",
    "    \n",
    "            if save:\n",
    "                print('saving results')\n",
    "                results.to_csv(fp, index=False)\n",
    "    return results"
   ]
  },
  {
   "cell_type": "code",
   "execution_count": 235,
   "id": "9f32e609",
   "metadata": {},
   "outputs": [],
   "source": [
    "X,y,w,p,t = simulate_treatment_setup(1000, d=5, n_t=3, n_c=2)\n",
    "X_df = pd.DataFrame(X)\n",
    "y_df = pd.DataFrame(y, columns = ['y'])\n",
    "w_df = pd.DataFrame(w, columns = ['w'])\n",
    "d_real = pd.concat([X_df,w_df,y_df], axis=1)"
   ]
  },
  {
   "cell_type": "code",
   "execution_count": 237,
   "id": "b56a26c8",
   "metadata": {},
   "outputs": [
    {
     "name": "stderr",
     "output_type": "stream",
     "text": [
      "[2024-05-14T10:57:17.521831+0000][130783][CRITICAL] load failed: module 'synthcity.plugins.generic.plugin_goggle' has no attribute 'plugin'\n",
      "[2024-05-14T10:57:17.523128+0000][130783][CRITICAL] load failed: module 'synthcity.plugins.generic.plugin_goggle' has no attribute 'plugin'\n",
      "[2024-05-14T10:57:17.523486+0000][130783][CRITICAL] module plugin_goggle load failed\n"
     ]
    },
    {
     "name": "stdout",
     "output_type": "stream",
     "text": [
      "Fitting dpgan model\n"
     ]
    },
    {
     "name": "stderr",
     "output_type": "stream",
     "text": [
      " 25%|██▍       | 499/2000 [00:46<02:21, 10.62it/s]\n"
     ]
    },
    {
     "name": "stdout",
     "output_type": "stream",
     "text": [
      "Generating dpgan synthetic dataset\n"
     ]
    },
    {
     "name": "stderr",
     "output_type": "stream",
     "text": [
      "[2024-05-14T10:59:13.255637+0000][130783][CRITICAL] load failed: module 'synthcity.plugins.generic.plugin_goggle' has no attribute 'plugin'\n",
      "[2024-05-14T10:59:13.256644+0000][130783][CRITICAL] load failed: module 'synthcity.plugins.generic.plugin_goggle' has no attribute 'plugin'\n",
      "[2024-05-14T10:59:13.257064+0000][130783][CRITICAL] module plugin_goggle load failed\n"
     ]
    },
    {
     "name": "stdout",
     "output_type": "stream",
     "text": [
      "Fitting dpgan covariate model\n"
     ]
    },
    {
     "name": "stderr",
     "output_type": "stream",
     "text": [
      " 22%|██▏       | 449/2000 [00:39<02:17, 11.29it/s]\n"
     ]
    },
    {
     "name": "stdout",
     "output_type": "stream",
     "text": [
      "Generating dpgan synthetic covariates\n",
      "Fitting propensity model\n",
      "Generating propensities\n",
      "Fitting private CATE learner\n",
      "Generating POs\n"
     ]
    },
    {
     "name": "stderr",
     "output_type": "stream",
     "text": [
      "[2024-05-14T11:01:13.973150+0000][130783][CRITICAL] load failed: module 'synthcity.plugins.generic.plugin_goggle' has no attribute 'plugin'\n",
      "[2024-05-14T11:01:13.974006+0000][130783][CRITICAL] load failed: module 'synthcity.plugins.generic.plugin_goggle' has no attribute 'plugin'\n",
      "[2024-05-14T11:01:13.974407+0000][130783][CRITICAL] module plugin_goggle load failed\n"
     ]
    },
    {
     "name": "stdout",
     "output_type": "stream",
     "text": [
      "saving results\n",
      "Fitting dpgan model\n"
     ]
    },
    {
     "name": "stderr",
     "output_type": "stream",
     "text": [
      " 15%|█▍        | 299/2000 [00:28<02:42, 10.49it/s]\n"
     ]
    },
    {
     "name": "stdout",
     "output_type": "stream",
     "text": [
      "Generating dpgan synthetic dataset\n"
     ]
    },
    {
     "name": "stderr",
     "output_type": "stream",
     "text": [
      "[2024-05-14T11:02:54.124679+0000][130783][CRITICAL] load failed: module 'synthcity.plugins.generic.plugin_goggle' has no attribute 'plugin'\n",
      "[2024-05-14T11:02:54.125972+0000][130783][CRITICAL] load failed: module 'synthcity.plugins.generic.plugin_goggle' has no attribute 'plugin'\n",
      "[2024-05-14T11:02:54.126333+0000][130783][CRITICAL] module plugin_goggle load failed\n"
     ]
    },
    {
     "name": "stdout",
     "output_type": "stream",
     "text": [
      "Fitting dpgan covariate model\n"
     ]
    },
    {
     "name": "stderr",
     "output_type": "stream",
     "text": [
      " 25%|██▍       | 499/2000 [00:43<02:11, 11.40it/s]\n"
     ]
    },
    {
     "name": "stdout",
     "output_type": "stream",
     "text": [
      "Generating dpgan synthetic covariates\n",
      "Fitting propensity model\n",
      "Generating propensities\n",
      "Fitting private CATE learner\n",
      "Generating POs\n"
     ]
    },
    {
     "ename": "ValueError",
     "evalue": "Expected more than 1 value per channel when training, got input size torch.Size([1, 100])",
     "output_type": "error",
     "traceback": [
      "\u001b[0;31m---------------------------------------------------------------------------\u001b[0m",
      "\u001b[0;31mValueError\u001b[0m                                Traceback (most recent call last)",
      "Cell \u001b[0;32mIn[237], line 1\u001b[0m\n\u001b[0;32m----> 1\u001b[0m test \u001b[38;5;241m=\u001b[39m \u001b[43mprivacy_comparison\u001b[49m\u001b[43m(\u001b[49m\u001b[43md_real\u001b[49m\u001b[43m,\u001b[49m\u001b[43m \u001b[49m\u001b[38;5;124;43m'\u001b[39;49m\u001b[38;5;124;43mdpgan\u001b[39;49m\u001b[38;5;124;43m'\u001b[39;49m\u001b[43m,\u001b[49m\u001b[43m \u001b[49m\u001b[38;5;124;43m'\u001b[39;49m\u001b[38;5;124;43mw\u001b[39;49m\u001b[38;5;124;43m'\u001b[39;49m\u001b[43m,\u001b[49m\u001b[43m \u001b[49m\u001b[38;5;124;43m'\u001b[39;49m\u001b[38;5;124;43my\u001b[39;49m\u001b[38;5;124;43m'\u001b[39;49m\u001b[43m,\u001b[49m\u001b[43m \u001b[49m\u001b[43mdelta\u001b[49m\u001b[43m \u001b[49m\u001b[38;5;241;43m=\u001b[39;49m\u001b[43m \u001b[49m\u001b[38;5;241;43m1e-3\u001b[39;49m\u001b[43m,\u001b[49m\u001b[43m \u001b[49m\u001b[43mepsilons\u001b[49m\u001b[43m \u001b[49m\u001b[38;5;241;43m=\u001b[39;49m\u001b[43m \u001b[49m\u001b[43m[\u001b[49m\u001b[38;5;241;43m1.5\u001b[39;49m\u001b[43m]\u001b[49m\u001b[43m,\u001b[49m\u001b[43m \u001b[49m\u001b[43mn_iter\u001b[49m\u001b[43m \u001b[49m\u001b[38;5;241;43m=\u001b[39;49m\u001b[43m \u001b[49m\u001b[38;5;241;43m10\u001b[39;49m\u001b[43m,\u001b[49m\u001b[43m \u001b[49m\u001b[43msave\u001b[49m\u001b[38;5;241;43m=\u001b[39;49m\u001b[38;5;28;43;01mTrue\u001b[39;49;00m\u001b[43m,\u001b[49m\u001b[43m \u001b[49m\u001b[43mfp\u001b[49m\u001b[43m \u001b[49m\u001b[38;5;241;43m=\u001b[39;49m\u001b[38;5;124;43m'\u001b[39;49m\u001b[38;5;124;43msimulated_privacy_dpgan_more_runs.csv\u001b[39;49m\u001b[38;5;124;43m'\u001b[39;49m\u001b[43m)\u001b[49m\n",
      "Cell \u001b[0;32mIn[153], line 14\u001b[0m, in \u001b[0;36mprivacy_comparison\u001b[0;34m(real, gen, treatment_col, outcome_col, delta, epsilons, n_iter, save, fp)\u001b[0m\n\u001b[1;32m      8\u001b[0m results\u001b[38;5;241m.\u001b[39mloc[\u001b[38;5;28mlen\u001b[39m(results)] \u001b[38;5;241m=\u001b[39m [\u001b[38;5;124m'\u001b[39m\u001b[38;5;124mstandard\u001b[39m\u001b[38;5;124m'\u001b[39m, epsilon, evaluate_f(real, synth, treatment_col, outcome_col), evaluate_c(real, synth, treatment_col, outcome_col), \n\u001b[1;32m      9\u001b[0m                          evaluate_d(real, synth, treatment_col, outcome_col), evaluate_average_u_pehe(real, synth, treatment_col, outcome_col, n_units)]\n\u001b[1;32m     11\u001b[0m synth_seq \u001b[38;5;241m=\u001b[39m generate_sequentially(real, gen, treatment_col, outcome_col, private\u001b[38;5;241m=\u001b[39m\u001b[38;5;28;01mTrue\u001b[39;00m, epsilon \u001b[38;5;241m=\u001b[39m epsilon\u001b[38;5;241m/\u001b[39m\u001b[38;5;241m3\u001b[39m, delta\u001b[38;5;241m=\u001b[39mdelta\u001b[38;5;241m/\u001b[39m\u001b[38;5;241m3\u001b[39m)\n\u001b[1;32m     13\u001b[0m results\u001b[38;5;241m.\u001b[39mloc[\u001b[38;5;28mlen\u001b[39m(results)] \u001b[38;5;241m=\u001b[39m [\u001b[38;5;124m'\u001b[39m\u001b[38;5;124msequential\u001b[39m\u001b[38;5;124m'\u001b[39m, epsilon, evaluate_f(real, synth_seq, treatment_col, outcome_col), evaluate_c(real, synth_seq, treatment_col, outcome_col), \n\u001b[0;32m---> 14\u001b[0m                          evaluate_d(real, synth_seq, treatment_col, outcome_col), \u001b[43mevaluate_average_u_pehe\u001b[49m\u001b[43m(\u001b[49m\u001b[43mreal\u001b[49m\u001b[43m,\u001b[49m\u001b[43m \u001b[49m\u001b[43msynth_seq\u001b[49m\u001b[43m,\u001b[49m\u001b[43m \u001b[49m\u001b[43mtreatment_col\u001b[49m\u001b[43m,\u001b[49m\u001b[43m \u001b[49m\u001b[43moutcome_col\u001b[49m\u001b[43m,\u001b[49m\u001b[43m \u001b[49m\u001b[43mn_units\u001b[49m\u001b[43m)\u001b[49m]\n\u001b[1;32m     16\u001b[0m \u001b[38;5;28;01mif\u001b[39;00m save:\n\u001b[1;32m     17\u001b[0m     \u001b[38;5;28mprint\u001b[39m(\u001b[38;5;124m'\u001b[39m\u001b[38;5;124msaving results\u001b[39m\u001b[38;5;124m'\u001b[39m)\n",
      "Cell \u001b[0;32mIn[20], line 27\u001b[0m, in \u001b[0;36mevaluate_average_u_pehe\u001b[0;34m(real, synth, treatment_col, outcome_col, n_units)\u001b[0m\n\u001b[1;32m     25\u001b[0m y_synth \u001b[38;5;241m=\u001b[39m np\u001b[38;5;241m.\u001b[39marray(synth[outcome_col])\n\u001b[1;32m     26\u001b[0m w_synth \u001b[38;5;241m=\u001b[39m np\u001b[38;5;241m.\u001b[39marray(synth[treatment_col])\n\u001b[0;32m---> 27\u001b[0m \u001b[43ml_synth\u001b[49m\u001b[38;5;241;43m.\u001b[39;49m\u001b[43mfit\u001b[49m\u001b[43m(\u001b[49m\u001b[43mX_synth\u001b[49m\u001b[43m,\u001b[49m\u001b[43m \u001b[49m\u001b[43my_synth\u001b[49m\u001b[43m,\u001b[49m\u001b[43m \u001b[49m\u001b[43mw_synth\u001b[49m\u001b[43m)\u001b[49m\n\u001b[1;32m     28\u001b[0m pred_synth \u001b[38;5;241m=\u001b[39m l_synth\u001b[38;5;241m.\u001b[39mpredict(X_t)\n\u001b[1;32m     30\u001b[0m pehe \u001b[38;5;241m=\u001b[39m mean_squared_error(pred_real\u001b[38;5;241m.\u001b[39mcpu()\u001b[38;5;241m.\u001b[39mdetach()\u001b[38;5;241m.\u001b[39mnumpy(), pred_synth\u001b[38;5;241m.\u001b[39mcpu()\u001b[38;5;241m.\u001b[39mdetach()\u001b[38;5;241m.\u001b[39mnumpy(), squared\u001b[38;5;241m=\u001b[39m\u001b[38;5;28;01mFalse\u001b[39;00m)\n",
      "File \u001b[0;32m/anaconda/envs/azureml_py310_sdkv2/lib/python3.10/site-packages/catenets/models/torch/tlearner.py:164\u001b[0m, in \u001b[0;36mTLearner.fit\u001b[0;34m(self, X, y, w)\u001b[0m\n\u001b[1;32m    161\u001b[0m w \u001b[38;5;241m=\u001b[39m torch\u001b[38;5;241m.\u001b[39mTensor(w)\u001b[38;5;241m.\u001b[39mto(DEVICE)\n\u001b[1;32m    163\u001b[0m \u001b[38;5;28;01mfor\u001b[39;00m widx, plugin \u001b[38;5;129;01min\u001b[39;00m \u001b[38;5;28menumerate\u001b[39m(\u001b[38;5;28mself\u001b[39m\u001b[38;5;241m.\u001b[39m_plug_in):\n\u001b[0;32m--> 164\u001b[0m     \u001b[43mtrain_wrapper\u001b[49m\u001b[43m(\u001b[49m\u001b[43mplugin\u001b[49m\u001b[43m,\u001b[49m\u001b[43m \u001b[49m\u001b[43mX\u001b[49m\u001b[43m[\u001b[49m\u001b[43mw\u001b[49m\u001b[43m \u001b[49m\u001b[38;5;241;43m==\u001b[39;49m\u001b[43m \u001b[49m\u001b[43mwidx\u001b[49m\u001b[43m]\u001b[49m\u001b[43m,\u001b[49m\u001b[43m \u001b[49m\u001b[43my\u001b[49m\u001b[43m[\u001b[49m\u001b[43mw\u001b[49m\u001b[43m \u001b[49m\u001b[38;5;241;43m==\u001b[39;49m\u001b[43m \u001b[49m\u001b[43mwidx\u001b[49m\u001b[43m]\u001b[49m\u001b[43m)\u001b[49m\n\u001b[1;32m    166\u001b[0m \u001b[38;5;28;01mreturn\u001b[39;00m \u001b[38;5;28mself\u001b[39m\n",
      "File \u001b[0;32m/anaconda/envs/azureml_py310_sdkv2/lib/python3.10/site-packages/catenets/models/torch/utils/model_utils.py:85\u001b[0m, in \u001b[0;36mtrain_wrapper\u001b[0;34m(estimator, X, y, **kwargs)\u001b[0m\n\u001b[1;32m     83\u001b[0m \u001b[38;5;28;01mif\u001b[39;00m \u001b[38;5;28mhasattr\u001b[39m(estimator, \u001b[38;5;124m\"\u001b[39m\u001b[38;5;124mtrain\u001b[39m\u001b[38;5;124m\"\u001b[39m):\n\u001b[1;32m     84\u001b[0m     log\u001b[38;5;241m.\u001b[39mdebug(\u001b[38;5;124mf\u001b[39m\u001b[38;5;124m\"\u001b[39m\u001b[38;5;124mTrain PyTorch network \u001b[39m\u001b[38;5;132;01m{\u001b[39;00mestimator\u001b[38;5;132;01m}\u001b[39;00m\u001b[38;5;124m\"\u001b[39m)\n\u001b[0;32m---> 85\u001b[0m     \u001b[43mestimator\u001b[49m\u001b[38;5;241;43m.\u001b[39;49m\u001b[43mfit\u001b[49m\u001b[43m(\u001b[49m\u001b[43mX\u001b[49m\u001b[43m,\u001b[49m\u001b[43m \u001b[49m\u001b[43my\u001b[49m\u001b[43m,\u001b[49m\u001b[43m \u001b[49m\u001b[38;5;241;43m*\u001b[39;49m\u001b[38;5;241;43m*\u001b[39;49m\u001b[43mkwargs\u001b[49m\u001b[43m)\u001b[49m\n\u001b[1;32m     86\u001b[0m \u001b[38;5;28;01melif\u001b[39;00m \u001b[38;5;28mhasattr\u001b[39m(estimator, \u001b[38;5;124m\"\u001b[39m\u001b[38;5;124mfit\u001b[39m\u001b[38;5;124m\"\u001b[39m):\n\u001b[1;32m     87\u001b[0m     log\u001b[38;5;241m.\u001b[39mdebug(\u001b[38;5;124mf\u001b[39m\u001b[38;5;124m\"\u001b[39m\u001b[38;5;124mTrain sklearn estimator \u001b[39m\u001b[38;5;132;01m{\u001b[39;00mestimator\u001b[38;5;132;01m}\u001b[39;00m\u001b[38;5;124m\"\u001b[39m)\n",
      "File \u001b[0;32m/anaconda/envs/azureml_py310_sdkv2/lib/python3.10/site-packages/catenets/models/torch/base.py:214\u001b[0m, in \u001b[0;36mBasicNet.fit\u001b[0;34m(self, X, y, weight)\u001b[0m\n\u001b[1;32m    210\u001b[0m     weight_next \u001b[38;5;241m=\u001b[39m weight[idx_next]\u001b[38;5;241m.\u001b[39mdetach()\n\u001b[1;32m    212\u001b[0m loss \u001b[38;5;241m=\u001b[39m nn\u001b[38;5;241m.\u001b[39mBCELoss(weight\u001b[38;5;241m=\u001b[39mweight_next) \u001b[38;5;28;01mif\u001b[39;00m \u001b[38;5;28mself\u001b[39m\u001b[38;5;241m.\u001b[39mbinary_y \u001b[38;5;28;01melse\u001b[39;00m nn\u001b[38;5;241m.\u001b[39mMSELoss()\n\u001b[0;32m--> 214\u001b[0m preds \u001b[38;5;241m=\u001b[39m \u001b[38;5;28;43mself\u001b[39;49m\u001b[38;5;241;43m.\u001b[39;49m\u001b[43mforward\u001b[49m\u001b[43m(\u001b[49m\u001b[43mX_next\u001b[49m\u001b[43m)\u001b[49m\u001b[38;5;241m.\u001b[39msqueeze()\n\u001b[1;32m    216\u001b[0m batch_loss \u001b[38;5;241m=\u001b[39m loss(preds, y_next)\n\u001b[1;32m    218\u001b[0m batch_loss\u001b[38;5;241m.\u001b[39mbackward()\n",
      "File \u001b[0;32m/anaconda/envs/azureml_py310_sdkv2/lib/python3.10/site-packages/catenets/models/torch/base.py:169\u001b[0m, in \u001b[0;36mBasicNet.forward\u001b[0;34m(self, X)\u001b[0m\n\u001b[1;32m    168\u001b[0m \u001b[38;5;28;01mdef\u001b[39;00m \u001b[38;5;21mforward\u001b[39m(\u001b[38;5;28mself\u001b[39m, X: torch\u001b[38;5;241m.\u001b[39mTensor) \u001b[38;5;241m-\u001b[39m\u001b[38;5;241m>\u001b[39m torch\u001b[38;5;241m.\u001b[39mTensor:\n\u001b[0;32m--> 169\u001b[0m     \u001b[38;5;28;01mreturn\u001b[39;00m \u001b[38;5;28;43mself\u001b[39;49m\u001b[38;5;241;43m.\u001b[39;49m\u001b[43mmodel\u001b[49m\u001b[43m(\u001b[49m\u001b[43mX\u001b[49m\u001b[43m)\u001b[49m\n",
      "File \u001b[0;32m/anaconda/envs/azureml_py310_sdkv2/lib/python3.10/site-packages/torch/nn/modules/module.py:1194\u001b[0m, in \u001b[0;36mModule._call_impl\u001b[0;34m(self, *input, **kwargs)\u001b[0m\n\u001b[1;32m   1190\u001b[0m \u001b[38;5;66;03m# If we don't have any hooks, we want to skip the rest of the logic in\u001b[39;00m\n\u001b[1;32m   1191\u001b[0m \u001b[38;5;66;03m# this function, and just call forward.\u001b[39;00m\n\u001b[1;32m   1192\u001b[0m \u001b[38;5;28;01mif\u001b[39;00m \u001b[38;5;129;01mnot\u001b[39;00m (\u001b[38;5;28mself\u001b[39m\u001b[38;5;241m.\u001b[39m_backward_hooks \u001b[38;5;129;01mor\u001b[39;00m \u001b[38;5;28mself\u001b[39m\u001b[38;5;241m.\u001b[39m_forward_hooks \u001b[38;5;129;01mor\u001b[39;00m \u001b[38;5;28mself\u001b[39m\u001b[38;5;241m.\u001b[39m_forward_pre_hooks \u001b[38;5;129;01mor\u001b[39;00m _global_backward_hooks\n\u001b[1;32m   1193\u001b[0m         \u001b[38;5;129;01mor\u001b[39;00m _global_forward_hooks \u001b[38;5;129;01mor\u001b[39;00m _global_forward_pre_hooks):\n\u001b[0;32m-> 1194\u001b[0m     \u001b[38;5;28;01mreturn\u001b[39;00m \u001b[43mforward_call\u001b[49m\u001b[43m(\u001b[49m\u001b[38;5;241;43m*\u001b[39;49m\u001b[38;5;28;43minput\u001b[39;49m\u001b[43m,\u001b[49m\u001b[43m \u001b[49m\u001b[38;5;241;43m*\u001b[39;49m\u001b[38;5;241;43m*\u001b[39;49m\u001b[43mkwargs\u001b[49m\u001b[43m)\u001b[49m\n\u001b[1;32m   1195\u001b[0m \u001b[38;5;66;03m# Do not call functions when jit is used\u001b[39;00m\n\u001b[1;32m   1196\u001b[0m full_backward_hooks, non_full_backward_hooks \u001b[38;5;241m=\u001b[39m [], []\n",
      "File \u001b[0;32m/anaconda/envs/azureml_py310_sdkv2/lib/python3.10/site-packages/torch/nn/modules/container.py:204\u001b[0m, in \u001b[0;36mSequential.forward\u001b[0;34m(self, input)\u001b[0m\n\u001b[1;32m    202\u001b[0m \u001b[38;5;28;01mdef\u001b[39;00m \u001b[38;5;21mforward\u001b[39m(\u001b[38;5;28mself\u001b[39m, \u001b[38;5;28minput\u001b[39m):\n\u001b[1;32m    203\u001b[0m     \u001b[38;5;28;01mfor\u001b[39;00m module \u001b[38;5;129;01min\u001b[39;00m \u001b[38;5;28mself\u001b[39m:\n\u001b[0;32m--> 204\u001b[0m         \u001b[38;5;28minput\u001b[39m \u001b[38;5;241m=\u001b[39m \u001b[43mmodule\u001b[49m\u001b[43m(\u001b[49m\u001b[38;5;28;43minput\u001b[39;49m\u001b[43m)\u001b[49m\n\u001b[1;32m    205\u001b[0m     \u001b[38;5;28;01mreturn\u001b[39;00m \u001b[38;5;28minput\u001b[39m\n",
      "File \u001b[0;32m/anaconda/envs/azureml_py310_sdkv2/lib/python3.10/site-packages/torch/nn/modules/module.py:1194\u001b[0m, in \u001b[0;36mModule._call_impl\u001b[0;34m(self, *input, **kwargs)\u001b[0m\n\u001b[1;32m   1190\u001b[0m \u001b[38;5;66;03m# If we don't have any hooks, we want to skip the rest of the logic in\u001b[39;00m\n\u001b[1;32m   1191\u001b[0m \u001b[38;5;66;03m# this function, and just call forward.\u001b[39;00m\n\u001b[1;32m   1192\u001b[0m \u001b[38;5;28;01mif\u001b[39;00m \u001b[38;5;129;01mnot\u001b[39;00m (\u001b[38;5;28mself\u001b[39m\u001b[38;5;241m.\u001b[39m_backward_hooks \u001b[38;5;129;01mor\u001b[39;00m \u001b[38;5;28mself\u001b[39m\u001b[38;5;241m.\u001b[39m_forward_hooks \u001b[38;5;129;01mor\u001b[39;00m \u001b[38;5;28mself\u001b[39m\u001b[38;5;241m.\u001b[39m_forward_pre_hooks \u001b[38;5;129;01mor\u001b[39;00m _global_backward_hooks\n\u001b[1;32m   1193\u001b[0m         \u001b[38;5;129;01mor\u001b[39;00m _global_forward_hooks \u001b[38;5;129;01mor\u001b[39;00m _global_forward_pre_hooks):\n\u001b[0;32m-> 1194\u001b[0m     \u001b[38;5;28;01mreturn\u001b[39;00m \u001b[43mforward_call\u001b[49m\u001b[43m(\u001b[49m\u001b[38;5;241;43m*\u001b[39;49m\u001b[38;5;28;43minput\u001b[39;49m\u001b[43m,\u001b[49m\u001b[43m \u001b[49m\u001b[38;5;241;43m*\u001b[39;49m\u001b[38;5;241;43m*\u001b[39;49m\u001b[43mkwargs\u001b[49m\u001b[43m)\u001b[49m\n\u001b[1;32m   1195\u001b[0m \u001b[38;5;66;03m# Do not call functions when jit is used\u001b[39;00m\n\u001b[1;32m   1196\u001b[0m full_backward_hooks, non_full_backward_hooks \u001b[38;5;241m=\u001b[39m [], []\n",
      "File \u001b[0;32m/anaconda/envs/azureml_py310_sdkv2/lib/python3.10/site-packages/torch/nn/modules/batchnorm.py:171\u001b[0m, in \u001b[0;36m_BatchNorm.forward\u001b[0;34m(self, input)\u001b[0m\n\u001b[1;32m    164\u001b[0m     bn_training \u001b[38;5;241m=\u001b[39m (\u001b[38;5;28mself\u001b[39m\u001b[38;5;241m.\u001b[39mrunning_mean \u001b[38;5;129;01mis\u001b[39;00m \u001b[38;5;28;01mNone\u001b[39;00m) \u001b[38;5;129;01mand\u001b[39;00m (\u001b[38;5;28mself\u001b[39m\u001b[38;5;241m.\u001b[39mrunning_var \u001b[38;5;129;01mis\u001b[39;00m \u001b[38;5;28;01mNone\u001b[39;00m)\n\u001b[1;32m    166\u001b[0m \u001b[38;5;250m\u001b[39m\u001b[38;5;124mr\u001b[39m\u001b[38;5;124;03m\"\"\"\u001b[39;00m\n\u001b[1;32m    167\u001b[0m \u001b[38;5;124;03mBuffers are only updated if they are to be tracked and we are in training mode. Thus they only need to be\u001b[39;00m\n\u001b[1;32m    168\u001b[0m \u001b[38;5;124;03mpassed when the update should occur (i.e. in training mode when they are tracked), or when buffer stats are\u001b[39;00m\n\u001b[1;32m    169\u001b[0m \u001b[38;5;124;03mused for normalization (i.e. in eval mode when buffers are not None).\u001b[39;00m\n\u001b[1;32m    170\u001b[0m \u001b[38;5;124;03m\"\"\"\u001b[39;00m\n\u001b[0;32m--> 171\u001b[0m \u001b[38;5;28;01mreturn\u001b[39;00m \u001b[43mF\u001b[49m\u001b[38;5;241;43m.\u001b[39;49m\u001b[43mbatch_norm\u001b[49m\u001b[43m(\u001b[49m\n\u001b[1;32m    172\u001b[0m \u001b[43m    \u001b[49m\u001b[38;5;28;43minput\u001b[39;49m\u001b[43m,\u001b[49m\n\u001b[1;32m    173\u001b[0m \u001b[43m    \u001b[49m\u001b[38;5;66;43;03m# If buffers are not to be tracked, ensure that they won't be updated\u001b[39;49;00m\n\u001b[1;32m    174\u001b[0m \u001b[43m    \u001b[49m\u001b[38;5;28;43mself\u001b[39;49m\u001b[38;5;241;43m.\u001b[39;49m\u001b[43mrunning_mean\u001b[49m\n\u001b[1;32m    175\u001b[0m \u001b[43m    \u001b[49m\u001b[38;5;28;43;01mif\u001b[39;49;00m\u001b[43m \u001b[49m\u001b[38;5;129;43;01mnot\u001b[39;49;00m\u001b[43m \u001b[49m\u001b[38;5;28;43mself\u001b[39;49m\u001b[38;5;241;43m.\u001b[39;49m\u001b[43mtraining\u001b[49m\u001b[43m \u001b[49m\u001b[38;5;129;43;01mor\u001b[39;49;00m\u001b[43m \u001b[49m\u001b[38;5;28;43mself\u001b[39;49m\u001b[38;5;241;43m.\u001b[39;49m\u001b[43mtrack_running_stats\u001b[49m\n\u001b[1;32m    176\u001b[0m \u001b[43m    \u001b[49m\u001b[38;5;28;43;01melse\u001b[39;49;00m\u001b[43m \u001b[49m\u001b[38;5;28;43;01mNone\u001b[39;49;00m\u001b[43m,\u001b[49m\n\u001b[1;32m    177\u001b[0m \u001b[43m    \u001b[49m\u001b[38;5;28;43mself\u001b[39;49m\u001b[38;5;241;43m.\u001b[39;49m\u001b[43mrunning_var\u001b[49m\u001b[43m \u001b[49m\u001b[38;5;28;43;01mif\u001b[39;49;00m\u001b[43m \u001b[49m\u001b[38;5;129;43;01mnot\u001b[39;49;00m\u001b[43m \u001b[49m\u001b[38;5;28;43mself\u001b[39;49m\u001b[38;5;241;43m.\u001b[39;49m\u001b[43mtraining\u001b[49m\u001b[43m \u001b[49m\u001b[38;5;129;43;01mor\u001b[39;49;00m\u001b[43m \u001b[49m\u001b[38;5;28;43mself\u001b[39;49m\u001b[38;5;241;43m.\u001b[39;49m\u001b[43mtrack_running_stats\u001b[49m\u001b[43m \u001b[49m\u001b[38;5;28;43;01melse\u001b[39;49;00m\u001b[43m \u001b[49m\u001b[38;5;28;43;01mNone\u001b[39;49;00m\u001b[43m,\u001b[49m\n\u001b[1;32m    178\u001b[0m \u001b[43m    \u001b[49m\u001b[38;5;28;43mself\u001b[39;49m\u001b[38;5;241;43m.\u001b[39;49m\u001b[43mweight\u001b[49m\u001b[43m,\u001b[49m\n\u001b[1;32m    179\u001b[0m \u001b[43m    \u001b[49m\u001b[38;5;28;43mself\u001b[39;49m\u001b[38;5;241;43m.\u001b[39;49m\u001b[43mbias\u001b[49m\u001b[43m,\u001b[49m\n\u001b[1;32m    180\u001b[0m \u001b[43m    \u001b[49m\u001b[43mbn_training\u001b[49m\u001b[43m,\u001b[49m\n\u001b[1;32m    181\u001b[0m \u001b[43m    \u001b[49m\u001b[43mexponential_average_factor\u001b[49m\u001b[43m,\u001b[49m\n\u001b[1;32m    182\u001b[0m \u001b[43m    \u001b[49m\u001b[38;5;28;43mself\u001b[39;49m\u001b[38;5;241;43m.\u001b[39;49m\u001b[43meps\u001b[49m\u001b[43m,\u001b[49m\n\u001b[1;32m    183\u001b[0m \u001b[43m\u001b[49m\u001b[43m)\u001b[49m\n",
      "File \u001b[0;32m/anaconda/envs/azureml_py310_sdkv2/lib/python3.10/site-packages/torch/nn/functional.py:2448\u001b[0m, in \u001b[0;36mbatch_norm\u001b[0;34m(input, running_mean, running_var, weight, bias, training, momentum, eps)\u001b[0m\n\u001b[1;32m   2435\u001b[0m     \u001b[38;5;28;01mreturn\u001b[39;00m handle_torch_function(\n\u001b[1;32m   2436\u001b[0m         batch_norm,\n\u001b[1;32m   2437\u001b[0m         (\u001b[38;5;28minput\u001b[39m, running_mean, running_var, weight, bias),\n\u001b[0;32m   (...)\u001b[0m\n\u001b[1;32m   2445\u001b[0m         eps\u001b[38;5;241m=\u001b[39meps,\n\u001b[1;32m   2446\u001b[0m     )\n\u001b[1;32m   2447\u001b[0m \u001b[38;5;28;01mif\u001b[39;00m training:\n\u001b[0;32m-> 2448\u001b[0m     \u001b[43m_verify_batch_size\u001b[49m\u001b[43m(\u001b[49m\u001b[38;5;28;43minput\u001b[39;49m\u001b[38;5;241;43m.\u001b[39;49m\u001b[43msize\u001b[49m\u001b[43m(\u001b[49m\u001b[43m)\u001b[49m\u001b[43m)\u001b[49m\n\u001b[1;32m   2450\u001b[0m \u001b[38;5;28;01mreturn\u001b[39;00m torch\u001b[38;5;241m.\u001b[39mbatch_norm(\n\u001b[1;32m   2451\u001b[0m     \u001b[38;5;28minput\u001b[39m, weight, bias, running_mean, running_var, training, momentum, eps, torch\u001b[38;5;241m.\u001b[39mbackends\u001b[38;5;241m.\u001b[39mcudnn\u001b[38;5;241m.\u001b[39menabled\n\u001b[1;32m   2452\u001b[0m )\n",
      "File \u001b[0;32m/anaconda/envs/azureml_py310_sdkv2/lib/python3.10/site-packages/torch/nn/functional.py:2416\u001b[0m, in \u001b[0;36m_verify_batch_size\u001b[0;34m(size)\u001b[0m\n\u001b[1;32m   2414\u001b[0m     size_prods \u001b[38;5;241m*\u001b[39m\u001b[38;5;241m=\u001b[39m size[i \u001b[38;5;241m+\u001b[39m \u001b[38;5;241m2\u001b[39m]\n\u001b[1;32m   2415\u001b[0m \u001b[38;5;28;01mif\u001b[39;00m size_prods \u001b[38;5;241m==\u001b[39m \u001b[38;5;241m1\u001b[39m:\n\u001b[0;32m-> 2416\u001b[0m     \u001b[38;5;28;01mraise\u001b[39;00m \u001b[38;5;167;01mValueError\u001b[39;00m(\u001b[38;5;124m\"\u001b[39m\u001b[38;5;124mExpected more than 1 value per channel when training, got input size \u001b[39m\u001b[38;5;132;01m{}\u001b[39;00m\u001b[38;5;124m\"\u001b[39m\u001b[38;5;241m.\u001b[39mformat(size))\n",
      "\u001b[0;31mValueError\u001b[0m: Expected more than 1 value per channel when training, got input size torch.Size([1, 100])"
     ]
    }
   ],
   "source": [
    "test = privacy_comparison(d_real, 'dpgan', 'w', 'y', delta = 1e-3, epsilons = [1.5], n_iter = 10, save=True, fp ='simulated_privacy_dpgan_more_runs.csv')"
   ]
  },
  {
   "cell_type": "code",
   "execution_count": 256,
   "id": "e7e58d98",
   "metadata": {},
   "outputs": [
    {
     "data": {
      "text/html": [
       "<div>\n",
       "<style scoped>\n",
       "    .dataframe tbody tr th:only-of-type {\n",
       "        vertical-align: middle;\n",
       "    }\n",
       "\n",
       "    .dataframe tbody tr th {\n",
       "        vertical-align: top;\n",
       "    }\n",
       "\n",
       "    .dataframe thead th {\n",
       "        text-align: right;\n",
       "    }\n",
       "</style>\n",
       "<table border=\"1\" class=\"dataframe\">\n",
       "  <thead>\n",
       "    <tr style=\"text-align: right;\">\n",
       "      <th></th>\n",
       "      <th>training</th>\n",
       "      <th>age</th>\n",
       "      <th>education</th>\n",
       "      <th>black</th>\n",
       "      <th>hispanic</th>\n",
       "      <th>married</th>\n",
       "      <th>no_degree</th>\n",
       "      <th>re75</th>\n",
       "      <th>re78</th>\n",
       "    </tr>\n",
       "  </thead>\n",
       "  <tbody>\n",
       "    <tr>\n",
       "      <th>0</th>\n",
       "      <td>0.0</td>\n",
       "      <td>19.0</td>\n",
       "      <td>9.0</td>\n",
       "      <td>1.0</td>\n",
       "      <td>0.0</td>\n",
       "      <td>1.0</td>\n",
       "      <td>1.0</td>\n",
       "      <td>0.0000</td>\n",
       "      <td>16658.250</td>\n",
       "    </tr>\n",
       "    <tr>\n",
       "      <th>1</th>\n",
       "      <td>0.0</td>\n",
       "      <td>33.0</td>\n",
       "      <td>11.0</td>\n",
       "      <td>1.0</td>\n",
       "      <td>0.0</td>\n",
       "      <td>0.0</td>\n",
       "      <td>1.0</td>\n",
       "      <td>0.0000</td>\n",
       "      <td>0.000</td>\n",
       "    </tr>\n",
       "    <tr>\n",
       "      <th>2</th>\n",
       "      <td>0.0</td>\n",
       "      <td>25.0</td>\n",
       "      <td>10.0</td>\n",
       "      <td>1.0</td>\n",
       "      <td>0.0</td>\n",
       "      <td>1.0</td>\n",
       "      <td>1.0</td>\n",
       "      <td>0.0000</td>\n",
       "      <td>0.000</td>\n",
       "    </tr>\n",
       "    <tr>\n",
       "      <th>3</th>\n",
       "      <td>1.0</td>\n",
       "      <td>48.0</td>\n",
       "      <td>4.0</td>\n",
       "      <td>1.0</td>\n",
       "      <td>0.0</td>\n",
       "      <td>0.0</td>\n",
       "      <td>1.0</td>\n",
       "      <td>0.0000</td>\n",
       "      <td>6551.592</td>\n",
       "    </tr>\n",
       "    <tr>\n",
       "      <th>4</th>\n",
       "      <td>0.0</td>\n",
       "      <td>54.0</td>\n",
       "      <td>11.0</td>\n",
       "      <td>1.0</td>\n",
       "      <td>0.0</td>\n",
       "      <td>0.0</td>\n",
       "      <td>1.0</td>\n",
       "      <td>0.0000</td>\n",
       "      <td>7812.522</td>\n",
       "    </tr>\n",
       "    <tr>\n",
       "      <th>...</th>\n",
       "      <td>...</td>\n",
       "      <td>...</td>\n",
       "      <td>...</td>\n",
       "      <td>...</td>\n",
       "      <td>...</td>\n",
       "      <td>...</td>\n",
       "      <td>...</td>\n",
       "      <td>...</td>\n",
       "      <td>...</td>\n",
       "    </tr>\n",
       "    <tr>\n",
       "      <th>717</th>\n",
       "      <td>1.0</td>\n",
       "      <td>45.0</td>\n",
       "      <td>5.0</td>\n",
       "      <td>1.0</td>\n",
       "      <td>0.0</td>\n",
       "      <td>1.0</td>\n",
       "      <td>1.0</td>\n",
       "      <td>0.0000</td>\n",
       "      <td>8546.715</td>\n",
       "    </tr>\n",
       "    <tr>\n",
       "      <th>718</th>\n",
       "      <td>1.0</td>\n",
       "      <td>19.0</td>\n",
       "      <td>10.0</td>\n",
       "      <td>1.0</td>\n",
       "      <td>0.0</td>\n",
       "      <td>0.0</td>\n",
       "      <td>1.0</td>\n",
       "      <td>385.2741</td>\n",
       "      <td>8124.715</td>\n",
       "    </tr>\n",
       "    <tr>\n",
       "      <th>719</th>\n",
       "      <td>1.0</td>\n",
       "      <td>26.0</td>\n",
       "      <td>12.0</td>\n",
       "      <td>1.0</td>\n",
       "      <td>0.0</td>\n",
       "      <td>1.0</td>\n",
       "      <td>0.0</td>\n",
       "      <td>5794.8310</td>\n",
       "      <td>1424.944</td>\n",
       "    </tr>\n",
       "    <tr>\n",
       "      <th>720</th>\n",
       "      <td>0.0</td>\n",
       "      <td>27.0</td>\n",
       "      <td>11.0</td>\n",
       "      <td>1.0</td>\n",
       "      <td>0.0</td>\n",
       "      <td>0.0</td>\n",
       "      <td>1.0</td>\n",
       "      <td>0.0000</td>\n",
       "      <td>11197.340</td>\n",
       "    </tr>\n",
       "    <tr>\n",
       "      <th>721</th>\n",
       "      <td>1.0</td>\n",
       "      <td>29.0</td>\n",
       "      <td>14.0</td>\n",
       "      <td>1.0</td>\n",
       "      <td>0.0</td>\n",
       "      <td>0.0</td>\n",
       "      <td>0.0</td>\n",
       "      <td>679.6734</td>\n",
       "      <td>17814.980</td>\n",
       "    </tr>\n",
       "  </tbody>\n",
       "</table>\n",
       "<p>722 rows × 9 columns</p>\n",
       "</div>"
      ],
      "text/plain": [
       "     training   age  education  black  hispanic  married  no_degree  \\\n",
       "0         0.0  19.0        9.0    1.0       0.0      1.0        1.0   \n",
       "1         0.0  33.0       11.0    1.0       0.0      0.0        1.0   \n",
       "2         0.0  25.0       10.0    1.0       0.0      1.0        1.0   \n",
       "3         1.0  48.0        4.0    1.0       0.0      0.0        1.0   \n",
       "4         0.0  54.0       11.0    1.0       0.0      0.0        1.0   \n",
       "..        ...   ...        ...    ...       ...      ...        ...   \n",
       "717       1.0  45.0        5.0    1.0       0.0      1.0        1.0   \n",
       "718       1.0  19.0       10.0    1.0       0.0      0.0        1.0   \n",
       "719       1.0  26.0       12.0    1.0       0.0      1.0        0.0   \n",
       "720       0.0  27.0       11.0    1.0       0.0      0.0        1.0   \n",
       "721       1.0  29.0       14.0    1.0       0.0      0.0        0.0   \n",
       "\n",
       "          re75       re78  \n",
       "0       0.0000  16658.250  \n",
       "1       0.0000      0.000  \n",
       "2       0.0000      0.000  \n",
       "3       0.0000   6551.592  \n",
       "4       0.0000   7812.522  \n",
       "..         ...        ...  \n",
       "717     0.0000   8546.715  \n",
       "718   385.2741   8124.715  \n",
       "719  5794.8310   1424.944  \n",
       "720     0.0000  11197.340  \n",
       "721   679.6734  17814.980  \n",
       "\n",
       "[722 rows x 9 columns]"
      ]
     },
     "execution_count": 256,
     "metadata": {},
     "output_type": "execute_result"
    }
   ],
   "source": [
    "jobs"
   ]
  },
  {
   "cell_type": "code",
   "execution_count": 261,
   "id": "8bdb8309",
   "metadata": {},
   "outputs": [],
   "source": [
    "normalized=(jobs-jobs.mean())/jobs.std()"
   ]
  },
  {
   "cell_type": "code",
   "execution_count": 263,
   "id": "4e1d77ac",
   "metadata": {},
   "outputs": [],
   "source": [
    "normalized_jobs = jobs.copy()\n",
    "normalized_jobs['age'] = normalized['age']\n",
    "normalized_jobs['education'] = normalized['education']\n",
    "normalized_jobs['re75'] = normalized['re75']\n",
    "normalized_jobs['re78'] = normalized['re78']"
   ]
  },
  {
   "cell_type": "code",
   "execution_count": 284,
   "id": "8bd6d71c",
   "metadata": {},
   "outputs": [
    {
     "name": "stderr",
     "output_type": "stream",
     "text": [
      "[2024-05-14T23:34:22.891253+0000][130783][CRITICAL] load failed: module 'synthcity.plugins.generic.plugin_goggle' has no attribute 'plugin'\n",
      "[2024-05-14T23:34:22.892272+0000][130783][CRITICAL] load failed: module 'synthcity.plugins.generic.plugin_goggle' has no attribute 'plugin'\n",
      "[2024-05-14T23:34:22.892762+0000][130783][CRITICAL] module plugin_goggle load failed\n"
     ]
    },
    {
     "name": "stdout",
     "output_type": "stream",
     "text": [
      "Fitting dpgan model\n"
     ]
    },
    {
     "name": "stderr",
     "output_type": "stream",
     "text": [
      " 15%|█▍        | 299/2000 [00:25<02:26, 11.58it/s]\n"
     ]
    },
    {
     "name": "stdout",
     "output_type": "stream",
     "text": [
      "Generating dpgan synthetic dataset\n"
     ]
    },
    {
     "name": "stderr",
     "output_type": "stream",
     "text": [
      "[2024-05-14T23:35:55.788155+0000][130783][CRITICAL] load failed: module 'synthcity.plugins.generic.plugin_goggle' has no attribute 'plugin'\n",
      "[2024-05-14T23:35:55.789541+0000][130783][CRITICAL] load failed: module 'synthcity.plugins.generic.plugin_goggle' has no attribute 'plugin'\n",
      "[2024-05-14T23:35:55.790034+0000][130783][CRITICAL] module plugin_goggle load failed\n"
     ]
    },
    {
     "name": "stdout",
     "output_type": "stream",
     "text": [
      "Fitting dpgan covariate model\n"
     ]
    },
    {
     "name": "stderr",
     "output_type": "stream",
     "text": [
      " 32%|███▏      | 649/2000 [00:51<01:47, 12.61it/s]\n"
     ]
    },
    {
     "name": "stdout",
     "output_type": "stream",
     "text": [
      "Generating dpgan synthetic covariates\n",
      "Fitting propensity model\n",
      "Generating propensities\n",
      "Fitting private CATE learner\n",
      "Generating POs\n"
     ]
    },
    {
     "name": "stderr",
     "output_type": "stream",
     "text": [
      "[2024-05-14T23:37:59.540645+0000][130783][CRITICAL] load failed: module 'synthcity.plugins.generic.plugin_goggle' has no attribute 'plugin'\n",
      "[2024-05-14T23:37:59.541360+0000][130783][CRITICAL] load failed: module 'synthcity.plugins.generic.plugin_goggle' has no attribute 'plugin'\n",
      "[2024-05-14T23:37:59.541779+0000][130783][CRITICAL] module plugin_goggle load failed\n"
     ]
    },
    {
     "name": "stdout",
     "output_type": "stream",
     "text": [
      "saving results\n",
      "Fitting dpgan model\n"
     ]
    },
    {
     "name": "stderr",
     "output_type": "stream",
     "text": [
      " 20%|█▉        | 399/2000 [00:35<02:21, 11.34it/s]\n"
     ]
    },
    {
     "name": "stdout",
     "output_type": "stream",
     "text": [
      "Generating dpgan synthetic dataset\n"
     ]
    },
    {
     "name": "stderr",
     "output_type": "stream",
     "text": [
      "[2024-05-14T23:39:29.660220+0000][130783][CRITICAL] load failed: module 'synthcity.plugins.generic.plugin_goggle' has no attribute 'plugin'\n",
      "[2024-05-14T23:39:29.661585+0000][130783][CRITICAL] load failed: module 'synthcity.plugins.generic.plugin_goggle' has no attribute 'plugin'\n",
      "[2024-05-14T23:39:29.661945+0000][130783][CRITICAL] module plugin_goggle load failed\n"
     ]
    },
    {
     "name": "stdout",
     "output_type": "stream",
     "text": [
      "Fitting dpgan covariate model\n"
     ]
    },
    {
     "name": "stderr",
     "output_type": "stream",
     "text": [
      " 25%|██▍       | 499/2000 [00:39<01:57, 12.76it/s]\n"
     ]
    },
    {
     "name": "stdout",
     "output_type": "stream",
     "text": [
      "Generating dpgan synthetic covariates\n",
      "Fitting propensity model\n",
      "Generating propensities\n",
      "Fitting private CATE learner\n",
      "Generating POs\n"
     ]
    },
    {
     "name": "stderr",
     "output_type": "stream",
     "text": [
      "[2024-05-14T23:41:24.388742+0000][130783][CRITICAL] load failed: module 'synthcity.plugins.generic.plugin_goggle' has no attribute 'plugin'\n",
      "[2024-05-14T23:41:24.389334+0000][130783][CRITICAL] load failed: module 'synthcity.plugins.generic.plugin_goggle' has no attribute 'plugin'\n",
      "[2024-05-14T23:41:24.389711+0000][130783][CRITICAL] module plugin_goggle load failed\n"
     ]
    },
    {
     "name": "stdout",
     "output_type": "stream",
     "text": [
      "saving results\n",
      "Fitting dpgan model\n"
     ]
    },
    {
     "name": "stderr",
     "output_type": "stream",
     "text": [
      " 37%|███▋      | 749/2000 [01:05<01:49, 11.39it/s]\n"
     ]
    },
    {
     "name": "stdout",
     "output_type": "stream",
     "text": [
      "Generating dpgan synthetic dataset\n"
     ]
    },
    {
     "name": "stderr",
     "output_type": "stream",
     "text": [
      "[2024-05-14T23:43:19.649674+0000][130783][CRITICAL] load failed: module 'synthcity.plugins.generic.plugin_goggle' has no attribute 'plugin'\n",
      "[2024-05-14T23:43:19.650701+0000][130783][CRITICAL] load failed: module 'synthcity.plugins.generic.plugin_goggle' has no attribute 'plugin'\n",
      "[2024-05-14T23:43:19.651093+0000][130783][CRITICAL] module plugin_goggle load failed\n"
     ]
    },
    {
     "name": "stdout",
     "output_type": "stream",
     "text": [
      "Fitting dpgan covariate model\n"
     ]
    },
    {
     "name": "stderr",
     "output_type": "stream",
     "text": [
      " 22%|██▏       | 449/2000 [00:35<02:01, 12.77it/s]\n"
     ]
    },
    {
     "name": "stdout",
     "output_type": "stream",
     "text": [
      "Generating dpgan synthetic covariates\n",
      "Fitting propensity model\n",
      "Generating propensities\n",
      "Fitting private CATE learner\n",
      "Generating POs\n"
     ]
    },
    {
     "name": "stderr",
     "output_type": "stream",
     "text": [
      "[2024-05-14T23:45:08.678693+0000][130783][CRITICAL] load failed: module 'synthcity.plugins.generic.plugin_goggle' has no attribute 'plugin'\n",
      "[2024-05-14T23:45:08.679493+0000][130783][CRITICAL] load failed: module 'synthcity.plugins.generic.plugin_goggle' has no attribute 'plugin'\n",
      "[2024-05-14T23:45:08.679919+0000][130783][CRITICAL] module plugin_goggle load failed\n"
     ]
    },
    {
     "name": "stdout",
     "output_type": "stream",
     "text": [
      "saving results\n",
      "Fitting dpgan model\n"
     ]
    },
    {
     "name": "stderr",
     "output_type": "stream",
     "text": [
      " 25%|██▍       | 499/2000 [00:43<02:09, 11.60it/s]\n"
     ]
    },
    {
     "name": "stdout",
     "output_type": "stream",
     "text": [
      "Generating dpgan synthetic dataset\n"
     ]
    },
    {
     "name": "stderr",
     "output_type": "stream",
     "text": [
      "[2024-05-14T23:47:00.029130+0000][130783][CRITICAL] load failed: module 'synthcity.plugins.generic.plugin_goggle' has no attribute 'plugin'\n",
      "[2024-05-14T23:47:00.030127+0000][130783][CRITICAL] load failed: module 'synthcity.plugins.generic.plugin_goggle' has no attribute 'plugin'\n",
      "[2024-05-14T23:47:00.030459+0000][130783][CRITICAL] module plugin_goggle load failed\n"
     ]
    },
    {
     "name": "stdout",
     "output_type": "stream",
     "text": [
      "Fitting dpgan covariate model\n"
     ]
    },
    {
     "name": "stderr",
     "output_type": "stream",
     "text": [
      " 27%|██▋       | 549/2000 [00:43<01:54, 12.71it/s]\n"
     ]
    },
    {
     "name": "stdout",
     "output_type": "stream",
     "text": [
      "Generating dpgan synthetic covariates\n",
      "Fitting propensity model\n",
      "Generating propensities\n",
      "Fitting private CATE learner\n",
      "Generating POs\n"
     ]
    },
    {
     "name": "stderr",
     "output_type": "stream",
     "text": [
      "[2024-05-14T23:48:55.452475+0000][130783][CRITICAL] load failed: module 'synthcity.plugins.generic.plugin_goggle' has no attribute 'plugin'\n",
      "[2024-05-14T23:48:55.453218+0000][130783][CRITICAL] load failed: module 'synthcity.plugins.generic.plugin_goggle' has no attribute 'plugin'\n",
      "[2024-05-14T23:48:55.453604+0000][130783][CRITICAL] module plugin_goggle load failed\n"
     ]
    },
    {
     "name": "stdout",
     "output_type": "stream",
     "text": [
      "saving results\n",
      "Fitting dpgan model\n"
     ]
    },
    {
     "name": "stderr",
     "output_type": "stream",
     "text": [
      " 17%|█▋        | 349/2000 [00:29<02:21, 11.66it/s]\n"
     ]
    },
    {
     "name": "stdout",
     "output_type": "stream",
     "text": [
      "Generating dpgan synthetic dataset\n"
     ]
    },
    {
     "name": "stderr",
     "output_type": "stream",
     "text": [
      "[2024-05-14T23:50:17.383815+0000][130783][CRITICAL] load failed: module 'synthcity.plugins.generic.plugin_goggle' has no attribute 'plugin'\n",
      "[2024-05-14T23:50:17.384885+0000][130783][CRITICAL] load failed: module 'synthcity.plugins.generic.plugin_goggle' has no attribute 'plugin'\n",
      "[2024-05-14T23:50:17.385216+0000][130783][CRITICAL] module plugin_goggle load failed\n"
     ]
    },
    {
     "name": "stdout",
     "output_type": "stream",
     "text": [
      "Fitting dpgan covariate model\n"
     ]
    },
    {
     "name": "stderr",
     "output_type": "stream",
     "text": [
      " 22%|██▏       | 449/2000 [00:35<02:01, 12.72it/s]\n"
     ]
    },
    {
     "name": "stdout",
     "output_type": "stream",
     "text": [
      "Generating dpgan synthetic covariates\n",
      "Fitting propensity model\n",
      "Generating propensities\n",
      "Fitting private CATE learner\n",
      "Generating POs\n"
     ]
    },
    {
     "name": "stderr",
     "output_type": "stream",
     "text": [
      "[2024-05-14T23:52:06.251715+0000][130783][CRITICAL] load failed: module 'synthcity.plugins.generic.plugin_goggle' has no attribute 'plugin'\n",
      "[2024-05-14T23:52:06.252466+0000][130783][CRITICAL] load failed: module 'synthcity.plugins.generic.plugin_goggle' has no attribute 'plugin'\n",
      "[2024-05-14T23:52:06.252860+0000][130783][CRITICAL] module plugin_goggle load failed\n"
     ]
    },
    {
     "name": "stdout",
     "output_type": "stream",
     "text": [
      "saving results\n",
      "Fitting dpgan model\n"
     ]
    },
    {
     "name": "stderr",
     "output_type": "stream",
     "text": [
      " 17%|█▋        | 349/2000 [00:30<02:22, 11.58it/s]\n"
     ]
    },
    {
     "name": "stdout",
     "output_type": "stream",
     "text": [
      "Generating dpgan synthetic dataset\n"
     ]
    },
    {
     "name": "stderr",
     "output_type": "stream",
     "text": [
      "[2024-05-14T23:53:30.443031+0000][130783][CRITICAL] load failed: module 'synthcity.plugins.generic.plugin_goggle' has no attribute 'plugin'\n",
      "[2024-05-14T23:53:30.444040+0000][130783][CRITICAL] load failed: module 'synthcity.plugins.generic.plugin_goggle' has no attribute 'plugin'\n",
      "[2024-05-14T23:53:30.444502+0000][130783][CRITICAL] module plugin_goggle load failed\n"
     ]
    },
    {
     "name": "stdout",
     "output_type": "stream",
     "text": [
      "Fitting dpgan covariate model\n"
     ]
    },
    {
     "name": "stderr",
     "output_type": "stream",
     "text": [
      " 20%|█▉        | 399/2000 [00:31<02:08, 12.47it/s]\n"
     ]
    },
    {
     "name": "stdout",
     "output_type": "stream",
     "text": [
      "Generating dpgan synthetic covariates\n",
      "Fitting propensity model\n",
      "Generating propensities\n",
      "Fitting private CATE learner\n",
      "Generating POs\n"
     ]
    },
    {
     "name": "stderr",
     "output_type": "stream",
     "text": [
      "[2024-05-14T23:55:14.173042+0000][130783][CRITICAL] load failed: module 'synthcity.plugins.generic.plugin_goggle' has no attribute 'plugin'\n",
      "[2024-05-14T23:55:14.173807+0000][130783][CRITICAL] load failed: module 'synthcity.plugins.generic.plugin_goggle' has no attribute 'plugin'\n",
      "[2024-05-14T23:55:14.174400+0000][130783][CRITICAL] module plugin_goggle load failed\n"
     ]
    },
    {
     "name": "stdout",
     "output_type": "stream",
     "text": [
      "saving results\n",
      "Fitting dpgan model\n"
     ]
    },
    {
     "name": "stderr",
     "output_type": "stream",
     "text": [
      " 25%|██▍       | 499/2000 [00:43<02:10, 11.54it/s]\n"
     ]
    },
    {
     "name": "stdout",
     "output_type": "stream",
     "text": [
      "Generating dpgan synthetic dataset\n"
     ]
    },
    {
     "name": "stderr",
     "output_type": "stream",
     "text": [
      "Bad pipe message: %s [b'\"_k\\xa4\\x15\\x0e\\x1f\\x07l\\xf8\\xe2\\xf2\\xcc\\xbfd\\x91\\xdfb hW\\xe0\\xc2\\xbd\\xf4\\x9f8\\x13W\\xf2\\xc7\\xca\\'\\xd1\\xb2MZ\\x9a\\x84\\xb7\\xa8I\\x18t\\x98\\x1d\\xf6^\\x9d\\x0cs\\x00\\x08\\x13\\x02\\x13\\x03\\x13\\x01\\x00\\xff\\x01\\x00\\x00\\x8f\\x00\\x00\\x00\\x0e\\x00\\x0c\\x00\\x00\\t127.0.0.1\\x00\\x0b\\x00\\x04\\x03\\x00\\x01\\x02\\x00\\n\\x00\\x0c\\x00\\n\\x00\\x1d\\x00\\x17\\x00\\x1e\\x00\\x19\\x00\\x18\\x00#\\x00\\x00\\x00\\x16\\x00\\x00\\x00\\x17\\x00\\x00\\x00\\r\\x00\\x1e\\x00\\x1c\\x04\\x03\\x05\\x03\\x06\\x03\\x08\\x07\\x08\\x08\\x08\\t\\x08\\n\\x08\\x0b\\x08\\x04\\x08\\x05\\x08\\x06\\x04\\x01\\x05\\x01\\x06\\x01\\x00+\\x00\\x03\\x02', b'\\x00-']\n",
      "Bad pipe message: %s [b'\\xc6\\xd0q9\\x15']\n",
      "Bad pipe message: %s [b\"k\\xf69\\xf4\\x1f\\x93\\x08\\x83~\\x87!\\xd4B\\xb5\\xdc\\x9cz'\\x00\\x00\\xa6\\xc0,\\xc00\\x00\\xa3\\x00\\x9f\\xcc\\xa9\\xcc\\xa8\\xcc\\xaa\\xc0\\xaf\\xc0\\xad\\xc0\\xa3\\xc0\\x9f\\xc0]\\xc0a\\xc0W\\xc0S\\xc0+\\xc0/\\x00\\xa2\\x00\\x9e\\xc0\\xae\\xc0\\xac\\xc0\\xa2\\xc0\\x9e\", b\"\\xc0`\\xc0V\\xc0R\\xc0$\\xc0(\\x00k\\x00j\\xc0s\\xc0w\\x00\\xc4\\x00\\xc3\\xc0#\\xc0'\\x00g\\x00@\\xc0r\\xc0v\\x00\\xbe\\x00\\xbd\\xc0\\n\\xc0\\x14\\x009\\x008\\x00\\x88\\x00\\x87\\xc0\\t\\xc0\\x13\\x003\\x002\\x00\\x9a\\x00\\x99\\x00E\\x00D\\xc0\\x07\\xc0\\x11\\xc0\\x08\\xc0\\x12\\x00\\x16\\x00\\x13\\x00\\x9d\\xc0\\xa1\\xc0\\x9d\\xc0Q\\x00\\x9c\\xc0\\xa0\\xc0\\x9c\\xc0P\\x00=\\x00\\xc0\\x00<\\x00\\xba\\x005\\x00\\x84\\x00/\\x00\\x96\\x00A\\x00\\x05\\x00\\n\\x00\\xff\\x01\\x00\\x00j\\x00\\x00\\x00\\x0e\\x00\\x0c\\x00\\x00\\t127.0.0.1\\x00\\x0b\\x00\\x04\\x03\\x00\\x01\\x02\\x00\\n\\x00\\x0c\\x00\\n\\x00\\x1d\\x00\\x17\\x00\\x1e\\x00\\x19\\x00\\x18\\x00#\\x00\\x00\\x00\\x16\\x00\\x00\\x00\\x17\\x00\\x00\\x00\\r\\x000\\x00.\\x04\\x03\\x05\\x03\\x06\\x03\\x08\\x07\\x08\"]\n",
      "Bad pipe message: %s [b'\\t\\x08\\n\\x08\\x0b\\x08\\x04']\n",
      "Bad pipe message: %s [b'\\x08\\x06\\x04\\x01\\x05\\x01\\x06', b'', b'\\x03\\x03']\n",
      "Bad pipe message: %s [b'']\n",
      "Bad pipe message: %s [b'\\x1b\\xbd\\xdb\\xbfk\\x05\\xcbVQ/\\x01~\\x08\\\\\\xf64\\xe9\\x1c\\x00\\x00', b'\\x14\\xc0\\n\\x009\\x008\\x007\\x006\\xc0\\x0f\\xc0\\x05\\x005\\xc0\\x13\\xc0\\t\\x003\\x002\\x001\\x000\\xc0\\x0e\\xc0\\x04\\x00/\\x00\\x9a\\x00\\x99\\x00\\x98\\x00\\x97\\x00\\x96\\x00\\x07\\xc0\\x11\\xc0\\x07\\xc0\\x0c\\xc0\\x02\\x00\\x05\\x00\\x04\\x00\\xff']\n",
      "Bad pipe message: %s [b'', b'\\x02']\n",
      "Bad pipe message: %s [b'Z\\xd4V%\\x96\\xb3\\x957\\x01Ihe\\n\\x0b\\xc8k\\xf7\\xce\\x00\\x00\\xa2\\xc0\\x14\\xc0\\n\\x009\\x008\\x007\\x006\\x00\\x88\\x00\\x87\\x00\\x86\\x00\\x85\\xc0\\x19\\x00:\\x00\\x89\\xc0\\x0f\\xc0\\x05\\x005\\x00\\x84\\xc0\\x13\\xc0\\t\\x003\\x002\\x001\\x000\\x00\\x9a\\x00\\x99\\x00\\x98\\x00\\x97\\x00E\\x00D\\x00C\\x00B\\xc0\\x18\\x004\\x00\\x9b\\x00F\\xc0\\x0e\\xc0\\x04\\x00/\\x00\\x96\\x00A\\x00\\x07\\xc0\\x11\\xc0\\x07\\xc0\\x16\\x00\\x18\\xc0\\x0c\\xc0\\x02\\x00\\x05\\x00\\x04\\xc0\\x12\\xc0\\x08\\x00\\x16\\x00\\x13\\x00\\x10\\x00\\r\\xc0\\x17\\x00\\x1b\\xc0\\r\\xc0\\x03\\x00\\n\\x00\\x15\\x00', b'\\x0f\\x00\\x0c\\x00\\x1a\\x00\\t\\x00\\x14\\x00\\x11\\x00\\x19\\x00\\x08\\x00\\x06']\n",
      "Bad pipe message: %s [b'\\x05\\x02\\x06']\n",
      "Bad pipe message: %s [b'\\x90\\xdbY\\xd4\\x16z\\xf9:@n\\xd4\\xbcHZL?\\x9f/\\x00\\x00>\\xc0\\x14\\xc0\\n\\x009\\x008\\x007\\x006\\xc0\\x0f\\xc0\\x05\\x005\\xc0\\x13\\xc0\\t\\x003\\x002\\x001\\x000\\xc0\\x0e\\xc0\\x04\\x00/']\n",
      "Bad pipe message: %s [b'\\x1a\\x9f\\x89W\\xf4\\x8c\\x87\\xdb\\xeb\\xe4l\\xe56;k\\x8fC\\xf1\\x00\\x00\\xa2\\xc0\\x14\\xc0\\n\\x009\\x008\\x007\\x006\\x00\\x88\\x00\\x87\\x00\\x86\\x00\\x85\\xc0\\x19\\x00:\\x00\\x89\\xc0\\x0f\\xc0\\x05\\x00', b'\\x84\\xc0\\x13\\xc0\\t\\x003\\x002\\x001\\x000\\x00\\x9a\\x00\\x99\\x00\\x98\\x00\\x97\\x00E\\x00D\\x00C\\x00B\\xc0\\x18\\x004\\x00\\x9b\\x00F\\xc0\\x0e\\xc0\\x04\\x00/\\x00\\x96\\x00A\\x00\\x07\\xc0\\x11\\xc0']\n",
      "Bad pipe message: %s [b'\\x16\\x00\\x18\\xc0\\x0c\\xc0']\n",
      "Bad pipe message: %s [b'\\x05']\n",
      "Bad pipe message: %s [b'\\x8c\\xd4\\xe6\\xf3\\xfdB\\xcdz\\x0b\\xfa\\xdcU\\xe1D\\xe9\\x89^\\xae\\x00\\x00>\\xc0\\x14\\xc0\\n\\x009\\x008\\x007\\x006\\xc0\\x0f\\xc0\\x05\\x005\\xc0\\x13\\xc0\\t\\x003\\x002\\x001\\x000\\xc0\\x0e\\xc0\\x04\\x00/\\x00\\x9a\\x00\\x99\\x00\\x98\\x00\\x97\\x00\\x96\\x00\\x07\\xc0\\x11\\xc0\\x07\\xc0\\x0c\\xc0\\x02\\x00\\x05\\x00\\x04\\x00\\xff\\x02']\n",
      "Bad pipe message: %s [b'']\n",
      "Bad pipe message: %s [b\"\\r{\\x03':\\x07\\xa2\\x06\\xcb\\xed\\xbc\\xd6\\xd38>\\xb3@n\\x00\\x00\\x86\\xc00\\xc0,\\xc0(\", b\"\\xc0\\x14\\xc0\\n\\x00\\xa5\\x00\\xa3\\x00\\xa1\\x00\\x9f\\x00k\\x00j\\x00i\\x00h\\x009\\x008\\x007\\x006\\xc02\\xc0.\\xc0*\\xc0&\\xc0\\x0f\\xc0\\x05\\x00\\x9d\\x00=\\x005\\xc0/\\xc0+\\xc0'\\xc0#\\xc0\\x13\\xc0\\t\\x00\\xa4\\x00\\xa2\\x00\\xa0\\x00\\x9e\\x00g\\x00@\\x00?\\x00>\\x003\\x002\\x001\\x000\\xc01\\xc0-\\xc0)\\xc0%\\xc0\\x0e\\xc0\\x04\\x00\\x9c\\x00<\\x00/\\x00\\x9a\\x00\\x99\\x00\\x98\\x00\\x97\\x00\\x96\\x00\\x07\\xc0\\x11\\xc0\\x07\\xc0\\x0c\\xc0\\x02\\x00\\x05\\x00\\x04\\x00\\xff\\x02\\x01\\x00\\x00g\\x00\\x00\\x00\\x0e\\x00\\x0c\\x00\\x00\\t127.0.0.1\\x00\\x0b\\x00\\x04\\x03\\x00\\x01\\x02\\x00\\n\\x00\\x1c\\x00\\x1a\\x00\\x17\\x00\\x19\\x00\\x1c\\x00\\x1b\\x00\\x18\\x00\\x1a\\x00\\x16\\x00\\x0e\\x00\\r\\x00\\x0b\\x00\\x0c\\x00\\t\\x00\\n\\x00#\"]\n",
      "Bad pipe message: %s [b\"\\x14z\\xa6;\\xd4\\xf7\\x0c\\xd2x\\x8f\\t\\xd2\\xfeK\\xfcBs\\x84\\x00\\x00\\xf4\\xc00\\xc0,\\xc0(\\xc0$\\xc0\\x14\\xc0\\n\\x00\\xa5\\x00\\xa3\\x00\\xa1\\x00\\x9f\\x00k\\x00j\\x00i\\x00h\\x009\\x008\\x007\\x006\\x00\\x88\\x00\\x87\\x00\\x86\\x00\\x85\\xc0\\x19\\x00\\xa7\\x00m\\x00:\\x00\\x89\\xc02\\xc0.\\xc0*\\xc0&\\xc0\\x0f\\xc0\\x05\\x00\\x9d\\x00=\\x005\\x00\\x84\\xc0/\\xc0+\\xc0'\\xc0#\\xc0\\x13\\xc0\\t\\x00\\xa4\\x00\\xa2\\x00\\xa0\\x00\\x9e\\x00g\\x00@\\x00?\\x00>\\x003\\x002\\x001\\x000\\x00\\x9a\\x00\\x99\\x00\\x98\\x00\\x97\\x00E\\x00D\\x00C\\x00B\\xc0\\x18\\x00\\xa6\\x00l\\x004\\x00\\x9b\\x00F\\xc01\\xc0-\\xc0)\\xc0%\\xc0\\x0e\\xc0\\x04\\x00\\x9c\\x00<\\x00/\\x00\\x96\\x00A\\x00\\x07\\xc0\\x11\\xc0\\x07\\xc0\\x16\\x00\\x18\\xc0\\x0c\\xc0\\x02\\x00\\x05\\x00\\x04\\xc0\\x12\\xc0\\x08\\x00\\x16\\x00\\x13\\x00\\x10\\x00\\r\"]\n",
      "[2024-05-14T23:56:56.370559+0000][130783][CRITICAL] load failed: module 'synthcity.plugins.generic.plugin_goggle' has no attribute 'plugin'\n",
      "[2024-05-14T23:56:56.371636+0000][130783][CRITICAL] load failed: module 'synthcity.plugins.generic.plugin_goggle' has no attribute 'plugin'\n",
      "[2024-05-14T23:56:56.371979+0000][130783][CRITICAL] module plugin_goggle load failed\n"
     ]
    },
    {
     "name": "stdout",
     "output_type": "stream",
     "text": [
      "Fitting dpgan covariate model\n"
     ]
    },
    {
     "name": "stderr",
     "output_type": "stream",
     "text": [
      "  0%|          | 0/2000 [00:00<?, ?it/s]\n"
     ]
    },
    {
     "ename": "RuntimeError",
     "evalue": "Mismatch in shape: grad_output[0] has a shape of torch.Size([1]) and output[0] has a shape of torch.Size([]).",
     "output_type": "error",
     "traceback": [
      "\u001b[0;31m---------------------------------------------------------------------------\u001b[0m",
      "\u001b[0;31mRuntimeError\u001b[0m                              Traceback (most recent call last)",
      "Cell \u001b[0;32mIn[284], line 1\u001b[0m\n\u001b[0;32m----> 1\u001b[0m test_2 \u001b[38;5;241m=\u001b[39m \u001b[43mprivacy_comparison\u001b[49m\u001b[43m(\u001b[49m\u001b[43mnormalized_jobs\u001b[49m\u001b[43m,\u001b[49m\u001b[43m \u001b[49m\u001b[38;5;124;43m'\u001b[39;49m\u001b[38;5;124;43mdpgan\u001b[39;49m\u001b[38;5;124;43m'\u001b[39;49m\u001b[43m,\u001b[49m\u001b[43m \u001b[49m\u001b[38;5;124;43m'\u001b[39;49m\u001b[38;5;124;43mtraining\u001b[39;49m\u001b[38;5;124;43m'\u001b[39;49m\u001b[43m,\u001b[49m\u001b[43m \u001b[49m\u001b[38;5;124;43m'\u001b[39;49m\u001b[38;5;124;43mre78\u001b[39;49m\u001b[38;5;124;43m'\u001b[39;49m\u001b[43m,\u001b[49m\u001b[43m \u001b[49m\u001b[43mdelta\u001b[49m\u001b[43m \u001b[49m\u001b[38;5;241;43m=\u001b[39;49m\u001b[43m \u001b[49m\u001b[38;5;241;43m1e-3\u001b[39;49m\u001b[43m,\u001b[49m\u001b[43m \u001b[49m\u001b[43mepsilons\u001b[49m\u001b[43m \u001b[49m\u001b[38;5;241;43m=\u001b[39;49m\u001b[43m \u001b[49m\u001b[43m[\u001b[49m\u001b[38;5;241;43m50\u001b[39;49m\u001b[43m]\u001b[49m\u001b[43m,\u001b[49m\u001b[43m \u001b[49m\u001b[43mn_iter\u001b[49m\u001b[43m \u001b[49m\u001b[38;5;241;43m=\u001b[39;49m\u001b[43m \u001b[49m\u001b[38;5;241;43m10\u001b[39;49m\u001b[43m,\u001b[49m\u001b[43m \u001b[49m\u001b[43msave\u001b[49m\u001b[38;5;241;43m=\u001b[39;49m\u001b[38;5;28;43;01mTrue\u001b[39;49;00m\u001b[43m,\u001b[49m\u001b[43m \u001b[49m\u001b[43mfp\u001b[49m\u001b[43m \u001b[49m\u001b[38;5;241;43m=\u001b[39;49m\u001b[38;5;124;43m'\u001b[39;49m\u001b[38;5;124;43mjobs_privacy_dpgan_normalized_100.csv\u001b[39;49m\u001b[38;5;124;43m'\u001b[39;49m\u001b[43m)\u001b[49m\n",
      "Cell \u001b[0;32mIn[153], line 11\u001b[0m, in \u001b[0;36mprivacy_comparison\u001b[0;34m(real, gen, treatment_col, outcome_col, delta, epsilons, n_iter, save, fp)\u001b[0m\n\u001b[1;32m      6\u001b[0m synth \u001b[38;5;241m=\u001b[39m generate_standard(real, gen, private\u001b[38;5;241m=\u001b[39m\u001b[38;5;28;01mTrue\u001b[39;00m, epsilon\u001b[38;5;241m=\u001b[39mepsilon, delta\u001b[38;5;241m=\u001b[39mdelta)\n\u001b[1;32m      8\u001b[0m results\u001b[38;5;241m.\u001b[39mloc[\u001b[38;5;28mlen\u001b[39m(results)] \u001b[38;5;241m=\u001b[39m [\u001b[38;5;124m'\u001b[39m\u001b[38;5;124mstandard\u001b[39m\u001b[38;5;124m'\u001b[39m, epsilon, evaluate_f(real, synth, treatment_col, outcome_col), evaluate_c(real, synth, treatment_col, outcome_col), \n\u001b[1;32m      9\u001b[0m                          evaluate_d(real, synth, treatment_col, outcome_col), evaluate_average_u_pehe(real, synth, treatment_col, outcome_col, n_units)]\n\u001b[0;32m---> 11\u001b[0m synth_seq \u001b[38;5;241m=\u001b[39m \u001b[43mgenerate_sequentially\u001b[49m\u001b[43m(\u001b[49m\u001b[43mreal\u001b[49m\u001b[43m,\u001b[49m\u001b[43m \u001b[49m\u001b[43mgen\u001b[49m\u001b[43m,\u001b[49m\u001b[43m \u001b[49m\u001b[43mtreatment_col\u001b[49m\u001b[43m,\u001b[49m\u001b[43m \u001b[49m\u001b[43moutcome_col\u001b[49m\u001b[43m,\u001b[49m\u001b[43m \u001b[49m\u001b[43mprivate\u001b[49m\u001b[38;5;241;43m=\u001b[39;49m\u001b[38;5;28;43;01mTrue\u001b[39;49;00m\u001b[43m,\u001b[49m\u001b[43m \u001b[49m\u001b[43mepsilon\u001b[49m\u001b[43m \u001b[49m\u001b[38;5;241;43m=\u001b[39;49m\u001b[43m \u001b[49m\u001b[43mepsilon\u001b[49m\u001b[38;5;241;43m/\u001b[39;49m\u001b[38;5;241;43m3\u001b[39;49m\u001b[43m,\u001b[49m\u001b[43m \u001b[49m\u001b[43mdelta\u001b[49m\u001b[38;5;241;43m=\u001b[39;49m\u001b[43mdelta\u001b[49m\u001b[38;5;241;43m/\u001b[39;49m\u001b[38;5;241;43m3\u001b[39;49m\u001b[43m)\u001b[49m\n\u001b[1;32m     13\u001b[0m results\u001b[38;5;241m.\u001b[39mloc[\u001b[38;5;28mlen\u001b[39m(results)] \u001b[38;5;241m=\u001b[39m [\u001b[38;5;124m'\u001b[39m\u001b[38;5;124msequential\u001b[39m\u001b[38;5;124m'\u001b[39m, epsilon, evaluate_f(real, synth_seq, treatment_col, outcome_col), evaluate_c(real, synth_seq, treatment_col, outcome_col), \n\u001b[1;32m     14\u001b[0m                          evaluate_d(real, synth_seq, treatment_col, outcome_col), evaluate_average_u_pehe(real, synth_seq, treatment_col, outcome_col, n_units)]\n\u001b[1;32m     16\u001b[0m \u001b[38;5;28;01mif\u001b[39;00m save:\n",
      "Cell \u001b[0;32mIn[34], line 3\u001b[0m, in \u001b[0;36mgenerate_sequentially\u001b[0;34m(real, gen, treatment_col, outcome_col, encode, private, epsilon, delta)\u001b[0m\n\u001b[1;32m      1\u001b[0m \u001b[38;5;28;01mdef\u001b[39;00m \u001b[38;5;21mgenerate_sequentially\u001b[39m(real, gen, treatment_col, outcome_col, encode\u001b[38;5;241m=\u001b[39m\u001b[38;5;28;01mFalse\u001b[39;00m, private\u001b[38;5;241m=\u001b[39m\u001b[38;5;28;01mFalse\u001b[39;00m, epsilon\u001b[38;5;241m=\u001b[39m\u001b[38;5;28;01mNone\u001b[39;00m, delta\u001b[38;5;241m=\u001b[39m\u001b[38;5;28;01mNone\u001b[39;00m):\n\u001b[1;32m      2\u001b[0m     random\u001b[38;5;241m.\u001b[39mseed()\n\u001b[0;32m----> 3\u001b[0m     synth \u001b[38;5;241m=\u001b[39m \u001b[43mgenerate_sequentially_to_w\u001b[49m\u001b[43m(\u001b[49m\u001b[43mreal\u001b[49m\u001b[43m,\u001b[49m\u001b[43m \u001b[49m\u001b[43mgen\u001b[49m\u001b[43m,\u001b[49m\u001b[43m \u001b[49m\u001b[43mtreatment_col\u001b[49m\u001b[43m,\u001b[49m\u001b[43m \u001b[49m\u001b[43moutcome_col\u001b[49m\u001b[43m,\u001b[49m\u001b[43m \u001b[49m\u001b[43mencode\u001b[49m\u001b[38;5;241;43m=\u001b[39;49m\u001b[43mencode\u001b[49m\u001b[43m,\u001b[49m\u001b[43m \u001b[49m\u001b[43mprivate\u001b[49m\u001b[38;5;241;43m=\u001b[39;49m\u001b[43mprivate\u001b[49m\u001b[43m,\u001b[49m\u001b[43m \u001b[49m\u001b[43mepsilon\u001b[49m\u001b[38;5;241;43m=\u001b[39;49m\u001b[43mepsilon\u001b[49m\u001b[43m,\u001b[49m\u001b[43m \u001b[49m\u001b[43mdelta\u001b[49m\u001b[38;5;241;43m=\u001b[39;49m\u001b[43mdelta\u001b[49m\u001b[43m)\u001b[49m\n\u001b[1;32m      5\u001b[0m     X \u001b[38;5;241m=\u001b[39m np\u001b[38;5;241m.\u001b[39marray(real\u001b[38;5;241m.\u001b[39mdrop([treatment_col, outcome_col], axis\u001b[38;5;241m=\u001b[39m\u001b[38;5;241m1\u001b[39m))\n\u001b[1;32m      6\u001b[0m     y \u001b[38;5;241m=\u001b[39m np\u001b[38;5;241m.\u001b[39marray(real[outcome_col])\n",
      "Cell \u001b[0;32mIn[23], line 11\u001b[0m, in \u001b[0;36mgenerate_sequentially_to_w\u001b[0;34m(real, gen, treatment_col, outcome_col, encode, private, epsilon, delta)\u001b[0m\n\u001b[1;32m      9\u001b[0m real_cov \u001b[38;5;241m=\u001b[39m real\u001b[38;5;241m.\u001b[39mdrop([treatment_col, outcome_col], axis\u001b[38;5;241m=\u001b[39m\u001b[38;5;241m1\u001b[39m)\n\u001b[1;32m     10\u001b[0m \u001b[38;5;28mprint\u001b[39m(\u001b[38;5;124mf\u001b[39m\u001b[38;5;124m'\u001b[39m\u001b[38;5;124mFitting \u001b[39m\u001b[38;5;132;01m{\u001b[39;00mgen\u001b[38;5;132;01m}\u001b[39;00m\u001b[38;5;124m covariate model\u001b[39m\u001b[38;5;124m'\u001b[39m)\n\u001b[0;32m---> 11\u001b[0m \u001b[43mg\u001b[49m\u001b[38;5;241;43m.\u001b[39;49m\u001b[43mfit\u001b[49m\u001b[43m(\u001b[49m\u001b[43mreal_cov\u001b[49m\u001b[43m)\u001b[49m\n\u001b[1;32m     12\u001b[0m \u001b[38;5;28mprint\u001b[39m(\u001b[38;5;124mf\u001b[39m\u001b[38;5;124m'\u001b[39m\u001b[38;5;124mGenerating \u001b[39m\u001b[38;5;132;01m{\u001b[39;00mgen\u001b[38;5;132;01m}\u001b[39;00m\u001b[38;5;124m synthetic covariates\u001b[39m\u001b[38;5;124m'\u001b[39m)\n\u001b[1;32m     13\u001b[0m synth_cov \u001b[38;5;241m=\u001b[39m g\u001b[38;5;241m.\u001b[39mgenerate(count \u001b[38;5;241m=\u001b[39m \u001b[38;5;28mlen\u001b[39m(real))\u001b[38;5;241m.\u001b[39mdataframe()\n",
      "File \u001b[0;32m/anaconda/envs/azureml_py310_sdkv2/lib/python3.10/site-packages/pydantic/decorator.py:40\u001b[0m, in \u001b[0;36mpydantic.decorator.validate_arguments.validate.wrapper_function\u001b[0;34m()\u001b[0m\n",
      "File \u001b[0;32m/anaconda/envs/azureml_py310_sdkv2/lib/python3.10/site-packages/pydantic/decorator.py:134\u001b[0m, in \u001b[0;36mpydantic.decorator.ValidatedFunction.call\u001b[0;34m()\u001b[0m\n",
      "File \u001b[0;32m/anaconda/envs/azureml_py310_sdkv2/lib/python3.10/site-packages/pydantic/decorator.py:206\u001b[0m, in \u001b[0;36mpydantic.decorator.ValidatedFunction.execute\u001b[0;34m()\u001b[0m\n",
      "File \u001b[0;32m/anaconda/envs/azureml_py310_sdkv2/lib/python3.10/site-packages/synthcity/plugins/core/plugin.py:256\u001b[0m, in \u001b[0;36mPlugin.fit\u001b[0;34m(self, X, *args, **kwargs)\u001b[0m\n\u001b[1;32m    248\u001b[0m         X, \u001b[38;5;28mself\u001b[39m\u001b[38;5;241m.\u001b[39mcompress_context \u001b[38;5;241m=\u001b[39m load_from_file(bkp_file)\n\u001b[1;32m    250\u001b[0m \u001b[38;5;28mself\u001b[39m\u001b[38;5;241m.\u001b[39m_training_schema \u001b[38;5;241m=\u001b[39m Schema(\n\u001b[1;32m    251\u001b[0m     data\u001b[38;5;241m=\u001b[39mX,\n\u001b[1;32m    252\u001b[0m     sampling_strategy\u001b[38;5;241m=\u001b[39m\u001b[38;5;28mself\u001b[39m\u001b[38;5;241m.\u001b[39msampling_strategy,\n\u001b[1;32m    253\u001b[0m     random_state\u001b[38;5;241m=\u001b[39m\u001b[38;5;28mself\u001b[39m\u001b[38;5;241m.\u001b[39mrandom_state,\n\u001b[1;32m    254\u001b[0m )\n\u001b[0;32m--> 256\u001b[0m output \u001b[38;5;241m=\u001b[39m \u001b[38;5;28;43mself\u001b[39;49m\u001b[38;5;241;43m.\u001b[39;49m\u001b[43m_fit\u001b[49m\u001b[43m(\u001b[49m\u001b[43mX\u001b[49m\u001b[43m,\u001b[49m\u001b[43m \u001b[49m\u001b[38;5;241;43m*\u001b[39;49m\u001b[43margs\u001b[49m\u001b[43m,\u001b[49m\u001b[43m \u001b[49m\u001b[38;5;241;43m*\u001b[39;49m\u001b[38;5;241;43m*\u001b[39;49m\u001b[43mkwargs\u001b[49m\u001b[43m)\u001b[49m\n\u001b[1;32m    257\u001b[0m \u001b[38;5;28mself\u001b[39m\u001b[38;5;241m.\u001b[39mfitted \u001b[38;5;241m=\u001b[39m \u001b[38;5;28;01mTrue\u001b[39;00m\n\u001b[1;32m    259\u001b[0m \u001b[38;5;28;01mreturn\u001b[39;00m output\n",
      "File \u001b[0;32m/anaconda/envs/azureml_py310_sdkv2/lib/python3.10/site-packages/synthcity/plugins/privacy/plugin_dpgan.py:287\u001b[0m, in \u001b[0;36mDPGANPlugin._fit\u001b[0;34m(self, X, *args, **kwargs)\u001b[0m\n\u001b[1;32m    240\u001b[0m     cond \u001b[38;5;241m=\u001b[39m kwargs[\u001b[38;5;124m\"\u001b[39m\u001b[38;5;124mcond\u001b[39m\u001b[38;5;124m\"\u001b[39m]\n\u001b[1;32m    242\u001b[0m \u001b[38;5;28mself\u001b[39m\u001b[38;5;241m.\u001b[39mmodel \u001b[38;5;241m=\u001b[39m TabularGAN(\n\u001b[1;32m    243\u001b[0m     X\u001b[38;5;241m.\u001b[39mdataframe(),\n\u001b[1;32m    244\u001b[0m     cond\u001b[38;5;241m=\u001b[39mcond,\n\u001b[0;32m   (...)\u001b[0m\n\u001b[1;32m    285\u001b[0m     n_iter_print\u001b[38;5;241m=\u001b[39m\u001b[38;5;28mself\u001b[39m\u001b[38;5;241m.\u001b[39mn_iter_print,\n\u001b[1;32m    286\u001b[0m )\n\u001b[0;32m--> 287\u001b[0m \u001b[38;5;28;43mself\u001b[39;49m\u001b[38;5;241;43m.\u001b[39;49m\u001b[43mmodel\u001b[49m\u001b[38;5;241;43m.\u001b[39;49m\u001b[43mfit\u001b[49m\u001b[43m(\u001b[49m\u001b[43mX\u001b[49m\u001b[38;5;241;43m.\u001b[39;49m\u001b[43mdataframe\u001b[49m\u001b[43m(\u001b[49m\u001b[43m)\u001b[49m\u001b[43m,\u001b[49m\u001b[43m \u001b[49m\u001b[43mcond\u001b[49m\u001b[38;5;241;43m=\u001b[39;49m\u001b[43mcond\u001b[49m\u001b[43m)\u001b[49m\n\u001b[1;32m    289\u001b[0m \u001b[38;5;28;01mreturn\u001b[39;00m \u001b[38;5;28mself\u001b[39m\n",
      "File \u001b[0;32m/anaconda/envs/azureml_py310_sdkv2/lib/python3.10/site-packages/pydantic/decorator.py:40\u001b[0m, in \u001b[0;36mpydantic.decorator.validate_arguments.validate.wrapper_function\u001b[0;34m()\u001b[0m\n",
      "File \u001b[0;32m/anaconda/envs/azureml_py310_sdkv2/lib/python3.10/site-packages/pydantic/decorator.py:134\u001b[0m, in \u001b[0;36mpydantic.decorator.ValidatedFunction.call\u001b[0;34m()\u001b[0m\n",
      "File \u001b[0;32m/anaconda/envs/azureml_py310_sdkv2/lib/python3.10/site-packages/pydantic/decorator.py:206\u001b[0m, in \u001b[0;36mpydantic.decorator.ValidatedFunction.execute\u001b[0;34m()\u001b[0m\n",
      "File \u001b[0;32m/anaconda/envs/azureml_py310_sdkv2/lib/python3.10/site-packages/synthcity/plugins/core/models/tabular_gan.py:358\u001b[0m, in \u001b[0;36mTabularGAN.fit\u001b[0;34m(self, X, cond, fake_labels_generator, true_labels_generator, encoded)\u001b[0m\n\u001b[1;32m    353\u001b[0m         \u001b[38;5;28;01mraise\u001b[39;00m \u001b[38;5;167;01mValueError\u001b[39;00m(\n\u001b[1;32m    354\u001b[0m             \u001b[38;5;124mf\u001b[39m\u001b[38;5;124m\"\u001b[39m\u001b[38;5;124mInvalid conditional shape. \u001b[39m\u001b[38;5;132;01m{\u001b[39;00mcond\u001b[38;5;241m.\u001b[39mshape\u001b[38;5;132;01m}\u001b[39;00m\u001b[38;5;124m expected \u001b[39m\u001b[38;5;132;01m{\u001b[39;00m\u001b[38;5;28mlen\u001b[39m(X_enc)\u001b[38;5;132;01m}\u001b[39;00m\u001b[38;5;124m\"\u001b[39m\n\u001b[1;32m    355\u001b[0m         )\n\u001b[1;32m    357\u001b[0m \u001b[38;5;66;03m# training\u001b[39;00m\n\u001b[0;32m--> 358\u001b[0m \u001b[38;5;28;43mself\u001b[39;49m\u001b[38;5;241;43m.\u001b[39;49m\u001b[43mmodel\u001b[49m\u001b[38;5;241;43m.\u001b[39;49m\u001b[43mfit\u001b[49m\u001b[43m(\u001b[49m\n\u001b[1;32m    359\u001b[0m \u001b[43m    \u001b[49m\u001b[43mnp\u001b[49m\u001b[38;5;241;43m.\u001b[39;49m\u001b[43masarray\u001b[49m\u001b[43m(\u001b[49m\u001b[43mX_enc\u001b[49m\u001b[43m)\u001b[49m\u001b[43m,\u001b[49m\n\u001b[1;32m    360\u001b[0m \u001b[43m    \u001b[49m\u001b[43mnp\u001b[49m\u001b[38;5;241;43m.\u001b[39;49m\u001b[43masarray\u001b[49m\u001b[43m(\u001b[49m\u001b[43mcond\u001b[49m\u001b[43m)\u001b[49m\u001b[43m,\u001b[49m\n\u001b[1;32m    361\u001b[0m \u001b[43m    \u001b[49m\u001b[43mfake_labels_generator\u001b[49m\u001b[38;5;241;43m=\u001b[39;49m\u001b[43mfake_labels_generator\u001b[49m\u001b[43m,\u001b[49m\n\u001b[1;32m    362\u001b[0m \u001b[43m    \u001b[49m\u001b[43mtrue_labels_generator\u001b[49m\u001b[38;5;241;43m=\u001b[39;49m\u001b[43mtrue_labels_generator\u001b[49m\u001b[43m,\u001b[49m\n\u001b[1;32m    363\u001b[0m \u001b[43m\u001b[49m\u001b[43m)\u001b[49m\n\u001b[1;32m    365\u001b[0m \u001b[38;5;66;03m# post processing\u001b[39;00m\n\u001b[1;32m    366\u001b[0m \u001b[38;5;28mself\u001b[39m\u001b[38;5;241m.\u001b[39madjust_inference_sampling(\u001b[38;5;28mself\u001b[39m\u001b[38;5;241m.\u001b[39m_adjust_inference_sampling)\n",
      "File \u001b[0;32m/anaconda/envs/azureml_py310_sdkv2/lib/python3.10/site-packages/synthcity/plugins/core/models/gan.py:278\u001b[0m, in \u001b[0;36mGAN.fit\u001b[0;34m(self, X, cond, fake_labels_generator, true_labels_generator)\u001b[0m\n\u001b[1;32m    272\u001b[0m         \u001b[38;5;28;01mraise\u001b[39;00m \u001b[38;5;167;01mValueError\u001b[39;00m(\n\u001b[1;32m    273\u001b[0m             \u001b[38;5;124m\"\u001b[39m\u001b[38;5;124mExpecting conditional with the same length as the dataset\u001b[39m\u001b[38;5;124m\"\u001b[39m\n\u001b[1;32m    274\u001b[0m         )\n\u001b[1;32m    276\u001b[0m     condt \u001b[38;5;241m=\u001b[39m \u001b[38;5;28mself\u001b[39m\u001b[38;5;241m.\u001b[39m_check_tensor(cond)\n\u001b[0;32m--> 278\u001b[0m \u001b[38;5;28;43mself\u001b[39;49m\u001b[38;5;241;43m.\u001b[39;49m\u001b[43m_train\u001b[49m\u001b[43m(\u001b[49m\n\u001b[1;32m    279\u001b[0m \u001b[43m    \u001b[49m\u001b[43mXt\u001b[49m\u001b[43m,\u001b[49m\n\u001b[1;32m    280\u001b[0m \u001b[43m    \u001b[49m\u001b[43mcondt\u001b[49m\u001b[43m,\u001b[49m\n\u001b[1;32m    281\u001b[0m \u001b[43m    \u001b[49m\u001b[43mfake_labels_generator\u001b[49m\u001b[38;5;241;43m=\u001b[39;49m\u001b[43mfake_labels_generator\u001b[49m\u001b[43m,\u001b[49m\n\u001b[1;32m    282\u001b[0m \u001b[43m    \u001b[49m\u001b[43mtrue_labels_generator\u001b[49m\u001b[38;5;241;43m=\u001b[39;49m\u001b[43mtrue_labels_generator\u001b[49m\u001b[43m,\u001b[49m\n\u001b[1;32m    283\u001b[0m \u001b[43m\u001b[49m\u001b[43m)\u001b[49m\n\u001b[1;32m    285\u001b[0m \u001b[38;5;28;01mreturn\u001b[39;00m \u001b[38;5;28mself\u001b[39m\n",
      "File \u001b[0;32m/anaconda/envs/azureml_py310_sdkv2/lib/python3.10/site-packages/synthcity/plugins/core/models/gan.py:616\u001b[0m, in \u001b[0;36mGAN._train\u001b[0;34m(self, X, cond, fake_labels_generator, true_labels_generator)\u001b[0m\n\u001b[1;32m    613\u001b[0m best_state_dict \u001b[38;5;241m=\u001b[39m \u001b[38;5;28;01mNone\u001b[39;00m\n\u001b[1;32m    615\u001b[0m \u001b[38;5;28;01mfor\u001b[39;00m i \u001b[38;5;129;01min\u001b[39;00m tqdm(\u001b[38;5;28mrange\u001b[39m(\u001b[38;5;28mself\u001b[39m\u001b[38;5;241m.\u001b[39mgenerator_n_iter)):\n\u001b[0;32m--> 616\u001b[0m     g_loss, d_loss \u001b[38;5;241m=\u001b[39m \u001b[38;5;28;43mself\u001b[39;49m\u001b[38;5;241;43m.\u001b[39;49m\u001b[43m_train_epoch\u001b[49m\u001b[43m(\u001b[49m\n\u001b[1;32m    617\u001b[0m \u001b[43m        \u001b[49m\u001b[43mloader\u001b[49m\u001b[43m,\u001b[49m\n\u001b[1;32m    618\u001b[0m \u001b[43m        \u001b[49m\u001b[43mfake_labels_generator\u001b[49m\u001b[38;5;241;43m=\u001b[39;49m\u001b[43mfake_labels_generator\u001b[49m\u001b[43m,\u001b[49m\n\u001b[1;32m    619\u001b[0m \u001b[43m        \u001b[49m\u001b[43mtrue_labels_generator\u001b[49m\u001b[38;5;241;43m=\u001b[39;49m\u001b[43mtrue_labels_generator\u001b[49m\u001b[43m,\u001b[49m\n\u001b[1;32m    620\u001b[0m \u001b[43m    \u001b[49m\u001b[43m)\u001b[49m\n\u001b[1;32m    621\u001b[0m     \u001b[38;5;66;03m# Check how the generator is doing by saving G's output on fixed_noise\u001b[39;00m\n\u001b[1;32m    622\u001b[0m     \u001b[38;5;28;01mif\u001b[39;00m (i \u001b[38;5;241m+\u001b[39m \u001b[38;5;241m1\u001b[39m) \u001b[38;5;241m%\u001b[39m \u001b[38;5;28mself\u001b[39m\u001b[38;5;241m.\u001b[39mn_iter_print \u001b[38;5;241m==\u001b[39m \u001b[38;5;241m0\u001b[39m:\n",
      "File \u001b[0;32m/anaconda/envs/azureml_py310_sdkv2/lib/python3.10/site-packages/synthcity/plugins/core/models/gan.py:493\u001b[0m, in \u001b[0;36mGAN._train_epoch\u001b[0;34m(self, loader, fake_labels_generator, true_labels_generator)\u001b[0m\n\u001b[1;32m    489\u001b[0m     \u001b[38;5;28;01melse\u001b[39;00m:\n\u001b[1;32m    490\u001b[0m         X \u001b[38;5;241m=\u001b[39m data[\u001b[38;5;241m0\u001b[39m]\n\u001b[1;32m    492\u001b[0m     D_losses\u001b[38;5;241m.\u001b[39mappend(\n\u001b[0;32m--> 493\u001b[0m         \u001b[38;5;28;43mself\u001b[39;49m\u001b[38;5;241;43m.\u001b[39;49m\u001b[43m_train_epoch_discriminator\u001b[49m\u001b[43m(\u001b[49m\n\u001b[1;32m    494\u001b[0m \u001b[43m            \u001b[49m\u001b[43mX\u001b[49m\u001b[43m,\u001b[49m\n\u001b[1;32m    495\u001b[0m \u001b[43m            \u001b[49m\u001b[43mcond\u001b[49m\u001b[43m,\u001b[49m\n\u001b[1;32m    496\u001b[0m \u001b[43m            \u001b[49m\u001b[43mfake_labels_generator\u001b[49m\u001b[38;5;241;43m=\u001b[39;49m\u001b[43mfake_labels_generator\u001b[49m\u001b[43m,\u001b[49m\n\u001b[1;32m    497\u001b[0m \u001b[43m            \u001b[49m\u001b[43mtrue_labels_generator\u001b[49m\u001b[38;5;241;43m=\u001b[39;49m\u001b[43mtrue_labels_generator\u001b[49m\u001b[43m,\u001b[49m\n\u001b[1;32m    498\u001b[0m \u001b[43m        \u001b[49m\u001b[43m)\u001b[49m\n\u001b[1;32m    499\u001b[0m     )\n\u001b[1;32m    500\u001b[0m     G_losses\u001b[38;5;241m.\u001b[39mappend(\n\u001b[1;32m    501\u001b[0m         \u001b[38;5;28mself\u001b[39m\u001b[38;5;241m.\u001b[39m_train_epoch_generator(\n\u001b[1;32m    502\u001b[0m             X,\n\u001b[0;32m   (...)\u001b[0m\n\u001b[1;32m    506\u001b[0m         )\n\u001b[1;32m    507\u001b[0m     )\n\u001b[1;32m    509\u001b[0m \u001b[38;5;28;01mreturn\u001b[39;00m np\u001b[38;5;241m.\u001b[39mmean(G_losses), np\u001b[38;5;241m.\u001b[39mmean(D_losses)\n",
      "File \u001b[0;32m/anaconda/envs/azureml_py310_sdkv2/lib/python3.10/site-packages/synthcity/plugins/core/models/gan.py:433\u001b[0m, in \u001b[0;36mGAN._train_epoch_discriminator\u001b[0;34m(self, X, cond, fake_labels_generator, true_labels_generator)\u001b[0m\n\u001b[1;32m    430\u001b[0m fake_fake_output \u001b[38;5;241m=\u001b[39m fake_output[((\u001b[38;5;241m1\u001b[39m \u001b[38;5;241m-\u001b[39m fake_labels) \u001b[38;5;241m*\u001b[39m fake_output) \u001b[38;5;241m!=\u001b[39m \u001b[38;5;241m0\u001b[39m]\n\u001b[1;32m    431\u001b[0m errD_fake \u001b[38;5;241m=\u001b[39m torch\u001b[38;5;241m.\u001b[39mmean(torch\u001b[38;5;241m.\u001b[39mconcat((fake_real_output, fake_fake_output)))\n\u001b[0;32m--> 433\u001b[0m penalty \u001b[38;5;241m=\u001b[39m \u001b[38;5;28;43mself\u001b[39;49m\u001b[38;5;241;43m.\u001b[39;49m\u001b[43m_loss_gradient_penalty\u001b[49m\u001b[43m(\u001b[49m\n\u001b[1;32m    434\u001b[0m \u001b[43m    \u001b[49m\u001b[43mreal_samples\u001b[49m\u001b[38;5;241;43m=\u001b[39;49m\u001b[43mreal_X\u001b[49m\u001b[43m,\u001b[49m\n\u001b[1;32m    435\u001b[0m \u001b[43m    \u001b[49m\u001b[43mfake_samples\u001b[49m\u001b[38;5;241;43m=\u001b[39;49m\u001b[43mfake\u001b[49m\u001b[43m,\u001b[49m\n\u001b[1;32m    436\u001b[0m \u001b[43m    \u001b[49m\u001b[43mbatch_size\u001b[49m\u001b[38;5;241;43m=\u001b[39;49m\u001b[43mbatch_size\u001b[49m\u001b[43m,\u001b[49m\n\u001b[1;32m    437\u001b[0m \u001b[43m\u001b[49m\u001b[43m)\u001b[49m\n\u001b[1;32m    438\u001b[0m errD \u001b[38;5;241m=\u001b[39m \u001b[38;5;241m-\u001b[39merrD_real \u001b[38;5;241m+\u001b[39m errD_fake\n\u001b[1;32m    440\u001b[0m \u001b[38;5;28mself\u001b[39m\u001b[38;5;241m.\u001b[39mdiscriminator\u001b[38;5;241m.\u001b[39moptimizer\u001b[38;5;241m.\u001b[39mzero_grad()\n",
      "File \u001b[0;32m/anaconda/envs/azureml_py310_sdkv2/lib/python3.10/site-packages/synthcity/plugins/core/models/gan.py:689\u001b[0m, in \u001b[0;36mGAN._loss_gradient_penalty\u001b[0;34m(self, real_samples, fake_samples, batch_size)\u001b[0m\n\u001b[1;32m    686\u001b[0m labels \u001b[38;5;241m=\u001b[39m torch\u001b[38;5;241m.\u001b[39mones((\u001b[38;5;28mlen\u001b[39m(interpolated),), device\u001b[38;5;241m=\u001b[39m\u001b[38;5;28mself\u001b[39m\u001b[38;5;241m.\u001b[39mdevice)\n\u001b[1;32m    688\u001b[0m \u001b[38;5;66;03m# Get gradient w.r.t. interpolates\u001b[39;00m\n\u001b[0;32m--> 689\u001b[0m gradients \u001b[38;5;241m=\u001b[39m \u001b[43mtorch\u001b[49m\u001b[38;5;241;43m.\u001b[39;49m\u001b[43mautograd\u001b[49m\u001b[38;5;241;43m.\u001b[39;49m\u001b[43mgrad\u001b[49m\u001b[43m(\u001b[49m\n\u001b[1;32m    690\u001b[0m \u001b[43m    \u001b[49m\u001b[43moutputs\u001b[49m\u001b[38;5;241;43m=\u001b[39;49m\u001b[43md_interpolated\u001b[49m\u001b[43m,\u001b[49m\n\u001b[1;32m    691\u001b[0m \u001b[43m    \u001b[49m\u001b[43minputs\u001b[49m\u001b[38;5;241;43m=\u001b[39;49m\u001b[43minterpolated\u001b[49m\u001b[43m,\u001b[49m\n\u001b[1;32m    692\u001b[0m \u001b[43m    \u001b[49m\u001b[43mgrad_outputs\u001b[49m\u001b[38;5;241;43m=\u001b[39;49m\u001b[43mlabels\u001b[49m\u001b[43m,\u001b[49m\n\u001b[1;32m    693\u001b[0m \u001b[43m    \u001b[49m\u001b[43mcreate_graph\u001b[49m\u001b[38;5;241;43m=\u001b[39;49m\u001b[38;5;28;43;01mTrue\u001b[39;49;00m\u001b[43m,\u001b[49m\n\u001b[1;32m    694\u001b[0m \u001b[43m    \u001b[49m\u001b[43mretain_graph\u001b[49m\u001b[38;5;241;43m=\u001b[39;49m\u001b[38;5;28;43;01mTrue\u001b[39;49;00m\u001b[43m,\u001b[49m\n\u001b[1;32m    695\u001b[0m \u001b[43m    \u001b[49m\u001b[43monly_inputs\u001b[49m\u001b[38;5;241;43m=\u001b[39;49m\u001b[38;5;28;43;01mTrue\u001b[39;49;00m\u001b[43m,\u001b[49m\n\u001b[1;32m    696\u001b[0m \u001b[43m    \u001b[49m\u001b[43mallow_unused\u001b[49m\u001b[38;5;241;43m=\u001b[39;49m\u001b[38;5;28;43;01mTrue\u001b[39;49;00m\u001b[43m,\u001b[49m\n\u001b[1;32m    697\u001b[0m \u001b[43m\u001b[49m\u001b[43m)\u001b[49m[\u001b[38;5;241m0\u001b[39m]\n\u001b[1;32m    698\u001b[0m gradients \u001b[38;5;241m=\u001b[39m gradients\u001b[38;5;241m.\u001b[39mview(gradients\u001b[38;5;241m.\u001b[39msize(\u001b[38;5;241m0\u001b[39m), \u001b[38;5;241m-\u001b[39m\u001b[38;5;241m1\u001b[39m)\n\u001b[1;32m    699\u001b[0m gradient_penalty \u001b[38;5;241m=\u001b[39m ((gradients\u001b[38;5;241m.\u001b[39mnorm(\u001b[38;5;241m2\u001b[39m, dim\u001b[38;5;241m=\u001b[39m\u001b[38;5;241m-\u001b[39m\u001b[38;5;241m1\u001b[39m) \u001b[38;5;241m-\u001b[39m \u001b[38;5;241m1\u001b[39m) \u001b[38;5;241m*\u001b[39m\u001b[38;5;241m*\u001b[39m \u001b[38;5;241m2\u001b[39m)\u001b[38;5;241m.\u001b[39mmean()\n",
      "File \u001b[0;32m/anaconda/envs/azureml_py310_sdkv2/lib/python3.10/site-packages/torch/autograd/__init__.py:285\u001b[0m, in \u001b[0;36mgrad\u001b[0;34m(outputs, inputs, grad_outputs, retain_graph, create_graph, only_inputs, allow_unused, is_grads_batched)\u001b[0m\n\u001b[1;32m    280\u001b[0m     warnings\u001b[38;5;241m.\u001b[39mwarn(\u001b[38;5;124m\"\u001b[39m\u001b[38;5;124monly_inputs argument is deprecated and is ignored now \u001b[39m\u001b[38;5;124m\"\u001b[39m\n\u001b[1;32m    281\u001b[0m                   \u001b[38;5;124m\"\u001b[39m\u001b[38;5;124m(defaults to True). To accumulate gradient for other \u001b[39m\u001b[38;5;124m\"\u001b[39m\n\u001b[1;32m    282\u001b[0m                   \u001b[38;5;124m\"\u001b[39m\u001b[38;5;124mparts of the graph, please use torch.autograd.backward.\u001b[39m\u001b[38;5;124m\"\u001b[39m)\n\u001b[1;32m    284\u001b[0m grad_outputs_ \u001b[38;5;241m=\u001b[39m _tensor_or_tensors_to_tuple(grad_outputs, \u001b[38;5;28mlen\u001b[39m(t_outputs))\n\u001b[0;32m--> 285\u001b[0m grad_outputs_ \u001b[38;5;241m=\u001b[39m \u001b[43m_make_grads\u001b[49m\u001b[43m(\u001b[49m\u001b[43mt_outputs\u001b[49m\u001b[43m,\u001b[49m\u001b[43m \u001b[49m\u001b[43mgrad_outputs_\u001b[49m\u001b[43m,\u001b[49m\u001b[43m \u001b[49m\u001b[43mis_grads_batched\u001b[49m\u001b[38;5;241;43m=\u001b[39;49m\u001b[43mis_grads_batched\u001b[49m\u001b[43m)\u001b[49m\n\u001b[1;32m    287\u001b[0m \u001b[38;5;28;01mif\u001b[39;00m retain_graph \u001b[38;5;129;01mis\u001b[39;00m \u001b[38;5;28;01mNone\u001b[39;00m:\n\u001b[1;32m    288\u001b[0m     retain_graph \u001b[38;5;241m=\u001b[39m create_graph\n",
      "File \u001b[0;32m/anaconda/envs/azureml_py310_sdkv2/lib/python3.10/site-packages/torch/autograd/__init__.py:68\u001b[0m, in \u001b[0;36m_make_grads\u001b[0;34m(outputs, grads, is_grads_batched)\u001b[0m\n\u001b[1;32m     56\u001b[0m         \u001b[38;5;28;01mraise\u001b[39;00m \u001b[38;5;167;01mRuntimeError\u001b[39;00m(\u001b[38;5;124m\"\u001b[39m\u001b[38;5;124mIf `is_grads_batched=True`, we interpret the first \u001b[39m\u001b[38;5;124m\"\u001b[39m\n\u001b[1;32m     57\u001b[0m                            \u001b[38;5;124m\"\u001b[39m\u001b[38;5;124mdimension of each grad_output as the batch dimension. \u001b[39m\u001b[38;5;124m\"\u001b[39m\n\u001b[1;32m     58\u001b[0m                            \u001b[38;5;124m\"\u001b[39m\u001b[38;5;124mThe sizes of the remaining dimensions are expected to match \u001b[39m\u001b[38;5;124m\"\u001b[39m\n\u001b[0;32m   (...)\u001b[0m\n\u001b[1;32m     65\u001b[0m                            \u001b[38;5;124m\"\u001b[39m\u001b[38;5;124mIf you only want some tensors in `grad_output` to be considered \u001b[39m\u001b[38;5;124m\"\u001b[39m\n\u001b[1;32m     66\u001b[0m                            \u001b[38;5;124m\"\u001b[39m\u001b[38;5;124mbatched, consider using vmap.\u001b[39m\u001b[38;5;124m\"\u001b[39m)\n\u001b[1;32m     67\u001b[0m     \u001b[38;5;28;01melse\u001b[39;00m:\n\u001b[0;32m---> 68\u001b[0m         \u001b[38;5;28;01mraise\u001b[39;00m \u001b[38;5;167;01mRuntimeError\u001b[39;00m(\u001b[38;5;124m\"\u001b[39m\u001b[38;5;124mMismatch in shape: grad_output[\u001b[39m\u001b[38;5;124m\"\u001b[39m\n\u001b[1;32m     69\u001b[0m                            \u001b[38;5;241m+\u001b[39m \u001b[38;5;28mstr\u001b[39m(grads\u001b[38;5;241m.\u001b[39mindex(grad)) \u001b[38;5;241m+\u001b[39m \u001b[38;5;124m\"\u001b[39m\u001b[38;5;124m] has a shape of \u001b[39m\u001b[38;5;124m\"\u001b[39m\n\u001b[1;32m     70\u001b[0m                            \u001b[38;5;241m+\u001b[39m \u001b[38;5;28mstr\u001b[39m(grad_shape) \u001b[38;5;241m+\u001b[39m \u001b[38;5;124m\"\u001b[39m\u001b[38;5;124m and output[\u001b[39m\u001b[38;5;124m\"\u001b[39m\n\u001b[1;32m     71\u001b[0m                            \u001b[38;5;241m+\u001b[39m \u001b[38;5;28mstr\u001b[39m(outputs\u001b[38;5;241m.\u001b[39mindex(out)) \u001b[38;5;241m+\u001b[39m \u001b[38;5;124m\"\u001b[39m\u001b[38;5;124m] has a shape of \u001b[39m\u001b[38;5;124m\"\u001b[39m\n\u001b[1;32m     72\u001b[0m                            \u001b[38;5;241m+\u001b[39m \u001b[38;5;28mstr\u001b[39m(out_shape) \u001b[38;5;241m+\u001b[39m \u001b[38;5;124m\"\u001b[39m\u001b[38;5;124m.\u001b[39m\u001b[38;5;124m\"\u001b[39m)\n\u001b[1;32m     73\u001b[0m \u001b[38;5;28;01mif\u001b[39;00m out\u001b[38;5;241m.\u001b[39mdtype\u001b[38;5;241m.\u001b[39mis_complex \u001b[38;5;241m!=\u001b[39m grad\u001b[38;5;241m.\u001b[39mdtype\u001b[38;5;241m.\u001b[39mis_complex:\n\u001b[1;32m     74\u001b[0m     \u001b[38;5;28;01mraise\u001b[39;00m \u001b[38;5;167;01mRuntimeError\u001b[39;00m(\u001b[38;5;124m\"\u001b[39m\u001b[38;5;124mFor complex Tensors, both grad_output and output\u001b[39m\u001b[38;5;124m\"\u001b[39m\n\u001b[1;32m     75\u001b[0m                        \u001b[38;5;124m\"\u001b[39m\u001b[38;5;124m are required to have the same dtype.\u001b[39m\u001b[38;5;124m\"\u001b[39m\n\u001b[1;32m     76\u001b[0m                        \u001b[38;5;124m\"\u001b[39m\u001b[38;5;124m Mismatch in dtype: grad_output[\u001b[39m\u001b[38;5;124m\"\u001b[39m\n\u001b[0;32m   (...)\u001b[0m\n\u001b[1;32m     79\u001b[0m                        \u001b[38;5;241m+\u001b[39m \u001b[38;5;28mstr\u001b[39m(outputs\u001b[38;5;241m.\u001b[39mindex(out)) \u001b[38;5;241m+\u001b[39m \u001b[38;5;124m\"\u001b[39m\u001b[38;5;124m] has a dtype of \u001b[39m\u001b[38;5;124m\"\u001b[39m\n\u001b[1;32m     80\u001b[0m                        \u001b[38;5;241m+\u001b[39m \u001b[38;5;28mstr\u001b[39m(out\u001b[38;5;241m.\u001b[39mdtype) \u001b[38;5;241m+\u001b[39m \u001b[38;5;124m\"\u001b[39m\u001b[38;5;124m.\u001b[39m\u001b[38;5;124m\"\u001b[39m)\n",
      "\u001b[0;31mRuntimeError\u001b[0m: Mismatch in shape: grad_output[0] has a shape of torch.Size([1]) and output[0] has a shape of torch.Size([])."
     ]
    }
   ],
   "source": [
    "test_2 = privacy_comparison(normalized_jobs, 'dpgan', 'training', 're78', delta = 1e-3, epsilons = [50], n_iter = 10, save=True, fp ='jobs_privacy_dpgan_normalized_100.csv')"
   ]
  },
  {
   "cell_type": "code",
   "execution_count": 277,
   "id": "6b31f154",
   "metadata": {},
   "outputs": [
    {
     "name": "stderr",
     "output_type": "stream",
     "text": [
      "[2024-05-14T12:21:31.114264+0000][130783][CRITICAL] load failed: module 'synthcity.plugins.generic.plugin_goggle' has no attribute 'plugin'\n",
      "[2024-05-14T12:21:31.115572+0000][130783][CRITICAL] load failed: module 'synthcity.plugins.generic.plugin_goggle' has no attribute 'plugin'\n",
      "[2024-05-14T12:21:31.116002+0000][130783][CRITICAL] module plugin_goggle load failed\n"
     ]
    },
    {
     "name": "stdout",
     "output_type": "stream",
     "text": [
      "Fitting dpgan model\n"
     ]
    },
    {
     "name": "stderr",
     "output_type": "stream",
     "text": [
      " 25%|██▍       | 499/2000 [00:40<02:00, 12.46it/s]\n"
     ]
    },
    {
     "name": "stdout",
     "output_type": "stream",
     "text": [
      "Generating dpgan synthetic dataset\n"
     ]
    },
    {
     "name": "stderr",
     "output_type": "stream",
     "text": [
      "[2024-05-14T12:22:42.613998+0000][130783][CRITICAL] load failed: module 'synthcity.plugins.generic.plugin_goggle' has no attribute 'plugin'\n",
      "[2024-05-14T12:22:42.615367+0000][130783][CRITICAL] load failed: module 'synthcity.plugins.generic.plugin_goggle' has no attribute 'plugin'\n",
      "[2024-05-14T12:22:42.615738+0000][130783][CRITICAL] module plugin_goggle load failed\n"
     ]
    },
    {
     "name": "stdout",
     "output_type": "stream",
     "text": [
      "Fitting dpgan covariate model\n"
     ]
    },
    {
     "name": "stderr",
     "output_type": "stream",
     "text": [
      " 25%|██▍       | 499/2000 [00:38<01:54, 13.07it/s]\n"
     ]
    },
    {
     "name": "stdout",
     "output_type": "stream",
     "text": [
      "Generating dpgan synthetic covariates\n",
      "Fitting propensity model\n",
      "Generating propensities\n",
      "Fitting private CATE learner\n",
      "Generating POs\n"
     ]
    },
    {
     "name": "stderr",
     "output_type": "stream",
     "text": [
      "[2024-05-14T12:24:09.461483+0000][130783][CRITICAL] load failed: module 'synthcity.plugins.generic.plugin_goggle' has no attribute 'plugin'\n",
      "[2024-05-14T12:24:09.462354+0000][130783][CRITICAL] load failed: module 'synthcity.plugins.generic.plugin_goggle' has no attribute 'plugin'\n",
      "[2024-05-14T12:24:09.462834+0000][130783][CRITICAL] module plugin_goggle load failed\n"
     ]
    },
    {
     "name": "stdout",
     "output_type": "stream",
     "text": [
      "saving results\n",
      "Fitting dpgan model\n"
     ]
    },
    {
     "name": "stderr",
     "output_type": "stream",
     "text": [
      " 35%|███▍      | 699/2000 [00:56<01:44, 12.39it/s]\n"
     ]
    },
    {
     "name": "stdout",
     "output_type": "stream",
     "text": [
      "Generating dpgan synthetic dataset\n"
     ]
    },
    {
     "name": "stderr",
     "output_type": "stream",
     "text": [
      "[2024-05-14T12:25:43.682863+0000][130783][CRITICAL] load failed: module 'synthcity.plugins.generic.plugin_goggle' has no attribute 'plugin'\n",
      "[2024-05-14T12:25:43.684107+0000][130783][CRITICAL] load failed: module 'synthcity.plugins.generic.plugin_goggle' has no attribute 'plugin'\n",
      "[2024-05-14T12:25:43.684500+0000][130783][CRITICAL] module plugin_goggle load failed\n"
     ]
    },
    {
     "name": "stdout",
     "output_type": "stream",
     "text": [
      "Fitting dpgan covariate model\n"
     ]
    },
    {
     "name": "stderr",
     "output_type": "stream",
     "text": [
      " 17%|█▋        | 349/2000 [00:26<02:05, 13.16it/s]\n"
     ]
    },
    {
     "name": "stdout",
     "output_type": "stream",
     "text": [
      "Generating dpgan synthetic covariates\n",
      "Fitting propensity model\n",
      "Generating propensities\n",
      "Fitting private CATE learner\n",
      "Generating POs\n"
     ]
    },
    {
     "name": "stderr",
     "output_type": "stream",
     "text": [
      "[2024-05-14T12:26:59.364283+0000][130783][CRITICAL] load failed: module 'synthcity.plugins.generic.plugin_goggle' has no attribute 'plugin'\n",
      "[2024-05-14T12:26:59.365035+0000][130783][CRITICAL] load failed: module 'synthcity.plugins.generic.plugin_goggle' has no attribute 'plugin'\n",
      "[2024-05-14T12:26:59.365446+0000][130783][CRITICAL] module plugin_goggle load failed\n"
     ]
    },
    {
     "name": "stdout",
     "output_type": "stream",
     "text": [
      "saving results\n",
      "Fitting dpgan model\n"
     ]
    },
    {
     "name": "stderr",
     "output_type": "stream",
     "text": [
      " 32%|███▏      | 649/2000 [00:51<01:47, 12.52it/s]\n"
     ]
    },
    {
     "name": "stdout",
     "output_type": "stream",
     "text": [
      "Generating dpgan synthetic dataset\n"
     ]
    },
    {
     "name": "stderr",
     "output_type": "stream",
     "text": [
      "[2024-05-14T12:28:40.174611+0000][130783][CRITICAL] load failed: module 'synthcity.plugins.generic.plugin_goggle' has no attribute 'plugin'\n",
      "[2024-05-14T12:28:40.175623+0000][130783][CRITICAL] load failed: module 'synthcity.plugins.generic.plugin_goggle' has no attribute 'plugin'\n",
      "[2024-05-14T12:28:40.176110+0000][130783][CRITICAL] module plugin_goggle load failed\n"
     ]
    },
    {
     "name": "stdout",
     "output_type": "stream",
     "text": [
      "Fitting dpgan covariate model\n"
     ]
    },
    {
     "name": "stderr",
     "output_type": "stream",
     "text": [
      " 17%|█▋        | 349/2000 [00:27<02:10, 12.64it/s]\n"
     ]
    },
    {
     "name": "stdout",
     "output_type": "stream",
     "text": [
      "Generating dpgan synthetic covariates\n",
      "Fitting propensity model\n",
      "Generating propensities\n",
      "Fitting private CATE learner\n",
      "Generating POs\n"
     ]
    },
    {
     "name": "stderr",
     "output_type": "stream",
     "text": [
      "[2024-05-14T12:29:56.430598+0000][130783][CRITICAL] load failed: module 'synthcity.plugins.generic.plugin_goggle' has no attribute 'plugin'\n",
      "[2024-05-14T12:29:56.431381+0000][130783][CRITICAL] load failed: module 'synthcity.plugins.generic.plugin_goggle' has no attribute 'plugin'\n",
      "[2024-05-14T12:29:56.431772+0000][130783][CRITICAL] module plugin_goggle load failed\n"
     ]
    },
    {
     "name": "stdout",
     "output_type": "stream",
     "text": [
      "saving results\n",
      "Fitting dpgan model\n"
     ]
    },
    {
     "name": "stderr",
     "output_type": "stream",
     "text": [
      " 17%|█▋        | 349/2000 [00:28<02:12, 12.46it/s]\n"
     ]
    },
    {
     "name": "stdout",
     "output_type": "stream",
     "text": [
      "Generating dpgan synthetic dataset\n"
     ]
    },
    {
     "name": "stderr",
     "output_type": "stream",
     "text": [
      "[2024-05-14T12:30:59.898808+0000][130783][CRITICAL] load failed: module 'synthcity.plugins.generic.plugin_goggle' has no attribute 'plugin'\n",
      "[2024-05-14T12:30:59.900002+0000][130783][CRITICAL] load failed: module 'synthcity.plugins.generic.plugin_goggle' has no attribute 'plugin'\n",
      "[2024-05-14T12:30:59.900398+0000][130783][CRITICAL] module plugin_goggle load failed\n"
     ]
    },
    {
     "name": "stdout",
     "output_type": "stream",
     "text": [
      "Fitting dpgan covariate model\n"
     ]
    },
    {
     "name": "stderr",
     "output_type": "stream",
     "text": [
      " 20%|█▉        | 399/2000 [00:30<02:03, 12.99it/s]\n"
     ]
    },
    {
     "name": "stdout",
     "output_type": "stream",
     "text": [
      "Generating dpgan synthetic covariates\n",
      "Fitting propensity model\n",
      "Generating propensities\n",
      "Fitting private CATE learner\n",
      "Generating POs\n"
     ]
    },
    {
     "name": "stderr",
     "output_type": "stream",
     "text": [
      "[2024-05-14T12:32:22.676669+0000][130783][CRITICAL] load failed: module 'synthcity.plugins.generic.plugin_goggle' has no attribute 'plugin'\n",
      "[2024-05-14T12:32:22.677521+0000][130783][CRITICAL] load failed: module 'synthcity.plugins.generic.plugin_goggle' has no attribute 'plugin'\n",
      "[2024-05-14T12:32:22.677956+0000][130783][CRITICAL] module plugin_goggle load failed\n"
     ]
    },
    {
     "name": "stdout",
     "output_type": "stream",
     "text": [
      "saving results\n",
      "Fitting dpgan model\n"
     ]
    },
    {
     "name": "stderr",
     "output_type": "stream",
     "text": [
      " 15%|█▍        | 299/2000 [00:24<02:17, 12.37it/s]\n"
     ]
    },
    {
     "name": "stdout",
     "output_type": "stream",
     "text": [
      "Generating dpgan synthetic dataset\n"
     ]
    },
    {
     "name": "stderr",
     "output_type": "stream",
     "text": [
      "[2024-05-14T12:33:18.518686+0000][130783][CRITICAL] load failed: module 'synthcity.plugins.generic.plugin_goggle' has no attribute 'plugin'\n",
      "[2024-05-14T12:33:18.519706+0000][130783][CRITICAL] load failed: module 'synthcity.plugins.generic.plugin_goggle' has no attribute 'plugin'\n",
      "[2024-05-14T12:33:18.520047+0000][130783][CRITICAL] module plugin_goggle load failed\n"
     ]
    },
    {
     "name": "stdout",
     "output_type": "stream",
     "text": [
      "Fitting dpgan covariate model\n"
     ]
    },
    {
     "name": "stderr",
     "output_type": "stream",
     "text": [
      " 20%|█▉        | 399/2000 [00:30<02:03, 12.98it/s]\n"
     ]
    },
    {
     "name": "stdout",
     "output_type": "stream",
     "text": [
      "Generating dpgan synthetic covariates\n",
      "Fitting propensity model\n",
      "Generating propensities\n",
      "Fitting private CATE learner\n",
      "Generating POs\n"
     ]
    },
    {
     "name": "stderr",
     "output_type": "stream",
     "text": [
      "[2024-05-14T12:34:38.540197+0000][130783][CRITICAL] load failed: module 'synthcity.plugins.generic.plugin_goggle' has no attribute 'plugin'\n",
      "[2024-05-14T12:34:38.540938+0000][130783][CRITICAL] load failed: module 'synthcity.plugins.generic.plugin_goggle' has no attribute 'plugin'\n",
      "[2024-05-14T12:34:38.541313+0000][130783][CRITICAL] module plugin_goggle load failed\n"
     ]
    },
    {
     "name": "stdout",
     "output_type": "stream",
     "text": [
      "saving results\n",
      "Fitting dpgan model\n"
     ]
    },
    {
     "name": "stderr",
     "output_type": "stream",
     "text": [
      " 25%|██▍       | 499/2000 [00:40<02:01, 12.35it/s]\n"
     ]
    },
    {
     "name": "stdout",
     "output_type": "stream",
     "text": [
      "Generating dpgan synthetic dataset\n"
     ]
    },
    {
     "name": "stderr",
     "output_type": "stream",
     "text": [
      "[2024-05-14T12:36:04.645233+0000][130783][CRITICAL] load failed: module 'synthcity.plugins.generic.plugin_goggle' has no attribute 'plugin'\n",
      "[2024-05-14T12:36:04.646621+0000][130783][CRITICAL] load failed: module 'synthcity.plugins.generic.plugin_goggle' has no attribute 'plugin'\n",
      "[2024-05-14T12:36:04.647403+0000][130783][CRITICAL] module plugin_goggle load failed\n"
     ]
    },
    {
     "name": "stdout",
     "output_type": "stream",
     "text": [
      "Fitting dpgan covariate model\n"
     ]
    },
    {
     "name": "stderr",
     "output_type": "stream",
     "text": [
      " 27%|██▋       | 549/2000 [00:42<01:51, 12.99it/s]\n"
     ]
    },
    {
     "name": "stdout",
     "output_type": "stream",
     "text": [
      "Generating dpgan synthetic covariates\n",
      "Fitting propensity model\n",
      "Generating propensities\n",
      "Fitting private CATE learner\n",
      "Generating POs\n"
     ]
    },
    {
     "name": "stderr",
     "output_type": "stream",
     "text": [
      "[2024-05-14T12:37:33.616348+0000][130783][CRITICAL] load failed: module 'synthcity.plugins.generic.plugin_goggle' has no attribute 'plugin'\n",
      "[2024-05-14T12:37:33.617215+0000][130783][CRITICAL] load failed: module 'synthcity.plugins.generic.plugin_goggle' has no attribute 'plugin'\n",
      "[2024-05-14T12:37:33.617709+0000][130783][CRITICAL] module plugin_goggle load failed\n"
     ]
    },
    {
     "name": "stdout",
     "output_type": "stream",
     "text": [
      "saving results\n",
      "Fitting dpgan model\n"
     ]
    },
    {
     "name": "stderr",
     "output_type": "stream",
     "text": [
      " 20%|█▉        | 399/2000 [00:32<02:08, 12.46it/s]\n"
     ]
    },
    {
     "name": "stdout",
     "output_type": "stream",
     "text": [
      "Generating dpgan synthetic dataset\n"
     ]
    },
    {
     "name": "stderr",
     "output_type": "stream",
     "text": [
      "[2024-05-14T12:38:42.061274+0000][130783][CRITICAL] load failed: module 'synthcity.plugins.generic.plugin_goggle' has no attribute 'plugin'\n",
      "[2024-05-14T12:38:42.062646+0000][130783][CRITICAL] load failed: module 'synthcity.plugins.generic.plugin_goggle' has no attribute 'plugin'\n",
      "[2024-05-14T12:38:42.063170+0000][130783][CRITICAL] module plugin_goggle load failed\n"
     ]
    },
    {
     "name": "stdout",
     "output_type": "stream",
     "text": [
      "Fitting dpgan covariate model\n"
     ]
    },
    {
     "name": "stderr",
     "output_type": "stream",
     "text": [
      " 27%|██▋       | 549/2000 [00:43<01:55, 12.61it/s]\n"
     ]
    },
    {
     "name": "stdout",
     "output_type": "stream",
     "text": [
      "Generating dpgan synthetic covariates\n",
      "Fitting propensity model\n",
      "Generating propensities\n",
      "Fitting private CATE learner\n",
      "Generating POs\n"
     ]
    },
    {
     "name": "stderr",
     "output_type": "stream",
     "text": [
      "[2024-05-14T12:40:12.954854+0000][130783][CRITICAL] load failed: module 'synthcity.plugins.generic.plugin_goggle' has no attribute 'plugin'\n",
      "[2024-05-14T12:40:12.955472+0000][130783][CRITICAL] load failed: module 'synthcity.plugins.generic.plugin_goggle' has no attribute 'plugin'\n",
      "[2024-05-14T12:40:12.955901+0000][130783][CRITICAL] module plugin_goggle load failed\n"
     ]
    },
    {
     "name": "stdout",
     "output_type": "stream",
     "text": [
      "saving results\n",
      "Fitting dpgan model\n"
     ]
    },
    {
     "name": "stderr",
     "output_type": "stream",
     "text": [
      " 17%|█▋        | 349/2000 [00:27<02:12, 12.48it/s]\n"
     ]
    },
    {
     "name": "stdout",
     "output_type": "stream",
     "text": [
      "Generating dpgan synthetic dataset\n"
     ]
    },
    {
     "name": "stderr",
     "output_type": "stream",
     "text": [
      "[2024-05-14T12:41:27.543826+0000][130783][CRITICAL] load failed: module 'synthcity.plugins.generic.plugin_goggle' has no attribute 'plugin'\n",
      "[2024-05-14T12:41:27.544853+0000][130783][CRITICAL] load failed: module 'synthcity.plugins.generic.plugin_goggle' has no attribute 'plugin'\n",
      "[2024-05-14T12:41:27.545215+0000][130783][CRITICAL] module plugin_goggle load failed\n"
     ]
    },
    {
     "name": "stdout",
     "output_type": "stream",
     "text": [
      "Fitting dpgan covariate model\n"
     ]
    },
    {
     "name": "stderr",
     "output_type": "stream",
     "text": [
      " 17%|█▋        | 349/2000 [00:26<02:07, 12.97it/s]\n"
     ]
    },
    {
     "name": "stdout",
     "output_type": "stream",
     "text": [
      "Generating dpgan synthetic covariates\n",
      "Fitting propensity model\n",
      "Generating propensities\n",
      "Fitting private CATE learner\n",
      "Generating POs\n"
     ]
    },
    {
     "name": "stderr",
     "output_type": "stream",
     "text": [
      "[2024-05-14T12:42:44.090210+0000][130783][CRITICAL] load failed: module 'synthcity.plugins.generic.plugin_goggle' has no attribute 'plugin'\n",
      "[2024-05-14T12:42:44.090770+0000][130783][CRITICAL] load failed: module 'synthcity.plugins.generic.plugin_goggle' has no attribute 'plugin'\n",
      "[2024-05-14T12:42:44.091138+0000][130783][CRITICAL] module plugin_goggle load failed\n"
     ]
    },
    {
     "name": "stdout",
     "output_type": "stream",
     "text": [
      "saving results\n",
      "Fitting dpgan model\n"
     ]
    },
    {
     "name": "stderr",
     "output_type": "stream",
     "text": [
      " 45%|████▍     | 899/2000 [01:12<01:28, 12.42it/s]\n"
     ]
    },
    {
     "name": "stdout",
     "output_type": "stream",
     "text": [
      "Generating dpgan synthetic dataset\n"
     ]
    },
    {
     "name": "stderr",
     "output_type": "stream",
     "text": [
      "[2024-05-14T12:44:43.937966+0000][130783][CRITICAL] load failed: module 'synthcity.plugins.generic.plugin_goggle' has no attribute 'plugin'\n",
      "[2024-05-14T12:44:43.938631+0000][130783][CRITICAL] load failed: module 'synthcity.plugins.generic.plugin_goggle' has no attribute 'plugin'\n",
      "[2024-05-14T12:44:43.938975+0000][130783][CRITICAL] module plugin_goggle load failed\n"
     ]
    },
    {
     "name": "stdout",
     "output_type": "stream",
     "text": [
      "Fitting dpgan covariate model\n"
     ]
    },
    {
     "name": "stderr",
     "output_type": "stream",
     "text": [
      " 22%|██▏       | 449/2000 [00:34<01:59, 13.01it/s]\n"
     ]
    },
    {
     "name": "stdout",
     "output_type": "stream",
     "text": [
      "Generating dpgan synthetic covariates\n",
      "Fitting propensity model\n",
      "Generating propensities\n",
      "Fitting private CATE learner\n",
      "Generating POs\n"
     ]
    },
    {
     "name": "stderr",
     "output_type": "stream",
     "text": [
      "[2024-05-14T12:46:06.587769+0000][130783][CRITICAL] load failed: module 'synthcity.plugins.generic.plugin_goggle' has no attribute 'plugin'\n",
      "[2024-05-14T12:46:06.588348+0000][130783][CRITICAL] load failed: module 'synthcity.plugins.generic.plugin_goggle' has no attribute 'plugin'\n",
      "[2024-05-14T12:46:06.588724+0000][130783][CRITICAL] module plugin_goggle load failed\n"
     ]
    },
    {
     "name": "stdout",
     "output_type": "stream",
     "text": [
      "saving results\n",
      "Fitting dpgan model\n"
     ]
    },
    {
     "name": "stderr",
     "output_type": "stream",
     "text": [
      " 30%|██▉       | 599/2000 [00:47<01:52, 12.49it/s]\n"
     ]
    },
    {
     "name": "stdout",
     "output_type": "stream",
     "text": [
      "Generating dpgan synthetic dataset\n"
     ]
    },
    {
     "name": "stderr",
     "output_type": "stream",
     "text": [
      "[2024-05-14T12:47:26.924360+0000][130783][CRITICAL] load failed: module 'synthcity.plugins.generic.plugin_goggle' has no attribute 'plugin'\n",
      "[2024-05-14T12:47:26.925030+0000][130783][CRITICAL] load failed: module 'synthcity.plugins.generic.plugin_goggle' has no attribute 'plugin'\n",
      "[2024-05-14T12:47:26.925386+0000][130783][CRITICAL] module plugin_goggle load failed\n"
     ]
    },
    {
     "name": "stdout",
     "output_type": "stream",
     "text": [
      "Fitting dpgan covariate model\n"
     ]
    },
    {
     "name": "stderr",
     "output_type": "stream",
     "text": [
      " 17%|█▋        | 349/2000 [00:26<02:07, 13.00it/s]\n"
     ]
    },
    {
     "name": "stdout",
     "output_type": "stream",
     "text": [
      "Generating dpgan synthetic covariates\n",
      "Fitting propensity model\n",
      "Generating propensities\n",
      "Fitting private CATE learner\n",
      "Generating POs\n"
     ]
    },
    {
     "name": "stderr",
     "output_type": "stream",
     "text": [
      "[2024-05-14T12:48:42.733540+0000][130783][CRITICAL] load failed: module 'synthcity.plugins.generic.plugin_goggle' has no attribute 'plugin'\n",
      "[2024-05-14T12:48:42.734466+0000][130783][CRITICAL] load failed: module 'synthcity.plugins.generic.plugin_goggle' has no attribute 'plugin'\n",
      "[2024-05-14T12:48:42.734930+0000][130783][CRITICAL] module plugin_goggle load failed\n"
     ]
    },
    {
     "name": "stdout",
     "output_type": "stream",
     "text": [
      "saving results\n",
      "Fitting dpgan model\n"
     ]
    },
    {
     "name": "stderr",
     "output_type": "stream",
     "text": [
      " 20%|█▉        | 399/2000 [00:32<02:08, 12.42it/s]\n"
     ]
    },
    {
     "name": "stdout",
     "output_type": "stream",
     "text": [
      "Generating dpgan synthetic dataset\n"
     ]
    },
    {
     "name": "stderr",
     "output_type": "stream",
     "text": [
      "[2024-05-14T12:49:52.279155+0000][130783][CRITICAL] load failed: module 'synthcity.plugins.generic.plugin_goggle' has no attribute 'plugin'\n",
      "[2024-05-14T12:49:52.280389+0000][130783][CRITICAL] load failed: module 'synthcity.plugins.generic.plugin_goggle' has no attribute 'plugin'\n",
      "[2024-05-14T12:49:52.281034+0000][130783][CRITICAL] module plugin_goggle load failed\n"
     ]
    },
    {
     "name": "stdout",
     "output_type": "stream",
     "text": [
      "Fitting dpgan covariate model\n"
     ]
    },
    {
     "name": "stderr",
     "output_type": "stream",
     "text": [
      " 17%|█▋        | 349/2000 [00:27<02:08, 12.88it/s]\n"
     ]
    },
    {
     "name": "stdout",
     "output_type": "stream",
     "text": [
      "Generating dpgan synthetic covariates\n",
      "Fitting propensity model\n",
      "Generating propensities\n",
      "Fitting private CATE learner\n",
      "Generating POs\n"
     ]
    },
    {
     "name": "stderr",
     "output_type": "stream",
     "text": [
      "[2024-05-14T12:51:11.976489+0000][130783][CRITICAL] load failed: module 'synthcity.plugins.generic.plugin_goggle' has no attribute 'plugin'\n",
      "[2024-05-14T12:51:11.977424+0000][130783][CRITICAL] load failed: module 'synthcity.plugins.generic.plugin_goggle' has no attribute 'plugin'\n",
      "[2024-05-14T12:51:11.977946+0000][130783][CRITICAL] module plugin_goggle load failed\n"
     ]
    },
    {
     "name": "stdout",
     "output_type": "stream",
     "text": [
      "saving results\n",
      "Fitting dpgan model\n"
     ]
    },
    {
     "name": "stderr",
     "output_type": "stream",
     "text": [
      " 17%|█▋        | 349/2000 [00:28<02:16, 12.08it/s]\n"
     ]
    },
    {
     "name": "stdout",
     "output_type": "stream",
     "text": [
      "Generating dpgan synthetic dataset\n"
     ]
    },
    {
     "ename": "ValueError",
     "evalue": "Expected more than 1 value per channel when training, got input size torch.Size([1, 100])",
     "output_type": "error",
     "traceback": [
      "\u001b[0;31m---------------------------------------------------------------------------\u001b[0m",
      "\u001b[0;31mValueError\u001b[0m                                Traceback (most recent call last)",
      "Cell \u001b[0;32mIn[277], line 1\u001b[0m\n\u001b[0;32m----> 1\u001b[0m test \u001b[38;5;241m=\u001b[39m \u001b[43mprivacy_comparison\u001b[49m\u001b[43m(\u001b[49m\u001b[43mnormalized_jobs\u001b[49m\u001b[43m,\u001b[49m\u001b[43m \u001b[49m\u001b[38;5;124;43m'\u001b[39;49m\u001b[38;5;124;43mdpgan\u001b[39;49m\u001b[38;5;124;43m'\u001b[39;49m\u001b[43m,\u001b[49m\u001b[43m \u001b[49m\u001b[38;5;124;43m'\u001b[39;49m\u001b[38;5;124;43mtraining\u001b[39;49m\u001b[38;5;124;43m'\u001b[39;49m\u001b[43m,\u001b[49m\u001b[43m \u001b[49m\u001b[38;5;124;43m'\u001b[39;49m\u001b[38;5;124;43mre78\u001b[39;49m\u001b[38;5;124;43m'\u001b[39;49m\u001b[43m,\u001b[49m\u001b[43m \u001b[49m\u001b[43mdelta\u001b[49m\u001b[43m \u001b[49m\u001b[38;5;241;43m=\u001b[39;49m\u001b[43m \u001b[49m\u001b[38;5;241;43m1e-3\u001b[39;49m\u001b[43m,\u001b[49m\u001b[43m \u001b[49m\u001b[43mepsilons\u001b[49m\u001b[43m \u001b[49m\u001b[38;5;241;43m=\u001b[39;49m\u001b[43m \u001b[49m\u001b[43m[\u001b[49m\u001b[38;5;241;43m15\u001b[39;49m\u001b[43m,\u001b[49m\u001b[38;5;241;43m20\u001b[39;49m\u001b[43m]\u001b[49m\u001b[43m,\u001b[49m\u001b[43m \u001b[49m\u001b[43mn_iter\u001b[49m\u001b[43m \u001b[49m\u001b[38;5;241;43m=\u001b[39;49m\u001b[43m \u001b[49m\u001b[38;5;241;43m10\u001b[39;49m\u001b[43m,\u001b[49m\u001b[43m \u001b[49m\u001b[43msave\u001b[49m\u001b[38;5;241;43m=\u001b[39;49m\u001b[38;5;28;43;01mTrue\u001b[39;49;00m\u001b[43m,\u001b[49m\u001b[43m \u001b[49m\u001b[43mfp\u001b[49m\u001b[43m \u001b[49m\u001b[38;5;241;43m=\u001b[39;49m\u001b[38;5;124;43m'\u001b[39;49m\u001b[38;5;124;43mjobs_privacy_dpgan_normalized_2.csv\u001b[39;49m\u001b[38;5;124;43m'\u001b[39;49m\u001b[43m)\u001b[49m\n",
      "Cell \u001b[0;32mIn[153], line 9\u001b[0m, in \u001b[0;36mprivacy_comparison\u001b[0;34m(real, gen, treatment_col, outcome_col, delta, epsilons, n_iter, save, fp)\u001b[0m\n\u001b[1;32m      5\u001b[0m \u001b[38;5;28;01mfor\u001b[39;00m _ \u001b[38;5;129;01min\u001b[39;00m \u001b[38;5;28mrange\u001b[39m(n_iter):\n\u001b[1;32m      6\u001b[0m     synth \u001b[38;5;241m=\u001b[39m generate_standard(real, gen, private\u001b[38;5;241m=\u001b[39m\u001b[38;5;28;01mTrue\u001b[39;00m, epsilon\u001b[38;5;241m=\u001b[39mepsilon, delta\u001b[38;5;241m=\u001b[39mdelta)\n\u001b[1;32m      8\u001b[0m     results\u001b[38;5;241m.\u001b[39mloc[\u001b[38;5;28mlen\u001b[39m(results)] \u001b[38;5;241m=\u001b[39m [\u001b[38;5;124m'\u001b[39m\u001b[38;5;124mstandard\u001b[39m\u001b[38;5;124m'\u001b[39m, epsilon, evaluate_f(real, synth, treatment_col, outcome_col), evaluate_c(real, synth, treatment_col, outcome_col), \n\u001b[0;32m----> 9\u001b[0m                              evaluate_d(real, synth, treatment_col, outcome_col), \u001b[43mevaluate_average_u_pehe\u001b[49m\u001b[43m(\u001b[49m\u001b[43mreal\u001b[49m\u001b[43m,\u001b[49m\u001b[43m \u001b[49m\u001b[43msynth\u001b[49m\u001b[43m,\u001b[49m\u001b[43m \u001b[49m\u001b[43mtreatment_col\u001b[49m\u001b[43m,\u001b[49m\u001b[43m \u001b[49m\u001b[43moutcome_col\u001b[49m\u001b[43m,\u001b[49m\u001b[43m \u001b[49m\u001b[43mn_units\u001b[49m\u001b[43m)\u001b[49m]\n\u001b[1;32m     11\u001b[0m     synth_seq \u001b[38;5;241m=\u001b[39m generate_sequentially(real, gen, treatment_col, outcome_col, private\u001b[38;5;241m=\u001b[39m\u001b[38;5;28;01mTrue\u001b[39;00m, epsilon \u001b[38;5;241m=\u001b[39m epsilon\u001b[38;5;241m/\u001b[39m\u001b[38;5;241m3\u001b[39m, delta\u001b[38;5;241m=\u001b[39mdelta\u001b[38;5;241m/\u001b[39m\u001b[38;5;241m3\u001b[39m)\n\u001b[1;32m     13\u001b[0m     results\u001b[38;5;241m.\u001b[39mloc[\u001b[38;5;28mlen\u001b[39m(results)] \u001b[38;5;241m=\u001b[39m [\u001b[38;5;124m'\u001b[39m\u001b[38;5;124msequential\u001b[39m\u001b[38;5;124m'\u001b[39m, epsilon, evaluate_f(real, synth_seq, treatment_col, outcome_col), evaluate_c(real, synth_seq, treatment_col, outcome_col), \n\u001b[1;32m     14\u001b[0m                              evaluate_d(real, synth_seq, treatment_col, outcome_col), evaluate_average_u_pehe(real, synth_seq, treatment_col, outcome_col, n_units)]\n",
      "Cell \u001b[0;32mIn[20], line 27\u001b[0m, in \u001b[0;36mevaluate_average_u_pehe\u001b[0;34m(real, synth, treatment_col, outcome_col, n_units)\u001b[0m\n\u001b[1;32m     25\u001b[0m y_synth \u001b[38;5;241m=\u001b[39m np\u001b[38;5;241m.\u001b[39marray(synth[outcome_col])\n\u001b[1;32m     26\u001b[0m w_synth \u001b[38;5;241m=\u001b[39m np\u001b[38;5;241m.\u001b[39marray(synth[treatment_col])\n\u001b[0;32m---> 27\u001b[0m \u001b[43ml_synth\u001b[49m\u001b[38;5;241;43m.\u001b[39;49m\u001b[43mfit\u001b[49m\u001b[43m(\u001b[49m\u001b[43mX_synth\u001b[49m\u001b[43m,\u001b[49m\u001b[43m \u001b[49m\u001b[43my_synth\u001b[49m\u001b[43m,\u001b[49m\u001b[43m \u001b[49m\u001b[43mw_synth\u001b[49m\u001b[43m)\u001b[49m\n\u001b[1;32m     28\u001b[0m pred_synth \u001b[38;5;241m=\u001b[39m l_synth\u001b[38;5;241m.\u001b[39mpredict(X_t)\n\u001b[1;32m     30\u001b[0m pehe \u001b[38;5;241m=\u001b[39m mean_squared_error(pred_real\u001b[38;5;241m.\u001b[39mcpu()\u001b[38;5;241m.\u001b[39mdetach()\u001b[38;5;241m.\u001b[39mnumpy(), pred_synth\u001b[38;5;241m.\u001b[39mcpu()\u001b[38;5;241m.\u001b[39mdetach()\u001b[38;5;241m.\u001b[39mnumpy(), squared\u001b[38;5;241m=\u001b[39m\u001b[38;5;28;01mFalse\u001b[39;00m)\n",
      "File \u001b[0;32m/anaconda/envs/azureml_py310_sdkv2/lib/python3.10/site-packages/catenets/models/torch/tlearner.py:164\u001b[0m, in \u001b[0;36mTLearner.fit\u001b[0;34m(self, X, y, w)\u001b[0m\n\u001b[1;32m    161\u001b[0m w \u001b[38;5;241m=\u001b[39m torch\u001b[38;5;241m.\u001b[39mTensor(w)\u001b[38;5;241m.\u001b[39mto(DEVICE)\n\u001b[1;32m    163\u001b[0m \u001b[38;5;28;01mfor\u001b[39;00m widx, plugin \u001b[38;5;129;01min\u001b[39;00m \u001b[38;5;28menumerate\u001b[39m(\u001b[38;5;28mself\u001b[39m\u001b[38;5;241m.\u001b[39m_plug_in):\n\u001b[0;32m--> 164\u001b[0m     \u001b[43mtrain_wrapper\u001b[49m\u001b[43m(\u001b[49m\u001b[43mplugin\u001b[49m\u001b[43m,\u001b[49m\u001b[43m \u001b[49m\u001b[43mX\u001b[49m\u001b[43m[\u001b[49m\u001b[43mw\u001b[49m\u001b[43m \u001b[49m\u001b[38;5;241;43m==\u001b[39;49m\u001b[43m \u001b[49m\u001b[43mwidx\u001b[49m\u001b[43m]\u001b[49m\u001b[43m,\u001b[49m\u001b[43m \u001b[49m\u001b[43my\u001b[49m\u001b[43m[\u001b[49m\u001b[43mw\u001b[49m\u001b[43m \u001b[49m\u001b[38;5;241;43m==\u001b[39;49m\u001b[43m \u001b[49m\u001b[43mwidx\u001b[49m\u001b[43m]\u001b[49m\u001b[43m)\u001b[49m\n\u001b[1;32m    166\u001b[0m \u001b[38;5;28;01mreturn\u001b[39;00m \u001b[38;5;28mself\u001b[39m\n",
      "File \u001b[0;32m/anaconda/envs/azureml_py310_sdkv2/lib/python3.10/site-packages/catenets/models/torch/utils/model_utils.py:85\u001b[0m, in \u001b[0;36mtrain_wrapper\u001b[0;34m(estimator, X, y, **kwargs)\u001b[0m\n\u001b[1;32m     83\u001b[0m \u001b[38;5;28;01mif\u001b[39;00m \u001b[38;5;28mhasattr\u001b[39m(estimator, \u001b[38;5;124m\"\u001b[39m\u001b[38;5;124mtrain\u001b[39m\u001b[38;5;124m\"\u001b[39m):\n\u001b[1;32m     84\u001b[0m     log\u001b[38;5;241m.\u001b[39mdebug(\u001b[38;5;124mf\u001b[39m\u001b[38;5;124m\"\u001b[39m\u001b[38;5;124mTrain PyTorch network \u001b[39m\u001b[38;5;132;01m{\u001b[39;00mestimator\u001b[38;5;132;01m}\u001b[39;00m\u001b[38;5;124m\"\u001b[39m)\n\u001b[0;32m---> 85\u001b[0m     \u001b[43mestimator\u001b[49m\u001b[38;5;241;43m.\u001b[39;49m\u001b[43mfit\u001b[49m\u001b[43m(\u001b[49m\u001b[43mX\u001b[49m\u001b[43m,\u001b[49m\u001b[43m \u001b[49m\u001b[43my\u001b[49m\u001b[43m,\u001b[49m\u001b[43m \u001b[49m\u001b[38;5;241;43m*\u001b[39;49m\u001b[38;5;241;43m*\u001b[39;49m\u001b[43mkwargs\u001b[49m\u001b[43m)\u001b[49m\n\u001b[1;32m     86\u001b[0m \u001b[38;5;28;01melif\u001b[39;00m \u001b[38;5;28mhasattr\u001b[39m(estimator, \u001b[38;5;124m\"\u001b[39m\u001b[38;5;124mfit\u001b[39m\u001b[38;5;124m\"\u001b[39m):\n\u001b[1;32m     87\u001b[0m     log\u001b[38;5;241m.\u001b[39mdebug(\u001b[38;5;124mf\u001b[39m\u001b[38;5;124m\"\u001b[39m\u001b[38;5;124mTrain sklearn estimator \u001b[39m\u001b[38;5;132;01m{\u001b[39;00mestimator\u001b[38;5;132;01m}\u001b[39;00m\u001b[38;5;124m\"\u001b[39m)\n",
      "File \u001b[0;32m/anaconda/envs/azureml_py310_sdkv2/lib/python3.10/site-packages/catenets/models/torch/base.py:214\u001b[0m, in \u001b[0;36mBasicNet.fit\u001b[0;34m(self, X, y, weight)\u001b[0m\n\u001b[1;32m    210\u001b[0m     weight_next \u001b[38;5;241m=\u001b[39m weight[idx_next]\u001b[38;5;241m.\u001b[39mdetach()\n\u001b[1;32m    212\u001b[0m loss \u001b[38;5;241m=\u001b[39m nn\u001b[38;5;241m.\u001b[39mBCELoss(weight\u001b[38;5;241m=\u001b[39mweight_next) \u001b[38;5;28;01mif\u001b[39;00m \u001b[38;5;28mself\u001b[39m\u001b[38;5;241m.\u001b[39mbinary_y \u001b[38;5;28;01melse\u001b[39;00m nn\u001b[38;5;241m.\u001b[39mMSELoss()\n\u001b[0;32m--> 214\u001b[0m preds \u001b[38;5;241m=\u001b[39m \u001b[38;5;28;43mself\u001b[39;49m\u001b[38;5;241;43m.\u001b[39;49m\u001b[43mforward\u001b[49m\u001b[43m(\u001b[49m\u001b[43mX_next\u001b[49m\u001b[43m)\u001b[49m\u001b[38;5;241m.\u001b[39msqueeze()\n\u001b[1;32m    216\u001b[0m batch_loss \u001b[38;5;241m=\u001b[39m loss(preds, y_next)\n\u001b[1;32m    218\u001b[0m batch_loss\u001b[38;5;241m.\u001b[39mbackward()\n",
      "File \u001b[0;32m/anaconda/envs/azureml_py310_sdkv2/lib/python3.10/site-packages/catenets/models/torch/base.py:169\u001b[0m, in \u001b[0;36mBasicNet.forward\u001b[0;34m(self, X)\u001b[0m\n\u001b[1;32m    168\u001b[0m \u001b[38;5;28;01mdef\u001b[39;00m \u001b[38;5;21mforward\u001b[39m(\u001b[38;5;28mself\u001b[39m, X: torch\u001b[38;5;241m.\u001b[39mTensor) \u001b[38;5;241m-\u001b[39m\u001b[38;5;241m>\u001b[39m torch\u001b[38;5;241m.\u001b[39mTensor:\n\u001b[0;32m--> 169\u001b[0m     \u001b[38;5;28;01mreturn\u001b[39;00m \u001b[38;5;28;43mself\u001b[39;49m\u001b[38;5;241;43m.\u001b[39;49m\u001b[43mmodel\u001b[49m\u001b[43m(\u001b[49m\u001b[43mX\u001b[49m\u001b[43m)\u001b[49m\n",
      "File \u001b[0;32m/anaconda/envs/azureml_py310_sdkv2/lib/python3.10/site-packages/torch/nn/modules/module.py:1194\u001b[0m, in \u001b[0;36mModule._call_impl\u001b[0;34m(self, *input, **kwargs)\u001b[0m\n\u001b[1;32m   1190\u001b[0m \u001b[38;5;66;03m# If we don't have any hooks, we want to skip the rest of the logic in\u001b[39;00m\n\u001b[1;32m   1191\u001b[0m \u001b[38;5;66;03m# this function, and just call forward.\u001b[39;00m\n\u001b[1;32m   1192\u001b[0m \u001b[38;5;28;01mif\u001b[39;00m \u001b[38;5;129;01mnot\u001b[39;00m (\u001b[38;5;28mself\u001b[39m\u001b[38;5;241m.\u001b[39m_backward_hooks \u001b[38;5;129;01mor\u001b[39;00m \u001b[38;5;28mself\u001b[39m\u001b[38;5;241m.\u001b[39m_forward_hooks \u001b[38;5;129;01mor\u001b[39;00m \u001b[38;5;28mself\u001b[39m\u001b[38;5;241m.\u001b[39m_forward_pre_hooks \u001b[38;5;129;01mor\u001b[39;00m _global_backward_hooks\n\u001b[1;32m   1193\u001b[0m         \u001b[38;5;129;01mor\u001b[39;00m _global_forward_hooks \u001b[38;5;129;01mor\u001b[39;00m _global_forward_pre_hooks):\n\u001b[0;32m-> 1194\u001b[0m     \u001b[38;5;28;01mreturn\u001b[39;00m \u001b[43mforward_call\u001b[49m\u001b[43m(\u001b[49m\u001b[38;5;241;43m*\u001b[39;49m\u001b[38;5;28;43minput\u001b[39;49m\u001b[43m,\u001b[49m\u001b[43m \u001b[49m\u001b[38;5;241;43m*\u001b[39;49m\u001b[38;5;241;43m*\u001b[39;49m\u001b[43mkwargs\u001b[49m\u001b[43m)\u001b[49m\n\u001b[1;32m   1195\u001b[0m \u001b[38;5;66;03m# Do not call functions when jit is used\u001b[39;00m\n\u001b[1;32m   1196\u001b[0m full_backward_hooks, non_full_backward_hooks \u001b[38;5;241m=\u001b[39m [], []\n",
      "File \u001b[0;32m/anaconda/envs/azureml_py310_sdkv2/lib/python3.10/site-packages/torch/nn/modules/container.py:204\u001b[0m, in \u001b[0;36mSequential.forward\u001b[0;34m(self, input)\u001b[0m\n\u001b[1;32m    202\u001b[0m \u001b[38;5;28;01mdef\u001b[39;00m \u001b[38;5;21mforward\u001b[39m(\u001b[38;5;28mself\u001b[39m, \u001b[38;5;28minput\u001b[39m):\n\u001b[1;32m    203\u001b[0m     \u001b[38;5;28;01mfor\u001b[39;00m module \u001b[38;5;129;01min\u001b[39;00m \u001b[38;5;28mself\u001b[39m:\n\u001b[0;32m--> 204\u001b[0m         \u001b[38;5;28minput\u001b[39m \u001b[38;5;241m=\u001b[39m \u001b[43mmodule\u001b[49m\u001b[43m(\u001b[49m\u001b[38;5;28;43minput\u001b[39;49m\u001b[43m)\u001b[49m\n\u001b[1;32m    205\u001b[0m     \u001b[38;5;28;01mreturn\u001b[39;00m \u001b[38;5;28minput\u001b[39m\n",
      "File \u001b[0;32m/anaconda/envs/azureml_py310_sdkv2/lib/python3.10/site-packages/torch/nn/modules/module.py:1194\u001b[0m, in \u001b[0;36mModule._call_impl\u001b[0;34m(self, *input, **kwargs)\u001b[0m\n\u001b[1;32m   1190\u001b[0m \u001b[38;5;66;03m# If we don't have any hooks, we want to skip the rest of the logic in\u001b[39;00m\n\u001b[1;32m   1191\u001b[0m \u001b[38;5;66;03m# this function, and just call forward.\u001b[39;00m\n\u001b[1;32m   1192\u001b[0m \u001b[38;5;28;01mif\u001b[39;00m \u001b[38;5;129;01mnot\u001b[39;00m (\u001b[38;5;28mself\u001b[39m\u001b[38;5;241m.\u001b[39m_backward_hooks \u001b[38;5;129;01mor\u001b[39;00m \u001b[38;5;28mself\u001b[39m\u001b[38;5;241m.\u001b[39m_forward_hooks \u001b[38;5;129;01mor\u001b[39;00m \u001b[38;5;28mself\u001b[39m\u001b[38;5;241m.\u001b[39m_forward_pre_hooks \u001b[38;5;129;01mor\u001b[39;00m _global_backward_hooks\n\u001b[1;32m   1193\u001b[0m         \u001b[38;5;129;01mor\u001b[39;00m _global_forward_hooks \u001b[38;5;129;01mor\u001b[39;00m _global_forward_pre_hooks):\n\u001b[0;32m-> 1194\u001b[0m     \u001b[38;5;28;01mreturn\u001b[39;00m \u001b[43mforward_call\u001b[49m\u001b[43m(\u001b[49m\u001b[38;5;241;43m*\u001b[39;49m\u001b[38;5;28;43minput\u001b[39;49m\u001b[43m,\u001b[49m\u001b[43m \u001b[49m\u001b[38;5;241;43m*\u001b[39;49m\u001b[38;5;241;43m*\u001b[39;49m\u001b[43mkwargs\u001b[49m\u001b[43m)\u001b[49m\n\u001b[1;32m   1195\u001b[0m \u001b[38;5;66;03m# Do not call functions when jit is used\u001b[39;00m\n\u001b[1;32m   1196\u001b[0m full_backward_hooks, non_full_backward_hooks \u001b[38;5;241m=\u001b[39m [], []\n",
      "File \u001b[0;32m/anaconda/envs/azureml_py310_sdkv2/lib/python3.10/site-packages/torch/nn/modules/batchnorm.py:171\u001b[0m, in \u001b[0;36m_BatchNorm.forward\u001b[0;34m(self, input)\u001b[0m\n\u001b[1;32m    164\u001b[0m     bn_training \u001b[38;5;241m=\u001b[39m (\u001b[38;5;28mself\u001b[39m\u001b[38;5;241m.\u001b[39mrunning_mean \u001b[38;5;129;01mis\u001b[39;00m \u001b[38;5;28;01mNone\u001b[39;00m) \u001b[38;5;129;01mand\u001b[39;00m (\u001b[38;5;28mself\u001b[39m\u001b[38;5;241m.\u001b[39mrunning_var \u001b[38;5;129;01mis\u001b[39;00m \u001b[38;5;28;01mNone\u001b[39;00m)\n\u001b[1;32m    166\u001b[0m \u001b[38;5;250m\u001b[39m\u001b[38;5;124mr\u001b[39m\u001b[38;5;124;03m\"\"\"\u001b[39;00m\n\u001b[1;32m    167\u001b[0m \u001b[38;5;124;03mBuffers are only updated if they are to be tracked and we are in training mode. Thus they only need to be\u001b[39;00m\n\u001b[1;32m    168\u001b[0m \u001b[38;5;124;03mpassed when the update should occur (i.e. in training mode when they are tracked), or when buffer stats are\u001b[39;00m\n\u001b[1;32m    169\u001b[0m \u001b[38;5;124;03mused for normalization (i.e. in eval mode when buffers are not None).\u001b[39;00m\n\u001b[1;32m    170\u001b[0m \u001b[38;5;124;03m\"\"\"\u001b[39;00m\n\u001b[0;32m--> 171\u001b[0m \u001b[38;5;28;01mreturn\u001b[39;00m \u001b[43mF\u001b[49m\u001b[38;5;241;43m.\u001b[39;49m\u001b[43mbatch_norm\u001b[49m\u001b[43m(\u001b[49m\n\u001b[1;32m    172\u001b[0m \u001b[43m    \u001b[49m\u001b[38;5;28;43minput\u001b[39;49m\u001b[43m,\u001b[49m\n\u001b[1;32m    173\u001b[0m \u001b[43m    \u001b[49m\u001b[38;5;66;43;03m# If buffers are not to be tracked, ensure that they won't be updated\u001b[39;49;00m\n\u001b[1;32m    174\u001b[0m \u001b[43m    \u001b[49m\u001b[38;5;28;43mself\u001b[39;49m\u001b[38;5;241;43m.\u001b[39;49m\u001b[43mrunning_mean\u001b[49m\n\u001b[1;32m    175\u001b[0m \u001b[43m    \u001b[49m\u001b[38;5;28;43;01mif\u001b[39;49;00m\u001b[43m \u001b[49m\u001b[38;5;129;43;01mnot\u001b[39;49;00m\u001b[43m \u001b[49m\u001b[38;5;28;43mself\u001b[39;49m\u001b[38;5;241;43m.\u001b[39;49m\u001b[43mtraining\u001b[49m\u001b[43m \u001b[49m\u001b[38;5;129;43;01mor\u001b[39;49;00m\u001b[43m \u001b[49m\u001b[38;5;28;43mself\u001b[39;49m\u001b[38;5;241;43m.\u001b[39;49m\u001b[43mtrack_running_stats\u001b[49m\n\u001b[1;32m    176\u001b[0m \u001b[43m    \u001b[49m\u001b[38;5;28;43;01melse\u001b[39;49;00m\u001b[43m \u001b[49m\u001b[38;5;28;43;01mNone\u001b[39;49;00m\u001b[43m,\u001b[49m\n\u001b[1;32m    177\u001b[0m \u001b[43m    \u001b[49m\u001b[38;5;28;43mself\u001b[39;49m\u001b[38;5;241;43m.\u001b[39;49m\u001b[43mrunning_var\u001b[49m\u001b[43m \u001b[49m\u001b[38;5;28;43;01mif\u001b[39;49;00m\u001b[43m \u001b[49m\u001b[38;5;129;43;01mnot\u001b[39;49;00m\u001b[43m \u001b[49m\u001b[38;5;28;43mself\u001b[39;49m\u001b[38;5;241;43m.\u001b[39;49m\u001b[43mtraining\u001b[49m\u001b[43m \u001b[49m\u001b[38;5;129;43;01mor\u001b[39;49;00m\u001b[43m \u001b[49m\u001b[38;5;28;43mself\u001b[39;49m\u001b[38;5;241;43m.\u001b[39;49m\u001b[43mtrack_running_stats\u001b[49m\u001b[43m \u001b[49m\u001b[38;5;28;43;01melse\u001b[39;49;00m\u001b[43m \u001b[49m\u001b[38;5;28;43;01mNone\u001b[39;49;00m\u001b[43m,\u001b[49m\n\u001b[1;32m    178\u001b[0m \u001b[43m    \u001b[49m\u001b[38;5;28;43mself\u001b[39;49m\u001b[38;5;241;43m.\u001b[39;49m\u001b[43mweight\u001b[49m\u001b[43m,\u001b[49m\n\u001b[1;32m    179\u001b[0m \u001b[43m    \u001b[49m\u001b[38;5;28;43mself\u001b[39;49m\u001b[38;5;241;43m.\u001b[39;49m\u001b[43mbias\u001b[49m\u001b[43m,\u001b[49m\n\u001b[1;32m    180\u001b[0m \u001b[43m    \u001b[49m\u001b[43mbn_training\u001b[49m\u001b[43m,\u001b[49m\n\u001b[1;32m    181\u001b[0m \u001b[43m    \u001b[49m\u001b[43mexponential_average_factor\u001b[49m\u001b[43m,\u001b[49m\n\u001b[1;32m    182\u001b[0m \u001b[43m    \u001b[49m\u001b[38;5;28;43mself\u001b[39;49m\u001b[38;5;241;43m.\u001b[39;49m\u001b[43meps\u001b[49m\u001b[43m,\u001b[49m\n\u001b[1;32m    183\u001b[0m \u001b[43m\u001b[49m\u001b[43m)\u001b[49m\n",
      "File \u001b[0;32m/anaconda/envs/azureml_py310_sdkv2/lib/python3.10/site-packages/torch/nn/functional.py:2448\u001b[0m, in \u001b[0;36mbatch_norm\u001b[0;34m(input, running_mean, running_var, weight, bias, training, momentum, eps)\u001b[0m\n\u001b[1;32m   2435\u001b[0m     \u001b[38;5;28;01mreturn\u001b[39;00m handle_torch_function(\n\u001b[1;32m   2436\u001b[0m         batch_norm,\n\u001b[1;32m   2437\u001b[0m         (\u001b[38;5;28minput\u001b[39m, running_mean, running_var, weight, bias),\n\u001b[0;32m   (...)\u001b[0m\n\u001b[1;32m   2445\u001b[0m         eps\u001b[38;5;241m=\u001b[39meps,\n\u001b[1;32m   2446\u001b[0m     )\n\u001b[1;32m   2447\u001b[0m \u001b[38;5;28;01mif\u001b[39;00m training:\n\u001b[0;32m-> 2448\u001b[0m     \u001b[43m_verify_batch_size\u001b[49m\u001b[43m(\u001b[49m\u001b[38;5;28;43minput\u001b[39;49m\u001b[38;5;241;43m.\u001b[39;49m\u001b[43msize\u001b[49m\u001b[43m(\u001b[49m\u001b[43m)\u001b[49m\u001b[43m)\u001b[49m\n\u001b[1;32m   2450\u001b[0m \u001b[38;5;28;01mreturn\u001b[39;00m torch\u001b[38;5;241m.\u001b[39mbatch_norm(\n\u001b[1;32m   2451\u001b[0m     \u001b[38;5;28minput\u001b[39m, weight, bias, running_mean, running_var, training, momentum, eps, torch\u001b[38;5;241m.\u001b[39mbackends\u001b[38;5;241m.\u001b[39mcudnn\u001b[38;5;241m.\u001b[39menabled\n\u001b[1;32m   2452\u001b[0m )\n",
      "File \u001b[0;32m/anaconda/envs/azureml_py310_sdkv2/lib/python3.10/site-packages/torch/nn/functional.py:2416\u001b[0m, in \u001b[0;36m_verify_batch_size\u001b[0;34m(size)\u001b[0m\n\u001b[1;32m   2414\u001b[0m     size_prods \u001b[38;5;241m*\u001b[39m\u001b[38;5;241m=\u001b[39m size[i \u001b[38;5;241m+\u001b[39m \u001b[38;5;241m2\u001b[39m]\n\u001b[1;32m   2415\u001b[0m \u001b[38;5;28;01mif\u001b[39;00m size_prods \u001b[38;5;241m==\u001b[39m \u001b[38;5;241m1\u001b[39m:\n\u001b[0;32m-> 2416\u001b[0m     \u001b[38;5;28;01mraise\u001b[39;00m \u001b[38;5;167;01mValueError\u001b[39;00m(\u001b[38;5;124m\"\u001b[39m\u001b[38;5;124mExpected more than 1 value per channel when training, got input size \u001b[39m\u001b[38;5;132;01m{}\u001b[39;00m\u001b[38;5;124m\"\u001b[39m\u001b[38;5;241m.\u001b[39mformat(size))\n",
      "\u001b[0;31mValueError\u001b[0m: Expected more than 1 value per channel when training, got input size torch.Size([1, 100])"
     ]
    }
   ],
   "source": [
    "test = privacy_comparison(normalized_jobs, 'dpgan', 'training', 're78', delta = 1e-3, epsilons = [15,20], n_iter = 10, save=True, fp ='jobs_privacy_dpgan_normalized_2.csv')"
   ]
  },
  {
   "cell_type": "code",
   "execution_count": 239,
   "id": "15c6f1bf",
   "metadata": {},
   "outputs": [],
   "source": [
    "test = pd.read_csv('simulated_privacy_dpgan_more_runs.csv')"
   ]
  },
  {
   "cell_type": "code",
   "execution_count": 240,
   "id": "1551be70",
   "metadata": {},
   "outputs": [
    {
     "data": {
      "text/html": [
       "<div>\n",
       "<style scoped>\n",
       "    .dataframe tbody tr th:only-of-type {\n",
       "        vertical-align: middle;\n",
       "    }\n",
       "\n",
       "    .dataframe tbody tr th {\n",
       "        vertical-align: top;\n",
       "    }\n",
       "\n",
       "    .dataframe thead th {\n",
       "        text-align: right;\n",
       "    }\n",
       "</style>\n",
       "<table border=\"1\" class=\"dataframe\">\n",
       "  <thead>\n",
       "    <tr style=\"text-align: right;\">\n",
       "      <th></th>\n",
       "      <th>method</th>\n",
       "      <th>epsilon</th>\n",
       "      <th>f</th>\n",
       "      <th>c</th>\n",
       "      <th>d</th>\n",
       "      <th>avg_u_pehe</th>\n",
       "    </tr>\n",
       "  </thead>\n",
       "  <tbody>\n",
       "    <tr>\n",
       "      <th>0</th>\n",
       "      <td>standard</td>\n",
       "      <td>1.5</td>\n",
       "      <td>0.772533</td>\n",
       "      <td>0.206000</td>\n",
       "      <td>0.455955</td>\n",
       "      <td>4.700255</td>\n",
       "    </tr>\n",
       "    <tr>\n",
       "      <th>1</th>\n",
       "      <td>sequential</td>\n",
       "      <td>1.5</td>\n",
       "      <td>0.375800</td>\n",
       "      <td>0.433667</td>\n",
       "      <td>0.415196</td>\n",
       "      <td>3.590751</td>\n",
       "    </tr>\n",
       "  </tbody>\n",
       "</table>\n",
       "</div>"
      ],
      "text/plain": [
       "       method  epsilon         f         c         d  avg_u_pehe\n",
       "0    standard      1.5  0.772533  0.206000  0.455955    4.700255\n",
       "1  sequential      1.5  0.375800  0.433667  0.415196    3.590751"
      ]
     },
     "execution_count": 240,
     "metadata": {},
     "output_type": "execute_result"
    }
   ],
   "source": [
    "test"
   ]
  },
  {
   "cell_type": "code",
   "execution_count": 285,
   "id": "9798a386",
   "metadata": {},
   "outputs": [],
   "source": [
    "#results_comb = pd.read_csv('simulated_privacy_dpgan_combined.csv')\n",
    "results_comb = pd.read_csv('jobs_privacy_dpgan_normalized.csv')"
   ]
  },
  {
   "cell_type": "code",
   "execution_count": 290,
   "id": "63772336",
   "metadata": {},
   "outputs": [],
   "source": [
    "test = pd.read_csv('jobs_privacy_dpgan_normalized_100.csv')"
   ]
  },
  {
   "cell_type": "code",
   "execution_count": 291,
   "id": "fd00944d",
   "metadata": {},
   "outputs": [],
   "source": [
    "results_comb = pd.concat([results_comb, test])"
   ]
  },
  {
   "cell_type": "code",
   "execution_count": 234,
   "id": "95f0d831",
   "metadata": {},
   "outputs": [],
   "source": [
    "#results_comb.to_csv('simulated_privacy_dpgan_combined.csv', index=False)"
   ]
  },
  {
   "cell_type": "code",
   "execution_count": 310,
   "id": "098e2150",
   "metadata": {},
   "outputs": [],
   "source": [
    "results_comb = results_comb.reset_index(drop=True)"
   ]
  },
  {
   "cell_type": "code",
   "execution_count": 313,
   "id": "c275174b",
   "metadata": {},
   "outputs": [],
   "source": [
    "results_comb = results_comb.drop([60,61,62,63])"
   ]
  },
  {
   "cell_type": "code",
   "execution_count": 314,
   "id": "5e0fd63f",
   "metadata": {},
   "outputs": [
    {
     "data": {
      "text/html": [
       "<div>\n",
       "<style scoped>\n",
       "    .dataframe tbody tr th:only-of-type {\n",
       "        vertical-align: middle;\n",
       "    }\n",
       "\n",
       "    .dataframe tbody tr th {\n",
       "        vertical-align: top;\n",
       "    }\n",
       "\n",
       "    .dataframe thead th {\n",
       "        text-align: right;\n",
       "    }\n",
       "</style>\n",
       "<table border=\"1\" class=\"dataframe\">\n",
       "  <thead>\n",
       "    <tr style=\"text-align: right;\">\n",
       "      <th></th>\n",
       "      <th>method</th>\n",
       "      <th>f</th>\n",
       "      <th>c</th>\n",
       "      <th>d</th>\n",
       "      <th>avg_u_pehe</th>\n",
       "    </tr>\n",
       "    <tr>\n",
       "      <th>epsilon</th>\n",
       "      <th></th>\n",
       "      <th></th>\n",
       "      <th></th>\n",
       "      <th></th>\n",
       "      <th></th>\n",
       "    </tr>\n",
       "  </thead>\n",
       "  <tbody>\n",
       "    <tr>\n",
       "      <th>5</th>\n",
       "      <td>20</td>\n",
       "      <td>20</td>\n",
       "      <td>20</td>\n",
       "      <td>20</td>\n",
       "      <td>20</td>\n",
       "    </tr>\n",
       "    <tr>\n",
       "      <th>10</th>\n",
       "      <td>20</td>\n",
       "      <td>20</td>\n",
       "      <td>20</td>\n",
       "      <td>20</td>\n",
       "      <td>20</td>\n",
       "    </tr>\n",
       "    <tr>\n",
       "      <th>15</th>\n",
       "      <td>20</td>\n",
       "      <td>20</td>\n",
       "      <td>20</td>\n",
       "      <td>20</td>\n",
       "      <td>20</td>\n",
       "    </tr>\n",
       "    <tr>\n",
       "      <th>50</th>\n",
       "      <td>12</td>\n",
       "      <td>12</td>\n",
       "      <td>12</td>\n",
       "      <td>12</td>\n",
       "      <td>12</td>\n",
       "    </tr>\n",
       "  </tbody>\n",
       "</table>\n",
       "</div>"
      ],
      "text/plain": [
       "         method   f   c   d  avg_u_pehe\n",
       "epsilon                                \n",
       "5            20  20  20  20          20\n",
       "10           20  20  20  20          20\n",
       "15           20  20  20  20          20\n",
       "50           12  12  12  12          12"
      ]
     },
     "execution_count": 314,
     "metadata": {},
     "output_type": "execute_result"
    }
   ],
   "source": [
    "results_comb.groupby('epsilon').count()"
   ]
  },
  {
   "cell_type": "code",
   "execution_count": 320,
   "id": "8e5769a4",
   "metadata": {},
   "outputs": [],
   "source": [
    "results_standard = results_comb[results_comb['method']=='standard']"
   ]
  },
  {
   "cell_type": "code",
   "execution_count": 321,
   "id": "5c83363c",
   "metadata": {},
   "outputs": [],
   "source": [
    "results_seq = results_comb[results_comb['method']=='sequential']"
   ]
  },
  {
   "cell_type": "code",
   "execution_count": 322,
   "id": "73f328e3",
   "metadata": {},
   "outputs": [],
   "source": [
    "x = [5,10,15,50]\n",
    "d_stand = results_standard.groupby('epsilon').mean()['d']\n",
    "d_seq = results_seq.groupby('epsilon').mean()['d']\n",
    "f_stand = results_standard.groupby('epsilon').mean()['f']\n",
    "f_seq = results_seq.groupby('epsilon').mean()['f']\n",
    "c_stand = results_standard.groupby('epsilon').mean()['c']\n",
    "c_seq = results_seq.groupby('epsilon').mean()['c']\n",
    "u_stand = results_standard.groupby('epsilon').mean()['avg_u_pehe']\n",
    "u_seq = results_seq.groupby('epsilon').mean()['avg_u_pehe']\n",
    "\n",
    "\n",
    "d_stand_std = results_standard.groupby('epsilon').std()['d'] / np.sqrt(10) * 1.96\n",
    "d_seq_std = results_seq.groupby('epsilon').std()['d']/ np.sqrt(10)* 1.96\n",
    "f_stand_std = results_standard.groupby('epsilon').std()['f']/ np.sqrt(10)* 1.96\n",
    "f_seq_std = results_seq.groupby('epsilon').std()['f']/ np.sqrt(10)* 1.96\n",
    "c_stand_std = results_standard.groupby('epsilon').std()['c']/ np.sqrt(10)* 1.96\n",
    "c_seq_std = results_seq.groupby('epsilon').std()['c']/ np.sqrt(10)* 1.96\n",
    "u_stand_std = results_standard.groupby('epsilon').std()['avg_u_pehe']/ np.sqrt(10)* 1.96\n",
    "u_seq_std = results_seq.groupby('epsilon').std()['avg_u_pehe']/ np.sqrt(10)* 1.96"
   ]
  },
  {
   "cell_type": "code",
   "execution_count": 323,
   "id": "48aae500",
   "metadata": {},
   "outputs": [
    {
     "data": {
      "image/png": "[encoded data removed]",
      "text/plain": [
       "<Figure size 640x480 with 1 Axes>"
      ]
     },
     "metadata": {},
     "output_type": "display_data"
    }
   ],
   "source": [
    "plt.plot(x, d_stand, 'o-', label = 'standard')\n",
    "plt.plot(x, d_seq, 'o-', label = 'sequential')\n",
    "plt.fill_between(x, d_stand - d_stand_std, d_stand + d_stand_std, alpha=0.2)\n",
    "plt.fill_between(x, d_seq - d_seq_std, d_seq + d_seq_std, alpha=0.2)\n",
    "plt.legend()\n",
    "plt.ylim([0,1])\n",
    "plt.ylabel('$D$')\n",
    "plt.xlabel('$\\epsilon$')\n",
    "plt.xscale('log')\n",
    "#plt.savefig('plots/D_with_epsilon.png')"
   ]
  },
  {
   "cell_type": "code",
   "execution_count": 324,
   "metadata": {},
   "outputs": [
    {
     "data": {
      "image/png": "[encoded data removed]",
      "text/plain": [
       "<Figure size 640x480 with 1 Axes>"
      ]
     },
     "metadata": {},
     "output_type": "display_data"
    }
   ],
   "source": [
    "plt.plot(x, f_stand, 'o-', label = 'standard')\n",
    "plt.plot(x, f_seq, 'o-', label = 'sequential')\n",
    "plt.fill_between(x, f_stand - f_stand_std, f_stand + f_stand_std, alpha=0.2)\n",
    "plt.fill_between(x, f_seq - f_seq_std, f_seq + f_seq_std, alpha=0.2)\n",
    "plt.legend()\n",
    "plt.ylim([0,1])\n",
    "plt.ylabel('$F$')\n",
    "plt.xlabel('$\\epsilon$')\n",
    "plt.xscale('log')\n",
    "#plt.savefig('plots/F_with_epsilon.png')"
   ]
  },
  {
   "cell_type": "code",
   "execution_count": 325,
   "id": "d86cc520",
   "metadata": {},
   "outputs": [
    {
     "data": {
      "image/png": "[encoded data removed]",
      "text/plain": [
       "<Figure size 640x480 with 1 Axes>"
      ]
     },
     "metadata": {},
     "output_type": "display_data"
    }
   ],
   "source": [
    "plt.plot(x, c_stand, 'o-', label = 'standard')\n",
    "plt.plot(x, c_seq, 'o-', label = 'sequential')\n",
    "plt.fill_between(x, c_stand - c_stand_std, c_stand + c_stand_std, alpha=0.2)\n",
    "plt.fill_between(x, c_seq - c_seq_std, c_seq + c_seq_std, alpha=0.2)\n",
    "plt.legend()\n",
    "plt.ylim([0,1])\n",
    "plt.ylabel('$C$')\n",
    "plt.xlabel('$\\epsilon$')\n",
    "plt.xscale('log')\n",
    "#plt.savefig('plots/C_with_epsilon.png')"
   ]
  },
  {
   "cell_type": "code",
   "execution_count": 326,
   "id": "f5c2e680",
   "metadata": {},
   "outputs": [
    {
     "data": {
      "image/png": "[encoded data removed]",
      "text/plain": [
       "<Figure size 640x480 with 1 Axes>"
      ]
     },
     "metadata": {},
     "output_type": "display_data"
    }
   ],
   "source": [
    "plt.plot(x, u_stand, 'o-', label = 'standard')\n",
    "plt.plot(x, u_seq, 'o-', label = 'sequential')\n",
    "plt.fill_between(x, u_stand - u_stand_std, u_stand + u_stand_std, alpha=0.2)\n",
    "plt.fill_between(x, u_seq - u_seq_std, u_seq + u_seq_std, alpha=0.2)\n",
    "plt.legend()\n",
    "plt.ylabel('$U_{PEHE}$')\n",
    "plt.xlabel('$\\epsilon$')\n",
    "plt.xscale('log')\n",
    "#plt.savefig('plots/U_with_epsilon.png')"
   ]
  },
  {
   "cell_type": "code",
   "execution_count": null,
   "metadata": {},
   "outputs": [],
   "source": []
  },
  {
   "cell_type": "code",
   "execution_count": null,
   "metadata": {},
   "outputs": [],
   "source": []
  },
  {
   "cell_type": "code",
   "execution_count": 78,
   "id": "01c44688",
   "metadata": {},
   "outputs": [],
   "source": [
    "X_train, X_test, w_train, w_test = train_test_split(X, w, test_size=0.2)"
   ]
  },
  {
   "cell_type": "code",
   "execution_count": 91,
   "id": "a3e40145",
   "metadata": {},
   "outputs": [
    {
     "name": "stdout",
     "output_type": "stream",
     "text": [
      "Epoch [1/50], Loss: 0.6841\n",
      "Epoch [2/50], Loss: 0.6441\n",
      "Epoch [3/50], Loss: 0.6528\n",
      "Epoch [4/50], Loss: 0.6603\n",
      "Epoch [5/50], Loss: 0.6216\n",
      "Epoch [6/50], Loss: 0.6272\n",
      "Epoch [7/50], Loss: 0.5847\n",
      "Epoch [8/50], Loss: 0.7443\n",
      "Epoch [9/50], Loss: 0.7501\n",
      "Epoch [10/50], Loss: 0.6599\n",
      "Epoch [11/50], Loss: 0.7409\n",
      "Epoch [12/50], Loss: 0.4967\n",
      "Epoch [13/50], Loss: 0.9737\n",
      "Epoch [14/50], Loss: 0.6863\n",
      "Epoch [15/50], Loss: 0.6974\n",
      "Epoch [16/50], Loss: 0.5449\n",
      "Epoch [17/50], Loss: 0.7667\n",
      "Epoch [18/50], Loss: 0.9656\n",
      "Epoch [19/50], Loss: 0.6077\n",
      "Epoch [20/50], Loss: 0.7115\n",
      "Epoch [21/50], Loss: 0.9635\n",
      "Epoch [22/50], Loss: 0.8643\n",
      "Epoch [23/50], Loss: 0.4925\n",
      "Epoch [24/50], Loss: 0.7174\n",
      "Epoch [25/50], Loss: 1.0144\n",
      "Epoch [26/50], Loss: 0.4937\n",
      "Epoch [27/50], Loss: 0.6809\n",
      "Epoch [28/50], Loss: 0.8765\n",
      "Epoch [29/50], Loss: 0.6899\n",
      "Epoch [30/50], Loss: 0.6311\n",
      "Epoch [31/50], Loss: 0.8791\n",
      "Epoch [32/50], Loss: 0.6959\n",
      "Epoch [33/50], Loss: 0.5583\n",
      "Epoch [34/50], Loss: 0.6392\n",
      "Epoch [35/50], Loss: 0.8068\n",
      "Epoch [36/50], Loss: 0.4784\n",
      "Epoch [37/50], Loss: 0.4154\n",
      "Epoch [38/50], Loss: 0.8626\n",
      "Epoch [39/50], Loss: 1.0114\n",
      "Epoch [40/50], Loss: 0.7956\n",
      "Epoch [41/50], Loss: 0.5918\n",
      "Epoch [42/50], Loss: 0.8954\n",
      "Epoch [43/50], Loss: 0.7453\n",
      "Epoch [44/50], Loss: 0.4305\n",
      "Epoch [45/50], Loss: 0.7237\n",
      "Epoch [46/50], Loss: 0.4476\n",
      "Epoch [47/50], Loss: 0.5863\n",
      "Epoch [48/50], Loss: 0.4083\n",
      "Epoch [49/50], Loss: 0.5821\n",
      "Epoch [50/50], Loss: 0.9703\n"
     ]
    }
   ],
   "source": [
    "class BinaryClassifier(nn.Module):\n",
    "    def __init__(self):\n",
    "        super(BinaryClassifier, self).__init__()\n",
    "        self.fc1 = nn.Linear(5, 64)  # Input size 5, output size 64\n",
    "        self.fc2 = nn.Linear(64, 32)  # Input size 64, output size 32\n",
    "        self.fc3 = nn.Linear(32, 1)   # Input size 32, output size 1\n",
    "        self.sigmoid = nn.Sigmoid()\n",
    "\n",
    "    def forward(self, x):\n",
    "        x = torch.relu(self.fc1(x))\n",
    "        x = torch.relu(self.fc2(x))\n",
    "        x = self.sigmoid(self.fc3(x))\n",
    "        return x\n",
    "model = BinaryClassifier()\n",
    "criterion = nn.BCELoss()\n",
    "optimizer = optim.Adam(model.parameters(), lr=0.001)\n",
    "dataset = CustomDataset(X_train, w_train)\n",
    "data_loader = DataLoader(dataset, batch_size = 19)\n",
    "privacy_engine = PrivacyEngine()\n",
    "\n",
    "model_dp, optimizer_dp, data_loader_dp = privacy_engine.make_private_with_epsilon(\n",
    "    module = model,\n",
    "    optimizer = optimizer,\n",
    "    data_loader = data_loader,\n",
    "    target_epsilon = 10,\n",
    "    target_delta = 1e-5,\n",
    "    max_grad_norm = 1.2,\n",
    "    epochs = 50\n",
    ")\n",
    "\n",
    "num_epochs = 50\n",
    "for epoch in range(num_epochs):\n",
    "\n",
    "    for _batch_idx, (data, target) in enumerate(tqdm(data_loader_dp, disable=True)):\n",
    "    # Forward pass\n",
    "        outputs = model_dp(data)\n",
    "        loss = criterion(outputs.squeeze(), target)\n",
    "\n",
    "        # Backward pass and optimization\n",
    "        optimizer_dp.zero_grad()\n",
    "        loss.backward()\n",
    "        optimizer_dp.step()\n",
    "\n",
    "    # Print progress\n",
    "    print(f'Epoch [{epoch+1}/{num_epochs}], Loss: {loss.item():.4f}')"
   ]
  },
  {
   "cell_type": "code",
   "execution_count": 119,
   "id": "46299359",
   "metadata": {},
   "outputs": [],
   "source": [
    "clf = RandomForestClassifier()\n",
    "clf_dp = LogisticRegressionDP(epsilon=500)"
   ]
  },
  {
   "cell_type": "code",
   "execution_count": 112,
   "id": "4d9aca8d",
   "metadata": {},
   "outputs": [],
   "source": [
    "with torch.no_grad():\n",
    "    outputs = model(torch.tensor(X_test).float())\n",
    "    pred_nn = torch.round(outputs).squeeze()"
   ]
  },
  {
   "cell_type": "code",
   "execution_count": 120,
   "id": "7757ae27",
   "metadata": {},
   "outputs": [
    {
     "data": {
      "text/html": [
       "<style>#sk-container-id-13 {color: black;background-color: white;}#sk-container-id-13 pre{padding: 0;}#sk-container-id-13 div.sk-toggleable {background-color: white;}#sk-container-id-13 label.sk-toggleable__label {cursor: pointer;display: block;width: 100%;margin-bottom: 0;padding: 0.3em;box-sizing: border-box;text-align: center;}#sk-container-id-13 label.sk-toggleable__label-arrow:before {content: \"▸\";float: left;margin-right: 0.25em;color: #696969;}#sk-container-id-13 label.sk-toggleable__label-arrow:hover:before {color: black;}#sk-container-id-13 div.sk-estimator:hover label.sk-toggleable__label-arrow:before {color: black;}#sk-container-id-13 div.sk-toggleable__content {max-height: 0;max-width: 0;overflow: hidden;text-align: left;background-color: #f0f8ff;}#sk-container-id-13 div.sk-toggleable__content pre {margin: 0.2em;color: black;border-radius: 0.25em;background-color: #f0f8ff;}#sk-container-id-13 input.sk-toggleable__control:checked~div.sk-toggleable__content {max-height: 200px;max-width: 100%;overflow: auto;}#sk-container-id-13 input.sk-toggleable__control:checked~label.sk-toggleable__label-arrow:before {content: \"▾\";}#sk-container-id-13 div.sk-estimator input.sk-toggleable__control:checked~label.sk-toggleable__label {background-color: #d4ebff;}#sk-container-id-13 div.sk-label input.sk-toggleable__control:checked~label.sk-toggleable__label {background-color: #d4ebff;}#sk-container-id-13 input.sk-hidden--visually {border: 0;clip: rect(1px 1px 1px 1px);clip: rect(1px, 1px, 1px, 1px);height: 1px;margin: -1px;overflow: hidden;padding: 0;position: absolute;width: 1px;}#sk-container-id-13 div.sk-estimator {font-family: monospace;background-color: #f0f8ff;border: 1px dotted black;border-radius: 0.25em;box-sizing: border-box;margin-bottom: 0.5em;}#sk-container-id-13 div.sk-estimator:hover {background-color: #d4ebff;}#sk-container-id-13 div.sk-parallel-item::after {content: \"\";width: 100%;border-bottom: 1px solid gray;flex-grow: 1;}#sk-container-id-13 div.sk-label:hover label.sk-toggleable__label {background-color: #d4ebff;}#sk-container-id-13 div.sk-serial::before {content: \"\";position: absolute;border-left: 1px solid gray;box-sizing: border-box;top: 0;bottom: 0;left: 50%;z-index: 0;}#sk-container-id-13 div.sk-serial {display: flex;flex-direction: column;align-items: center;background-color: white;padding-right: 0.2em;padding-left: 0.2em;position: relative;}#sk-container-id-13 div.sk-item {position: relative;z-index: 1;}#sk-container-id-13 div.sk-parallel {display: flex;align-items: stretch;justify-content: center;background-color: white;position: relative;}#sk-container-id-13 div.sk-item::before, #sk-container-id-13 div.sk-parallel-item::before {content: \"\";position: absolute;border-left: 1px solid gray;box-sizing: border-box;top: 0;bottom: 0;left: 50%;z-index: -1;}#sk-container-id-13 div.sk-parallel-item {display: flex;flex-direction: column;z-index: 1;position: relative;background-color: white;}#sk-container-id-13 div.sk-parallel-item:first-child::after {align-self: flex-end;width: 50%;}#sk-container-id-13 div.sk-parallel-item:last-child::after {align-self: flex-start;width: 50%;}#sk-container-id-13 div.sk-parallel-item:only-child::after {width: 0;}#sk-container-id-13 div.sk-dashed-wrapped {border: 1px dashed gray;margin: 0 0.4em 0.5em 0.4em;box-sizing: border-box;padding-bottom: 0.4em;background-color: white;}#sk-container-id-13 div.sk-label label {font-family: monospace;font-weight: bold;display: inline-block;line-height: 1.2em;}#sk-container-id-13 div.sk-label-container {text-align: center;}#sk-container-id-13 div.sk-container {/* jupyter's `normalize.less` sets `[hidden] { display: none; }` but bootstrap.min.css set `[hidden] { display: none !important; }` so we also need the `!important` here to be able to override the default hidden behavior on the sphinx rendered scikit-learn.org. See: https://github.com/scikit-learn/scikit-learn/issues/21755 */display: inline-block !important;position: relative;}#sk-container-id-13 div.sk-text-repr-fallback {display: none;}</style><div id=\"sk-container-id-13\" class=\"sk-top-container\"><div class=\"sk-text-repr-fallback\"><pre>RandomForestClassifier()</pre><b>In a Jupyter environment, please rerun this cell to show the HTML representation or trust the notebook. <br />On GitHub, the HTML representation is unable to render, please try loading this page with nbviewer.org.</b></div><div class=\"sk-container\" hidden><div class=\"sk-item\"><div class=\"sk-estimator sk-toggleable\"><input class=\"sk-toggleable__control sk-hidden--visually\" id=\"sk-estimator-id-13\" type=\"checkbox\" checked><label for=\"sk-estimator-id-13\" class=\"sk-toggleable__label sk-toggleable__label-arrow\">RandomForestClassifier</label><div class=\"sk-toggleable__content\"><pre>RandomForestClassifier()</pre></div></div></div></div></div>"
      ],
      "text/plain": [
       "RandomForestClassifier()"
      ]
     },
     "execution_count": 120,
     "metadata": {},
     "output_type": "execute_result"
    }
   ],
   "source": [
    "clf.fit(X_train, w_train)"
   ]
  },
  {
   "cell_type": "code",
   "execution_count": 121,
   "id": "186cd185",
   "metadata": {},
   "outputs": [
    {
     "data": {
      "text/html": [
       "<style>#sk-container-id-14 {color: black;background-color: white;}#sk-container-id-14 pre{padding: 0;}#sk-container-id-14 div.sk-toggleable {background-color: white;}#sk-container-id-14 label.sk-toggleable__label {cursor: pointer;display: block;width: 100%;margin-bottom: 0;padding: 0.3em;box-sizing: border-box;text-align: center;}#sk-container-id-14 label.sk-toggleable__label-arrow:before {content: \"▸\";float: left;margin-right: 0.25em;color: #696969;}#sk-container-id-14 label.sk-toggleable__label-arrow:hover:before {color: black;}#sk-container-id-14 div.sk-estimator:hover label.sk-toggleable__label-arrow:before {color: black;}#sk-container-id-14 div.sk-toggleable__content {max-height: 0;max-width: 0;overflow: hidden;text-align: left;background-color: #f0f8ff;}#sk-container-id-14 div.sk-toggleable__content pre {margin: 0.2em;color: black;border-radius: 0.25em;background-color: #f0f8ff;}#sk-container-id-14 input.sk-toggleable__control:checked~div.sk-toggleable__content {max-height: 200px;max-width: 100%;overflow: auto;}#sk-container-id-14 input.sk-toggleable__control:checked~label.sk-toggleable__label-arrow:before {content: \"▾\";}#sk-container-id-14 div.sk-estimator input.sk-toggleable__control:checked~label.sk-toggleable__label {background-color: #d4ebff;}#sk-container-id-14 div.sk-label input.sk-toggleable__control:checked~label.sk-toggleable__label {background-color: #d4ebff;}#sk-container-id-14 input.sk-hidden--visually {border: 0;clip: rect(1px 1px 1px 1px);clip: rect(1px, 1px, 1px, 1px);height: 1px;margin: -1px;overflow: hidden;padding: 0;position: absolute;width: 1px;}#sk-container-id-14 div.sk-estimator {font-family: monospace;background-color: #f0f8ff;border: 1px dotted black;border-radius: 0.25em;box-sizing: border-box;margin-bottom: 0.5em;}#sk-container-id-14 div.sk-estimator:hover {background-color: #d4ebff;}#sk-container-id-14 div.sk-parallel-item::after {content: \"\";width: 100%;border-bottom: 1px solid gray;flex-grow: 1;}#sk-container-id-14 div.sk-label:hover label.sk-toggleable__label {background-color: #d4ebff;}#sk-container-id-14 div.sk-serial::before {content: \"\";position: absolute;border-left: 1px solid gray;box-sizing: border-box;top: 0;bottom: 0;left: 50%;z-index: 0;}#sk-container-id-14 div.sk-serial {display: flex;flex-direction: column;align-items: center;background-color: white;padding-right: 0.2em;padding-left: 0.2em;position: relative;}#sk-container-id-14 div.sk-item {position: relative;z-index: 1;}#sk-container-id-14 div.sk-parallel {display: flex;align-items: stretch;justify-content: center;background-color: white;position: relative;}#sk-container-id-14 div.sk-item::before, #sk-container-id-14 div.sk-parallel-item::before {content: \"\";position: absolute;border-left: 1px solid gray;box-sizing: border-box;top: 0;bottom: 0;left: 50%;z-index: -1;}#sk-container-id-14 div.sk-parallel-item {display: flex;flex-direction: column;z-index: 1;position: relative;background-color: white;}#sk-container-id-14 div.sk-parallel-item:first-child::after {align-self: flex-end;width: 50%;}#sk-container-id-14 div.sk-parallel-item:last-child::after {align-self: flex-start;width: 50%;}#sk-container-id-14 div.sk-parallel-item:only-child::after {width: 0;}#sk-container-id-14 div.sk-dashed-wrapped {border: 1px dashed gray;margin: 0 0.4em 0.5em 0.4em;box-sizing: border-box;padding-bottom: 0.4em;background-color: white;}#sk-container-id-14 div.sk-label label {font-family: monospace;font-weight: bold;display: inline-block;line-height: 1.2em;}#sk-container-id-14 div.sk-label-container {text-align: center;}#sk-container-id-14 div.sk-container {/* jupyter's `normalize.less` sets `[hidden] { display: none; }` but bootstrap.min.css set `[hidden] { display: none !important; }` so we also need the `!important` here to be able to override the default hidden behavior on the sphinx rendered scikit-learn.org. See: https://github.com/scikit-learn/scikit-learn/issues/21755 */display: inline-block !important;position: relative;}#sk-container-id-14 div.sk-text-repr-fallback {display: none;}</style><div id=\"sk-container-id-14\" class=\"sk-top-container\"><div class=\"sk-text-repr-fallback\"><pre>LogisticRegression(accountant=BudgetAccountant(spent_budget=[(1.6666666666666667, 0), (1.6666666666666667, 0), (0.3333333333333333, 0), (0.6666666666666666, 0), (1.0, 0), ...]),\n",
       "                   data_norm=4.727320492026039, epsilon=500)</pre><b>In a Jupyter environment, please rerun this cell to show the HTML representation or trust the notebook. <br />On GitHub, the HTML representation is unable to render, please try loading this page with nbviewer.org.</b></div><div class=\"sk-container\" hidden><div class=\"sk-item\"><div class=\"sk-estimator sk-toggleable\"><input class=\"sk-toggleable__control sk-hidden--visually\" id=\"sk-estimator-id-14\" type=\"checkbox\" checked><label for=\"sk-estimator-id-14\" class=\"sk-toggleable__label sk-toggleable__label-arrow\">LogisticRegression</label><div class=\"sk-toggleable__content\"><pre>LogisticRegression(accountant=BudgetAccountant(spent_budget=[(1.6666666666666667, 0), (1.6666666666666667, 0), (0.3333333333333333, 0), (0.6666666666666666, 0), (1.0, 0), ...]),\n",
       "                   data_norm=4.727320492026039, epsilon=500)</pre></div></div></div></div></div>"
      ],
      "text/plain": [
       "LogisticRegression(accountant=BudgetAccountant(spent_budget=[(1.6666666666666667, 0), (1.6666666666666667, 0), (0.3333333333333333, 0), (0.6666666666666666, 0), (1.0, 0), ...]),\n",
       "                   data_norm=4.727320492026039, epsilon=500)"
      ]
     },
     "execution_count": 121,
     "metadata": {},
     "output_type": "execute_result"
    }
   ],
   "source": [
    "clf_dp.fit(X_train, w_train)"
   ]
  },
  {
   "cell_type": "code",
   "execution_count": 122,
   "id": "ceb5af09",
   "metadata": {},
   "outputs": [
    {
     "data": {
      "text/plain": [
       "0.545"
      ]
     },
     "execution_count": 122,
     "metadata": {},
     "output_type": "execute_result"
    }
   ],
   "source": [
    "w_pred = clf.predict(X_test)\n",
    "accuracy_score(w_test, w_pred)"
   ]
  },
  {
   "cell_type": "code",
   "execution_count": 123,
   "id": "71f6db86",
   "metadata": {},
   "outputs": [
    {
     "data": {
      "text/plain": [
       "0.6761565836298933"
      ]
     },
     "execution_count": 123,
     "metadata": {},
     "output_type": "execute_result"
    }
   ],
   "source": [
    "sklearn.metrics.f1_score(w_test, w_pred)"
   ]
  },
  {
   "cell_type": "code",
   "execution_count": 124,
   "id": "909a6ce0",
   "metadata": {},
   "outputs": [
    {
     "data": {
      "text/plain": [
       "0.595"
      ]
     },
     "execution_count": 124,
     "metadata": {},
     "output_type": "execute_result"
    }
   ],
   "source": [
    "w_pred_dp = clf_dp.predict(X_test)\n",
    "accuracy_score(w_test, w_pred_dp)"
   ]
  },
  {
   "cell_type": "code",
   "execution_count": 125,
   "id": "2e0793f0",
   "metadata": {},
   "outputs": [
    {
     "data": {
      "text/plain": [
       "0.59"
      ]
     },
     "execution_count": 125,
     "metadata": {},
     "output_type": "execute_result"
    }
   ],
   "source": [
    "accuracy_score(w_test, pred_nn)"
   ]
  },
  {
   "cell_type": "code",
   "execution_count": null,
   "id": "d26084e0",
   "metadata": {},
   "outputs": [],
   "source": []
  },
  {
   "cell_type": "markdown",
   "id": "8331791a",
   "metadata": {},
   "source": [
    "## Model selection with old/new metrics"
   ]
  },
  {
   "cell_type": "code",
   "execution_count": 164,
   "id": "52072be9",
   "metadata": {},
   "outputs": [],
   "source": [
    "def metric_selection_exp(real, gens, treatment_col, outcome_col, n_iter, cate, save=False, fp=''):\n",
    "    results = pd.DataFrame(columns=['gen', 'naive_f', 'naive_c', 'f', 'c', 'd', 'avg_u_pehe', 'true_pehe'])\n",
    "    alpha = AlphaPrecision()\n",
    "    n_units = len(real.drop([treatment_col, outcome_col], axis=1).columns)\n",
    "    for gen in gens:\n",
    "        for _ in range(n_iter):\n",
    "            synth = generate_standard(real, gen)\n",
    "\n",
    "            l = SLearner(n_unit_in=n_units, binary_y=False, seed=random.randint(0,1000000))\n",
    "            X_synth = np.array(synth.drop([treatment_col, outcome_col], axis=1))\n",
    "            X_real = np.array(real.drop([treatment_col, outcome_col], axis=1))\n",
    "            y = np.array(synth[outcome_col])\n",
    "            w = np.array(synth[treatment_col])\n",
    "            l.fit(X, y, w)\n",
    "            pred = l.predict(X_real)\n",
    "\n",
    "            true_mse = mean_squared_error(cate, pred.detach().cpu().numpy(), squared=False)\n",
    "            \n",
    "\n",
    "\n",
    "            results.loc[len(results)] = [gen, alpha.evaluate(GenericDataLoader(real), GenericDataLoader(synth))['delta_precision_alpha_OC'], \n",
    "                                        alpha.evaluate(GenericDataLoader(real), GenericDataLoader(synth))['delta_coverage_beta_OC'], \n",
    "                                        evaluate_f(real, synth, treatment_col, outcome_col), evaluate_c(real, synth, treatment_col, outcome_col), \n",
    "                                        evaluate_d(real, synth, treatment_col, outcome_col), evaluate_average_u_pehe(real, synth, treatment_col, outcome_col, n_units), true_mse]\n",
    "\n",
    "    if save:\n",
    "        results.to_csv(fp, index=False)\n",
    "    \n",
    "    return results"
   ]
  },
  {
   "cell_type": "code",
   "execution_count": 175,
   "id": "6416afff",
   "metadata": {},
   "outputs": [],
   "source": [
    "X,y,w,p,t = simulate_treatment_setup(1000, d=10, n_c=5, n_t=5)\n",
    "X_df = pd.DataFrame(X)\n",
    "y_df = pd.DataFrame(y, columns = ['y'])\n",
    "w_df = pd.DataFrame(w, columns = ['w'])\n",
    "d_real = pd.concat([X_df,w_df,y_df], axis=1)"
   ]
  },
  {
   "cell_type": "code",
   "execution_count": 176,
   "id": "bb1ca208",
   "metadata": {},
   "outputs": [
    {
     "name": "stderr",
     "output_type": "stream",
     "text": [
      "[2024-05-13T03:29:01.651510+0000][3915287][CRITICAL] load failed: module 'synthcity.plugins.generic.plugin_goggle' has no attribute 'plugin'\n",
      "[2024-05-13T03:29:01.652506+0000][3915287][CRITICAL] load failed: module 'synthcity.plugins.generic.plugin_goggle' has no attribute 'plugin'\n",
      "[2024-05-13T03:29:01.652932+0000][3915287][CRITICAL] module plugin_goggle load failed\n"
     ]
    },
    {
     "name": "stdout",
     "output_type": "stream",
     "text": [
      "Fitting ddpm model\n"
     ]
    },
    {
     "name": "stderr",
     "output_type": "stream",
     "text": [
      "Epoch: 100%|██████████| 1000/1000 [00:11<00:00, 84.94it/s, loss=0.94]\n"
     ]
    },
    {
     "name": "stdout",
     "output_type": "stream",
     "text": [
      "Generating ddpm synthetic dataset\n"
     ]
    },
    {
     "name": "stderr",
     "output_type": "stream",
     "text": [
      "[2024-05-13T03:31:34.028551+0000][3915287][CRITICAL] load failed: module 'synthcity.plugins.generic.plugin_goggle' has no attribute 'plugin'\n",
      "[2024-05-13T03:31:34.029626+0000][3915287][CRITICAL] load failed: module 'synthcity.plugins.generic.plugin_goggle' has no attribute 'plugin'\n",
      "[2024-05-13T03:31:34.029980+0000][3915287][CRITICAL] module plugin_goggle load failed\n"
     ]
    },
    {
     "name": "stdout",
     "output_type": "stream",
     "text": [
      "Fitting ddpm model\n"
     ]
    },
    {
     "name": "stderr",
     "output_type": "stream",
     "text": [
      "Epoch: 100%|██████████| 1000/1000 [00:11<00:00, 83.39it/s, loss=0.928]\n"
     ]
    },
    {
     "name": "stdout",
     "output_type": "stream",
     "text": [
      "Generating ddpm synthetic dataset\n"
     ]
    },
    {
     "name": "stderr",
     "output_type": "stream",
     "text": [
      "[2024-05-13T03:33:55.126337+0000][3915287][CRITICAL] load failed: module 'synthcity.plugins.generic.plugin_goggle' has no attribute 'plugin'\n",
      "[2024-05-13T03:33:55.127741+0000][3915287][CRITICAL] load failed: module 'synthcity.plugins.generic.plugin_goggle' has no attribute 'plugin'\n",
      "[2024-05-13T03:33:55.128205+0000][3915287][CRITICAL] module plugin_goggle load failed\n"
     ]
    },
    {
     "name": "stdout",
     "output_type": "stream",
     "text": [
      "Fitting ddpm model\n"
     ]
    },
    {
     "name": "stderr",
     "output_type": "stream",
     "text": [
      "Epoch: 100%|██████████| 1000/1000 [00:11<00:00, 83.96it/s, loss=0.927]\n"
     ]
    },
    {
     "name": "stdout",
     "output_type": "stream",
     "text": [
      "Generating ddpm synthetic dataset\n"
     ]
    },
    {
     "name": "stderr",
     "output_type": "stream",
     "text": [
      "[2024-05-13T03:36:14.336208+0000][3915287][CRITICAL] load failed: module 'synthcity.plugins.generic.plugin_goggle' has no attribute 'plugin'\n",
      "[2024-05-13T03:36:14.337662+0000][3915287][CRITICAL] load failed: module 'synthcity.plugins.generic.plugin_goggle' has no attribute 'plugin'\n",
      "[2024-05-13T03:36:14.338061+0000][3915287][CRITICAL] module plugin_goggle load failed\n"
     ]
    },
    {
     "name": "stdout",
     "output_type": "stream",
     "text": [
      "Fitting ddpm model\n"
     ]
    },
    {
     "name": "stderr",
     "output_type": "stream",
     "text": [
      "Epoch: 100%|██████████| 1000/1000 [00:11<00:00, 84.71it/s, loss=0.938]\n"
     ]
    },
    {
     "name": "stdout",
     "output_type": "stream",
     "text": [
      "Generating ddpm synthetic dataset\n"
     ]
    },
    {
     "name": "stderr",
     "output_type": "stream",
     "text": [
      "[2024-05-13T03:38:36.470122+0000][3915287][CRITICAL] load failed: module 'synthcity.plugins.generic.plugin_goggle' has no attribute 'plugin'\n",
      "[2024-05-13T03:38:36.471614+0000][3915287][CRITICAL] load failed: module 'synthcity.plugins.generic.plugin_goggle' has no attribute 'plugin'\n",
      "[2024-05-13T03:38:36.472100+0000][3915287][CRITICAL] module plugin_goggle load failed\n"
     ]
    },
    {
     "name": "stdout",
     "output_type": "stream",
     "text": [
      "Fitting ddpm model\n"
     ]
    },
    {
     "name": "stderr",
     "output_type": "stream",
     "text": [
      "Epoch: 100%|██████████| 1000/1000 [00:11<00:00, 85.82it/s, loss=0.928]\n"
     ]
    },
    {
     "name": "stdout",
     "output_type": "stream",
     "text": [
      "Generating ddpm synthetic dataset\n"
     ]
    },
    {
     "name": "stderr",
     "output_type": "stream",
     "text": [
      "[2024-05-13T03:41:07.441739+0000][3915287][CRITICAL] load failed: module 'synthcity.plugins.generic.plugin_goggle' has no attribute 'plugin'\n",
      "[2024-05-13T03:41:07.443254+0000][3915287][CRITICAL] load failed: module 'synthcity.plugins.generic.plugin_goggle' has no attribute 'plugin'\n",
      "[2024-05-13T03:41:07.443683+0000][3915287][CRITICAL] module plugin_goggle load failed\n"
     ]
    },
    {
     "name": "stdout",
     "output_type": "stream",
     "text": [
      "Fitting tvae model\n"
     ]
    },
    {
     "name": "stderr",
     "output_type": "stream",
     "text": [
      " 50%|█████     | 500/1000 [00:30<00:30, 16.35it/s]\n"
     ]
    },
    {
     "name": "stdout",
     "output_type": "stream",
     "text": [
      "Generating tvae synthetic dataset\n"
     ]
    },
    {
     "name": "stderr",
     "output_type": "stream",
     "text": [
      "[2024-05-13T03:43:15.939077+0000][3915287][CRITICAL] load failed: module 'synthcity.plugins.generic.plugin_goggle' has no attribute 'plugin'\n",
      "[2024-05-13T03:43:15.940143+0000][3915287][CRITICAL] load failed: module 'synthcity.plugins.generic.plugin_goggle' has no attribute 'plugin'\n",
      "[2024-05-13T03:43:15.940485+0000][3915287][CRITICAL] module plugin_goggle load failed\n"
     ]
    },
    {
     "name": "stdout",
     "output_type": "stream",
     "text": [
      "Fitting tvae model\n"
     ]
    },
    {
     "name": "stderr",
     "output_type": "stream",
     "text": [
      " 50%|█████     | 500/1000 [00:32<00:32, 15.51it/s]\n"
     ]
    },
    {
     "name": "stdout",
     "output_type": "stream",
     "text": [
      "Generating tvae synthetic dataset\n"
     ]
    },
    {
     "name": "stderr",
     "output_type": "stream",
     "text": [
      "[2024-05-13T03:45:30.475380+0000][3915287][CRITICAL] load failed: module 'synthcity.plugins.generic.plugin_goggle' has no attribute 'plugin'\n",
      "[2024-05-13T03:45:30.476786+0000][3915287][CRITICAL] load failed: module 'synthcity.plugins.generic.plugin_goggle' has no attribute 'plugin'\n",
      "[2024-05-13T03:45:30.477166+0000][3915287][CRITICAL] module plugin_goggle load failed\n"
     ]
    },
    {
     "name": "stdout",
     "output_type": "stream",
     "text": [
      "Fitting tvae model\n"
     ]
    },
    {
     "name": "stderr",
     "output_type": "stream",
     "text": [
      " 45%|████▌     | 450/1000 [00:29<00:36, 15.25it/s]\n"
     ]
    },
    {
     "name": "stdout",
     "output_type": "stream",
     "text": [
      "Generating tvae synthetic dataset\n"
     ]
    },
    {
     "name": "stderr",
     "output_type": "stream",
     "text": [
      "[2024-05-13T03:47:39.991895+0000][3915287][CRITICAL] load failed: module 'synthcity.plugins.generic.plugin_goggle' has no attribute 'plugin'\n",
      "[2024-05-13T03:47:39.992968+0000][3915287][CRITICAL] load failed: module 'synthcity.plugins.generic.plugin_goggle' has no attribute 'plugin'\n",
      "[2024-05-13T03:47:39.993286+0000][3915287][CRITICAL] module plugin_goggle load failed\n"
     ]
    },
    {
     "name": "stdout",
     "output_type": "stream",
     "text": [
      "Fitting tvae model\n"
     ]
    },
    {
     "name": "stderr",
     "output_type": "stream",
     "text": [
      " 40%|████      | 400/1000 [00:20<00:31, 19.07it/s]\n"
     ]
    },
    {
     "name": "stdout",
     "output_type": "stream",
     "text": [
      "Generating tvae synthetic dataset\n"
     ]
    },
    {
     "name": "stderr",
     "output_type": "stream",
     "text": [
      "[2024-05-13T03:49:37.466964+0000][3915287][CRITICAL] load failed: module 'synthcity.plugins.generic.plugin_goggle' has no attribute 'plugin'\n",
      "[2024-05-13T03:49:37.468441+0000][3915287][CRITICAL] load failed: module 'synthcity.plugins.generic.plugin_goggle' has no attribute 'plugin'\n",
      "[2024-05-13T03:49:37.468936+0000][3915287][CRITICAL] module plugin_goggle load failed\n"
     ]
    },
    {
     "name": "stdout",
     "output_type": "stream",
     "text": [
      "Fitting tvae model\n"
     ]
    },
    {
     "name": "stderr",
     "output_type": "stream",
     "text": [
      " 50%|█████     | 500/1000 [00:30<00:30, 16.38it/s]\n"
     ]
    },
    {
     "name": "stdout",
     "output_type": "stream",
     "text": [
      "Generating tvae synthetic dataset\n"
     ]
    },
    {
     "name": "stderr",
     "output_type": "stream",
     "text": [
      "[2024-05-13T03:51:51.257741+0000][3915287][CRITICAL] load failed: module 'synthcity.plugins.generic.plugin_goggle' has no attribute 'plugin'\n",
      "[2024-05-13T03:51:51.259304+0000][3915287][CRITICAL] load failed: module 'synthcity.plugins.generic.plugin_goggle' has no attribute 'plugin'\n",
      "[2024-05-13T03:51:51.259740+0000][3915287][CRITICAL] module plugin_goggle load failed\n"
     ]
    },
    {
     "name": "stdout",
     "output_type": "stream",
     "text": [
      "Fitting ctgan model\n"
     ]
    },
    {
     "name": "stderr",
     "output_type": "stream",
     "text": [
      " 40%|███▉      | 799/2000 [01:14<01:51, 10.75it/s]\n"
     ]
    },
    {
     "name": "stdout",
     "output_type": "stream",
     "text": [
      "Generating ctgan synthetic dataset\n"
     ]
    },
    {
     "name": "stderr",
     "output_type": "stream",
     "text": [
      "[2024-05-13T03:54:50.357566+0000][3915287][CRITICAL] load failed: module 'synthcity.plugins.generic.plugin_goggle' has no attribute 'plugin'\n",
      "[2024-05-13T03:54:50.359033+0000][3915287][CRITICAL] load failed: module 'synthcity.plugins.generic.plugin_goggle' has no attribute 'plugin'\n",
      "[2024-05-13T03:54:50.359489+0000][3915287][CRITICAL] module plugin_goggle load failed\n"
     ]
    },
    {
     "name": "stdout",
     "output_type": "stream",
     "text": [
      "Fitting ctgan model\n"
     ]
    },
    {
     "name": "stderr",
     "output_type": "stream",
     "text": [
      " 20%|█▉        | 399/2000 [00:31<02:07, 12.58it/s]\n"
     ]
    },
    {
     "name": "stdout",
     "output_type": "stream",
     "text": [
      "Generating ctgan synthetic dataset\n"
     ]
    },
    {
     "name": "stderr",
     "output_type": "stream",
     "text": [
      "[2024-05-13T03:57:14.446486+0000][3915287][CRITICAL] load failed: module 'synthcity.plugins.generic.plugin_goggle' has no attribute 'plugin'\n",
      "[2024-05-13T03:57:14.448338+0000][3915287][CRITICAL] load failed: module 'synthcity.plugins.generic.plugin_goggle' has no attribute 'plugin'\n",
      "[2024-05-13T03:57:14.448779+0000][3915287][CRITICAL] module plugin_goggle load failed\n"
     ]
    },
    {
     "name": "stdout",
     "output_type": "stream",
     "text": [
      "Fitting ctgan model\n"
     ]
    },
    {
     "name": "stderr",
     "output_type": "stream",
     "text": [
      " 60%|█████▉    | 1199/2000 [01:37<01:05, 12.31it/s]\n"
     ]
    },
    {
     "name": "stdout",
     "output_type": "stream",
     "text": [
      "Generating ctgan synthetic dataset\n"
     ]
    },
    {
     "name": "stderr",
     "output_type": "stream",
     "text": [
      "[2024-05-13T04:00:38.856632+0000][3915287][CRITICAL] load failed: module 'synthcity.plugins.generic.plugin_goggle' has no attribute 'plugin'\n",
      "[2024-05-13T04:00:38.857719+0000][3915287][CRITICAL] load failed: module 'synthcity.plugins.generic.plugin_goggle' has no attribute 'plugin'\n",
      "[2024-05-13T04:00:38.858068+0000][3915287][CRITICAL] module plugin_goggle load failed\n"
     ]
    },
    {
     "name": "stdout",
     "output_type": "stream",
     "text": [
      "Fitting ctgan model\n"
     ]
    },
    {
     "name": "stderr",
     "output_type": "stream",
     "text": [
      " 32%|███▏      | 649/2000 [00:53<01:51, 12.15it/s]\n"
     ]
    },
    {
     "name": "stdout",
     "output_type": "stream",
     "text": [
      "Generating ctgan synthetic dataset\n"
     ]
    },
    {
     "name": "stderr",
     "output_type": "stream",
     "text": [
      "[2024-05-13T04:03:17.469196+0000][3915287][CRITICAL] load failed: module 'synthcity.plugins.generic.plugin_goggle' has no attribute 'plugin'\n",
      "[2024-05-13T04:03:17.470684+0000][3915287][CRITICAL] load failed: module 'synthcity.plugins.generic.plugin_goggle' has no attribute 'plugin'\n",
      "[2024-05-13T04:03:17.471267+0000][3915287][CRITICAL] module plugin_goggle load failed\n"
     ]
    },
    {
     "name": "stdout",
     "output_type": "stream",
     "text": [
      "Fitting ctgan model\n"
     ]
    },
    {
     "name": "stderr",
     "output_type": "stream",
     "text": [
      " 42%|████▏     | 849/2000 [01:07<01:31, 12.64it/s]\n"
     ]
    },
    {
     "name": "stdout",
     "output_type": "stream",
     "text": [
      "Generating ctgan synthetic dataset\n"
     ]
    }
   ],
   "source": [
    "r = metric_selection_exp(d_real, ['ddpm', 'tvae', 'ctgan'], 'w','y',5, t)"
   ]
  },
  {
   "cell_type": "code",
   "execution_count": 177,
   "id": "30827484",
   "metadata": {},
   "outputs": [
    {
     "data": {
      "text/html": [
       "<div>\n",
       "<style scoped>\n",
       "    .dataframe tbody tr th:only-of-type {\n",
       "        vertical-align: middle;\n",
       "    }\n",
       "\n",
       "    .dataframe tbody tr th {\n",
       "        vertical-align: top;\n",
       "    }\n",
       "\n",
       "    .dataframe thead th {\n",
       "        text-align: right;\n",
       "    }\n",
       "</style>\n",
       "<table border=\"1\" class=\"dataframe\">\n",
       "  <thead>\n",
       "    <tr style=\"text-align: right;\">\n",
       "      <th></th>\n",
       "      <th>naive_f</th>\n",
       "      <th>naive_c</th>\n",
       "      <th>f</th>\n",
       "      <th>c</th>\n",
       "      <th>d</th>\n",
       "      <th>avg_u_pehe</th>\n",
       "      <th>true_pehe</th>\n",
       "    </tr>\n",
       "    <tr>\n",
       "      <th>gen</th>\n",
       "      <th></th>\n",
       "      <th></th>\n",
       "      <th></th>\n",
       "      <th></th>\n",
       "      <th></th>\n",
       "      <th></th>\n",
       "      <th></th>\n",
       "    </tr>\n",
       "  </thead>\n",
       "  <tbody>\n",
       "    <tr>\n",
       "      <th>ctgan</th>\n",
       "      <td>0.220667</td>\n",
       "      <td>0.213880</td>\n",
       "      <td>0.712213</td>\n",
       "      <td>0.429227</td>\n",
       "      <td>0.828299</td>\n",
       "      <td>4.130368</td>\n",
       "      <td>3.345431</td>\n",
       "    </tr>\n",
       "    <tr>\n",
       "      <th>ddpm</th>\n",
       "      <td>0.169760</td>\n",
       "      <td>0.149907</td>\n",
       "      <td>0.372320</td>\n",
       "      <td>0.317427</td>\n",
       "      <td>0.843055</td>\n",
       "      <td>5.022178</td>\n",
       "      <td>6.463229</td>\n",
       "    </tr>\n",
       "    <tr>\n",
       "      <th>tvae</th>\n",
       "      <td>0.194000</td>\n",
       "      <td>0.267880</td>\n",
       "      <td>0.417520</td>\n",
       "      <td>0.412493</td>\n",
       "      <td>0.850976</td>\n",
       "      <td>4.636204</td>\n",
       "      <td>4.382946</td>\n",
       "    </tr>\n",
       "  </tbody>\n",
       "</table>\n",
       "</div>"
      ],
      "text/plain": [
       "        naive_f   naive_c         f         c         d  avg_u_pehe  true_pehe\n",
       "gen                                                                           \n",
       "ctgan  0.220667  0.213880  0.712213  0.429227  0.828299    4.130368   3.345431\n",
       "ddpm   0.169760  0.149907  0.372320  0.317427  0.843055    5.022178   6.463229\n",
       "tvae   0.194000  0.267880  0.417520  0.412493  0.850976    4.636204   4.382946"
      ]
     },
     "execution_count": 177,
     "metadata": {},
     "output_type": "execute_result"
    }
   ],
   "source": [
    "r.groupby('gen').mean()"
   ]
  },
  {
   "cell_type": "code",
   "execution_count": 181,
   "id": "7c2b3ca3",
   "metadata": {},
   "outputs": [
    {
     "data": {
      "text/html": [
       "<div>\n",
       "<style scoped>\n",
       "    .dataframe tbody tr th:only-of-type {\n",
       "        vertical-align: middle;\n",
       "    }\n",
       "\n",
       "    .dataframe tbody tr th {\n",
       "        vertical-align: top;\n",
       "    }\n",
       "\n",
       "    .dataframe thead th {\n",
       "        text-align: right;\n",
       "    }\n",
       "</style>\n",
       "<table border=\"1\" class=\"dataframe\">\n",
       "  <thead>\n",
       "    <tr style=\"text-align: right;\">\n",
       "      <th></th>\n",
       "      <th>gen</th>\n",
       "      <th>naive_f</th>\n",
       "      <th>naive_c</th>\n",
       "      <th>f</th>\n",
       "      <th>c</th>\n",
       "      <th>d</th>\n",
       "      <th>avg_u_pehe</th>\n",
       "      <th>true_pehe</th>\n",
       "    </tr>\n",
       "  </thead>\n",
       "  <tbody>\n",
       "    <tr>\n",
       "      <th>0</th>\n",
       "      <td>ddpm</td>\n",
       "      <td>0.159200</td>\n",
       "      <td>0.161000</td>\n",
       "      <td>0.347800</td>\n",
       "      <td>0.315200</td>\n",
       "      <td>0.827596</td>\n",
       "      <td>5.019045</td>\n",
       "      <td>6.180081</td>\n",
       "    </tr>\n",
       "    <tr>\n",
       "      <th>1</th>\n",
       "      <td>ddpm</td>\n",
       "      <td>0.193267</td>\n",
       "      <td>0.162933</td>\n",
       "      <td>0.438533</td>\n",
       "      <td>0.348800</td>\n",
       "      <td>0.872552</td>\n",
       "      <td>4.872704</td>\n",
       "      <td>6.107316</td>\n",
       "    </tr>\n",
       "    <tr>\n",
       "      <th>2</th>\n",
       "      <td>ddpm</td>\n",
       "      <td>0.187933</td>\n",
       "      <td>0.181000</td>\n",
       "      <td>0.376067</td>\n",
       "      <td>0.315867</td>\n",
       "      <td>0.840065</td>\n",
       "      <td>4.847493</td>\n",
       "      <td>4.411336</td>\n",
       "    </tr>\n",
       "    <tr>\n",
       "      <th>3</th>\n",
       "      <td>ddpm</td>\n",
       "      <td>0.156400</td>\n",
       "      <td>0.108333</td>\n",
       "      <td>0.358467</td>\n",
       "      <td>0.312400</td>\n",
       "      <td>0.810350</td>\n",
       "      <td>5.646578</td>\n",
       "      <td>10.316340</td>\n",
       "    </tr>\n",
       "    <tr>\n",
       "      <th>4</th>\n",
       "      <td>ddpm</td>\n",
       "      <td>0.152000</td>\n",
       "      <td>0.136267</td>\n",
       "      <td>0.340733</td>\n",
       "      <td>0.294867</td>\n",
       "      <td>0.864712</td>\n",
       "      <td>4.725068</td>\n",
       "      <td>5.301073</td>\n",
       "    </tr>\n",
       "    <tr>\n",
       "      <th>5</th>\n",
       "      <td>tvae</td>\n",
       "      <td>0.197533</td>\n",
       "      <td>0.278000</td>\n",
       "      <td>0.391933</td>\n",
       "      <td>0.397467</td>\n",
       "      <td>0.859963</td>\n",
       "      <td>4.561422</td>\n",
       "      <td>4.646987</td>\n",
       "    </tr>\n",
       "    <tr>\n",
       "      <th>6</th>\n",
       "      <td>tvae</td>\n",
       "      <td>0.212333</td>\n",
       "      <td>0.275533</td>\n",
       "      <td>0.611667</td>\n",
       "      <td>0.456133</td>\n",
       "      <td>0.792024</td>\n",
       "      <td>5.628002</td>\n",
       "      <td>4.371593</td>\n",
       "    </tr>\n",
       "    <tr>\n",
       "      <th>7</th>\n",
       "      <td>tvae</td>\n",
       "      <td>0.201133</td>\n",
       "      <td>0.243533</td>\n",
       "      <td>0.353267</td>\n",
       "      <td>0.401733</td>\n",
       "      <td>0.879268</td>\n",
       "      <td>4.266879</td>\n",
       "      <td>4.128672</td>\n",
       "    </tr>\n",
       "    <tr>\n",
       "      <th>8</th>\n",
       "      <td>tvae</td>\n",
       "      <td>0.150867</td>\n",
       "      <td>0.261067</td>\n",
       "      <td>0.264600</td>\n",
       "      <td>0.354400</td>\n",
       "      <td>0.852342</td>\n",
       "      <td>4.254686</td>\n",
       "      <td>4.494903</td>\n",
       "    </tr>\n",
       "    <tr>\n",
       "      <th>9</th>\n",
       "      <td>tvae</td>\n",
       "      <td>0.208133</td>\n",
       "      <td>0.281267</td>\n",
       "      <td>0.466133</td>\n",
       "      <td>0.452733</td>\n",
       "      <td>0.871281</td>\n",
       "      <td>4.470029</td>\n",
       "      <td>4.272577</td>\n",
       "    </tr>\n",
       "    <tr>\n",
       "      <th>10</th>\n",
       "      <td>ctgan</td>\n",
       "      <td>0.224267</td>\n",
       "      <td>0.255067</td>\n",
       "      <td>0.715800</td>\n",
       "      <td>0.438400</td>\n",
       "      <td>0.823640</td>\n",
       "      <td>4.139482</td>\n",
       "      <td>3.334362</td>\n",
       "    </tr>\n",
       "    <tr>\n",
       "      <th>11</th>\n",
       "      <td>ctgan</td>\n",
       "      <td>0.224267</td>\n",
       "      <td>0.150067</td>\n",
       "      <td>0.721133</td>\n",
       "      <td>0.386200</td>\n",
       "      <td>0.741906</td>\n",
       "      <td>4.681582</td>\n",
       "      <td>3.302677</td>\n",
       "    </tr>\n",
       "    <tr>\n",
       "      <th>12</th>\n",
       "      <td>ctgan</td>\n",
       "      <td>0.240800</td>\n",
       "      <td>0.235467</td>\n",
       "      <td>0.720800</td>\n",
       "      <td>0.460200</td>\n",
       "      <td>0.840896</td>\n",
       "      <td>3.885066</td>\n",
       "      <td>3.255111</td>\n",
       "    </tr>\n",
       "    <tr>\n",
       "      <th>13</th>\n",
       "      <td>ctgan</td>\n",
       "      <td>0.209933</td>\n",
       "      <td>0.191933</td>\n",
       "      <td>0.694733</td>\n",
       "      <td>0.407200</td>\n",
       "      <td>0.845189</td>\n",
       "      <td>3.785614</td>\n",
       "      <td>3.416519</td>\n",
       "    </tr>\n",
       "    <tr>\n",
       "      <th>14</th>\n",
       "      <td>ctgan</td>\n",
       "      <td>0.204067</td>\n",
       "      <td>0.236867</td>\n",
       "      <td>0.708600</td>\n",
       "      <td>0.454133</td>\n",
       "      <td>0.889862</td>\n",
       "      <td>4.160095</td>\n",
       "      <td>3.418485</td>\n",
       "    </tr>\n",
       "  </tbody>\n",
       "</table>\n",
       "</div>"
      ],
      "text/plain": [
       "      gen   naive_f   naive_c         f         c         d  avg_u_pehe  \\\n",
       "0    ddpm  0.159200  0.161000  0.347800  0.315200  0.827596    5.019045   \n",
       "1    ddpm  0.193267  0.162933  0.438533  0.348800  0.872552    4.872704   \n",
       "2    ddpm  0.187933  0.181000  0.376067  0.315867  0.840065    4.847493   \n",
       "3    ddpm  0.156400  0.108333  0.358467  0.312400  0.810350    5.646578   \n",
       "4    ddpm  0.152000  0.136267  0.340733  0.294867  0.864712    4.725068   \n",
       "5    tvae  0.197533  0.278000  0.391933  0.397467  0.859963    4.561422   \n",
       "6    tvae  0.212333  0.275533  0.611667  0.456133  0.792024    5.628002   \n",
       "7    tvae  0.201133  0.243533  0.353267  0.401733  0.879268    4.266879   \n",
       "8    tvae  0.150867  0.261067  0.264600  0.354400  0.852342    4.254686   \n",
       "9    tvae  0.208133  0.281267  0.466133  0.452733  0.871281    4.470029   \n",
       "10  ctgan  0.224267  0.255067  0.715800  0.438400  0.823640    4.139482   \n",
       "11  ctgan  0.224267  0.150067  0.721133  0.386200  0.741906    4.681582   \n",
       "12  ctgan  0.240800  0.235467  0.720800  0.460200  0.840896    3.885066   \n",
       "13  ctgan  0.209933  0.191933  0.694733  0.407200  0.845189    3.785614   \n",
       "14  ctgan  0.204067  0.236867  0.708600  0.454133  0.889862    4.160095   \n",
       "\n",
       "    true_pehe  \n",
       "0    6.180081  \n",
       "1    6.107316  \n",
       "2    4.411336  \n",
       "3   10.316340  \n",
       "4    5.301073  \n",
       "5    4.646987  \n",
       "6    4.371593  \n",
       "7    4.128672  \n",
       "8    4.494903  \n",
       "9    4.272577  \n",
       "10   3.334362  \n",
       "11   3.302677  \n",
       "12   3.255111  \n",
       "13   3.416519  \n",
       "14   3.418485  "
      ]
     },
     "execution_count": 181,
     "metadata": {},
     "output_type": "execute_result"
    }
   ],
   "source": [
    "r"
   ]
  },
  {
   "cell_type": "code",
   "execution_count": 180,
   "id": "f3bce6d9",
   "metadata": {},
   "outputs": [
    {
     "data": {
      "text/html": [
       "<div>\n",
       "<style scoped>\n",
       "    .dataframe tbody tr th:only-of-type {\n",
       "        vertical-align: middle;\n",
       "    }\n",
       "\n",
       "    .dataframe tbody tr th {\n",
       "        vertical-align: top;\n",
       "    }\n",
       "\n",
       "    .dataframe thead th {\n",
       "        text-align: right;\n",
       "    }\n",
       "</style>\n",
       "<table border=\"1\" class=\"dataframe\">\n",
       "  <thead>\n",
       "    <tr style=\"text-align: right;\">\n",
       "      <th></th>\n",
       "      <th>naive_f</th>\n",
       "      <th>naive_c</th>\n",
       "      <th>f</th>\n",
       "      <th>c</th>\n",
       "      <th>d</th>\n",
       "      <th>avg_u_pehe</th>\n",
       "      <th>true_pehe</th>\n",
       "    </tr>\n",
       "    <tr>\n",
       "      <th>gen</th>\n",
       "      <th></th>\n",
       "      <th></th>\n",
       "      <th></th>\n",
       "      <th></th>\n",
       "      <th></th>\n",
       "      <th></th>\n",
       "      <th></th>\n",
       "    </tr>\n",
       "  </thead>\n",
       "  <tbody>\n",
       "    <tr>\n",
       "      <th>ctgan</th>\n",
       "      <td>0.014336</td>\n",
       "      <td>0.042557</td>\n",
       "      <td>0.011009</td>\n",
       "      <td>0.031624</td>\n",
       "      <td>0.054128</td>\n",
       "      <td>0.347790</td>\n",
       "      <td>0.071587</td>\n",
       "    </tr>\n",
       "    <tr>\n",
       "      <th>ddpm</th>\n",
       "      <td>0.019289</td>\n",
       "      <td>0.028169</td>\n",
       "      <td>0.039335</td>\n",
       "      <td>0.019531</td>\n",
       "      <td>0.025771</td>\n",
       "      <td>0.364355</td>\n",
       "      <td>2.270142</td>\n",
       "    </tr>\n",
       "    <tr>\n",
       "      <th>tvae</th>\n",
       "      <td>0.024798</td>\n",
       "      <td>0.015647</td>\n",
       "      <td>0.130599</td>\n",
       "      <td>0.042544</td>\n",
       "      <td>0.034535</td>\n",
       "      <td>0.569830</td>\n",
       "      <td>0.199511</td>\n",
       "    </tr>\n",
       "  </tbody>\n",
       "</table>\n",
       "</div>"
      ],
      "text/plain": [
       "        naive_f   naive_c         f         c         d  avg_u_pehe  true_pehe\n",
       "gen                                                                           \n",
       "ctgan  0.014336  0.042557  0.011009  0.031624  0.054128    0.347790   0.071587\n",
       "ddpm   0.019289  0.028169  0.039335  0.019531  0.025771    0.364355   2.270142\n",
       "tvae   0.024798  0.015647  0.130599  0.042544  0.034535    0.569830   0.199511"
      ]
     },
     "execution_count": 180,
     "metadata": {},
     "output_type": "execute_result"
    }
   ],
   "source": [
    "r.groupby('gen').std()"
   ]
  },
  {
   "cell_type": "code",
   "execution_count": 178,
   "id": "3e2367dc",
   "metadata": {},
   "outputs": [
    {
     "data": {
      "text/html": [
       "<div>\n",
       "<style scoped>\n",
       "    .dataframe tbody tr th:only-of-type {\n",
       "        vertical-align: middle;\n",
       "    }\n",
       "\n",
       "    .dataframe tbody tr th {\n",
       "        vertical-align: top;\n",
       "    }\n",
       "\n",
       "    .dataframe thead th {\n",
       "        text-align: right;\n",
       "    }\n",
       "</style>\n",
       "<table border=\"1\" class=\"dataframe\">\n",
       "  <thead>\n",
       "    <tr style=\"text-align: right;\">\n",
       "      <th></th>\n",
       "      <th>naive_f</th>\n",
       "      <th>naive_c</th>\n",
       "      <th>f</th>\n",
       "      <th>c</th>\n",
       "      <th>d</th>\n",
       "      <th>avg_u_pehe</th>\n",
       "      <th>true_pehe</th>\n",
       "    </tr>\n",
       "  </thead>\n",
       "  <tbody>\n",
       "    <tr>\n",
       "      <th>naive_f</th>\n",
       "      <td>1.000000</td>\n",
       "      <td>0.518293</td>\n",
       "      <td>0.931116</td>\n",
       "      <td>0.916356</td>\n",
       "      <td>-0.661953</td>\n",
       "      <td>-0.998754</td>\n",
       "      <td>-0.976275</td>\n",
       "    </tr>\n",
       "    <tr>\n",
       "      <th>naive_c</th>\n",
       "      <td>0.518293</td>\n",
       "      <td>1.000000</td>\n",
       "      <td>0.170679</td>\n",
       "      <td>0.817334</td>\n",
       "      <td>0.297928</td>\n",
       "      <td>-0.474967</td>\n",
       "      <td>-0.691179</td>\n",
       "    </tr>\n",
       "    <tr>\n",
       "      <th>f</th>\n",
       "      <td>0.931116</td>\n",
       "      <td>0.170679</td>\n",
       "      <td>1.000000</td>\n",
       "      <td>0.707212</td>\n",
       "      <td>-0.889731</td>\n",
       "      <td>-0.948158</td>\n",
       "      <td>-0.830049</td>\n",
       "    </tr>\n",
       "    <tr>\n",
       "      <th>c</th>\n",
       "      <td>0.916356</td>\n",
       "      <td>0.817334</td>\n",
       "      <td>0.707212</td>\n",
       "      <td>1.000000</td>\n",
       "      <td>-0.306493</td>\n",
       "      <td>-0.895233</td>\n",
       "      <td>-0.981308</td>\n",
       "    </tr>\n",
       "    <tr>\n",
       "      <th>d</th>\n",
       "      <td>-0.661953</td>\n",
       "      <td>0.297928</td>\n",
       "      <td>-0.889731</td>\n",
       "      <td>-0.306493</td>\n",
       "      <td>1.000000</td>\n",
       "      <td>0.698535</td>\n",
       "      <td>0.483944</td>\n",
       "    </tr>\n",
       "    <tr>\n",
       "      <th>avg_u_pehe</th>\n",
       "      <td>-0.998754</td>\n",
       "      <td>-0.474967</td>\n",
       "      <td>-0.948158</td>\n",
       "      <td>-0.895233</td>\n",
       "      <td>0.698535</td>\n",
       "      <td>1.000000</td>\n",
       "      <td>0.964251</td>\n",
       "    </tr>\n",
       "    <tr>\n",
       "      <th>true_pehe</th>\n",
       "      <td>-0.976275</td>\n",
       "      <td>-0.691179</td>\n",
       "      <td>-0.830049</td>\n",
       "      <td>-0.981308</td>\n",
       "      <td>0.483944</td>\n",
       "      <td>0.964251</td>\n",
       "      <td>1.000000</td>\n",
       "    </tr>\n",
       "  </tbody>\n",
       "</table>\n",
       "</div>"
      ],
      "text/plain": [
       "             naive_f   naive_c         f         c         d  avg_u_pehe  \\\n",
       "naive_f     1.000000  0.518293  0.931116  0.916356 -0.661953   -0.998754   \n",
       "naive_c     0.518293  1.000000  0.170679  0.817334  0.297928   -0.474967   \n",
       "f           0.931116  0.170679  1.000000  0.707212 -0.889731   -0.948158   \n",
       "c           0.916356  0.817334  0.707212  1.000000 -0.306493   -0.895233   \n",
       "d          -0.661953  0.297928 -0.889731 -0.306493  1.000000    0.698535   \n",
       "avg_u_pehe -0.998754 -0.474967 -0.948158 -0.895233  0.698535    1.000000   \n",
       "true_pehe  -0.976275 -0.691179 -0.830049 -0.981308  0.483944    0.964251   \n",
       "\n",
       "            true_pehe  \n",
       "naive_f     -0.976275  \n",
       "naive_c     -0.691179  \n",
       "f           -0.830049  \n",
       "c           -0.981308  \n",
       "d            0.483944  \n",
       "avg_u_pehe   0.964251  \n",
       "true_pehe    1.000000  "
      ]
     },
     "execution_count": 178,
     "metadata": {},
     "output_type": "execute_result"
    }
   ],
   "source": [
    "r.groupby('gen').mean().corr()"
   ]
  },
  {
   "cell_type": "code",
   "execution_count": 182,
   "id": "700585e8",
   "metadata": {},
   "outputs": [
    {
     "data": {
      "text/html": [
       "<div>\n",
       "<style scoped>\n",
       "    .dataframe tbody tr th:only-of-type {\n",
       "        vertical-align: middle;\n",
       "    }\n",
       "\n",
       "    .dataframe tbody tr th {\n",
       "        vertical-align: top;\n",
       "    }\n",
       "\n",
       "    .dataframe thead th {\n",
       "        text-align: right;\n",
       "    }\n",
       "</style>\n",
       "<table border=\"1\" class=\"dataframe\">\n",
       "  <thead>\n",
       "    <tr style=\"text-align: right;\">\n",
       "      <th></th>\n",
       "      <th>naive_f</th>\n",
       "      <th>naive_c</th>\n",
       "      <th>f</th>\n",
       "      <th>c</th>\n",
       "      <th>d</th>\n",
       "      <th>avg_u_pehe</th>\n",
       "      <th>true_pehe</th>\n",
       "    </tr>\n",
       "  </thead>\n",
       "  <tbody>\n",
       "    <tr>\n",
       "      <th>naive_f</th>\n",
       "      <td>1.000000</td>\n",
       "      <td>0.439887</td>\n",
       "      <td>0.835680</td>\n",
       "      <td>0.822514</td>\n",
       "      <td>-0.196454</td>\n",
       "      <td>-0.425639</td>\n",
       "      <td>-0.666643</td>\n",
       "    </tr>\n",
       "    <tr>\n",
       "      <th>naive_c</th>\n",
       "      <td>0.439887</td>\n",
       "      <td>1.000000</td>\n",
       "      <td>0.179318</td>\n",
       "      <td>0.758916</td>\n",
       "      <td>0.294362</td>\n",
       "      <td>-0.381417</td>\n",
       "      <td>-0.587392</td>\n",
       "    </tr>\n",
       "    <tr>\n",
       "      <th>f</th>\n",
       "      <td>0.835680</td>\n",
       "      <td>0.179318</td>\n",
       "      <td>1.000000</td>\n",
       "      <td>0.715389</td>\n",
       "      <td>-0.333082</td>\n",
       "      <td>-0.384802</td>\n",
       "      <td>-0.569777</td>\n",
       "    </tr>\n",
       "    <tr>\n",
       "      <th>c</th>\n",
       "      <td>0.822514</td>\n",
       "      <td>0.758916</td>\n",
       "      <td>0.715389</td>\n",
       "      <td>1.000000</td>\n",
       "      <td>0.046189</td>\n",
       "      <td>-0.437312</td>\n",
       "      <td>-0.634235</td>\n",
       "    </tr>\n",
       "    <tr>\n",
       "      <th>d</th>\n",
       "      <td>-0.196454</td>\n",
       "      <td>0.294362</td>\n",
       "      <td>-0.333082</td>\n",
       "      <td>0.046189</td>\n",
       "      <td>1.000000</td>\n",
       "      <td>-0.413797</td>\n",
       "      <td>-0.062527</td>\n",
       "    </tr>\n",
       "    <tr>\n",
       "      <th>avg_u_pehe</th>\n",
       "      <td>-0.425639</td>\n",
       "      <td>-0.381417</td>\n",
       "      <td>-0.384802</td>\n",
       "      <td>-0.437312</td>\n",
       "      <td>-0.413797</td>\n",
       "      <td>1.000000</td>\n",
       "      <td>0.711669</td>\n",
       "    </tr>\n",
       "    <tr>\n",
       "      <th>true_pehe</th>\n",
       "      <td>-0.666643</td>\n",
       "      <td>-0.587392</td>\n",
       "      <td>-0.569777</td>\n",
       "      <td>-0.634235</td>\n",
       "      <td>-0.062527</td>\n",
       "      <td>0.711669</td>\n",
       "      <td>1.000000</td>\n",
       "    </tr>\n",
       "  </tbody>\n",
       "</table>\n",
       "</div>"
      ],
      "text/plain": [
       "             naive_f   naive_c         f         c         d  avg_u_pehe  \\\n",
       "naive_f     1.000000  0.439887  0.835680  0.822514 -0.196454   -0.425639   \n",
       "naive_c     0.439887  1.000000  0.179318  0.758916  0.294362   -0.381417   \n",
       "f           0.835680  0.179318  1.000000  0.715389 -0.333082   -0.384802   \n",
       "c           0.822514  0.758916  0.715389  1.000000  0.046189   -0.437312   \n",
       "d          -0.196454  0.294362 -0.333082  0.046189  1.000000   -0.413797   \n",
       "avg_u_pehe -0.425639 -0.381417 -0.384802 -0.437312 -0.413797    1.000000   \n",
       "true_pehe  -0.666643 -0.587392 -0.569777 -0.634235 -0.062527    0.711669   \n",
       "\n",
       "            true_pehe  \n",
       "naive_f     -0.666643  \n",
       "naive_c     -0.587392  \n",
       "f           -0.569777  \n",
       "c           -0.634235  \n",
       "d           -0.062527  \n",
       "avg_u_pehe   0.711669  \n",
       "true_pehe    1.000000  "
      ]
     },
     "execution_count": 182,
     "metadata": {},
     "output_type": "execute_result"
    }
   ],
   "source": [
    "r.corr()"
   ]
  },
  {
   "cell_type": "code",
   "execution_count": 282,
   "id": "c8b87fc5",
   "metadata": {},
   "outputs": [],
   "source": [
    "def propensity_failure_selection_exp(n, d, n_c, n_t, n_iter):\n",
    "    results = pd.DataFrame(columns = ['dataset', 'naive_f', 'naive_c', 'f', 'c', 'd', 'u_pehe', 'oracle_pehe'])\n",
    "    alpha = AlphaPrecision()\n",
    "    for i in range(n_iter):\n",
    "        X,y,w,p,t = simulate_treatment_setup(n, d=d, n_c=n_c, n_t=n_t, seed = i)\n",
    "        X_df = pd.DataFrame(X)\n",
    "        y_df = pd.DataFrame(y, columns = ['y'])\n",
    "        w_df = pd.DataFrame(w, columns = ['w'])\n",
    "        d_real = pd.concat([X_df,w_df,y_df], axis=1)\n",
    "\n",
    "        X_adv,y_adv,_,_,_ = simulate_treatment_setup(n, d=d, n_c=n_c, n_t=n_t, seed=i+100)\n",
    "        X_adv_df = pd.DataFrame(X_adv)\n",
    "        y_adv_df = pd.DataFrame(y_adv, columns = ['y'])\n",
    "        w_adv = np.random.choice(2, n, p=[0.9,0.1])\n",
    "        w_adv_df = pd.DataFrame(w_adv, columns = ['w'])\n",
    "        d_adv = pd.concat([X_adv_df,w_adv_df,y_adv_df], axis=1)\n",
    "\n",
    "        l_adv = SLearner(n_unit_in=d, binary_y=False, seed=random.randint(0,1000000))\n",
    "        l_adv.fit(X_adv, y_adv, w_adv)\n",
    "        pred_adv = l_adv.predict(X)\n",
    "        adv_oracle_pehe = mean_squared_error(t, pred_adv.detach().cpu().numpy(), squared=False)\n",
    "\n",
    "        X_test,y_test,w_test,_,_ = simulate_treatment_setup(n, d=d, n_c=n_c, n_t=n_t, seed=i+200)\n",
    "        X_test_df = pd.DataFrame(X_test)\n",
    "        y_test_df = pd.DataFrame(y_test, columns = ['y'])\n",
    "        w_test_df = pd.DataFrame(w_test, columns = ['w'])\n",
    "        d_test = pd.concat([X_test_df,w_test_df,y_test_df], axis=1)\n",
    "\n",
    "        l_test = SLearner(n_unit_in=d, binary_y=False, seed=random.randint(0,1000000))\n",
    "        l_test.fit(X_test, y_test, w_test)\n",
    "        pred_test = l_test.predict(X)\n",
    "        test_oracle_pehe = mean_squared_error(t, pred_test.detach().cpu().numpy(), squared=False)\n",
    "\n",
    "        results.loc[len(results)] = ['adv', alpha.evaluate(GenericDataLoader(d_real), GenericDataLoader(d_adv))['delta_precision_alpha_OC'], \n",
    "            alpha.evaluate(GenericDataLoader(d_real), GenericDataLoader(d_adv))['delta_coverage_beta_OC'], \n",
    "            evaluate_f(d_real, d_adv, 'w', 'y'), evaluate_c(d_real, d_adv, 'w', 'y'), \n",
    "            evaluate_d(d_real, d_adv, 'w', 'y'), evaluate_average_u_pehe(d_real, d_adv, 'w', 'y', d), adv_oracle_pehe]\n",
    "\n",
    "        results.loc[len(results)] = ['good', alpha.evaluate(GenericDataLoader(d_real), GenericDataLoader(d_test))['delta_precision_alpha_OC'], \n",
    "            alpha.evaluate(GenericDataLoader(d_real), GenericDataLoader(d_test))['delta_coverage_beta_OC'], \n",
    "            evaluate_f(d_real, d_test, 'w', 'y'), evaluate_c(d_real, d_test, 'w', 'y'), \n",
    "            evaluate_d(d_real, d_test, 'w', 'y'), evaluate_average_u_pehe(d_real, d_test, 'w', 'y', d), test_oracle_pehe]\n",
    "\n",
    "    return results\n",
    "        "
   ]
  },
  {
   "cell_type": "code",
   "execution_count": 285,
   "id": "63c9ec91",
   "metadata": {},
   "outputs": [],
   "source": [
    "results = propensity_failure_selection_exp(1000, 20, 15, 5, 5)"
   ]
  },
  {
   "cell_type": "code",
   "execution_count": 287,
   "id": "f33edb54",
   "metadata": {},
   "outputs": [
    {
     "data": {
      "text/html": [
       "<div>\n",
       "<style scoped>\n",
       "    .dataframe tbody tr th:only-of-type {\n",
       "        vertical-align: middle;\n",
       "    }\n",
       "\n",
       "    .dataframe tbody tr th {\n",
       "        vertical-align: top;\n",
       "    }\n",
       "\n",
       "    .dataframe thead th {\n",
       "        text-align: right;\n",
       "    }\n",
       "</style>\n",
       "<table border=\"1\" class=\"dataframe\">\n",
       "  <thead>\n",
       "    <tr style=\"text-align: right;\">\n",
       "      <th></th>\n",
       "      <th>naive_f</th>\n",
       "      <th>naive_c</th>\n",
       "      <th>f</th>\n",
       "      <th>c</th>\n",
       "      <th>d</th>\n",
       "      <th>u_pehe</th>\n",
       "      <th>oracle_pehe</th>\n",
       "    </tr>\n",
       "    <tr>\n",
       "      <th>dataset</th>\n",
       "      <th></th>\n",
       "      <th></th>\n",
       "      <th></th>\n",
       "      <th></th>\n",
       "      <th></th>\n",
       "      <th></th>\n",
       "      <th></th>\n",
       "    </tr>\n",
       "  </thead>\n",
       "  <tbody>\n",
       "    <tr>\n",
       "      <th>adv</th>\n",
       "      <td>0.249667</td>\n",
       "      <td>0.250533</td>\n",
       "      <td>0.504933</td>\n",
       "      <td>0.333000</td>\n",
       "      <td>0.171312</td>\n",
       "      <td>9.512197</td>\n",
       "      <td>5.934949</td>\n",
       "    </tr>\n",
       "    <tr>\n",
       "      <th>good</th>\n",
       "      <td>0.325773</td>\n",
       "      <td>0.230040</td>\n",
       "      <td>0.516107</td>\n",
       "      <td>0.321747</td>\n",
       "      <td>0.825531</td>\n",
       "      <td>4.045274</td>\n",
       "      <td>3.015091</td>\n",
       "    </tr>\n",
       "  </tbody>\n",
       "</table>\n",
       "</div>"
      ],
      "text/plain": [
       "          naive_f   naive_c         f         c         d    u_pehe  \\\n",
       "dataset                                                               \n",
       "adv      0.249667  0.250533  0.504933  0.333000  0.171312  9.512197   \n",
       "good     0.325773  0.230040  0.516107  0.321747  0.825531  4.045274   \n",
       "\n",
       "         oracle_pehe  \n",
       "dataset               \n",
       "adv         5.934949  \n",
       "good        3.015091  "
      ]
     },
     "execution_count": 287,
     "metadata": {},
     "output_type": "execute_result"
    }
   ],
   "source": [
    "results.groupby('dataset').mean()"
   ]
  },
  {
   "cell_type": "code",
   "execution_count": 288,
   "id": "1a7b35a3",
   "metadata": {},
   "outputs": [
    {
     "data": {
      "text/html": [
       "<div>\n",
       "<style scoped>\n",
       "    .dataframe tbody tr th:only-of-type {\n",
       "        vertical-align: middle;\n",
       "    }\n",
       "\n",
       "    .dataframe tbody tr th {\n",
       "        vertical-align: top;\n",
       "    }\n",
       "\n",
       "    .dataframe thead th {\n",
       "        text-align: right;\n",
       "    }\n",
       "</style>\n",
       "<table border=\"1\" class=\"dataframe\">\n",
       "  <thead>\n",
       "    <tr style=\"text-align: right;\">\n",
       "      <th></th>\n",
       "      <th>naive_f</th>\n",
       "      <th>naive_c</th>\n",
       "      <th>f</th>\n",
       "      <th>c</th>\n",
       "      <th>d</th>\n",
       "      <th>u_pehe</th>\n",
       "      <th>oracle_pehe</th>\n",
       "    </tr>\n",
       "    <tr>\n",
       "      <th>dataset</th>\n",
       "      <th></th>\n",
       "      <th></th>\n",
       "      <th></th>\n",
       "      <th></th>\n",
       "      <th></th>\n",
       "      <th></th>\n",
       "      <th></th>\n",
       "    </tr>\n",
       "  </thead>\n",
       "  <tbody>\n",
       "    <tr>\n",
       "      <th>adv</th>\n",
       "      <td>0.046114</td>\n",
       "      <td>0.030448</td>\n",
       "      <td>0.085821</td>\n",
       "      <td>0.036566</td>\n",
       "      <td>0.025064</td>\n",
       "      <td>0.858537</td>\n",
       "      <td>0.462084</td>\n",
       "    </tr>\n",
       "    <tr>\n",
       "      <th>good</th>\n",
       "      <td>0.050865</td>\n",
       "      <td>0.023497</td>\n",
       "      <td>0.094260</td>\n",
       "      <td>0.048294</td>\n",
       "      <td>0.024362</td>\n",
       "      <td>0.166573</td>\n",
       "      <td>0.093107</td>\n",
       "    </tr>\n",
       "  </tbody>\n",
       "</table>\n",
       "</div>"
      ],
      "text/plain": [
       "          naive_f   naive_c         f         c         d    u_pehe  \\\n",
       "dataset                                                               \n",
       "adv      0.046114  0.030448  0.085821  0.036566  0.025064  0.858537   \n",
       "good     0.050865  0.023497  0.094260  0.048294  0.024362  0.166573   \n",
       "\n",
       "         oracle_pehe  \n",
       "dataset               \n",
       "adv         0.462084  \n",
       "good        0.093107  "
      ]
     },
     "execution_count": 288,
     "metadata": {},
     "output_type": "execute_result"
    }
   ],
   "source": [
    "results.groupby('dataset').std()"
   ]
  },
  {
   "cell_type": "code",
   "execution_count": 289,
   "id": "d7669159",
   "metadata": {},
   "outputs": [],
   "source": [
    "results.to_csv('model_selection_propensity_failure.csv', index=False)"
   ]
  },
  {
   "cell_type": "code",
   "execution_count": null,
   "id": "54ad2744",
   "metadata": {},
   "outputs": [],
   "source": []
  },
  {
   "cell_type": "code",
   "execution_count": 697,
   "id": "0d9f1d5d",
   "metadata": {},
   "outputs": [],
   "source": [
    "def model_selection_exp(n, d, n_c, n_t, n_iter):\n",
    "    results = pd.DataFrame(columns = ['method', 'alpha', 'beta', 'f', 'c', 'd', 'u_pehe', 'oracle_pehe'])\n",
    "    alpha = AlphaPrecision()\n",
    "\n",
    "    X,y,w,p,t = simulate_treatment_setup(n, d=d, n_c=n_c, n_t=n_t)\n",
    "    X_df = pd.DataFrame(X)\n",
    "    y_df = pd.DataFrame(y, columns = ['y'])\n",
    "    w_df = pd.DataFrame(w, columns = ['w'])\n",
    "    d_real = pd.concat([X_df,w_df,y_df], axis=1)\n",
    "\n",
    "    for _ in range(n_iter):\n",
    "    \n",
    "        d_standard = generate_standard_test(d_real, 'arf')\n",
    "        X_stand = np.array(d_standard.drop(['w', 'y'], axis=1))\n",
    "        y_stand = np.array(d_standard['y'])\n",
    "        w_stand = np.array(d_standard['w'])\n",
    "\n",
    "        l_stand = SLearner(n_unit_in=d, binary_y=False, seed=random.randint(0,1000000))\n",
    "        l_stand.fit(X_stand, y_stand, w_stand)\n",
    "        pred_stand = l_stand.predict(X)\n",
    "        oracle_standard = mean_squared_error(t, pred_stand.detach().cpu().numpy(), squared=False)\n",
    "\n",
    "        d_seq = generate_sequentially_test(d_real, 'arf', 'w', 'y')\n",
    "        X_seq = np.array(d_seq.drop(['w', 'y'], axis=1))\n",
    "        y_seq = np.array(d_seq['y'])\n",
    "        w_seq = np.array(d_seq['w'])\n",
    "\n",
    "        l_seq = SLearner(n_unit_in=d, binary_y=False, seed=random.randint(0,1000000))\n",
    "        l_seq.fit(X_seq, y_seq, w_seq)\n",
    "        pred_seq = l_seq.predict(X)\n",
    "        oracle_seq = mean_squared_error(t, pred_seq.detach().cpu().numpy(), squared=False)\n",
    "\n",
    "        results.loc[len(results)] = ['standard', alpha.evaluate(GenericDataLoader(d_real), GenericDataLoader(d_standard))['delta_precision_alpha_OC'], \n",
    "            alpha.evaluate(GenericDataLoader(d_real), GenericDataLoader(d_standard))['delta_coverage_beta_OC'], \n",
    "            evaluate_f(d_real, d_standard, 'w', 'y'), evaluate_c(d_real, d_standard, 'w', 'y'), \n",
    "            evaluate_d(d_real, d_standard, 'w', 'y'), evaluate_average_u_pehe(d_real, d_standard, 'w', 'y', d), oracle_standard]\n",
    "\n",
    "        results.loc[len(results)] = ['seq', alpha.evaluate(GenericDataLoader(d_real), GenericDataLoader(d_seq))['delta_precision_alpha_OC'], \n",
    "            alpha.evaluate(GenericDataLoader(d_real), GenericDataLoader(d_seq))['delta_coverage_beta_OC'], \n",
    "            evaluate_f(d_real, d_seq, 'w', 'y'), evaluate_c(d_real, d_seq, 'w', 'y'), \n",
    "            evaluate_d(d_real, d_seq, 'w', 'y'), evaluate_average_u_pehe(d_real, d_seq, 'w', 'y', d), oracle_seq]\n",
    "\n",
    "    return results"
   ]
  },
  {
   "cell_type": "code",
   "execution_count": 698,
   "id": "0163cb34",
   "metadata": {},
   "outputs": [
    {
     "name": "stderr",
     "output_type": "stream",
     "text": [
      "[2024-05-15T04:49:05.658062+0000][130783][CRITICAL] load failed: module 'synthcity.plugins.generic.plugin_goggle' has no attribute 'plugin'\n",
      "[2024-05-15T04:49:05.661529+0000][130783][CRITICAL] load failed: module 'synthcity.plugins.generic.plugin_goggle' has no attribute 'plugin'\n",
      "[2024-05-15T04:49:05.662011+0000][130783][CRITICAL] module plugin_goggle load failed\n"
     ]
    },
    {
     "name": "stdout",
     "output_type": "stream",
     "text": [
      "Fitting arf model\n",
      "Initial accuracy is 0.474\n",
      "Generating arf synthetic dataset\n"
     ]
    },
    {
     "name": "stderr",
     "output_type": "stream",
     "text": [
      "[2024-05-15T04:49:14.726832+0000][130783][CRITICAL] load failed: module 'synthcity.plugins.generic.plugin_goggle' has no attribute 'plugin'\n",
      "[2024-05-15T04:49:14.727913+0000][130783][CRITICAL] load failed: module 'synthcity.plugins.generic.plugin_goggle' has no attribute 'plugin'\n",
      "[2024-05-15T04:49:14.728298+0000][130783][CRITICAL] module plugin_goggle load failed\n"
     ]
    },
    {
     "name": "stdout",
     "output_type": "stream",
     "text": [
      "Fitting arf covariate model\n",
      "Initial accuracy is 0.4425\n",
      "Generating arf synthetic covariates\n",
      "Fitting propensity model\n",
      "Generating propensities\n",
      "Fitting CATE learner\n",
      "Generating POs\n"
     ]
    },
    {
     "name": "stderr",
     "output_type": "stream",
     "text": [
      "[2024-05-15T04:51:51.066177+0000][130783][CRITICAL] load failed: module 'synthcity.plugins.generic.plugin_goggle' has no attribute 'plugin'\n",
      "[2024-05-15T04:51:51.067666+0000][130783][CRITICAL] load failed: module 'synthcity.plugins.generic.plugin_goggle' has no attribute 'plugin'\n",
      "[2024-05-15T04:51:51.068189+0000][130783][CRITICAL] module plugin_goggle load failed\n"
     ]
    },
    {
     "name": "stdout",
     "output_type": "stream",
     "text": [
      "Fitting arf model\n",
      "Initial accuracy is 0.4845\n",
      "Generating arf synthetic dataset\n"
     ]
    },
    {
     "name": "stderr",
     "output_type": "stream",
     "text": [
      "[2024-05-15T04:51:59.868621+0000][130783][CRITICAL] load failed: module 'synthcity.plugins.generic.plugin_goggle' has no attribute 'plugin'\n",
      "[2024-05-15T04:51:59.869429+0000][130783][CRITICAL] load failed: module 'synthcity.plugins.generic.plugin_goggle' has no attribute 'plugin'\n",
      "[2024-05-15T04:51:59.869789+0000][130783][CRITICAL] module plugin_goggle load failed\n"
     ]
    },
    {
     "name": "stdout",
     "output_type": "stream",
     "text": [
      "Fitting arf covariate model\n",
      "Initial accuracy is 0.4405\n",
      "Generating arf synthetic covariates\n",
      "Fitting propensity model\n",
      "Generating propensities\n",
      "Fitting CATE learner\n",
      "Generating POs\n"
     ]
    },
    {
     "name": "stderr",
     "output_type": "stream",
     "text": [
      "[2024-05-15T04:54:32.485794+0000][130783][CRITICAL] load failed: module 'synthcity.plugins.generic.plugin_goggle' has no attribute 'plugin'\n",
      "[2024-05-15T04:54:32.487290+0000][130783][CRITICAL] load failed: module 'synthcity.plugins.generic.plugin_goggle' has no attribute 'plugin'\n",
      "[2024-05-15T04:54:32.487748+0000][130783][CRITICAL] module plugin_goggle load failed\n"
     ]
    },
    {
     "name": "stdout",
     "output_type": "stream",
     "text": [
      "Fitting arf model\n",
      "Initial accuracy is 0.4525\n",
      "Generating arf synthetic dataset\n"
     ]
    },
    {
     "name": "stderr",
     "output_type": "stream",
     "text": [
      "[2024-05-15T04:54:41.959703+0000][130783][CRITICAL] load failed: module 'synthcity.plugins.generic.plugin_goggle' has no attribute 'plugin'\n",
      "[2024-05-15T04:54:41.960608+0000][130783][CRITICAL] load failed: module 'synthcity.plugins.generic.plugin_goggle' has no attribute 'plugin'\n",
      "[2024-05-15T04:54:41.961105+0000][130783][CRITICAL] module plugin_goggle load failed\n"
     ]
    },
    {
     "name": "stdout",
     "output_type": "stream",
     "text": [
      "Fitting arf covariate model\n",
      "Initial accuracy is 0.4605\n",
      "Generating arf synthetic covariates\n",
      "Fitting propensity model\n",
      "Generating propensities\n",
      "Fitting CATE learner\n",
      "Generating POs\n"
     ]
    },
    {
     "name": "stderr",
     "output_type": "stream",
     "text": [
      "[2024-05-15T04:57:17.974836+0000][130783][CRITICAL] load failed: module 'synthcity.plugins.generic.plugin_goggle' has no attribute 'plugin'\n",
      "[2024-05-15T04:57:17.975881+0000][130783][CRITICAL] load failed: module 'synthcity.plugins.generic.plugin_goggle' has no attribute 'plugin'\n",
      "[2024-05-15T04:57:17.976382+0000][130783][CRITICAL] module plugin_goggle load failed\n"
     ]
    },
    {
     "name": "stdout",
     "output_type": "stream",
     "text": [
      "Fitting arf model\n",
      "Initial accuracy is 0.4645\n",
      "Generating arf synthetic dataset\n"
     ]
    },
    {
     "name": "stderr",
     "output_type": "stream",
     "text": [
      "[2024-05-15T04:57:27.217498+0000][130783][CRITICAL] load failed: module 'synthcity.plugins.generic.plugin_goggle' has no attribute 'plugin'\n",
      "[2024-05-15T04:57:27.218492+0000][130783][CRITICAL] load failed: module 'synthcity.plugins.generic.plugin_goggle' has no attribute 'plugin'\n",
      "[2024-05-15T04:57:27.218864+0000][130783][CRITICAL] module plugin_goggle load failed\n"
     ]
    },
    {
     "name": "stdout",
     "output_type": "stream",
     "text": [
      "Fitting arf covariate model\n",
      "Initial accuracy is 0.4445\n",
      "Generating arf synthetic covariates\n",
      "Fitting propensity model\n",
      "Generating propensities\n",
      "Fitting CATE learner\n",
      "Generating POs\n"
     ]
    },
    {
     "name": "stderr",
     "output_type": "stream",
     "text": [
      "[2024-05-15T05:00:03.730602+0000][130783][CRITICAL] load failed: module 'synthcity.plugins.generic.plugin_goggle' has no attribute 'plugin'\n",
      "[2024-05-15T05:00:03.731833+0000][130783][CRITICAL] load failed: module 'synthcity.plugins.generic.plugin_goggle' has no attribute 'plugin'\n",
      "[2024-05-15T05:00:03.732155+0000][130783][CRITICAL] module plugin_goggle load failed\n"
     ]
    },
    {
     "name": "stdout",
     "output_type": "stream",
     "text": [
      "Fitting arf model\n",
      "Initial accuracy is 0.471\n",
      "Generating arf synthetic dataset\n"
     ]
    },
    {
     "name": "stderr",
     "output_type": "stream",
     "text": [
      "[2024-05-15T05:00:13.357324+0000][130783][CRITICAL] load failed: module 'synthcity.plugins.generic.plugin_goggle' has no attribute 'plugin'\n",
      "[2024-05-15T05:00:13.358270+0000][130783][CRITICAL] load failed: module 'synthcity.plugins.generic.plugin_goggle' has no attribute 'plugin'\n",
      "[2024-05-15T05:00:13.358675+0000][130783][CRITICAL] module plugin_goggle load failed\n"
     ]
    },
    {
     "name": "stdout",
     "output_type": "stream",
     "text": [
      "Fitting arf covariate model\n",
      "Initial accuracy is 0.442\n",
      "Generating arf synthetic covariates\n",
      "Fitting propensity model\n",
      "Generating propensities\n",
      "Fitting CATE learner\n",
      "Generating POs\n"
     ]
    }
   ],
   "source": [
    "model_selection_results = model_selection_exp(1000, 40, 0, 10, 5)"
   ]
  },
  {
   "cell_type": "code",
   "execution_count": 699,
   "id": "d14ee6b0",
   "metadata": {},
   "outputs": [
    {
     "data": {
      "text/html": [
       "<div>\n",
       "<style scoped>\n",
       "    .dataframe tbody tr th:only-of-type {\n",
       "        vertical-align: middle;\n",
       "    }\n",
       "\n",
       "    .dataframe tbody tr th {\n",
       "        vertical-align: top;\n",
       "    }\n",
       "\n",
       "    .dataframe thead th {\n",
       "        text-align: right;\n",
       "    }\n",
       "</style>\n",
       "<table border=\"1\" class=\"dataframe\">\n",
       "  <thead>\n",
       "    <tr style=\"text-align: right;\">\n",
       "      <th></th>\n",
       "      <th>alpha</th>\n",
       "      <th>beta</th>\n",
       "      <th>f</th>\n",
       "      <th>c</th>\n",
       "      <th>d</th>\n",
       "      <th>u_pehe</th>\n",
       "      <th>oracle_pehe</th>\n",
       "    </tr>\n",
       "    <tr>\n",
       "      <th>method</th>\n",
       "      <th></th>\n",
       "      <th></th>\n",
       "      <th></th>\n",
       "      <th></th>\n",
       "      <th></th>\n",
       "      <th></th>\n",
       "      <th></th>\n",
       "    </tr>\n",
       "  </thead>\n",
       "  <tbody>\n",
       "    <tr>\n",
       "      <th>seq</th>\n",
       "      <td>0.193773</td>\n",
       "      <td>0.171493</td>\n",
       "      <td>0.221067</td>\n",
       "      <td>0.176933</td>\n",
       "      <td>0.821901</td>\n",
       "      <td>4.360505</td>\n",
       "      <td>4.620599</td>\n",
       "    </tr>\n",
       "    <tr>\n",
       "      <th>standard</th>\n",
       "      <td>0.177760</td>\n",
       "      <td>0.176453</td>\n",
       "      <td>0.215760</td>\n",
       "      <td>0.191907</td>\n",
       "      <td>0.783126</td>\n",
       "      <td>7.174803</td>\n",
       "      <td>8.398304</td>\n",
       "    </tr>\n",
       "  </tbody>\n",
       "</table>\n",
       "</div>"
      ],
      "text/plain": [
       "             alpha      beta         f         c         d    u_pehe  \\\n",
       "method                                                                 \n",
       "seq       0.193773  0.171493  0.221067  0.176933  0.821901  4.360505   \n",
       "standard  0.177760  0.176453  0.215760  0.191907  0.783126  7.174803   \n",
       "\n",
       "          oracle_pehe  \n",
       "method                 \n",
       "seq          4.620599  \n",
       "standard     8.398304  "
      ]
     },
     "execution_count": 699,
     "metadata": {},
     "output_type": "execute_result"
    }
   ],
   "source": [
    "model_selection_results.groupby('method').mean()"
   ]
  },
  {
   "cell_type": "code",
   "execution_count": 702,
   "id": "cc0daa41",
   "metadata": {},
   "outputs": [
    {
     "data": {
      "text/html": [
       "<div>\n",
       "<style scoped>\n",
       "    .dataframe tbody tr th:only-of-type {\n",
       "        vertical-align: middle;\n",
       "    }\n",
       "\n",
       "    .dataframe tbody tr th {\n",
       "        vertical-align: top;\n",
       "    }\n",
       "\n",
       "    .dataframe thead th {\n",
       "        text-align: right;\n",
       "    }\n",
       "</style>\n",
       "<table border=\"1\" class=\"dataframe\">\n",
       "  <thead>\n",
       "    <tr style=\"text-align: right;\">\n",
       "      <th></th>\n",
       "      <th>alpha</th>\n",
       "      <th>beta</th>\n",
       "      <th>f</th>\n",
       "      <th>c</th>\n",
       "      <th>d</th>\n",
       "      <th>u_pehe</th>\n",
       "      <th>oracle_pehe</th>\n",
       "    </tr>\n",
       "    <tr>\n",
       "      <th>method</th>\n",
       "      <th></th>\n",
       "      <th></th>\n",
       "      <th></th>\n",
       "      <th></th>\n",
       "      <th></th>\n",
       "      <th></th>\n",
       "      <th></th>\n",
       "    </tr>\n",
       "  </thead>\n",
       "  <tbody>\n",
       "    <tr>\n",
       "      <th>seq</th>\n",
       "      <td>0.013049</td>\n",
       "      <td>0.033278</td>\n",
       "      <td>0.008178</td>\n",
       "      <td>0.021495</td>\n",
       "      <td>0.016053</td>\n",
       "      <td>0.241828</td>\n",
       "      <td>0.065125</td>\n",
       "    </tr>\n",
       "    <tr>\n",
       "      <th>standard</th>\n",
       "      <td>0.018215</td>\n",
       "      <td>0.015844</td>\n",
       "      <td>0.007146</td>\n",
       "      <td>0.012139</td>\n",
       "      <td>0.021359</td>\n",
       "      <td>0.146867</td>\n",
       "      <td>0.142550</td>\n",
       "    </tr>\n",
       "  </tbody>\n",
       "</table>\n",
       "</div>"
      ],
      "text/plain": [
       "             alpha      beta         f         c         d    u_pehe  \\\n",
       "method                                                                 \n",
       "seq       0.013049  0.033278  0.008178  0.021495  0.016053  0.241828   \n",
       "standard  0.018215  0.015844  0.007146  0.012139  0.021359  0.146867   \n",
       "\n",
       "          oracle_pehe  \n",
       "method                 \n",
       "seq          0.065125  \n",
       "standard     0.142550  "
      ]
     },
     "execution_count": 702,
     "metadata": {},
     "output_type": "execute_result"
    }
   ],
   "source": [
    "model_selection_results.groupby('method').std() / np.sqrt(5) * 1.96"
   ]
  },
  {
   "cell_type": "code",
   "execution_count": 701,
   "id": "900ff367",
   "metadata": {},
   "outputs": [
    {
     "data": {
      "text/html": [
       "<div>\n",
       "<style scoped>\n",
       "    .dataframe tbody tr th:only-of-type {\n",
       "        vertical-align: middle;\n",
       "    }\n",
       "\n",
       "    .dataframe tbody tr th {\n",
       "        vertical-align: top;\n",
       "    }\n",
       "\n",
       "    .dataframe thead th {\n",
       "        text-align: right;\n",
       "    }\n",
       "</style>\n",
       "<table border=\"1\" class=\"dataframe\">\n",
       "  <thead>\n",
       "    <tr style=\"text-align: right;\">\n",
       "      <th></th>\n",
       "      <th>alpha</th>\n",
       "      <th>beta</th>\n",
       "      <th>f</th>\n",
       "      <th>c</th>\n",
       "      <th>d</th>\n",
       "      <th>u_pehe</th>\n",
       "      <th>oracle_pehe</th>\n",
       "    </tr>\n",
       "  </thead>\n",
       "  <tbody>\n",
       "    <tr>\n",
       "      <th>alpha</th>\n",
       "      <td>1.000000</td>\n",
       "      <td>0.588134</td>\n",
       "      <td>0.303387</td>\n",
       "      <td>0.169600</td>\n",
       "      <td>0.348789</td>\n",
       "      <td>-0.432350</td>\n",
       "      <td>-0.467389</td>\n",
       "    </tr>\n",
       "    <tr>\n",
       "      <th>beta</th>\n",
       "      <td>0.588134</td>\n",
       "      <td>1.000000</td>\n",
       "      <td>0.321706</td>\n",
       "      <td>0.371152</td>\n",
       "      <td>-0.217302</td>\n",
       "      <td>0.122261</td>\n",
       "      <td>0.083957</td>\n",
       "    </tr>\n",
       "    <tr>\n",
       "      <th>f</th>\n",
       "      <td>0.303387</td>\n",
       "      <td>0.321706</td>\n",
       "      <td>1.000000</td>\n",
       "      <td>0.216046</td>\n",
       "      <td>0.080783</td>\n",
       "      <td>-0.318053</td>\n",
       "      <td>-0.338153</td>\n",
       "    </tr>\n",
       "    <tr>\n",
       "      <th>c</th>\n",
       "      <td>0.169600</td>\n",
       "      <td>0.371152</td>\n",
       "      <td>0.216046</td>\n",
       "      <td>1.000000</td>\n",
       "      <td>0.078889</td>\n",
       "      <td>0.398354</td>\n",
       "      <td>0.375924</td>\n",
       "    </tr>\n",
       "    <tr>\n",
       "      <th>d</th>\n",
       "      <td>0.348789</td>\n",
       "      <td>-0.217302</td>\n",
       "      <td>0.080783</td>\n",
       "      <td>0.078889</td>\n",
       "      <td>1.000000</td>\n",
       "      <td>-0.730445</td>\n",
       "      <td>-0.715735</td>\n",
       "    </tr>\n",
       "    <tr>\n",
       "      <th>u_pehe</th>\n",
       "      <td>-0.432350</td>\n",
       "      <td>0.122261</td>\n",
       "      <td>-0.318053</td>\n",
       "      <td>0.398354</td>\n",
       "      <td>-0.730445</td>\n",
       "      <td>1.000000</td>\n",
       "      <td>0.988996</td>\n",
       "    </tr>\n",
       "    <tr>\n",
       "      <th>oracle_pehe</th>\n",
       "      <td>-0.467389</td>\n",
       "      <td>0.083957</td>\n",
       "      <td>-0.338153</td>\n",
       "      <td>0.375924</td>\n",
       "      <td>-0.715735</td>\n",
       "      <td>0.988996</td>\n",
       "      <td>1.000000</td>\n",
       "    </tr>\n",
       "  </tbody>\n",
       "</table>\n",
       "</div>"
      ],
      "text/plain": [
       "                alpha      beta         f         c         d    u_pehe  \\\n",
       "alpha        1.000000  0.588134  0.303387  0.169600  0.348789 -0.432350   \n",
       "beta         0.588134  1.000000  0.321706  0.371152 -0.217302  0.122261   \n",
       "f            0.303387  0.321706  1.000000  0.216046  0.080783 -0.318053   \n",
       "c            0.169600  0.371152  0.216046  1.000000  0.078889  0.398354   \n",
       "d            0.348789 -0.217302  0.080783  0.078889  1.000000 -0.730445   \n",
       "u_pehe      -0.432350  0.122261 -0.318053  0.398354 -0.730445  1.000000   \n",
       "oracle_pehe -0.467389  0.083957 -0.338153  0.375924 -0.715735  0.988996   \n",
       "\n",
       "             oracle_pehe  \n",
       "alpha          -0.467389  \n",
       "beta            0.083957  \n",
       "f              -0.338153  \n",
       "c               0.375924  \n",
       "d              -0.715735  \n",
       "u_pehe          0.988996  \n",
       "oracle_pehe     1.000000  "
      ]
     },
     "execution_count": 701,
     "metadata": {},
     "output_type": "execute_result"
    }
   ],
   "source": [
    "model_selection_results.corr()"
   ]
  },
  {
   "cell_type": "code",
   "execution_count": 703,
   "id": "065de941",
   "metadata": {},
   "outputs": [],
   "source": [
    "model_selection_results.to_csv('model_selection_exp_arf.csv', index=False)"
   ]
  },
  {
   "cell_type": "code",
   "execution_count": 332,
   "id": "839b9e58",
   "metadata": {},
   "outputs": [],
   "source": [
    "alpha = AlphaPrecision()"
   ]
  },
  {
   "cell_type": "code",
   "execution_count": 692,
   "metadata": {},
   "outputs": [],
   "source": [
    "X,y,w,p,t = simulate_treatment_setup(1000, d=40, n_t=10)\n",
    "X_df = pd.DataFrame(X)\n",
    "y_df = pd.DataFrame(y, columns = ['y'])\n",
    "w_df = pd.DataFrame(w, columns = ['w'])\n",
    "d_real = pd.concat([X_df,w_df,y_df], axis=1)"
   ]
  },
  {
   "cell_type": "code",
   "execution_count": 693,
   "id": "de617cda",
   "metadata": {},
   "outputs": [
    {
     "name": "stderr",
     "output_type": "stream",
     "text": [
      "[2024-05-15T04:48:14.989354+0000][130783][CRITICAL] load failed: module 'synthcity.plugins.generic.plugin_goggle' has no attribute 'plugin'\n",
      "[2024-05-15T04:48:14.990438+0000][130783][CRITICAL] load failed: module 'synthcity.plugins.generic.plugin_goggle' has no attribute 'plugin'\n",
      "[2024-05-15T04:48:14.990838+0000][130783][CRITICAL] module plugin_goggle load failed\n"
     ]
    },
    {
     "name": "stdout",
     "output_type": "stream",
     "text": [
      "Fitting arf model\n",
      "Initial accuracy is 0.478\n",
      "Generating arf synthetic dataset\n"
     ]
    }
   ],
   "source": [
    "d_standard = generate_standard_test(d_real, 'arf')"
   ]
  },
  {
   "cell_type": "code",
   "execution_count": 694,
   "id": "03982f08",
   "metadata": {},
   "outputs": [
    {
     "name": "stderr",
     "output_type": "stream",
     "text": [
      "[2024-05-15T04:48:21.096013+0000][130783][CRITICAL] load failed: module 'synthcity.plugins.generic.plugin_goggle' has no attribute 'plugin'\n",
      "[2024-05-15T04:48:21.096876+0000][130783][CRITICAL] load failed: module 'synthcity.plugins.generic.plugin_goggle' has no attribute 'plugin'\n",
      "[2024-05-15T04:48:21.097271+0000][130783][CRITICAL] module plugin_goggle load failed\n"
     ]
    },
    {
     "name": "stdout",
     "output_type": "stream",
     "text": [
      "Fitting arf covariate model\n",
      "Initial accuracy is 0.4525\n",
      "Generating arf synthetic covariates\n",
      "Fitting propensity model\n",
      "Generating propensities\n",
      "Fitting CATE learner\n",
      "Generating POs\n"
     ]
    }
   ],
   "source": [
    "d_seq = generate_sequentially_test(d_real, 'arf', 'w', 'y')"
   ]
  },
  {
   "cell_type": "code",
   "execution_count": 695,
   "id": "95c21a2f",
   "metadata": {},
   "outputs": [
    {
     "data": {
      "text/plain": [
       "{'delta_precision_alpha_OC': 0.17386666666666672,\n",
       " 'delta_coverage_beta_OC': 0.15686666666666682,\n",
       " 'authenticity_OC': 0.686,\n",
       " 'delta_precision_alpha_naive': 0.8942,\n",
       " 'delta_coverage_beta_naive': 0.5536,\n",
       " 'authenticity_naive': 0.468}"
      ]
     },
     "execution_count": 695,
     "metadata": {},
     "output_type": "execute_result"
    }
   ],
   "source": [
    "alpha.evaluate(GenericDataLoader(d_real), GenericDataLoader(d_standard))"
   ]
  },
  {
   "cell_type": "code",
   "execution_count": 696,
   "id": "c781ff91",
   "metadata": {},
   "outputs": [
    {
     "data": {
      "text/plain": [
       "{'delta_precision_alpha_OC': 0.18006666666666682,\n",
       " 'delta_coverage_beta_OC': 0.14573333333333338,\n",
       " 'authenticity_OC': 0.783,\n",
       " 'delta_precision_alpha_naive': 0.9519218390804598,\n",
       " 'delta_coverage_beta_naive': 0.5472666666666666,\n",
       " 'authenticity_naive': 0.496}"
      ]
     },
     "execution_count": 696,
     "metadata": {},
     "output_type": "execute_result"
    }
   ],
   "source": [
    "alpha.evaluate(GenericDataLoader(d_real), GenericDataLoader(d_seq))"
   ]
  },
  {
   "cell_type": "code",
   "execution_count": 567,
   "id": "2f07d153",
   "metadata": {},
   "outputs": [],
   "source": [
    "X_stand = np.array(d_standard.drop(['w', 'y'], axis=1))\n",
    "y_stand = np.array(d_standard['y'])\n",
    "w_stand = np.array(d_standard['w'])"
   ]
  },
  {
   "cell_type": "code",
   "execution_count": 568,
   "id": "234d046a",
   "metadata": {},
   "outputs": [],
   "source": [
    "X_seq = np.array(d_seq.drop(['w', 'y'], axis=1))\n",
    "y_seq = np.array(d_seq['y'])\n",
    "w_seq = np.array(d_seq['w'])"
   ]
  },
  {
   "cell_type": "code",
   "execution_count": 569,
   "id": "13fb8500",
   "metadata": {},
   "outputs": [
    {
     "data": {
      "text/plain": [
       "8.557086136597986"
      ]
     },
     "execution_count": 569,
     "metadata": {},
     "output_type": "execute_result"
    }
   ],
   "source": [
    "l_stand = SLearner(n_unit_in=40, binary_y=False, seed=random.randint(0,1000000))\n",
    "l_stand.fit(X_stand, y_stand, w_stand)\n",
    "pred_stand = l_stand.predict(X)\n",
    "mean_squared_error(t, pred_stand.detach().cpu().numpy(), squared=False)"
   ]
  },
  {
   "cell_type": "code",
   "execution_count": 570,
   "id": "2b8349bf",
   "metadata": {},
   "outputs": [
    {
     "data": {
      "text/plain": [
       "4.754460905165663"
      ]
     },
     "execution_count": 570,
     "metadata": {},
     "output_type": "execute_result"
    }
   ],
   "source": [
    "l_seq = SLearner(n_unit_in=40, binary_y=False, seed=random.randint(0,1000000))\n",
    "l_seq.fit(X_seq, y_seq, w_seq)\n",
    "pred_seq = l_seq.predict(X)\n",
    "mean_squared_error(t, pred_seq.detach().cpu().numpy(), squared=False)"
   ]
  },
  {
   "cell_type": "code",
   "execution_count": 645,
   "id": "1d1f9d94",
   "metadata": {},
   "outputs": [
    {
     "data": {
      "text/plain": [
       "0.7753333333333333"
      ]
     },
     "execution_count": 645,
     "metadata": {},
     "output_type": "execute_result"
    }
   ],
   "source": [
    "evaluate_f(d_real, d_standard, 'w', 'y')"
   ]
  },
  {
   "cell_type": "code",
   "execution_count": 646,
   "id": "c19a30ba",
   "metadata": {},
   "outputs": [
    {
     "data": {
      "text/plain": [
       "0.7706"
      ]
     },
     "execution_count": 646,
     "metadata": {},
     "output_type": "execute_result"
    }
   ],
   "source": [
    "evaluate_f(d_real, d_seq, 'w', 'y')"
   ]
  },
  {
   "cell_type": "code",
   "execution_count": 647,
   "id": "1560bb51",
   "metadata": {},
   "outputs": [
    {
     "data": {
      "text/plain": [
       "0.44133333333333336"
      ]
     },
     "execution_count": 647,
     "metadata": {},
     "output_type": "execute_result"
    }
   ],
   "source": [
    "evaluate_c(d_real, d_standard, 'w', 'y')"
   ]
  },
  {
   "cell_type": "code",
   "execution_count": 648,
   "metadata": {},
   "outputs": [
    {
     "data": {
      "text/plain": [
       "0.4589333333333333"
      ]
     },
     "execution_count": 648,
     "metadata": {},
     "output_type": "execute_result"
    }
   ],
   "source": [
    "evaluate_c(d_real, d_seq, 'w', 'y')"
   ]
  },
  {
   "cell_type": "code",
   "execution_count": 649,
   "id": "f5891ed7",
   "metadata": {},
   "outputs": [
    {
     "data": {
      "text/plain": [
       "0.90736099253315"
      ]
     },
     "execution_count": 649,
     "metadata": {},
     "output_type": "execute_result"
    }
   ],
   "source": [
    "evaluate_d(d_real, d_standard, 'w', 'y')"
   ]
  },
  {
   "cell_type": "code",
   "execution_count": 650,
   "id": "32f6ff56",
   "metadata": {},
   "outputs": [
    {
     "data": {
      "text/plain": [
       "0.9132704490635286"
      ]
     },
     "execution_count": 650,
     "metadata": {},
     "output_type": "execute_result"
    }
   ],
   "source": [
    "evaluate_d(d_real, d_seq, 'w', 'y')"
   ]
  },
  {
   "cell_type": "code",
   "execution_count": 651,
   "id": "0b398883",
   "metadata": {},
   "outputs": [
    {
     "ename": "RuntimeError",
     "evalue": "mat1 and mat2 shapes cannot be multiplied (100x10 and 100x100)",
     "output_type": "error",
     "traceback": [
      "\u001b[0;31m---------------------------------------------------------------------------\u001b[0m",
      "\u001b[0;31mRuntimeError\u001b[0m                              Traceback (most recent call last)",
      "Cell \u001b[0;32mIn[651], line 1\u001b[0m\n\u001b[0;32m----> 1\u001b[0m \u001b[43mevaluate_u_pehe\u001b[49m\u001b[43m(\u001b[49m\u001b[43md_real\u001b[49m\u001b[43m,\u001b[49m\u001b[43m \u001b[49m\u001b[43md_standard\u001b[49m\u001b[43m,\u001b[49m\u001b[43m \u001b[49m\u001b[38;5;124;43m'\u001b[39;49m\u001b[38;5;124;43mw\u001b[39;49m\u001b[38;5;124;43m'\u001b[39;49m\u001b[43m,\u001b[49m\u001b[43m \u001b[49m\u001b[38;5;124;43m'\u001b[39;49m\u001b[38;5;124;43my\u001b[39;49m\u001b[38;5;124;43m'\u001b[39;49m\u001b[43m,\u001b[49m\u001b[43m \u001b[49m\u001b[38;5;241;43m100\u001b[39;49m\u001b[43m)\u001b[49m\n",
      "Cell \u001b[0;32mIn[19], line 11\u001b[0m, in \u001b[0;36mevaluate_u_pehe\u001b[0;34m(real, synth, treatment_col, outcome_col, n_units)\u001b[0m\n\u001b[1;32m      9\u001b[0m y_real \u001b[38;5;241m=\u001b[39m np\u001b[38;5;241m.\u001b[39marray(real[outcome_col])\n\u001b[1;32m     10\u001b[0m w_real \u001b[38;5;241m=\u001b[39m np\u001b[38;5;241m.\u001b[39marray(real[treatment_col])\n\u001b[0;32m---> 11\u001b[0m \u001b[43ml_real\u001b[49m\u001b[38;5;241;43m.\u001b[39;49m\u001b[43mfit\u001b[49m\u001b[43m(\u001b[49m\u001b[43mX_real\u001b[49m\u001b[43m,\u001b[49m\u001b[43m \u001b[49m\u001b[43my_real\u001b[49m\u001b[43m,\u001b[49m\u001b[43m \u001b[49m\u001b[43mw_real\u001b[49m\u001b[43m)\u001b[49m\n\u001b[1;32m     12\u001b[0m X_t \u001b[38;5;241m=\u001b[39m np\u001b[38;5;241m.\u001b[39marray(test\u001b[38;5;241m.\u001b[39mdrop([treatment_col, outcome_col], axis\u001b[38;5;241m=\u001b[39m\u001b[38;5;241m1\u001b[39m))\n\u001b[1;32m     13\u001b[0m X_t \u001b[38;5;241m=\u001b[39m torch\u001b[38;5;241m.\u001b[39mtensor(X_t)\n",
      "File \u001b[0;32m/anaconda/envs/azureml_py310_sdkv2/lib/python3.10/site-packages/catenets/models/torch/tlearner.py:164\u001b[0m, in \u001b[0;36mTLearner.fit\u001b[0;34m(self, X, y, w)\u001b[0m\n\u001b[1;32m    161\u001b[0m w \u001b[38;5;241m=\u001b[39m torch\u001b[38;5;241m.\u001b[39mTensor(w)\u001b[38;5;241m.\u001b[39mto(DEVICE)\n\u001b[1;32m    163\u001b[0m \u001b[38;5;28;01mfor\u001b[39;00m widx, plugin \u001b[38;5;129;01min\u001b[39;00m \u001b[38;5;28menumerate\u001b[39m(\u001b[38;5;28mself\u001b[39m\u001b[38;5;241m.\u001b[39m_plug_in):\n\u001b[0;32m--> 164\u001b[0m     \u001b[43mtrain_wrapper\u001b[49m\u001b[43m(\u001b[49m\u001b[43mplugin\u001b[49m\u001b[43m,\u001b[49m\u001b[43m \u001b[49m\u001b[43mX\u001b[49m\u001b[43m[\u001b[49m\u001b[43mw\u001b[49m\u001b[43m \u001b[49m\u001b[38;5;241;43m==\u001b[39;49m\u001b[43m \u001b[49m\u001b[43mwidx\u001b[49m\u001b[43m]\u001b[49m\u001b[43m,\u001b[49m\u001b[43m \u001b[49m\u001b[43my\u001b[49m\u001b[43m[\u001b[49m\u001b[43mw\u001b[49m\u001b[43m \u001b[49m\u001b[38;5;241;43m==\u001b[39;49m\u001b[43m \u001b[49m\u001b[43mwidx\u001b[49m\u001b[43m]\u001b[49m\u001b[43m)\u001b[49m\n\u001b[1;32m    166\u001b[0m \u001b[38;5;28;01mreturn\u001b[39;00m \u001b[38;5;28mself\u001b[39m\n",
      "File \u001b[0;32m/anaconda/envs/azureml_py310_sdkv2/lib/python3.10/site-packages/catenets/models/torch/utils/model_utils.py:85\u001b[0m, in \u001b[0;36mtrain_wrapper\u001b[0;34m(estimator, X, y, **kwargs)\u001b[0m\n\u001b[1;32m     83\u001b[0m \u001b[38;5;28;01mif\u001b[39;00m \u001b[38;5;28mhasattr\u001b[39m(estimator, \u001b[38;5;124m\"\u001b[39m\u001b[38;5;124mtrain\u001b[39m\u001b[38;5;124m\"\u001b[39m):\n\u001b[1;32m     84\u001b[0m     log\u001b[38;5;241m.\u001b[39mdebug(\u001b[38;5;124mf\u001b[39m\u001b[38;5;124m\"\u001b[39m\u001b[38;5;124mTrain PyTorch network \u001b[39m\u001b[38;5;132;01m{\u001b[39;00mestimator\u001b[38;5;132;01m}\u001b[39;00m\u001b[38;5;124m\"\u001b[39m)\n\u001b[0;32m---> 85\u001b[0m     \u001b[43mestimator\u001b[49m\u001b[38;5;241;43m.\u001b[39;49m\u001b[43mfit\u001b[49m\u001b[43m(\u001b[49m\u001b[43mX\u001b[49m\u001b[43m,\u001b[49m\u001b[43m \u001b[49m\u001b[43my\u001b[49m\u001b[43m,\u001b[49m\u001b[43m \u001b[49m\u001b[38;5;241;43m*\u001b[39;49m\u001b[38;5;241;43m*\u001b[39;49m\u001b[43mkwargs\u001b[49m\u001b[43m)\u001b[49m\n\u001b[1;32m     86\u001b[0m \u001b[38;5;28;01melif\u001b[39;00m \u001b[38;5;28mhasattr\u001b[39m(estimator, \u001b[38;5;124m\"\u001b[39m\u001b[38;5;124mfit\u001b[39m\u001b[38;5;124m\"\u001b[39m):\n\u001b[1;32m     87\u001b[0m     log\u001b[38;5;241m.\u001b[39mdebug(\u001b[38;5;124mf\u001b[39m\u001b[38;5;124m\"\u001b[39m\u001b[38;5;124mTrain sklearn estimator \u001b[39m\u001b[38;5;132;01m{\u001b[39;00mestimator\u001b[38;5;132;01m}\u001b[39;00m\u001b[38;5;124m\"\u001b[39m)\n",
      "File \u001b[0;32m/anaconda/envs/azureml_py310_sdkv2/lib/python3.10/site-packages/catenets/models/torch/base.py:214\u001b[0m, in \u001b[0;36mBasicNet.fit\u001b[0;34m(self, X, y, weight)\u001b[0m\n\u001b[1;32m    210\u001b[0m     weight_next \u001b[38;5;241m=\u001b[39m weight[idx_next]\u001b[38;5;241m.\u001b[39mdetach()\n\u001b[1;32m    212\u001b[0m loss \u001b[38;5;241m=\u001b[39m nn\u001b[38;5;241m.\u001b[39mBCELoss(weight\u001b[38;5;241m=\u001b[39mweight_next) \u001b[38;5;28;01mif\u001b[39;00m \u001b[38;5;28mself\u001b[39m\u001b[38;5;241m.\u001b[39mbinary_y \u001b[38;5;28;01melse\u001b[39;00m nn\u001b[38;5;241m.\u001b[39mMSELoss()\n\u001b[0;32m--> 214\u001b[0m preds \u001b[38;5;241m=\u001b[39m \u001b[38;5;28;43mself\u001b[39;49m\u001b[38;5;241;43m.\u001b[39;49m\u001b[43mforward\u001b[49m\u001b[43m(\u001b[49m\u001b[43mX_next\u001b[49m\u001b[43m)\u001b[49m\u001b[38;5;241m.\u001b[39msqueeze()\n\u001b[1;32m    216\u001b[0m batch_loss \u001b[38;5;241m=\u001b[39m loss(preds, y_next)\n\u001b[1;32m    218\u001b[0m batch_loss\u001b[38;5;241m.\u001b[39mbackward()\n",
      "File \u001b[0;32m/anaconda/envs/azureml_py310_sdkv2/lib/python3.10/site-packages/catenets/models/torch/base.py:169\u001b[0m, in \u001b[0;36mBasicNet.forward\u001b[0;34m(self, X)\u001b[0m\n\u001b[1;32m    168\u001b[0m \u001b[38;5;28;01mdef\u001b[39;00m \u001b[38;5;21mforward\u001b[39m(\u001b[38;5;28mself\u001b[39m, X: torch\u001b[38;5;241m.\u001b[39mTensor) \u001b[38;5;241m-\u001b[39m\u001b[38;5;241m>\u001b[39m torch\u001b[38;5;241m.\u001b[39mTensor:\n\u001b[0;32m--> 169\u001b[0m     \u001b[38;5;28;01mreturn\u001b[39;00m \u001b[38;5;28;43mself\u001b[39;49m\u001b[38;5;241;43m.\u001b[39;49m\u001b[43mmodel\u001b[49m\u001b[43m(\u001b[49m\u001b[43mX\u001b[49m\u001b[43m)\u001b[49m\n",
      "File \u001b[0;32m/anaconda/envs/azureml_py310_sdkv2/lib/python3.10/site-packages/torch/nn/modules/module.py:1194\u001b[0m, in \u001b[0;36mModule._call_impl\u001b[0;34m(self, *input, **kwargs)\u001b[0m\n\u001b[1;32m   1190\u001b[0m \u001b[38;5;66;03m# If we don't have any hooks, we want to skip the rest of the logic in\u001b[39;00m\n\u001b[1;32m   1191\u001b[0m \u001b[38;5;66;03m# this function, and just call forward.\u001b[39;00m\n\u001b[1;32m   1192\u001b[0m \u001b[38;5;28;01mif\u001b[39;00m \u001b[38;5;129;01mnot\u001b[39;00m (\u001b[38;5;28mself\u001b[39m\u001b[38;5;241m.\u001b[39m_backward_hooks \u001b[38;5;129;01mor\u001b[39;00m \u001b[38;5;28mself\u001b[39m\u001b[38;5;241m.\u001b[39m_forward_hooks \u001b[38;5;129;01mor\u001b[39;00m \u001b[38;5;28mself\u001b[39m\u001b[38;5;241m.\u001b[39m_forward_pre_hooks \u001b[38;5;129;01mor\u001b[39;00m _global_backward_hooks\n\u001b[1;32m   1193\u001b[0m         \u001b[38;5;129;01mor\u001b[39;00m _global_forward_hooks \u001b[38;5;129;01mor\u001b[39;00m _global_forward_pre_hooks):\n\u001b[0;32m-> 1194\u001b[0m     \u001b[38;5;28;01mreturn\u001b[39;00m \u001b[43mforward_call\u001b[49m\u001b[43m(\u001b[49m\u001b[38;5;241;43m*\u001b[39;49m\u001b[38;5;28;43minput\u001b[39;49m\u001b[43m,\u001b[49m\u001b[43m \u001b[49m\u001b[38;5;241;43m*\u001b[39;49m\u001b[38;5;241;43m*\u001b[39;49m\u001b[43mkwargs\u001b[49m\u001b[43m)\u001b[49m\n\u001b[1;32m   1195\u001b[0m \u001b[38;5;66;03m# Do not call functions when jit is used\u001b[39;00m\n\u001b[1;32m   1196\u001b[0m full_backward_hooks, non_full_backward_hooks \u001b[38;5;241m=\u001b[39m [], []\n",
      "File \u001b[0;32m/anaconda/envs/azureml_py310_sdkv2/lib/python3.10/site-packages/torch/nn/modules/container.py:204\u001b[0m, in \u001b[0;36mSequential.forward\u001b[0;34m(self, input)\u001b[0m\n\u001b[1;32m    202\u001b[0m \u001b[38;5;28;01mdef\u001b[39;00m \u001b[38;5;21mforward\u001b[39m(\u001b[38;5;28mself\u001b[39m, \u001b[38;5;28minput\u001b[39m):\n\u001b[1;32m    203\u001b[0m     \u001b[38;5;28;01mfor\u001b[39;00m module \u001b[38;5;129;01min\u001b[39;00m \u001b[38;5;28mself\u001b[39m:\n\u001b[0;32m--> 204\u001b[0m         \u001b[38;5;28minput\u001b[39m \u001b[38;5;241m=\u001b[39m \u001b[43mmodule\u001b[49m\u001b[43m(\u001b[49m\u001b[38;5;28;43minput\u001b[39;49m\u001b[43m)\u001b[49m\n\u001b[1;32m    205\u001b[0m     \u001b[38;5;28;01mreturn\u001b[39;00m \u001b[38;5;28minput\u001b[39m\n",
      "File \u001b[0;32m/anaconda/envs/azureml_py310_sdkv2/lib/python3.10/site-packages/torch/nn/modules/module.py:1194\u001b[0m, in \u001b[0;36mModule._call_impl\u001b[0;34m(self, *input, **kwargs)\u001b[0m\n\u001b[1;32m   1190\u001b[0m \u001b[38;5;66;03m# If we don't have any hooks, we want to skip the rest of the logic in\u001b[39;00m\n\u001b[1;32m   1191\u001b[0m \u001b[38;5;66;03m# this function, and just call forward.\u001b[39;00m\n\u001b[1;32m   1192\u001b[0m \u001b[38;5;28;01mif\u001b[39;00m \u001b[38;5;129;01mnot\u001b[39;00m (\u001b[38;5;28mself\u001b[39m\u001b[38;5;241m.\u001b[39m_backward_hooks \u001b[38;5;129;01mor\u001b[39;00m \u001b[38;5;28mself\u001b[39m\u001b[38;5;241m.\u001b[39m_forward_hooks \u001b[38;5;129;01mor\u001b[39;00m \u001b[38;5;28mself\u001b[39m\u001b[38;5;241m.\u001b[39m_forward_pre_hooks \u001b[38;5;129;01mor\u001b[39;00m _global_backward_hooks\n\u001b[1;32m   1193\u001b[0m         \u001b[38;5;129;01mor\u001b[39;00m _global_forward_hooks \u001b[38;5;129;01mor\u001b[39;00m _global_forward_pre_hooks):\n\u001b[0;32m-> 1194\u001b[0m     \u001b[38;5;28;01mreturn\u001b[39;00m \u001b[43mforward_call\u001b[49m\u001b[43m(\u001b[49m\u001b[38;5;241;43m*\u001b[39;49m\u001b[38;5;28;43minput\u001b[39;49m\u001b[43m,\u001b[49m\u001b[43m \u001b[49m\u001b[38;5;241;43m*\u001b[39;49m\u001b[38;5;241;43m*\u001b[39;49m\u001b[43mkwargs\u001b[49m\u001b[43m)\u001b[49m\n\u001b[1;32m   1195\u001b[0m \u001b[38;5;66;03m# Do not call functions when jit is used\u001b[39;00m\n\u001b[1;32m   1196\u001b[0m full_backward_hooks, non_full_backward_hooks \u001b[38;5;241m=\u001b[39m [], []\n",
      "File \u001b[0;32m/anaconda/envs/azureml_py310_sdkv2/lib/python3.10/site-packages/torch/nn/modules/linear.py:114\u001b[0m, in \u001b[0;36mLinear.forward\u001b[0;34m(self, input)\u001b[0m\n\u001b[1;32m    113\u001b[0m \u001b[38;5;28;01mdef\u001b[39;00m \u001b[38;5;21mforward\u001b[39m(\u001b[38;5;28mself\u001b[39m, \u001b[38;5;28minput\u001b[39m: Tensor) \u001b[38;5;241m-\u001b[39m\u001b[38;5;241m>\u001b[39m Tensor:\n\u001b[0;32m--> 114\u001b[0m     \u001b[38;5;28;01mreturn\u001b[39;00m \u001b[43mF\u001b[49m\u001b[38;5;241;43m.\u001b[39;49m\u001b[43mlinear\u001b[49m\u001b[43m(\u001b[49m\u001b[38;5;28;43minput\u001b[39;49m\u001b[43m,\u001b[49m\u001b[43m \u001b[49m\u001b[38;5;28;43mself\u001b[39;49m\u001b[38;5;241;43m.\u001b[39;49m\u001b[43mweight\u001b[49m\u001b[43m,\u001b[49m\u001b[43m \u001b[49m\u001b[38;5;28;43mself\u001b[39;49m\u001b[38;5;241;43m.\u001b[39;49m\u001b[43mbias\u001b[49m\u001b[43m)\u001b[49m\n",
      "\u001b[0;31mRuntimeError\u001b[0m: mat1 and mat2 shapes cannot be multiplied (100x10 and 100x100)"
     ]
    }
   ],
   "source": [
    "evaluate_u_pehe(d_real, d_standard, 'w', 'y', 100)"
   ]
  },
  {
   "cell_type": "code",
   "execution_count": 652,
   "id": "5236c810",
   "metadata": {},
   "outputs": [
    {
     "ename": "RuntimeError",
     "evalue": "mat1 and mat2 shapes cannot be multiplied (100x10 and 100x100)",
     "output_type": "error",
     "traceback": [
      "\u001b[0;31m---------------------------------------------------------------------------\u001b[0m",
      "\u001b[0;31mRuntimeError\u001b[0m                              Traceback (most recent call last)",
      "Cell \u001b[0;32mIn[652], line 1\u001b[0m\n\u001b[0;32m----> 1\u001b[0m \u001b[43mevaluate_u_pehe\u001b[49m\u001b[43m(\u001b[49m\u001b[43md_real\u001b[49m\u001b[43m,\u001b[49m\u001b[43m \u001b[49m\u001b[43md_seq\u001b[49m\u001b[43m,\u001b[49m\u001b[43m \u001b[49m\u001b[38;5;124;43m'\u001b[39;49m\u001b[38;5;124;43mw\u001b[39;49m\u001b[38;5;124;43m'\u001b[39;49m\u001b[43m,\u001b[49m\u001b[43m \u001b[49m\u001b[38;5;124;43m'\u001b[39;49m\u001b[38;5;124;43my\u001b[39;49m\u001b[38;5;124;43m'\u001b[39;49m\u001b[43m,\u001b[49m\u001b[43m \u001b[49m\u001b[38;5;241;43m100\u001b[39;49m\u001b[43m)\u001b[49m\n",
      "Cell \u001b[0;32mIn[19], line 11\u001b[0m, in \u001b[0;36mevaluate_u_pehe\u001b[0;34m(real, synth, treatment_col, outcome_col, n_units)\u001b[0m\n\u001b[1;32m      9\u001b[0m y_real \u001b[38;5;241m=\u001b[39m np\u001b[38;5;241m.\u001b[39marray(real[outcome_col])\n\u001b[1;32m     10\u001b[0m w_real \u001b[38;5;241m=\u001b[39m np\u001b[38;5;241m.\u001b[39marray(real[treatment_col])\n\u001b[0;32m---> 11\u001b[0m \u001b[43ml_real\u001b[49m\u001b[38;5;241;43m.\u001b[39;49m\u001b[43mfit\u001b[49m\u001b[43m(\u001b[49m\u001b[43mX_real\u001b[49m\u001b[43m,\u001b[49m\u001b[43m \u001b[49m\u001b[43my_real\u001b[49m\u001b[43m,\u001b[49m\u001b[43m \u001b[49m\u001b[43mw_real\u001b[49m\u001b[43m)\u001b[49m\n\u001b[1;32m     12\u001b[0m X_t \u001b[38;5;241m=\u001b[39m np\u001b[38;5;241m.\u001b[39marray(test\u001b[38;5;241m.\u001b[39mdrop([treatment_col, outcome_col], axis\u001b[38;5;241m=\u001b[39m\u001b[38;5;241m1\u001b[39m))\n\u001b[1;32m     13\u001b[0m X_t \u001b[38;5;241m=\u001b[39m torch\u001b[38;5;241m.\u001b[39mtensor(X_t)\n",
      "File \u001b[0;32m/anaconda/envs/azureml_py310_sdkv2/lib/python3.10/site-packages/catenets/models/torch/tlearner.py:164\u001b[0m, in \u001b[0;36mTLearner.fit\u001b[0;34m(self, X, y, w)\u001b[0m\n\u001b[1;32m    161\u001b[0m w \u001b[38;5;241m=\u001b[39m torch\u001b[38;5;241m.\u001b[39mTensor(w)\u001b[38;5;241m.\u001b[39mto(DEVICE)\n\u001b[1;32m    163\u001b[0m \u001b[38;5;28;01mfor\u001b[39;00m widx, plugin \u001b[38;5;129;01min\u001b[39;00m \u001b[38;5;28menumerate\u001b[39m(\u001b[38;5;28mself\u001b[39m\u001b[38;5;241m.\u001b[39m_plug_in):\n\u001b[0;32m--> 164\u001b[0m     \u001b[43mtrain_wrapper\u001b[49m\u001b[43m(\u001b[49m\u001b[43mplugin\u001b[49m\u001b[43m,\u001b[49m\u001b[43m \u001b[49m\u001b[43mX\u001b[49m\u001b[43m[\u001b[49m\u001b[43mw\u001b[49m\u001b[43m \u001b[49m\u001b[38;5;241;43m==\u001b[39;49m\u001b[43m \u001b[49m\u001b[43mwidx\u001b[49m\u001b[43m]\u001b[49m\u001b[43m,\u001b[49m\u001b[43m \u001b[49m\u001b[43my\u001b[49m\u001b[43m[\u001b[49m\u001b[43mw\u001b[49m\u001b[43m \u001b[49m\u001b[38;5;241;43m==\u001b[39;49m\u001b[43m \u001b[49m\u001b[43mwidx\u001b[49m\u001b[43m]\u001b[49m\u001b[43m)\u001b[49m\n\u001b[1;32m    166\u001b[0m \u001b[38;5;28;01mreturn\u001b[39;00m \u001b[38;5;28mself\u001b[39m\n",
      "File \u001b[0;32m/anaconda/envs/azureml_py310_sdkv2/lib/python3.10/site-packages/catenets/models/torch/utils/model_utils.py:85\u001b[0m, in \u001b[0;36mtrain_wrapper\u001b[0;34m(estimator, X, y, **kwargs)\u001b[0m\n\u001b[1;32m     83\u001b[0m \u001b[38;5;28;01mif\u001b[39;00m \u001b[38;5;28mhasattr\u001b[39m(estimator, \u001b[38;5;124m\"\u001b[39m\u001b[38;5;124mtrain\u001b[39m\u001b[38;5;124m\"\u001b[39m):\n\u001b[1;32m     84\u001b[0m     log\u001b[38;5;241m.\u001b[39mdebug(\u001b[38;5;124mf\u001b[39m\u001b[38;5;124m\"\u001b[39m\u001b[38;5;124mTrain PyTorch network \u001b[39m\u001b[38;5;132;01m{\u001b[39;00mestimator\u001b[38;5;132;01m}\u001b[39;00m\u001b[38;5;124m\"\u001b[39m)\n\u001b[0;32m---> 85\u001b[0m     \u001b[43mestimator\u001b[49m\u001b[38;5;241;43m.\u001b[39;49m\u001b[43mfit\u001b[49m\u001b[43m(\u001b[49m\u001b[43mX\u001b[49m\u001b[43m,\u001b[49m\u001b[43m \u001b[49m\u001b[43my\u001b[49m\u001b[43m,\u001b[49m\u001b[43m \u001b[49m\u001b[38;5;241;43m*\u001b[39;49m\u001b[38;5;241;43m*\u001b[39;49m\u001b[43mkwargs\u001b[49m\u001b[43m)\u001b[49m\n\u001b[1;32m     86\u001b[0m \u001b[38;5;28;01melif\u001b[39;00m \u001b[38;5;28mhasattr\u001b[39m(estimator, \u001b[38;5;124m\"\u001b[39m\u001b[38;5;124mfit\u001b[39m\u001b[38;5;124m\"\u001b[39m):\n\u001b[1;32m     87\u001b[0m     log\u001b[38;5;241m.\u001b[39mdebug(\u001b[38;5;124mf\u001b[39m\u001b[38;5;124m\"\u001b[39m\u001b[38;5;124mTrain sklearn estimator \u001b[39m\u001b[38;5;132;01m{\u001b[39;00mestimator\u001b[38;5;132;01m}\u001b[39;00m\u001b[38;5;124m\"\u001b[39m)\n",
      "File \u001b[0;32m/anaconda/envs/azureml_py310_sdkv2/lib/python3.10/site-packages/catenets/models/torch/base.py:214\u001b[0m, in \u001b[0;36mBasicNet.fit\u001b[0;34m(self, X, y, weight)\u001b[0m\n\u001b[1;32m    210\u001b[0m     weight_next \u001b[38;5;241m=\u001b[39m weight[idx_next]\u001b[38;5;241m.\u001b[39mdetach()\n\u001b[1;32m    212\u001b[0m loss \u001b[38;5;241m=\u001b[39m nn\u001b[38;5;241m.\u001b[39mBCELoss(weight\u001b[38;5;241m=\u001b[39mweight_next) \u001b[38;5;28;01mif\u001b[39;00m \u001b[38;5;28mself\u001b[39m\u001b[38;5;241m.\u001b[39mbinary_y \u001b[38;5;28;01melse\u001b[39;00m nn\u001b[38;5;241m.\u001b[39mMSELoss()\n\u001b[0;32m--> 214\u001b[0m preds \u001b[38;5;241m=\u001b[39m \u001b[38;5;28;43mself\u001b[39;49m\u001b[38;5;241;43m.\u001b[39;49m\u001b[43mforward\u001b[49m\u001b[43m(\u001b[49m\u001b[43mX_next\u001b[49m\u001b[43m)\u001b[49m\u001b[38;5;241m.\u001b[39msqueeze()\n\u001b[1;32m    216\u001b[0m batch_loss \u001b[38;5;241m=\u001b[39m loss(preds, y_next)\n\u001b[1;32m    218\u001b[0m batch_loss\u001b[38;5;241m.\u001b[39mbackward()\n",
      "File \u001b[0;32m/anaconda/envs/azureml_py310_sdkv2/lib/python3.10/site-packages/catenets/models/torch/base.py:169\u001b[0m, in \u001b[0;36mBasicNet.forward\u001b[0;34m(self, X)\u001b[0m\n\u001b[1;32m    168\u001b[0m \u001b[38;5;28;01mdef\u001b[39;00m \u001b[38;5;21mforward\u001b[39m(\u001b[38;5;28mself\u001b[39m, X: torch\u001b[38;5;241m.\u001b[39mTensor) \u001b[38;5;241m-\u001b[39m\u001b[38;5;241m>\u001b[39m torch\u001b[38;5;241m.\u001b[39mTensor:\n\u001b[0;32m--> 169\u001b[0m     \u001b[38;5;28;01mreturn\u001b[39;00m \u001b[38;5;28;43mself\u001b[39;49m\u001b[38;5;241;43m.\u001b[39;49m\u001b[43mmodel\u001b[49m\u001b[43m(\u001b[49m\u001b[43mX\u001b[49m\u001b[43m)\u001b[49m\n",
      "File \u001b[0;32m/anaconda/envs/azureml_py310_sdkv2/lib/python3.10/site-packages/torch/nn/modules/module.py:1194\u001b[0m, in \u001b[0;36mModule._call_impl\u001b[0;34m(self, *input, **kwargs)\u001b[0m\n\u001b[1;32m   1190\u001b[0m \u001b[38;5;66;03m# If we don't have any hooks, we want to skip the rest of the logic in\u001b[39;00m\n\u001b[1;32m   1191\u001b[0m \u001b[38;5;66;03m# this function, and just call forward.\u001b[39;00m\n\u001b[1;32m   1192\u001b[0m \u001b[38;5;28;01mif\u001b[39;00m \u001b[38;5;129;01mnot\u001b[39;00m (\u001b[38;5;28mself\u001b[39m\u001b[38;5;241m.\u001b[39m_backward_hooks \u001b[38;5;129;01mor\u001b[39;00m \u001b[38;5;28mself\u001b[39m\u001b[38;5;241m.\u001b[39m_forward_hooks \u001b[38;5;129;01mor\u001b[39;00m \u001b[38;5;28mself\u001b[39m\u001b[38;5;241m.\u001b[39m_forward_pre_hooks \u001b[38;5;129;01mor\u001b[39;00m _global_backward_hooks\n\u001b[1;32m   1193\u001b[0m         \u001b[38;5;129;01mor\u001b[39;00m _global_forward_hooks \u001b[38;5;129;01mor\u001b[39;00m _global_forward_pre_hooks):\n\u001b[0;32m-> 1194\u001b[0m     \u001b[38;5;28;01mreturn\u001b[39;00m \u001b[43mforward_call\u001b[49m\u001b[43m(\u001b[49m\u001b[38;5;241;43m*\u001b[39;49m\u001b[38;5;28;43minput\u001b[39;49m\u001b[43m,\u001b[49m\u001b[43m \u001b[49m\u001b[38;5;241;43m*\u001b[39;49m\u001b[38;5;241;43m*\u001b[39;49m\u001b[43mkwargs\u001b[49m\u001b[43m)\u001b[49m\n\u001b[1;32m   1195\u001b[0m \u001b[38;5;66;03m# Do not call functions when jit is used\u001b[39;00m\n\u001b[1;32m   1196\u001b[0m full_backward_hooks, non_full_backward_hooks \u001b[38;5;241m=\u001b[39m [], []\n",
      "File \u001b[0;32m/anaconda/envs/azureml_py310_sdkv2/lib/python3.10/site-packages/torch/nn/modules/container.py:204\u001b[0m, in \u001b[0;36mSequential.forward\u001b[0;34m(self, input)\u001b[0m\n\u001b[1;32m    202\u001b[0m \u001b[38;5;28;01mdef\u001b[39;00m \u001b[38;5;21mforward\u001b[39m(\u001b[38;5;28mself\u001b[39m, \u001b[38;5;28minput\u001b[39m):\n\u001b[1;32m    203\u001b[0m     \u001b[38;5;28;01mfor\u001b[39;00m module \u001b[38;5;129;01min\u001b[39;00m \u001b[38;5;28mself\u001b[39m:\n\u001b[0;32m--> 204\u001b[0m         \u001b[38;5;28minput\u001b[39m \u001b[38;5;241m=\u001b[39m \u001b[43mmodule\u001b[49m\u001b[43m(\u001b[49m\u001b[38;5;28;43minput\u001b[39;49m\u001b[43m)\u001b[49m\n\u001b[1;32m    205\u001b[0m     \u001b[38;5;28;01mreturn\u001b[39;00m \u001b[38;5;28minput\u001b[39m\n",
      "File \u001b[0;32m/anaconda/envs/azureml_py310_sdkv2/lib/python3.10/site-packages/torch/nn/modules/module.py:1194\u001b[0m, in \u001b[0;36mModule._call_impl\u001b[0;34m(self, *input, **kwargs)\u001b[0m\n\u001b[1;32m   1190\u001b[0m \u001b[38;5;66;03m# If we don't have any hooks, we want to skip the rest of the logic in\u001b[39;00m\n\u001b[1;32m   1191\u001b[0m \u001b[38;5;66;03m# this function, and just call forward.\u001b[39;00m\n\u001b[1;32m   1192\u001b[0m \u001b[38;5;28;01mif\u001b[39;00m \u001b[38;5;129;01mnot\u001b[39;00m (\u001b[38;5;28mself\u001b[39m\u001b[38;5;241m.\u001b[39m_backward_hooks \u001b[38;5;129;01mor\u001b[39;00m \u001b[38;5;28mself\u001b[39m\u001b[38;5;241m.\u001b[39m_forward_hooks \u001b[38;5;129;01mor\u001b[39;00m \u001b[38;5;28mself\u001b[39m\u001b[38;5;241m.\u001b[39m_forward_pre_hooks \u001b[38;5;129;01mor\u001b[39;00m _global_backward_hooks\n\u001b[1;32m   1193\u001b[0m         \u001b[38;5;129;01mor\u001b[39;00m _global_forward_hooks \u001b[38;5;129;01mor\u001b[39;00m _global_forward_pre_hooks):\n\u001b[0;32m-> 1194\u001b[0m     \u001b[38;5;28;01mreturn\u001b[39;00m \u001b[43mforward_call\u001b[49m\u001b[43m(\u001b[49m\u001b[38;5;241;43m*\u001b[39;49m\u001b[38;5;28;43minput\u001b[39;49m\u001b[43m,\u001b[49m\u001b[43m \u001b[49m\u001b[38;5;241;43m*\u001b[39;49m\u001b[38;5;241;43m*\u001b[39;49m\u001b[43mkwargs\u001b[49m\u001b[43m)\u001b[49m\n\u001b[1;32m   1195\u001b[0m \u001b[38;5;66;03m# Do not call functions when jit is used\u001b[39;00m\n\u001b[1;32m   1196\u001b[0m full_backward_hooks, non_full_backward_hooks \u001b[38;5;241m=\u001b[39m [], []\n",
      "File \u001b[0;32m/anaconda/envs/azureml_py310_sdkv2/lib/python3.10/site-packages/torch/nn/modules/linear.py:114\u001b[0m, in \u001b[0;36mLinear.forward\u001b[0;34m(self, input)\u001b[0m\n\u001b[1;32m    113\u001b[0m \u001b[38;5;28;01mdef\u001b[39;00m \u001b[38;5;21mforward\u001b[39m(\u001b[38;5;28mself\u001b[39m, \u001b[38;5;28minput\u001b[39m: Tensor) \u001b[38;5;241m-\u001b[39m\u001b[38;5;241m>\u001b[39m Tensor:\n\u001b[0;32m--> 114\u001b[0m     \u001b[38;5;28;01mreturn\u001b[39;00m \u001b[43mF\u001b[49m\u001b[38;5;241;43m.\u001b[39;49m\u001b[43mlinear\u001b[49m\u001b[43m(\u001b[49m\u001b[38;5;28;43minput\u001b[39;49m\u001b[43m,\u001b[49m\u001b[43m \u001b[49m\u001b[38;5;28;43mself\u001b[39;49m\u001b[38;5;241;43m.\u001b[39;49m\u001b[43mweight\u001b[49m\u001b[43m,\u001b[49m\u001b[43m \u001b[49m\u001b[38;5;28;43mself\u001b[39;49m\u001b[38;5;241;43m.\u001b[39;49m\u001b[43mbias\u001b[49m\u001b[43m)\u001b[49m\n",
      "\u001b[0;31mRuntimeError\u001b[0m: mat1 and mat2 shapes cannot be multiplied (100x10 and 100x100)"
     ]
    }
   ],
   "source": [
    "evaluate_u_pehe(d_real, d_seq, 'w', 'y', 100)"
   ]
  },
  {
   "cell_type": "code",
   "execution_count": null,
   "id": "6b32dd06",
   "metadata": {},
   "outputs": [],
   "source": []
  },
  {
   "cell_type": "code",
   "execution_count": 666,
   "id": "66668db0",
   "metadata": {},
   "outputs": [],
   "source": [
    "def generate_sequentially_to_w_test(real, gen, treatment_col, outcome_col, encode=False, private=False, epsilon=None, delta=None):\n",
    "    random.seed()\n",
    "\n",
    "    #generate covariates\n",
    "    if private:\n",
    "        g = Plugins().get(gen, random_state = random.randint(0, 1000000), epsilon=epsilon, delta=delta)\n",
    "    else:\n",
    "        g = Plugins().get(gen, random_state = random.randint(0, 1000000),min_node_size=2)\n",
    "    real_cov = real.drop([treatment_col, outcome_col], axis=1)\n",
    "    print(f'Fitting {gen} covariate model')\n",
    "    g.fit(real_cov)\n",
    "    print(f'Generating {gen} synthetic covariates')\n",
    "    synth_cov = g.generate(count = len(real)).dataframe()\n",
    "\n",
    "    if encode:\n",
    "        real_encoded, syn_encoded = encode_acic(real, synth_cov)\n",
    "    else:\n",
    "        real_encoded, syn_encoded = real, synth_cov\n",
    "\n",
    "    #generate propensities\n",
    "    X = np.array(real_encoded.drop([treatment_col, outcome_col], axis=1))\n",
    "    y = np.array(real_encoded[treatment_col])\n",
    "    \n",
    "    if private:\n",
    "        classifier = LogisticRegressionDP(random_state = random.randint(0, 1000000), epsilon=epsilon)\n",
    "    else:\n",
    "        classifier = LogisticRegression(random_state = random.randint(0, 1000000))\n",
    "    print('Fitting propensity model')\n",
    "    classifier.fit(X, y)\n",
    "    print('Generating propensities')\n",
    "    probabilities = classifier.predict_proba(np.array(syn_encoded))\n",
    "    prob_class_1 = probabilities[:, 1]\n",
    "    binary_outcomes = np.random.binomial(n=1, p=prob_class_1)\n",
    "\n",
    "    synth_cov_with_prop = syn_encoded\n",
    "    synth_cov_with_prop[treatment_col] = pd.Series(binary_outcomes)\n",
    "\n",
    "    synth_cov_with_prop[outcome_col] = 0\n",
    "\n",
    "    return synth_cov_with_prop"
   ]
  },
  {
   "cell_type": "code",
   "execution_count": 667,
   "id": "c7bf8656",
   "metadata": {},
   "outputs": [],
   "source": [
    "def generate_sequentially_test(real, gen, treatment_col, outcome_col, encode=False, private=False, epsilon=None, delta=None):\n",
    "    random.seed()\n",
    "    synth = generate_sequentially_to_w_test(real, gen, treatment_col, outcome_col, encode=encode, private=private, epsilon=epsilon, delta=delta)\n",
    "\n",
    "    X = np.array(real.drop([treatment_col, outcome_col], axis=1))\n",
    "    y = np.array(real[outcome_col])\n",
    "    w = np.array(real[treatment_col])\n",
    "    n_units = len(real.drop([treatment_col, outcome_col], axis=1).columns)\n",
    "    if private:\n",
    "        l = TLearnerDP(n_unit_in=n_units, binary_y=False, seed=random.randint(0,1000000), batch_norm=False)\n",
    "        print('Fitting private CATE learner')\n",
    "        l.fit(X, y, w, epsilon=epsilon, delta=delta)\n",
    "    else:\n",
    "        l = TLearner(n_unit_in=n_units, binary_y=False, seed=random.randint(0,1000000), batch_norm=False)\n",
    "        print('Fitting CATE learner')\n",
    "        l.fit(X, y, w)\n",
    "\n",
    "    seq_X = np.array(synth.drop([treatment_col, outcome_col], axis=1))\n",
    "    print('Generating POs')\n",
    "    cate, y0, y1 = l.predict(seq_X, return_po=True)\n",
    "\n",
    "    outcomes = []\n",
    "    for index, value in synth[treatment_col].iteritems():\n",
    "        if value == 0:\n",
    "            outcomes.append(y0[index].item())\n",
    "        else:\n",
    "            outcomes.append(y1[index].item())\n",
    "\n",
    "    synth[outcome_col] = outcomes\n",
    "    return synth"
   ]
  },
  {
   "cell_type": "code",
   "execution_count": 668,
   "id": "6a852750",
   "metadata": {},
   "outputs": [],
   "source": [
    "def generate_standard_test(real, gen, private=False, epsilon=None, delta=None):\n",
    "    random.seed()\n",
    "    if private:\n",
    "        g = Plugins().get(gen, random_state = random.randint(0, 1000000), epsilon=epsilon, delta=delta)\n",
    "    else:\n",
    "        g = Plugins().get(gen, random_state = random.randint(0, 1000000), min_node_size=2)\n",
    "    print(f'Fitting {gen} model')\n",
    "    g.fit(real)\n",
    "    print(f'Generating {gen} synthetic dataset')\n",
    "    synth = g.generate(count = len(real)).dataframe()\n",
    "    return synth"
   ]
  },
  {
   "cell_type": "code",
   "execution_count": null,
   "id": "4be41a71",
   "metadata": {},
   "outputs": [],
   "source": []
  }
 ],
 "metadata": {
  "kernelspec": {
   "display_name": "Python 3.10 - SDK v2",
   "language": "python",
   "name": "python310-sdkv2"
  },
  "language_info": {
   "codemirror_mode": {
    "name": "ipython",
    "version": 3
   },
   "file_extension": ".py",
   "mimetype": "text/x-python",
   "name": "python",
   "nbconvert_exporter": "python",
   "pygments_lexer": "ipython3",
   "version": "3.10.11"
  },
  "varInspector": {
   "cols": {
    "lenName": 16,
    "lenType": 16,
    "lenVar": 40
   },
   "kernels_config": {
    "python": {
     "delete_cmd_postfix": "",
     "delete_cmd_prefix": "del ",
     "library": "var_list.py",
     "varRefreshCmd": "print(var_dic_list())"
    },
    "r": {
     "delete_cmd_postfix": ") ",
     "delete_cmd_prefix": "rm(",
     "library": "var_list.r",
     "varRefreshCmd": "cat(var_dic_list()) "
    }
   },
   "types_to_exclude": [
    "module",
    "function",
    "builtin_function_or_method",
    "instance",
    "_Feature"
   ],
   "window_display": false
  }
 },
 "nbformat": 4,
 "nbformat_minor": 5
}
