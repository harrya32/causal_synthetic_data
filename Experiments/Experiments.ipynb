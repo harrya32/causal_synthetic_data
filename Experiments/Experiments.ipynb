{
 "cells": [
  {
   "cell_type": "code",
   "execution_count": null,
   "id": "611a3716",
   "metadata": {},
   "outputs": [],
   "source": [
    "%pip install synthcity[all]\n",
    "%pip install catenets\n",
    "%pip install captum\n",
    "%pip install diffprivlib\n",
    "%pip install opacus"
   ]
  },
  {
   "cell_type": "code",
   "execution_count": 2,
   "id": "hearing-blind",
   "metadata": {},
   "outputs": [
    {
     "name": "stdout",
     "output_type": "stream",
     "text": [
      "\n",
      "[KeOps] Warning : There were warnings or errors :\n",
      "<stdin>:1:10: fatal error: cuda.h: No such file or directory\n",
      "compilation terminated.\n",
      "\n",
      "[KeOps] Warning : \n",
      "    The location of Cuda header files cuda.h and nvrtc.h could not be detected on your system.\n",
      "    You must determine their location and then define the environment variable CUDA_PATH,\n",
      "    either before launching Python or using os.environ before importing keops. For example\n",
      "    if these files are in /vol/cuda/10.2.89-cudnn7.6.4.38/include you can do :\n",
      "      import os\n",
      "      os.environ['CUDA_PATH'] = '/vol/cuda/10.2.89-cudnn7.6.4.38'\n",
      "    \n",
      "[KeOps] Compiling cuda jit compiler engine ... \n",
      "[KeOps] Warning : There were warnings or errors :\n",
      "/anaconda/envs/azureml_py310_sdkv2/lib/python3.10/site-packages/keopscore/binders/nvrtc/nvrtc_jit.cpp:16:10: fatal error: cuda.h: No such file or directory\n",
      " #include <cuda.h>\n",
      "          ^~~~~~~~\n",
      "compilation terminated.\n",
      "\n",
      "OK\n",
      "[pyKeOps] Compiling nvrtc binder for python ... \n",
      "[KeOps] Warning : There were warnings or errors :\n",
      "In file included from /anaconda/envs/azureml_py310_sdkv2/lib/python3.10/site-packages/pykeops/common/keops_io/pykeops_nvrtc.cpp:8:0:\n",
      "/anaconda/envs/azureml_py310_sdkv2/lib/python3.10/site-packages/keopscore/binders/nvrtc/keops_nvrtc.cpp:17:10: fatal error: cuda.h: No such file or directory\n",
      " #include <cuda.h>\n",
      "          ^~~~~~~~\n",
      "compilation terminated.\n",
      "\n",
      "OK\n"
     ]
    }
   ],
   "source": [
    "from synthcity.plugins import Plugins\n",
    "from synthcity.metrics.eval_statistical import AlphaPrecision, InverseKLDivergence, MaximumMeanDiscrepancy, WassersteinDistance\n",
    "from synthcity.metrics.eval_privacy import *\n",
    "from synthcity.plugins.core.dataloader import GenericDataLoader\n",
    "from synthcity.utils.serialization import save_to_file, load_from_file\n",
    "import matplotlib.pyplot as plt\n",
    "import pandas as pd\n",
    "from catenets.models.torch import *\n",
    "from catenets.experiment_utils.simulation_utils import simulate_treatment_setup\n",
    "import numpy as np\n",
    "from sklearn.metrics import mean_squared_error\n",
    "from os import listdir\n",
    "from sklearn.preprocessing import OneHotEncoder\n",
    "from captum.attr import *\n",
    "import torch\n",
    "from sklearn.metrics.pairwise import cosine_similarity\n",
    "from scipy.stats import multivariate_normal\n",
    "import itertools\n",
    "from sklearn.model_selection import train_test_split\n",
    "from sklearn.linear_model import LogisticRegression\n",
    "from sklearn.ensemble import RandomForestClassifier\n",
    "from sklearn.ensemble import GradientBoostingClassifier\n",
    "from sklearn.metrics import accuracy_score\n",
    "from synthcity.plugins.core.constraints import Constraints\n",
    "import random\n",
    "from OneClass import OneClassLayer\n",
    "from diffprivlib.models import LogisticRegression as LogisticRegressionDP\n",
    "from diffprivlib.models import RandomForestClassifier as RandomForestClassifierDP\n",
    "from opacus import PrivacyEngine\n",
    "from CATENets_dp.catenets_dp.models.torch import TLearner as TLearnerDP\n",
    "from torch.utils.data import Dataset, DataLoader\n",
    "from tqdm import tqdm\n",
    "import torch.nn as nn\n",
    "import torch.optim as optim\n",
    "import sklearn.metrics\n",
    "from xgboost import XGBClassifier"
   ]
  },
  {
   "cell_type": "code",
   "execution_count": 3,
   "id": "656c4639",
   "metadata": {},
   "outputs": [],
   "source": [
    "def encode(real):\n",
    "    encoder = OneHotEncoder()\n",
    "    categorical = ['x_2', 'x_21', 'x_24']\n",
    "    encoded = encoder.fit_transform(real[categorical])\n",
    "    encoded_df = pd.DataFrame(encoded.toarray(), columns=encoder.get_feature_names_out(categorical))\n",
    "    real_encoded = pd.concat([real, encoded_df], axis=1)\n",
    "    real_encoded.drop(categorical, axis=1, inplace=True)\n",
    "    return real_encoded"
   ]
  },
  {
   "cell_type": "code",
   "execution_count": 4,
   "id": "f3fb8010",
   "metadata": {},
   "outputs": [],
   "source": [
    "def evaluate_f(real, synth, treatment_col, outcome_col):\n",
    "    alpha = AlphaPrecision(random_state = random.randint(0, 1000000))\n",
    "\n",
    "    real_cov = real.drop([treatment_col, outcome_col], axis=1)\n",
    "    synth_cov = synth.drop([treatment_col, outcome_col], axis=1)\n",
    "\n",
    "    f = alpha.evaluate(GenericDataLoader(real_cov), GenericDataLoader(synth_cov))['delta_precision_alpha_OC']\n",
    "\n",
    "    return f"
   ]
  },
  {
   "cell_type": "code",
   "execution_count": 5,
   "id": "c8a2a2d4",
   "metadata": {},
   "outputs": [],
   "source": [
    "def evaluate_c(real, synth, treatment_col, outcome_col):\n",
    "    alpha = AlphaPrecision(random_state = random.randint(0, 1000000))\n",
    "\n",
    "    real_cov = real.drop([treatment_col, outcome_col], axis=1)\n",
    "    synth_cov = synth.drop([treatment_col, outcome_col], axis=1)\n",
    "\n",
    "    c = alpha.evaluate(GenericDataLoader(real_cov), GenericDataLoader(synth_cov))['delta_coverage_beta_OC']\n",
    "\n",
    "    return c"
   ]
  },
  {
   "cell_type": "code",
   "execution_count": 6,
   "id": "7607d8b8",
   "metadata": {},
   "outputs": [],
   "source": [
    "def propensity_distance(p_real, p_synth):\n",
    "    return 1 - abs(p_synth - p_real) / max(p_real, 1-p_real)"
   ]
  },
  {
   "cell_type": "code",
   "execution_count": 7,
   "id": "acba74c8",
   "metadata": {},
   "outputs": [],
   "source": [
    "def train_propensity_function(real, treatment_col, outcome_col, clf, avg=False):\n",
    "    X = np.array(real.drop([treatment_col, outcome_col], axis=1))\n",
    "    y = np.array(real[treatment_col])\n",
    "    \n",
    "    if not avg:\n",
    "        clf.fit(X, y)\n",
    "        return clf\n",
    "    \n",
    "    trained_clfs = []\n",
    "    for i in clf:\n",
    "        i.fit(X,y)\n",
    "        trained_clfs.append(i)\n",
    "    \n",
    "    return trained_clfs"
   ]
  },
  {
   "cell_type": "code",
   "execution_count": 8,
   "id": "f1b9a3bf",
   "metadata": {},
   "outputs": [],
   "source": [
    "def get_d_max(props):\n",
    "    propensities_max = [0 if i >= 0.5 else 1 for i in props]\n",
    "\n",
    "    return mean_squared_error(props, propensities_max, squared=False)"
   ]
  },
  {
   "cell_type": "code",
   "execution_count": 9,
   "id": "7c6bc844",
   "metadata": {},
   "outputs": [],
   "source": [
    "def evaluate_d(real, synth, treatment_col, outcome_col):\n",
    "    n = len(real)\n",
    "    n_test = 0.2*n\n",
    "    test = real[:round(n_test)]\n",
    "    real = real[round(n_test):]\n",
    "\n",
    "    pi_real = LogisticRegression()\n",
    "    pi_synth = LogisticRegression()\n",
    "    pi_real = train_propensity_function(real, treatment_col, outcome_col, pi_real)\n",
    "    pi_synth = train_propensity_function(synth, treatment_col, outcome_col, pi_synth)\n",
    "\n",
    "    probabilities_real = pi_real.predict_proba(np.array(test.drop([treatment_col, outcome_col], axis=1)))\n",
    "    propensities_real = probabilities_real[:, 1]\n",
    "\n",
    "    probabilities_synth = pi_synth.predict_proba(np.array(test.drop([treatment_col, outcome_col], axis=1)))\n",
    "    propensities_synth = probabilities_synth[:, 1]\n",
    "\n",
    "    d_max = get_d_max(propensities_real)\n",
    "\n",
    "    return 1 - mean_squared_error(propensities_real, propensities_synth, squared=False)/d_max"
   ]
  },
  {
   "cell_type": "code",
   "execution_count": 10,
   "id": "9f54a607",
   "metadata": {},
   "outputs": [],
   "source": [
    "def evaluate_average_d(real, synth, treatment_col, outcome_col):\n",
    "    real_learners = [LogisticRegression(), RandomForestClassifier(random_state=0), XGBClassifier(random_state=0)]\n",
    "    synth_learners = [LogisticRegression(), RandomForestClassifier(random_state=0), XGBClassifier(random_state=0)]\n",
    "    n = len(real)\n",
    "    n_test = 0.2*n\n",
    "    test = real[:round(n_test)]\n",
    "    #real = real[round(n_test):]\n",
    "\n",
    "    real_learners = train_propensity_function(real, treatment_col, outcome_col, real_learners, avg=True)\n",
    "    synth_learners = train_propensity_function(synth, treatment_col, outcome_col, synth_learners, avg=True)\n",
    "\n",
    "    avg_d = 0\n",
    "\n",
    "    for i in range(len(real_learners)):\n",
    "        pi_real = real_learners[i]\n",
    "        pi_synth = synth_learners[i]\n",
    "        probabilities_real = pi_real.predict_proba(np.array(test.drop([treatment_col, outcome_col], axis=1)))\n",
    "        propensities_real = probabilities_real[:, 1]\n",
    "        probabilities_synth = pi_synth.predict_proba(np.array(test.drop([treatment_col, outcome_col], axis=1)))\n",
    "        propensities_synth = probabilities_synth[:, 1]\n",
    "        d_max = get_d_max(propensities_real)\n",
    "\n",
    "        d = 1 - mean_squared_error(propensities_real, propensities_synth, squared=False)/d_max\n",
    "        print(d)\n",
    "        avg_d += d\n",
    "\n",
    "    return avg_d / len(real_learners)\n",
    "    "
   ]
  },
  {
   "cell_type": "code",
   "execution_count": 11,
   "id": "c7b6dbe9",
   "metadata": {},
   "outputs": [],
   "source": [
    "def cosine_average_first(v1, v2):\n",
    "    return cosine_similarity(v1.sum(axis=0).reshape(1,-1), v2.sum(axis=0).reshape(1,-1))[0][0]"
   ]
  },
  {
   "cell_type": "code",
   "execution_count": 12,
   "id": "1c722b3c",
   "metadata": {},
   "outputs": [],
   "source": [
    "def evaluate_u_int(real, synth, treatment_col, outcome_col, n_units, binary_y=False):\n",
    "    n = len(real)\n",
    "    n_test = 0.2*n\n",
    "    test = real[:round(n_test)]\n",
    "    real = real[round(n_test):]\n",
    "\n",
    "\n",
    "    l_real = TLearner(n_unit_in=n_units, binary_y=binary_y, seed=random.randint(0,1000000))\n",
    "    X_real = np.array(real.drop([treatment_col, outcome_col], axis=1))\n",
    "    y_real = np.array(real[outcome_col])\n",
    "    w_real = np.array(real[treatment_col])\n",
    "    l_real.fit(X_real, y_real, w_real)\n",
    "    ig_real = IntegratedGradients(l_real)\n",
    "    X_t = np.array(test.drop([treatment_col, outcome_col], axis=1))\n",
    "    X_t = torch.tensor(X_t)\n",
    "    attr_real = ig_real.attribute(X_t)\n",
    "\n",
    "    l_synth = TLearner(n_unit_in=n_units, binary_y=binary_y, seed=random.randint(0,1000000))\n",
    "    X_synth = np.array(synth.drop([treatment_col, outcome_col], axis=1))\n",
    "    y_synth = np.array(synth[outcome_col])\n",
    "    w_synth = np.array(synth[treatment_col])\n",
    "    l_synth.fit(X_synth, y_synth, w_synth)\n",
    "    ig_synth = IntegratedGradients(l_synth)\n",
    "    attr_synth = ig_synth.attribute(X_t)\n",
    "\n",
    "    first = cosine_average_first(attr_real, attr_synth)\n",
    "    return first"
   ]
  },
  {
   "cell_type": "code",
   "execution_count": 13,
   "id": "6fea9659",
   "metadata": {},
   "outputs": [],
   "source": [
    "def evaluate_u_pehe(real, synth, treatment_col, outcome_col, n_units, binary_y = False):\n",
    "    n = len(real)\n",
    "    n_test = 0.2*n\n",
    "    test = real[:round(n_test)]\n",
    "    real = real[round(n_test):]\n",
    "\n",
    "    l_real = TLearner(n_unit_in=n_units, binary_y=binary_y, seed=random.randint(0,1000000))\n",
    "    X_real = np.array(real.drop([treatment_col, outcome_col], axis=1))\n",
    "    y_real = np.array(real[outcome_col])\n",
    "    w_real = np.array(real[treatment_col])\n",
    "    l_real.fit(X_real, y_real, w_real)\n",
    "    X_t = np.array(test.drop([treatment_col, outcome_col], axis=1))\n",
    "    X_t = torch.tensor(X_t)\n",
    "    pred_real = l_real.predict(X_t)\n",
    "\n",
    "    l_synth = TLearner(n_unit_in=n_units, binary_y=binary_y, seed=random.randint(0,1000000))\n",
    "    X_synth = np.array(synth.drop([treatment_col, outcome_col], axis=1))\n",
    "    y_synth = np.array(synth[outcome_col])\n",
    "    w_synth = np.array(synth[treatment_col])\n",
    "    l_synth.fit(X_synth, y_synth, w_synth)\n",
    "    pred_synth = l_synth.predict(X_t)\n",
    "\n",
    "    pehe = mean_squared_error(pred_real.cpu().detach().numpy(), pred_synth.cpu().detach().numpy(), squared=False)\n",
    "    return pehe"
   ]
  },
  {
   "cell_type": "code",
   "execution_count": 14,
   "id": "b23d36f3",
   "metadata": {},
   "outputs": [],
   "source": [
    "def evaluate_average_u_pehe(real, synth, treatment_col, outcome_col, n_units, binary_y = False):\n",
    "    n = len(real)\n",
    "    n_test = 0.2*n\n",
    "    test = real[:round(n_test)]\n",
    "    real = real[round(n_test):]\n",
    "\n",
    "    real_learners = [TLearner(n_unit_in=n_units, binary_y=binary_y, seed=random.randint(0,1000000)), SLearner(n_unit_in=n_units, binary_y=binary_y, seed=random.randint(0,1000000)), \n",
    "                DRLearner(n_unit_in=n_units, binary_y=binary_y, seed=random.randint(0,1000000)), RALearner(n_unit_in=n_units, binary_y=binary_y,seed=random.randint(0,1000000))]\n",
    "    synth_learners = [TLearner(n_unit_in=n_units, binary_y=binary_y, seed=random.randint(0,1000000)), SLearner(n_unit_in=n_units, binary_y=binary_y, seed=random.randint(0,1000000)), \n",
    "                DRLearner(n_unit_in=n_units, binary_y=binary_y, seed=random.randint(0,1000000)), RALearner(n_unit_in=n_units, binary_y=binary_y,seed=random.randint(0,1000000))]\n",
    "\n",
    "    avg_pehe = 0\n",
    "    for i in range(len(real_learners)):\n",
    "        l_real = real_learners[i]\n",
    "        l_synth = synth_learners[i]\n",
    "        X_real = np.array(real.drop([treatment_col, outcome_col], axis=1))\n",
    "        y_real = np.array(real[outcome_col])\n",
    "        w_real = np.array(real[treatment_col])\n",
    "        l_real.fit(X_real, y_real, w_real)\n",
    "        X_t = np.array(test.drop([treatment_col, outcome_col], axis=1))\n",
    "        X_t = torch.tensor(X_t)\n",
    "        pred_real = l_real.predict(X_t)\n",
    "\n",
    "        X_synth = np.array(synth.drop([treatment_col, outcome_col], axis=1))\n",
    "        y_synth = np.array(synth[outcome_col])\n",
    "        w_synth = np.array(synth[treatment_col])\n",
    "        l_synth.fit(X_synth, y_synth, w_synth)\n",
    "        pred_synth = l_synth.predict(X_t)\n",
    "\n",
    "        pehe = mean_squared_error(pred_real.cpu().detach().numpy(), pred_synth.cpu().detach().numpy(), squared=False)\n",
    "        avg_pehe += pehe\n",
    "\n",
    "    return avg_pehe / len(real_learners)"
   ]
  },
  {
   "cell_type": "code",
   "execution_count": 15,
   "id": "190cfb60",
   "metadata": {},
   "outputs": [],
   "source": [
    "def evaluate_u_policy(real, synth, treatment_col, outcome_col, n_units, binary_y = False):\n",
    "    n = len(real)\n",
    "    n_test = 0.2*n\n",
    "    test = real[:round(n_test)]\n",
    "    real = real[round(n_test):]\n",
    "\n",
    "    l_real = TLearner(n_unit_in=n_units, binary_y=binary_y, seed=random.randint(0,1000000))\n",
    "    X_real = np.array(real.drop([treatment_col, outcome_col], axis=1))\n",
    "    y_real = np.array(real[outcome_col])\n",
    "    w_real = np.array(real[treatment_col])\n",
    "    l_real.fit(X_real, y_real, w_real)\n",
    "    X_t = np.array(test.drop([treatment_col, outcome_col], axis=1))\n",
    "    X_t = torch.tensor(X_t)\n",
    "    pred_real = l_real.predict(X_t)\n",
    "\n",
    "    l_synth = TLearner(n_unit_in=n_units, binary_y=binary_y, seed=random.randint(0,1000000))\n",
    "    X_synth = np.array(synth.drop([treatment_col, outcome_col], axis=1))\n",
    "    y_synth = np.array(synth[outcome_col])\n",
    "    w_synth = np.array(synth[treatment_col])\n",
    "    l_synth.fit(X_synth, y_synth, w_synth)\n",
    "    pred_synth = l_synth.predict(X_t)\n",
    "\n",
    "    pred_mult = pd.DataFrame(pred_real * pred_synth)\n",
    "    num_pos = len(pred_mult[pred_mult[0]>0])\n",
    "    correct_rate = num_pos / len(pred_real)\n",
    "\n",
    "    return correct_rate"
   ]
  },
  {
   "cell_type": "code",
   "execution_count": 16,
   "id": "dd45d9b8",
   "metadata": {},
   "outputs": [],
   "source": [
    "def evaluate_average_u_policy(real, synth, treatment_col, outcome_col, n_units):\n",
    "    n = len(real)\n",
    "    n_test = 0.2*n\n",
    "    test = real[:round(n_test)]\n",
    "    real = real[round(n_test):]\n",
    "\n",
    "    real_learners = [TLearner(n_unit_in=n_units, binary_y=False, seed=random.randint(0,1000000)), SLearner(n_unit_in=n_units, binary_y=False, seed=random.randint(0,1000000)), \n",
    "                DRLearner(n_unit_in=n_units, binary_y=False, seed=random.randint(0,1000000)), RALearner(n_unit_in=n_units, binary_y=False,seed=random.randint(0,1000000))]\n",
    "    synth_learners = [TLearner(n_unit_in=n_units, binary_y=False, seed=random.randint(0,1000000)), SLearner(n_unit_in=n_units, binary_y=False, seed=random.randint(0,1000000)), \n",
    "                DRLearner(n_unit_in=n_units, binary_y=False, seed=random.randint(0,1000000)), RALearner(n_unit_in=n_units, binary_y=False,seed=random.randint(0,1000000))]\n",
    "\n",
    "    avg_correct_rate = 0\n",
    "    for i in range(len(real_learners)):\n",
    "        l_real = real_learners[i]\n",
    "        l_synth = synth_learners[i]\n",
    "        X_real = np.array(real.drop([treatment_col, outcome_col], axis=1))\n",
    "        y_real = np.array(real[outcome_col])\n",
    "        w_real = np.array(real[treatment_col])\n",
    "        l_real.fit(X_real, y_real, w_real)\n",
    "        X_t = np.array(test.drop([treatment_col, outcome_col], axis=1))\n",
    "        X_t = torch.tensor(X_t)\n",
    "        pred_real = l_real.predict(X_t)\n",
    "\n",
    "        X_synth = np.array(synth.drop([treatment_col, outcome_col], axis=1))\n",
    "        y_synth = np.array(synth[outcome_col])\n",
    "        w_synth = np.array(synth[treatment_col])\n",
    "        l_synth.fit(X_synth, y_synth, w_synth)\n",
    "        pred_synth = l_synth.predict(X_t)\n",
    "\n",
    "        pred_mult = pd.DataFrame(pred_real * pred_synth)\n",
    "        num_pos = len(pred_mult[pred_mult[0]>0])\n",
    "        correct_rate = num_pos / len(pred_real)\n",
    "        avg_correct_rate += correct_rate\n",
    "        #print(f'{l_synth.__str__()} PEHE: {pehe}')\n",
    "\n",
    "    return avg_correct_rate / len(real_learners)"
   ]
  },
  {
   "cell_type": "code",
   "execution_count": 17,
   "id": "f95c0d48",
   "metadata": {},
   "outputs": [],
   "source": [
    "def generate_sequentially_to_w(real, gen, treatment_col, outcome_col, encode=False, private=False, epsilon=None, delta=None):\n",
    "    random.seed()\n",
    "\n",
    "    #generate covariates\n",
    "    if private:\n",
    "        g = Plugins().get(gen, random_state = random.randint(0, 1000000), epsilon=epsilon, delta=delta)\n",
    "    else:\n",
    "        g = Plugins().get(gen, random_state = random.randint(0, 1000000))\n",
    "    real_cov = real.drop([treatment_col, outcome_col], axis=1)\n",
    "    print(f'Fitting {gen} covariate model')\n",
    "    g.fit(real_cov)\n",
    "    print(f'Generating {gen} synthetic covariates')\n",
    "    synth_cov = g.generate(count = len(real)).dataframe()\n",
    "\n",
    "    if encode:\n",
    "        real_encoded, syn_encoded = encode_acic(real, synth_cov)\n",
    "    else:\n",
    "        real_encoded, syn_encoded = real, synth_cov\n",
    "\n",
    "    #generate propensities\n",
    "    X = np.array(real_encoded.drop([treatment_col, outcome_col], axis=1))\n",
    "    y = np.array(real_encoded[treatment_col])\n",
    "    \n",
    "    if private:\n",
    "        classifier = LogisticRegressionDP(random_state = random.randint(0, 1000000), epsilon=epsilon)\n",
    "    else:\n",
    "        classifier = LogisticRegression(random_state = random.randint(0, 1000000))\n",
    "    print('Fitting propensity model')\n",
    "    classifier.fit(X, y)\n",
    "    print('Generating propensities')\n",
    "    probabilities = classifier.predict_proba(np.array(syn_encoded))\n",
    "    prob_class_1 = probabilities[:, 1]\n",
    "    binary_outcomes = np.random.binomial(n=1, p=prob_class_1)\n",
    "\n",
    "    synth_cov_with_prop = syn_encoded\n",
    "    synth_cov_with_prop[treatment_col] = pd.Series(binary_outcomes)\n",
    "\n",
    "    synth_cov_with_prop[outcome_col] = 0\n",
    "\n",
    "    return synth_cov_with_prop"
   ]
  },
  {
   "cell_type": "code",
   "execution_count": 18,
   "id": "68c8b8b3",
   "metadata": {},
   "outputs": [],
   "source": [
    "def generate_sequentially(real, gen, treatment_col, outcome_col, encode=False, private=False, epsilon=None, delta=None, binary_y=False):\n",
    "    random.seed()\n",
    "    synth = generate_sequentially_to_w(real, gen, treatment_col, outcome_col, encode=encode, private=private, epsilon=epsilon, delta=delta)\n",
    "\n",
    "    X = np.array(real.drop([treatment_col, outcome_col], axis=1))\n",
    "    y = np.array(real[outcome_col])\n",
    "    w = np.array(real[treatment_col])\n",
    "    n_units = len(real.drop([treatment_col, outcome_col], axis=1).columns)\n",
    "    if private:\n",
    "        l = TLearnerDP(n_unit_in=n_units, binary_y=binary_y, seed=random.randint(0,1000000), batch_norm=False)\n",
    "        print('Fitting private CATE learner')\n",
    "        l.fit(X, y, w, epsilon=epsilon, delta=delta)\n",
    "    else:\n",
    "        l = TLearner(n_unit_in=n_units, binary_y=binary_y, seed=random.randint(0,1000000), batch_norm=False)\n",
    "        print('Fitting CATE learner')\n",
    "        l.fit(X, y, w)\n",
    "\n",
    "    seq_X = np.array(synth.drop([treatment_col, outcome_col], axis=1))\n",
    "    print('Generating POs')\n",
    "    cate, y0, y1 = l.predict(seq_X, return_po=True)\n",
    "\n",
    "    outcomes = []\n",
    "    for index, value in synth[treatment_col].iteritems():\n",
    "        if value == 0:\n",
    "            outcomes.append(y0[index].item())\n",
    "        else:\n",
    "            outcomes.append(y1[index].item())\n",
    "\n",
    "    synth[outcome_col] = outcomes\n",
    "    return synth"
   ]
  },
  {
   "cell_type": "code",
   "execution_count": 19,
   "id": "bcab675f",
   "metadata": {},
   "outputs": [],
   "source": [
    "def generate_standard(real, gen, private=False, epsilon=None, delta=None):\n",
    "    random.seed()\n",
    "    if private:\n",
    "        g = Plugins().get(gen, random_state = random.randint(0, 1000000), epsilon=epsilon, delta=delta)\n",
    "    else:\n",
    "        g = Plugins().get(gen, random_state = random.randint(0, 1000000))\n",
    "    print(f'Fitting {gen} model')\n",
    "    g.fit(real)\n",
    "    print(f'Generating {gen} synthetic dataset')\n",
    "    synth = g.generate(count = len(real)).dataframe()\n",
    "    return synth"
   ]
  },
  {
   "cell_type": "code",
   "execution_count": 20,
   "id": "d68c151e",
   "metadata": {},
   "outputs": [],
   "source": [
    "def seq_test(real, gen, treatment_col, outcome_col, n_iter, encode=False, private=False, epsilon=None, delta=None, binary_y=False, save=False, fp=''):\n",
    "    results = pd.DataFrame(columns = ['method', 'f', 'c', 'd', 'u_pehe', 'u_policy', 'u_int'])\n",
    "    for _ in range(n_iter):\n",
    "        stand = generate_standard(real, gen, private=private, epsilon=epsilon, delta=delta)\n",
    "        seq_new = generate_sequentially(real, gen, treatment_col, outcome_col, encode=encode, private=private, epsilon=epsilon, delta=delta,binary_y=binary_y)\n",
    "        n_units = len(real.drop([treatment_col, outcome_col], axis=1).columns)\n",
    "        \n",
    "        if encode:\n",
    "            real_encoded, stand_encoded = encode_acic(real, stand)\n",
    "            _, seq_encoded = encode_acic(real, seq_new)\n",
    "        else:\n",
    "            real_encoded = real\n",
    "            stand_encoded = stand\n",
    "            seq_encoded = seq_new\n",
    "\n",
    "        results.loc[len(results)] = ['standard', evaluate_f(real_encoded, stand_encoded, treatment_col, outcome_col), evaluate_c(real_encoded, stand_encoded, treatment_col, outcome_col), \n",
    "                                     evaluate_d(real_encoded, stand_encoded, treatment_col, outcome_col), evaluate_average_u_pehe(real_encoded, stand_encoded, treatment_col, outcome_col, n_units,binary_y), \n",
    "                                     evaluate_u_policy(real_encoded, stand_encoded, treatment_col, outcome_col, n_units,binary_y), evaluate_u_int(real_encoded, stand_encoded, treatment_col, outcome_col, n_units,binary_y)]\n",
    "        results.loc[len(results)] = ['seq_new', evaluate_f(real_encoded, seq_encoded, treatment_col, outcome_col), evaluate_c(real_encoded, seq_encoded, treatment_col, outcome_col), \n",
    "                                     evaluate_d(real_encoded, seq_encoded, treatment_col, outcome_col), evaluate_average_u_pehe(real_encoded, seq_encoded, treatment_col, outcome_col, n_units,binary_y), \n",
    "                                     evaluate_u_policy(real_encoded, seq_encoded, treatment_col, outcome_col, n_units,binary_y), evaluate_u_int(real_encoded, seq_encoded, treatment_col, outcome_col, n_units,binary_y)]\n",
    "        if save:\n",
    "            results.to_csv(fp, index=False)\n",
    "    \n",
    "    return results\n"
   ]
  },
  {
   "cell_type": "markdown",
   "id": "fc3f8f97",
   "metadata": {},
   "source": [
    "# Load real datasets"
   ]
  },
  {
   "cell_type": "code",
   "execution_count": 58,
   "id": "73709436",
   "metadata": {},
   "outputs": [],
   "source": [
    "ihdp_full = pd.read_csv('../Datasets/ihdp.csv')\n",
    "ihdp = ihdp_full.drop(['y_cfactual', 'mu0', 'mu1'], axis=1)\n",
    "ihdp['treatment'] = ihdp['treatment'].astype(int)\n",
    "#train on 80% of the data, the remaining 20% for testing of CATE estimators\n",
    "train_ihdp = ihdp.loc[[i for i in range(600)]]\n",
    "test_ihdp = ihdp.loc[[i+600 for i in range(147)]]"
   ]
  },
  {
   "cell_type": "code",
   "execution_count": 22,
   "id": "8589a925",
   "metadata": {},
   "outputs": [],
   "source": [
    "jobs =pd.read_csv('../Datasets/jobs_small.csv')"
   ]
  },
  {
   "cell_type": "code",
   "execution_count": 35,
   "id": "2fcaff2b",
   "metadata": {},
   "outputs": [],
   "source": [
    "twins = pd.read_csv('../Datasets/twins.csv')\n",
    "twins = twins.dropna()\n",
    "twins = twins.drop(['infant_id'], axis=1)"
   ]
  },
  {
   "cell_type": "code",
   "execution_count": 22,
   "id": "7fac565c",
   "metadata": {},
   "outputs": [],
   "source": [
    "acic_full = pd.read_csv('../Datasets/acic.csv')\n",
    "acic_full['y'] = acic_full['y0']\n",
    "acic_full.loc[acic_full['z']==1, 'y'] = acic_full.loc[acic_full['z']==1, 'y1']\n",
    "\n",
    "acic = acic_full.drop(['y0', 'y1', 'mu0', 'mu1'], axis=1)\n",
    "acic_train = acic.loc[[i for i in range(4000)]]\n",
    "acic_test = acic.loc[[i+4000 for i in range(802)]]\n",
    "acic_encoded = encode(acic)"
   ]
  },
  {
   "cell_type": "code",
   "execution_count": 41,
   "id": "bb19b5ed",
   "metadata": {},
   "outputs": [
    {
     "data": {
      "text/html": [
       "<div>\n",
       "<style scoped>\n",
       "    .dataframe tbody tr th:only-of-type {\n",
       "        vertical-align: middle;\n",
       "    }\n",
       "\n",
       "    .dataframe tbody tr th {\n",
       "        vertical-align: top;\n",
       "    }\n",
       "\n",
       "    .dataframe thead th {\n",
       "        text-align: right;\n",
       "    }\n",
       "</style>\n",
       "<table border=\"1\" class=\"dataframe\">\n",
       "  <thead>\n",
       "    <tr style=\"text-align: right;\">\n",
       "      <th></th>\n",
       "      <th>pldel</th>\n",
       "      <th>birattnd</th>\n",
       "      <th>brstate</th>\n",
       "      <th>stoccfipb</th>\n",
       "      <th>mager8</th>\n",
       "      <th>ormoth</th>\n",
       "      <th>mrace</th>\n",
       "      <th>meduc6</th>\n",
       "      <th>dmar</th>\n",
       "      <th>mplbir</th>\n",
       "      <th>...</th>\n",
       "      <th>feduc6</th>\n",
       "      <th>dlivord_min</th>\n",
       "      <th>dtotord_min</th>\n",
       "      <th>bord</th>\n",
       "      <th>brstate_reg</th>\n",
       "      <th>stoccfipb_reg</th>\n",
       "      <th>mplbir_reg</th>\n",
       "      <th>wt</th>\n",
       "      <th>treatment</th>\n",
       "      <th>outcome</th>\n",
       "    </tr>\n",
       "  </thead>\n",
       "  <tbody>\n",
       "    <tr>\n",
       "      <th>0</th>\n",
       "      <td>1.0</td>\n",
       "      <td>1.0</td>\n",
       "      <td>1.0</td>\n",
       "      <td>1.0</td>\n",
       "      <td>3.0</td>\n",
       "      <td>0.0</td>\n",
       "      <td>1.0</td>\n",
       "      <td>3.0</td>\n",
       "      <td>1.0</td>\n",
       "      <td>1.0</td>\n",
       "      <td>...</td>\n",
       "      <td>3.0</td>\n",
       "      <td>3.0</td>\n",
       "      <td>3.0</td>\n",
       "      <td>2.0</td>\n",
       "      <td>5.0</td>\n",
       "      <td>5.0</td>\n",
       "      <td>5.0</td>\n",
       "      <td>936.0</td>\n",
       "      <td>0</td>\n",
       "      <td>0.0</td>\n",
       "    </tr>\n",
       "    <tr>\n",
       "      <th>1</th>\n",
       "      <td>1.0</td>\n",
       "      <td>1.0</td>\n",
       "      <td>1.0</td>\n",
       "      <td>1.0</td>\n",
       "      <td>3.0</td>\n",
       "      <td>0.0</td>\n",
       "      <td>1.0</td>\n",
       "      <td>3.0</td>\n",
       "      <td>1.0</td>\n",
       "      <td>1.0</td>\n",
       "      <td>...</td>\n",
       "      <td>3.0</td>\n",
       "      <td>3.0</td>\n",
       "      <td>3.0</td>\n",
       "      <td>1.0</td>\n",
       "      <td>5.0</td>\n",
       "      <td>5.0</td>\n",
       "      <td>5.0</td>\n",
       "      <td>1006.0</td>\n",
       "      <td>1</td>\n",
       "      <td>0.0</td>\n",
       "    </tr>\n",
       "    <tr>\n",
       "      <th>6</th>\n",
       "      <td>1.0</td>\n",
       "      <td>1.0</td>\n",
       "      <td>1.0</td>\n",
       "      <td>1.0</td>\n",
       "      <td>6.0</td>\n",
       "      <td>0.0</td>\n",
       "      <td>1.0</td>\n",
       "      <td>5.0</td>\n",
       "      <td>1.0</td>\n",
       "      <td>1.0</td>\n",
       "      <td>...</td>\n",
       "      <td>5.0</td>\n",
       "      <td>2.0</td>\n",
       "      <td>2.0</td>\n",
       "      <td>2.0</td>\n",
       "      <td>5.0</td>\n",
       "      <td>5.0</td>\n",
       "      <td>5.0</td>\n",
       "      <td>1030.0</td>\n",
       "      <td>0</td>\n",
       "      <td>0.0</td>\n",
       "    </tr>\n",
       "    <tr>\n",
       "      <th>7</th>\n",
       "      <td>1.0</td>\n",
       "      <td>1.0</td>\n",
       "      <td>1.0</td>\n",
       "      <td>1.0</td>\n",
       "      <td>6.0</td>\n",
       "      <td>0.0</td>\n",
       "      <td>1.0</td>\n",
       "      <td>5.0</td>\n",
       "      <td>1.0</td>\n",
       "      <td>1.0</td>\n",
       "      <td>...</td>\n",
       "      <td>5.0</td>\n",
       "      <td>2.0</td>\n",
       "      <td>2.0</td>\n",
       "      <td>1.0</td>\n",
       "      <td>5.0</td>\n",
       "      <td>5.0</td>\n",
       "      <td>5.0</td>\n",
       "      <td>1070.0</td>\n",
       "      <td>1</td>\n",
       "      <td>0.0</td>\n",
       "    </tr>\n",
       "    <tr>\n",
       "      <th>8</th>\n",
       "      <td>1.0</td>\n",
       "      <td>1.0</td>\n",
       "      <td>1.0</td>\n",
       "      <td>1.0</td>\n",
       "      <td>5.0</td>\n",
       "      <td>0.0</td>\n",
       "      <td>2.0</td>\n",
       "      <td>3.0</td>\n",
       "      <td>1.0</td>\n",
       "      <td>1.0</td>\n",
       "      <td>...</td>\n",
       "      <td>5.0</td>\n",
       "      <td>3.0</td>\n",
       "      <td>3.0</td>\n",
       "      <td>2.0</td>\n",
       "      <td>5.0</td>\n",
       "      <td>5.0</td>\n",
       "      <td>5.0</td>\n",
       "      <td>901.0</td>\n",
       "      <td>0</td>\n",
       "      <td>0.0</td>\n",
       "    </tr>\n",
       "    <tr>\n",
       "      <th>...</th>\n",
       "      <td>...</td>\n",
       "      <td>...</td>\n",
       "      <td>...</td>\n",
       "      <td>...</td>\n",
       "      <td>...</td>\n",
       "      <td>...</td>\n",
       "      <td>...</td>\n",
       "      <td>...</td>\n",
       "      <td>...</td>\n",
       "      <td>...</td>\n",
       "      <td>...</td>\n",
       "      <td>...</td>\n",
       "      <td>...</td>\n",
       "      <td>...</td>\n",
       "      <td>...</td>\n",
       "      <td>...</td>\n",
       "      <td>...</td>\n",
       "      <td>...</td>\n",
       "      <td>...</td>\n",
       "      <td>...</td>\n",
       "      <td>...</td>\n",
       "    </tr>\n",
       "    <tr>\n",
       "      <th>23963</th>\n",
       "      <td>1.0</td>\n",
       "      <td>1.0</td>\n",
       "      <td>50.0</td>\n",
       "      <td>55.0</td>\n",
       "      <td>3.0</td>\n",
       "      <td>0.0</td>\n",
       "      <td>1.0</td>\n",
       "      <td>3.0</td>\n",
       "      <td>1.0</td>\n",
       "      <td>50.0</td>\n",
       "      <td>...</td>\n",
       "      <td>3.0</td>\n",
       "      <td>1.0</td>\n",
       "      <td>2.0</td>\n",
       "      <td>2.0</td>\n",
       "      <td>2.0</td>\n",
       "      <td>2.0</td>\n",
       "      <td>2.0</td>\n",
       "      <td>1758.0</td>\n",
       "      <td>1</td>\n",
       "      <td>0.0</td>\n",
       "    </tr>\n",
       "    <tr>\n",
       "      <th>23964</th>\n",
       "      <td>1.0</td>\n",
       "      <td>1.0</td>\n",
       "      <td>50.0</td>\n",
       "      <td>55.0</td>\n",
       "      <td>6.0</td>\n",
       "      <td>0.0</td>\n",
       "      <td>1.0</td>\n",
       "      <td>5.0</td>\n",
       "      <td>1.0</td>\n",
       "      <td>5.0</td>\n",
       "      <td>...</td>\n",
       "      <td>4.0</td>\n",
       "      <td>3.0</td>\n",
       "      <td>3.0</td>\n",
       "      <td>1.0</td>\n",
       "      <td>2.0</td>\n",
       "      <td>2.0</td>\n",
       "      <td>8.0</td>\n",
       "      <td>1616.0</td>\n",
       "      <td>0</td>\n",
       "      <td>0.0</td>\n",
       "    </tr>\n",
       "    <tr>\n",
       "      <th>23965</th>\n",
       "      <td>1.0</td>\n",
       "      <td>1.0</td>\n",
       "      <td>50.0</td>\n",
       "      <td>55.0</td>\n",
       "      <td>6.0</td>\n",
       "      <td>0.0</td>\n",
       "      <td>1.0</td>\n",
       "      <td>5.0</td>\n",
       "      <td>1.0</td>\n",
       "      <td>5.0</td>\n",
       "      <td>...</td>\n",
       "      <td>4.0</td>\n",
       "      <td>3.0</td>\n",
       "      <td>3.0</td>\n",
       "      <td>2.0</td>\n",
       "      <td>2.0</td>\n",
       "      <td>2.0</td>\n",
       "      <td>8.0</td>\n",
       "      <td>1814.0</td>\n",
       "      <td>1</td>\n",
       "      <td>0.0</td>\n",
       "    </tr>\n",
       "    <tr>\n",
       "      <th>23966</th>\n",
       "      <td>1.0</td>\n",
       "      <td>2.0</td>\n",
       "      <td>51.0</td>\n",
       "      <td>56.0</td>\n",
       "      <td>4.0</td>\n",
       "      <td>0.0</td>\n",
       "      <td>1.0</td>\n",
       "      <td>4.0</td>\n",
       "      <td>1.0</td>\n",
       "      <td>17.0</td>\n",
       "      <td>...</td>\n",
       "      <td>3.0</td>\n",
       "      <td>1.0</td>\n",
       "      <td>1.0</td>\n",
       "      <td>1.0</td>\n",
       "      <td>7.0</td>\n",
       "      <td>7.0</td>\n",
       "      <td>3.0</td>\n",
       "      <td>936.0</td>\n",
       "      <td>0</td>\n",
       "      <td>1.0</td>\n",
       "    </tr>\n",
       "    <tr>\n",
       "      <th>23967</th>\n",
       "      <td>1.0</td>\n",
       "      <td>2.0</td>\n",
       "      <td>51.0</td>\n",
       "      <td>56.0</td>\n",
       "      <td>4.0</td>\n",
       "      <td>0.0</td>\n",
       "      <td>1.0</td>\n",
       "      <td>4.0</td>\n",
       "      <td>1.0</td>\n",
       "      <td>17.0</td>\n",
       "      <td>...</td>\n",
       "      <td>3.0</td>\n",
       "      <td>1.0</td>\n",
       "      <td>1.0</td>\n",
       "      <td>2.0</td>\n",
       "      <td>7.0</td>\n",
       "      <td>7.0</td>\n",
       "      <td>3.0</td>\n",
       "      <td>1021.0</td>\n",
       "      <td>1</td>\n",
       "      <td>0.0</td>\n",
       "    </tr>\n",
       "  </tbody>\n",
       "</table>\n",
       "<p>9642 rows × 52 columns</p>\n",
       "</div>"
      ],
      "text/plain": [
       "       pldel  birattnd  brstate  stoccfipb  mager8  ormoth  mrace  meduc6  \\\n",
       "0        1.0       1.0      1.0        1.0     3.0     0.0    1.0     3.0   \n",
       "1        1.0       1.0      1.0        1.0     3.0     0.0    1.0     3.0   \n",
       "6        1.0       1.0      1.0        1.0     6.0     0.0    1.0     5.0   \n",
       "7        1.0       1.0      1.0        1.0     6.0     0.0    1.0     5.0   \n",
       "8        1.0       1.0      1.0        1.0     5.0     0.0    2.0     3.0   \n",
       "...      ...       ...      ...        ...     ...     ...    ...     ...   \n",
       "23963    1.0       1.0     50.0       55.0     3.0     0.0    1.0     3.0   \n",
       "23964    1.0       1.0     50.0       55.0     6.0     0.0    1.0     5.0   \n",
       "23965    1.0       1.0     50.0       55.0     6.0     0.0    1.0     5.0   \n",
       "23966    1.0       2.0     51.0       56.0     4.0     0.0    1.0     4.0   \n",
       "23967    1.0       2.0     51.0       56.0     4.0     0.0    1.0     4.0   \n",
       "\n",
       "       dmar  mplbir  ...  feduc6  dlivord_min  dtotord_min  bord  brstate_reg  \\\n",
       "0       1.0     1.0  ...     3.0          3.0          3.0   2.0          5.0   \n",
       "1       1.0     1.0  ...     3.0          3.0          3.0   1.0          5.0   \n",
       "6       1.0     1.0  ...     5.0          2.0          2.0   2.0          5.0   \n",
       "7       1.0     1.0  ...     5.0          2.0          2.0   1.0          5.0   \n",
       "8       1.0     1.0  ...     5.0          3.0          3.0   2.0          5.0   \n",
       "...     ...     ...  ...     ...          ...          ...   ...          ...   \n",
       "23963   1.0    50.0  ...     3.0          1.0          2.0   2.0          2.0   \n",
       "23964   1.0     5.0  ...     4.0          3.0          3.0   1.0          2.0   \n",
       "23965   1.0     5.0  ...     4.0          3.0          3.0   2.0          2.0   \n",
       "23966   1.0    17.0  ...     3.0          1.0          1.0   1.0          7.0   \n",
       "23967   1.0    17.0  ...     3.0          1.0          1.0   2.0          7.0   \n",
       "\n",
       "       stoccfipb_reg  mplbir_reg      wt  treatment  outcome  \n",
       "0                5.0         5.0   936.0          0      0.0  \n",
       "1                5.0         5.0  1006.0          1      0.0  \n",
       "6                5.0         5.0  1030.0          0      0.0  \n",
       "7                5.0         5.0  1070.0          1      0.0  \n",
       "8                5.0         5.0   901.0          0      0.0  \n",
       "...              ...         ...     ...        ...      ...  \n",
       "23963            2.0         2.0  1758.0          1      0.0  \n",
       "23964            2.0         8.0  1616.0          0      0.0  \n",
       "23965            2.0         8.0  1814.0          1      0.0  \n",
       "23966            7.0         3.0   936.0          0      1.0  \n",
       "23967            7.0         3.0  1021.0          1      0.0  \n",
       "\n",
       "[9642 rows x 52 columns]"
      ]
     },
     "execution_count": 41,
     "metadata": {},
     "output_type": "execute_result"
    }
   ],
   "source": [
    "twins.dropna()"
   ]
  },
  {
   "cell_type": "code",
   "execution_count": 38,
   "id": "dfe08eb2",
   "metadata": {},
   "outputs": [
    {
     "data": {
      "text/plain": [
       "0.9999310964720917"
      ]
     },
     "execution_count": 38,
     "metadata": {},
     "output_type": "execute_result"
    }
   ],
   "source": [
    "evaluate_f(twins, twins, 'treatment', 'outcome')"
   ]
  },
  {
   "cell_type": "code",
   "execution_count": 39,
   "id": "602487be",
   "metadata": {},
   "outputs": [
    {
     "data": {
      "text/plain": [
       "0.989109673739197"
      ]
     },
     "execution_count": 39,
     "metadata": {},
     "output_type": "execute_result"
    }
   ],
   "source": [
    "evaluate_d(twins, twins, 'treatment', 'outcome')"
   ]
  },
  {
   "cell_type": "code",
   "execution_count": 52,
   "id": "a314d421",
   "metadata": {},
   "outputs": [
    {
     "data": {
      "text/plain": [
       "0.08014811"
      ]
     },
     "execution_count": 52,
     "metadata": {},
     "output_type": "execute_result"
    }
   ],
   "source": [
    "evaluate_u_pehe(twins, twins, 'treatment', 'outcome', 50, binary_y=True)"
   ]
  },
  {
   "cell_type": "markdown",
   "id": "5119084c",
   "metadata": {},
   "source": [
    "# Illustrative metric failure section"
   ]
  },
  {
   "cell_type": "markdown",
   "id": "b3a587c9",
   "metadata": {},
   "source": [
    "### Faiure to model $P_X$"
   ]
  },
  {
   "cell_type": "code",
   "execution_count": 225,
   "id": "544566c1",
   "metadata": {},
   "outputs": [],
   "source": [
    "X, y, w, p, t = simulate_treatment_setup(1000, 2)\n",
    "X_df = pd.DataFrame(X)\n",
    "y_df = pd.DataFrame(y, columns = ['y'])\n",
    "w_df = pd.DataFrame(w, columns = ['w'])\n",
    "\n",
    "d_real = pd.concat([X_df,w_df,y_df], axis=1)\n",
    "c = d_real.drop(['w', 'y'], axis=1).columns"
   ]
  },
  {
   "cell_type": "code",
   "execution_count": 226,
   "id": "811d4219",
   "metadata": {},
   "outputs": [],
   "source": [
    "X, y, w, p, t = simulate_treatment_setup(1000, 2,seed=1)\n",
    "X_df = pd.DataFrame(X)\n",
    "y_df = pd.DataFrame(y, columns = ['y'])\n",
    "w_df = pd.DataFrame(w, columns = ['w'])\n",
    "\n",
    "d_syn = pd.concat([X_df,w_df,y_df], axis=1)\n",
    "d_syn[c] = 0"
   ]
  },
  {
   "cell_type": "code",
   "execution_count": 197,
   "id": "a4031662",
   "metadata": {},
   "outputs": [],
   "source": [
    "#d_syn = d_real.copy()\n",
    "#poor\n",
    "#d_syn[c] = 0\n",
    "\n",
    "#good\n",
    "#d_syn['y'] = np.random.normal(loc = 0, size=(1000,1))\n",
    "#d_syn['w'] = np.random.choice(2, size=1000, p=[0.5,0.5])"
   ]
  },
  {
   "cell_type": "code",
   "execution_count": 227,
   "id": "1e392709",
   "metadata": {},
   "outputs": [],
   "source": [
    "alpha = AlphaPrecision()\n",
    "kl = InverseKLDivergence()\n",
    "mmd = MaximumMeanDiscrepancy()"
   ]
  },
  {
   "cell_type": "code",
   "execution_count": 228,
   "id": "7ef448f5",
   "metadata": {},
   "outputs": [
    {
     "data": {
      "text/plain": [
       "{'delta_precision_alpha_OC': 0.8127103448275862,\n",
       " 'delta_coverage_beta_OC': 0.28733333333333333,\n",
       " 'authenticity_OC': 0.676,\n",
       " 'delta_precision_alpha_naive': 0.10006666666666664,\n",
       " 'delta_coverage_beta_naive': 0.004733333333333478,\n",
       " 'authenticity_naive': 0.996}"
      ]
     },
     "execution_count": 228,
     "metadata": {},
     "output_type": "execute_result"
    }
   ],
   "source": [
    "alpha.evaluate(GenericDataLoader(d_real), GenericDataLoader(d_syn))"
   ]
  },
  {
   "cell_type": "code",
   "execution_count": 229,
   "id": "c377ecf7",
   "metadata": {},
   "outputs": [
    {
     "data": {
      "text/plain": [
       "{'marginal': 0.5257114265999299}"
      ]
     },
     "execution_count": 229,
     "metadata": {},
     "output_type": "execute_result"
    }
   ],
   "source": [
    "kl.evaluate(GenericDataLoader(d_real), GenericDataLoader(d_syn))"
   ]
  },
  {
   "cell_type": "code",
   "execution_count": 230,
   "id": "ec2a9427",
   "metadata": {},
   "outputs": [
    {
     "data": {
      "text/plain": [
       "{'joint': 0.16753760670809048}"
      ]
     },
     "execution_count": 230,
     "metadata": {},
     "output_type": "execute_result"
    }
   ],
   "source": [
    "mmd.evaluate(GenericDataLoader(d_real), GenericDataLoader(d_syn))"
   ]
  },
  {
   "cell_type": "markdown",
   "id": "e13f9760",
   "metadata": {},
   "source": [
    "### Failure to model $P_{W|X}$"
   ]
  },
  {
   "cell_type": "code",
   "execution_count": 219,
   "id": "da28abe7",
   "metadata": {},
   "outputs": [],
   "source": [
    "X, y, w, p, t = simulate_treatment_setup(1000, 2)\n",
    "X_df = pd.DataFrame(X)\n",
    "y_df = pd.DataFrame(y, columns = ['y'])\n",
    "w_df = pd.DataFrame(w, columns = ['w'])\n",
    "\n",
    "d_real = pd.concat([X_df,w_df,y_df], axis=1)\n",
    "#d_real[c] *= 10"
   ]
  },
  {
   "cell_type": "code",
   "execution_count": 220,
   "id": "ff49fc86",
   "metadata": {},
   "outputs": [],
   "source": [
    "X, y, w, p, t = simulate_treatment_setup(1000, 2, seed=1)\n",
    "X_df = pd.DataFrame(X)\n",
    "y_df = pd.DataFrame(y, columns = ['y'])\n",
    "w_df = pd.DataFrame(w, columns = ['w'])\n",
    "\n",
    "d_syn = pd.concat([X_df,w_df,y_df], axis=1)\n",
    "d_syn['w'] = 0"
   ]
  },
  {
   "cell_type": "code",
   "execution_count": 120,
   "id": "e7892093",
   "metadata": {},
   "outputs": [],
   "source": [
    "#d_syn = d_real.copy()\n",
    "#poor\n",
    "#d_syn['w'] = 0\n",
    "\n",
    "#good\n",
    "#d_syn['y'] = np.random.normal(loc = 0, size=(1000,1))\n",
    "#d_syn[[0,1]] = np.random.normal(loc = 0, size=(1000,2))"
   ]
  },
  {
   "cell_type": "code",
   "execution_count": 221,
   "id": "a60297e8",
   "metadata": {},
   "outputs": [],
   "source": [
    "alpha = AlphaPrecision()\n",
    "kl = InverseKLDivergence()\n",
    "mmd = MaximumMeanDiscrepancy()"
   ]
  },
  {
   "cell_type": "code",
   "execution_count": 222,
   "id": "71869c8d",
   "metadata": {},
   "outputs": [
    {
     "data": {
      "text/plain": [
       "{'delta_precision_alpha_OC': 0.5074666666666666,\n",
       " 'delta_coverage_beta_OC': 0.29679999999999995,\n",
       " 'authenticity_OC': 0.617,\n",
       " 'delta_precision_alpha_naive': 0.9239999999999999,\n",
       " 'delta_coverage_beta_naive': 0.3389333333333333,\n",
       " 'authenticity_naive': 0.688}"
      ]
     },
     "execution_count": 222,
     "metadata": {},
     "output_type": "execute_result"
    }
   ],
   "source": [
    "alpha.evaluate(GenericDataLoader(d_real), GenericDataLoader(d_syn))"
   ]
  },
  {
   "cell_type": "code",
   "execution_count": 223,
   "id": "531c003c",
   "metadata": {},
   "outputs": [
    {
     "data": {
      "text/plain": [
       "{'marginal': 0.76468268318991}"
      ]
     },
     "execution_count": 223,
     "metadata": {},
     "output_type": "execute_result"
    }
   ],
   "source": [
    "kl.evaluate(GenericDataLoader(d_real), GenericDataLoader(d_syn))"
   ]
  },
  {
   "cell_type": "code",
   "execution_count": 224,
   "id": "e1fe49c5",
   "metadata": {},
   "outputs": [
    {
     "data": {
      "text/plain": [
       "{'joint': 0.029881637517529452}"
      ]
     },
     "execution_count": 224,
     "metadata": {},
     "output_type": "execute_result"
    }
   ],
   "source": [
    "mmd.evaluate(GenericDataLoader(d_real), GenericDataLoader(d_syn))"
   ]
  },
  {
   "cell_type": "markdown",
   "id": "567ec7c1",
   "metadata": {},
   "source": [
    "### Failure to model $P_{Y|W,X}$"
   ]
  },
  {
   "cell_type": "code",
   "execution_count": 247,
   "id": "799b1d43",
   "metadata": {},
   "outputs": [],
   "source": [
    "X, y, w, p, t = simulate_treatment_setup(1000, 2, n_t=2)\n",
    "X_df = pd.DataFrame(X)\n",
    "y_df = pd.DataFrame(y, columns = ['y'])\n",
    "w_df = pd.DataFrame(w, columns = ['w'])\n",
    "\n",
    "d_real = pd.concat([X_df,w_df,y_df], axis=1)\n",
    "#d_real[c] *= 10"
   ]
  },
  {
   "cell_type": "code",
   "execution_count": 248,
   "id": "1d44ec39",
   "metadata": {},
   "outputs": [],
   "source": [
    "X, y, w, p, t = simulate_treatment_setup(1000, 2, n_t=2, seed=1)\n",
    "X_df = pd.DataFrame(X)\n",
    "y_df = pd.DataFrame(y, columns = ['y'])\n",
    "w_df = pd.DataFrame(w, columns = ['w'])\n",
    "\n",
    "d_syn = pd.concat([X_df,w_df,y_df], axis=1)\n",
    "d_syn['y'] = np.random.normal(loc = 0, size=(1000,1))"
   ]
  },
  {
   "cell_type": "code",
   "execution_count": 249,
   "id": "61eb8b9b",
   "metadata": {},
   "outputs": [],
   "source": [
    "#d_syn = d_real.copy()\n",
    "#poor\n",
    "#d_syn['y'] = np.random.normal(loc = 0, size=(1000,1))\n",
    "\n",
    "#good\n",
    "#d_syn['w'] = np.random.choice(2, size=1000, p=[0.5,0.5])\n",
    "#d_syn[[0,1]] = np.random.normal(loc = 0, size=(1000,2))"
   ]
  },
  {
   "cell_type": "code",
   "execution_count": 250,
   "id": "23f8dbea",
   "metadata": {},
   "outputs": [
    {
     "data": {
      "text/plain": [
       "{'delta_precision_alpha_OC': 0.8434,\n",
       " 'delta_coverage_beta_OC': 0.4132,\n",
       " 'authenticity_OC': 0.521,\n",
       " 'delta_precision_alpha_naive': 0.9745885057471264,\n",
       " 'delta_coverage_beta_naive': 0.5036666666666667,\n",
       " 'authenticity_naive': 0.489}"
      ]
     },
     "execution_count": 250,
     "metadata": {},
     "output_type": "execute_result"
    }
   ],
   "source": [
    "alpha.evaluate(GenericDataLoader(d_real), GenericDataLoader(d_syn))"
   ]
  },
  {
   "cell_type": "code",
   "execution_count": 251,
   "id": "365eee1a",
   "metadata": {},
   "outputs": [
    {
     "data": {
      "text/plain": [
       "{'marginal': 0.8235761532298621}"
      ]
     },
     "execution_count": 251,
     "metadata": {},
     "output_type": "execute_result"
    }
   ],
   "source": [
    "kl.evaluate(GenericDataLoader(d_real), GenericDataLoader(d_syn))"
   ]
  },
  {
   "cell_type": "code",
   "execution_count": 252,
   "id": "2d75a820",
   "metadata": {},
   "outputs": [
    {
     "data": {
      "text/plain": [
       "{'joint': 0.007128943324623382}"
      ]
     },
     "execution_count": 252,
     "metadata": {},
     "output_type": "execute_result"
    }
   ],
   "source": [
    "mmd.evaluate(GenericDataLoader(d_real), GenericDataLoader(d_syn))"
   ]
  },
  {
   "cell_type": "markdown",
   "id": "20c70b3a",
   "metadata": {},
   "source": [
    "## Showing our metrics work"
   ]
  },
  {
   "cell_type": "markdown",
   "id": "31867c0e",
   "metadata": {},
   "source": [
    "### D"
   ]
  },
  {
   "cell_type": "code",
   "execution_count": 42,
   "id": "9db09a00",
   "metadata": {},
   "outputs": [],
   "source": [
    "def generate_propensities_datasets(n, correct):\n",
    "    random.seed()\n",
    "    X, y, w, p, t = simulate_treatment_setup(n, 20, seed=random.randint(0,1000000))\n",
    "    X_df = pd.DataFrame(X)\n",
    "    y_df = pd.DataFrame(y, columns = ['y'])\n",
    "    w_df = pd.DataFrame(w, columns = ['w'])\n",
    "    d = pd.concat([X_df,w_df,y_df], axis=1)\n",
    "\n",
    "    X, y, w, p, t = simulate_treatment_setup(n, 20,seed=random.randint(0,1000000))\n",
    "    X_df = pd.DataFrame(X)\n",
    "    y_df = pd.DataFrame(y, columns = ['y'])\n",
    "    w_df = pd.DataFrame(w, columns = ['w'])\n",
    "    d_adv = pd.concat([X_df,w_df,y_df], axis=1)\n",
    "    \n",
    "    n_correct = round(correct*n)\n",
    "    d_adv['w'] = 0\n",
    "    d_adv.loc[:n_correct,'w'] = 1\n",
    "\n",
    "    return d, d_adv"
   ]
  },
  {
   "cell_type": "code",
   "execution_count": 43,
   "id": "0489e955",
   "metadata": {},
   "outputs": [],
   "source": [
    "def new_metrics_propensity_exp(n, corrects, n_iter):\n",
    "    results = pd.DataFrame(columns=['treated %', 'd'])\n",
    "    alpha = AlphaPrecision()\n",
    "    kl = InverseKLDivergence()\n",
    "\n",
    "    for c in corrects:\n",
    "        for _ in range(n_iter):\n",
    "            d_real, d_adv = generate_propensities_datasets(n, c)\n",
    "\n",
    "            d = evaluate_d(d_real,d_adv,'w','y')\n",
    "            results.loc[len(results)] = [c,d]\n",
    "            print('done')\n",
    "    return results\n"
   ]
  },
  {
   "cell_type": "code",
   "execution_count": 44,
   "id": "9611d763",
   "metadata": {},
   "outputs": [
    {
     "name": "stdout",
     "output_type": "stream",
     "text": [
      "done\n",
      "done\n",
      "done\n",
      "done\n",
      "done\n",
      "done\n",
      "done\n",
      "done\n",
      "done\n",
      "done\n",
      "done\n",
      "done\n",
      "done\n",
      "done\n",
      "done\n",
      "done\n",
      "done\n",
      "done\n",
      "done\n",
      "done\n",
      "done\n",
      "done\n",
      "done\n",
      "done\n",
      "done\n",
      "done\n",
      "done\n",
      "done\n",
      "done\n",
      "done\n",
      "done\n",
      "done\n",
      "done\n",
      "done\n",
      "done\n",
      "done\n",
      "done\n",
      "done\n",
      "done\n",
      "done\n",
      "done\n",
      "done\n",
      "done\n",
      "done\n",
      "done\n",
      "done\n",
      "done\n",
      "done\n",
      "done\n",
      "done\n",
      "done\n",
      "done\n",
      "done\n",
      "done\n",
      "done\n"
     ]
    }
   ],
   "source": [
    "results_prop = new_metrics_propensity_exp(10000, [0.01, 0.1,0.2,0.3,0.4,0.5,0.6,0.7,0.8,0.9, 0.99], 5)"
   ]
  },
  {
   "cell_type": "code",
   "execution_count": 46,
   "id": "d41aa46a",
   "metadata": {},
   "outputs": [
    {
     "data": {
      "image/png": "[encoded data removed]",
      "text/plain": [
       "<Figure size 640x480 with 1 Axes>"
      ]
     },
     "metadata": {},
     "output_type": "display_data"
    }
   ],
   "source": [
    "x = [0.01,0.1,0.2,0.3,0.4,0.5,0.6,0.7,0.8,0.9,0.99]\n",
    "d = results_prop.groupby('treated %').mean()['d']\n",
    "d_std = results_prop.groupby('treated %').std()['d'] / np.sqrt(5) * 1.96\n",
    "\n",
    "plt.rcParams.update({'font.size': 22})\n",
    "plt.plot(x, d, 'o-', label = 'd')\n",
    "plt.fill_between(x, d - d_std, d + d_std, alpha=0.2)\n",
    "plt.ylim([0,1])\n",
    "plt.axvline(x=0.5, color='gray', linestyle='--', alpha=0.5)\n",
    "plt.ylabel('$D$')\n",
    "plt.xlabel('$\\pi_{synth}$')\n",
    "\n",
    "plt.savefig('plots/propensity_metric_plot.pdf', bbox_inches='tight')"
   ]
  },
  {
   "cell_type": "markdown",
   "id": "399c0cad",
   "metadata": {},
   "source": [
    "### U"
   ]
  },
  {
   "cell_type": "code",
   "execution_count": null,
   "id": "f9bf7376",
   "metadata": {},
   "outputs": [],
   "source": [
    "def create_simulated_datasets(n, d, n_o, n_t, n_known, error_sd=0):\n",
    "    random.seed()\n",
    "    X,y,w,p,t = simulate_treatment_setup(n, d=d, n_o=n_o, n_t=n_t, error_sd=error_sd, seed=random.randint(0,1000000))\n",
    "    X_df = pd.DataFrame(X)\n",
    "    y_df = pd.DataFrame(y, columns = ['y'])\n",
    "    w_df = pd.DataFrame(w, columns = ['w'])\n",
    "    d_real = pd.concat([X_df,w_df,y_df], axis=1)\n",
    "\n",
    "    X,y,w,p,t = simulate_treatment_setup(n, d=d, n_o=n_o, n_t=n_t, error_sd=error_sd, seed=random.randint(0,1000000))\n",
    "    X_df = pd.DataFrame(X)\n",
    "    w_df = pd.DataFrame(w, columns = ['w'])\n",
    "    d_synth = pd.concat([X_df,w_df], axis=1)\n",
    "\n",
    "    #mu0_coefs = np.ones(n_o)\n",
    "    #mu0 = np.dot(X[:, : n_o] ** 2, mu0_coefs)\n",
    "    \n",
    "    mu1_coefs = np.ones(n_known)\n",
    "    X_sel = X[:, n_o : n_o + n_known]\n",
    "    mu1 = np.dot(X_sel**2, mu1_coefs)#+mu0\n",
    "\n",
    "    new_column_values = []\n",
    "    for index, value in d_synth['w'].iteritems():\n",
    "        if value == 0:\n",
    "            new_column_values.append(0+ np.random.normal(scale=error_sd))#.append(mu0[index])\n",
    "        else:\n",
    "            new_column_values.append(mu1[index]+ np.random.normal(scale=error_sd)) \n",
    "\n",
    "    d_synth['y'] = new_column_values\n",
    "\n",
    "    return d_real, d_synth"
   ]
  },
  {
   "cell_type": "code",
   "execution_count": null,
   "id": "841600ef",
   "metadata": {},
   "outputs": [],
   "source": [
    "def run_utility_exp(n, d, n_o, n_t, n_knowns, n_iter, error_sd=0):\n",
    "    results = pd.DataFrame(columns=['n_known', 'u_pehe'])\n",
    "    for n_known in n_knowns:\n",
    "        for _ in range(n_iter):\n",
    "            d_real, d_synth = create_simulated_datasets(n, d,n_o, n_t, n_known)\n",
    "            u_pehe = evaluate_average_u_pehe(d_real, d_synth, 'w', 'y', n_units=d)\n",
    "\n",
    "            results.loc[len(results)] = [n_known, u_pehe]\n",
    "            print(f'done {n_known} {_}')\n",
    "\n",
    "    return results"
   ]
  },
  {
   "cell_type": "code",
   "execution_count": null,
   "id": "69b0c3e8",
   "metadata": {},
   "outputs": [
    {
     "name": "stdout",
     "output_type": "stream",
     "text": [
      "done 1 0\n",
      "done 1 1\n",
      "done 1 2\n",
      "done 1 3\n",
      "done 1 4\n",
      "done 2 0\n",
      "done 2 1\n",
      "done 2 2\n",
      "done 2 3\n",
      "done 2 4\n",
      "done 3 0\n",
      "done 3 1\n",
      "done 3 2\n",
      "done 3 3\n",
      "done 3 4\n",
      "done 4 0\n",
      "done 4 1\n",
      "done 4 2\n",
      "done 4 3\n",
      "done 4 4\n",
      "done 5 0\n",
      "done 5 1\n",
      "done 5 2\n",
      "done 5 3\n",
      "done 5 4\n"
     ]
    }
   ],
   "source": [
    "results = run_utility_exp(1000, 5, 0, 5, [1,2,3,4,5], n_iter = 5)"
   ]
  },
  {
   "cell_type": "code",
   "execution_count": null,
   "id": "5b0d0a30",
   "metadata": {},
   "outputs": [],
   "source": [
    "results.to_csv('utility_simulated_experiment_average.csv', index=False)"
   ]
  },
  {
   "cell_type": "code",
   "execution_count": 47,
   "id": "93994dbf",
   "metadata": {},
   "outputs": [],
   "source": [
    "results = pd.read_csv('utility_simulated_experiment_average.csv')"
   ]
  },
  {
   "cell_type": "code",
   "execution_count": 49,
   "id": "a8d576b1",
   "metadata": {},
   "outputs": [
    {
     "data": {
      "image/png": "[encoded data removed]",
      "text/plain": [
       "<Figure size 640x480 with 1 Axes>"
      ]
     },
     "metadata": {},
     "output_type": "display_data"
    }
   ],
   "source": [
    "x = [1,2,3,4,5]\n",
    "u_pehe = results.groupby('n_known').mean()['u_pehe']\n",
    "#u_policy = results.groupby('n_known').mean()['u_policy']\n",
    "u_pehe_std = results.groupby('n_known').std()['u_pehe'] / np.sqrt(5) * 1.96\n",
    "#u_policy_std = results.groupby('n_known').std()['u_policy'] / np.sqrt(5) * 1.96\n",
    "\n",
    "#fig, ax1 = plt.subplots()\n",
    "#ax1.plot(x, u_policy, 'o-', label = 'Policy')\n",
    "#ax1.fill_between(x, u_policy - u_policy_std, u_policy + u_policy_std, alpha=0.2)\n",
    "#ax1.set_ylabel('Policy/Interpretability')\n",
    "\n",
    "\n",
    "plt.plot(x, u_pehe, 'o-', label = 'PEHE', color='g')\n",
    "plt.ylabel('$U_{PEHE}$')\n",
    "plt.fill_between(x, u_pehe - u_pehe_std, u_pehe + u_pehe_std, alpha=0.2, color='g')\n",
    "\n",
    "#handles1, labels1 = ax1.get_legend_handles_labels()\n",
    "#handles2, labels2 = ax2.get_legend_handles_labels()\n",
    "#handles = handles1+handles2\n",
    "#labels=labels1+labels2\n",
    "plt.xlabel('Recognised predictive covariates')\n",
    "plt.savefig('plots/utility_metric_plot.pdf', bbox_inches='tight')"
   ]
  },
  {
   "cell_type": "markdown",
   "id": "593bc7bf",
   "metadata": {},
   "source": [
    "# Model selection"
   ]
  },
  {
   "cell_type": "code",
   "execution_count": null,
   "id": "9e55f490",
   "metadata": {},
   "outputs": [],
   "source": [
    "def generate_sequentially_to_w_test(real, gen, treatment_col, outcome_col, encode=False, private=False, epsilon=None, delta=None):\n",
    "    random.seed()\n",
    "\n",
    "    #generate covariates\n",
    "    if private:\n",
    "        g = Plugins().get(gen, random_state = random.randint(0, 1000000), epsilon=epsilon, delta=delta)\n",
    "    else:\n",
    "        g = Plugins().get(gen, random_state = random.randint(0, 1000000),min_node_size=2)\n",
    "    real_cov = real.drop([treatment_col, outcome_col], axis=1)\n",
    "    print(f'Fitting {gen} covariate model')\n",
    "    g.fit(real_cov)\n",
    "    print(f'Generating {gen} synthetic covariates')\n",
    "    synth_cov = g.generate(count = len(real)).dataframe()\n",
    "\n",
    "    if encode:\n",
    "        real_encoded, syn_encoded = encode_acic(real, synth_cov)\n",
    "    else:\n",
    "        real_encoded, syn_encoded = real, synth_cov\n",
    "\n",
    "    #generate propensities\n",
    "    X = np.array(real_encoded.drop([treatment_col, outcome_col], axis=1))\n",
    "    y = np.array(real_encoded[treatment_col])\n",
    "    \n",
    "    if private:\n",
    "        classifier = LogisticRegressionDP(random_state = random.randint(0, 1000000), epsilon=epsilon)\n",
    "    else:\n",
    "        classifier = LogisticRegression(random_state = random.randint(0, 1000000))\n",
    "    print('Fitting propensity model')\n",
    "    classifier.fit(X, y)\n",
    "    print('Generating propensities')\n",
    "    probabilities = classifier.predict_proba(np.array(syn_encoded))\n",
    "    prob_class_1 = probabilities[:, 1]\n",
    "    binary_outcomes = np.random.binomial(n=1, p=prob_class_1)\n",
    "\n",
    "    synth_cov_with_prop = syn_encoded\n",
    "    synth_cov_with_prop[treatment_col] = pd.Series(binary_outcomes)\n",
    "\n",
    "    synth_cov_with_prop[outcome_col] = 0\n",
    "\n",
    "    return synth_cov_with_prop"
   ]
  },
  {
   "cell_type": "code",
   "execution_count": null,
   "id": "9d4a3c9a",
   "metadata": {},
   "outputs": [],
   "source": [
    "def generate_sequentially_test(real, gen, treatment_col, outcome_col, encode=False, private=False, epsilon=None, delta=None):\n",
    "    random.seed()\n",
    "    synth = generate_sequentially_to_w_test(real, gen, treatment_col, outcome_col, encode=encode, private=private, epsilon=epsilon, delta=delta)\n",
    "\n",
    "    X = np.array(real.drop([treatment_col, outcome_col], axis=1))\n",
    "    y = np.array(real[outcome_col])\n",
    "    w = np.array(real[treatment_col])\n",
    "    n_units = len(real.drop([treatment_col, outcome_col], axis=1).columns)\n",
    "    if private:\n",
    "        l = TLearnerDP(n_unit_in=n_units, binary_y=False, seed=random.randint(0,1000000), batch_norm=False)\n",
    "        print('Fitting private CATE learner')\n",
    "        l.fit(X, y, w, epsilon=epsilon, delta=delta)\n",
    "    else:\n",
    "        l = TLearner(n_unit_in=n_units, binary_y=False, seed=random.randint(0,1000000), batch_norm=False)\n",
    "        print('Fitting CATE learner')\n",
    "        l.fit(X, y, w)\n",
    "\n",
    "    seq_X = np.array(synth.drop([treatment_col, outcome_col], axis=1))\n",
    "    print('Generating POs')\n",
    "    cate, y0, y1 = l.predict(seq_X, return_po=True)\n",
    "\n",
    "    outcomes = []\n",
    "    for index, value in synth[treatment_col].iteritems():\n",
    "        if value == 0:\n",
    "            outcomes.append(y0[index].item())\n",
    "        else:\n",
    "            outcomes.append(y1[index].item())\n",
    "\n",
    "    synth[outcome_col] = outcomes\n",
    "    return synth"
   ]
  },
  {
   "cell_type": "code",
   "execution_count": null,
   "id": "287dfc53",
   "metadata": {},
   "outputs": [],
   "source": [
    "def generate_standard_test(real, gen, private=False, epsilon=None, delta=None):\n",
    "    random.seed()\n",
    "    if private:\n",
    "        g = Plugins().get(gen, random_state = random.randint(0, 1000000), epsilon=epsilon, delta=delta)\n",
    "    else:\n",
    "        g = Plugins().get(gen, random_state = random.randint(0, 1000000), min_node_size=2)\n",
    "    print(f'Fitting {gen} model')\n",
    "    g.fit(real)\n",
    "    print(f'Generating {gen} synthetic dataset')\n",
    "    synth = g.generate(count = len(real)).dataframe()\n",
    "    return synth"
   ]
  },
  {
   "cell_type": "code",
   "execution_count": null,
   "id": "a4dad1f3",
   "metadata": {},
   "outputs": [],
   "source": [
    "def model_selection_exp(n, d, n_c, n_t, n_iter):\n",
    "    results = pd.DataFrame(columns = ['method', 'alpha', 'beta', 'f', 'c', 'd', 'u_pehe', 'oracle_pehe'])\n",
    "    alpha = AlphaPrecision()\n",
    "\n",
    "    X,y,w,p,t = simulate_treatment_setup(n, d=d, n_c=n_c, n_t=n_t)\n",
    "    X_df = pd.DataFrame(X)\n",
    "    y_df = pd.DataFrame(y, columns = ['y'])\n",
    "    w_df = pd.DataFrame(w, columns = ['w'])\n",
    "    d_real = pd.concat([X_df,w_df,y_df], axis=1)\n",
    "\n",
    "    for _ in range(n_iter):\n",
    "    \n",
    "        d_standard = generate_standard_test(d_real, 'arf')\n",
    "        X_stand = np.array(d_standard.drop(['w', 'y'], axis=1))\n",
    "        y_stand = np.array(d_standard['y'])\n",
    "        w_stand = np.array(d_standard['w'])\n",
    "\n",
    "        l_stand = SLearner(n_unit_in=d, binary_y=False, seed=random.randint(0,1000000))\n",
    "        l_stand.fit(X_stand, y_stand, w_stand)\n",
    "        pred_stand = l_stand.predict(X)\n",
    "        oracle_standard = mean_squared_error(t, pred_stand.detach().cpu().numpy(), squared=False)\n",
    "\n",
    "        d_seq = generate_sequentially_test(d_real, 'arf', 'w', 'y')\n",
    "        X_seq = np.array(d_seq.drop(['w', 'y'], axis=1))\n",
    "        y_seq = np.array(d_seq['y'])\n",
    "        w_seq = np.array(d_seq['w'])\n",
    "\n",
    "        l_seq = SLearner(n_unit_in=d, binary_y=False, seed=random.randint(0,1000000))\n",
    "        l_seq.fit(X_seq, y_seq, w_seq)\n",
    "        pred_seq = l_seq.predict(X)\n",
    "        oracle_seq = mean_squared_error(t, pred_seq.detach().cpu().numpy(), squared=False)\n",
    "\n",
    "        results.loc[len(results)] = ['standard', alpha.evaluate(GenericDataLoader(d_real), GenericDataLoader(d_standard))['delta_precision_alpha_OC'], \n",
    "            alpha.evaluate(GenericDataLoader(d_real), GenericDataLoader(d_standard))['delta_coverage_beta_OC'], \n",
    "            evaluate_f(d_real, d_standard, 'w', 'y'), evaluate_c(d_real, d_standard, 'w', 'y'), \n",
    "            evaluate_d(d_real, d_standard, 'w', 'y'), evaluate_average_u_pehe(d_real, d_standard, 'w', 'y', d), oracle_standard]\n",
    "\n",
    "        results.loc[len(results)] = ['seq', alpha.evaluate(GenericDataLoader(d_real), GenericDataLoader(d_seq))['delta_precision_alpha_OC'], \n",
    "            alpha.evaluate(GenericDataLoader(d_real), GenericDataLoader(d_seq))['delta_coverage_beta_OC'], \n",
    "            evaluate_f(d_real, d_seq, 'w', 'y'), evaluate_c(d_real, d_seq, 'w', 'y'), \n",
    "            evaluate_d(d_real, d_seq, 'w', 'y'), evaluate_average_u_pehe(d_real, d_seq, 'w', 'y', d), oracle_seq]\n",
    "\n",
    "    return results"
   ]
  },
  {
   "cell_type": "code",
   "execution_count": null,
   "id": "2a95878e",
   "metadata": {},
   "outputs": [
    {
     "name": "stderr",
     "output_type": "stream",
     "text": [
      "[2024-05-15T04:49:05.658062+0000][130783][CRITICAL] load failed: module 'synthcity.plugins.generic.plugin_goggle' has no attribute 'plugin'\n",
      "[2024-05-15T04:49:05.661529+0000][130783][CRITICAL] load failed: module 'synthcity.plugins.generic.plugin_goggle' has no attribute 'plugin'\n",
      "[2024-05-15T04:49:05.662011+0000][130783][CRITICAL] module plugin_goggle load failed\n"
     ]
    },
    {
     "name": "stdout",
     "output_type": "stream",
     "text": [
      "Fitting arf model\n",
      "Initial accuracy is 0.474\n",
      "Generating arf synthetic dataset\n"
     ]
    },
    {
     "name": "stderr",
     "output_type": "stream",
     "text": [
      "[2024-05-15T04:49:14.726832+0000][130783][CRITICAL] load failed: module 'synthcity.plugins.generic.plugin_goggle' has no attribute 'plugin'\n",
      "[2024-05-15T04:49:14.727913+0000][130783][CRITICAL] load failed: module 'synthcity.plugins.generic.plugin_goggle' has no attribute 'plugin'\n",
      "[2024-05-15T04:49:14.728298+0000][130783][CRITICAL] module plugin_goggle load failed\n"
     ]
    },
    {
     "name": "stdout",
     "output_type": "stream",
     "text": [
      "Fitting arf covariate model\n",
      "Initial accuracy is 0.4425\n",
      "Generating arf synthetic covariates\n",
      "Fitting propensity model\n",
      "Generating propensities\n",
      "Fitting CATE learner\n",
      "Generating POs\n"
     ]
    },
    {
     "name": "stderr",
     "output_type": "stream",
     "text": [
      "[2024-05-15T04:51:51.066177+0000][130783][CRITICAL] load failed: module 'synthcity.plugins.generic.plugin_goggle' has no attribute 'plugin'\n",
      "[2024-05-15T04:51:51.067666+0000][130783][CRITICAL] load failed: module 'synthcity.plugins.generic.plugin_goggle' has no attribute 'plugin'\n",
      "[2024-05-15T04:51:51.068189+0000][130783][CRITICAL] module plugin_goggle load failed\n"
     ]
    },
    {
     "name": "stdout",
     "output_type": "stream",
     "text": [
      "Fitting arf model\n",
      "Initial accuracy is 0.4845\n",
      "Generating arf synthetic dataset\n"
     ]
    },
    {
     "name": "stderr",
     "output_type": "stream",
     "text": [
      "[2024-05-15T04:51:59.868621+0000][130783][CRITICAL] load failed: module 'synthcity.plugins.generic.plugin_goggle' has no attribute 'plugin'\n",
      "[2024-05-15T04:51:59.869429+0000][130783][CRITICAL] load failed: module 'synthcity.plugins.generic.plugin_goggle' has no attribute 'plugin'\n",
      "[2024-05-15T04:51:59.869789+0000][130783][CRITICAL] module plugin_goggle load failed\n"
     ]
    },
    {
     "name": "stdout",
     "output_type": "stream",
     "text": [
      "Fitting arf covariate model\n",
      "Initial accuracy is 0.4405\n",
      "Generating arf synthetic covariates\n",
      "Fitting propensity model\n",
      "Generating propensities\n",
      "Fitting CATE learner\n",
      "Generating POs\n"
     ]
    },
    {
     "name": "stderr",
     "output_type": "stream",
     "text": [
      "[2024-05-15T04:54:32.485794+0000][130783][CRITICAL] load failed: module 'synthcity.plugins.generic.plugin_goggle' has no attribute 'plugin'\n",
      "[2024-05-15T04:54:32.487290+0000][130783][CRITICAL] load failed: module 'synthcity.plugins.generic.plugin_goggle' has no attribute 'plugin'\n",
      "[2024-05-15T04:54:32.487748+0000][130783][CRITICAL] module plugin_goggle load failed\n"
     ]
    },
    {
     "name": "stdout",
     "output_type": "stream",
     "text": [
      "Fitting arf model\n",
      "Initial accuracy is 0.4525\n",
      "Generating arf synthetic dataset\n"
     ]
    },
    {
     "name": "stderr",
     "output_type": "stream",
     "text": [
      "[2024-05-15T04:54:41.959703+0000][130783][CRITICAL] load failed: module 'synthcity.plugins.generic.plugin_goggle' has no attribute 'plugin'\n",
      "[2024-05-15T04:54:41.960608+0000][130783][CRITICAL] load failed: module 'synthcity.plugins.generic.plugin_goggle' has no attribute 'plugin'\n",
      "[2024-05-15T04:54:41.961105+0000][130783][CRITICAL] module plugin_goggle load failed\n"
     ]
    },
    {
     "name": "stdout",
     "output_type": "stream",
     "text": [
      "Fitting arf covariate model\n",
      "Initial accuracy is 0.4605\n",
      "Generating arf synthetic covariates\n",
      "Fitting propensity model\n",
      "Generating propensities\n",
      "Fitting CATE learner\n",
      "Generating POs\n"
     ]
    },
    {
     "name": "stderr",
     "output_type": "stream",
     "text": [
      "[2024-05-15T04:57:17.974836+0000][130783][CRITICAL] load failed: module 'synthcity.plugins.generic.plugin_goggle' has no attribute 'plugin'\n",
      "[2024-05-15T04:57:17.975881+0000][130783][CRITICAL] load failed: module 'synthcity.plugins.generic.plugin_goggle' has no attribute 'plugin'\n",
      "[2024-05-15T04:57:17.976382+0000][130783][CRITICAL] module plugin_goggle load failed\n"
     ]
    },
    {
     "name": "stdout",
     "output_type": "stream",
     "text": [
      "Fitting arf model\n",
      "Initial accuracy is 0.4645\n",
      "Generating arf synthetic dataset\n"
     ]
    },
    {
     "name": "stderr",
     "output_type": "stream",
     "text": [
      "[2024-05-15T04:57:27.217498+0000][130783][CRITICAL] load failed: module 'synthcity.plugins.generic.plugin_goggle' has no attribute 'plugin'\n",
      "[2024-05-15T04:57:27.218492+0000][130783][CRITICAL] load failed: module 'synthcity.plugins.generic.plugin_goggle' has no attribute 'plugin'\n",
      "[2024-05-15T04:57:27.218864+0000][130783][CRITICAL] module plugin_goggle load failed\n"
     ]
    },
    {
     "name": "stdout",
     "output_type": "stream",
     "text": [
      "Fitting arf covariate model\n",
      "Initial accuracy is 0.4445\n",
      "Generating arf synthetic covariates\n",
      "Fitting propensity model\n",
      "Generating propensities\n",
      "Fitting CATE learner\n",
      "Generating POs\n"
     ]
    },
    {
     "name": "stderr",
     "output_type": "stream",
     "text": [
      "[2024-05-15T05:00:03.730602+0000][130783][CRITICAL] load failed: module 'synthcity.plugins.generic.plugin_goggle' has no attribute 'plugin'\n",
      "[2024-05-15T05:00:03.731833+0000][130783][CRITICAL] load failed: module 'synthcity.plugins.generic.plugin_goggle' has no attribute 'plugin'\n",
      "[2024-05-15T05:00:03.732155+0000][130783][CRITICAL] module plugin_goggle load failed\n"
     ]
    },
    {
     "name": "stdout",
     "output_type": "stream",
     "text": [
      "Fitting arf model\n",
      "Initial accuracy is 0.471\n",
      "Generating arf synthetic dataset\n"
     ]
    },
    {
     "name": "stderr",
     "output_type": "stream",
     "text": [
      "[2024-05-15T05:00:13.357324+0000][130783][CRITICAL] load failed: module 'synthcity.plugins.generic.plugin_goggle' has no attribute 'plugin'\n",
      "[2024-05-15T05:00:13.358270+0000][130783][CRITICAL] load failed: module 'synthcity.plugins.generic.plugin_goggle' has no attribute 'plugin'\n",
      "[2024-05-15T05:00:13.358675+0000][130783][CRITICAL] module plugin_goggle load failed\n"
     ]
    },
    {
     "name": "stdout",
     "output_type": "stream",
     "text": [
      "Fitting arf covariate model\n",
      "Initial accuracy is 0.442\n",
      "Generating arf synthetic covariates\n",
      "Fitting propensity model\n",
      "Generating propensities\n",
      "Fitting CATE learner\n",
      "Generating POs\n"
     ]
    }
   ],
   "source": [
    "model_selection_results = model_selection_exp(1000, 40, 0, 10, 5)"
   ]
  },
  {
   "cell_type": "code",
   "execution_count": null,
   "id": "91b6a90e",
   "metadata": {},
   "outputs": [
    {
     "data": {
      "text/html": [
       "<div>\n",
       "<style scoped>\n",
       "    .dataframe tbody tr th:only-of-type {\n",
       "        vertical-align: middle;\n",
       "    }\n",
       "\n",
       "    .dataframe tbody tr th {\n",
       "        vertical-align: top;\n",
       "    }\n",
       "\n",
       "    .dataframe thead th {\n",
       "        text-align: right;\n",
       "    }\n",
       "</style>\n",
       "<table border=\"1\" class=\"dataframe\">\n",
       "  <thead>\n",
       "    <tr style=\"text-align: right;\">\n",
       "      <th></th>\n",
       "      <th>alpha</th>\n",
       "      <th>beta</th>\n",
       "      <th>f</th>\n",
       "      <th>c</th>\n",
       "      <th>d</th>\n",
       "      <th>u_pehe</th>\n",
       "      <th>oracle_pehe</th>\n",
       "    </tr>\n",
       "    <tr>\n",
       "      <th>method</th>\n",
       "      <th></th>\n",
       "      <th></th>\n",
       "      <th></th>\n",
       "      <th></th>\n",
       "      <th></th>\n",
       "      <th></th>\n",
       "      <th></th>\n",
       "    </tr>\n",
       "  </thead>\n",
       "  <tbody>\n",
       "    <tr>\n",
       "      <th>seq</th>\n",
       "      <td>0.193773</td>\n",
       "      <td>0.171493</td>\n",
       "      <td>0.221067</td>\n",
       "      <td>0.176933</td>\n",
       "      <td>0.821901</td>\n",
       "      <td>4.360505</td>\n",
       "      <td>4.620599</td>\n",
       "    </tr>\n",
       "    <tr>\n",
       "      <th>standard</th>\n",
       "      <td>0.177760</td>\n",
       "      <td>0.176453</td>\n",
       "      <td>0.215760</td>\n",
       "      <td>0.191907</td>\n",
       "      <td>0.783126</td>\n",
       "      <td>7.174803</td>\n",
       "      <td>8.398304</td>\n",
       "    </tr>\n",
       "  </tbody>\n",
       "</table>\n",
       "</div>"
      ],
      "text/plain": [
       "             alpha      beta         f         c         d    u_pehe  \\\n",
       "method                                                                 \n",
       "seq       0.193773  0.171493  0.221067  0.176933  0.821901  4.360505   \n",
       "standard  0.177760  0.176453  0.215760  0.191907  0.783126  7.174803   \n",
       "\n",
       "          oracle_pehe  \n",
       "method                 \n",
       "seq          4.620599  \n",
       "standard     8.398304  "
      ]
     },
     "metadata": {},
     "output_type": "display_data"
    }
   ],
   "source": [
    "model_selection_results.groupby('method').mean()"
   ]
  },
  {
   "cell_type": "code",
   "execution_count": null,
   "id": "51e3eead",
   "metadata": {},
   "outputs": [
    {
     "data": {
      "text/html": [
       "<div>\n",
       "<style scoped>\n",
       "    .dataframe tbody tr th:only-of-type {\n",
       "        vertical-align: middle;\n",
       "    }\n",
       "\n",
       "    .dataframe tbody tr th {\n",
       "        vertical-align: top;\n",
       "    }\n",
       "\n",
       "    .dataframe thead th {\n",
       "        text-align: right;\n",
       "    }\n",
       "</style>\n",
       "<table border=\"1\" class=\"dataframe\">\n",
       "  <thead>\n",
       "    <tr style=\"text-align: right;\">\n",
       "      <th></th>\n",
       "      <th>alpha</th>\n",
       "      <th>beta</th>\n",
       "      <th>f</th>\n",
       "      <th>c</th>\n",
       "      <th>d</th>\n",
       "      <th>u_pehe</th>\n",
       "      <th>oracle_pehe</th>\n",
       "    </tr>\n",
       "    <tr>\n",
       "      <th>method</th>\n",
       "      <th></th>\n",
       "      <th></th>\n",
       "      <th></th>\n",
       "      <th></th>\n",
       "      <th></th>\n",
       "      <th></th>\n",
       "      <th></th>\n",
       "    </tr>\n",
       "  </thead>\n",
       "  <tbody>\n",
       "    <tr>\n",
       "      <th>seq</th>\n",
       "      <td>0.013049</td>\n",
       "      <td>0.033278</td>\n",
       "      <td>0.008178</td>\n",
       "      <td>0.021495</td>\n",
       "      <td>0.016053</td>\n",
       "      <td>0.241828</td>\n",
       "      <td>0.065125</td>\n",
       "    </tr>\n",
       "    <tr>\n",
       "      <th>standard</th>\n",
       "      <td>0.018215</td>\n",
       "      <td>0.015844</td>\n",
       "      <td>0.007146</td>\n",
       "      <td>0.012139</td>\n",
       "      <td>0.021359</td>\n",
       "      <td>0.146867</td>\n",
       "      <td>0.142550</td>\n",
       "    </tr>\n",
       "  </tbody>\n",
       "</table>\n",
       "</div>"
      ],
      "text/plain": [
       "             alpha      beta         f         c         d    u_pehe  \\\n",
       "method                                                                 \n",
       "seq       0.013049  0.033278  0.008178  0.021495  0.016053  0.241828   \n",
       "standard  0.018215  0.015844  0.007146  0.012139  0.021359  0.146867   \n",
       "\n",
       "          oracle_pehe  \n",
       "method                 \n",
       "seq          0.065125  \n",
       "standard     0.142550  "
      ]
     },
     "metadata": {},
     "output_type": "display_data"
    }
   ],
   "source": [
    "model_selection_results.groupby('method').std() / np.sqrt(5) * 1.96"
   ]
  },
  {
   "cell_type": "code",
   "execution_count": null,
   "id": "8fdc86cc",
   "metadata": {},
   "outputs": [
    {
     "data": {
      "text/html": [
       "<div>\n",
       "<style scoped>\n",
       "    .dataframe tbody tr th:only-of-type {\n",
       "        vertical-align: middle;\n",
       "    }\n",
       "\n",
       "    .dataframe tbody tr th {\n",
       "        vertical-align: top;\n",
       "    }\n",
       "\n",
       "    .dataframe thead th {\n",
       "        text-align: right;\n",
       "    }\n",
       "</style>\n",
       "<table border=\"1\" class=\"dataframe\">\n",
       "  <thead>\n",
       "    <tr style=\"text-align: right;\">\n",
       "      <th></th>\n",
       "      <th>alpha</th>\n",
       "      <th>beta</th>\n",
       "      <th>f</th>\n",
       "      <th>c</th>\n",
       "      <th>d</th>\n",
       "      <th>u_pehe</th>\n",
       "      <th>oracle_pehe</th>\n",
       "    </tr>\n",
       "  </thead>\n",
       "  <tbody>\n",
       "    <tr>\n",
       "      <th>alpha</th>\n",
       "      <td>1.000000</td>\n",
       "      <td>0.588134</td>\n",
       "      <td>0.303387</td>\n",
       "      <td>0.169600</td>\n",
       "      <td>0.348789</td>\n",
       "      <td>-0.432350</td>\n",
       "      <td>-0.467389</td>\n",
       "    </tr>\n",
       "    <tr>\n",
       "      <th>beta</th>\n",
       "      <td>0.588134</td>\n",
       "      <td>1.000000</td>\n",
       "      <td>0.321706</td>\n",
       "      <td>0.371152</td>\n",
       "      <td>-0.217302</td>\n",
       "      <td>0.122261</td>\n",
       "      <td>0.083957</td>\n",
       "    </tr>\n",
       "    <tr>\n",
       "      <th>f</th>\n",
       "      <td>0.303387</td>\n",
       "      <td>0.321706</td>\n",
       "      <td>1.000000</td>\n",
       "      <td>0.216046</td>\n",
       "      <td>0.080783</td>\n",
       "      <td>-0.318053</td>\n",
       "      <td>-0.338153</td>\n",
       "    </tr>\n",
       "    <tr>\n",
       "      <th>c</th>\n",
       "      <td>0.169600</td>\n",
       "      <td>0.371152</td>\n",
       "      <td>0.216046</td>\n",
       "      <td>1.000000</td>\n",
       "      <td>0.078889</td>\n",
       "      <td>0.398354</td>\n",
       "      <td>0.375924</td>\n",
       "    </tr>\n",
       "    <tr>\n",
       "      <th>d</th>\n",
       "      <td>0.348789</td>\n",
       "      <td>-0.217302</td>\n",
       "      <td>0.080783</td>\n",
       "      <td>0.078889</td>\n",
       "      <td>1.000000</td>\n",
       "      <td>-0.730445</td>\n",
       "      <td>-0.715735</td>\n",
       "    </tr>\n",
       "    <tr>\n",
       "      <th>u_pehe</th>\n",
       "      <td>-0.432350</td>\n",
       "      <td>0.122261</td>\n",
       "      <td>-0.318053</td>\n",
       "      <td>0.398354</td>\n",
       "      <td>-0.730445</td>\n",
       "      <td>1.000000</td>\n",
       "      <td>0.988996</td>\n",
       "    </tr>\n",
       "    <tr>\n",
       "      <th>oracle_pehe</th>\n",
       "      <td>-0.467389</td>\n",
       "      <td>0.083957</td>\n",
       "      <td>-0.338153</td>\n",
       "      <td>0.375924</td>\n",
       "      <td>-0.715735</td>\n",
       "      <td>0.988996</td>\n",
       "      <td>1.000000</td>\n",
       "    </tr>\n",
       "  </tbody>\n",
       "</table>\n",
       "</div>"
      ],
      "text/plain": [
       "                alpha      beta         f         c         d    u_pehe  \\\n",
       "alpha        1.000000  0.588134  0.303387  0.169600  0.348789 -0.432350   \n",
       "beta         0.588134  1.000000  0.321706  0.371152 -0.217302  0.122261   \n",
       "f            0.303387  0.321706  1.000000  0.216046  0.080783 -0.318053   \n",
       "c            0.169600  0.371152  0.216046  1.000000  0.078889  0.398354   \n",
       "d            0.348789 -0.217302  0.080783  0.078889  1.000000 -0.730445   \n",
       "u_pehe      -0.432350  0.122261 -0.318053  0.398354 -0.730445  1.000000   \n",
       "oracle_pehe -0.467389  0.083957 -0.338153  0.375924 -0.715735  0.988996   \n",
       "\n",
       "             oracle_pehe  \n",
       "alpha          -0.467389  \n",
       "beta            0.083957  \n",
       "f              -0.338153  \n",
       "c               0.375924  \n",
       "d              -0.715735  \n",
       "u_pehe          0.988996  \n",
       "oracle_pehe     1.000000  "
      ]
     },
     "metadata": {},
     "output_type": "display_data"
    }
   ],
   "source": [
    "model_selection_results.corr()"
   ]
  },
  {
   "cell_type": "code",
   "execution_count": null,
   "id": "0b64327d",
   "metadata": {},
   "outputs": [],
   "source": [
    "model_selection_results.to_csv('model_selection_exp_arf.csv', index=False)"
   ]
  },
  {
   "cell_type": "markdown",
   "id": "7973a056",
   "metadata": {},
   "source": [
    "# Real world experiments"
   ]
  },
  {
   "cell_type": "markdown",
   "id": "f2326f83",
   "metadata": {},
   "source": [
    "### Generation in a sequential manner, mimicing the true DGP"
   ]
  },
  {
   "cell_type": "markdown",
   "id": "9b8d13fc",
   "metadata": {},
   "source": [
    "Given a real dataset $D = [X, W, Y]$, will train a generative model only on the covariates $X$. Then will predict the treatment assignment $W$ based on the propensity score $\\pi(x)$ for each instance, where $\\pi(.)$ is learnt from the real dataset. Then, will generate the outcomes $Y$ based on a conditional generative model that has been trained on $D$."
   ]
  },
  {
   "cell_type": "code",
   "execution_count": 60,
   "id": "d81314c5",
   "metadata": {},
   "outputs": [
    {
     "name": "stderr",
     "output_type": "stream",
     "text": [
      "[2024-05-20T11:22:26.032543+0000][1471397][CRITICAL] load failed: Cannot find DGL C++ graphbolt library at /anaconda/envs/azureml_py310_sdkv2/lib/python3.10/site-packages/dgl/graphbolt/libgraphbolt_pytorch_1.13.1.so\n",
      "[2024-05-20T11:22:26.033589+0000][1471397][CRITICAL] load failed: module 'synthcity.plugins.generic.plugin_goggle' has no attribute 'plugin'\n",
      "[2024-05-20T11:22:26.034073+0000][1471397][CRITICAL] module plugin_goggle load failed\n"
     ]
    },
    {
     "name": "stdout",
     "output_type": "stream",
     "text": [
      "Fitting ctgan model\n"
     ]
    },
    {
     "name": "stderr",
     "output_type": "stream",
     "text": [
      " 57%|█████▋    | 1149/2000 [01:59<01:28,  9.58it/s]\n",
      "[2024-05-20T11:24:28.913353+0000][1471397][CRITICAL] load failed: module 'synthcity.plugins.generic.plugin_goggle' has no attribute 'plugin'\n",
      "[2024-05-20T11:24:28.914228+0000][1471397][CRITICAL] load failed: module 'synthcity.plugins.generic.plugin_goggle' has no attribute 'plugin'\n",
      "[2024-05-20T11:24:28.914749+0000][1471397][CRITICAL] module plugin_goggle load failed\n"
     ]
    },
    {
     "name": "stdout",
     "output_type": "stream",
     "text": [
      "Generating ctgan synthetic dataset\n",
      "Fitting ctgan covariate model\n"
     ]
    },
    {
     "name": "stderr",
     "output_type": "stream",
     "text": [
      " 37%|███▋      | 749/2000 [01:15<02:05,  9.93it/s]\n"
     ]
    },
    {
     "name": "stdout",
     "output_type": "stream",
     "text": [
      "Generating ctgan synthetic covariates\n",
      "Fitting propensity model\n",
      "Generating propensities\n",
      "Fitting CATE learner\n",
      "Generating POs\n"
     ]
    },
    {
     "name": "stderr",
     "output_type": "stream",
     "text": [
      "[2024-05-20T11:28:59.707282+0000][1471397][CRITICAL] load failed: module 'synthcity.plugins.generic.plugin_goggle' has no attribute 'plugin'\n",
      "[2024-05-20T11:28:59.709185+0000][1471397][CRITICAL] load failed: module 'synthcity.plugins.generic.plugin_goggle' has no attribute 'plugin'\n",
      "[2024-05-20T11:28:59.709573+0000][1471397][CRITICAL] module plugin_goggle load failed\n"
     ]
    },
    {
     "name": "stdout",
     "output_type": "stream",
     "text": [
      "Fitting ctgan model\n"
     ]
    },
    {
     "name": "stderr",
     "output_type": "stream",
     "text": [
      " 25%|██▍       | 499/2000 [01:02<03:07,  8.01it/s]\n",
      "[2024-05-20T11:30:03.139909+0000][1471397][CRITICAL] load failed: module 'synthcity.plugins.generic.plugin_goggle' has no attribute 'plugin'\n",
      "[2024-05-20T11:30:03.140600+0000][1471397][CRITICAL] load failed: module 'synthcity.plugins.generic.plugin_goggle' has no attribute 'plugin'\n",
      "[2024-05-20T11:30:03.141007+0000][1471397][CRITICAL] module plugin_goggle load failed\n"
     ]
    },
    {
     "name": "stdout",
     "output_type": "stream",
     "text": [
      "Generating ctgan synthetic dataset\n",
      "Fitting ctgan covariate model\n"
     ]
    },
    {
     "name": "stderr",
     "output_type": "stream",
     "text": [
      " 32%|███▏      | 649/2000 [01:18<02:42,  8.29it/s]\n"
     ]
    },
    {
     "name": "stdout",
     "output_type": "stream",
     "text": [
      "Generating ctgan synthetic covariates\n",
      "Fitting propensity model\n",
      "Generating propensities\n",
      "Fitting CATE learner\n",
      "Generating POs\n"
     ]
    },
    {
     "name": "stderr",
     "output_type": "stream",
     "text": [
      "[2024-05-20T11:34:30.725452+0000][1471397][CRITICAL] load failed: module 'synthcity.plugins.generic.plugin_goggle' has no attribute 'plugin'\n",
      "[2024-05-20T11:34:30.726672+0000][1471397][CRITICAL] load failed: module 'synthcity.plugins.generic.plugin_goggle' has no attribute 'plugin'\n",
      "[2024-05-20T11:34:30.727139+0000][1471397][CRITICAL] module plugin_goggle load failed\n"
     ]
    },
    {
     "name": "stdout",
     "output_type": "stream",
     "text": [
      "Fitting ctgan model\n"
     ]
    },
    {
     "name": "stderr",
     "output_type": "stream",
     "text": [
      " 62%|██████▏   | 1249/2000 [02:34<01:33,  8.08it/s]\n",
      "[2024-05-20T11:37:06.515272+0000][1471397][CRITICAL] load failed: module 'synthcity.plugins.generic.plugin_goggle' has no attribute 'plugin'\n",
      "[2024-05-20T11:37:06.515846+0000][1471397][CRITICAL] load failed: module 'synthcity.plugins.generic.plugin_goggle' has no attribute 'plugin'\n",
      "[2024-05-20T11:37:06.516277+0000][1471397][CRITICAL] module plugin_goggle load failed\n"
     ]
    },
    {
     "name": "stdout",
     "output_type": "stream",
     "text": [
      "Generating ctgan synthetic dataset\n",
      "Fitting ctgan covariate model\n"
     ]
    },
    {
     "name": "stderr",
     "output_type": "stream",
     "text": [
      " 32%|███▏      | 649/2000 [01:05<02:16,  9.90it/s]\n"
     ]
    },
    {
     "name": "stdout",
     "output_type": "stream",
     "text": [
      "Generating ctgan synthetic covariates\n",
      "Fitting propensity model\n",
      "Generating propensities\n",
      "Fitting CATE learner\n",
      "Generating POs\n"
     ]
    },
    {
     "name": "stderr",
     "output_type": "stream",
     "text": [
      "[2024-05-20T11:41:25.770934+0000][1471397][CRITICAL] load failed: module 'synthcity.plugins.generic.plugin_goggle' has no attribute 'plugin'\n",
      "[2024-05-20T11:41:25.773790+0000][1471397][CRITICAL] load failed: module 'synthcity.plugins.generic.plugin_goggle' has no attribute 'plugin'\n",
      "[2024-05-20T11:41:25.774408+0000][1471397][CRITICAL] module plugin_goggle load failed\n"
     ]
    },
    {
     "name": "stdout",
     "output_type": "stream",
     "text": [
      "Fitting ctgan model\n"
     ]
    },
    {
     "name": "stderr",
     "output_type": "stream",
     "text": [
      " 35%|███▍      | 699/2000 [01:27<02:42,  7.98it/s]\n",
      "[2024-05-20T11:42:54.449354+0000][1471397][CRITICAL] load failed: module 'synthcity.plugins.generic.plugin_goggle' has no attribute 'plugin'\n",
      "[2024-05-20T11:42:54.449929+0000][1471397][CRITICAL] load failed: module 'synthcity.plugins.generic.plugin_goggle' has no attribute 'plugin'\n",
      "[2024-05-20T11:42:54.450311+0000][1471397][CRITICAL] module plugin_goggle load failed\n"
     ]
    },
    {
     "name": "stdout",
     "output_type": "stream",
     "text": [
      "Generating ctgan synthetic dataset\n",
      "Fitting ctgan covariate model\n"
     ]
    },
    {
     "name": "stderr",
     "output_type": "stream",
     "text": [
      " 45%|████▍     | 899/2000 [01:48<02:13,  8.25it/s]\n"
     ]
    },
    {
     "name": "stdout",
     "output_type": "stream",
     "text": [
      "Generating ctgan synthetic covariates\n",
      "Fitting propensity model\n",
      "Generating propensities\n",
      "Fitting CATE learner\n",
      "Generating POs\n"
     ]
    },
    {
     "name": "stderr",
     "output_type": "stream",
     "text": [
      "[2024-05-20T11:48:03.383185+0000][1471397][CRITICAL] load failed: module 'synthcity.plugins.generic.plugin_goggle' has no attribute 'plugin'\n",
      "[2024-05-20T11:48:03.384494+0000][1471397][CRITICAL] load failed: module 'synthcity.plugins.generic.plugin_goggle' has no attribute 'plugin'\n",
      "[2024-05-20T11:48:03.385022+0000][1471397][CRITICAL] module plugin_goggle load failed\n"
     ]
    },
    {
     "name": "stdout",
     "output_type": "stream",
     "text": [
      "Fitting ctgan model\n"
     ]
    },
    {
     "name": "stderr",
     "output_type": "stream",
     "text": [
      " 40%|███▉      | 799/2000 [01:39<02:28,  8.06it/s]\n",
      "[2024-05-20T11:49:43.562453+0000][1471397][CRITICAL] load failed: module 'synthcity.plugins.generic.plugin_goggle' has no attribute 'plugin'\n",
      "[2024-05-20T11:49:43.563056+0000][1471397][CRITICAL] load failed: module 'synthcity.plugins.generic.plugin_goggle' has no attribute 'plugin'\n",
      "[2024-05-20T11:49:43.563429+0000][1471397][CRITICAL] module plugin_goggle load failed\n"
     ]
    },
    {
     "name": "stdout",
     "output_type": "stream",
     "text": [
      "Generating ctgan synthetic dataset\n",
      "Fitting ctgan covariate model\n"
     ]
    },
    {
     "name": "stderr",
     "output_type": "stream",
     "text": [
      " 27%|██▋       | 549/2000 [00:55<02:26,  9.90it/s]\n"
     ]
    },
    {
     "name": "stdout",
     "output_type": "stream",
     "text": [
      "Generating ctgan synthetic covariates\n",
      "Fitting propensity model\n",
      "Generating propensities\n",
      "Fitting CATE learner\n",
      "Generating POs\n"
     ]
    },
    {
     "name": "stderr",
     "output_type": "stream",
     "text": [
      "[2024-05-20T11:53:52.614740+0000][1471397][CRITICAL] load failed: module 'synthcity.plugins.generic.plugin_goggle' has no attribute 'plugin'\n",
      "[2024-05-20T11:53:52.617239+0000][1471397][CRITICAL] load failed: module 'synthcity.plugins.generic.plugin_goggle' has no attribute 'plugin'\n",
      "[2024-05-20T11:53:52.617916+0000][1471397][CRITICAL] module plugin_goggle load failed\n"
     ]
    },
    {
     "name": "stdout",
     "output_type": "stream",
     "text": [
      "Fitting ctgan model\n"
     ]
    },
    {
     "name": "stderr",
     "output_type": "stream",
     "text": [
      " 40%|███▉      | 799/2000 [01:39<02:30,  8.00it/s]\n",
      "[2024-05-20T11:55:33.615356+0000][1471397][CRITICAL] load failed: module 'synthcity.plugins.generic.plugin_goggle' has no attribute 'plugin'\n",
      "[2024-05-20T11:55:33.616042+0000][1471397][CRITICAL] load failed: module 'synthcity.plugins.generic.plugin_goggle' has no attribute 'plugin'\n",
      "[2024-05-20T11:55:33.616482+0000][1471397][CRITICAL] module plugin_goggle load failed\n"
     ]
    },
    {
     "name": "stdout",
     "output_type": "stream",
     "text": [
      "Generating ctgan synthetic dataset\n",
      "Fitting ctgan covariate model\n"
     ]
    },
    {
     "name": "stderr",
     "output_type": "stream",
     "text": [
      " 50%|████▉     | 999/2000 [01:58<01:58,  8.43it/s]\n"
     ]
    },
    {
     "name": "stdout",
     "output_type": "stream",
     "text": [
      "Generating ctgan synthetic covariates\n",
      "Fitting propensity model\n",
      "Generating propensities\n",
      "Fitting CATE learner\n",
      "Generating POs\n"
     ]
    },
    {
     "name": "stderr",
     "output_type": "stream",
     "text": [
      "[2024-05-20T12:00:43.676058+0000][1471397][CRITICAL] load failed: module 'synthcity.plugins.generic.plugin_goggle' has no attribute 'plugin'\n",
      "[2024-05-20T12:00:43.677279+0000][1471397][CRITICAL] load failed: module 'synthcity.plugins.generic.plugin_goggle' has no attribute 'plugin'\n",
      "[2024-05-20T12:00:43.677773+0000][1471397][CRITICAL] module plugin_goggle load failed\n"
     ]
    },
    {
     "name": "stdout",
     "output_type": "stream",
     "text": [
      "Fitting ctgan model\n"
     ]
    },
    {
     "name": "stderr",
     "output_type": "stream",
     "text": [
      " 15%|█▍        | 299/2000 [00:36<03:30,  8.09it/s]\n",
      "[2024-05-20T12:01:21.749816+0000][1471397][CRITICAL] load failed: module 'synthcity.plugins.generic.plugin_goggle' has no attribute 'plugin'\n",
      "[2024-05-20T12:01:21.750557+0000][1471397][CRITICAL] load failed: module 'synthcity.plugins.generic.plugin_goggle' has no attribute 'plugin'\n",
      "[2024-05-20T12:01:21.751089+0000][1471397][CRITICAL] module plugin_goggle load failed\n"
     ]
    },
    {
     "name": "stdout",
     "output_type": "stream",
     "text": [
      "Generating ctgan synthetic dataset\n",
      "Fitting ctgan covariate model\n"
     ]
    },
    {
     "name": "stderr",
     "output_type": "stream",
     "text": [
      " 22%|██▏       | 449/2000 [00:45<02:35,  9.96it/s]\n"
     ]
    },
    {
     "name": "stdout",
     "output_type": "stream",
     "text": [
      "Generating ctgan synthetic covariates\n",
      "Fitting propensity model\n",
      "Generating propensities\n",
      "Fitting CATE learner\n",
      "Generating POs\n"
     ]
    },
    {
     "name": "stderr",
     "output_type": "stream",
     "text": [
      "Bad pipe message: %s [b'\\x80.\\xba\\x0b\\x001\\xfd\\x05\\xe3\\xe8\\x1e\\xa5\\xb0\\x1a\\xe5\\xf5\\xf1']\n",
      "Bad pipe message: %s [b'\\x9e\\x12j\\xb8\\x13!\\x1f\\x82\\xfeW=\\xf2<\\xe61#7\\xf2\\xfd\\r\\x0b\\x1e\\xdb\\x04\\xb3\\xc7\\x82\\x05W\\xb9\\xea\\x05\\x00\\x08\\x13\\x02\\x13\\x03\\x13\\x01\\x00\\xff\\x01\\x00']\n",
      "Bad pipe message: %s [b'\\xc5Y{_!{z\\xf6\\x9d\\x11\\xc4\\xa7\\xe2\\xd5\\xac\\x8fu\\xa5 \\xdfq\\t\\xc7\\xe6\\x1f\\xa8\\x85\\x7f\\xe6d\\xef\\x1e\\x8d\\xb8\\xe8q\\xbe\\xa50\\xd6\\xa7\\xaaj\\x8c:\\xdbo\\xeavY\\xab\\x00\\x08\\x13\\x02\\x13\\x03\\x13\\x01\\x00\\xff\\x01\\x00\\x00\\x8f\\x00\\x00\\x00\\x0e\\x00\\x0c']\n",
      "Bad pipe message: %s [b'\\xc3\\xab\\x14\\xf3\\xa1\\x9d\\x10N\\x86H\\x0b\\x1a\\xce\\xb2\\xf8\\xb1\\x87\\r\\x00\\x00|\\xc0,\\xc00\\x00\\xa3\\x00\\x9f\\xcc\\xa9\\xcc\\xa8\\xcc\\xaa\\xc0\\xaf\\xc0\\xad\\xc0\\xa3\\xc0\\x9f\\xc0]\\xc0a\\xc0W\\xc0S\\xc0+']\n",
      "Bad pipe message: %s [b\"\\x00\\xa2\\x00\\x9e\\xc0\\xae\\xc0\\xac\\xc0\\xa2\\xc0\\x9e\\xc0\\\\\\xc0`\\xc0V\\xc0R\\xc0$\\xc0(\\x00k\\x00j\\xc0#\\xc0'\\x00g\\x00@\\xc0\\n\\xc0\\x14\\x009\\x008\\xc0\\t\\xc0\\x13\\x003\\x002\\x00\\x9d\\xc0\\xa1\\xc0\\x9d\\xc0Q\\x00\\x9c\\xc0\\xa0\\xc0\\x9c\\xc0P\\x00=\\x00<\\x005\\x00/\\x00\\x9a\\x00\\x99\\xc0\\x07\\xc0\\x11\\x00\\x96\\x00\\x05\\x00\\xff\\x01\\x00\\x00j\\x00\\x00\\x00\\x0e\\x00\\x0c\\x00\\x00\\t127.0.0.1\\x00\\x0b\\x00\\x04\\x03\\x00\\x01\\x02\\x00\\n\\x00\\x0c\\x00\\n\\x00\\x1d\\x00\\x17\\x00\\x1e\\x00\\x19\\x00\\x18\\x00#\\x00\\x00\\x00\\x16\\x00\\x00\\x00\\x17\\x00\\x00\\x00\\r\\x000\\x00.\\x04\\x03\\x05\\x03\\x06\\x03\\x08\\x07\\x08\\x08\\x08\\t\\x08\\n\\x08\\x0b\\x08\\x04\\x08\\x05\\x08\\x06\\x04\\x01\\x05\\x01\\x06\\x01\\x03\\x03\\x02\\x03\\x03\\x01\\x02\\x01\\x03\", b'\\x02']\n",
      "Bad pipe message: %s [b'\\x05\\x02\\x06']\n",
      "Bad pipe message: %s [b'\\xf9\\xff\\x91\\xd3\\x1cS\\x9d%*E\\xa7m\\xc0\\xcc\\x8f\\xad\\xed\\xbb\\x00\\x00\\xa6\\xc0,\\xc00\\x00\\xa3\\x00\\x9f\\xcc\\xa9\\xcc\\xa8\\xcc\\xaa\\xc0\\xaf\\xc0\\xad\\xc0\\xa3\\xc0\\x9f\\xc0]\\xc0a\\xc0W\\xc0S\\xc0+\\xc0/\\x00\\xa2\\x00\\x9e', b\"\\xc0\\xac\\xc0\\xa2\\xc0\\x9e\\xc0\\\\\\xc0`\\xc0V\\xc0R\\xc0$\\xc0(\\x00k\\x00j\\xc0s\\xc0w\\x00\\xc4\\x00\\xc3\\xc0#\\xc0'\\x00g\\x00@\\xc0r\\xc0v\\x00\\xbe\\x00\\xbd\\xc0\\n\\xc0\\x14\\x009\\x008\\x00\\x88\\x00\\x87\\xc0\\t\\xc0\\x13\\x003\\x002\\x00\\x9a\\x00\\x99\\x00E\\x00D\\xc0\\x07\\xc0\\x11\\xc0\\x08\\xc0\\x12\\x00\\x16\\x00\\x13\\x00\\x9d\\xc0\\xa1\\xc0\\x9d\\xc0Q\\x00\\x9c\\xc0\\xa0\\xc0\\x9c\\xc0P\\x00=\\x00\\xc0\\x00<\\x00\\xba\\x005\\x00\\x84\\x00/\\x00\\x96\\x00A\\x00\\x05\\x00\\n\\x00\\xff\\x01\\x00\\x00j\\x00\\x00\\x00\\x0e\\x00\\x0c\\x00\\x00\\t127.0.0.1\\x00\\x0b\\x00\\x04\\x03\\x00\\x01\\x02\\x00\\n\\x00\\x0c\\x00\\n\\x00\\x1d\\x00\\x17\\x00\\x1e\\x00\\x19\\x00\\x18\\x00#\\x00\\x00\\x00\\x16\\x00\\x00\\x00\\x17\\x00\\x00\\x00\\r\\x000\\x00.\\x04\"]\n",
      "Bad pipe message: %s [b'\\x03\\x06', b'\\x07\\x08']\n",
      "Bad pipe message: %s [b'\\t\\x08\\n\\x08\\x0b\\x08\\x04']\n",
      "Bad pipe message: %s [b'\\x08\\x06\\x04\\x01\\x05\\x01\\x06', b'', b'\\x03\\x03']\n",
      "Bad pipe message: %s [b'']\n",
      "Bad pipe message: %s [b'\\x9db&Jp\\xaa\\x8d\\xbe\\xbe\\x15b^\\x9e\\xef\\xf8\\x8d\\xb4,\\x00\\x00\\xa2\\xc0\\x14\\xc0\\n\\x009\\x008\\x007\\x006\\x00\\x88\\x00\\x87\\x00\\x86\\x00\\x85\\xc0\\x19\\x00:\\x00\\x89\\xc0\\x0f\\xc0\\x05\\x005\\x00\\x84\\xc0\\x13\\xc0\\t\\x003\\x002\\x001\\x000\\x00\\x9a\\x00']\n",
      "Bad pipe message: %s [b'', b'\\x02']\n",
      "Bad pipe message: %s [b'\\x98\\x00\\x97\\x00E\\x00D\\x00C\\x00B\\xc0\\x18\\x004\\x00\\x9b\\x00F\\xc0\\x0e\\xc0\\x04\\x00/\\x00\\x96\\x00A\\x00\\x07\\xc0\\x11\\xc0\\x07\\xc0\\x16\\x00\\x18\\xc0\\x0c\\xc0\\x02\\x00\\x05\\x00\\x04\\xc0\\x12\\xc0\\x08\\x00\\x16\\x00\\x13\\x00\\x10\\x00\\r\\xc0\\x17\\x00\\x1b\\xc0\\r\\xc0\\x03\\x00\\n\\x00\\x15\\x00\\x12\\x00\\x0f\\x00\\x0c\\x00\\x1a\\x00\\t\\x00\\x14\\x00\\x11\\x00\\x19\\x00\\x08\\x00\\x06\\x00\\x17\\x00\\x03\\xc0\\x10\\xc0\\x06\\xc0\\x15\\xc0\\x0b\\xc0\\x01\\x00\\x02\\x00\\x01\\x00\\xff\\x02\\x01\\x00\\x00C\\x00\\x00\\x00\\x0e\\x00\\x0c\\x00\\x00\\t127.0.0.1\\x00\\x0b\\x00\\x04\\x03\\x00\\x01\\x02\\x00\\n\\x00\\x1c\\x00\\x1a\\x00\\x17\\x00\\x19']\n",
      "Bad pipe message: %s [b'\\xb7c\\xec\\x1ajV7U\\x06aK\\x8a\\xaf\\xb3\\xc3%U\\x18\\x00\\x00>\\xc0\\x14\\xc0\\n\\x009\\x008\\x007\\x006\\xc0\\x0f\\xc0\\x05\\x005\\xc0\\x13\\xc0\\t\\x003\\x002\\x001\\x000\\xc0\\x0e\\xc0\\x04\\x00/\\x00\\x9a\\x00\\x99\\x00\\x98\\x00\\x97\\x00\\x96\\x00\\x07\\xc0\\x11\\xc0\\x07\\xc0\\x0c\\xc0\\x02\\x00\\x05\\x00\\x04\\x00\\xff\\x02\\x01\\x00\\x00C\\x00\\x00\\x00\\x0e\\x00\\x0c\\x00\\x00\\t127.0.0.1\\x00\\x0b\\x00\\x04\\x03\\x00\\x01\\x02\\x00\\n\\x00\\x1c\\x00\\x1a\\x00\\x17\\x00\\x19\\x00\\x1c\\x00\\x1b\\x00\\x18\\x00', b'\\x16\\x00\\x0e\\x00\\r\\x00\\x0b\\x00\\x0c\\x00\\t\\x00\\n\\x00#\\x00\\x00\\x00\\x0f\\x00\\x01\\x01\\x15\\x03\\x01']\n",
      "Bad pipe message: %s [b'\\x05\\x02\\x06']\n",
      "Bad pipe message: %s [b'\\xcc\\xc0']\n",
      "Bad pipe message: %s [b\"\\xeb\\xcc\\xe0\\x8c\\x0c\\xf1\\xcb\\xcad\\x03\\xbe\\x91\\x8b:1.\\xafR\\x00\\x00\\x86\\xc00\\xc0,\\xc0(\\xc0$\\xc0\\x14\\xc0\\n\\x00\\xa5\\x00\\xa3\\x00\\xa1\\x00\\x9f\\x00k\\x00j\\x00i\\x00h\\x009\\x008\\x007\\x006\\xc02\\xc0.\\xc0*\\xc0&\\xc0\\x0f\\xc0\\x05\\x00\\x9d\\x00=\\x005\\xc0/\\xc0+\\xc0'\\xc0#\\xc0\\x13\\xc0\\t\\x00\\xa4\\x00\\xa2\\x00\\xa0\\x00\\x9e\\x00g\\x00@\\x00?\\x00>\\x003\\x002\\x001\"]\n",
      "[2024-05-20T12:05:30.351554+0000][1471397][CRITICAL] load failed: module 'synthcity.plugins.generic.plugin_goggle' has no attribute 'plugin'\n",
      "[2024-05-20T12:05:30.352250+0000][1471397][CRITICAL] load failed: module 'synthcity.plugins.generic.plugin_goggle' has no attribute 'plugin'\n",
      "[2024-05-20T12:05:30.352685+0000][1471397][CRITICAL] module plugin_goggle load failed\n"
     ]
    },
    {
     "name": "stdout",
     "output_type": "stream",
     "text": [
      "Fitting ctgan model\n"
     ]
    },
    {
     "name": "stderr",
     "output_type": "stream",
     "text": [
      " 37%|███▋      | 749/2000 [01:32<02:34,  8.11it/s]\n",
      "[2024-05-20T12:07:03.769836+0000][1471397][CRITICAL] load failed: module 'synthcity.plugins.generic.plugin_goggle' has no attribute 'plugin'\n",
      "[2024-05-20T12:07:03.770575+0000][1471397][CRITICAL] load failed: module 'synthcity.plugins.generic.plugin_goggle' has no attribute 'plugin'\n",
      "[2024-05-20T12:07:03.770998+0000][1471397][CRITICAL] module plugin_goggle load failed\n"
     ]
    },
    {
     "name": "stdout",
     "output_type": "stream",
     "text": [
      "Generating ctgan synthetic dataset\n",
      "Fitting ctgan covariate model\n"
     ]
    },
    {
     "name": "stderr",
     "output_type": "stream",
     "text": [
      " 42%|████▏     | 849/2000 [01:25<01:55,  9.96it/s]\n"
     ]
    },
    {
     "name": "stdout",
     "output_type": "stream",
     "text": [
      "Generating ctgan synthetic covariates\n",
      "Fitting propensity model\n",
      "Generating propensities\n",
      "Fitting CATE learner\n",
      "Generating POs\n"
     ]
    },
    {
     "name": "stderr",
     "output_type": "stream",
     "text": [
      "[2024-05-20T12:11:48.696178+0000][1471397][CRITICAL] load failed: module 'synthcity.plugins.generic.plugin_goggle' has no attribute 'plugin'\n",
      "[2024-05-20T12:11:48.698713+0000][1471397][CRITICAL] load failed: module 'synthcity.plugins.generic.plugin_goggle' has no attribute 'plugin'\n",
      "[2024-05-20T12:11:48.699766+0000][1471397][CRITICAL] module plugin_goggle load failed\n"
     ]
    },
    {
     "name": "stdout",
     "output_type": "stream",
     "text": [
      "Fitting ctgan model\n"
     ]
    },
    {
     "name": "stderr",
     "output_type": "stream",
     "text": [
      " 55%|█████▍    | 1099/2000 [01:53<01:33,  9.64it/s]\n",
      "[2024-05-20T12:13:43.822174+0000][1471397][CRITICAL] load failed: module 'synthcity.plugins.generic.plugin_goggle' has no attribute 'plugin'\n",
      "[2024-05-20T12:13:43.822869+0000][1471397][CRITICAL] load failed: module 'synthcity.plugins.generic.plugin_goggle' has no attribute 'plugin'\n",
      "[2024-05-20T12:13:43.823328+0000][1471397][CRITICAL] module plugin_goggle load failed\n"
     ]
    },
    {
     "name": "stdout",
     "output_type": "stream",
     "text": [
      "Generating ctgan synthetic dataset\n",
      "Fitting ctgan covariate model\n"
     ]
    },
    {
     "name": "stderr",
     "output_type": "stream",
     "text": [
      " 15%|█▍        | 299/2000 [00:30<02:54,  9.73it/s]\n"
     ]
    },
    {
     "name": "stdout",
     "output_type": "stream",
     "text": [
      "Generating ctgan synthetic covariates\n",
      "Fitting propensity model\n",
      "Generating propensities\n",
      "Fitting CATE learner\n",
      "Generating POs\n"
     ]
    },
    {
     "name": "stderr",
     "output_type": "stream",
     "text": [
      "[2024-05-20T12:17:25.922458+0000][1471397][CRITICAL] load failed: module 'synthcity.plugins.generic.plugin_goggle' has no attribute 'plugin'\n",
      "[2024-05-20T12:17:25.924975+0000][1471397][CRITICAL] load failed: module 'synthcity.plugins.generic.plugin_goggle' has no attribute 'plugin'\n",
      "[2024-05-20T12:17:25.926006+0000][1471397][CRITICAL] module plugin_goggle load failed\n"
     ]
    },
    {
     "name": "stdout",
     "output_type": "stream",
     "text": [
      "Fitting ctgan model\n"
     ]
    },
    {
     "name": "stderr",
     "output_type": "stream",
     "text": [
      " 32%|███▏      | 649/2000 [01:08<02:23,  9.43it/s]\n"
     ]
    },
    {
     "name": "stdout",
     "output_type": "stream",
     "text": [
      "Generating ctgan synthetic dataset\n"
     ]
    },
    {
     "name": "stderr",
     "output_type": "stream",
     "text": [
      "[2024-05-20T12:18:36.112528+0000][1471397][CRITICAL] load failed: module 'synthcity.plugins.generic.plugin_goggle' has no attribute 'plugin'\n",
      "[2024-05-20T12:18:36.113259+0000][1471397][CRITICAL] load failed: module 'synthcity.plugins.generic.plugin_goggle' has no attribute 'plugin'\n",
      "[2024-05-20T12:18:36.113721+0000][1471397][CRITICAL] module plugin_goggle load failed\n"
     ]
    },
    {
     "name": "stdout",
     "output_type": "stream",
     "text": [
      "Fitting ctgan covariate model\n"
     ]
    },
    {
     "name": "stderr",
     "output_type": "stream",
     "text": [
      " 35%|███▍      | 699/2000 [01:10<02:10,  9.98it/s]\n"
     ]
    },
    {
     "name": "stdout",
     "output_type": "stream",
     "text": [
      "Generating ctgan synthetic covariates\n",
      "Fitting propensity model\n",
      "Generating propensities\n",
      "Fitting CATE learner\n",
      "Generating POs\n"
     ]
    },
    {
     "name": "stderr",
     "output_type": "stream",
     "text": [
      "[2024-05-20T12:22:59.347504+0000][1471397][CRITICAL] load failed: module 'synthcity.plugins.generic.plugin_goggle' has no attribute 'plugin'\n",
      "[2024-05-20T12:22:59.348748+0000][1471397][CRITICAL] load failed: module 'synthcity.plugins.generic.plugin_goggle' has no attribute 'plugin'\n",
      "[2024-05-20T12:22:59.349099+0000][1471397][CRITICAL] module plugin_goggle load failed\n"
     ]
    },
    {
     "name": "stdout",
     "output_type": "stream",
     "text": [
      "Fitting ctgan model\n"
     ]
    },
    {
     "name": "stderr",
     "output_type": "stream",
     "text": [
      " 57%|█████▋    | 1149/2000 [02:23<01:45,  8.03it/s]\n",
      "[2024-05-20T12:25:23.572787+0000][1471397][CRITICAL] load failed: module 'synthcity.plugins.generic.plugin_goggle' has no attribute 'plugin'\n",
      "[2024-05-20T12:25:23.573361+0000][1471397][CRITICAL] load failed: module 'synthcity.plugins.generic.plugin_goggle' has no attribute 'plugin'\n",
      "[2024-05-20T12:25:23.573742+0000][1471397][CRITICAL] module plugin_goggle load failed\n"
     ]
    },
    {
     "name": "stdout",
     "output_type": "stream",
     "text": [
      "Generating ctgan synthetic dataset\n",
      "Fitting ctgan covariate model\n"
     ]
    },
    {
     "name": "stderr",
     "output_type": "stream",
     "text": [
      " 47%|████▋     | 949/2000 [01:34<01:45, 10.01it/s]\n"
     ]
    },
    {
     "name": "stdout",
     "output_type": "stream",
     "text": [
      "Generating ctgan synthetic covariates\n",
      "Fitting propensity model\n",
      "Generating propensities\n",
      "Fitting CATE learner\n",
      "Generating POs\n"
     ]
    },
    {
     "name": "stderr",
     "output_type": "stream",
     "text": [
      "[2024-05-20T12:30:16.947645+0000][1471397][CRITICAL] load failed: module 'synthcity.plugins.generic.plugin_goggle' has no attribute 'plugin'\n",
      "[2024-05-20T12:30:16.950158+0000][1471397][CRITICAL] load failed: module 'synthcity.plugins.generic.plugin_goggle' has no attribute 'plugin'\n",
      "[2024-05-20T12:30:16.951138+0000][1471397][CRITICAL] module plugin_goggle load failed\n"
     ]
    },
    {
     "name": "stdout",
     "output_type": "stream",
     "text": [
      "Fitting ctgan model\n"
     ]
    },
    {
     "name": "stderr",
     "output_type": "stream",
     "text": [
      " 47%|████▋     | 949/2000 [01:55<02:07,  8.24it/s]\n",
      "[2024-05-20T12:32:13.266657+0000][1471397][CRITICAL] load failed: module 'synthcity.plugins.generic.plugin_goggle' has no attribute 'plugin'\n",
      "[2024-05-20T12:32:13.267284+0000][1471397][CRITICAL] load failed: module 'synthcity.plugins.generic.plugin_goggle' has no attribute 'plugin'\n",
      "[2024-05-20T12:32:13.267795+0000][1471397][CRITICAL] module plugin_goggle load failed\n"
     ]
    },
    {
     "name": "stdout",
     "output_type": "stream",
     "text": [
      "Generating ctgan synthetic dataset\n",
      "Fitting ctgan covariate model\n"
     ]
    },
    {
     "name": "stderr",
     "output_type": "stream",
     "text": [
      " 25%|██▍       | 499/2000 [00:49<02:28, 10.08it/s]\n"
     ]
    },
    {
     "name": "stdout",
     "output_type": "stream",
     "text": [
      "Generating ctgan synthetic covariates\n",
      "Fitting propensity model\n",
      "Generating propensities\n",
      "Fitting CATE learner\n",
      "Generating POs\n"
     ]
    },
    {
     "name": "stderr",
     "output_type": "stream",
     "text": [
      "[2024-05-20T12:36:18.667573+0000][1471397][CRITICAL] load failed: module 'synthcity.plugins.generic.plugin_goggle' has no attribute 'plugin'\n",
      "[2024-05-20T12:36:18.669835+0000][1471397][CRITICAL] load failed: module 'synthcity.plugins.generic.plugin_goggle' has no attribute 'plugin'\n",
      "[2024-05-20T12:36:18.670819+0000][1471397][CRITICAL] module plugin_goggle load failed\n"
     ]
    },
    {
     "name": "stdout",
     "output_type": "stream",
     "text": [
      "Fitting ctgan model\n"
     ]
    },
    {
     "name": "stderr",
     "output_type": "stream",
     "text": [
      " 47%|████▋     | 949/2000 [01:37<01:47,  9.76it/s]\n",
      "[2024-05-20T12:37:57.039182+0000][1471397][CRITICAL] load failed: module 'synthcity.plugins.generic.plugin_goggle' has no attribute 'plugin'\n",
      "[2024-05-20T12:37:57.039910+0000][1471397][CRITICAL] load failed: module 'synthcity.plugins.generic.plugin_goggle' has no attribute 'plugin'\n",
      "[2024-05-20T12:37:57.040405+0000][1471397][CRITICAL] module plugin_goggle load failed\n"
     ]
    },
    {
     "name": "stdout",
     "output_type": "stream",
     "text": [
      "Generating ctgan synthetic dataset\n",
      "Fitting ctgan covariate model\n"
     ]
    },
    {
     "name": "stderr",
     "output_type": "stream",
     "text": [
      " 40%|███▉      | 799/2000 [01:19<01:58, 10.10it/s]\n"
     ]
    },
    {
     "name": "stdout",
     "output_type": "stream",
     "text": [
      "Generating ctgan synthetic covariates\n",
      "Fitting propensity model\n",
      "Generating propensities\n",
      "Fitting CATE learner\n",
      "Generating POs\n"
     ]
    },
    {
     "name": "stderr",
     "output_type": "stream",
     "text": [
      "[2024-05-20T12:42:25.762492+0000][1471397][CRITICAL] load failed: module 'synthcity.plugins.generic.plugin_goggle' has no attribute 'plugin'\n",
      "[2024-05-20T12:42:25.764741+0000][1471397][CRITICAL] load failed: module 'synthcity.plugins.generic.plugin_goggle' has no attribute 'plugin'\n",
      "[2024-05-20T12:42:25.765437+0000][1471397][CRITICAL] module plugin_goggle load failed\n"
     ]
    },
    {
     "name": "stdout",
     "output_type": "stream",
     "text": [
      "Fitting ctgan model\n"
     ]
    },
    {
     "name": "stderr",
     "output_type": "stream",
     "text": [
      " 62%|██████▏   | 1249/2000 [02:07<01:16,  9.78it/s]\n",
      "[2024-05-20T12:44:34.541596+0000][1471397][CRITICAL] load failed: module 'synthcity.plugins.generic.plugin_goggle' has no attribute 'plugin'\n",
      "[2024-05-20T12:44:34.542378+0000][1471397][CRITICAL] load failed: module 'synthcity.plugins.generic.plugin_goggle' has no attribute 'plugin'\n",
      "[2024-05-20T12:44:34.543140+0000][1471397][CRITICAL] module plugin_goggle load failed\n"
     ]
    },
    {
     "name": "stdout",
     "output_type": "stream",
     "text": [
      "Generating ctgan synthetic dataset\n",
      "Fitting ctgan covariate model\n"
     ]
    },
    {
     "name": "stderr",
     "output_type": "stream",
     "text": [
      " 67%|██████▋   | 1349/2000 [02:19<01:07,  9.68it/s]\n"
     ]
    },
    {
     "name": "stdout",
     "output_type": "stream",
     "text": [
      "Generating ctgan synthetic covariates\n",
      "Fitting propensity model\n",
      "Generating propensities\n",
      "Fitting CATE learner\n",
      "Generating POs\n"
     ]
    },
    {
     "name": "stderr",
     "output_type": "stream",
     "text": [
      "[2024-05-20T12:50:02.519265+0000][1471397][CRITICAL] load failed: module 'synthcity.plugins.generic.plugin_goggle' has no attribute 'plugin'\n",
      "[2024-05-20T12:50:02.521536+0000][1471397][CRITICAL] load failed: module 'synthcity.plugins.generic.plugin_goggle' has no attribute 'plugin'\n",
      "[2024-05-20T12:50:02.522028+0000][1471397][CRITICAL] module plugin_goggle load failed\n"
     ]
    },
    {
     "name": "stdout",
     "output_type": "stream",
     "text": [
      "Fitting ctgan model\n"
     ]
    },
    {
     "name": "stderr",
     "output_type": "stream",
     "text": [
      " 35%|███▍      | 699/2000 [01:11<02:12,  9.81it/s]\n",
      "[2024-05-20T12:51:14.861611+0000][1471397][CRITICAL] load failed: module 'synthcity.plugins.generic.plugin_goggle' has no attribute 'plugin'\n",
      "[2024-05-20T12:51:14.862311+0000][1471397][CRITICAL] load failed: module 'synthcity.plugins.generic.plugin_goggle' has no attribute 'plugin'\n",
      "[2024-05-20T12:51:14.862890+0000][1471397][CRITICAL] module plugin_goggle load failed\n"
     ]
    },
    {
     "name": "stdout",
     "output_type": "stream",
     "text": [
      "Generating ctgan synthetic dataset\n",
      "Fitting ctgan covariate model\n"
     ]
    },
    {
     "name": "stderr",
     "output_type": "stream",
     "text": [
      " 40%|███▉      | 799/2000 [01:18<01:58, 10.16it/s]\n"
     ]
    },
    {
     "name": "stdout",
     "output_type": "stream",
     "text": [
      "Generating ctgan synthetic covariates\n",
      "Fitting propensity model\n",
      "Generating propensities\n",
      "Fitting CATE learner\n",
      "Generating POs\n"
     ]
    },
    {
     "name": "stderr",
     "output_type": "stream",
     "text": [
      "[2024-05-20T12:55:42.427642+0000][1471397][CRITICAL] load failed: module 'synthcity.plugins.generic.plugin_goggle' has no attribute 'plugin'\n",
      "[2024-05-20T12:55:42.429824+0000][1471397][CRITICAL] load failed: module 'synthcity.plugins.generic.plugin_goggle' has no attribute 'plugin'\n",
      "[2024-05-20T12:55:42.430376+0000][1471397][CRITICAL] module plugin_goggle load failed\n"
     ]
    },
    {
     "name": "stdout",
     "output_type": "stream",
     "text": [
      "Fitting ctgan model\n"
     ]
    },
    {
     "name": "stderr",
     "output_type": "stream",
     "text": [
      " 25%|██▍       | 499/2000 [00:51<02:33,  9.75it/s]\n",
      "[2024-05-20T12:56:34.715114+0000][1471397][CRITICAL] load failed: module 'synthcity.plugins.generic.plugin_goggle' has no attribute 'plugin'\n",
      "[2024-05-20T12:56:34.715775+0000][1471397][CRITICAL] load failed: module 'synthcity.plugins.generic.plugin_goggle' has no attribute 'plugin'\n",
      "[2024-05-20T12:56:34.716192+0000][1471397][CRITICAL] module plugin_goggle load failed\n"
     ]
    },
    {
     "name": "stdout",
     "output_type": "stream",
     "text": [
      "Generating ctgan synthetic dataset\n",
      "Fitting ctgan covariate model\n"
     ]
    },
    {
     "name": "stderr",
     "output_type": "stream",
     "text": [
      " 52%|█████▏    | 1049/2000 [01:43<01:33, 10.17it/s]\n"
     ]
    },
    {
     "name": "stdout",
     "output_type": "stream",
     "text": [
      "Generating ctgan synthetic covariates\n",
      "Fitting propensity model\n",
      "Generating propensities\n",
      "Fitting CATE learner\n",
      "Generating POs\n"
     ]
    },
    {
     "name": "stderr",
     "output_type": "stream",
     "text": [
      "[2024-05-20T13:01:33.422910+0000][1471397][CRITICAL] load failed: module 'synthcity.plugins.generic.plugin_goggle' has no attribute 'plugin'\n",
      "[2024-05-20T13:01:33.425974+0000][1471397][CRITICAL] load failed: module 'synthcity.plugins.generic.plugin_goggle' has no attribute 'plugin'\n",
      "[2024-05-20T13:01:33.426502+0000][1471397][CRITICAL] module plugin_goggle load failed\n"
     ]
    },
    {
     "name": "stdout",
     "output_type": "stream",
     "text": [
      "Fitting ctgan model\n"
     ]
    },
    {
     "name": "stderr",
     "output_type": "stream",
     "text": [
      " 37%|███▋      | 749/2000 [01:16<02:07,  9.84it/s]\n",
      "[2024-05-20T13:02:50.654646+0000][1471397][CRITICAL] load failed: module 'synthcity.plugins.generic.plugin_goggle' has no attribute 'plugin'\n",
      "[2024-05-20T13:02:50.655253+0000][1471397][CRITICAL] load failed: module 'synthcity.plugins.generic.plugin_goggle' has no attribute 'plugin'\n",
      "[2024-05-20T13:02:50.655636+0000][1471397][CRITICAL] module plugin_goggle load failed\n"
     ]
    },
    {
     "name": "stdout",
     "output_type": "stream",
     "text": [
      "Generating ctgan synthetic dataset\n",
      "Fitting ctgan covariate model\n"
     ]
    },
    {
     "name": "stderr",
     "output_type": "stream",
     "text": [
      " 27%|██▋       | 549/2000 [00:53<02:22, 10.22it/s]\n"
     ]
    },
    {
     "name": "stdout",
     "output_type": "stream",
     "text": [
      "Generating ctgan synthetic covariates\n",
      "Fitting propensity model\n",
      "Generating propensities\n",
      "Fitting CATE learner\n",
      "Generating POs\n"
     ]
    },
    {
     "name": "stderr",
     "output_type": "stream",
     "text": [
      "[2024-05-20T13:06:49.022151+0000][1471397][CRITICAL] load failed: module 'synthcity.plugins.generic.plugin_goggle' has no attribute 'plugin'\n",
      "[2024-05-20T13:06:49.024275+0000][1471397][CRITICAL] load failed: module 'synthcity.plugins.generic.plugin_goggle' has no attribute 'plugin'\n",
      "[2024-05-20T13:06:49.025285+0000][1471397][CRITICAL] module plugin_goggle load failed\n"
     ]
    },
    {
     "name": "stdout",
     "output_type": "stream",
     "text": [
      "Fitting ctgan model\n"
     ]
    },
    {
     "name": "stderr",
     "output_type": "stream",
     "text": [
      " 30%|██▉       | 599/2000 [01:03<02:27,  9.49it/s]\n",
      "[2024-05-20T13:07:53.274272+0000][1471397][CRITICAL] load failed: module 'synthcity.plugins.generic.plugin_goggle' has no attribute 'plugin'\n",
      "[2024-05-20T13:07:53.274930+0000][1471397][CRITICAL] load failed: module 'synthcity.plugins.generic.plugin_goggle' has no attribute 'plugin'\n",
      "[2024-05-20T13:07:53.275312+0000][1471397][CRITICAL] module plugin_goggle load failed\n"
     ]
    },
    {
     "name": "stdout",
     "output_type": "stream",
     "text": [
      "Generating ctgan synthetic dataset\n",
      "Fitting ctgan covariate model\n"
     ]
    },
    {
     "name": "stderr",
     "output_type": "stream",
     "text": [
      " 30%|██▉       | 599/2000 [01:01<02:23,  9.73it/s]\n"
     ]
    },
    {
     "name": "stdout",
     "output_type": "stream",
     "text": [
      "Generating ctgan synthetic covariates\n",
      "Fitting propensity model\n",
      "Generating propensities\n",
      "Fitting CATE learner\n",
      "Generating POs\n"
     ]
    },
    {
     "name": "stderr",
     "output_type": "stream",
     "text": [
      "[2024-05-20T13:12:06.060615+0000][1471397][CRITICAL] load failed: module 'synthcity.plugins.generic.plugin_goggle' has no attribute 'plugin'\n",
      "[2024-05-20T13:12:06.062898+0000][1471397][CRITICAL] load failed: module 'synthcity.plugins.generic.plugin_goggle' has no attribute 'plugin'\n",
      "[2024-05-20T13:12:06.064009+0000][1471397][CRITICAL] module plugin_goggle load failed\n"
     ]
    },
    {
     "name": "stdout",
     "output_type": "stream",
     "text": [
      "Fitting ctgan model\n"
     ]
    },
    {
     "name": "stderr",
     "output_type": "stream",
     "text": [
      " 65%|██████▍   | 1299/2000 [02:12<01:11,  9.79it/s]\n",
      "[2024-05-20T13:14:19.847532+0000][1471397][CRITICAL] load failed: module 'synthcity.plugins.generic.plugin_goggle' has no attribute 'plugin'\n",
      "[2024-05-20T13:14:19.848289+0000][1471397][CRITICAL] load failed: module 'synthcity.plugins.generic.plugin_goggle' has no attribute 'plugin'\n",
      "[2024-05-20T13:14:19.848768+0000][1471397][CRITICAL] module plugin_goggle load failed\n"
     ]
    },
    {
     "name": "stdout",
     "output_type": "stream",
     "text": [
      "Generating ctgan synthetic dataset\n",
      "Fitting ctgan covariate model\n"
     ]
    },
    {
     "name": "stderr",
     "output_type": "stream",
     "text": [
      " 32%|███▏      | 649/2000 [01:03<02:11, 10.25it/s]\n"
     ]
    },
    {
     "name": "stdout",
     "output_type": "stream",
     "text": [
      "Generating ctgan synthetic covariates\n",
      "Fitting propensity model\n",
      "Generating propensities\n",
      "Fitting CATE learner\n",
      "Generating POs\n"
     ]
    },
    {
     "name": "stderr",
     "output_type": "stream",
     "text": [
      "[2024-05-20T13:18:32.619458+0000][1471397][CRITICAL] load failed: module 'synthcity.plugins.generic.plugin_goggle' has no attribute 'plugin'\n",
      "[2024-05-20T13:18:32.620696+0000][1471397][CRITICAL] load failed: module 'synthcity.plugins.generic.plugin_goggle' has no attribute 'plugin'\n",
      "[2024-05-20T13:18:32.621056+0000][1471397][CRITICAL] module plugin_goggle load failed\n"
     ]
    },
    {
     "name": "stdout",
     "output_type": "stream",
     "text": [
      "Fitting ctgan model\n"
     ]
    },
    {
     "name": "stderr",
     "output_type": "stream",
     "text": [
      " 42%|████▏     | 849/2000 [01:48<02:26,  7.86it/s]\n",
      "[2024-05-20T13:20:21.756836+0000][1471397][CRITICAL] load failed: module 'synthcity.plugins.generic.plugin_goggle' has no attribute 'plugin'\n",
      "[2024-05-20T13:20:21.757531+0000][1471397][CRITICAL] load failed: module 'synthcity.plugins.generic.plugin_goggle' has no attribute 'plugin'\n",
      "[2024-05-20T13:20:21.758113+0000][1471397][CRITICAL] module plugin_goggle load failed\n"
     ]
    },
    {
     "name": "stdout",
     "output_type": "stream",
     "text": [
      "Generating ctgan synthetic dataset\n",
      "Fitting ctgan covariate model\n"
     ]
    },
    {
     "name": "stderr",
     "output_type": "stream",
     "text": [
      " 45%|████▍     | 899/2000 [01:28<01:48, 10.12it/s]\n"
     ]
    },
    {
     "name": "stdout",
     "output_type": "stream",
     "text": [
      "Generating ctgan synthetic covariates\n",
      "Fitting propensity model\n",
      "Generating propensities\n",
      "Fitting CATE learner\n",
      "Generating POs\n"
     ]
    }
   ],
   "source": [
    "results = seq_test(ihdp, 'ctgan', 'treatment', 'y_factual', 20, save=True, fp='ihdp_sequential_vs_standard_ctgan.csv')"
   ]
  },
  {
   "cell_type": "code",
   "execution_count": 26,
   "id": "ff0188f4",
   "metadata": {},
   "outputs": [
    {
     "name": "stderr",
     "output_type": "stream",
     "text": [
      "[2024-05-17T13:15:41.540427+0000][1043622][CRITICAL] load failed: module 'synthcity.plugins.generic.plugin_goggle' has no attribute 'plugin'\n",
      "[2024-05-17T13:15:41.541895+0000][1043622][CRITICAL] load failed: module 'synthcity.plugins.generic.plugin_goggle' has no attribute 'plugin'\n",
      "[2024-05-17T13:15:41.542366+0000][1043622][CRITICAL] module plugin_goggle load failed\n"
     ]
    },
    {
     "name": "stdout",
     "output_type": "stream",
     "text": [
      "Fitting arf model\n",
      "Initial accuracy is 0.8018741633199464\n",
      "Iteration number 1 reached accuracy of 0.501338688085676.\n",
      "Iteration number 2 reached accuracy of 0.4779116465863454.\n",
      "Generating arf synthetic dataset\n"
     ]
    },
    {
     "name": "stderr",
     "output_type": "stream",
     "text": [
      "[2024-05-17T13:15:55.781560+0000][1043622][CRITICAL] load failed: module 'synthcity.plugins.generic.plugin_goggle' has no attribute 'plugin'\n",
      "[2024-05-17T13:15:55.782580+0000][1043622][CRITICAL] load failed: module 'synthcity.plugins.generic.plugin_goggle' has no attribute 'plugin'\n",
      "[2024-05-17T13:15:55.782974+0000][1043622][CRITICAL] module plugin_goggle load failed\n"
     ]
    },
    {
     "name": "stdout",
     "output_type": "stream",
     "text": [
      "Fitting arf covariate model\n",
      "Initial accuracy is 0.8253012048192772\n",
      "Iteration number 1 reached accuracy of 0.4886211512717537.\n",
      "Generating arf synthetic covariates\n",
      "Fitting propensity model\n",
      "Generating propensities\n",
      "Fitting CATE learner\n",
      "Generating POs\n"
     ]
    },
    {
     "name": "stderr",
     "output_type": "stream",
     "text": [
      "[2024-05-17T13:19:26.581055+0000][1043622][CRITICAL] load failed: module 'synthcity.plugins.generic.plugin_goggle' has no attribute 'plugin'\n",
      "[2024-05-17T13:19:26.582415+0000][1043622][CRITICAL] load failed: module 'synthcity.plugins.generic.plugin_goggle' has no attribute 'plugin'\n",
      "[2024-05-17T13:19:26.582895+0000][1043622][CRITICAL] module plugin_goggle load failed\n"
     ]
    },
    {
     "name": "stdout",
     "output_type": "stream",
     "text": [
      "Fitting arf model\n",
      "Initial accuracy is 0.8159303882195449\n",
      "Iteration number 1 reached accuracy of 0.5113788487282463.\n",
      "Iteration number 2 reached accuracy of 0.5020080321285141.\n",
      "Iteration number 3 reached accuracy of 0.500669344042838.\n",
      "Iteration number 4 reached accuracy of 0.4933065595716198.\n",
      "Generating arf synthetic dataset\n"
     ]
    },
    {
     "name": "stderr",
     "output_type": "stream",
     "text": [
      "[2024-05-17T13:19:50.937426+0000][1043622][CRITICAL] load failed: module 'synthcity.plugins.generic.plugin_goggle' has no attribute 'plugin'\n",
      "[2024-05-17T13:19:50.938696+0000][1043622][CRITICAL] load failed: module 'synthcity.plugins.generic.plugin_goggle' has no attribute 'plugin'\n",
      "[2024-05-17T13:19:50.939087+0000][1043622][CRITICAL] module plugin_goggle load failed\n"
     ]
    },
    {
     "name": "stdout",
     "output_type": "stream",
     "text": [
      "Fitting arf covariate model\n",
      "Initial accuracy is 0.821954484605087\n",
      "Iteration number 1 reached accuracy of 0.47121820615796517.\n",
      "Generating arf synthetic covariates\n",
      "Fitting propensity model\n",
      "Generating propensities\n",
      "Fitting CATE learner\n",
      "Generating POs\n"
     ]
    },
    {
     "name": "stderr",
     "output_type": "stream",
     "text": [
      "[2024-05-17T13:23:18.747960+0000][1043622][CRITICAL] load failed: module 'synthcity.plugins.generic.plugin_goggle' has no attribute 'plugin'\n",
      "[2024-05-17T13:23:18.750836+0000][1043622][CRITICAL] load failed: module 'synthcity.plugins.generic.plugin_goggle' has no attribute 'plugin'\n",
      "[2024-05-17T13:23:18.751516+0000][1043622][CRITICAL] module plugin_goggle load failed\n"
     ]
    },
    {
     "name": "stdout",
     "output_type": "stream",
     "text": [
      "Fitting arf model\n",
      "Initial accuracy is 0.8266398929049531\n",
      "Iteration number 1 reached accuracy of 0.5020080321285141.\n",
      "Iteration number 2 reached accuracy of 0.5294511378848729.\n",
      "Generating arf synthetic dataset\n"
     ]
    },
    {
     "name": "stderr",
     "output_type": "stream",
     "text": [
      "[2024-05-17T13:23:32.783890+0000][1043622][CRITICAL] load failed: module 'synthcity.plugins.generic.plugin_goggle' has no attribute 'plugin'\n",
      "[2024-05-17T13:23:32.785126+0000][1043622][CRITICAL] load failed: module 'synthcity.plugins.generic.plugin_goggle' has no attribute 'plugin'\n",
      "[2024-05-17T13:23:32.785502+0000][1043622][CRITICAL] module plugin_goggle load failed\n"
     ]
    },
    {
     "name": "stdout",
     "output_type": "stream",
     "text": [
      "Fitting arf covariate model\n",
      "Initial accuracy is 0.8065595716198126\n",
      "Iteration number 1 reached accuracy of 0.4926372155287818.\n",
      "Generating arf synthetic covariates\n",
      "Fitting propensity model\n",
      "Generating propensities\n",
      "Fitting CATE learner\n",
      "Generating POs\n"
     ]
    },
    {
     "name": "stderr",
     "output_type": "stream",
     "text": [
      "[2024-05-17T13:26:59.351546+0000][1043622][CRITICAL] load failed: module 'synthcity.plugins.generic.plugin_goggle' has no attribute 'plugin'\n",
      "[2024-05-17T13:26:59.354225+0000][1043622][CRITICAL] load failed: module 'synthcity.plugins.generic.plugin_goggle' has no attribute 'plugin'\n",
      "[2024-05-17T13:26:59.354856+0000][1043622][CRITICAL] module plugin_goggle load failed\n"
     ]
    },
    {
     "name": "stdout",
     "output_type": "stream",
     "text": [
      "Fitting arf model\n",
      "Initial accuracy is 0.8125836680053548\n",
      "Iteration number 1 reached accuracy of 0.5214190093708166.\n",
      "Iteration number 2 reached accuracy of 0.5066934404283802.\n",
      "Iteration number 3 reached accuracy of 0.49732262382864795.\n",
      "Generating arf synthetic dataset\n"
     ]
    },
    {
     "name": "stderr",
     "output_type": "stream",
     "text": [
      "[2024-05-17T13:27:18.698015+0000][1043622][CRITICAL] load failed: module 'synthcity.plugins.generic.plugin_goggle' has no attribute 'plugin'\n",
      "[2024-05-17T13:27:18.698926+0000][1043622][CRITICAL] load failed: module 'synthcity.plugins.generic.plugin_goggle' has no attribute 'plugin'\n",
      "[2024-05-17T13:27:18.699496+0000][1043622][CRITICAL] module plugin_goggle load failed\n"
     ]
    },
    {
     "name": "stdout",
     "output_type": "stream",
     "text": [
      "Fitting arf covariate model\n",
      "Initial accuracy is 0.7817938420348058\n",
      "Iteration number 1 reached accuracy of 0.5046854082998661.\n",
      "Iteration number 2 reached accuracy of 0.46184738955823296.\n",
      "Generating arf synthetic covariates\n",
      "Fitting propensity model\n",
      "Generating propensities\n",
      "Fitting CATE learner\n",
      "Generating POs\n"
     ]
    },
    {
     "name": "stderr",
     "output_type": "stream",
     "text": [
      "[2024-05-17T13:30:45.309877+0000][1043622][CRITICAL] load failed: module 'synthcity.plugins.generic.plugin_goggle' has no attribute 'plugin'\n",
      "[2024-05-17T13:30:45.312794+0000][1043622][CRITICAL] load failed: module 'synthcity.plugins.generic.plugin_goggle' has no attribute 'plugin'\n",
      "[2024-05-17T13:30:45.313426+0000][1043622][CRITICAL] module plugin_goggle load failed\n"
     ]
    },
    {
     "name": "stdout",
     "output_type": "stream",
     "text": [
      "Fitting arf model\n",
      "Initial accuracy is 0.8132530120481928\n",
      "Iteration number 1 reached accuracy of 0.5247657295850067.\n",
      "Iteration number 2 reached accuracy of 0.4799196787148594.\n",
      "Generating arf synthetic dataset\n"
     ]
    },
    {
     "name": "stderr",
     "output_type": "stream",
     "text": [
      "[2024-05-17T13:30:59.972134+0000][1043622][CRITICAL] load failed: module 'synthcity.plugins.generic.plugin_goggle' has no attribute 'plugin'\n",
      "[2024-05-17T13:30:59.972922+0000][1043622][CRITICAL] load failed: module 'synthcity.plugins.generic.plugin_goggle' has no attribute 'plugin'\n",
      "[2024-05-17T13:30:59.973350+0000][1043622][CRITICAL] module plugin_goggle load failed\n"
     ]
    },
    {
     "name": "stdout",
     "output_type": "stream",
     "text": [
      "Fitting arf covariate model\n",
      "Initial accuracy is 0.8105756358768407\n",
      "Iteration number 1 reached accuracy of 0.49464524765729584.\n",
      "Generating arf synthetic covariates\n",
      "Fitting propensity model\n",
      "Generating propensities\n",
      "Fitting CATE learner\n",
      "Generating POs\n"
     ]
    },
    {
     "name": "stderr",
     "output_type": "stream",
     "text": [
      "[2024-05-17T13:34:26.604553+0000][1043622][CRITICAL] load failed: module 'synthcity.plugins.generic.plugin_goggle' has no attribute 'plugin'\n",
      "[2024-05-17T13:34:26.607113+0000][1043622][CRITICAL] load failed: module 'synthcity.plugins.generic.plugin_goggle' has no attribute 'plugin'\n",
      "[2024-05-17T13:34:26.607730+0000][1043622][CRITICAL] module plugin_goggle load failed\n"
     ]
    },
    {
     "name": "stdout",
     "output_type": "stream",
     "text": [
      "Fitting arf model\n",
      "Initial accuracy is 0.8139223560910308\n",
      "Iteration number 1 reached accuracy of 0.49732262382864795.\n",
      "Generating arf synthetic dataset\n"
     ]
    },
    {
     "name": "stderr",
     "output_type": "stream",
     "text": [
      "[2024-05-17T13:34:36.271991+0000][1043622][CRITICAL] load failed: module 'synthcity.plugins.generic.plugin_goggle' has no attribute 'plugin'\n",
      "[2024-05-17T13:34:36.273009+0000][1043622][CRITICAL] load failed: module 'synthcity.plugins.generic.plugin_goggle' has no attribute 'plugin'\n",
      "[2024-05-17T13:34:36.273370+0000][1043622][CRITICAL] module plugin_goggle load failed\n"
     ]
    },
    {
     "name": "stdout",
     "output_type": "stream",
     "text": [
      "Fitting arf covariate model\n",
      "Initial accuracy is 0.8179384203480589\n",
      "Iteration number 1 reached accuracy of 0.48326639892904955.\n",
      "Generating arf synthetic covariates\n",
      "Fitting propensity model\n",
      "Generating propensities\n",
      "Fitting CATE learner\n",
      "Generating POs\n"
     ]
    },
    {
     "name": "stderr",
     "output_type": "stream",
     "text": [
      "[2024-05-17T13:37:54.832680+0000][1043622][CRITICAL] load failed: module 'synthcity.plugins.generic.plugin_goggle' has no attribute 'plugin'\n",
      "[2024-05-17T13:37:54.834841+0000][1043622][CRITICAL] load failed: module 'synthcity.plugins.generic.plugin_goggle' has no attribute 'plugin'\n",
      "[2024-05-17T13:37:54.835256+0000][1043622][CRITICAL] module plugin_goggle load failed\n"
     ]
    },
    {
     "name": "stdout",
     "output_type": "stream",
     "text": [
      "Fitting arf model\n",
      "Initial accuracy is 0.8165997322623829\n",
      "Iteration number 1 reached accuracy of 0.499330655957162.\n",
      "Generating arf synthetic dataset\n"
     ]
    },
    {
     "name": "stderr",
     "output_type": "stream",
     "text": [
      "[2024-05-17T13:38:04.463062+0000][1043622][CRITICAL] load failed: module 'synthcity.plugins.generic.plugin_goggle' has no attribute 'plugin'\n",
      "[2024-05-17T13:38:04.463779+0000][1043622][CRITICAL] load failed: module 'synthcity.plugins.generic.plugin_goggle' has no attribute 'plugin'\n",
      "[2024-05-17T13:38:04.464168+0000][1043622][CRITICAL] module plugin_goggle load failed\n"
     ]
    },
    {
     "name": "stdout",
     "output_type": "stream",
     "text": [
      "Fitting arf covariate model\n",
      "Initial accuracy is 0.8186077643908969\n",
      "Iteration number 1 reached accuracy of 0.48058902275769744.\n",
      "Generating arf synthetic covariates\n",
      "Fitting propensity model\n",
      "Generating propensities\n",
      "Fitting CATE learner\n",
      "Generating POs\n"
     ]
    },
    {
     "name": "stderr",
     "output_type": "stream",
     "text": [
      "[2024-05-17T13:41:30.754522+0000][1043622][CRITICAL] load failed: module 'synthcity.plugins.generic.plugin_goggle' has no attribute 'plugin'\n",
      "[2024-05-17T13:41:30.756033+0000][1043622][CRITICAL] load failed: module 'synthcity.plugins.generic.plugin_goggle' has no attribute 'plugin'\n",
      "[2024-05-17T13:41:30.756593+0000][1043622][CRITICAL] module plugin_goggle load failed\n"
     ]
    },
    {
     "name": "stdout",
     "output_type": "stream",
     "text": [
      "Fitting arf model\n",
      "Initial accuracy is 0.8246318607764391\n",
      "Iteration number 1 reached accuracy of 0.5194109772423026.\n",
      "Iteration number 2 reached accuracy of 0.4939759036144578.\n",
      "Generating arf synthetic dataset\n"
     ]
    },
    {
     "name": "stderr",
     "output_type": "stream",
     "text": [
      "[2024-05-17T13:41:45.451753+0000][1043622][CRITICAL] load failed: module 'synthcity.plugins.generic.plugin_goggle' has no attribute 'plugin'\n",
      "[2024-05-17T13:41:45.452570+0000][1043622][CRITICAL] load failed: module 'synthcity.plugins.generic.plugin_goggle' has no attribute 'plugin'\n",
      "[2024-05-17T13:41:45.453010+0000][1043622][CRITICAL] module plugin_goggle load failed\n"
     ]
    },
    {
     "name": "stdout",
     "output_type": "stream",
     "text": [
      "Fitting arf covariate model\n",
      "Initial accuracy is 0.7978580990629184\n",
      "Iteration number 1 reached accuracy of 0.4785809906291834.\n",
      "Generating arf synthetic covariates\n",
      "Fitting propensity model\n",
      "Generating propensities\n",
      "Fitting CATE learner\n",
      "Generating POs\n"
     ]
    },
    {
     "name": "stderr",
     "output_type": "stream",
     "text": [
      "[2024-05-17T13:45:11.655187+0000][1043622][CRITICAL] load failed: module 'synthcity.plugins.generic.plugin_goggle' has no attribute 'plugin'\n",
      "[2024-05-17T13:45:11.657833+0000][1043622][CRITICAL] load failed: module 'synthcity.plugins.generic.plugin_goggle' has no attribute 'plugin'\n",
      "[2024-05-17T13:45:11.658494+0000][1043622][CRITICAL] module plugin_goggle load failed\n"
     ]
    },
    {
     "name": "stdout",
     "output_type": "stream",
     "text": [
      "Fitting arf model\n",
      "Initial accuracy is 0.8172690763052208\n",
      "Iteration number 1 reached accuracy of 0.4892904953145917.\n",
      "Generating arf synthetic dataset\n"
     ]
    },
    {
     "name": "stderr",
     "output_type": "stream",
     "text": [
      "[2024-05-17T13:45:21.151975+0000][1043622][CRITICAL] load failed: module 'synthcity.plugins.generic.plugin_goggle' has no attribute 'plugin'\n",
      "[2024-05-17T13:45:21.153162+0000][1043622][CRITICAL] load failed: module 'synthcity.plugins.generic.plugin_goggle' has no attribute 'plugin'\n",
      "[2024-05-17T13:45:21.153607+0000][1043622][CRITICAL] module plugin_goggle load failed\n"
     ]
    },
    {
     "name": "stdout",
     "output_type": "stream",
     "text": [
      "Fitting arf covariate model\n",
      "Initial accuracy is 0.7958500669344043\n",
      "Iteration number 1 reached accuracy of 0.5020080321285141.\n",
      "Iteration number 2 reached accuracy of 0.47523427041499333.\n",
      "Generating arf synthetic covariates\n",
      "Fitting propensity model\n",
      "Generating propensities\n",
      "Fitting CATE learner\n",
      "Generating POs\n"
     ]
    },
    {
     "name": "stderr",
     "output_type": "stream",
     "text": [
      "[2024-05-17T13:48:46.648397+0000][1043622][CRITICAL] load failed: module 'synthcity.plugins.generic.plugin_goggle' has no attribute 'plugin'\n",
      "[2024-05-17T13:48:46.650990+0000][1043622][CRITICAL] load failed: module 'synthcity.plugins.generic.plugin_goggle' has no attribute 'plugin'\n",
      "[2024-05-17T13:48:46.651649+0000][1043622][CRITICAL] module plugin_goggle load failed\n"
     ]
    },
    {
     "name": "stdout",
     "output_type": "stream",
     "text": [
      "Fitting arf model\n",
      "Initial accuracy is 0.8246318607764391\n",
      "Iteration number 1 reached accuracy of 0.5093708165997323.\n",
      "Iteration number 2 reached accuracy of 0.48728246318607765.\n",
      "Generating arf synthetic dataset\n"
     ]
    },
    {
     "name": "stderr",
     "output_type": "stream",
     "text": [
      "[2024-05-17T13:49:00.826362+0000][1043622][CRITICAL] load failed: module 'synthcity.plugins.generic.plugin_goggle' has no attribute 'plugin'\n",
      "[2024-05-17T13:49:00.827092+0000][1043622][CRITICAL] load failed: module 'synthcity.plugins.generic.plugin_goggle' has no attribute 'plugin'\n",
      "[2024-05-17T13:49:00.827483+0000][1043622][CRITICAL] module plugin_goggle load failed\n"
     ]
    },
    {
     "name": "stdout",
     "output_type": "stream",
     "text": [
      "Fitting arf covariate model\n",
      "Initial accuracy is 0.8065595716198126\n",
      "Iteration number 1 reached accuracy of 0.4966532797858099.\n",
      "Generating arf synthetic covariates\n",
      "Fitting propensity model\n",
      "Generating propensities\n",
      "Fitting CATE learner\n",
      "Generating POs\n"
     ]
    },
    {
     "name": "stderr",
     "output_type": "stream",
     "text": [
      "[2024-05-17T13:52:17.609860+0000][1043622][CRITICAL] load failed: module 'synthcity.plugins.generic.plugin_goggle' has no attribute 'plugin'\n",
      "[2024-05-17T13:52:17.612228+0000][1043622][CRITICAL] load failed: module 'synthcity.plugins.generic.plugin_goggle' has no attribute 'plugin'\n",
      "[2024-05-17T13:52:17.613281+0000][1043622][CRITICAL] module plugin_goggle load failed\n"
     ]
    },
    {
     "name": "stdout",
     "output_type": "stream",
     "text": [
      "Fitting arf model\n",
      "Initial accuracy is 0.8099062918340026\n",
      "Iteration number 1 reached accuracy of 0.5087014725568942.\n",
      "Iteration number 2 reached accuracy of 0.5214190093708166.\n",
      "Generating arf synthetic dataset\n"
     ]
    },
    {
     "name": "stderr",
     "output_type": "stream",
     "text": [
      "[2024-05-17T13:52:31.830881+0000][1043622][CRITICAL] load failed: module 'synthcity.plugins.generic.plugin_goggle' has no attribute 'plugin'\n",
      "[2024-05-17T13:52:31.831646+0000][1043622][CRITICAL] load failed: module 'synthcity.plugins.generic.plugin_goggle' has no attribute 'plugin'\n",
      "[2024-05-17T13:52:31.832162+0000][1043622][CRITICAL] module plugin_goggle load failed\n"
     ]
    },
    {
     "name": "stdout",
     "output_type": "stream",
     "text": [
      "Fitting arf covariate model\n",
      "Initial accuracy is 0.8373493975903614\n",
      "Iteration number 1 reached accuracy of 0.5133868808567604.\n",
      "Iteration number 2 reached accuracy of 0.46117804551539493.\n",
      "Generating arf synthetic covariates\n",
      "Fitting propensity model\n",
      "Generating propensities\n",
      "Fitting CATE learner\n",
      "Generating POs\n"
     ]
    },
    {
     "name": "stderr",
     "output_type": "stream",
     "text": [
      "[2024-05-17T13:55:55.718135+0000][1043622][CRITICAL] load failed: module 'synthcity.plugins.generic.plugin_goggle' has no attribute 'plugin'\n",
      "[2024-05-17T13:55:55.719518+0000][1043622][CRITICAL] load failed: module 'synthcity.plugins.generic.plugin_goggle' has no attribute 'plugin'\n",
      "[2024-05-17T13:55:55.720014+0000][1043622][CRITICAL] module plugin_goggle load failed\n"
     ]
    },
    {
     "name": "stdout",
     "output_type": "stream",
     "text": [
      "Fitting arf model\n",
      "Initial accuracy is 0.8092369477911646\n",
      "Iteration number 1 reached accuracy of 0.49062918340026773.\n",
      "Generating arf synthetic dataset\n"
     ]
    },
    {
     "name": "stderr",
     "output_type": "stream",
     "text": [
      "[2024-05-17T13:56:05.136626+0000][1043622][CRITICAL] load failed: module 'synthcity.plugins.generic.plugin_goggle' has no attribute 'plugin'\n",
      "[2024-05-17T13:56:05.137287+0000][1043622][CRITICAL] load failed: module 'synthcity.plugins.generic.plugin_goggle' has no attribute 'plugin'\n",
      "[2024-05-17T13:56:05.137811+0000][1043622][CRITICAL] module plugin_goggle load failed\n"
     ]
    },
    {
     "name": "stdout",
     "output_type": "stream",
     "text": [
      "Fitting arf covariate model\n",
      "Initial accuracy is 0.8005354752342704\n",
      "Iteration number 1 reached accuracy of 0.49464524765729584.\n",
      "Generating arf synthetic covariates\n",
      "Fitting propensity model\n",
      "Generating propensities\n",
      "Fitting CATE learner\n",
      "Generating POs\n"
     ]
    },
    {
     "name": "stderr",
     "output_type": "stream",
     "text": [
      "[2024-05-17T13:59:24.072388+0000][1043622][CRITICAL] load failed: module 'synthcity.plugins.generic.plugin_goggle' has no attribute 'plugin'\n",
      "[2024-05-17T13:59:24.074784+0000][1043622][CRITICAL] load failed: module 'synthcity.plugins.generic.plugin_goggle' has no attribute 'plugin'\n",
      "[2024-05-17T13:59:24.075469+0000][1043622][CRITICAL] module plugin_goggle load failed\n"
     ]
    },
    {
     "name": "stdout",
     "output_type": "stream",
     "text": [
      "Fitting arf model\n",
      "Initial accuracy is 0.8085676037483266\n",
      "Iteration number 1 reached accuracy of 0.5153949129852744.\n",
      "Iteration number 2 reached accuracy of 0.5020080321285141.\n",
      "Iteration number 3 reached accuracy of 0.4745649263721553.\n",
      "Generating arf synthetic dataset\n"
     ]
    },
    {
     "name": "stderr",
     "output_type": "stream",
     "text": [
      "[2024-05-17T13:59:43.189415+0000][1043622][CRITICAL] load failed: module 'synthcity.plugins.generic.plugin_goggle' has no attribute 'plugin'\n",
      "[2024-05-17T13:59:43.190063+0000][1043622][CRITICAL] load failed: module 'synthcity.plugins.generic.plugin_goggle' has no attribute 'plugin'\n",
      "[2024-05-17T13:59:43.190430+0000][1043622][CRITICAL] module plugin_goggle load failed\n"
     ]
    },
    {
     "name": "stdout",
     "output_type": "stream",
     "text": [
      "Fitting arf covariate model\n",
      "Initial accuracy is 0.8192771084337349\n",
      "Iteration number 1 reached accuracy of 0.4725568942436412.\n",
      "Generating arf synthetic covariates\n",
      "Fitting propensity model\n",
      "Generating propensities\n",
      "Fitting CATE learner\n",
      "Generating POs\n"
     ]
    },
    {
     "name": "stderr",
     "output_type": "stream",
     "text": [
      "[2024-05-17T14:03:01.914723+0000][1043622][CRITICAL] load failed: module 'synthcity.plugins.generic.plugin_goggle' has no attribute 'plugin'\n",
      "[2024-05-17T14:03:01.916534+0000][1043622][CRITICAL] load failed: module 'synthcity.plugins.generic.plugin_goggle' has no attribute 'plugin'\n",
      "[2024-05-17T14:03:01.917197+0000][1043622][CRITICAL] module plugin_goggle load failed\n"
     ]
    },
    {
     "name": "stdout",
     "output_type": "stream",
     "text": [
      "Fitting arf model\n",
      "Initial accuracy is 0.7730923694779116\n",
      "Iteration number 1 reached accuracy of 0.48460508701472554.\n",
      "Generating arf synthetic dataset\n"
     ]
    },
    {
     "name": "stderr",
     "output_type": "stream",
     "text": [
      "[2024-05-17T14:03:11.837419+0000][1043622][CRITICAL] load failed: module 'synthcity.plugins.generic.plugin_goggle' has no attribute 'plugin'\n",
      "[2024-05-17T14:03:11.838493+0000][1043622][CRITICAL] load failed: module 'synthcity.plugins.generic.plugin_goggle' has no attribute 'plugin'\n",
      "[2024-05-17T14:03:11.838879+0000][1043622][CRITICAL] module plugin_goggle load failed\n"
     ]
    },
    {
     "name": "stdout",
     "output_type": "stream",
     "text": [
      "Fitting arf covariate model\n",
      "Initial accuracy is 0.8038821954484605\n",
      "Iteration number 1 reached accuracy of 0.5053547523427041.\n",
      "Iteration number 2 reached accuracy of 0.5033467202141901.\n",
      "Iteration number 3 reached accuracy of 0.464524765729585.\n",
      "Generating arf synthetic covariates\n",
      "Fitting propensity model\n",
      "Generating propensities\n",
      "Fitting CATE learner\n",
      "Generating POs\n"
     ]
    },
    {
     "name": "stderr",
     "output_type": "stream",
     "text": [
      "[2024-05-17T14:06:36.371304+0000][1043622][CRITICAL] load failed: module 'synthcity.plugins.generic.plugin_goggle' has no attribute 'plugin'\n",
      "[2024-05-17T14:06:36.373752+0000][1043622][CRITICAL] load failed: module 'synthcity.plugins.generic.plugin_goggle' has no attribute 'plugin'\n",
      "[2024-05-17T14:06:36.374408+0000][1043622][CRITICAL] module plugin_goggle load failed\n"
     ]
    },
    {
     "name": "stdout",
     "output_type": "stream",
     "text": [
      "Fitting arf model\n",
      "Initial accuracy is 0.8239625167336011\n",
      "Iteration number 1 reached accuracy of 0.5113788487282463.\n",
      "Iteration number 2 reached accuracy of 0.5020080321285141.\n",
      "Iteration number 3 reached accuracy of 0.4799196787148594.\n",
      "Generating arf synthetic dataset\n"
     ]
    },
    {
     "name": "stderr",
     "output_type": "stream",
     "text": [
      "[2024-05-17T14:06:55.198752+0000][1043622][CRITICAL] load failed: module 'synthcity.plugins.generic.plugin_goggle' has no attribute 'plugin'\n",
      "[2024-05-17T14:06:55.199689+0000][1043622][CRITICAL] load failed: module 'synthcity.plugins.generic.plugin_goggle' has no attribute 'plugin'\n",
      "[2024-05-17T14:06:55.200069+0000][1043622][CRITICAL] module plugin_goggle load failed\n"
     ]
    },
    {
     "name": "stdout",
     "output_type": "stream",
     "text": [
      "Fitting arf covariate model\n",
      "Initial accuracy is 0.8058902275769746\n",
      "Iteration number 1 reached accuracy of 0.47523427041499333.\n",
      "Generating arf synthetic covariates\n",
      "Fitting propensity model\n",
      "Generating propensities\n",
      "Fitting CATE learner\n",
      "Generating POs\n"
     ]
    },
    {
     "name": "stderr",
     "output_type": "stream",
     "text": [
      "[2024-05-17T14:10:17.610281+0000][1043622][CRITICAL] load failed: module 'synthcity.plugins.generic.plugin_goggle' has no attribute 'plugin'\n",
      "[2024-05-17T14:10:17.611591+0000][1043622][CRITICAL] load failed: module 'synthcity.plugins.generic.plugin_goggle' has no attribute 'plugin'\n",
      "[2024-05-17T14:10:17.612115+0000][1043622][CRITICAL] module plugin_goggle load failed\n"
     ]
    },
    {
     "name": "stdout",
     "output_type": "stream",
     "text": [
      "Fitting arf model\n",
      "Initial accuracy is 0.7965194109772423\n",
      "Iteration number 1 reached accuracy of 0.5227576974564926.\n",
      "Iteration number 2 reached accuracy of 0.5.\n",
      "Generating arf synthetic dataset\n"
     ]
    },
    {
     "name": "stderr",
     "output_type": "stream",
     "text": [
      "[2024-05-17T14:10:31.604611+0000][1043622][CRITICAL] load failed: module 'synthcity.plugins.generic.plugin_goggle' has no attribute 'plugin'\n",
      "[2024-05-17T14:10:31.605322+0000][1043622][CRITICAL] load failed: module 'synthcity.plugins.generic.plugin_goggle' has no attribute 'plugin'\n",
      "[2024-05-17T14:10:31.605725+0000][1043622][CRITICAL] module plugin_goggle load failed\n"
     ]
    },
    {
     "name": "stdout",
     "output_type": "stream",
     "text": [
      "Fitting arf covariate model\n",
      "Initial accuracy is 0.7965194109772423\n",
      "Iteration number 1 reached accuracy of 0.5120481927710844.\n",
      "Iteration number 2 reached accuracy of 0.4585006693440428.\n",
      "Generating arf synthetic covariates\n",
      "Fitting propensity model\n",
      "Generating propensities\n",
      "Fitting CATE learner\n",
      "Generating POs\n"
     ]
    },
    {
     "name": "stderr",
     "output_type": "stream",
     "text": [
      "[2024-05-17T14:13:58.263869+0000][1043622][CRITICAL] load failed: module 'synthcity.plugins.generic.plugin_goggle' has no attribute 'plugin'\n",
      "[2024-05-17T14:13:58.266406+0000][1043622][CRITICAL] load failed: module 'synthcity.plugins.generic.plugin_goggle' has no attribute 'plugin'\n",
      "[2024-05-17T14:13:58.266946+0000][1043622][CRITICAL] module plugin_goggle load failed\n"
     ]
    },
    {
     "name": "stdout",
     "output_type": "stream",
     "text": [
      "Fitting arf model\n",
      "Initial accuracy is 0.8045515394912985\n",
      "Iteration number 1 reached accuracy of 0.5194109772423026.\n",
      "Iteration number 2 reached accuracy of 0.5.\n",
      "Generating arf synthetic dataset\n"
     ]
    },
    {
     "name": "stderr",
     "output_type": "stream",
     "text": [
      "[2024-05-17T14:14:11.733221+0000][1043622][CRITICAL] load failed: module 'synthcity.plugins.generic.plugin_goggle' has no attribute 'plugin'\n",
      "[2024-05-17T14:14:11.734509+0000][1043622][CRITICAL] load failed: module 'synthcity.plugins.generic.plugin_goggle' has no attribute 'plugin'\n",
      "[2024-05-17T14:14:11.734941+0000][1043622][CRITICAL] module plugin_goggle load failed\n"
     ]
    },
    {
     "name": "stdout",
     "output_type": "stream",
     "text": [
      "Fitting arf covariate model\n",
      "Initial accuracy is 0.8313253012048193\n",
      "Iteration number 1 reached accuracy of 0.5187416331994645.\n",
      "Iteration number 2 reached accuracy of 0.47724230254350736.\n",
      "Generating arf synthetic covariates\n",
      "Fitting propensity model\n",
      "Generating propensities\n",
      "Fitting CATE learner\n",
      "Generating POs\n"
     ]
    },
    {
     "name": "stderr",
     "output_type": "stream",
     "text": [
      "[2024-05-17T14:17:24.610773+0000][1043622][CRITICAL] load failed: module 'synthcity.plugins.generic.plugin_goggle' has no attribute 'plugin'\n",
      "[2024-05-17T14:17:24.612969+0000][1043622][CRITICAL] load failed: module 'synthcity.plugins.generic.plugin_goggle' has no attribute 'plugin'\n",
      "[2024-05-17T14:17:24.614046+0000][1043622][CRITICAL] module plugin_goggle load failed\n"
     ]
    },
    {
     "name": "stdout",
     "output_type": "stream",
     "text": [
      "Fitting arf model\n",
      "Initial accuracy is 0.7965194109772423\n",
      "Iteration number 1 reached accuracy of 0.5461847389558233.\n",
      "Iteration number 2 reached accuracy of 0.4939759036144578.\n",
      "Generating arf synthetic dataset\n"
     ]
    },
    {
     "name": "stderr",
     "output_type": "stream",
     "text": [
      "[2024-05-17T14:17:38.161322+0000][1043622][CRITICAL] load failed: module 'synthcity.plugins.generic.plugin_goggle' has no attribute 'plugin'\n",
      "[2024-05-17T14:17:38.161940+0000][1043622][CRITICAL] load failed: module 'synthcity.plugins.generic.plugin_goggle' has no attribute 'plugin'\n",
      "[2024-05-17T14:17:38.162322+0000][1043622][CRITICAL] module plugin_goggle load failed\n"
     ]
    },
    {
     "name": "stdout",
     "output_type": "stream",
     "text": [
      "Fitting arf covariate model\n",
      "Initial accuracy is 0.8125836680053548\n",
      "Iteration number 1 reached accuracy of 0.4979919678714859.\n",
      "Generating arf synthetic covariates\n",
      "Fitting propensity model\n",
      "Generating propensities\n",
      "Fitting CATE learner\n",
      "Generating POs\n"
     ]
    },
    {
     "name": "stderr",
     "output_type": "stream",
     "text": [
      "[2024-05-17T14:20:56.419741+0000][1043622][CRITICAL] load failed: module 'synthcity.plugins.generic.plugin_goggle' has no attribute 'plugin'\n",
      "[2024-05-17T14:20:56.420583+0000][1043622][CRITICAL] load failed: module 'synthcity.plugins.generic.plugin_goggle' has no attribute 'plugin'\n",
      "[2024-05-17T14:20:56.421044+0000][1043622][CRITICAL] module plugin_goggle load failed\n"
     ]
    },
    {
     "name": "stdout",
     "output_type": "stream",
     "text": [
      "Fitting arf model\n",
      "Initial accuracy is 0.8139223560910308\n",
      "Iteration number 1 reached accuracy of 0.5267737617135207.\n",
      "Iteration number 2 reached accuracy of 0.48058902275769744.\n",
      "Generating arf synthetic dataset\n"
     ]
    },
    {
     "name": "stderr",
     "output_type": "stream",
     "text": [
      "[2024-05-17T14:21:09.974780+0000][1043622][CRITICAL] load failed: module 'synthcity.plugins.generic.plugin_goggle' has no attribute 'plugin'\n",
      "[2024-05-17T14:21:09.975503+0000][1043622][CRITICAL] load failed: module 'synthcity.plugins.generic.plugin_goggle' has no attribute 'plugin'\n",
      "[2024-05-17T14:21:09.975929+0000][1043622][CRITICAL] module plugin_goggle load failed\n"
     ]
    },
    {
     "name": "stdout",
     "output_type": "stream",
     "text": [
      "Fitting arf covariate model\n",
      "Initial accuracy is 0.8099062918340026\n",
      "Iteration number 1 reached accuracy of 0.5220883534136547.\n",
      "Iteration number 2 reached accuracy of 0.5227576974564926.\n",
      "Generating arf synthetic covariates\n",
      "Fitting propensity model\n",
      "Generating propensities\n",
      "Fitting CATE learner\n",
      "Generating POs\n"
     ]
    },
    {
     "name": "stderr",
     "output_type": "stream",
     "text": [
      "[2024-05-17T14:24:29.088085+0000][1043622][CRITICAL] load failed: module 'synthcity.plugins.generic.plugin_goggle' has no attribute 'plugin'\n",
      "[2024-05-17T14:24:29.090051+0000][1043622][CRITICAL] load failed: module 'synthcity.plugins.generic.plugin_goggle' has no attribute 'plugin'\n",
      "[2024-05-17T14:24:29.091123+0000][1043622][CRITICAL] module plugin_goggle load failed\n"
     ]
    },
    {
     "name": "stdout",
     "output_type": "stream",
     "text": [
      "Fitting arf model\n",
      "Initial accuracy is 0.8078982597054887\n",
      "Iteration number 1 reached accuracy of 0.4819277108433735.\n",
      "Generating arf synthetic dataset\n"
     ]
    },
    {
     "name": "stderr",
     "output_type": "stream",
     "text": [
      "[2024-05-17T14:24:38.205574+0000][1043622][CRITICAL] load failed: module 'synthcity.plugins.generic.plugin_goggle' has no attribute 'plugin'\n",
      "[2024-05-17T14:24:38.206197+0000][1043622][CRITICAL] load failed: module 'synthcity.plugins.generic.plugin_goggle' has no attribute 'plugin'\n",
      "[2024-05-17T14:24:38.206600+0000][1043622][CRITICAL] module plugin_goggle load failed\n"
     ]
    },
    {
     "name": "stdout",
     "output_type": "stream",
     "text": [
      "Fitting arf covariate model\n",
      "Initial accuracy is 0.8052208835341366\n",
      "Iteration number 1 reached accuracy of 0.47925033467202144.\n",
      "Generating arf synthetic covariates\n",
      "Fitting propensity model\n",
      "Generating propensities\n",
      "Fitting CATE learner\n",
      "Generating POs\n"
     ]
    }
   ],
   "source": [
    "results = seq_test(ihdp, 'arf', 'treatment', 'y_factual', 20, save=True, fp='ihdp_sequential_vs_standard_arf.csv', binary_y=False)"
   ]
  },
  {
   "cell_type": "code",
   "execution_count": 27,
   "id": "512f5954",
   "metadata": {},
   "outputs": [
    {
     "name": "stderr",
     "output_type": "stream",
     "text": [
      "[2024-05-17T20:58:05.704674+0000][1043622][CRITICAL] load failed: module 'synthcity.plugins.generic.plugin_goggle' has no attribute 'plugin'\n",
      "[2024-05-17T20:58:05.705886+0000][1043622][CRITICAL] load failed: module 'synthcity.plugins.generic.plugin_goggle' has no attribute 'plugin'\n",
      "[2024-05-17T20:58:05.706288+0000][1043622][CRITICAL] module plugin_goggle load failed\n"
     ]
    },
    {
     "name": "stdout",
     "output_type": "stream",
     "text": [
      "Fitting arf model\n",
      "Initial accuracy is 0.657202216066482\n",
      "Iteration number 1 reached accuracy of 0.3850415512465374.\n",
      "Generating arf synthetic dataset\n"
     ]
    },
    {
     "name": "stderr",
     "output_type": "stream",
     "text": [
      "[2024-05-17T20:58:09.955653+0000][1043622][CRITICAL] load failed: module 'synthcity.plugins.generic.plugin_goggle' has no attribute 'plugin'\n",
      "[2024-05-17T20:58:09.956725+0000][1043622][CRITICAL] load failed: module 'synthcity.plugins.generic.plugin_goggle' has no attribute 'plugin'\n",
      "[2024-05-17T20:58:09.957091+0000][1043622][CRITICAL] module plugin_goggle load failed\n"
     ]
    },
    {
     "name": "stdout",
     "output_type": "stream",
     "text": [
      "Fitting arf covariate model\n",
      "Initial accuracy is 0.6807479224376731\n",
      "Iteration number 1 reached accuracy of 0.4002770083102493.\n",
      "Generating arf synthetic covariates\n",
      "Fitting propensity model\n",
      "Generating propensities\n",
      "Fitting CATE learner\n",
      "Generating POs\n"
     ]
    },
    {
     "name": "stderr",
     "output_type": "stream",
     "text": [
      "[2024-05-17T21:07:54.271466+0000][1043622][CRITICAL] load failed: module 'synthcity.plugins.generic.plugin_goggle' has no attribute 'plugin'\n",
      "[2024-05-17T21:07:54.273943+0000][1043622][CRITICAL] load failed: module 'synthcity.plugins.generic.plugin_goggle' has no attribute 'plugin'\n",
      "[2024-05-17T21:07:54.274579+0000][1043622][CRITICAL] module plugin_goggle load failed\n"
     ]
    },
    {
     "name": "stdout",
     "output_type": "stream",
     "text": [
      "Fitting arf model\n",
      "Initial accuracy is 0.6662049861495845\n",
      "Iteration number 1 reached accuracy of 0.38573407202216065.\n",
      "Generating arf synthetic dataset\n"
     ]
    },
    {
     "name": "stderr",
     "output_type": "stream",
     "text": [
      "[2024-05-17T21:07:58.523984+0000][1043622][CRITICAL] load failed: module 'synthcity.plugins.generic.plugin_goggle' has no attribute 'plugin'\n",
      "[2024-05-17T21:07:58.524960+0000][1043622][CRITICAL] load failed: module 'synthcity.plugins.generic.plugin_goggle' has no attribute 'plugin'\n",
      "[2024-05-17T21:07:58.525490+0000][1043622][CRITICAL] module plugin_goggle load failed\n"
     ]
    },
    {
     "name": "stdout",
     "output_type": "stream",
     "text": [
      "Fitting arf covariate model\n",
      "Initial accuracy is 0.7042936288088643\n",
      "Iteration number 1 reached accuracy of 0.40581717451523547.\n",
      "Generating arf synthetic covariates\n",
      "Fitting propensity model\n",
      "Generating propensities\n",
      "Fitting CATE learner\n",
      "Generating POs\n"
     ]
    },
    {
     "name": "stderr",
     "output_type": "stream",
     "text": [
      "[2024-05-17T21:18:55.581513+0000][1043622][CRITICAL] load failed: module 'synthcity.plugins.generic.plugin_goggle' has no attribute 'plugin'\n",
      "[2024-05-17T21:18:55.584026+0000][1043622][CRITICAL] load failed: module 'synthcity.plugins.generic.plugin_goggle' has no attribute 'plugin'\n",
      "[2024-05-17T21:18:55.584670+0000][1043622][CRITICAL] module plugin_goggle load failed\n"
     ]
    },
    {
     "name": "stdout",
     "output_type": "stream",
     "text": [
      "Fitting arf model\n",
      "Initial accuracy is 0.6696675900277008\n",
      "Iteration number 1 reached accuracy of 0.37257617728531855.\n",
      "Generating arf synthetic dataset\n"
     ]
    },
    {
     "name": "stderr",
     "output_type": "stream",
     "text": [
      "[2024-05-17T21:19:00.158915+0000][1043622][CRITICAL] load failed: module 'synthcity.plugins.generic.plugin_goggle' has no attribute 'plugin'\n",
      "[2024-05-17T21:19:00.159574+0000][1043622][CRITICAL] load failed: module 'synthcity.plugins.generic.plugin_goggle' has no attribute 'plugin'\n",
      "[2024-05-17T21:19:00.160039+0000][1043622][CRITICAL] module plugin_goggle load failed\n"
     ]
    },
    {
     "name": "stdout",
     "output_type": "stream",
     "text": [
      "Fitting arf covariate model\n",
      "Initial accuracy is 0.731994459833795\n",
      "Iteration number 1 reached accuracy of 0.4307479224376731.\n",
      "Generating arf synthetic covariates\n",
      "Fitting propensity model\n",
      "Generating propensities\n",
      "Fitting CATE learner\n",
      "Generating POs\n"
     ]
    },
    {
     "name": "stderr",
     "output_type": "stream",
     "text": [
      "[2024-05-17T21:27:26.384265+0000][1043622][CRITICAL] load failed: module 'synthcity.plugins.generic.plugin_goggle' has no attribute 'plugin'\n",
      "[2024-05-17T21:27:26.386966+0000][1043622][CRITICAL] load failed: module 'synthcity.plugins.generic.plugin_goggle' has no attribute 'plugin'\n",
      "[2024-05-17T21:27:26.387476+0000][1043622][CRITICAL] module plugin_goggle load failed\n"
     ]
    },
    {
     "name": "stdout",
     "output_type": "stream",
     "text": [
      "Fitting arf model\n",
      "Initial accuracy is 0.6544321329639889\n",
      "Iteration number 1 reached accuracy of 0.3878116343490305.\n",
      "Generating arf synthetic dataset\n"
     ]
    },
    {
     "name": "stderr",
     "output_type": "stream",
     "text": [
      "[2024-05-17T21:27:30.622431+0000][1043622][CRITICAL] load failed: module 'synthcity.plugins.generic.plugin_goggle' has no attribute 'plugin'\n",
      "[2024-05-17T21:27:30.623016+0000][1043622][CRITICAL] load failed: module 'synthcity.plugins.generic.plugin_goggle' has no attribute 'plugin'\n",
      "[2024-05-17T21:27:30.623402+0000][1043622][CRITICAL] module plugin_goggle load failed\n"
     ]
    },
    {
     "name": "stdout",
     "output_type": "stream",
     "text": [
      "Fitting arf covariate model\n",
      "Initial accuracy is 0.7257617728531855\n",
      "Iteration number 1 reached accuracy of 0.3878116343490305.\n",
      "Generating arf synthetic covariates\n",
      "Fitting propensity model\n",
      "Generating propensities\n",
      "Fitting CATE learner\n",
      "Generating POs\n"
     ]
    },
    {
     "name": "stderr",
     "output_type": "stream",
     "text": [
      "[2024-05-17T21:36:58.437986+0000][1043622][CRITICAL] load failed: module 'synthcity.plugins.generic.plugin_goggle' has no attribute 'plugin'\n",
      "[2024-05-17T21:36:58.439090+0000][1043622][CRITICAL] load failed: module 'synthcity.plugins.generic.plugin_goggle' has no attribute 'plugin'\n",
      "[2024-05-17T21:36:58.439497+0000][1043622][CRITICAL] module plugin_goggle load failed\n"
     ]
    },
    {
     "name": "stdout",
     "output_type": "stream",
     "text": [
      "Fitting arf model\n",
      "Initial accuracy is 0.6606648199445984\n",
      "Iteration number 1 reached accuracy of 0.3871191135734072.\n",
      "Generating arf synthetic dataset\n"
     ]
    },
    {
     "name": "stderr",
     "output_type": "stream",
     "text": [
      "[2024-05-17T21:37:02.735381+0000][1043622][CRITICAL] load failed: module 'synthcity.plugins.generic.plugin_goggle' has no attribute 'plugin'\n",
      "[2024-05-17T21:37:02.735955+0000][1043622][CRITICAL] load failed: module 'synthcity.plugins.generic.plugin_goggle' has no attribute 'plugin'\n",
      "[2024-05-17T21:37:02.736306+0000][1043622][CRITICAL] module plugin_goggle load failed\n"
     ]
    },
    {
     "name": "stdout",
     "output_type": "stream",
     "text": [
      "Fitting arf covariate model\n",
      "Initial accuracy is 0.7119113573407202\n",
      "Iteration number 1 reached accuracy of 0.37257617728531855.\n",
      "Generating arf synthetic covariates\n",
      "Fitting propensity model\n",
      "Generating propensities\n",
      "Fitting CATE learner\n",
      "Generating POs\n"
     ]
    },
    {
     "name": "stderr",
     "output_type": "stream",
     "text": [
      "[2024-05-17T21:47:48.579524+0000][1043622][CRITICAL] load failed: module 'synthcity.plugins.generic.plugin_goggle' has no attribute 'plugin'\n",
      "[2024-05-17T21:47:48.582324+0000][1043622][CRITICAL] load failed: module 'synthcity.plugins.generic.plugin_goggle' has no attribute 'plugin'\n",
      "[2024-05-17T21:47:48.582805+0000][1043622][CRITICAL] module plugin_goggle load failed\n"
     ]
    },
    {
     "name": "stdout",
     "output_type": "stream",
     "text": [
      "Fitting arf model\n",
      "Initial accuracy is 0.675207756232687\n",
      "Iteration number 1 reached accuracy of 0.41759002770083103.\n",
      "Generating arf synthetic dataset\n"
     ]
    },
    {
     "name": "stderr",
     "output_type": "stream",
     "text": [
      "[2024-05-17T21:47:52.859771+0000][1043622][CRITICAL] load failed: module 'synthcity.plugins.generic.plugin_goggle' has no attribute 'plugin'\n",
      "[2024-05-17T21:47:52.860355+0000][1043622][CRITICAL] load failed: module 'synthcity.plugins.generic.plugin_goggle' has no attribute 'plugin'\n",
      "[2024-05-17T21:47:52.860709+0000][1043622][CRITICAL] module plugin_goggle load failed\n"
     ]
    },
    {
     "name": "stdout",
     "output_type": "stream",
     "text": [
      "Fitting arf covariate model\n",
      "Initial accuracy is 0.7126038781163435\n",
      "Iteration number 1 reached accuracy of 0.39681440443213295.\n",
      "Generating arf synthetic covariates\n",
      "Fitting propensity model\n",
      "Generating propensities\n",
      "Fitting CATE learner\n",
      "Generating POs\n"
     ]
    },
    {
     "name": "stderr",
     "output_type": "stream",
     "text": [
      "[2024-05-17T21:58:59.383219+0000][1043622][CRITICAL] load failed: module 'synthcity.plugins.generic.plugin_goggle' has no attribute 'plugin'\n",
      "[2024-05-17T21:58:59.385269+0000][1043622][CRITICAL] load failed: module 'synthcity.plugins.generic.plugin_goggle' has no attribute 'plugin'\n",
      "[2024-05-17T21:58:59.386253+0000][1043622][CRITICAL] module plugin_goggle load failed\n"
     ]
    },
    {
     "name": "stdout",
     "output_type": "stream",
     "text": [
      "Fitting arf model\n",
      "Initial accuracy is 0.6876731301939059\n",
      "Iteration number 1 reached accuracy of 0.39335180055401664.\n",
      "Generating arf synthetic dataset\n"
     ]
    },
    {
     "name": "stderr",
     "output_type": "stream",
     "text": [
      "[2024-05-17T21:59:03.687371+0000][1043622][CRITICAL] load failed: module 'synthcity.plugins.generic.plugin_goggle' has no attribute 'plugin'\n",
      "[2024-05-17T21:59:03.688110+0000][1043622][CRITICAL] load failed: module 'synthcity.plugins.generic.plugin_goggle' has no attribute 'plugin'\n",
      "[2024-05-17T21:59:03.688593+0000][1043622][CRITICAL] module plugin_goggle load failed\n"
     ]
    },
    {
     "name": "stdout",
     "output_type": "stream",
     "text": [
      "Fitting arf covariate model\n",
      "Initial accuracy is 0.6772853185595568\n",
      "Iteration number 1 reached accuracy of 0.3850415512465374.\n",
      "Generating arf synthetic covariates\n",
      "Fitting propensity model\n",
      "Generating propensities\n",
      "Fitting CATE learner\n",
      "Generating POs\n"
     ]
    },
    {
     "name": "stderr",
     "output_type": "stream",
     "text": [
      "[2024-05-17T22:09:45.917081+0000][1043622][CRITICAL] load failed: module 'synthcity.plugins.generic.plugin_goggle' has no attribute 'plugin'\n",
      "[2024-05-17T22:09:45.919647+0000][1043622][CRITICAL] load failed: module 'synthcity.plugins.generic.plugin_goggle' has no attribute 'plugin'\n",
      "[2024-05-17T22:09:45.920339+0000][1043622][CRITICAL] module plugin_goggle load failed\n"
     ]
    },
    {
     "name": "stdout",
     "output_type": "stream",
     "text": [
      "Fitting arf model\n",
      "Initial accuracy is 0.6980609418282548\n",
      "Iteration number 1 reached accuracy of 0.3587257617728532.\n",
      "Generating arf synthetic dataset\n"
     ]
    },
    {
     "name": "stderr",
     "output_type": "stream",
     "text": [
      "[2024-05-17T22:09:50.482729+0000][1043622][CRITICAL] load failed: module 'synthcity.plugins.generic.plugin_goggle' has no attribute 'plugin'\n",
      "[2024-05-17T22:09:50.483332+0000][1043622][CRITICAL] load failed: module 'synthcity.plugins.generic.plugin_goggle' has no attribute 'plugin'\n",
      "[2024-05-17T22:09:50.483850+0000][1043622][CRITICAL] module plugin_goggle load failed\n"
     ]
    },
    {
     "name": "stdout",
     "output_type": "stream",
     "text": [
      "Fitting arf covariate model\n",
      "Initial accuracy is 0.6945983379501385\n",
      "Iteration number 1 reached accuracy of 0.3871191135734072.\n",
      "Generating arf synthetic covariates\n",
      "Fitting propensity model\n",
      "Generating propensities\n",
      "Fitting CATE learner\n",
      "Generating POs\n"
     ]
    },
    {
     "name": "stderr",
     "output_type": "stream",
     "text": [
      "[2024-05-17T22:21:12.675337+0000][1043622][CRITICAL] load failed: module 'synthcity.plugins.generic.plugin_goggle' has no attribute 'plugin'\n",
      "[2024-05-17T22:21:12.677991+0000][1043622][CRITICAL] load failed: module 'synthcity.plugins.generic.plugin_goggle' has no attribute 'plugin'\n",
      "[2024-05-17T22:21:12.678519+0000][1043622][CRITICAL] module plugin_goggle load failed\n"
     ]
    },
    {
     "name": "stdout",
     "output_type": "stream",
     "text": [
      "Fitting arf model\n",
      "Initial accuracy is 0.6966759002770083\n",
      "Iteration number 1 reached accuracy of 0.40650969529085873.\n",
      "Generating arf synthetic dataset\n"
     ]
    },
    {
     "name": "stderr",
     "output_type": "stream",
     "text": [
      "[2024-05-17T22:21:16.954882+0000][1043622][CRITICAL] load failed: module 'synthcity.plugins.generic.plugin_goggle' has no attribute 'plugin'\n",
      "[2024-05-17T22:21:16.955482+0000][1043622][CRITICAL] load failed: module 'synthcity.plugins.generic.plugin_goggle' has no attribute 'plugin'\n",
      "[2024-05-17T22:21:16.955887+0000][1043622][CRITICAL] module plugin_goggle load failed\n"
     ]
    },
    {
     "name": "stdout",
     "output_type": "stream",
     "text": [
      "Fitting arf covariate model\n",
      "Initial accuracy is 0.693213296398892\n",
      "Iteration number 1 reached accuracy of 0.38573407202216065.\n",
      "Generating arf synthetic covariates\n",
      "Fitting propensity model\n",
      "Generating propensities\n",
      "Fitting CATE learner\n",
      "Generating POs\n"
     ]
    },
    {
     "name": "stderr",
     "output_type": "stream",
     "text": [
      "[2024-05-17T22:31:13.220043+0000][1043622][CRITICAL] load failed: module 'synthcity.plugins.generic.plugin_goggle' has no attribute 'plugin'\n",
      "[2024-05-17T22:31:13.222209+0000][1043622][CRITICAL] load failed: module 'synthcity.plugins.generic.plugin_goggle' has no attribute 'plugin'\n",
      "[2024-05-17T22:31:13.223257+0000][1043622][CRITICAL] module plugin_goggle load failed\n"
     ]
    },
    {
     "name": "stdout",
     "output_type": "stream",
     "text": [
      "Fitting arf model\n",
      "Initial accuracy is 0.6606648199445984\n",
      "Iteration number 1 reached accuracy of 0.42105263157894735.\n",
      "Generating arf synthetic dataset\n"
     ]
    },
    {
     "name": "stderr",
     "output_type": "stream",
     "text": [
      "[2024-05-17T22:31:17.450332+0000][1043622][CRITICAL] load failed: module 'synthcity.plugins.generic.plugin_goggle' has no attribute 'plugin'\n",
      "[2024-05-17T22:31:17.451062+0000][1043622][CRITICAL] load failed: module 'synthcity.plugins.generic.plugin_goggle' has no attribute 'plugin'\n",
      "[2024-05-17T22:31:17.451511+0000][1043622][CRITICAL] module plugin_goggle load failed\n"
     ]
    },
    {
     "name": "stdout",
     "output_type": "stream",
     "text": [
      "Fitting arf covariate model\n",
      "Initial accuracy is 0.7153739612188366\n",
      "Iteration number 1 reached accuracy of 0.37049861495844877.\n",
      "Generating arf synthetic covariates\n",
      "Fitting propensity model\n",
      "Generating propensities\n",
      "Fitting CATE learner\n",
      "Generating POs\n"
     ]
    },
    {
     "name": "stderr",
     "output_type": "stream",
     "text": [
      "[2024-05-17T22:42:25.313560+0000][1043622][CRITICAL] load failed: module 'synthcity.plugins.generic.plugin_goggle' has no attribute 'plugin'\n",
      "[2024-05-17T22:42:25.316257+0000][1043622][CRITICAL] load failed: module 'synthcity.plugins.generic.plugin_goggle' has no attribute 'plugin'\n",
      "[2024-05-17T22:42:25.316882+0000][1043622][CRITICAL] module plugin_goggle load failed\n"
     ]
    },
    {
     "name": "stdout",
     "output_type": "stream",
     "text": [
      "Fitting arf model\n",
      "Initial accuracy is 0.6475069252077562\n",
      "Iteration number 1 reached accuracy of 0.3815789473684211.\n",
      "Generating arf synthetic dataset\n"
     ]
    },
    {
     "name": "stderr",
     "output_type": "stream",
     "text": [
      "[2024-05-17T22:42:29.608609+0000][1043622][CRITICAL] load failed: module 'synthcity.plugins.generic.plugin_goggle' has no attribute 'plugin'\n",
      "[2024-05-17T22:42:29.609556+0000][1043622][CRITICAL] load failed: module 'synthcity.plugins.generic.plugin_goggle' has no attribute 'plugin'\n",
      "[2024-05-17T22:42:29.610108+0000][1043622][CRITICAL] module plugin_goggle load failed\n"
     ]
    },
    {
     "name": "stdout",
     "output_type": "stream",
     "text": [
      "Fitting arf covariate model\n",
      "Initial accuracy is 0.682825484764543\n",
      "Iteration number 1 reached accuracy of 0.38573407202216065.\n",
      "Generating arf synthetic covariates\n",
      "Fitting propensity model\n",
      "Generating propensities\n",
      "Fitting CATE learner\n",
      "Generating POs\n"
     ]
    },
    {
     "name": "stderr",
     "output_type": "stream",
     "text": [
      "[2024-05-17T22:53:22.871453+0000][1043622][CRITICAL] load failed: module 'synthcity.plugins.generic.plugin_goggle' has no attribute 'plugin'\n",
      "[2024-05-17T22:53:22.873769+0000][1043622][CRITICAL] load failed: module 'synthcity.plugins.generic.plugin_goggle' has no attribute 'plugin'\n",
      "[2024-05-17T22:53:22.874411+0000][1043622][CRITICAL] module plugin_goggle load failed\n"
     ]
    },
    {
     "name": "stdout",
     "output_type": "stream",
     "text": [
      "Fitting arf model\n",
      "Initial accuracy is 0.6523545706371191\n",
      "Iteration number 1 reached accuracy of 0.3864265927977839.\n",
      "Generating arf synthetic dataset\n"
     ]
    },
    {
     "name": "stderr",
     "output_type": "stream",
     "text": [
      "[2024-05-17T22:53:27.126155+0000][1043622][CRITICAL] load failed: module 'synthcity.plugins.generic.plugin_goggle' has no attribute 'plugin'\n",
      "[2024-05-17T22:53:27.126757+0000][1043622][CRITICAL] load failed: module 'synthcity.plugins.generic.plugin_goggle' has no attribute 'plugin'\n",
      "[2024-05-17T22:53:27.127410+0000][1043622][CRITICAL] module plugin_goggle load failed\n"
     ]
    },
    {
     "name": "stdout",
     "output_type": "stream",
     "text": [
      "Fitting arf covariate model\n",
      "Initial accuracy is 0.7042936288088643\n",
      "Iteration number 1 reached accuracy of 0.4051246537396122.\n",
      "Generating arf synthetic covariates\n",
      "Fitting propensity model\n",
      "Generating propensities\n",
      "Fitting CATE learner\n",
      "Generating POs\n"
     ]
    },
    {
     "name": "stderr",
     "output_type": "stream",
     "text": [
      "[2024-05-17T23:03:25.922220+0000][1043622][CRITICAL] load failed: module 'synthcity.plugins.generic.plugin_goggle' has no attribute 'plugin'\n",
      "[2024-05-17T23:03:25.924269+0000][1043622][CRITICAL] load failed: module 'synthcity.plugins.generic.plugin_goggle' has no attribute 'plugin'\n",
      "[2024-05-17T23:03:25.925196+0000][1043622][CRITICAL] module plugin_goggle load failed\n"
     ]
    },
    {
     "name": "stdout",
     "output_type": "stream",
     "text": [
      "Fitting arf model\n",
      "Initial accuracy is 0.631578947368421\n",
      "Iteration number 1 reached accuracy of 0.4023545706371191.\n",
      "Generating arf synthetic dataset\n"
     ]
    },
    {
     "name": "stderr",
     "output_type": "stream",
     "text": [
      "[2024-05-17T23:03:30.401870+0000][1043622][CRITICAL] load failed: module 'synthcity.plugins.generic.plugin_goggle' has no attribute 'plugin'\n",
      "[2024-05-17T23:03:30.402451+0000][1043622][CRITICAL] load failed: module 'synthcity.plugins.generic.plugin_goggle' has no attribute 'plugin'\n",
      "[2024-05-17T23:03:30.402895+0000][1043622][CRITICAL] module plugin_goggle load failed\n"
     ]
    },
    {
     "name": "stdout",
     "output_type": "stream",
     "text": [
      "Fitting arf covariate model\n",
      "Initial accuracy is 0.6897506925207756\n",
      "Iteration number 1 reached accuracy of 0.3981994459833795.\n",
      "Generating arf synthetic covariates\n",
      "Fitting propensity model\n",
      "Generating propensities\n",
      "Fitting CATE learner\n",
      "Generating POs\n"
     ]
    },
    {
     "name": "stderr",
     "output_type": "stream",
     "text": [
      "[2024-05-17T23:14:23.395935+0000][1043622][CRITICAL] load failed: module 'synthcity.plugins.generic.plugin_goggle' has no attribute 'plugin'\n",
      "[2024-05-17T23:14:23.397099+0000][1043622][CRITICAL] load failed: module 'synthcity.plugins.generic.plugin_goggle' has no attribute 'plugin'\n",
      "[2024-05-17T23:14:23.397549+0000][1043622][CRITICAL] module plugin_goggle load failed\n"
     ]
    },
    {
     "name": "stdout",
     "output_type": "stream",
     "text": [
      "Fitting arf model\n",
      "Initial accuracy is 0.6918282548476454\n",
      "Iteration number 1 reached accuracy of 0.36426592797783935.\n",
      "Generating arf synthetic dataset\n"
     ]
    },
    {
     "name": "stderr",
     "output_type": "stream",
     "text": [
      "[2024-05-17T23:14:27.650460+0000][1043622][CRITICAL] load failed: module 'synthcity.plugins.generic.plugin_goggle' has no attribute 'plugin'\n",
      "[2024-05-17T23:14:27.651034+0000][1043622][CRITICAL] load failed: module 'synthcity.plugins.generic.plugin_goggle' has no attribute 'plugin'\n",
      "[2024-05-17T23:14:27.651421+0000][1043622][CRITICAL] module plugin_goggle load failed\n"
     ]
    },
    {
     "name": "stdout",
     "output_type": "stream",
     "text": [
      "Fitting arf covariate model\n",
      "Initial accuracy is 0.7015235457063712\n",
      "Iteration number 1 reached accuracy of 0.3940443213296399.\n",
      "Generating arf synthetic covariates\n",
      "Fitting propensity model\n",
      "Generating propensities\n",
      "Fitting CATE learner\n",
      "Generating POs\n"
     ]
    },
    {
     "name": "stderr",
     "output_type": "stream",
     "text": [
      "[2024-05-17T23:25:24.458675+0000][1043622][CRITICAL] load failed: module 'synthcity.plugins.generic.plugin_goggle' has no attribute 'plugin'\n",
      "[2024-05-17T23:25:24.460928+0000][1043622][CRITICAL] load failed: module 'synthcity.plugins.generic.plugin_goggle' has no attribute 'plugin'\n",
      "[2024-05-17T23:25:24.461596+0000][1043622][CRITICAL] module plugin_goggle load failed\n"
     ]
    },
    {
     "name": "stdout",
     "output_type": "stream",
     "text": [
      "Fitting arf model\n",
      "Initial accuracy is 0.6696675900277008\n",
      "Iteration number 1 reached accuracy of 0.37257617728531855.\n",
      "Generating arf synthetic dataset\n"
     ]
    },
    {
     "name": "stderr",
     "output_type": "stream",
     "text": [
      "[2024-05-17T23:25:28.732341+0000][1043622][CRITICAL] load failed: module 'synthcity.plugins.generic.plugin_goggle' has no attribute 'plugin'\n",
      "[2024-05-17T23:25:28.732917+0000][1043622][CRITICAL] load failed: module 'synthcity.plugins.generic.plugin_goggle' has no attribute 'plugin'\n",
      "[2024-05-17T23:25:28.733303+0000][1043622][CRITICAL] module plugin_goggle load failed\n"
     ]
    },
    {
     "name": "stdout",
     "output_type": "stream",
     "text": [
      "Fitting arf covariate model\n",
      "Initial accuracy is 0.7070637119113573\n",
      "Iteration number 1 reached accuracy of 0.41274238227146814.\n",
      "Generating arf synthetic covariates\n",
      "Fitting propensity model\n",
      "Generating propensities\n",
      "Fitting CATE learner\n",
      "Generating POs\n"
     ]
    },
    {
     "name": "stderr",
     "output_type": "stream",
     "text": [
      "[2024-05-17T23:33:20.522304+0000][1043622][CRITICAL] load failed: module 'synthcity.plugins.generic.plugin_goggle' has no attribute 'plugin'\n",
      "[2024-05-17T23:33:20.524761+0000][1043622][CRITICAL] load failed: module 'synthcity.plugins.generic.plugin_goggle' has no attribute 'plugin'\n",
      "[2024-05-17T23:33:20.525325+0000][1043622][CRITICAL] module plugin_goggle load failed\n"
     ]
    },
    {
     "name": "stdout",
     "output_type": "stream",
     "text": [
      "Fitting arf model\n",
      "Initial accuracy is 0.6759002770083102\n",
      "Iteration number 1 reached accuracy of 0.37950138504155123.\n",
      "Generating arf synthetic dataset\n"
     ]
    },
    {
     "name": "stderr",
     "output_type": "stream",
     "text": [
      "[2024-05-17T23:33:25.066949+0000][1043622][CRITICAL] load failed: module 'synthcity.plugins.generic.plugin_goggle' has no attribute 'plugin'\n",
      "[2024-05-17T23:33:25.067608+0000][1043622][CRITICAL] load failed: module 'synthcity.plugins.generic.plugin_goggle' has no attribute 'plugin'\n",
      "[2024-05-17T23:33:25.068049+0000][1043622][CRITICAL] module plugin_goggle load failed\n"
     ]
    },
    {
     "name": "stdout",
     "output_type": "stream",
     "text": [
      "Fitting arf covariate model\n",
      "Initial accuracy is 0.7250692520775623\n",
      "Iteration number 1 reached accuracy of 0.4134349030470914.\n",
      "Generating arf synthetic covariates\n",
      "Fitting propensity model\n",
      "Generating propensities\n",
      "Fitting CATE learner\n",
      "Generating POs\n"
     ]
    },
    {
     "name": "stderr",
     "output_type": "stream",
     "text": [
      "[2024-05-17T23:44:20.690704+0000][1043622][CRITICAL] load failed: module 'synthcity.plugins.generic.plugin_goggle' has no attribute 'plugin'\n",
      "[2024-05-17T23:44:20.692890+0000][1043622][CRITICAL] load failed: module 'synthcity.plugins.generic.plugin_goggle' has no attribute 'plugin'\n",
      "[2024-05-17T23:44:20.693520+0000][1043622][CRITICAL] module plugin_goggle load failed\n"
     ]
    },
    {
     "name": "stdout",
     "output_type": "stream",
     "text": [
      "Fitting arf model\n",
      "Initial accuracy is 0.6710526315789473\n",
      "Iteration number 1 reached accuracy of 0.4002770083102493.\n",
      "Generating arf synthetic dataset\n"
     ]
    },
    {
     "name": "stderr",
     "output_type": "stream",
     "text": [
      "[2024-05-17T23:44:24.946658+0000][1043622][CRITICAL] load failed: module 'synthcity.plugins.generic.plugin_goggle' has no attribute 'plugin'\n",
      "[2024-05-17T23:44:24.947346+0000][1043622][CRITICAL] load failed: module 'synthcity.plugins.generic.plugin_goggle' has no attribute 'plugin'\n",
      "[2024-05-17T23:44:24.947715+0000][1043622][CRITICAL] module plugin_goggle load failed\n"
     ]
    },
    {
     "name": "stdout",
     "output_type": "stream",
     "text": [
      "Fitting arf covariate model\n",
      "Initial accuracy is 0.693213296398892\n",
      "Iteration number 1 reached accuracy of 0.3954293628808864.\n",
      "Generating arf synthetic covariates\n",
      "Fitting propensity model\n",
      "Generating propensities\n",
      "Fitting CATE learner\n",
      "Generating POs\n"
     ]
    },
    {
     "name": "stderr",
     "output_type": "stream",
     "text": [
      "[2024-05-17T23:54:17.357430+0000][1043622][CRITICAL] load failed: module 'synthcity.plugins.generic.plugin_goggle' has no attribute 'plugin'\n",
      "[2024-05-17T23:54:17.359835+0000][1043622][CRITICAL] load failed: module 'synthcity.plugins.generic.plugin_goggle' has no attribute 'plugin'\n",
      "[2024-05-17T23:54:17.360431+0000][1043622][CRITICAL] module plugin_goggle load failed\n"
     ]
    },
    {
     "name": "stdout",
     "output_type": "stream",
     "text": [
      "Fitting arf model\n",
      "Initial accuracy is 0.6772853185595568\n",
      "Iteration number 1 reached accuracy of 0.3497229916897507.\n",
      "Generating arf synthetic dataset\n"
     ]
    },
    {
     "name": "stderr",
     "output_type": "stream",
     "text": [
      "[2024-05-17T23:54:21.616547+0000][1043622][CRITICAL] load failed: module 'synthcity.plugins.generic.plugin_goggle' has no attribute 'plugin'\n",
      "[2024-05-17T23:54:21.617225+0000][1043622][CRITICAL] load failed: module 'synthcity.plugins.generic.plugin_goggle' has no attribute 'plugin'\n",
      "[2024-05-17T23:54:21.617675+0000][1043622][CRITICAL] module plugin_goggle load failed\n"
     ]
    },
    {
     "name": "stdout",
     "output_type": "stream",
     "text": [
      "Fitting arf covariate model\n",
      "Initial accuracy is 0.6904432132963989\n",
      "Iteration number 1 reached accuracy of 0.425207756232687.\n",
      "Generating arf synthetic covariates\n",
      "Fitting propensity model\n",
      "Generating propensities\n",
      "Fitting CATE learner\n",
      "Generating POs\n"
     ]
    },
    {
     "name": "stderr",
     "output_type": "stream",
     "text": [
      "[2024-05-18T00:04:06.281375+0000][1043622][CRITICAL] load failed: module 'synthcity.plugins.generic.plugin_goggle' has no attribute 'plugin'\n",
      "[2024-05-18T00:04:06.282266+0000][1043622][CRITICAL] load failed: module 'synthcity.plugins.generic.plugin_goggle' has no attribute 'plugin'\n",
      "[2024-05-18T00:04:06.282683+0000][1043622][CRITICAL] module plugin_goggle load failed\n"
     ]
    },
    {
     "name": "stdout",
     "output_type": "stream",
     "text": [
      "Fitting arf model\n",
      "Initial accuracy is 0.6634349030470914\n",
      "Iteration number 1 reached accuracy of 0.3940443213296399.\n",
      "Generating arf synthetic dataset\n"
     ]
    },
    {
     "name": "stderr",
     "output_type": "stream",
     "text": [
      "[2024-05-18T00:04:10.441062+0000][1043622][CRITICAL] load failed: module 'synthcity.plugins.generic.plugin_goggle' has no attribute 'plugin'\n",
      "[2024-05-18T00:04:10.441999+0000][1043622][CRITICAL] load failed: module 'synthcity.plugins.generic.plugin_goggle' has no attribute 'plugin'\n",
      "[2024-05-18T00:04:10.442405+0000][1043622][CRITICAL] module plugin_goggle load failed\n"
     ]
    },
    {
     "name": "stdout",
     "output_type": "stream",
     "text": [
      "Fitting arf covariate model\n",
      "Initial accuracy is 0.682825484764543\n",
      "Iteration number 1 reached accuracy of 0.4051246537396122.\n",
      "Generating arf synthetic covariates\n",
      "Fitting propensity model\n",
      "Generating propensities\n",
      "Fitting CATE learner\n",
      "Generating POs\n"
     ]
    },
    {
     "name": "stderr",
     "output_type": "stream",
     "text": [
      "Bad pipe message: %s [b'<\\xb2?\\xd7\\xdb\\x05o\\xc9\\xd0\\xd5\\x9aD\\x15\\xcc\\x12PO\\x15 \\xd6Ri\\xa7\\xcb\\xfb:\\x88M\\xf2\\x06\\xf8m7[\\xc5n\\xd3=\\xc1R+\\x1bL\\x16Y\\xa2\\x0b\\x9cw+\\xff\\x00\\x08\\x13\\x02\\x13\\x03\\x13\\x01\\x00\\xff\\x01\\x00\\x00\\x8f\\x00\\x00\\x00\\x0e\\x00\\x0c\\x00\\x00\\t127.0.0.1\\x00\\x0b\\x00\\x04\\x03\\x00\\x01\\x02\\x00\\n\\x00\\x0c\\x00\\n\\x00\\x1d\\x00\\x17\\x00\\x1e\\x00\\x19\\x00\\x18']\n",
      "Bad pipe message: %s [b\"e.\\xaa\\xdd\\xa4C\\xceZ28\\xc6\\xb9\\xdb.\\xf2h\\xc5C\\x00\\x00|\\xc0,\\xc00\\x00\\xa3\\x00\\x9f\\xcc\\xa9\\xcc\\xa8\\xcc\\xaa\\xc0\\xaf\\xc0\\xad\\xc0\\xa3\\xc0\\x9f\\xc0]\\xc0a\\xc0W\\xc0S\\xc0+\\xc0/\\x00\\xa2\\x00\\x9e\\xc0\\xae\\xc0\\xac\\xc0\\xa2\\xc0\\x9e\\xc0\\\\\\xc0`\\xc0V\\xc0R\\xc0$\\xc0(\\x00k\\x00j\\xc0#\\xc0'\\x00g\\x00@\\xc0\\n\\xc0\\x14\\x009\\x008\\xc0\\t\\xc0\\x13\\x003\\x002\\x00\\x9d\\xc0\\xa1\\xc0\\x9d\\xc0Q\\x00\\x9c\\xc0\\xa0\\xc0\\x9c\\xc0P\\x00=\\x00<\\x005\\x00/\\x00\\x9a\\x00\\x99\\xc0\\x07\\xc0\\x11\\x00\\x96\\x00\\x05\\x00\\xff\\x01\\x00\\x00j\\x00\\x00\"]\n",
      "Bad pipe message: %s [b\"\\xcd\\xd7IF\\xfa\\x164\\x06\\xbf\\xc0ri-\\xc2\\x7f\\xaal3\\x00\\x00\\xa6\\xc0,\\xc00\\x00\\xa3\\x00\\x9f\\xcc\\xa9\\xcc\\xa8\\xcc\\xaa\\xc0\\xaf\\xc0\\xad\\xc0\\xa3\\xc0\\x9f\\xc0]\\xc0a\\xc0W\\xc0S\\xc0+\\xc0/\\x00\\xa2\\x00\\x9e\\xc0\\xae\\xc0\\xac\\xc0\\xa2\\xc0\\x9e\\xc0\\\\\\xc0`\\xc0V\\xc0R\\xc0$\\xc0(\\x00k\\x00j\\xc0s\\xc0w\\x00\\xc4\\x00\\xc3\\xc0#\\xc0'\\x00g\\x00@\\xc0r\\xc0v\\x00\\xbe\\x00\\xbd\\xc0\\n\\xc0\\x14\\x009\\x008\\x00\\x88\\x00\\x87\\xc0\\t\\xc0\\x13\\x00\", b'2\\x00\\x9a\\x00\\x99\\x00E\\x00D\\xc0\\x07\\xc0\\x11\\xc0\\x08\\xc0\\x12\\x00\\x16\\x00\\x13\\x00\\x9d\\xc0\\xa1\\xc0\\x9d\\xc0Q\\x00\\x9c\\xc0\\xa0\\xc0\\x9c\\xc0P\\x00=\\x00\\xc0\\x00<\\x00\\xba\\x005\\x00\\x84\\x00']\n",
      "Bad pipe message: %s [b'\\x96\\x00A\\x00\\x05\\x00\\n\\x00\\xff\\x01\\x00\\x00j\\x00\\x00\\x00\\x0e\\x00\\x0c\\x00\\x00\\t127.0.0.1\\x00\\x0b\\x00\\x04\\x03\\x00\\x01\\x02\\x00\\n\\x00\\x0c\\x00\\n\\x00']\n",
      "Bad pipe message: %s [b'\\x17\\x00\\x1e\\x00\\x19\\x00\\x18\\x00#\\x00\\x00\\x00\\x16\\x00\\x00\\x00\\x17\\x00\\x00\\x00\\r\\x000\\x00.\\x04\\x03\\x05']\n",
      "Bad pipe message: %s [b'\\x03\\x08']\n",
      "Bad pipe message: %s [b'p\\xa7\\xb2O\\x83\\x87\\xb2m\\x8b\\xf9\\xfb\\x18\\x16\\xcf\\xa8\\xa4H\\xb2\\x00\\x00>\\xc0\\x14\\xc0\\n\\x009\\x008\\x007\\x006\\xc0\\x0f\\xc0\\x05\\x005\\xc0\\x13\\xc0\\t\\x003\\x002\\x001\\x000\\xc0\\x0e\\xc0\\x04\\x00/\\x00\\x9a\\x00\\x99\\x00\\x98\\x00\\x97\\x00\\x96\\x00\\x07\\xc0\\x11\\xc0\\x07\\xc0\\x0c\\xc0\\x02\\x00\\x05\\x00\\x04\\x00\\xff\\x02\\x01\\x00\\x00C\\x00\\x00\\x00\\x0e\\x00\\x0c\\x00\\x00\\t127.0.0']\n",
      "Bad pipe message: %s [b'\\x08\\x08\\t\\x08\\n\\x08']\n",
      "Bad pipe message: %s [b'\\x04\\x08\\x05\\x08\\x06\\x04\\x01\\x05\\x01\\x06']\n",
      "Bad pipe message: %s [b'', b'\\x03\\x03']\n",
      "Bad pipe message: %s [b'']\n",
      "Bad pipe message: %s [b'', b'\\x02']\n",
      "Bad pipe message: %s [b'\\x05\\x02\\x06']\n",
      "Bad pipe message: %s [b'`\\xe9\\r\\xdeh w\\xdd\\x89o\\x94K\\xf2oz\\xcdC\\x90\\x00\\x00\\xa2\\xc0\\x14\\xc0\\n\\x009\\x008\\x007\\x006\\x00\\x88\\x00\\x87\\x00\\x86\\x00\\x85\\xc0\\x19\\x00:\\x00\\x89\\xc0\\x0f\\xc0\\x05\\x005\\x00\\x84\\xc0\\x13\\xc0\\t\\x003\\x002\\x001\\x000\\x00\\x9a\\x00\\x99\\x00\\x98\\x00\\x97\\x00E\\x00D\\x00C\\x00B\\xc0\\x18\\x004\\x00\\x9b\\x00F\\xc0\\x0e\\xc0\\x04\\x00/\\x00\\x96\\x00A\\x00\\x07\\xc0\\x11\\xc0\\x07\\xc0\\x16\\x00\\x18\\xc0\\x0c\\xc0\\x02\\x00\\x05\\x00\\x04\\xc0\\x12\\xc0\\x08\\x00\\x16\\x00\\x13\\x00\\x10\\x00\\r\\xc0\\x17\\x00\\x1b\\xc0\\r\\xc0\\x03\\x00\\n\\x00\\x15\\x00\\x12\\x00\\x0f\\x00\\x0c\\x00\\x1a\\x00\\t\\x00\\x14\\x00\\x11\\x00\\x19\\x00\\x08\\x00\\x06\\x00\\x17\\x00\\x03\\xc0\\x10\\xc0\\x06\\xc0\\x15\\xc0\\x0b\\xc0\\x01\\x00\\x02\\x00\\x01\\x00\\xff\\x02\\x01\\x00\\x00C\\x00\\x00\\x00\\x0e\\x00\\x0c\\x00\\x00\\t127.0.0.1\\x00\\x0b\\x00\\x04\\x03\\x00\\x01\\x02\\x00\\n\\x00\\x1c\\x00\\x1a\\x00', b'\\x19\\x00\\x1c\\x00\\x1b\\x00\\x18\\x00\\x1a\\x00\\x16\\x00\\x0e\\x00\\r\\x00\\x0b\\x00\\x0c\\x00\\t\\x00']\n",
      "Bad pipe message: %s [b'#\\x00\\x00\\x00\\x0f\\x00\\x01\\x01\\x15']\n",
      "Bad pipe message: %s [b'\\\\\\xeb$\\x87\\xdd8\\xcb\\xfaR\\xc2\\xa7%^!??\\xa2\\xdb\\x00\\x00\\xa2\\xc0\\x14\\xc0\\n\\x009\\x00', b'7\\x006\\x00\\x88\\x00\\x87\\x00\\x86\\x00\\x85\\xc0\\x19\\x00:\\x00\\x89\\xc0\\x0f\\xc0\\x05\\x005\\x00\\x84\\xc0\\x13\\xc0\\t\\x003\\x002\\x001\\x000\\x00\\x9a\\x00\\x99\\x00\\x98\\x00\\x97\\x00E\\x00D\\x00C\\x00B\\xc0\\x18']\n",
      "Bad pipe message: %s [b'4\\x7f\\x1d\\xc9\\x1f\\xf8n\\xcf<\\x8f\\xe1\\x17(4\\xe4\\xea\\xcc\\xff\\x00\\x00\\x86\\xc00\\xc0,\\xc0(\\xc0$\\xc0\\x14\\xc0\\n\\x00\\xa5\\x00\\xa3\\x00\\xa1']\n",
      "Bad pipe message: %s [b\">\\xc57uI\\x00\\x85\\x18\\xc5\\xd6&\\xff\\x00\\xf2\\xde\\xcb\\x91\\xa6\\x00\\x00\\xf4\\xc00\\xc0,\\xc0(\\xc0$\\xc0\\x14\\xc0\\n\\x00\\xa5\\x00\\xa3\\x00\\xa1\\x00\\x9f\\x00k\\x00j\\x00i\\x00h\\x009\\x008\\x007\\x006\\x00\\x88\\x00\\x87\\x00\\x86\\x00\\x85\\xc0\\x19\\x00\\xa7\\x00m\\x00:\\x00\\x89\\xc02\\xc0.\\xc0*\\xc0&\\xc0\\x0f\\xc0\\x05\\x00\\x9d\\x00=\\x005\\x00\\x84\\xc0/\\xc0+\\xc0'\\xc0#\\xc0\\x13\\xc0\\t\\x00\\xa4\\x00\\xa2\\x00\"]\n",
      "Bad pipe message: %s [b'\\x9e\\x00g\\x00@\\x00?\\x00>\\x003\\x002\\x001\\x000\\x00\\x9a\\x00\\x99\\x00\\x98\\x00\\x97\\x00E\\x00D\\x00C\\x00B\\xc0\\x18\\x00\\xa6\\x00l\\x004\\x00\\x9b\\x00F\\xc01\\xc0-\\xc0)\\xc0%\\xc0\\x0e\\xc0\\x04\\x00\\x9c\\x00<\\x00/\\x00\\x96\\x00A\\x00\\x07\\xc0\\x11\\xc0\\x07\\xc0\\x16\\x00\\x18\\xc0\\x0c\\xc0\\x02\\x00\\x05\\x00\\x04\\xc0\\x12\\xc0\\x08\\x00\\x16\\x00\\x13\\x00\\x10\\x00\\r\\xc0\\x17\\x00\\x1b\\xc0\\r\\xc0\\x03\\x00\\n\\x00\\x15\\x00\\x12\\x00\\x0f\\x00\\x0c\\x00\\x1a\\x00\\t\\x00\\x14\\x00\\x11\\x00\\x19\\x00\\x08\\x00\\x06\\x00\\x17\\x00\\x03\\xc0\\x10\\xc0\\x06\\xc0\\x15\\xc0\\x0b\\xc0\\x01\\x00;\\x00\\x02\\x00\\x01\\x00\\xff\\x02\\x01\\x00\\x00g\\x00\\x00\\x00']\n",
      "Bad pipe message: %s [b'\\x0c\\x00\\x00\\t127.0.0.1']\n",
      "[2024-05-18T00:15:38.636501+0000][1043622][CRITICAL] load failed: module 'synthcity.plugins.generic.plugin_goggle' has no attribute 'plugin'\n",
      "[2024-05-18T00:15:38.638877+0000][1043622][CRITICAL] load failed: module 'synthcity.plugins.generic.plugin_goggle' has no attribute 'plugin'\n",
      "[2024-05-18T00:15:38.639451+0000][1043622][CRITICAL] module plugin_goggle load failed\n"
     ]
    },
    {
     "name": "stdout",
     "output_type": "stream",
     "text": [
      "Fitting arf model\n",
      "Initial accuracy is 0.6862880886426593\n",
      "Iteration number 1 reached accuracy of 0.37049861495844877.\n",
      "Generating arf synthetic dataset\n"
     ]
    },
    {
     "name": "stderr",
     "output_type": "stream",
     "text": [
      "[2024-05-18T00:15:42.911386+0000][1043622][CRITICAL] load failed: module 'synthcity.plugins.generic.plugin_goggle' has no attribute 'plugin'\n",
      "[2024-05-18T00:15:42.911959+0000][1043622][CRITICAL] load failed: module 'synthcity.plugins.generic.plugin_goggle' has no attribute 'plugin'\n",
      "[2024-05-18T00:15:42.912339+0000][1043622][CRITICAL] module plugin_goggle load failed\n"
     ]
    },
    {
     "name": "stdout",
     "output_type": "stream",
     "text": [
      "Fitting arf covariate model\n",
      "Initial accuracy is 0.6869806094182825\n",
      "Iteration number 1 reached accuracy of 0.37465373961218834.\n",
      "Generating arf synthetic covariates\n",
      "Fitting propensity model\n",
      "Generating propensities\n",
      "Fitting CATE learner\n",
      "Generating POs\n"
     ]
    }
   ],
   "source": [
    "results_jobs = seq_test(jobs, 'arf', 'training', 're78', 20, save=True, fp='jobs_sequential_vs_standard_arf.csv')"
   ]
  },
  {
   "cell_type": "code",
   "execution_count": 28,
   "metadata": {},
   "outputs": [
    {
     "name": "stderr",
     "output_type": "stream",
     "text": [
      "[2024-05-18T00:25:13.599550+0000][1043622][CRITICAL] load failed: module 'synthcity.plugins.generic.plugin_goggle' has no attribute 'plugin'\n",
      "[2024-05-18T00:25:13.600290+0000][1043622][CRITICAL] load failed: module 'synthcity.plugins.generic.plugin_goggle' has no attribute 'plugin'\n",
      "[2024-05-18T00:25:13.600635+0000][1043622][CRITICAL] module plugin_goggle load failed\n"
     ]
    },
    {
     "name": "stdout",
     "output_type": "stream",
     "text": [
      "Fitting arf model\n",
      "Initial accuracy is 0.8976468138275718\n",
      "Iteration number 1 reached accuracy of 0.6500416493127863.\n",
      "Iteration number 2 reached accuracy of 0.6150562265722616.\n",
      "Iteration number 3 reached accuracy of 0.6447313619325281.\n",
      "Generating arf synthetic dataset\n"
     ]
    },
    {
     "name": "stderr",
     "output_type": "stream",
     "text": [
      "[2024-05-18T00:30:05.169492+0000][1043622][CRITICAL] load failed: module 'synthcity.plugins.generic.plugin_goggle' has no attribute 'plugin'\n",
      "[2024-05-18T00:30:05.170679+0000][1043622][CRITICAL] load failed: module 'synthcity.plugins.generic.plugin_goggle' has no attribute 'plugin'\n",
      "[2024-05-18T00:30:05.171026+0000][1043622][CRITICAL] module plugin_goggle load failed\n"
     ]
    },
    {
     "name": "stdout",
     "output_type": "stream",
     "text": [
      "Fitting arf covariate model\n",
      "Initial accuracy is 0.8876509787588505\n",
      "Iteration number 1 reached accuracy of 0.62161599333611.\n",
      "Iteration number 2 reached accuracy of 0.60932944606414.\n",
      "Iteration number 3 reached accuracy of 0.6326530612244898.\n",
      "Generating arf synthetic covariates\n",
      "Fitting propensity model\n",
      "Generating propensities\n",
      "Fitting CATE learner\n",
      "Generating POs\n"
     ]
    },
    {
     "name": "stderr",
     "output_type": "stream",
     "text": [
      "[2024-05-18T00:44:49.850264+0000][1043622][CRITICAL] load failed: module 'synthcity.plugins.generic.plugin_goggle' has no attribute 'plugin'\n",
      "[2024-05-18T00:44:49.852268+0000][1043622][CRITICAL] load failed: module 'synthcity.plugins.generic.plugin_goggle' has no attribute 'plugin'\n",
      "[2024-05-18T00:44:49.853462+0000][1043622][CRITICAL] module plugin_goggle load failed\n"
     ]
    },
    {
     "name": "stdout",
     "output_type": "stream",
     "text": [
      "Fitting arf model\n",
      "Initial accuracy is 0.9061849229487714\n",
      "Iteration number 1 reached accuracy of 0.6562890462307371.\n",
      "Iteration number 2 reached accuracy of 0.6629529362765514.\n",
      "Generating arf synthetic dataset\n"
     ]
    },
    {
     "name": "stderr",
     "output_type": "stream",
     "text": [
      "[2024-05-18T00:48:19.533024+0000][1043622][CRITICAL] load failed: module 'synthcity.plugins.generic.plugin_goggle' has no attribute 'plugin'\n",
      "[2024-05-18T00:48:19.534509+0000][1043622][CRITICAL] load failed: module 'synthcity.plugins.generic.plugin_goggle' has no attribute 'plugin'\n",
      "[2024-05-18T00:48:19.534892+0000][1043622][CRITICAL] module plugin_goggle load failed\n"
     ]
    },
    {
     "name": "stdout",
     "output_type": "stream",
     "text": [
      "Fitting arf covariate model\n",
      "Initial accuracy is 0.888692211578509\n",
      "Iteration number 1 reached accuracy of 0.6209912536443148.\n",
      "Iteration number 2 reached accuracy of 0.6152644731361933.\n",
      "Iteration number 3 reached accuracy of 0.6424406497292795.\n",
      "Generating arf synthetic covariates\n",
      "Fitting propensity model\n",
      "Generating propensities\n",
      "Fitting CATE learner\n",
      "Generating POs\n"
     ]
    },
    {
     "name": "stderr",
     "output_type": "stream",
     "text": [
      "[2024-05-18T01:02:29.001604+0000][1043622][CRITICAL] load failed: module 'synthcity.plugins.generic.plugin_goggle' has no attribute 'plugin'\n",
      "[2024-05-18T01:02:29.004896+0000][1043622][CRITICAL] load failed: module 'synthcity.plugins.generic.plugin_goggle' has no attribute 'plugin'\n",
      "[2024-05-18T01:02:29.005407+0000][1043622][CRITICAL] module plugin_goggle load failed\n"
     ]
    },
    {
     "name": "stdout",
     "output_type": "stream",
     "text": [
      "Fitting arf model\n",
      "Initial accuracy is 0.8874427321949188\n",
      "Iteration number 1 reached accuracy of 0.6534777176176593.\n",
      "Iteration number 2 reached accuracy of 0.630466472303207.\n",
      "Iteration number 3 reached accuracy of 0.6422324031653478.\n",
      "Generating arf synthetic dataset\n"
     ]
    },
    {
     "name": "stderr",
     "output_type": "stream",
     "text": [
      "[2024-05-18T01:07:17.812078+0000][1043622][CRITICAL] load failed: module 'synthcity.plugins.generic.plugin_goggle' has no attribute 'plugin'\n",
      "[2024-05-18T01:07:17.813402+0000][1043622][CRITICAL] load failed: module 'synthcity.plugins.generic.plugin_goggle' has no attribute 'plugin'\n",
      "[2024-05-18T01:07:17.813787+0000][1043622][CRITICAL] module plugin_goggle load failed\n"
     ]
    },
    {
     "name": "stdout",
     "output_type": "stream",
     "text": [
      "Fitting arf covariate model\n",
      "Initial accuracy is 0.8800499791753436\n",
      "Iteration number 1 reached accuracy of 0.6221366097459392.\n",
      "Iteration number 2 reached accuracy of 0.6252603082049146.\n",
      "Generating arf synthetic covariates\n",
      "Fitting propensity model\n",
      "Generating propensities\n",
      "Fitting CATE learner\n",
      "Generating POs\n"
     ]
    },
    {
     "name": "stderr",
     "output_type": "stream",
     "text": [
      "[2024-05-18T01:20:22.555205+0000][1043622][CRITICAL] load failed: module 'synthcity.plugins.generic.plugin_goggle' has no attribute 'plugin'\n",
      "[2024-05-18T01:20:22.557884+0000][1043622][CRITICAL] load failed: module 'synthcity.plugins.generic.plugin_goggle' has no attribute 'plugin'\n",
      "[2024-05-18T01:20:22.558867+0000][1043622][CRITICAL] module plugin_goggle load failed\n"
     ]
    },
    {
     "name": "stdout",
     "output_type": "stream",
     "text": [
      "Fitting arf model\n",
      "Initial accuracy is 0.8952519783423574\n",
      "Iteration number 1 reached accuracy of 0.6555601832569763.\n",
      "Iteration number 2 reached accuracy of 0.6370262390670554.\n",
      "Iteration number 3 reached accuracy of 0.647542690545606.\n",
      "Generating arf synthetic dataset\n"
     ]
    },
    {
     "name": "stderr",
     "output_type": "stream",
     "text": [
      "[2024-05-18T01:25:12.642977+0000][1043622][CRITICAL] load failed: module 'synthcity.plugins.generic.plugin_goggle' has no attribute 'plugin'\n",
      "[2024-05-18T01:25:12.644142+0000][1043622][CRITICAL] load failed: module 'synthcity.plugins.generic.plugin_goggle' has no attribute 'plugin'\n",
      "[2024-05-18T01:25:12.644553+0000][1043622][CRITICAL] module plugin_goggle load failed\n"
     ]
    },
    {
     "name": "stdout",
     "output_type": "stream",
     "text": [
      "Fitting arf covariate model\n",
      "Initial accuracy is 0.8877551020408163\n",
      "Iteration number 1 reached accuracy of 0.6193252811328613.\n",
      "Iteration number 2 reached accuracy of 0.6239067055393586.\n",
      "Generating arf synthetic covariates\n",
      "Fitting propensity model\n",
      "Generating propensities\n",
      "Fitting CATE learner\n",
      "Generating POs\n"
     ]
    },
    {
     "name": "stderr",
     "output_type": "stream",
     "text": [
      "[2024-05-18T01:38:20.959546+0000][1043622][CRITICAL] load failed: module 'synthcity.plugins.generic.plugin_goggle' has no attribute 'plugin'\n",
      "[2024-05-18T01:38:20.961770+0000][1043622][CRITICAL] load failed: module 'synthcity.plugins.generic.plugin_goggle' has no attribute 'plugin'\n",
      "[2024-05-18T01:38:20.962790+0000][1043622][CRITICAL] module plugin_goggle load failed\n"
     ]
    },
    {
     "name": "stdout",
     "output_type": "stream",
     "text": [
      "Fitting arf model\n",
      "Initial accuracy is 0.8946272386505623\n",
      "Iteration number 1 reached accuracy of 0.6561849229487714.\n",
      "Iteration number 2 reached accuracy of 0.6356726364014994.\n",
      "Iteration number 3 reached accuracy of 0.6358808829654311.\n",
      "Generating arf synthetic dataset\n"
     ]
    },
    {
     "name": "stderr",
     "output_type": "stream",
     "text": [
      "[2024-05-18T01:43:08.514390+0000][1043622][CRITICAL] load failed: module 'synthcity.plugins.generic.plugin_goggle' has no attribute 'plugin'\n",
      "[2024-05-18T01:43:08.515420+0000][1043622][CRITICAL] load failed: module 'synthcity.plugins.generic.plugin_goggle' has no attribute 'plugin'\n",
      "[2024-05-18T01:43:08.516282+0000][1043622][CRITICAL] module plugin_goggle load failed\n"
     ]
    },
    {
     "name": "stdout",
     "output_type": "stream",
     "text": [
      "Fitting arf covariate model\n",
      "Initial accuracy is 0.8922324031653478\n",
      "Iteration number 1 reached accuracy of 0.6329654310703874.\n",
      "Iteration number 2 reached accuracy of 0.6401499375260308.\n",
      "Generating arf synthetic covariates\n",
      "Fitting propensity model\n",
      "Generating propensities\n",
      "Fitting CATE learner\n",
      "Generating POs\n"
     ]
    },
    {
     "name": "stderr",
     "output_type": "stream",
     "text": [
      "[2024-05-18T01:56:06.500481+0000][1043622][CRITICAL] load failed: module 'synthcity.plugins.generic.plugin_goggle' has no attribute 'plugin'\n",
      "[2024-05-18T01:56:06.502855+0000][1043622][CRITICAL] load failed: module 'synthcity.plugins.generic.plugin_goggle' has no attribute 'plugin'\n",
      "[2024-05-18T01:56:06.503522+0000][1043622][CRITICAL] module plugin_goggle load failed\n"
     ]
    },
    {
     "name": "stdout",
     "output_type": "stream",
     "text": [
      "Fitting arf model\n",
      "Initial accuracy is 0.8904623073719283\n",
      "Iteration number 1 reached accuracy of 0.6679508538109121.\n",
      "Iteration number 2 reached accuracy of 0.6234902124114952.\n",
      "Iteration number 3 reached accuracy of 0.6367138692211578.\n",
      "Generating arf synthetic dataset\n"
     ]
    },
    {
     "name": "stderr",
     "output_type": "stream",
     "text": [
      "[2024-05-18T02:00:57.593508+0000][1043622][CRITICAL] load failed: module 'synthcity.plugins.generic.plugin_goggle' has no attribute 'plugin'\n",
      "[2024-05-18T02:00:57.594518+0000][1043622][CRITICAL] load failed: module 'synthcity.plugins.generic.plugin_goggle' has no attribute 'plugin'\n",
      "[2024-05-18T02:00:57.594981+0000][1043622][CRITICAL] module plugin_goggle load failed\n"
     ]
    },
    {
     "name": "stdout",
     "output_type": "stream",
     "text": [
      "Fitting arf covariate model\n",
      "Initial accuracy is 0.8893169512703041\n",
      "Iteration number 1 reached accuracy of 0.6350478967097043.\n",
      "Iteration number 2 reached accuracy of 0.6378592253227822.\n",
      "Generating arf synthetic covariates\n",
      "Fitting propensity model\n",
      "Generating propensities\n",
      "Fitting CATE learner\n",
      "Generating POs\n"
     ]
    },
    {
     "name": "stderr",
     "output_type": "stream",
     "text": [
      "[2024-05-18T02:13:56.197139+0000][1043622][CRITICAL] load failed: module 'synthcity.plugins.generic.plugin_goggle' has no attribute 'plugin'\n",
      "[2024-05-18T02:13:56.200113+0000][1043622][CRITICAL] load failed: module 'synthcity.plugins.generic.plugin_goggle' has no attribute 'plugin'\n",
      "[2024-05-18T02:13:56.201151+0000][1043622][CRITICAL] module plugin_goggle load failed\n"
     ]
    },
    {
     "name": "stdout",
     "output_type": "stream",
     "text": [
      "Fitting arf model\n",
      "Initial accuracy is 0.903685964181591\n",
      "Iteration number 1 reached accuracy of 0.6583715118700542.\n",
      "Iteration number 2 reached accuracy of 0.638692211578509.\n",
      "Iteration number 3 reached accuracy of 0.6236984589754269.\n",
      "Iteration number 4 reached accuracy of 0.6591003748438151.\n",
      "Generating arf synthetic dataset\n"
     ]
    },
    {
     "name": "stderr",
     "output_type": "stream",
     "text": [
      "[2024-05-18T02:20:01.875129+0000][1043622][CRITICAL] load failed: module 'synthcity.plugins.generic.plugin_goggle' has no attribute 'plugin'\n",
      "[2024-05-18T02:20:01.876321+0000][1043622][CRITICAL] load failed: module 'synthcity.plugins.generic.plugin_goggle' has no attribute 'plugin'\n",
      "[2024-05-18T02:20:01.876737+0000][1043622][CRITICAL] module plugin_goggle load failed\n"
     ]
    },
    {
     "name": "stdout",
     "output_type": "stream",
     "text": [
      "Fitting arf covariate model\n",
      "Initial accuracy is 0.8922324031653478\n",
      "Iteration number 1 reached accuracy of 0.6202623906705539.\n",
      "Iteration number 2 reached accuracy of 0.6150562265722616.\n",
      "Iteration number 3 reached accuracy of 0.599750104123282.\n",
      "Iteration number 4 reached accuracy of 0.60932944606414.\n",
      "Generating arf synthetic covariates\n",
      "Fitting propensity model\n",
      "Generating propensities\n",
      "Fitting CATE learner\n",
      "Generating POs\n"
     ]
    },
    {
     "name": "stderr",
     "output_type": "stream",
     "text": [
      "[2024-05-18T02:35:27.350467+0000][1043622][CRITICAL] load failed: module 'synthcity.plugins.generic.plugin_goggle' has no attribute 'plugin'\n",
      "[2024-05-18T02:35:27.353280+0000][1043622][CRITICAL] load failed: module 'synthcity.plugins.generic.plugin_goggle' has no attribute 'plugin'\n",
      "[2024-05-18T02:35:27.353882+0000][1043622][CRITICAL] module plugin_goggle load failed\n"
     ]
    },
    {
     "name": "stdout",
     "output_type": "stream",
     "text": [
      "Fitting arf model\n",
      "Initial accuracy is 0.898896293211162\n",
      "Iteration number 1 reached accuracy of 0.6392128279883382.\n",
      "Iteration number 2 reached accuracy of 0.6579550187421908.\n",
      "Generating arf synthetic dataset\n"
     ]
    },
    {
     "name": "stderr",
     "output_type": "stream",
     "text": [
      "[2024-05-18T02:38:59.190231+0000][1043622][CRITICAL] load failed: module 'synthcity.plugins.generic.plugin_goggle' has no attribute 'plugin'\n",
      "[2024-05-18T02:38:59.191658+0000][1043622][CRITICAL] load failed: module 'synthcity.plugins.generic.plugin_goggle' has no attribute 'plugin'\n",
      "[2024-05-18T02:38:59.192087+0000][1043622][CRITICAL] module plugin_goggle load failed\n"
     ]
    },
    {
     "name": "stdout",
     "output_type": "stream",
     "text": [
      "Fitting arf covariate model\n",
      "Initial accuracy is 0.8936901291128696\n",
      "Iteration number 1 reached accuracy of 0.6160974593919201.\n",
      "Iteration number 2 reached accuracy of 0.6422324031653478.\n",
      "Generating arf synthetic covariates\n",
      "Fitting propensity model\n",
      "Generating propensities\n",
      "Fitting CATE learner\n",
      "Generating POs\n"
     ]
    },
    {
     "name": "stderr",
     "output_type": "stream",
     "text": [
      "[2024-05-18T02:51:56.058288+0000][1043622][CRITICAL] load failed: module 'synthcity.plugins.generic.plugin_goggle' has no attribute 'plugin'\n",
      "[2024-05-18T02:51:56.059602+0000][1043622][CRITICAL] load failed: module 'synthcity.plugins.generic.plugin_goggle' has no attribute 'plugin'\n",
      "[2024-05-18T02:51:56.060068+0000][1043622][CRITICAL] module plugin_goggle load failed\n"
     ]
    },
    {
     "name": "stdout",
     "output_type": "stream",
     "text": [
      "Fitting arf model\n",
      "Initial accuracy is 0.898896293211162\n",
      "Iteration number 1 reached accuracy of 0.6445231153685964.\n",
      "Iteration number 2 reached accuracy of 0.6295293627655144.\n",
      "Iteration number 3 reached accuracy of 0.6456684714702208.\n",
      "Generating arf synthetic dataset\n"
     ]
    },
    {
     "name": "stderr",
     "output_type": "stream",
     "text": [
      "[2024-05-18T02:56:44.238845+0000][1043622][CRITICAL] load failed: module 'synthcity.plugins.generic.plugin_goggle' has no attribute 'plugin'\n",
      "[2024-05-18T02:56:44.240321+0000][1043622][CRITICAL] load failed: module 'synthcity.plugins.generic.plugin_goggle' has no attribute 'plugin'\n",
      "[2024-05-18T02:56:44.240858+0000][1043622][CRITICAL] module plugin_goggle load failed\n"
     ]
    },
    {
     "name": "stdout",
     "output_type": "stream",
     "text": [
      "Fitting arf covariate model\n",
      "Initial accuracy is 0.8815077051228655\n",
      "Iteration number 1 reached accuracy of 0.6306747188671387.\n",
      "Iteration number 2 reached accuracy of 0.6349437734277384.\n",
      "Generating arf synthetic covariates\n",
      "Fitting propensity model\n",
      "Generating propensities\n",
      "Fitting CATE learner\n",
      "Generating POs\n"
     ]
    },
    {
     "name": "stderr",
     "output_type": "stream",
     "text": [
      "[2024-05-18T03:09:23.825332+0000][1043622][CRITICAL] load failed: module 'synthcity.plugins.generic.plugin_goggle' has no attribute 'plugin'\n",
      "[2024-05-18T03:09:23.827658+0000][1043622][CRITICAL] load failed: module 'synthcity.plugins.generic.plugin_goggle' has no attribute 'plugin'\n",
      "[2024-05-18T03:09:23.828628+0000][1043622][CRITICAL] module plugin_goggle load failed\n"
     ]
    },
    {
     "name": "stdout",
     "output_type": "stream",
     "text": [
      "Fitting arf model\n",
      "Initial accuracy is 0.8919200333194502\n",
      "Iteration number 1 reached accuracy of 0.6524364847980009.\n",
      "Iteration number 2 reached accuracy of 0.6387963348604748.\n",
      "Iteration number 3 reached accuracy of 0.6314035818408996.\n",
      "Iteration number 4 reached accuracy of 0.6184922948771345.\n",
      "Iteration number 5 reached accuracy of 0.6392128279883382.\n",
      "Generating arf synthetic dataset\n"
     ]
    },
    {
     "name": "stderr",
     "output_type": "stream",
     "text": [
      "[2024-05-18T03:16:42.663133+0000][1043622][CRITICAL] load failed: module 'synthcity.plugins.generic.plugin_goggle' has no attribute 'plugin'\n",
      "[2024-05-18T03:16:42.664593+0000][1043622][CRITICAL] load failed: module 'synthcity.plugins.generic.plugin_goggle' has no attribute 'plugin'\n",
      "[2024-05-18T03:16:42.665072+0000][1043622][CRITICAL] module plugin_goggle load failed\n"
     ]
    },
    {
     "name": "stdout",
     "output_type": "stream",
     "text": [
      "Fitting arf covariate model\n",
      "Initial accuracy is 0.8916076634735527\n",
      "Iteration number 1 reached accuracy of 0.6396293211162016.\n",
      "Iteration number 2 reached accuracy of 0.6330695543523532.\n",
      "Iteration number 3 reached accuracy of 0.6141191170345689.\n",
      "Iteration number 4 reached accuracy of 0.6280716368179925.\n",
      "Generating arf synthetic covariates\n",
      "Fitting propensity model\n",
      "Generating propensities\n",
      "Fitting CATE learner\n",
      "Generating POs\n"
     ]
    },
    {
     "name": "stderr",
     "output_type": "stream",
     "text": [
      "[2024-05-18T03:32:02.674634+0000][1043622][CRITICAL] load failed: module 'synthcity.plugins.generic.plugin_goggle' has no attribute 'plugin'\n",
      "[2024-05-18T03:32:02.675570+0000][1043622][CRITICAL] load failed: module 'synthcity.plugins.generic.plugin_goggle' has no attribute 'plugin'\n",
      "[2024-05-18T03:32:02.676026+0000][1043622][CRITICAL] module plugin_goggle load failed\n"
     ]
    },
    {
     "name": "stdout",
     "output_type": "stream",
     "text": [
      "Fitting arf model\n",
      "Initial accuracy is 0.8963973344439816\n",
      "Iteration number 1 reached accuracy of 0.6633694294044148.\n",
      "Iteration number 2 reached accuracy of 0.6373386089129529.\n",
      "Iteration number 3 reached accuracy of 0.6281757600999583.\n",
      "Iteration number 4 reached accuracy of 0.6355685131195336.\n",
      "Generating arf synthetic dataset\n"
     ]
    },
    {
     "name": "stderr",
     "output_type": "stream",
     "text": [
      "[2024-05-18T03:38:04.432938+0000][1043622][CRITICAL] load failed: module 'synthcity.plugins.generic.plugin_goggle' has no attribute 'plugin'\n",
      "[2024-05-18T03:38:04.434246+0000][1043622][CRITICAL] load failed: module 'synthcity.plugins.generic.plugin_goggle' has no attribute 'plugin'\n",
      "[2024-05-18T03:38:04.434659+0000][1043622][CRITICAL] module plugin_goggle load failed\n"
     ]
    },
    {
     "name": "stdout",
     "output_type": "stream",
     "text": [
      "Fitting arf covariate model\n",
      "Initial accuracy is 0.892128279883382\n",
      "Iteration number 1 reached accuracy of 0.6362973760932945.\n",
      "Iteration number 2 reached accuracy of 0.6008954602249063.\n",
      "Iteration number 3 reached accuracy of 0.62838400666389.\n",
      "Generating arf synthetic covariates\n",
      "Fitting propensity model\n",
      "Generating propensities\n",
      "Fitting CATE learner\n",
      "Generating POs\n"
     ]
    },
    {
     "name": "stderr",
     "output_type": "stream",
     "text": [
      "[2024-05-18T03:52:10.574417+0000][1043622][CRITICAL] load failed: module 'synthcity.plugins.generic.plugin_goggle' has no attribute 'plugin'\n",
      "[2024-05-18T03:52:10.575277+0000][1043622][CRITICAL] load failed: module 'synthcity.plugins.generic.plugin_goggle' has no attribute 'plugin'\n",
      "[2024-05-18T03:52:10.575922+0000][1043622][CRITICAL] module plugin_goggle load failed\n"
     ]
    },
    {
     "name": "stdout",
     "output_type": "stream",
     "text": [
      "Fitting arf model\n",
      "Initial accuracy is 0.89618908788005\n",
      "Iteration number 1 reached accuracy of 0.6552478134110787.\n",
      "Iteration number 2 reached accuracy of 0.6483756768013328.\n",
      "Iteration number 3 reached accuracy of 0.6385880882965431.\n",
      "Iteration number 4 reached accuracy of 0.6613910870470637.\n",
      "Generating arf synthetic dataset\n"
     ]
    },
    {
     "name": "stderr",
     "output_type": "stream",
     "text": [
      "[2024-05-18T03:58:15.093888+0000][1043622][CRITICAL] load failed: module 'synthcity.plugins.generic.plugin_goggle' has no attribute 'plugin'\n",
      "[2024-05-18T03:58:15.095286+0000][1043622][CRITICAL] load failed: module 'synthcity.plugins.generic.plugin_goggle' has no attribute 'plugin'\n",
      "[2024-05-18T03:58:15.095675+0000][1043622][CRITICAL] module plugin_goggle load failed\n"
     ]
    },
    {
     "name": "stdout",
     "output_type": "stream",
     "text": [
      "Fitting arf covariate model\n",
      "Initial accuracy is 0.8909829237817576\n",
      "Iteration number 1 reached accuracy of 0.6315077051228655.\n",
      "Iteration number 2 reached accuracy of 0.6351520199916701.\n",
      "Generating arf synthetic covariates\n",
      "Fitting propensity model\n",
      "Generating propensities\n",
      "Fitting CATE learner\n",
      "Generating POs\n"
     ]
    },
    {
     "name": "stderr",
     "output_type": "stream",
     "text": [
      "[2024-05-18T04:10:41.406711+0000][1043622][CRITICAL] load failed: module 'synthcity.plugins.generic.plugin_goggle' has no attribute 'plugin'\n",
      "[2024-05-18T04:10:41.410198+0000][1043622][CRITICAL] load failed: module 'synthcity.plugins.generic.plugin_goggle' has no attribute 'plugin'\n",
      "[2024-05-18T04:10:41.410938+0000][1043622][CRITICAL] module plugin_goggle load failed\n"
     ]
    },
    {
     "name": "stdout",
     "output_type": "stream",
     "text": [
      "Fitting arf model\n",
      "Initial accuracy is 0.9051436901291129\n",
      "Iteration number 1 reached accuracy of 0.6531653477717617.\n",
      "Iteration number 2 reached accuracy of 0.6650354019158684.\n",
      "Generating arf synthetic dataset\n"
     ]
    },
    {
     "name": "stderr",
     "output_type": "stream",
     "text": [
      "[2024-05-18T04:14:11.640100+0000][1043622][CRITICAL] load failed: module 'synthcity.plugins.generic.plugin_goggle' has no attribute 'plugin'\n",
      "[2024-05-18T04:14:11.641144+0000][1043622][CRITICAL] load failed: module 'synthcity.plugins.generic.plugin_goggle' has no attribute 'plugin'\n",
      "[2024-05-18T04:14:11.641611+0000][1043622][CRITICAL] module plugin_goggle load failed\n"
     ]
    },
    {
     "name": "stdout",
     "output_type": "stream",
     "text": [
      "Fitting arf covariate model\n",
      "Initial accuracy is 0.8856726364014994\n",
      "Iteration number 1 reached accuracy of 0.6434818825489379.\n",
      "Iteration number 2 reached accuracy of 0.6279675135360266.\n",
      "Iteration number 3 reached accuracy of 0.6191170345689296.\n",
      "Iteration number 4 reached accuracy of 0.6460849645980842.\n",
      "Generating arf synthetic covariates\n",
      "Fitting propensity model\n",
      "Generating propensities\n",
      "Fitting CATE learner\n",
      "Generating POs\n"
     ]
    },
    {
     "name": "stderr",
     "output_type": "stream",
     "text": [
      "[2024-05-18T04:30:09.427368+0000][1043622][CRITICAL] load failed: module 'synthcity.plugins.generic.plugin_goggle' has no attribute 'plugin'\n",
      "[2024-05-18T04:30:09.428080+0000][1043622][CRITICAL] load failed: module 'synthcity.plugins.generic.plugin_goggle' has no attribute 'plugin'\n",
      "[2024-05-18T04:30:09.429690+0000][1043622][CRITICAL] module plugin_goggle load failed\n"
     ]
    },
    {
     "name": "stdout",
     "output_type": "stream",
     "text": [
      "Fitting arf model\n",
      "Initial accuracy is 0.8942107455226989\n",
      "Iteration number 1 reached accuracy of 0.6490004164931279.\n",
      "Iteration number 2 reached accuracy of 0.6307788421491045.\n",
      "Iteration number 3 reached accuracy of 0.6230737192836319.\n",
      "Iteration number 4 reached accuracy of 0.6410870470637234.\n",
      "Generating arf synthetic dataset\n"
     ]
    },
    {
     "name": "stderr",
     "output_type": "stream",
     "text": [
      "[2024-05-18T04:36:10.688559+0000][1043622][CRITICAL] load failed: module 'synthcity.plugins.generic.plugin_goggle' has no attribute 'plugin'\n",
      "[2024-05-18T04:36:10.689856+0000][1043622][CRITICAL] load failed: module 'synthcity.plugins.generic.plugin_goggle' has no attribute 'plugin'\n",
      "[2024-05-18T04:36:10.690248+0000][1043622][CRITICAL] module plugin_goggle load failed\n"
     ]
    },
    {
     "name": "stdout",
     "output_type": "stream",
     "text": [
      "Fitting arf covariate model\n",
      "Initial accuracy is 0.8782798833819242\n",
      "Iteration number 1 reached accuracy of 0.6365056226572262.\n",
      "Iteration number 2 reached accuracy of 0.636609745939192.\n",
      "Generating arf synthetic covariates\n",
      "Fitting propensity model\n",
      "Generating propensities\n",
      "Fitting CATE learner\n",
      "Generating POs\n"
     ]
    },
    {
     "name": "stderr",
     "output_type": "stream",
     "text": [
      "[2024-05-18T04:48:58.875770+0000][1043622][CRITICAL] load failed: module 'synthcity.plugins.generic.plugin_goggle' has no attribute 'plugin'\n",
      "[2024-05-18T04:48:58.877940+0000][1043622][CRITICAL] load failed: module 'synthcity.plugins.generic.plugin_goggle' has no attribute 'plugin'\n",
      "[2024-05-18T04:48:58.878956+0000][1043622][CRITICAL] module plugin_goggle load failed\n"
     ]
    },
    {
     "name": "stdout",
     "output_type": "stream",
     "text": [
      "Fitting arf model\n",
      "Initial accuracy is 0.89067055393586\n",
      "Iteration number 1 reached accuracy of 0.6456684714702208.\n",
      "Iteration number 2 reached accuracy of 0.6272386505622657.\n",
      "Iteration number 3 reached accuracy of 0.6339025406080799.\n",
      "Generating arf synthetic dataset\n"
     ]
    },
    {
     "name": "stderr",
     "output_type": "stream",
     "text": [
      "[2024-05-18T04:53:44.466282+0000][1043622][CRITICAL] load failed: module 'synthcity.plugins.generic.plugin_goggle' has no attribute 'plugin'\n",
      "[2024-05-18T04:53:44.467327+0000][1043622][CRITICAL] load failed: module 'synthcity.plugins.generic.plugin_goggle' has no attribute 'plugin'\n",
      "[2024-05-18T04:53:44.467691+0000][1043622][CRITICAL] module plugin_goggle load failed\n"
     ]
    },
    {
     "name": "stdout",
     "output_type": "stream",
     "text": [
      "Fitting arf covariate model\n",
      "Initial accuracy is 0.8911911703456893\n",
      "Iteration number 1 reached accuracy of 0.6460849645980842.\n",
      "Iteration number 2 reached accuracy of 0.6134943773427738.\n",
      "Iteration number 3 reached accuracy of 0.60932944606414.\n",
      "Iteration number 4 reached accuracy of 0.625676801332778.\n",
      "Generating arf synthetic covariates\n",
      "Fitting propensity model\n",
      "Generating propensities\n",
      "Fitting CATE learner\n",
      "Generating POs\n"
     ]
    },
    {
     "name": "stderr",
     "output_type": "stream",
     "text": [
      "[2024-05-18T05:08:28.431673+0000][1043622][CRITICAL] load failed: module 'synthcity.plugins.generic.plugin_goggle' has no attribute 'plugin'\n",
      "[2024-05-18T05:08:28.432518+0000][1043622][CRITICAL] load failed: module 'synthcity.plugins.generic.plugin_goggle' has no attribute 'plugin'\n",
      "[2024-05-18T05:08:28.432860+0000][1043622][CRITICAL] module plugin_goggle load failed\n"
     ]
    },
    {
     "name": "stdout",
     "output_type": "stream",
     "text": [
      "Fitting arf model\n",
      "Initial accuracy is 0.894835485214494\n",
      "Iteration number 1 reached accuracy of 0.665347771761766.\n",
      "Iteration number 2 reached accuracy of 0.6314035818408996.\n",
      "Iteration number 3 reached accuracy of 0.6387963348604748.\n",
      "Generating arf synthetic dataset\n"
     ]
    },
    {
     "name": "stderr",
     "output_type": "stream",
     "text": [
      "[2024-05-18T05:13:17.260243+0000][1043622][CRITICAL] load failed: module 'synthcity.plugins.generic.plugin_goggle' has no attribute 'plugin'\n",
      "[2024-05-18T05:13:17.260967+0000][1043622][CRITICAL] load failed: module 'synthcity.plugins.generic.plugin_goggle' has no attribute 'plugin'\n",
      "[2024-05-18T05:13:17.261359+0000][1043622][CRITICAL] module plugin_goggle load failed\n"
     ]
    },
    {
     "name": "stdout",
     "output_type": "stream",
     "text": [
      "Fitting arf covariate model\n",
      "Initial accuracy is 0.8912952936276551\n",
      "Iteration number 1 reached accuracy of 0.6369221157850895.\n",
      "Iteration number 2 reached accuracy of 0.6358808829654311.\n",
      "Iteration number 3 reached accuracy of 0.6105789254477301.\n",
      "Iteration number 4 reached accuracy of 0.6114119117034569.\n",
      "Generating arf synthetic covariates\n",
      "Fitting propensity model\n",
      "Generating propensities\n",
      "Fitting CATE learner\n",
      "Generating POs\n"
     ]
    },
    {
     "name": "stderr",
     "output_type": "stream",
     "text": [
      "[2024-05-18T05:29:02.348697+0000][1043622][CRITICAL] load failed: module 'synthcity.plugins.generic.plugin_goggle' has no attribute 'plugin'\n",
      "[2024-05-18T05:29:02.350949+0000][1043622][CRITICAL] load failed: module 'synthcity.plugins.generic.plugin_goggle' has no attribute 'plugin'\n",
      "[2024-05-18T05:29:02.351552+0000][1043622][CRITICAL] module plugin_goggle load failed\n"
     ]
    },
    {
     "name": "stdout",
     "output_type": "stream",
     "text": [
      "Fitting arf model\n",
      "Initial accuracy is 0.9026447313619326\n",
      "Iteration number 1 reached accuracy of 0.6569137859225322.\n",
      "Iteration number 2 reached accuracy of 0.6309870887130362.\n",
      "Iteration number 3 reached accuracy of 0.6387963348604748.\n",
      "Generating arf synthetic dataset\n"
     ]
    },
    {
     "name": "stderr",
     "output_type": "stream",
     "text": [
      "[2024-05-18T05:33:52.974059+0000][1043622][CRITICAL] load failed: module 'synthcity.plugins.generic.plugin_goggle' has no attribute 'plugin'\n",
      "[2024-05-18T05:33:52.975217+0000][1043622][CRITICAL] load failed: module 'synthcity.plugins.generic.plugin_goggle' has no attribute 'plugin'\n",
      "[2024-05-18T05:33:52.975639+0000][1043622][CRITICAL] module plugin_goggle load failed\n"
     ]
    },
    {
     "name": "stdout",
     "output_type": "stream",
     "text": [
      "Fitting arf covariate model\n",
      "Initial accuracy is 0.8840066638900458\n",
      "Iteration number 1 reached accuracy of 0.626405664306539.\n",
      "Iteration number 2 reached accuracy of 0.6446272386505623.\n",
      "Generating arf synthetic covariates\n",
      "Fitting propensity model\n",
      "Generating propensities\n",
      "Fitting CATE learner\n",
      "Generating POs\n"
     ]
    },
    {
     "name": "stderr",
     "output_type": "stream",
     "text": [
      "[2024-05-18T05:46:55.933827+0000][1043622][CRITICAL] load failed: module 'synthcity.plugins.generic.plugin_goggle' has no attribute 'plugin'\n",
      "[2024-05-18T05:46:55.934561+0000][1043622][CRITICAL] load failed: module 'synthcity.plugins.generic.plugin_goggle' has no attribute 'plugin'\n",
      "[2024-05-18T05:46:55.936224+0000][1043622][CRITICAL] module plugin_goggle load failed\n"
     ]
    },
    {
     "name": "stdout",
     "output_type": "stream",
     "text": [
      "Fitting arf model\n",
      "Initial accuracy is 0.8987921699291962\n",
      "Iteration number 1 reached accuracy of 0.6442107455226989.\n",
      "Iteration number 2 reached accuracy of 0.6245314452311537.\n",
      "Iteration number 3 reached accuracy of 0.6269262807163681.\n",
      "Generating arf synthetic dataset\n"
     ]
    },
    {
     "name": "stderr",
     "output_type": "stream",
     "text": [
      "[2024-05-18T05:51:44.179290+0000][1043622][CRITICAL] load failed: module 'synthcity.plugins.generic.plugin_goggle' has no attribute 'plugin'\n",
      "[2024-05-18T05:51:44.179996+0000][1043622][CRITICAL] load failed: module 'synthcity.plugins.generic.plugin_goggle' has no attribute 'plugin'\n",
      "[2024-05-18T05:51:44.180401+0000][1043622][CRITICAL] module plugin_goggle load failed\n"
     ]
    },
    {
     "name": "stdout",
     "output_type": "stream",
     "text": [
      "Fitting arf covariate model\n",
      "Initial accuracy is 0.8946272386505623\n",
      "Iteration number 1 reached accuracy of 0.6083923365264473.\n",
      "Iteration number 2 reached accuracy of 0.6445231153685964.\n",
      "Generating arf synthetic covariates\n",
      "Fitting propensity model\n",
      "Generating propensities\n",
      "Fitting CATE learner\n",
      "Generating POs\n"
     ]
    },
    {
     "name": "stderr",
     "output_type": "stream",
     "text": [
      "[2024-05-18T06:04:22.006896+0000][1043622][CRITICAL] load failed: module 'synthcity.plugins.generic.plugin_goggle' has no attribute 'plugin'\n",
      "[2024-05-18T06:04:22.007607+0000][1043622][CRITICAL] load failed: module 'synthcity.plugins.generic.plugin_goggle' has no attribute 'plugin'\n",
      "[2024-05-18T06:04:22.010591+0000][1043622][CRITICAL] module plugin_goggle load failed\n"
     ]
    },
    {
     "name": "stdout",
     "output_type": "stream",
     "text": [
      "Fitting arf model\n",
      "Initial accuracy is 0.9069137859225322\n",
      "Iteration number 1 reached accuracy of 0.6531653477717617.\n",
      "Iteration number 2 reached accuracy of 0.6410870470637234.\n",
      "Iteration number 3 reached accuracy of 0.6241149521032903.\n",
      "Iteration number 4 reached accuracy of 0.6425447730112454.\n",
      "Generating arf synthetic dataset\n"
     ]
    },
    {
     "name": "stderr",
     "output_type": "stream",
     "text": [
      "[2024-05-18T06:10:27.055208+0000][1043622][CRITICAL] load failed: module 'synthcity.plugins.generic.plugin_goggle' has no attribute 'plugin'\n",
      "[2024-05-18T06:10:27.056211+0000][1043622][CRITICAL] load failed: module 'synthcity.plugins.generic.plugin_goggle' has no attribute 'plugin'\n",
      "[2024-05-18T06:10:27.056582+0000][1043622][CRITICAL] module plugin_goggle load failed\n"
     ]
    },
    {
     "name": "stdout",
     "output_type": "stream",
     "text": [
      "Fitting arf covariate model\n",
      "Initial accuracy is 0.8959808413161183\n",
      "Iteration number 1 reached accuracy of 0.6269262807163681.\n",
      "Iteration number 2 reached accuracy of 0.6480633069554352.\n",
      "Generating arf synthetic covariates\n",
      "Fitting propensity model\n",
      "Generating propensities\n",
      "Fitting CATE learner\n",
      "Generating POs\n"
     ]
    },
    {
     "name": "stderr",
     "output_type": "stream",
     "text": [
      "[2024-05-18T06:23:23.380138+0000][1043622][CRITICAL] load failed: module 'synthcity.plugins.generic.plugin_goggle' has no attribute 'plugin'\n",
      "[2024-05-18T06:23:23.380854+0000][1043622][CRITICAL] load failed: module 'synthcity.plugins.generic.plugin_goggle' has no attribute 'plugin'\n",
      "[2024-05-18T06:23:23.382217+0000][1043622][CRITICAL] module plugin_goggle load failed\n"
     ]
    },
    {
     "name": "stdout",
     "output_type": "stream",
     "text": [
      "Fitting arf model\n",
      "Initial accuracy is 0.8977509371095377\n",
      "Iteration number 1 reached accuracy of 0.6599333610995418.\n",
      "Iteration number 2 reached accuracy of 0.6401499375260308.\n",
      "Iteration number 3 reached accuracy of 0.6274468971261974.\n",
      "Iteration number 4 reached accuracy of 0.6081840899625156.\n",
      "Iteration number 5 reached accuracy of 0.6395251978342358.\n",
      "Generating arf synthetic dataset\n"
     ]
    },
    {
     "name": "stderr",
     "output_type": "stream",
     "text": [
      "[2024-05-18T06:30:44.546515+0000][1043622][CRITICAL] load failed: module 'synthcity.plugins.generic.plugin_goggle' has no attribute 'plugin'\n",
      "[2024-05-18T06:30:44.547448+0000][1043622][CRITICAL] load failed: module 'synthcity.plugins.generic.plugin_goggle' has no attribute 'plugin'\n",
      "[2024-05-18T06:30:44.547853+0000][1043622][CRITICAL] module plugin_goggle load failed\n"
     ]
    },
    {
     "name": "stdout",
     "output_type": "stream",
     "text": [
      "Fitting arf covariate model\n",
      "Initial accuracy is 0.8970220741357767\n",
      "Iteration number 1 reached accuracy of 0.64618908788005.\n",
      "Iteration number 2 reached accuracy of 0.6167221990837152.\n",
      "Iteration number 3 reached accuracy of 0.6393169512703041.\n",
      "Generating arf synthetic covariates\n",
      "Fitting propensity model\n",
      "Generating propensities\n",
      "Fitting CATE learner\n",
      "Generating POs\n"
     ]
    }
   ],
   "source": [
    "results_acic = seq_test(acic_encoded, 'arf', 'z', 'y', 20, save=True, fp='acic_sequential_vs_standard_arf.csv')"
   ]
  },
  {
   "cell_type": "code",
   "execution_count": 36,
   "id": "e09c177b",
   "metadata": {},
   "outputs": [
    {
     "name": "stderr",
     "output_type": "stream",
     "text": [
      "[2024-05-18T08:30:01.011497+0000][1043622][CRITICAL] load failed: module 'synthcity.plugins.generic.plugin_goggle' has no attribute 'plugin'\n",
      "[2024-05-18T08:30:01.012379+0000][1043622][CRITICAL] load failed: module 'synthcity.plugins.generic.plugin_goggle' has no attribute 'plugin'\n",
      "[2024-05-18T08:30:01.013051+0000][1043622][CRITICAL] module plugin_goggle load failed\n"
     ]
    },
    {
     "name": "stdout",
     "output_type": "stream",
     "text": [
      "Fitting ddpm covariate model\n"
     ]
    },
    {
     "name": "stderr",
     "output_type": "stream",
     "text": [
      "Epoch: 100%|██████████| 1000/1000 [00:12<00:00, 80.30it/s, loss=0.781]\n"
     ]
    },
    {
     "name": "stdout",
     "output_type": "stream",
     "text": [
      "Generating ddpm synthetic covariates\n",
      "Fitting propensity model\n",
      "Generating propensities\n",
      "Fitting CATE learner\n",
      "Generating POs\n"
     ]
    }
   ],
   "source": [
    "test = generate_sequentially(jobs, 'ddpm', 'training', 're78')"
   ]
  },
  {
   "cell_type": "code",
   "execution_count": 37,
   "id": "f8970292",
   "metadata": {},
   "outputs": [
    {
     "data": {
      "text/html": [
       "<div>\n",
       "<style scoped>\n",
       "    .dataframe tbody tr th:only-of-type {\n",
       "        vertical-align: middle;\n",
       "    }\n",
       "\n",
       "    .dataframe tbody tr th {\n",
       "        vertical-align: top;\n",
       "    }\n",
       "\n",
       "    .dataframe thead th {\n",
       "        text-align: right;\n",
       "    }\n",
       "</style>\n",
       "<table border=\"1\" class=\"dataframe\">\n",
       "  <thead>\n",
       "    <tr style=\"text-align: right;\">\n",
       "      <th></th>\n",
       "      <th>age</th>\n",
       "      <th>education</th>\n",
       "      <th>black</th>\n",
       "      <th>hispanic</th>\n",
       "      <th>married</th>\n",
       "      <th>no_degree</th>\n",
       "      <th>re75</th>\n",
       "      <th>training</th>\n",
       "      <th>re78</th>\n",
       "    </tr>\n",
       "  </thead>\n",
       "  <tbody>\n",
       "    <tr>\n",
       "      <th>0</th>\n",
       "      <td>32.342916</td>\n",
       "      <td>9.0</td>\n",
       "      <td>1.0</td>\n",
       "      <td>0.0</td>\n",
       "      <td>1.0</td>\n",
       "      <td>1.0</td>\n",
       "      <td>0.000000</td>\n",
       "      <td>0</td>\n",
       "      <td>111.685593</td>\n",
       "    </tr>\n",
       "    <tr>\n",
       "      <th>1</th>\n",
       "      <td>18.000000</td>\n",
       "      <td>10.0</td>\n",
       "      <td>1.0</td>\n",
       "      <td>0.0</td>\n",
       "      <td>0.0</td>\n",
       "      <td>1.0</td>\n",
       "      <td>4019.600880</td>\n",
       "      <td>1</td>\n",
       "      <td>1903.780762</td>\n",
       "    </tr>\n",
       "    <tr>\n",
       "      <th>2</th>\n",
       "      <td>17.000000</td>\n",
       "      <td>3.0</td>\n",
       "      <td>0.0</td>\n",
       "      <td>0.0</td>\n",
       "      <td>0.0</td>\n",
       "      <td>1.0</td>\n",
       "      <td>37431.660000</td>\n",
       "      <td>1</td>\n",
       "      <td>17624.484375</td>\n",
       "    </tr>\n",
       "    <tr>\n",
       "      <th>3</th>\n",
       "      <td>30.145648</td>\n",
       "      <td>11.0</td>\n",
       "      <td>1.0</td>\n",
       "      <td>0.0</td>\n",
       "      <td>0.0</td>\n",
       "      <td>1.0</td>\n",
       "      <td>0.000000</td>\n",
       "      <td>0</td>\n",
       "      <td>109.734703</td>\n",
       "    </tr>\n",
       "    <tr>\n",
       "      <th>4</th>\n",
       "      <td>35.488238</td>\n",
       "      <td>12.0</td>\n",
       "      <td>1.0</td>\n",
       "      <td>0.0</td>\n",
       "      <td>0.0</td>\n",
       "      <td>0.0</td>\n",
       "      <td>0.000000</td>\n",
       "      <td>0</td>\n",
       "      <td>124.222839</td>\n",
       "    </tr>\n",
       "    <tr>\n",
       "      <th>...</th>\n",
       "      <td>...</td>\n",
       "      <td>...</td>\n",
       "      <td>...</td>\n",
       "      <td>...</td>\n",
       "      <td>...</td>\n",
       "      <td>...</td>\n",
       "      <td>...</td>\n",
       "      <td>...</td>\n",
       "      <td>...</td>\n",
       "    </tr>\n",
       "    <tr>\n",
       "      <th>717</th>\n",
       "      <td>19.860392</td>\n",
       "      <td>9.0</td>\n",
       "      <td>1.0</td>\n",
       "      <td>0.0</td>\n",
       "      <td>0.0</td>\n",
       "      <td>1.0</td>\n",
       "      <td>3114.579767</td>\n",
       "      <td>0</td>\n",
       "      <td>1960.793945</td>\n",
       "    </tr>\n",
       "    <tr>\n",
       "      <th>718</th>\n",
       "      <td>20.055790</td>\n",
       "      <td>9.0</td>\n",
       "      <td>1.0</td>\n",
       "      <td>0.0</td>\n",
       "      <td>0.0</td>\n",
       "      <td>1.0</td>\n",
       "      <td>6339.653501</td>\n",
       "      <td>0</td>\n",
       "      <td>3943.692871</td>\n",
       "    </tr>\n",
       "    <tr>\n",
       "      <th>719</th>\n",
       "      <td>24.506190</td>\n",
       "      <td>10.0</td>\n",
       "      <td>1.0</td>\n",
       "      <td>0.0</td>\n",
       "      <td>0.0</td>\n",
       "      <td>1.0</td>\n",
       "      <td>2535.766474</td>\n",
       "      <td>1</td>\n",
       "      <td>1207.710693</td>\n",
       "    </tr>\n",
       "    <tr>\n",
       "      <th>720</th>\n",
       "      <td>18.075203</td>\n",
       "      <td>12.0</td>\n",
       "      <td>0.0</td>\n",
       "      <td>1.0</td>\n",
       "      <td>0.0</td>\n",
       "      <td>0.0</td>\n",
       "      <td>6375.894208</td>\n",
       "      <td>1</td>\n",
       "      <td>3012.921387</td>\n",
       "    </tr>\n",
       "    <tr>\n",
       "      <th>721</th>\n",
       "      <td>31.653045</td>\n",
       "      <td>10.0</td>\n",
       "      <td>1.0</td>\n",
       "      <td>0.0</td>\n",
       "      <td>0.0</td>\n",
       "      <td>1.0</td>\n",
       "      <td>5976.181901</td>\n",
       "      <td>1</td>\n",
       "      <td>2828.983398</td>\n",
       "    </tr>\n",
       "  </tbody>\n",
       "</table>\n",
       "<p>722 rows × 9 columns</p>\n",
       "</div>"
      ],
      "text/plain": [
       "           age  education  black  hispanic  married  no_degree          re75  \\\n",
       "0    32.342916        9.0    1.0       0.0      1.0        1.0      0.000000   \n",
       "1    18.000000       10.0    1.0       0.0      0.0        1.0   4019.600880   \n",
       "2    17.000000        3.0    0.0       0.0      0.0        1.0  37431.660000   \n",
       "3    30.145648       11.0    1.0       0.0      0.0        1.0      0.000000   \n",
       "4    35.488238       12.0    1.0       0.0      0.0        0.0      0.000000   \n",
       "..         ...        ...    ...       ...      ...        ...           ...   \n",
       "717  19.860392        9.0    1.0       0.0      0.0        1.0   3114.579767   \n",
       "718  20.055790        9.0    1.0       0.0      0.0        1.0   6339.653501   \n",
       "719  24.506190       10.0    1.0       0.0      0.0        1.0   2535.766474   \n",
       "720  18.075203       12.0    0.0       1.0      0.0        0.0   6375.894208   \n",
       "721  31.653045       10.0    1.0       0.0      0.0        1.0   5976.181901   \n",
       "\n",
       "     training          re78  \n",
       "0           0    111.685593  \n",
       "1           1   1903.780762  \n",
       "2           1  17624.484375  \n",
       "3           0    109.734703  \n",
       "4           0    124.222839  \n",
       "..        ...           ...  \n",
       "717         0   1960.793945  \n",
       "718         0   3943.692871  \n",
       "719         1   1207.710693  \n",
       "720         1   3012.921387  \n",
       "721         1   2828.983398  \n",
       "\n",
       "[722 rows x 9 columns]"
      ]
     },
     "execution_count": 37,
     "metadata": {},
     "output_type": "execute_result"
    }
   ],
   "source": [
    "test"
   ]
  },
  {
   "cell_type": "code",
   "execution_count": 38,
   "id": "a4e5a207",
   "metadata": {},
   "outputs": [
    {
     "data": {
      "text/plain": [
       "442.78632"
      ]
     },
     "execution_count": 38,
     "metadata": {},
     "output_type": "execute_result"
    },
    {
     "name": "stderr",
     "output_type": "stream",
     "text": [
      "Bad pipe message: %s [b\"\\xec\\xe4p0\\x86A\\xb26P\\x15#\\x1f<\\xc5GJ\\x90\\xf5 \\x88\\xb7\\xe3=\\x83\\xc8)\\x88'pDz\\xcf>\\xdezj\\r\\x10\\xdd\\xbe\\x93\\xae\\x85\\\\\\xfc\\xfb\\xec\\xa7p\\xb8\\r\\x00\\x08\\x13\\x02\\x13\\x03\\x13\\x01\\x00\\xff\\x01\\x00\\x00\\x8f\\x00\\x00\\x00\\x0e\\x00\\x0c\\x00\\x00\\t127.0.0.1\\x00\\x0b\\x00\\x04\\x03\\x00\\x01\\x02\\x00\\n\\x00\\x0c\\x00\\n\\x00\\x1d\\x00\\x17\\x00\\x1e\\x00\\x19\\x00\\x18\\x00#\\x00\\x00\\x00\\x16\\x00\\x00\\x00\\x17\\x00\\x00\"]\n",
      "Bad pipe message: %s [b'\\xb7\\xc8 \\xfc\\xf1\\xab\\x03\\x00{\\x0e\\xbe\\xb3G\\xcb\\xa3\\xc3\\x8b\\xb3 S\\xb5\\xd819Be\\x96?\\xaf\\x896\\xe9c\\xf4\\x9c\\xb8\\x80\\x81\\xc2\\x16\\x11(]q\\xce\\xb3\\xb9\\xbe\\xbccZ\\x00\\x08\\x13\\x02\\x13\\x03\\x13\\x01\\x00\\xff\\x01\\x00\\x00\\x8f\\x00\\x00\\x00\\x0e\\x00\\x0c\\x00\\x00\\t127.0.0.1\\x00\\x0b\\x00\\x04\\x03\\x00\\x01\\x02\\x00\\n\\x00\\x0c\\x00\\n\\x00\\x1d\\x00\\x17\\x00\\x1e\\x00\\x19\\x00\\x18\\x00#\\x00\\x00\\x00\\x16\\x00\\x00\\x00\\x17\\x00\\x00\\x00\\r\\x00\\x1e\\x00\\x1c\\x04\\x03\\x05\\x03\\x06']\n",
      "Bad pipe message: %s [b'\\x07\\x08']\n",
      "Bad pipe message: %s [b'\\t\\x08\\n\\x08\\x0b\\x08\\x04']\n",
      "Bad pipe message: %s [b'\\x08\\x06\\x04\\x01\\x05\\x01\\x06', b'']\n",
      "Bad pipe message: %s [b'\\x03\\x02\\x03\\x04\\x00-\\x00\\x02\\x01\\x01\\x003\\x00&\\x00$\\x00\\x1d\\x00 4\\x9c\\xeb\\xceL\\x0c\\xafui\\xac\\xf8XJb\\n\\t\\xa7a\\xd3\\xbdP\\x8c']\n",
      "Bad pipe message: %s [b'(\\xd60Q\\xd0\\xa6\\x028\\x9d\\x196ZRl\\xb2\\x06\\xee\\xf6\\x00\\x00', b\",\\xc00\\x00\\xa3\\x00\\x9f\\xcc\\xa9\\xcc\\xa8\\xcc\\xaa\\xc0\\xaf\\xc0\\xad\\xc0\\xa3\\xc0\\x9f\\xc0]\\xc0a\\xc0W\\xc0S\\xc0+\\xc0/\\x00\\xa2\\x00\\x9e\\xc0\\xae\\xc0\\xac\\xc0\\xa2\\xc0\\x9e\\xc0\\\\\\xc0`\\xc0V\\xc0R\\xc0$\\xc0(\\x00k\\x00j\\xc0#\\xc0'\\x00g\\x00@\\xc0\\n\\xc0\\x14\\x009\\x008\\xc0\\t\\xc0\\x13\\x003\\x002\\x00\\x9d\\xc0\\xa1\\xc0\\x9d\\xc0Q\\x00\\x9c\\xc0\\xa0\\xc0\\x9c\\xc0P\\x00=\\x00<\\x005\\x00/\\x00\\x9a\\x00\\x99\\xc0\\x07\\xc0\\x11\\x00\\x96\\x00\\x05\\x00\\xff\"]\n",
      "Bad pipe message: %s [b'']\n",
      "Bad pipe message: %s [b\"\\x8f5\\xbf\\x02\\x93\\xd3\\xa7\\xd1\\xefO.\\x90\\x99\\xcd\\xed&\\x1e\\xac\\x00\\x00\\xa6\\xc0,\\xc00\\x00\\xa3\\x00\\x9f\\xcc\\xa9\\xcc\\xa8\\xcc\\xaa\\xc0\\xaf\\xc0\\xad\\xc0\\xa3\\xc0\\x9f\\xc0]\\xc0a\\xc0W\\xc0S\\xc0+\\xc0/\\x00\\xa2\\x00\\x9e\\xc0\\xae\\xc0\\xac\\xc0\\xa2\\xc0\\x9e\\xc0\\\\\\xc0`\\xc0V\\xc0R\\xc0$\\xc0(\\x00k\\x00j\\xc0s\\xc0w\\x00\\xc4\\x00\\xc3\\xc0#\\xc0'\\x00g\\x00@\\xc0r\\xc0v\\x00\\xbe\\x00\\xbd\\xc0\\n\\xc0\\x14\\x009\\x008\\x00\\x88\\x00\\x87\\xc0\\t\\xc0\\x13\\x003\\x002\\x00\\x9a\\x00\\x99\\x00E\\x00D\\xc0\\x07\\xc0\\x11\\xc0\\x08\\xc0\\x12\\x00\\x16\\x00\\x13\\x00\\x9d\\xc0\\xa1\\xc0\\x9d\\xc0Q\\x00\\x9c\\xc0\\xa0\\xc0\\x9c\\xc0P\\x00=\\x00\"]\n",
      "Bad pipe message: %s [b'G\\xa7@n\\x10\\xfa4\\x8a4\\xfe\\x05J\\xf7\\xcdV\\xae\\x10\\x80\\x00\\x00\\xa2\\xc0\\x14\\xc0\\n\\x009\\x008\\x007\\x006\\x00\\x88\\x00\\x87\\x00\\x86\\x00\\x85\\xc0\\x19\\x00:\\x00\\x89\\xc0\\x0f\\xc0\\x05\\x005\\x00\\x84\\xc0\\x13\\xc0\\t\\x003\\x002\\x001\\x000\\x00\\x9a\\x00\\x99\\x00\\x98\\x00\\x97\\x00E\\x00D\\x00C\\x00B\\xc0\\x18\\x004\\x00\\x9b\\x00F\\xc0\\x0e\\xc0\\x04\\x00/\\x00\\x96\\x00A\\x00\\x07\\xc0\\x11\\xc0\\x07\\xc0\\x16\\x00\\x18\\xc0\\x0c\\xc0\\x02\\x00\\x05\\x00\\x04\\xc0\\x12\\xc0\\x08\\x00\\x16\\x00\\x13\\x00\\x10\\x00\\r\\xc0\\x17\\x00\\x1b\\xc0\\r\\xc0\\x03\\x00\\n\\x00\\x15\\x00\\x12\\x00\\x0f\\x00\\x0c\\x00\\x1a\\x00\\t\\x00\\x14\\x00\\x11']\n",
      "Bad pipe message: %s [b'3\\xee\\xcf\\x82\\x827Gaic\\xc2\\xdfeEn\\x8f\\x84\\xa1\\x00\\x00\\xa2\\xc0\\x14\\xc0\\n\\x009\\x008\\x007\\x006\\x00\\x88\\x00\\x87\\x00\\x86\\x00\\x85\\xc0', b':\\x00\\x89\\xc0\\x0f\\xc0\\x05\\x005\\x00\\x84\\xc0\\x13\\xc0\\t\\x003\\x002\\x001\\x000\\x00']\n",
      "Bad pipe message: %s [b'\\x99\\x00\\x98\\x00\\x97\\x00E\\x00D\\x00C\\x00B\\xc0\\x18\\x004\\x00\\x9b\\x00F\\xc0\\x0e\\xc0\\x04\\x00/\\x00\\x96\\x00A\\x00\\x07\\xc0\\x11\\xc0\\x07\\xc0\\x16\\x00\\x18\\xc0\\x0c\\xc0\\x02\\x00\\x05\\x00\\x04\\xc0\\x12\\xc0\\x08\\x00\\x16\\x00\\x13\\x00\\x10\\x00\\r\\xc0\\x17\\x00\\x1b\\xc0\\r\\xc0\\x03\\x00\\n\\x00\\x15\\x00\\x12\\x00\\x0f\\x00\\x0c\\x00\\x1a\\x00\\t\\x00\\x14\\x00\\x11\\x00\\x19\\x00\\x08\\x00\\x06\\x00\\x17\\x00\\x03\\xc0\\x10\\xc0\\x06\\xc0\\x15\\xc0\\x0b\\xc0\\x01\\x00\\x02\\x00\\x01\\x00\\xff\\x02\\x01\\x00\\x00C\\x00\\x00\\x00\\x0e\\x00\\x0c\\x00\\x00\\t127.0.0.1\\x00\\x0b\\x00\\x04\\x03\\x00\\x01\\x02\\x00\\n\\x00\\x1c\\x00\\x1a\\x00\\x17\\x00']\n",
      "Bad pipe message: %s [b'\\x1c\\x00\\x1b\\x00\\x18\\x00\\x1a\\x00\\x16\\x00\\x0e\\x00\\r\\x00\\x0b\\x00\\x0c\\x00\\t\\x00\\n\\x00#\\x00']\n",
      "Bad pipe message: %s [b'<\\x8a\\xa1xJT\\x0c\\x86|E\\x9e\\xc3\\xfb\\x8e\\xeb\\x82\\x07\\x14\\x00\\x00\\xa2\\xc0\\x14\\xc0\\n\\x009\\x008\\x007\\x006\\x00\\x88\\x00\\x87\\x00\\x86\\x00\\x85\\xc0\\x19\\x00:\\x00\\x89\\xc0\\x0f\\xc0\\x05\\x005\\x00\\x84\\xc0\\x13\\xc0\\t\\x003\\x002\\x001\\x000\\x00\\x9a\\x00\\x99\\x00\\x98\\x00\\x97\\x00E\\x00D\\x00C\\x00B\\xc0\\x18\\x004\\x00\\x9b\\x00F\\xc0\\x0e\\xc0\\x04\\x00/\\x00\\x96\\x00A\\x00\\x07\\xc0\\x11\\xc0\\x07\\xc0\\x16\\x00\\x18\\xc0\\x0c\\xc0\\x02\\x00\\x05\\x00\\x04\\xc0\\x12\\xc0\\x08\\x00\\x16\\x00\\x13\\x00\\x10\\x00\\r\\xc0\\x17\\x00\\x1b\\xc0\\r\\xc0\\x03\\x00\\n\\x00\\x15\\x00\\x12\\x00\\x0f\\x00\\x0c\\x00\\x1a\\x00\\t\\x00\\x14\\x00\\x11\\x00\\x19\\x00\\x08\\x00\\x06\\x00\\x17\\x00\\x03\\xc0\\x10\\xc0\\x06\\xc0\\x15\\xc0\\x0b\\xc0\\x01\\x00\\x02\\x00\\x01\\x00\\xff\\x02\\x01\\x00\\x15\\x03']\n",
      "Bad pipe message: %s [b\"\\x84\\xcaE\\x84\\x9d?\\xd8$\\x95'\\xff\\xfb\\x13\\xde\\x17\\x8cx\\t\\x00\\x00\\x86\", b\"\\xc0,\\xc0(\\xc0$\\xc0\\x14\\xc0\\n\\x00\\xa5\\x00\\xa3\\x00\\xa1\\x00\\x9f\\x00k\\x00j\\x00i\\x00h\\x009\\x008\\x007\\x006\\xc02\\xc0.\\xc0*\\xc0&\\xc0\\x0f\\xc0\\x05\\x00\\x9d\\x00=\\x005\\xc0/\\xc0+\\xc0'\\xc0#\\xc0\\x13\\xc0\\t\\x00\\xa4\\x00\\xa2\\x00\\xa0\\x00\\x9e\\x00g\\x00@\\x00?\\x00>\\x003\\x002\\x001\\x000\\xc01\\xc0-\\xc0)\\xc0%\\xc0\\x0e\\xc0\\x04\\x00\\x9c\\x00<\\x00/\\x00\\x9a\\x00\\x99\\x00\\x98\\x00\\x97\\x00\\x96\\x00\\x07\\xc0\\x11\\xc0\\x07\\xc0\\x0c\\xc0\\x02\\x00\\x05\\x00\\x04\\x00\\xff\\x02\\x01\\x00\\x00g\\x00\\x00\\x00\\x0e\\x00\\x0c\\x00\\x00\\t127.0.0.1\\x00\\x0b\\x00\\x04\\x03\\x00\\x01\\x02\\x00\\n\\x00\\x1c\\x00\\x1a\\x00\\x17\\x00\\x19\\x00\\x1c\\x00\\x1b\\x00\\x18\\x00\\x1a\\x00\\x16\\x00\\x0e\\x00\\r\\x00\\x0b\\x00\\x0c\"]\n",
      "Bad pipe message: %s [b\"\\xfaZoa[8\\xe3\\x90\\xed\\xc4{lj\\x85\\x80\\x83\\xe6\\xe2\\x00\\x00\\xf4\\xc00\\xc0,\\xc0(\\xc0$\\xc0\\x14\\xc0\\n\\x00\\xa5\\x00\\xa3\\x00\\xa1\\x00\\x9f\\x00k\\x00j\\x00i\\x00h\\x009\\x008\\x007\\x006\\x00\\x88\\x00\\x87\\x00\\x86\\x00\\x85\\xc0\\x19\\x00\\xa7\\x00m\\x00:\\x00\\x89\\xc02\\xc0.\\xc0*\\xc0&\\xc0\\x0f\\xc0\\x05\\x00\\x9d\\x00=\\x005\\x00\\x84\\xc0/\\xc0+\\xc0'\\xc0#\\xc0\\x13\\xc0\\t\\x00\\xa4\\x00\\xa2\\x00\\xa0\\x00\\x9e\\x00g\\x00@\\x00?\\x00>\\x003\\x002\\x001\\x000\\x00\\x9a\\x00\\x99\\x00\\x98\\x00\\x97\\x00E\\x00D\\x00C\\x00B\\xc0\\x18\\x00\\xa6\\x00l\\x004\\x00\\x9b\\x00F\\xc01\\xc0-\\xc0)\\xc0%\\xc0\\x0e\\xc0\\x04\\x00\\x9c\\x00<\\x00/\\x00\\x96\\x00A\\x00\\x07\\xc0\\x11\\xc0\\x07\\xc0\\x16\\x00\\x18\\xc0\\x0c\\xc0\\x02\\x00\\x05\\x00\\x04\\xc0\\x12\\xc0\\x08\\x00\\x16\\x00\\x13\\x00\\x10\\x00\\r\\xc0\\x17\\x00\\x1b\\xc0\\r\\xc0\\x03\\x00\\n\\x00\\x15\\x00\\x12\\x00\\x0f\\x00\\x0c\\x00\\x1a\\x00\\t\\x00\\x14\\x00\\x11\\x00\\x19\\x00\\x08\\x00\\x06\\x00\\x17\\x00\\x03\\xc0\\x10\\xc0\\x06\\xc0\\x15\"]\n"
     ]
    }
   ],
   "source": [
    "evaluate_u_pehe(jobs, test, 'training', 're78', 7)"
   ]
  },
  {
   "cell_type": "code",
   "execution_count": null,
   "id": "61614236",
   "metadata": {},
   "outputs": [],
   "source": []
  },
  {
   "cell_type": "code",
   "execution_count": 53,
   "id": "a5523eec",
   "metadata": {},
   "outputs": [],
   "source": [
    "results = pd.read_csv('jobs_sequential_vs_standard_ctgan_avg.csv')"
   ]
  },
  {
   "cell_type": "code",
   "execution_count": 61,
   "id": "5c8a3917",
   "metadata": {},
   "outputs": [
    {
     "data": {
      "text/html": [
       "<div>\n",
       "<style scoped>\n",
       "    .dataframe tbody tr th:only-of-type {\n",
       "        vertical-align: middle;\n",
       "    }\n",
       "\n",
       "    .dataframe tbody tr th {\n",
       "        vertical-align: top;\n",
       "    }\n",
       "\n",
       "    .dataframe thead th {\n",
       "        text-align: right;\n",
       "    }\n",
       "</style>\n",
       "<table border=\"1\" class=\"dataframe\">\n",
       "  <thead>\n",
       "    <tr style=\"text-align: right;\">\n",
       "      <th></th>\n",
       "      <th>f</th>\n",
       "      <th>c</th>\n",
       "      <th>d</th>\n",
       "      <th>u_pehe</th>\n",
       "      <th>u_policy</th>\n",
       "      <th>u_int</th>\n",
       "    </tr>\n",
       "    <tr>\n",
       "      <th>method</th>\n",
       "      <th></th>\n",
       "      <th></th>\n",
       "      <th></th>\n",
       "      <th></th>\n",
       "      <th></th>\n",
       "      <th></th>\n",
       "    </tr>\n",
       "  </thead>\n",
       "  <tbody>\n",
       "    <tr>\n",
       "      <th>seq_new</th>\n",
       "      <td>20</td>\n",
       "      <td>20</td>\n",
       "      <td>20</td>\n",
       "      <td>20</td>\n",
       "      <td>20</td>\n",
       "      <td>20</td>\n",
       "    </tr>\n",
       "    <tr>\n",
       "      <th>standard</th>\n",
       "      <td>20</td>\n",
       "      <td>20</td>\n",
       "      <td>20</td>\n",
       "      <td>20</td>\n",
       "      <td>20</td>\n",
       "      <td>20</td>\n",
       "    </tr>\n",
       "  </tbody>\n",
       "</table>\n",
       "</div>"
      ],
      "text/plain": [
       "           f   c   d  u_pehe  u_policy  u_int\n",
       "method                                       \n",
       "seq_new   20  20  20      20        20     20\n",
       "standard  20  20  20      20        20     20"
      ]
     },
     "execution_count": 61,
     "metadata": {},
     "output_type": "execute_result"
    }
   ],
   "source": [
    "results.groupby('method').count()"
   ]
  },
  {
   "cell_type": "code",
   "execution_count": 62,
   "id": "7b387d7d",
   "metadata": {},
   "outputs": [
    {
     "data": {
      "text/html": [
       "<div>\n",
       "<style scoped>\n",
       "    .dataframe tbody tr th:only-of-type {\n",
       "        vertical-align: middle;\n",
       "    }\n",
       "\n",
       "    .dataframe tbody tr th {\n",
       "        vertical-align: top;\n",
       "    }\n",
       "\n",
       "    .dataframe thead th {\n",
       "        text-align: right;\n",
       "    }\n",
       "</style>\n",
       "<table border=\"1\" class=\"dataframe\">\n",
       "  <thead>\n",
       "    <tr style=\"text-align: right;\">\n",
       "      <th></th>\n",
       "      <th>f</th>\n",
       "      <th>c</th>\n",
       "      <th>d</th>\n",
       "      <th>u_pehe</th>\n",
       "      <th>u_policy</th>\n",
       "      <th>u_int</th>\n",
       "    </tr>\n",
       "    <tr>\n",
       "      <th>method</th>\n",
       "      <th></th>\n",
       "      <th></th>\n",
       "      <th></th>\n",
       "      <th></th>\n",
       "      <th></th>\n",
       "      <th></th>\n",
       "    </tr>\n",
       "  </thead>\n",
       "  <tbody>\n",
       "    <tr>\n",
       "      <th>seq_new</th>\n",
       "      <td>0.674087</td>\n",
       "      <td>0.424369</td>\n",
       "      <td>0.892422</td>\n",
       "      <td>1.708839</td>\n",
       "      <td>0.945302</td>\n",
       "      <td>0.266890</td>\n",
       "    </tr>\n",
       "    <tr>\n",
       "      <th>standard</th>\n",
       "      <td>0.662570</td>\n",
       "      <td>0.419139</td>\n",
       "      <td>0.841208</td>\n",
       "      <td>2.520753</td>\n",
       "      <td>0.765101</td>\n",
       "      <td>0.213928</td>\n",
       "    </tr>\n",
       "  </tbody>\n",
       "</table>\n",
       "</div>"
      ],
      "text/plain": [
       "                 f         c         d    u_pehe  u_policy     u_int\n",
       "method                                                              \n",
       "seq_new   0.674087  0.424369  0.892422  1.708839  0.945302  0.266890\n",
       "standard  0.662570  0.419139  0.841208  2.520753  0.765101  0.213928"
      ]
     },
     "execution_count": 62,
     "metadata": {},
     "output_type": "execute_result"
    }
   ],
   "source": [
    "results.groupby('method').mean()"
   ]
  },
  {
   "cell_type": "code",
   "execution_count": 63,
   "id": "2ae2c38b",
   "metadata": {},
   "outputs": [
    {
     "data": {
      "text/html": [
       "<div>\n",
       "<style scoped>\n",
       "    .dataframe tbody tr th:only-of-type {\n",
       "        vertical-align: middle;\n",
       "    }\n",
       "\n",
       "    .dataframe tbody tr th {\n",
       "        vertical-align: top;\n",
       "    }\n",
       "\n",
       "    .dataframe thead th {\n",
       "        text-align: right;\n",
       "    }\n",
       "</style>\n",
       "<table border=\"1\" class=\"dataframe\">\n",
       "  <thead>\n",
       "    <tr style=\"text-align: right;\">\n",
       "      <th></th>\n",
       "      <th>f</th>\n",
       "      <th>c</th>\n",
       "      <th>d</th>\n",
       "      <th>u_pehe</th>\n",
       "      <th>u_policy</th>\n",
       "      <th>u_int</th>\n",
       "    </tr>\n",
       "    <tr>\n",
       "      <th>method</th>\n",
       "      <th></th>\n",
       "      <th></th>\n",
       "      <th></th>\n",
       "      <th></th>\n",
       "      <th></th>\n",
       "      <th></th>\n",
       "    </tr>\n",
       "  </thead>\n",
       "  <tbody>\n",
       "    <tr>\n",
       "      <th>seq_new</th>\n",
       "      <td>0.014235</td>\n",
       "      <td>0.010848</td>\n",
       "      <td>0.009365</td>\n",
       "      <td>0.052367</td>\n",
       "      <td>0.005587</td>\n",
       "      <td>0.097313</td>\n",
       "    </tr>\n",
       "    <tr>\n",
       "      <th>standard</th>\n",
       "      <td>0.017930</td>\n",
       "      <td>0.013024</td>\n",
       "      <td>0.012517</td>\n",
       "      <td>0.161023</td>\n",
       "      <td>0.047963</td>\n",
       "      <td>0.094179</td>\n",
       "    </tr>\n",
       "  </tbody>\n",
       "</table>\n",
       "</div>"
      ],
      "text/plain": [
       "                 f         c         d    u_pehe  u_policy     u_int\n",
       "method                                                              \n",
       "seq_new   0.014235  0.010848  0.009365  0.052367  0.005587  0.097313\n",
       "standard  0.017930  0.013024  0.012517  0.161023  0.047963  0.094179"
      ]
     },
     "execution_count": 63,
     "metadata": {},
     "output_type": "execute_result"
    }
   ],
   "source": [
    "results.groupby('method').std() / np.sqrt(20) * 1.96"
   ]
  },
  {
   "cell_type": "code",
   "execution_count": 112,
   "id": "731e7d49",
   "metadata": {},
   "outputs": [],
   "source": [
    "#results.to_csv('acic_sequential_vs_standard_tvae.csv', index=False)"
   ]
  },
  {
   "cell_type": "markdown",
   "id": "65e703b0",
   "metadata": {},
   "source": [
    "# Insights"
   ]
  },
  {
   "cell_type": "markdown",
   "id": "e1e68dbc",
   "metadata": {},
   "source": [
    "How does altering the size of $D_\\text{real}$ affect the performance difference between standard and sequential generation?"
   ]
  },
  {
   "cell_type": "code",
   "execution_count": 273,
   "id": "8fd88cef",
   "metadata": {},
   "outputs": [],
   "source": [
    "X,y,w,p,t = simulate_treatment_setup(200, d=10, n_o=5, n_t=5)\n",
    "X_df = pd.DataFrame(X)\n",
    "y_df = pd.DataFrame(y, columns = ['y'])\n",
    "w_df = pd.DataFrame(w, columns = ['w'])\n",
    "\n",
    "d_real = pd.concat([X_df,w_df,y_df], axis=1)"
   ]
  },
  {
   "cell_type": "code",
   "execution_count": 274,
   "id": "4cd0c51d",
   "metadata": {},
   "outputs": [
    {
     "name": "stderr",
     "output_type": "stream",
     "text": [
      "[2024-05-03T02:31:39.097615+0000][1207925][CRITICAL] load failed: module 'synthcity.plugins.generic.plugin_goggle' has no attribute 'plugin'\n",
      "[2024-05-03T02:31:39.098649+0000][1207925][CRITICAL] load failed: module 'synthcity.plugins.generic.plugin_goggle' has no attribute 'plugin'\n",
      "[2024-05-03T02:31:39.099041+0000][1207925][CRITICAL] module plugin_goggle load failed\n",
      "Epoch: 100%|██████████| 1000/1000 [00:08<00:00, 122.36it/s, loss=0.989]\n",
      "[2024-05-03T02:31:50.969285+0000][1207925][CRITICAL] load failed: module 'synthcity.plugins.generic.plugin_goggle' has no attribute 'plugin'\n",
      "[2024-05-03T02:31:50.969945+0000][1207925][CRITICAL] load failed: module 'synthcity.plugins.generic.plugin_goggle' has no attribute 'plugin'\n",
      "[2024-05-03T02:31:50.970408+0000][1207925][CRITICAL] module plugin_goggle load failed\n",
      "Epoch: 100%|██████████| 1000/1000 [00:04<00:00, 217.33it/s, loss=0.386]\n",
      "[2024-05-03T02:33:20.888257+0000][1207925][CRITICAL] load failed: module 'synthcity.plugins.generic.plugin_goggle' has no attribute 'plugin'\n",
      "[2024-05-03T02:33:20.889212+0000][1207925][CRITICAL] load failed: module 'synthcity.plugins.generic.plugin_goggle' has no attribute 'plugin'\n",
      "[2024-05-03T02:33:20.889614+0000][1207925][CRITICAL] module plugin_goggle load failed\n",
      "Epoch: 100%|██████████| 1000/1000 [00:08<00:00, 124.81it/s, loss=0.99]\n",
      "[2024-05-03T02:33:32.654215+0000][1207925][CRITICAL] load failed: module 'synthcity.plugins.generic.plugin_goggle' has no attribute 'plugin'\n",
      "[2024-05-03T02:33:32.654891+0000][1207925][CRITICAL] load failed: module 'synthcity.plugins.generic.plugin_goggle' has no attribute 'plugin'\n",
      "[2024-05-03T02:33:32.655213+0000][1207925][CRITICAL] module plugin_goggle load failed\n",
      "Epoch: 100%|██████████| 1000/1000 [00:04<00:00, 217.90it/s, loss=0.392]\n",
      "[2024-05-03T02:34:57.435861+0000][1207925][CRITICAL] load failed: module 'synthcity.plugins.generic.plugin_goggle' has no attribute 'plugin'\n",
      "[2024-05-03T02:34:57.437024+0000][1207925][CRITICAL] load failed: module 'synthcity.plugins.generic.plugin_goggle' has no attribute 'plugin'\n",
      "[2024-05-03T02:34:57.437375+0000][1207925][CRITICAL] module plugin_goggle load failed\n",
      "Epoch: 100%|██████████| 1000/1000 [00:07<00:00, 125.92it/s, loss=0.974]\n",
      "[2024-05-03T02:35:09.071312+0000][1207925][CRITICAL] load failed: module 'synthcity.plugins.generic.plugin_goggle' has no attribute 'plugin'\n",
      "[2024-05-03T02:35:09.071891+0000][1207925][CRITICAL] load failed: module 'synthcity.plugins.generic.plugin_goggle' has no attribute 'plugin'\n",
      "[2024-05-03T02:35:09.072245+0000][1207925][CRITICAL] module plugin_goggle load failed\n",
      "Epoch: 100%|██████████| 1000/1000 [00:04<00:00, 217.68it/s, loss=0.389]\n"
     ]
    }
   ],
   "source": [
    "test_small = seq_test(d_real, 'ddpm', 'w', 'y', 3)"
   ]
  },
  {
   "cell_type": "code",
   "execution_count": 275,
   "id": "4f54b0a7",
   "metadata": {},
   "outputs": [
    {
     "data": {
      "text/html": [
       "<div>\n",
       "<style scoped>\n",
       "    .dataframe tbody tr th:only-of-type {\n",
       "        vertical-align: middle;\n",
       "    }\n",
       "\n",
       "    .dataframe tbody tr th {\n",
       "        vertical-align: top;\n",
       "    }\n",
       "\n",
       "    .dataframe thead th {\n",
       "        text-align: right;\n",
       "    }\n",
       "</style>\n",
       "<table border=\"1\" class=\"dataframe\">\n",
       "  <thead>\n",
       "    <tr style=\"text-align: right;\">\n",
       "      <th></th>\n",
       "      <th>f</th>\n",
       "      <th>d</th>\n",
       "      <th>u_pehe</th>\n",
       "      <th>u_policy</th>\n",
       "      <th>u_int</th>\n",
       "    </tr>\n",
       "    <tr>\n",
       "      <th>method</th>\n",
       "      <th></th>\n",
       "      <th></th>\n",
       "      <th></th>\n",
       "      <th></th>\n",
       "      <th></th>\n",
       "    </tr>\n",
       "  </thead>\n",
       "  <tbody>\n",
       "    <tr>\n",
       "      <th>seq_new</th>\n",
       "      <td>0.015315</td>\n",
       "      <td>0.770233</td>\n",
       "      <td>4.121382</td>\n",
       "      <td>0.691667</td>\n",
       "      <td>0.719221</td>\n",
       "    </tr>\n",
       "    <tr>\n",
       "      <th>standard</th>\n",
       "      <td>0.002097</td>\n",
       "      <td>0.716804</td>\n",
       "      <td>9.071507</td>\n",
       "      <td>0.666667</td>\n",
       "      <td>0.316862</td>\n",
       "    </tr>\n",
       "  </tbody>\n",
       "</table>\n",
       "</div>"
      ],
      "text/plain": [
       "                 f         d    u_pehe  u_policy     u_int\n",
       "method                                                    \n",
       "seq_new   0.015315  0.770233  4.121382  0.691667  0.719221\n",
       "standard  0.002097  0.716804  9.071507  0.666667  0.316862"
      ]
     },
     "execution_count": 275,
     "metadata": {},
     "output_type": "execute_result"
    }
   ],
   "source": [
    "test_small.groupby('method').mean()"
   ]
  },
  {
   "cell_type": "code",
   "execution_count": 271,
   "id": "5ebb0f26",
   "metadata": {},
   "outputs": [
    {
     "data": {
      "text/html": [
       "<div>\n",
       "<style scoped>\n",
       "    .dataframe tbody tr th:only-of-type {\n",
       "        vertical-align: middle;\n",
       "    }\n",
       "\n",
       "    .dataframe tbody tr th {\n",
       "        vertical-align: top;\n",
       "    }\n",
       "\n",
       "    .dataframe thead th {\n",
       "        text-align: right;\n",
       "    }\n",
       "</style>\n",
       "<table border=\"1\" class=\"dataframe\">\n",
       "  <thead>\n",
       "    <tr style=\"text-align: right;\">\n",
       "      <th></th>\n",
       "      <th>f</th>\n",
       "      <th>d</th>\n",
       "      <th>u_pehe</th>\n",
       "      <th>u_policy</th>\n",
       "      <th>u_int</th>\n",
       "    </tr>\n",
       "    <tr>\n",
       "      <th>method</th>\n",
       "      <th></th>\n",
       "      <th></th>\n",
       "      <th></th>\n",
       "      <th></th>\n",
       "      <th></th>\n",
       "    </tr>\n",
       "  </thead>\n",
       "  <tbody>\n",
       "    <tr>\n",
       "      <th>seq_new</th>\n",
       "      <td>0.360417</td>\n",
       "      <td>0.88249</td>\n",
       "      <td>2.100155</td>\n",
       "      <td>0.93</td>\n",
       "      <td>0.927594</td>\n",
       "    </tr>\n",
       "    <tr>\n",
       "      <th>standard</th>\n",
       "      <td>0.152567</td>\n",
       "      <td>0.82901</td>\n",
       "      <td>7.167894</td>\n",
       "      <td>0.94</td>\n",
       "      <td>-0.003107</td>\n",
       "    </tr>\n",
       "  </tbody>\n",
       "</table>\n",
       "</div>"
      ],
      "text/plain": [
       "                 f        d    u_pehe  u_policy     u_int\n",
       "method                                                   \n",
       "seq_new   0.360417  0.88249  2.100155      0.93  0.927594\n",
       "standard  0.152567  0.82901  7.167894      0.94 -0.003107"
      ]
     },
     "execution_count": 271,
     "metadata": {},
     "output_type": "execute_result"
    }
   ],
   "source": [
    "test.groupby('method').mean()"
   ]
  },
  {
   "cell_type": "code",
   "execution_count": 272,
   "id": "7c31c053",
   "metadata": {},
   "outputs": [
    {
     "data": {
      "text/html": [
       "<div>\n",
       "<style scoped>\n",
       "    .dataframe tbody tr th:only-of-type {\n",
       "        vertical-align: middle;\n",
       "    }\n",
       "\n",
       "    .dataframe tbody tr th {\n",
       "        vertical-align: top;\n",
       "    }\n",
       "\n",
       "    .dataframe thead th {\n",
       "        text-align: right;\n",
       "    }\n",
       "</style>\n",
       "<table border=\"1\" class=\"dataframe\">\n",
       "  <thead>\n",
       "    <tr style=\"text-align: right;\">\n",
       "      <th></th>\n",
       "      <th>method</th>\n",
       "      <th>f</th>\n",
       "      <th>d</th>\n",
       "      <th>u_pehe</th>\n",
       "      <th>u_policy</th>\n",
       "      <th>u_int</th>\n",
       "    </tr>\n",
       "  </thead>\n",
       "  <tbody>\n",
       "    <tr>\n",
       "      <th>0</th>\n",
       "      <td>standard</td>\n",
       "      <td>0.167027</td>\n",
       "      <td>0.867223</td>\n",
       "      <td>6.095212</td>\n",
       "      <td>0.955</td>\n",
       "      <td>0.072566</td>\n",
       "    </tr>\n",
       "    <tr>\n",
       "      <th>1</th>\n",
       "      <td>seq_new</td>\n",
       "      <td>0.439605</td>\n",
       "      <td>0.887411</td>\n",
       "      <td>2.238435</td>\n",
       "      <td>0.940</td>\n",
       "      <td>0.902416</td>\n",
       "    </tr>\n",
       "    <tr>\n",
       "      <th>2</th>\n",
       "      <td>standard</td>\n",
       "      <td>0.147813</td>\n",
       "      <td>0.832681</td>\n",
       "      <td>7.002279</td>\n",
       "      <td>0.890</td>\n",
       "      <td>0.150050</td>\n",
       "    </tr>\n",
       "    <tr>\n",
       "      <th>3</th>\n",
       "      <td>seq_new</td>\n",
       "      <td>0.333976</td>\n",
       "      <td>0.890791</td>\n",
       "      <td>1.966447</td>\n",
       "      <td>0.920</td>\n",
       "      <td>0.959688</td>\n",
       "    </tr>\n",
       "    <tr>\n",
       "      <th>4</th>\n",
       "      <td>standard</td>\n",
       "      <td>0.142860</td>\n",
       "      <td>0.787125</td>\n",
       "      <td>8.406189</td>\n",
       "      <td>0.975</td>\n",
       "      <td>-0.231937</td>\n",
       "    </tr>\n",
       "    <tr>\n",
       "      <th>5</th>\n",
       "      <td>seq_new</td>\n",
       "      <td>0.307669</td>\n",
       "      <td>0.869267</td>\n",
       "      <td>2.095585</td>\n",
       "      <td>0.930</td>\n",
       "      <td>0.920677</td>\n",
       "    </tr>\n",
       "  </tbody>\n",
       "</table>\n",
       "</div>"
      ],
      "text/plain": [
       "     method         f         d    u_pehe  u_policy     u_int\n",
       "0  standard  0.167027  0.867223  6.095212     0.955  0.072566\n",
       "1   seq_new  0.439605  0.887411  2.238435     0.940  0.902416\n",
       "2  standard  0.147813  0.832681  7.002279     0.890  0.150050\n",
       "3   seq_new  0.333976  0.890791  1.966447     0.920  0.959688\n",
       "4  standard  0.142860  0.787125  8.406189     0.975 -0.231937\n",
       "5   seq_new  0.307669  0.869267  2.095585     0.930  0.920677"
      ]
     },
     "execution_count": 272,
     "metadata": {},
     "output_type": "execute_result"
    }
   ],
   "source": [
    "test"
   ]
  },
  {
   "cell_type": "markdown",
   "id": "79182e5d",
   "metadata": {},
   "source": [
    "How does altering the complexity of $\\pi$, aka the number of confounding, change the performance delta"
   ]
  },
  {
   "cell_type": "code",
   "execution_count": 292,
   "id": "440bc2a9",
   "metadata": {},
   "outputs": [],
   "source": [
    "X,y,w,p,t = simulate_treatment_setup(500, d=10, n_c=0, n_t=5)\n",
    "X_df = pd.DataFrame(X)\n",
    "y_df = pd.DataFrame(y, columns = ['y'])\n",
    "w_df = pd.DataFrame(w, columns = ['w'])\n",
    "\n",
    "d_real = pd.concat([X_df,w_df,y_df], axis=1)"
   ]
  },
  {
   "cell_type": "code",
   "execution_count": 293,
   "id": "e9b42cab",
   "metadata": {},
   "outputs": [
    {
     "name": "stderr",
     "output_type": "stream",
     "text": [
      "[2024-05-03T02:41:49.165677+0000][1207925][CRITICAL] load failed: module 'synthcity.plugins.generic.plugin_goggle' has no attribute 'plugin'\n",
      "[2024-05-03T02:41:49.167369+0000][1207925][CRITICAL] load failed: module 'synthcity.plugins.generic.plugin_goggle' has no attribute 'plugin'\n",
      "[2024-05-03T02:41:49.167746+0000][1207925][CRITICAL] module plugin_goggle load failed\n",
      "Epoch: 100%|██████████| 1000/1000 [00:09<00:00, 106.30it/s, loss=0.874]\n",
      "[2024-05-03T02:42:02.367143+0000][1207925][CRITICAL] load failed: module 'synthcity.plugins.generic.plugin_goggle' has no attribute 'plugin'\n",
      "[2024-05-03T02:42:02.367865+0000][1207925][CRITICAL] load failed: module 'synthcity.plugins.generic.plugin_goggle' has no attribute 'plugin'\n",
      "[2024-05-03T02:42:02.368231+0000][1207925][CRITICAL] module plugin_goggle load failed\n",
      "Epoch: 100%|██████████| 1000/1000 [00:05<00:00, 172.63it/s, loss=0.445]\n",
      "[2024-05-03T02:43:03.426300+0000][1207925][CRITICAL] load failed: module 'synthcity.plugins.generic.plugin_goggle' has no attribute 'plugin'\n",
      "[2024-05-03T02:43:03.427655+0000][1207925][CRITICAL] load failed: module 'synthcity.plugins.generic.plugin_goggle' has no attribute 'plugin'\n",
      "[2024-05-03T02:43:03.428019+0000][1207925][CRITICAL] module plugin_goggle load failed\n",
      "Epoch: 100%|██████████| 1000/1000 [00:09<00:00, 104.01it/s, loss=0.878]\n",
      "[2024-05-03T02:43:16.722004+0000][1207925][CRITICAL] load failed: module 'synthcity.plugins.generic.plugin_goggle' has no attribute 'plugin'\n",
      "[2024-05-03T02:43:16.722548+0000][1207925][CRITICAL] load failed: module 'synthcity.plugins.generic.plugin_goggle' has no attribute 'plugin'\n",
      "[2024-05-03T02:43:16.723044+0000][1207925][CRITICAL] module plugin_goggle load failed\n",
      "Epoch: 100%|██████████| 1000/1000 [00:06<00:00, 166.44it/s, loss=0.444]\n",
      "[2024-05-03T02:44:14.009376+0000][1207925][CRITICAL] load failed: module 'synthcity.plugins.generic.plugin_goggle' has no attribute 'plugin'\n",
      "[2024-05-03T02:44:14.010778+0000][1207925][CRITICAL] load failed: module 'synthcity.plugins.generic.plugin_goggle' has no attribute 'plugin'\n",
      "[2024-05-03T02:44:14.011144+0000][1207925][CRITICAL] module plugin_goggle load failed\n",
      "Epoch: 100%|██████████| 1000/1000 [00:09<00:00, 106.61it/s, loss=0.878]\n",
      "[2024-05-03T02:44:27.105666+0000][1207925][CRITICAL] load failed: module 'synthcity.plugins.generic.plugin_goggle' has no attribute 'plugin'\n",
      "[2024-05-03T02:44:27.106486+0000][1207925][CRITICAL] load failed: module 'synthcity.plugins.generic.plugin_goggle' has no attribute 'plugin'\n",
      "[2024-05-03T02:44:27.106932+0000][1207925][CRITICAL] module plugin_goggle load failed\n",
      "Epoch: 100%|██████████| 1000/1000 [00:05<00:00, 175.85it/s, loss=0.444]\n"
     ]
    }
   ],
   "source": [
    "test_no_conf = seq_test(d_real, 'ddpm', 'w', 'y', 3)"
   ]
  },
  {
   "cell_type": "code",
   "execution_count": 294,
   "id": "5ceda4c5",
   "metadata": {},
   "outputs": [
    {
     "data": {
      "text/html": [
       "<div>\n",
       "<style scoped>\n",
       "    .dataframe tbody tr th:only-of-type {\n",
       "        vertical-align: middle;\n",
       "    }\n",
       "\n",
       "    .dataframe tbody tr th {\n",
       "        vertical-align: top;\n",
       "    }\n",
       "\n",
       "    .dataframe thead th {\n",
       "        text-align: right;\n",
       "    }\n",
       "</style>\n",
       "<table border=\"1\" class=\"dataframe\">\n",
       "  <thead>\n",
       "    <tr style=\"text-align: right;\">\n",
       "      <th></th>\n",
       "      <th>f</th>\n",
       "      <th>d</th>\n",
       "      <th>u_pehe</th>\n",
       "      <th>u_policy</th>\n",
       "      <th>u_int</th>\n",
       "    </tr>\n",
       "    <tr>\n",
       "      <th>method</th>\n",
       "      <th></th>\n",
       "      <th></th>\n",
       "      <th></th>\n",
       "      <th></th>\n",
       "      <th></th>\n",
       "    </tr>\n",
       "  </thead>\n",
       "  <tbody>\n",
       "    <tr>\n",
       "      <th>seq_new</th>\n",
       "      <td>0.129772</td>\n",
       "      <td>0.821495</td>\n",
       "      <td>1.642043</td>\n",
       "      <td>0.756667</td>\n",
       "      <td>0.945134</td>\n",
       "    </tr>\n",
       "    <tr>\n",
       "      <th>standard</th>\n",
       "      <td>0.040088</td>\n",
       "      <td>0.820911</td>\n",
       "      <td>5.189636</td>\n",
       "      <td>0.716667</td>\n",
       "      <td>0.621149</td>\n",
       "    </tr>\n",
       "  </tbody>\n",
       "</table>\n",
       "</div>"
      ],
      "text/plain": [
       "                 f         d    u_pehe  u_policy     u_int\n",
       "method                                                    \n",
       "seq_new   0.129772  0.821495  1.642043  0.756667  0.945134\n",
       "standard  0.040088  0.820911  5.189636  0.716667  0.621149"
      ]
     },
     "execution_count": 294,
     "metadata": {},
     "output_type": "execute_result"
    }
   ],
   "source": [
    "test_no_conf.groupby('method').mean()"
   ]
  },
  {
   "cell_type": "code",
   "execution_count": 295,
   "id": "625733f8",
   "metadata": {},
   "outputs": [],
   "source": [
    "X,y,w,p,t = simulate_treatment_setup(500, d=10, n_c=5, n_t=5)\n",
    "X_df = pd.DataFrame(X)\n",
    "y_df = pd.DataFrame(y, columns = ['y'])\n",
    "w_df = pd.DataFrame(w, columns = ['w'])\n",
    "\n",
    "d_real = pd.concat([X_df,w_df,y_df], axis=1)"
   ]
  },
  {
   "cell_type": "code",
   "execution_count": 296,
   "id": "7356fd6e",
   "metadata": {},
   "outputs": [
    {
     "name": "stderr",
     "output_type": "stream",
     "text": [
      "[2024-05-03T02:45:15.541286+0000][1207925][CRITICAL] load failed: module 'synthcity.plugins.generic.plugin_goggle' has no attribute 'plugin'\n",
      "[2024-05-03T02:45:15.541946+0000][1207925][CRITICAL] load failed: module 'synthcity.plugins.generic.plugin_goggle' has no attribute 'plugin'\n",
      "[2024-05-03T02:45:15.542539+0000][1207925][CRITICAL] module plugin_goggle load failed\n",
      "Epoch: 100%|██████████| 1000/1000 [00:09<00:00, 102.82it/s, loss=0.94]\n",
      "[2024-05-03T02:45:28.928814+0000][1207925][CRITICAL] load failed: module 'synthcity.plugins.generic.plugin_goggle' has no attribute 'plugin'\n",
      "[2024-05-03T02:45:28.929577+0000][1207925][CRITICAL] load failed: module 'synthcity.plugins.generic.plugin_goggle' has no attribute 'plugin'\n",
      "[2024-05-03T02:45:28.930003+0000][1207925][CRITICAL] module plugin_goggle load failed\n",
      "Epoch: 100%|██████████| 1000/1000 [00:05<00:00, 172.85it/s, loss=0.445]\n",
      "[2024-05-03T02:47:16.612714+0000][1207925][CRITICAL] load failed: module 'synthcity.plugins.generic.plugin_goggle' has no attribute 'plugin'\n",
      "[2024-05-03T02:47:16.614059+0000][1207925][CRITICAL] load failed: module 'synthcity.plugins.generic.plugin_goggle' has no attribute 'plugin'\n",
      "[2024-05-03T02:47:16.614458+0000][1207925][CRITICAL] module plugin_goggle load failed\n",
      "Epoch: 100%|██████████| 1000/1000 [00:09<00:00, 107.85it/s, loss=0.946]\n",
      "[2024-05-03T02:47:29.558403+0000][1207925][CRITICAL] load failed: module 'synthcity.plugins.generic.plugin_goggle' has no attribute 'plugin'\n",
      "[2024-05-03T02:47:29.559210+0000][1207925][CRITICAL] load failed: module 'synthcity.plugins.generic.plugin_goggle' has no attribute 'plugin'\n",
      "[2024-05-03T02:47:29.559538+0000][1207925][CRITICAL] module plugin_goggle load failed\n",
      "Epoch: 100%|██████████| 1000/1000 [00:06<00:00, 166.11it/s, loss=0.445]\n",
      "[2024-05-03T02:49:12.461857+0000][1207925][CRITICAL] load failed: module 'synthcity.plugins.generic.plugin_goggle' has no attribute 'plugin'\n",
      "[2024-05-03T02:49:12.463122+0000][1207925][CRITICAL] load failed: module 'synthcity.plugins.generic.plugin_goggle' has no attribute 'plugin'\n",
      "[2024-05-03T02:49:12.463497+0000][1207925][CRITICAL] module plugin_goggle load failed\n",
      "Epoch: 100%|██████████| 1000/1000 [00:09<00:00, 107.29it/s, loss=0.946]\n",
      "[2024-05-03T02:49:25.433453+0000][1207925][CRITICAL] load failed: module 'synthcity.plugins.generic.plugin_goggle' has no attribute 'plugin'\n",
      "[2024-05-03T02:49:25.434170+0000][1207925][CRITICAL] load failed: module 'synthcity.plugins.generic.plugin_goggle' has no attribute 'plugin'\n",
      "[2024-05-03T02:49:25.434622+0000][1207925][CRITICAL] module plugin_goggle load failed\n",
      "Epoch: 100%|██████████| 1000/1000 [00:05<00:00, 167.46it/s, loss=0.444]\n"
     ]
    }
   ],
   "source": [
    "test_conf = seq_test(d_real, 'ddpm', 'w', 'y', 3)"
   ]
  },
  {
   "cell_type": "code",
   "execution_count": 308,
   "id": "a9297e22",
   "metadata": {},
   "outputs": [
    {
     "data": {
      "text/html": [
       "<div>\n",
       "<style scoped>\n",
       "    .dataframe tbody tr th:only-of-type {\n",
       "        vertical-align: middle;\n",
       "    }\n",
       "\n",
       "    .dataframe tbody tr th {\n",
       "        vertical-align: top;\n",
       "    }\n",
       "\n",
       "    .dataframe thead th {\n",
       "        text-align: right;\n",
       "    }\n",
       "</style>\n",
       "<table border=\"1\" class=\"dataframe\">\n",
       "  <thead>\n",
       "    <tr style=\"text-align: right;\">\n",
       "      <th></th>\n",
       "      <th>method</th>\n",
       "      <th>f</th>\n",
       "      <th>d</th>\n",
       "      <th>u_pehe</th>\n",
       "      <th>u_policy</th>\n",
       "      <th>u_int</th>\n",
       "    </tr>\n",
       "  </thead>\n",
       "  <tbody>\n",
       "    <tr>\n",
       "      <th>0</th>\n",
       "      <td>standard</td>\n",
       "      <td>0.022478</td>\n",
       "      <td>0.703656</td>\n",
       "      <td>14.005186</td>\n",
       "      <td>0.87</td>\n",
       "      <td>0.617082</td>\n",
       "    </tr>\n",
       "    <tr>\n",
       "      <th>1</th>\n",
       "      <td>seq_new</td>\n",
       "      <td>0.113149</td>\n",
       "      <td>0.893558</td>\n",
       "      <td>2.330140</td>\n",
       "      <td>1.00</td>\n",
       "      <td>0.882679</td>\n",
       "    </tr>\n",
       "    <tr>\n",
       "      <th>2</th>\n",
       "      <td>standard</td>\n",
       "      <td>0.026847</td>\n",
       "      <td>0.738174</td>\n",
       "      <td>14.396672</td>\n",
       "      <td>0.97</td>\n",
       "      <td>0.608709</td>\n",
       "    </tr>\n",
       "    <tr>\n",
       "      <th>3</th>\n",
       "      <td>seq_new</td>\n",
       "      <td>0.106421</td>\n",
       "      <td>0.896517</td>\n",
       "      <td>2.045986</td>\n",
       "      <td>0.98</td>\n",
       "      <td>0.944349</td>\n",
       "    </tr>\n",
       "    <tr>\n",
       "      <th>4</th>\n",
       "      <td>standard</td>\n",
       "      <td>0.023043</td>\n",
       "      <td>0.786037</td>\n",
       "      <td>9.014050</td>\n",
       "      <td>0.98</td>\n",
       "      <td>0.424975</td>\n",
       "    </tr>\n",
       "    <tr>\n",
       "      <th>5</th>\n",
       "      <td>seq_new</td>\n",
       "      <td>0.076220</td>\n",
       "      <td>0.886541</td>\n",
       "      <td>2.258104</td>\n",
       "      <td>0.99</td>\n",
       "      <td>0.950160</td>\n",
       "    </tr>\n",
       "  </tbody>\n",
       "</table>\n",
       "</div>"
      ],
      "text/plain": [
       "     method         f         d     u_pehe  u_policy     u_int\n",
       "0  standard  0.022478  0.703656  14.005186      0.87  0.617082\n",
       "1   seq_new  0.113149  0.893558   2.330140      1.00  0.882679\n",
       "2  standard  0.026847  0.738174  14.396672      0.97  0.608709\n",
       "3   seq_new  0.106421  0.896517   2.045986      0.98  0.944349\n",
       "4  standard  0.023043  0.786037   9.014050      0.98  0.424975\n",
       "5   seq_new  0.076220  0.886541   2.258104      0.99  0.950160"
      ]
     },
     "execution_count": 308,
     "metadata": {},
     "output_type": "execute_result"
    }
   ],
   "source": [
    "test_conf"
   ]
  },
  {
   "cell_type": "code",
   "execution_count": 62,
   "id": "5f94479b",
   "metadata": {},
   "outputs": [],
   "source": [
    "def confounding_insight(n, d, n_t, n_cs, gen, n_iter, save=False, fp=''):\n",
    "    results = pd.DataFrame(columns=['method', 'f', 'c', 'd', 'u_pehe', 'u_policy', 'u_int', 'n_c'])\n",
    "    for n_c in n_cs:\n",
    "        X,y,w,p,t = simulate_treatment_setup(n, d=d, n_c=n_c, n_t=n_t)\n",
    "        X_df = pd.DataFrame(X)\n",
    "        y_df = pd.DataFrame(y, columns = ['y'])\n",
    "        w_df = pd.DataFrame(w, columns = ['w'])\n",
    "        d_real = pd.concat([X_df,w_df,y_df], axis=1)\n",
    "\n",
    "        r = seq_test(d_real, gen, 'w', 'y', n_iter)\n",
    "        r['n_c'] = n_c\n",
    "        results = pd.concat([results, r])\n",
    "        print(f'Tested n_c = {n_c}')\n",
    "\n",
    "    if save:\n",
    "        results.to_csv(fp, index=False)\n",
    "        \n",
    "    return results"
   ]
  },
  {
   "cell_type": "code",
   "execution_count": 64,
   "id": "098bba98",
   "metadata": {},
   "outputs": [
    {
     "name": "stderr",
     "output_type": "stream",
     "text": [
      "[2024-05-09T05:00:44.651238+0000][2265347][CRITICAL] load failed: module 'synthcity.plugins.generic.plugin_goggle' has no attribute 'plugin'\n",
      "[2024-05-09T05:00:44.651782+0000][2265347][CRITICAL] load failed: module 'synthcity.plugins.generic.plugin_goggle' has no attribute 'plugin'\n",
      "[2024-05-09T05:00:44.652180+0000][2265347][CRITICAL] module plugin_goggle load failed\n",
      "Epoch: 100%|██████████| 1000/1000 [00:12<00:00, 81.16it/s, loss=0.876]\n",
      "[2024-05-09T05:01:00.788366+0000][2265347][CRITICAL] load failed: module 'synthcity.plugins.generic.plugin_goggle' has no attribute 'plugin'\n",
      "[2024-05-09T05:01:00.789311+0000][2265347][CRITICAL] load failed: module 'synthcity.plugins.generic.plugin_goggle' has no attribute 'plugin'\n",
      "[2024-05-09T05:01:00.789649+0000][2265347][CRITICAL] module plugin_goggle load failed\n",
      "Epoch: 100%|██████████| 1000/1000 [00:08<00:00, 116.74it/s, loss=0.471]\n",
      "[2024-05-09T05:02:29.114690+0000][2265347][CRITICAL] load failed: module 'synthcity.plugins.generic.plugin_goggle' has no attribute 'plugin'\n",
      "[2024-05-09T05:02:29.117844+0000][2265347][CRITICAL] load failed: module 'synthcity.plugins.generic.plugin_goggle' has no attribute 'plugin'\n",
      "[2024-05-09T05:02:29.118447+0000][2265347][CRITICAL] module plugin_goggle load failed\n",
      "Epoch: 100%|██████████| 1000/1000 [00:11<00:00, 84.77it/s, loss=0.869]\n",
      "[2024-05-09T05:02:44.730259+0000][2265347][CRITICAL] load failed: module 'synthcity.plugins.generic.plugin_goggle' has no attribute 'plugin'\n",
      "[2024-05-09T05:02:44.731214+0000][2265347][CRITICAL] load failed: module 'synthcity.plugins.generic.plugin_goggle' has no attribute 'plugin'\n",
      "[2024-05-09T05:02:44.731552+0000][2265347][CRITICAL] module plugin_goggle load failed\n",
      "Epoch: 100%|██████████| 1000/1000 [00:08<00:00, 119.37it/s, loss=0.469]\n",
      "[2024-05-09T05:04:09.846859+0000][2265347][CRITICAL] load failed: module 'synthcity.plugins.generic.plugin_goggle' has no attribute 'plugin'\n",
      "[2024-05-09T05:04:09.847427+0000][2265347][CRITICAL] load failed: module 'synthcity.plugins.generic.plugin_goggle' has no attribute 'plugin'\n",
      "[2024-05-09T05:04:09.847895+0000][2265347][CRITICAL] module plugin_goggle load failed\n"
     ]
    },
    {
     "name": "stdout",
     "output_type": "stream",
     "text": [
      "Tested n_c = 1\n"
     ]
    },
    {
     "name": "stderr",
     "output_type": "stream",
     "text": [
      "Epoch: 100%|██████████| 1000/1000 [00:11<00:00, 85.00it/s, loss=0.881]\n",
      "[2024-05-09T05:04:25.415847+0000][2265347][CRITICAL] load failed: module 'synthcity.plugins.generic.plugin_goggle' has no attribute 'plugin'\n",
      "[2024-05-09T05:04:25.416460+0000][2265347][CRITICAL] load failed: module 'synthcity.plugins.generic.plugin_goggle' has no attribute 'plugin'\n",
      "[2024-05-09T05:04:25.416843+0000][2265347][CRITICAL] module plugin_goggle load failed\n",
      "Epoch: 100%|██████████| 1000/1000 [00:08<00:00, 119.00it/s, loss=0.472]\n",
      "[2024-05-09T05:06:05.106968+0000][2265347][CRITICAL] load failed: module 'synthcity.plugins.generic.plugin_goggle' has no attribute 'plugin'\n",
      "[2024-05-09T05:06:05.109812+0000][2265347][CRITICAL] load failed: module 'synthcity.plugins.generic.plugin_goggle' has no attribute 'plugin'\n",
      "[2024-05-09T05:06:05.110382+0000][2265347][CRITICAL] module plugin_goggle load failed\n",
      "Epoch: 100%|██████████| 1000/1000 [00:11<00:00, 83.65it/s, loss=0.9] \n",
      "[2024-05-09T05:06:20.782233+0000][2265347][CRITICAL] load failed: module 'synthcity.plugins.generic.plugin_goggle' has no attribute 'plugin'\n",
      "[2024-05-09T05:06:20.782915+0000][2265347][CRITICAL] load failed: module 'synthcity.plugins.generic.plugin_goggle' has no attribute 'plugin'\n",
      "[2024-05-09T05:06:20.783270+0000][2265347][CRITICAL] module plugin_goggle load failed\n",
      "Epoch: 100%|██████████| 1000/1000 [00:08<00:00, 119.78it/s, loss=0.471]\n",
      "[2024-05-09T05:07:56.307095+0000][2265347][CRITICAL] load failed: module 'synthcity.plugins.generic.plugin_goggle' has no attribute 'plugin'\n",
      "[2024-05-09T05:07:56.307927+0000][2265347][CRITICAL] load failed: module 'synthcity.plugins.generic.plugin_goggle' has no attribute 'plugin'\n",
      "[2024-05-09T05:07:56.308353+0000][2265347][CRITICAL] module plugin_goggle load failed\n"
     ]
    },
    {
     "name": "stdout",
     "output_type": "stream",
     "text": [
      "Tested n_c = 2\n"
     ]
    },
    {
     "name": "stderr",
     "output_type": "stream",
     "text": [
      "Epoch: 100%|██████████| 1000/1000 [00:12<00:00, 82.88it/s, loss=0.91]\n",
      "[2024-05-09T05:08:12.178072+0000][2265347][CRITICAL] load failed: module 'synthcity.plugins.generic.plugin_goggle' has no attribute 'plugin'\n",
      "[2024-05-09T05:08:12.178648+0000][2265347][CRITICAL] load failed: module 'synthcity.plugins.generic.plugin_goggle' has no attribute 'plugin'\n",
      "[2024-05-09T05:08:12.178992+0000][2265347][CRITICAL] module plugin_goggle load failed\n",
      "Epoch: 100%|██████████| 1000/1000 [00:08<00:00, 119.81it/s, loss=0.468]\n",
      "[2024-05-09T05:10:06.413243+0000][2265347][CRITICAL] load failed: module 'synthcity.plugins.generic.plugin_goggle' has no attribute 'plugin'\n",
      "[2024-05-09T05:10:06.415778+0000][2265347][CRITICAL] load failed: module 'synthcity.plugins.generic.plugin_goggle' has no attribute 'plugin'\n",
      "[2024-05-09T05:10:06.416848+0000][2265347][CRITICAL] module plugin_goggle load failed\n",
      "Epoch: 100%|██████████| 1000/1000 [00:12<00:00, 81.06it/s, loss=0.905]\n",
      "[2024-05-09T05:10:22.510076+0000][2265347][CRITICAL] load failed: module 'synthcity.plugins.generic.plugin_goggle' has no attribute 'plugin'\n",
      "[2024-05-09T05:10:22.510841+0000][2265347][CRITICAL] load failed: module 'synthcity.plugins.generic.plugin_goggle' has no attribute 'plugin'\n",
      "[2024-05-09T05:10:22.511315+0000][2265347][CRITICAL] module plugin_goggle load failed\n",
      "Epoch: 100%|██████████| 1000/1000 [00:08<00:00, 116.37it/s, loss=0.47]\n",
      "[2024-05-09T05:12:21.929868+0000][2265347][CRITICAL] load failed: module 'synthcity.plugins.generic.plugin_goggle' has no attribute 'plugin'\n",
      "[2024-05-09T05:12:21.930787+0000][2265347][CRITICAL] load failed: module 'synthcity.plugins.generic.plugin_goggle' has no attribute 'plugin'\n",
      "[2024-05-09T05:12:21.931310+0000][2265347][CRITICAL] module plugin_goggle load failed\n"
     ]
    },
    {
     "name": "stdout",
     "output_type": "stream",
     "text": [
      "Tested n_c = 3\n"
     ]
    },
    {
     "name": "stderr",
     "output_type": "stream",
     "text": [
      "Epoch: 100%|██████████| 1000/1000 [00:12<00:00, 81.88it/s, loss=0.91]\n",
      "[2024-05-09T05:12:37.921661+0000][2265347][CRITICAL] load failed: module 'synthcity.plugins.generic.plugin_goggle' has no attribute 'plugin'\n",
      "[2024-05-09T05:12:37.922461+0000][2265347][CRITICAL] load failed: module 'synthcity.plugins.generic.plugin_goggle' has no attribute 'plugin'\n",
      "[2024-05-09T05:12:37.922931+0000][2265347][CRITICAL] module plugin_goggle load failed\n",
      "Epoch: 100%|██████████| 1000/1000 [00:08<00:00, 117.30it/s, loss=0.471]\n",
      "[2024-05-09T05:14:43.938169+0000][2265347][CRITICAL] load failed: module 'synthcity.plugins.generic.plugin_goggle' has no attribute 'plugin'\n",
      "[2024-05-09T05:14:43.940307+0000][2265347][CRITICAL] load failed: module 'synthcity.plugins.generic.plugin_goggle' has no attribute 'plugin'\n",
      "[2024-05-09T05:14:43.941298+0000][2265347][CRITICAL] module plugin_goggle load failed\n",
      "Epoch: 100%|██████████| 1000/1000 [00:12<00:00, 79.30it/s, loss=0.919]\n",
      "[2024-05-09T05:15:00.332718+0000][2265347][CRITICAL] load failed: module 'synthcity.plugins.generic.plugin_goggle' has no attribute 'plugin'\n",
      "[2024-05-09T05:15:00.334309+0000][2265347][CRITICAL] load failed: module 'synthcity.plugins.generic.plugin_goggle' has no attribute 'plugin'\n",
      "[2024-05-09T05:15:00.335010+0000][2265347][CRITICAL] module plugin_goggle load failed\n",
      "Epoch: 100%|██████████| 1000/1000 [00:08<00:00, 114.94it/s, loss=0.471]\n",
      "[2024-05-09T05:17:08.546944+0000][2265347][CRITICAL] load failed: module 'synthcity.plugins.generic.plugin_goggle' has no attribute 'plugin'\n",
      "[2024-05-09T05:17:08.547865+0000][2265347][CRITICAL] load failed: module 'synthcity.plugins.generic.plugin_goggle' has no attribute 'plugin'\n",
      "[2024-05-09T05:17:08.548242+0000][2265347][CRITICAL] module plugin_goggle load failed\n"
     ]
    },
    {
     "name": "stdout",
     "output_type": "stream",
     "text": [
      "Tested n_c = 4\n"
     ]
    },
    {
     "name": "stderr",
     "output_type": "stream",
     "text": [
      "Epoch: 100%|██████████| 1000/1000 [00:12<00:00, 82.59it/s, loss=0.939]\n",
      "[2024-05-09T05:17:24.375161+0000][2265347][CRITICAL] load failed: module 'synthcity.plugins.generic.plugin_goggle' has no attribute 'plugin'\n",
      "[2024-05-09T05:17:24.375836+0000][2265347][CRITICAL] load failed: module 'synthcity.plugins.generic.plugin_goggle' has no attribute 'plugin'\n",
      "[2024-05-09T05:17:24.376278+0000][2265347][CRITICAL] module plugin_goggle load failed\n",
      "Epoch: 100%|██████████| 1000/1000 [00:08<00:00, 119.08it/s, loss=0.469]\n",
      "[2024-05-09T05:19:31.718230+0000][2265347][CRITICAL] load failed: module 'synthcity.plugins.generic.plugin_goggle' has no attribute 'plugin'\n",
      "[2024-05-09T05:19:31.720462+0000][2265347][CRITICAL] load failed: module 'synthcity.plugins.generic.plugin_goggle' has no attribute 'plugin'\n",
      "[2024-05-09T05:19:31.721477+0000][2265347][CRITICAL] module plugin_goggle load failed\n",
      "Epoch: 100%|██████████| 1000/1000 [00:11<00:00, 84.28it/s, loss=0.94]\n",
      "[2024-05-09T05:19:47.320442+0000][2265347][CRITICAL] load failed: module 'synthcity.plugins.generic.plugin_goggle' has no attribute 'plugin'\n",
      "[2024-05-09T05:19:47.321049+0000][2265347][CRITICAL] load failed: module 'synthcity.plugins.generic.plugin_goggle' has no attribute 'plugin'\n",
      "[2024-05-09T05:19:47.321410+0000][2265347][CRITICAL] module plugin_goggle load failed\n",
      "Epoch: 100%|██████████| 1000/1000 [00:08<00:00, 121.37it/s, loss=0.469]\n",
      "[2024-05-09T05:21:52.454875+0000][2265347][CRITICAL] load failed: module 'synthcity.plugins.generic.plugin_goggle' has no attribute 'plugin'\n",
      "[2024-05-09T05:21:52.455814+0000][2265347][CRITICAL] load failed: module 'synthcity.plugins.generic.plugin_goggle' has no attribute 'plugin'\n",
      "[2024-05-09T05:21:52.456202+0000][2265347][CRITICAL] module plugin_goggle load failed\n"
     ]
    },
    {
     "name": "stdout",
     "output_type": "stream",
     "text": [
      "Tested n_c = 5\n"
     ]
    },
    {
     "name": "stderr",
     "output_type": "stream",
     "text": [
      "Epoch: 100%|██████████| 1000/1000 [00:11<00:00, 83.83it/s, loss=0.961]\n",
      "[2024-05-09T05:22:08.070560+0000][2265347][CRITICAL] load failed: module 'synthcity.plugins.generic.plugin_goggle' has no attribute 'plugin'\n",
      "[2024-05-09T05:22:08.071794+0000][2265347][CRITICAL] load failed: module 'synthcity.plugins.generic.plugin_goggle' has no attribute 'plugin'\n",
      "[2024-05-09T05:22:08.072217+0000][2265347][CRITICAL] module plugin_goggle load failed\n",
      "Epoch: 100%|██████████| 1000/1000 [00:08<00:00, 119.61it/s, loss=0.47]\n",
      "[2024-05-09T05:24:21.955746+0000][2265347][CRITICAL] load failed: module 'synthcity.plugins.generic.plugin_goggle' has no attribute 'plugin'\n",
      "[2024-05-09T05:24:21.959074+0000][2265347][CRITICAL] load failed: module 'synthcity.plugins.generic.plugin_goggle' has no attribute 'plugin'\n",
      "[2024-05-09T05:24:21.959678+0000][2265347][CRITICAL] module plugin_goggle load failed\n",
      "Epoch: 100%|██████████| 1000/1000 [00:11<00:00, 85.82it/s, loss=0.964]\n",
      "[2024-05-09T05:24:37.261918+0000][2265347][CRITICAL] load failed: module 'synthcity.plugins.generic.plugin_goggle' has no attribute 'plugin'\n",
      "[2024-05-09T05:24:37.262493+0000][2265347][CRITICAL] load failed: module 'synthcity.plugins.generic.plugin_goggle' has no attribute 'plugin'\n",
      "[2024-05-09T05:24:37.262824+0000][2265347][CRITICAL] module plugin_goggle load failed\n",
      "Epoch: 100%|██████████| 1000/1000 [00:08<00:00, 123.11it/s, loss=0.469]\n",
      "[2024-05-09T05:26:51.927412+0000][2265347][CRITICAL] load failed: module 'synthcity.plugins.generic.plugin_goggle' has no attribute 'plugin'\n",
      "[2024-05-09T05:26:51.928234+0000][2265347][CRITICAL] load failed: module 'synthcity.plugins.generic.plugin_goggle' has no attribute 'plugin'\n",
      "[2024-05-09T05:26:51.928643+0000][2265347][CRITICAL] module plugin_goggle load failed\n"
     ]
    },
    {
     "name": "stdout",
     "output_type": "stream",
     "text": [
      "Tested n_c = 6\n"
     ]
    },
    {
     "name": "stderr",
     "output_type": "stream",
     "text": [
      "Epoch: 100%|██████████| 1000/1000 [00:11<00:00, 84.37it/s, loss=0.973]\n",
      "[2024-05-09T05:27:07.488862+0000][2265347][CRITICAL] load failed: module 'synthcity.plugins.generic.plugin_goggle' has no attribute 'plugin'\n",
      "[2024-05-09T05:27:07.489679+0000][2265347][CRITICAL] load failed: module 'synthcity.plugins.generic.plugin_goggle' has no attribute 'plugin'\n",
      "[2024-05-09T05:27:07.490153+0000][2265347][CRITICAL] module plugin_goggle load failed\n",
      "Epoch: 100%|██████████| 1000/1000 [00:08<00:00, 113.84it/s, loss=0.469]\n",
      "[2024-05-09T05:29:44.584957+0000][2265347][CRITICAL] load failed: module 'synthcity.plugins.generic.plugin_goggle' has no attribute 'plugin'\n",
      "[2024-05-09T05:29:44.587195+0000][2265347][CRITICAL] load failed: module 'synthcity.plugins.generic.plugin_goggle' has no attribute 'plugin'\n",
      "[2024-05-09T05:29:44.588213+0000][2265347][CRITICAL] module plugin_goggle load failed\n",
      "Epoch: 100%|██████████| 1000/1000 [00:12<00:00, 82.42it/s, loss=0.965]\n",
      "[2024-05-09T05:30:00.375615+0000][2265347][CRITICAL] load failed: module 'synthcity.plugins.generic.plugin_goggle' has no attribute 'plugin'\n",
      "[2024-05-09T05:30:00.376303+0000][2265347][CRITICAL] load failed: module 'synthcity.plugins.generic.plugin_goggle' has no attribute 'plugin'\n",
      "[2024-05-09T05:30:00.376819+0000][2265347][CRITICAL] module plugin_goggle load failed\n",
      "Epoch: 100%|██████████| 1000/1000 [00:08<00:00, 112.96it/s, loss=0.469]\n",
      "[2024-05-09T05:32:32.759643+0000][2265347][CRITICAL] load failed: module 'synthcity.plugins.generic.plugin_goggle' has no attribute 'plugin'\n",
      "[2024-05-09T05:32:32.760487+0000][2265347][CRITICAL] load failed: module 'synthcity.plugins.generic.plugin_goggle' has no attribute 'plugin'\n",
      "[2024-05-09T05:32:32.760841+0000][2265347][CRITICAL] module plugin_goggle load failed\n"
     ]
    },
    {
     "name": "stdout",
     "output_type": "stream",
     "text": [
      "Tested n_c = 7\n"
     ]
    },
    {
     "name": "stderr",
     "output_type": "stream",
     "text": [
      "Epoch: 100%|██████████| 1000/1000 [00:11<00:00, 86.95it/s, loss=0.988]\n",
      "[2024-05-09T05:32:47.928648+0000][2265347][CRITICAL] load failed: module 'synthcity.plugins.generic.plugin_goggle' has no attribute 'plugin'\n",
      "[2024-05-09T05:32:47.929320+0000][2265347][CRITICAL] load failed: module 'synthcity.plugins.generic.plugin_goggle' has no attribute 'plugin'\n",
      "[2024-05-09T05:32:47.929743+0000][2265347][CRITICAL] module plugin_goggle load failed\n",
      "Epoch: 100%|██████████| 1000/1000 [00:08<00:00, 118.79it/s, loss=0.47]\n",
      "[2024-05-09T05:35:28.290208+0000][2265347][CRITICAL] load failed: module 'synthcity.plugins.generic.plugin_goggle' has no attribute 'plugin'\n",
      "[2024-05-09T05:35:28.292720+0000][2265347][CRITICAL] load failed: module 'synthcity.plugins.generic.plugin_goggle' has no attribute 'plugin'\n",
      "[2024-05-09T05:35:28.293844+0000][2265347][CRITICAL] module plugin_goggle load failed\n",
      "Epoch: 100%|██████████| 1000/1000 [00:11<00:00, 85.49it/s, loss=0.987]\n",
      "[2024-05-09T05:35:43.678290+0000][2265347][CRITICAL] load failed: module 'synthcity.plugins.generic.plugin_goggle' has no attribute 'plugin'\n",
      "[2024-05-09T05:35:43.679501+0000][2265347][CRITICAL] load failed: module 'synthcity.plugins.generic.plugin_goggle' has no attribute 'plugin'\n",
      "[2024-05-09T05:35:43.679919+0000][2265347][CRITICAL] module plugin_goggle load failed\n",
      "Epoch: 100%|██████████| 1000/1000 [00:08<00:00, 115.61it/s, loss=0.469]\n",
      "[2024-05-09T05:38:23.026753+0000][2265347][CRITICAL] load failed: module 'synthcity.plugins.generic.plugin_goggle' has no attribute 'plugin'\n",
      "[2024-05-09T05:38:23.027714+0000][2265347][CRITICAL] load failed: module 'synthcity.plugins.generic.plugin_goggle' has no attribute 'plugin'\n",
      "[2024-05-09T05:38:23.028091+0000][2265347][CRITICAL] module plugin_goggle load failed\n"
     ]
    },
    {
     "name": "stdout",
     "output_type": "stream",
     "text": [
      "Tested n_c = 8\n"
     ]
    },
    {
     "name": "stderr",
     "output_type": "stream",
     "text": [
      "Epoch: 100%|██████████| 1000/1000 [00:11<00:00, 85.63it/s, loss=0.972]\n",
      "[2024-05-09T05:38:38.411810+0000][2265347][CRITICAL] load failed: module 'synthcity.plugins.generic.plugin_goggle' has no attribute 'plugin'\n",
      "[2024-05-09T05:38:38.412603+0000][2265347][CRITICAL] load failed: module 'synthcity.plugins.generic.plugin_goggle' has no attribute 'plugin'\n",
      "[2024-05-09T05:38:38.412941+0000][2265347][CRITICAL] module plugin_goggle load failed\n",
      "Epoch: 100%|██████████| 1000/1000 [00:08<00:00, 115.32it/s, loss=0.471]\n",
      "[2024-05-09T05:41:30.840887+0000][2265347][CRITICAL] load failed: module 'synthcity.plugins.generic.plugin_goggle' has no attribute 'plugin'\n",
      "[2024-05-09T05:41:30.843246+0000][2265347][CRITICAL] load failed: module 'synthcity.plugins.generic.plugin_goggle' has no attribute 'plugin'\n",
      "[2024-05-09T05:41:30.844284+0000][2265347][CRITICAL] module plugin_goggle load failed\n",
      "Epoch: 100%|██████████| 1000/1000 [00:11<00:00, 85.40it/s, loss=0.969]\n",
      "[2024-05-09T05:41:46.232718+0000][2265347][CRITICAL] load failed: module 'synthcity.plugins.generic.plugin_goggle' has no attribute 'plugin'\n",
      "[2024-05-09T05:41:46.233485+0000][2265347][CRITICAL] load failed: module 'synthcity.plugins.generic.plugin_goggle' has no attribute 'plugin'\n",
      "[2024-05-09T05:41:46.233915+0000][2265347][CRITICAL] module plugin_goggle load failed\n",
      "Epoch: 100%|██████████| 1000/1000 [00:08<00:00, 115.84it/s, loss=0.471]\n",
      "[2024-05-09T05:44:37.743096+0000][2265347][CRITICAL] load failed: module 'synthcity.plugins.generic.plugin_goggle' has no attribute 'plugin'\n",
      "[2024-05-09T05:44:37.744043+0000][2265347][CRITICAL] load failed: module 'synthcity.plugins.generic.plugin_goggle' has no attribute 'plugin'\n",
      "[2024-05-09T05:44:37.744509+0000][2265347][CRITICAL] module plugin_goggle load failed\n"
     ]
    },
    {
     "name": "stdout",
     "output_type": "stream",
     "text": [
      "Tested n_c = 9\n"
     ]
    },
    {
     "name": "stderr",
     "output_type": "stream",
     "text": [
      "Epoch: 100%|██████████| 1000/1000 [00:12<00:00, 82.66it/s, loss=0.996]\n",
      "[2024-05-09T05:44:53.539250+0000][2265347][CRITICAL] load failed: module 'synthcity.plugins.generic.plugin_goggle' has no attribute 'plugin'\n",
      "[2024-05-09T05:44:53.540319+0000][2265347][CRITICAL] load failed: module 'synthcity.plugins.generic.plugin_goggle' has no attribute 'plugin'\n",
      "[2024-05-09T05:44:53.540705+0000][2265347][CRITICAL] module plugin_goggle load failed\n",
      "Epoch: 100%|██████████| 1000/1000 [00:08<00:00, 118.32it/s, loss=0.47]\n",
      "[2024-05-09T05:47:45.764111+0000][2265347][CRITICAL] load failed: module 'synthcity.plugins.generic.plugin_goggle' has no attribute 'plugin'\n",
      "[2024-05-09T05:47:45.767555+0000][2265347][CRITICAL] load failed: module 'synthcity.plugins.generic.plugin_goggle' has no attribute 'plugin'\n",
      "[2024-05-09T05:47:45.768059+0000][2265347][CRITICAL] module plugin_goggle load failed\n",
      "Epoch: 100%|██████████| 1000/1000 [00:11<00:00, 87.30it/s, loss=1]   \n",
      "[2024-05-09T05:48:00.870732+0000][2265347][CRITICAL] load failed: module 'synthcity.plugins.generic.plugin_goggle' has no attribute 'plugin'\n",
      "[2024-05-09T05:48:00.871636+0000][2265347][CRITICAL] load failed: module 'synthcity.plugins.generic.plugin_goggle' has no attribute 'plugin'\n",
      "[2024-05-09T05:48:00.871958+0000][2265347][CRITICAL] module plugin_goggle load failed\n",
      "Epoch: 100%|██████████| 1000/1000 [00:08<00:00, 122.01it/s, loss=0.47]\n"
     ]
    },
    {
     "name": "stdout",
     "output_type": "stream",
     "text": [
      "Tested n_c = 10\n"
     ]
    }
   ],
   "source": [
    "conf_results = confounding_insight(1000, 10, 5, [1,2,3,4,5], 'ddpm', 10, save=True, fp = 'confounding_insight_new.csv')"
   ]
  },
  {
   "cell_type": "code",
   "execution_count": 21,
   "id": "138a27ab",
   "metadata": {},
   "outputs": [],
   "source": [
    "conf_results = pd.read_csv('confounding_insight_new.csv')"
   ]
  },
  {
   "cell_type": "code",
   "execution_count": 22,
   "id": "e87a4bdc",
   "metadata": {},
   "outputs": [
    {
     "data": {
      "text/html": [
       "<div>\n",
       "<style scoped>\n",
       "    .dataframe tbody tr th:only-of-type {\n",
       "        vertical-align: middle;\n",
       "    }\n",
       "\n",
       "    .dataframe tbody tr th {\n",
       "        vertical-align: top;\n",
       "    }\n",
       "\n",
       "    .dataframe thead th {\n",
       "        text-align: right;\n",
       "    }\n",
       "</style>\n",
       "<table border=\"1\" class=\"dataframe\">\n",
       "  <thead>\n",
       "    <tr style=\"text-align: right;\">\n",
       "      <th></th>\n",
       "      <th>method</th>\n",
       "      <th>f</th>\n",
       "      <th>c</th>\n",
       "      <th>d</th>\n",
       "      <th>u_pehe</th>\n",
       "      <th>u_policy</th>\n",
       "      <th>u_int</th>\n",
       "    </tr>\n",
       "    <tr>\n",
       "      <th>n_c</th>\n",
       "      <th></th>\n",
       "      <th></th>\n",
       "      <th></th>\n",
       "      <th></th>\n",
       "      <th></th>\n",
       "      <th></th>\n",
       "      <th></th>\n",
       "    </tr>\n",
       "  </thead>\n",
       "  <tbody>\n",
       "    <tr>\n",
       "      <th>0</th>\n",
       "      <td>20</td>\n",
       "      <td>20</td>\n",
       "      <td>20</td>\n",
       "      <td>20</td>\n",
       "      <td>20</td>\n",
       "      <td>20</td>\n",
       "      <td>20</td>\n",
       "    </tr>\n",
       "    <tr>\n",
       "      <th>1</th>\n",
       "      <td>20</td>\n",
       "      <td>20</td>\n",
       "      <td>20</td>\n",
       "      <td>20</td>\n",
       "      <td>20</td>\n",
       "      <td>20</td>\n",
       "      <td>20</td>\n",
       "    </tr>\n",
       "    <tr>\n",
       "      <th>2</th>\n",
       "      <td>20</td>\n",
       "      <td>20</td>\n",
       "      <td>20</td>\n",
       "      <td>20</td>\n",
       "      <td>20</td>\n",
       "      <td>20</td>\n",
       "      <td>20</td>\n",
       "    </tr>\n",
       "    <tr>\n",
       "      <th>3</th>\n",
       "      <td>20</td>\n",
       "      <td>20</td>\n",
       "      <td>20</td>\n",
       "      <td>20</td>\n",
       "      <td>20</td>\n",
       "      <td>20</td>\n",
       "      <td>20</td>\n",
       "    </tr>\n",
       "    <tr>\n",
       "      <th>4</th>\n",
       "      <td>20</td>\n",
       "      <td>20</td>\n",
       "      <td>20</td>\n",
       "      <td>20</td>\n",
       "      <td>20</td>\n",
       "      <td>20</td>\n",
       "      <td>20</td>\n",
       "    </tr>\n",
       "    <tr>\n",
       "      <th>5</th>\n",
       "      <td>20</td>\n",
       "      <td>20</td>\n",
       "      <td>20</td>\n",
       "      <td>20</td>\n",
       "      <td>20</td>\n",
       "      <td>20</td>\n",
       "      <td>20</td>\n",
       "    </tr>\n",
       "  </tbody>\n",
       "</table>\n",
       "</div>"
      ],
      "text/plain": [
       "     method   f   c   d  u_pehe  u_policy  u_int\n",
       "n_c                                             \n",
       "0        20  20  20  20      20        20     20\n",
       "1        20  20  20  20      20        20     20\n",
       "2        20  20  20  20      20        20     20\n",
       "3        20  20  20  20      20        20     20\n",
       "4        20  20  20  20      20        20     20\n",
       "5        20  20  20  20      20        20     20"
      ]
     },
     "execution_count": 22,
     "metadata": {},
     "output_type": "execute_result"
    }
   ],
   "source": [
    "conf_results.groupby(['n_c']).count()"
   ]
  },
  {
   "cell_type": "code",
   "execution_count": 34,
   "id": "98aaa698",
   "metadata": {},
   "outputs": [],
   "source": [
    "conf_results = conf_results[conf_results['n_c']!=0]"
   ]
  },
  {
   "cell_type": "code",
   "execution_count": 38,
   "id": "ea55cd2f",
   "metadata": {},
   "outputs": [
    {
     "data": {
      "image/png": "[encoded data removed]",
      "text/plain": [
       "<Figure size 640x480 with 1 Axes>"
      ]
     },
     "metadata": {},
     "output_type": "display_data"
    }
   ],
   "source": [
    "x = [1,2,3,4,5]\n",
    "d_seq = conf_results[conf_results['method']=='seq_new'].groupby(['n_c']).mean()['d']\n",
    "d_stand = conf_results[conf_results['method']=='standard'].groupby(['n_c']).mean()['d']\n",
    "\n",
    "d_seq_std = conf_results[conf_results['method']=='seq_new'].groupby(['n_c']).std()['d'] / np.sqrt(10) * 1.96\n",
    "d_stand_std = conf_results[conf_results['method']=='standard'].groupby(['n_c']).std()['d']/ np.sqrt(10) * 1.96\n",
    "\n",
    "plt.rcParams.update({'font.size': 22})\n",
    "plt.plot(x, d_stand, 'o-', label = 'Standard')\n",
    "plt.plot(x, d_seq, 'o-', label = 'SynCATE')\n",
    "\n",
    "\n",
    "plt.fill_between(x, d_stand - d_stand_std, d_stand + d_stand_std, alpha=0.2)\n",
    "plt.fill_between(x, d_seq - d_seq_std, d_seq + d_seq_std, alpha=0.2)\n",
    "plt.legend()\n",
    "plt.xlabel('No. confounding covariates')\n",
    "plt.ylabel('$D$')\n",
    "plt.ylim([0.6,1])\n",
    "plt.savefig('plots/confounding_complexity_plot.pdf', bbox_inches='tight')"
   ]
  },
  {
   "cell_type": "markdown",
   "id": "4fb8bb0d",
   "metadata": {},
   "source": [
    "What happens are num covariates increases?"
   ]
  },
  {
   "cell_type": "code",
   "execution_count": 300,
   "id": "445fbf2d",
   "metadata": {},
   "outputs": [],
   "source": [
    "X,y,w,p,t = simulate_treatment_setup(500, d=2, n_o=1, n_t=1)\n",
    "X_df = pd.DataFrame(X)\n",
    "y_df = pd.DataFrame(y, columns = ['y'])\n",
    "w_df = pd.DataFrame(w, columns = ['w'])\n",
    "\n",
    "d_real = pd.concat([X_df,w_df,y_df], axis=1)"
   ]
  },
  {
   "cell_type": "code",
   "execution_count": 301,
   "metadata": {},
   "outputs": [
    {
     "name": "stderr",
     "output_type": "stream",
     "text": [
      "[2024-05-03T02:56:02.472509+0000][1207925][CRITICAL] load failed: module 'synthcity.plugins.generic.plugin_goggle' has no attribute 'plugin'\n",
      "[2024-05-03T02:56:02.473777+0000][1207925][CRITICAL] load failed: module 'synthcity.plugins.generic.plugin_goggle' has no attribute 'plugin'\n",
      "[2024-05-03T02:56:02.474460+0000][1207925][CRITICAL] module plugin_goggle load failed\n",
      "Epoch: 100%|██████████| 1000/1000 [00:09<00:00, 105.83it/s, loss=1.08]\n",
      "[2024-05-03T02:56:15.610555+0000][1207925][CRITICAL] load failed: module 'synthcity.plugins.generic.plugin_goggle' has no attribute 'plugin'\n",
      "[2024-05-03T02:56:15.611305+0000][1207925][CRITICAL] load failed: module 'synthcity.plugins.generic.plugin_goggle' has no attribute 'plugin'\n",
      "[2024-05-03T02:56:15.611758+0000][1207925][CRITICAL] module plugin_goggle load failed\n",
      "Epoch: 100%|██████████| 1000/1000 [00:06<00:00, 165.80it/s, loss=0.471]\n",
      "[2024-05-03T02:56:52.424485+0000][1207925][CRITICAL] load failed: module 'synthcity.plugins.generic.plugin_goggle' has no attribute 'plugin'\n",
      "[2024-05-03T02:56:52.425466+0000][1207925][CRITICAL] load failed: module 'synthcity.plugins.generic.plugin_goggle' has no attribute 'plugin'\n",
      "[2024-05-03T02:56:52.425888+0000][1207925][CRITICAL] module plugin_goggle load failed\n",
      "Epoch: 100%|██████████| 1000/1000 [00:09<00:00, 107.52it/s, loss=1.08]\n",
      "[2024-05-03T02:57:05.286030+0000][1207925][CRITICAL] load failed: module 'synthcity.plugins.generic.plugin_goggle' has no attribute 'plugin'\n",
      "[2024-05-03T02:57:05.286584+0000][1207925][CRITICAL] load failed: module 'synthcity.plugins.generic.plugin_goggle' has no attribute 'plugin'\n",
      "[2024-05-03T02:57:05.286961+0000][1207925][CRITICAL] module plugin_goggle load failed\n",
      "Epoch: 100%|██████████| 1000/1000 [00:05<00:00, 179.03it/s, loss=0.471]\n",
      "[2024-05-03T02:57:38.416119+0000][1207925][CRITICAL] load failed: module 'synthcity.plugins.generic.plugin_goggle' has no attribute 'plugin'\n",
      "[2024-05-03T02:57:38.417226+0000][1207925][CRITICAL] load failed: module 'synthcity.plugins.generic.plugin_goggle' has no attribute 'plugin'\n",
      "[2024-05-03T02:57:38.417684+0000][1207925][CRITICAL] module plugin_goggle load failed\n",
      "Epoch: 100%|██████████| 1000/1000 [00:08<00:00, 114.06it/s, loss=1.08]\n",
      "[2024-05-03T02:57:50.748852+0000][1207925][CRITICAL] load failed: module 'synthcity.plugins.generic.plugin_goggle' has no attribute 'plugin'\n",
      "[2024-05-03T02:57:50.749469+0000][1207925][CRITICAL] load failed: module 'synthcity.plugins.generic.plugin_goggle' has no attribute 'plugin'\n",
      "[2024-05-03T02:57:50.749854+0000][1207925][CRITICAL] module plugin_goggle load failed\n",
      "Epoch: 100%|██████████| 1000/1000 [00:05<00:00, 172.35it/s, loss=0.471]\n"
     ]
    }
   ],
   "source": [
    "test_cov_small = seq_test(d_real, 'ddpm', 'w', 'y', 3)"
   ]
  },
  {
   "cell_type": "code",
   "execution_count": 302,
   "id": "13f1ee2d",
   "metadata": {},
   "outputs": [
    {
     "data": {
      "text/html": [
       "<div>\n",
       "<style scoped>\n",
       "    .dataframe tbody tr th:only-of-type {\n",
       "        vertical-align: middle;\n",
       "    }\n",
       "\n",
       "    .dataframe tbody tr th {\n",
       "        vertical-align: top;\n",
       "    }\n",
       "\n",
       "    .dataframe thead th {\n",
       "        text-align: right;\n",
       "    }\n",
       "</style>\n",
       "<table border=\"1\" class=\"dataframe\">\n",
       "  <thead>\n",
       "    <tr style=\"text-align: right;\">\n",
       "      <th></th>\n",
       "      <th>f</th>\n",
       "      <th>d</th>\n",
       "      <th>u_pehe</th>\n",
       "      <th>u_policy</th>\n",
       "      <th>u_int</th>\n",
       "    </tr>\n",
       "    <tr>\n",
       "      <th>method</th>\n",
       "      <th></th>\n",
       "      <th></th>\n",
       "      <th></th>\n",
       "      <th></th>\n",
       "      <th></th>\n",
       "    </tr>\n",
       "  </thead>\n",
       "  <tbody>\n",
       "    <tr>\n",
       "      <th>seq_new</th>\n",
       "      <td>0.949355</td>\n",
       "      <td>0.948425</td>\n",
       "      <td>0.613462</td>\n",
       "      <td>0.756667</td>\n",
       "      <td>0.963520</td>\n",
       "    </tr>\n",
       "    <tr>\n",
       "      <th>standard</th>\n",
       "      <td>0.830259</td>\n",
       "      <td>0.914691</td>\n",
       "      <td>1.155762</td>\n",
       "      <td>0.506667</td>\n",
       "      <td>0.999829</td>\n",
       "    </tr>\n",
       "  </tbody>\n",
       "</table>\n",
       "</div>"
      ],
      "text/plain": [
       "                 f         d    u_pehe  u_policy     u_int\n",
       "method                                                    \n",
       "seq_new   0.949355  0.948425  0.613462  0.756667  0.963520\n",
       "standard  0.830259  0.914691  1.155762  0.506667  0.999829"
      ]
     },
     "execution_count": 302,
     "metadata": {},
     "output_type": "execute_result"
    }
   ],
   "source": [
    "test_cov_small.groupby('method').mean()"
   ]
  },
  {
   "cell_type": "markdown",
   "id": "c177872e",
   "metadata": {},
   "source": [
    "What happens as number of predictive variables changes?"
   ]
  },
  {
   "cell_type": "code",
   "execution_count": 145,
   "id": "b9d02eeb",
   "metadata": {},
   "outputs": [],
   "source": [
    "def predictive_insight(n, d, n_o, n_ts, gen, n_iter, save=False, fp=''):\n",
    "    results = pd.DataFrame(columns=['method', 'f', 'c', 'd', 'u_pehe', 'u_policy', 'u_int', 'n_t'])\n",
    "    for n_t in n_ts:\n",
    "        X,y,w,p,t = simulate_treatment_setup(n, d=d, n_o=n_o, n_t=n_t)\n",
    "        X_df = pd.DataFrame(X)\n",
    "        y_df = pd.DataFrame(y, columns = ['y'])\n",
    "        w_df = pd.DataFrame(w, columns = ['w'])\n",
    "        d_real = pd.concat([X_df,w_df,y_df], axis=1)\n",
    "\n",
    "        r = seq_test(d_real, gen, 'w', 'y', n_iter)\n",
    "        r['n_t'] = n_t\n",
    "        results = pd.concat([results, r])\n",
    "\n",
    "        print(f'Tested n_t = {n_t}')\n",
    "\n",
    "    if save:\n",
    "        results.to_csv(fp, index=False)\n",
    "        \n",
    "    return results"
   ]
  },
  {
   "cell_type": "code",
   "execution_count": 146,
   "id": "8c1d009a",
   "metadata": {},
   "outputs": [
    {
     "name": "stderr",
     "output_type": "stream",
     "text": [
      "[2024-05-13T13:13:09.302883+0000][4058068][CRITICAL] load failed: module 'synthcity.plugins.generic.plugin_goggle' has no attribute 'plugin'\n",
      "[2024-05-13T13:13:09.303474+0000][4058068][CRITICAL] load failed: module 'synthcity.plugins.generic.plugin_goggle' has no attribute 'plugin'\n",
      "[2024-05-13T13:13:09.303832+0000][4058068][CRITICAL] module plugin_goggle load failed\n"
     ]
    },
    {
     "name": "stdout",
     "output_type": "stream",
     "text": [
      "Fitting ddpm model\n"
     ]
    },
    {
     "name": "stderr",
     "output_type": "stream",
     "text": [
      "Epoch: 100%|██████████| 1000/1000 [00:12<00:00, 82.24it/s, loss=1.18]\n"
     ]
    },
    {
     "name": "stdout",
     "output_type": "stream",
     "text": [
      "Generating ddpm synthetic dataset\n"
     ]
    },
    {
     "name": "stderr",
     "output_type": "stream",
     "text": [
      "[2024-05-13T13:13:25.110268+0000][4058068][CRITICAL] load failed: module 'synthcity.plugins.generic.plugin_goggle' has no attribute 'plugin'\n",
      "[2024-05-13T13:13:25.110835+0000][4058068][CRITICAL] load failed: module 'synthcity.plugins.generic.plugin_goggle' has no attribute 'plugin'\n",
      "[2024-05-13T13:13:25.111166+0000][4058068][CRITICAL] module plugin_goggle load failed\n"
     ]
    },
    {
     "name": "stdout",
     "output_type": "stream",
     "text": [
      "Fitting ddpm covariate model\n"
     ]
    },
    {
     "name": "stderr",
     "output_type": "stream",
     "text": [
      "Epoch: 100%|██████████| 1000/1000 [00:08<00:00, 120.49it/s, loss=0.474]\n"
     ]
    },
    {
     "name": "stdout",
     "output_type": "stream",
     "text": [
      "Generating ddpm synthetic covariates\n",
      "Fitting propensity model\n",
      "Generating propensities\n",
      "Fitting CATE learner\n",
      "Generating POs\n"
     ]
    },
    {
     "name": "stderr",
     "output_type": "stream",
     "text": [
      "[2024-05-13T13:17:22.828150+0000][4058068][CRITICAL] load failed: module 'synthcity.plugins.generic.plugin_goggle' has no attribute 'plugin'\n",
      "[2024-05-13T13:17:22.830469+0000][4058068][CRITICAL] load failed: module 'synthcity.plugins.generic.plugin_goggle' has no attribute 'plugin'\n",
      "[2024-05-13T13:17:22.831508+0000][4058068][CRITICAL] module plugin_goggle load failed\n"
     ]
    },
    {
     "name": "stdout",
     "output_type": "stream",
     "text": [
      "Fitting ddpm model\n"
     ]
    },
    {
     "name": "stderr",
     "output_type": "stream",
     "text": [
      "Epoch: 100%|██████████| 1000/1000 [00:11<00:00, 85.33it/s, loss=1.18]\n"
     ]
    },
    {
     "name": "stdout",
     "output_type": "stream",
     "text": [
      "Generating ddpm synthetic dataset\n"
     ]
    },
    {
     "name": "stderr",
     "output_type": "stream",
     "text": [
      "[2024-05-13T13:17:38.191124+0000][4058068][CRITICAL] load failed: module 'synthcity.plugins.generic.plugin_goggle' has no attribute 'plugin'\n",
      "[2024-05-13T13:17:38.191684+0000][4058068][CRITICAL] load failed: module 'synthcity.plugins.generic.plugin_goggle' has no attribute 'plugin'\n",
      "[2024-05-13T13:17:38.192037+0000][4058068][CRITICAL] module plugin_goggle load failed\n"
     ]
    },
    {
     "name": "stdout",
     "output_type": "stream",
     "text": [
      "Fitting ddpm covariate model\n"
     ]
    },
    {
     "name": "stderr",
     "output_type": "stream",
     "text": [
      "Epoch: 100%|██████████| 1000/1000 [00:08<00:00, 118.96it/s, loss=0.471]\n"
     ]
    },
    {
     "name": "stdout",
     "output_type": "stream",
     "text": [
      "Generating ddpm synthetic covariates\n",
      "Fitting propensity model\n",
      "Generating propensities\n",
      "Fitting CATE learner\n",
      "Generating POs\n"
     ]
    },
    {
     "name": "stderr",
     "output_type": "stream",
     "text": [
      "[2024-05-13T13:21:35.748460+0000][4058068][CRITICAL] load failed: module 'synthcity.plugins.generic.plugin_goggle' has no attribute 'plugin'\n",
      "[2024-05-13T13:21:35.751101+0000][4058068][CRITICAL] load failed: module 'synthcity.plugins.generic.plugin_goggle' has no attribute 'plugin'\n",
      "[2024-05-13T13:21:35.752081+0000][4058068][CRITICAL] module plugin_goggle load failed\n"
     ]
    },
    {
     "name": "stdout",
     "output_type": "stream",
     "text": [
      "Fitting ddpm model\n"
     ]
    },
    {
     "name": "stderr",
     "output_type": "stream",
     "text": [
      "Epoch: 100%|██████████| 1000/1000 [00:11<00:00, 86.33it/s, loss=1.18]\n"
     ]
    },
    {
     "name": "stdout",
     "output_type": "stream",
     "text": [
      "Generating ddpm synthetic dataset\n"
     ]
    },
    {
     "name": "stderr",
     "output_type": "stream",
     "text": [
      "[2024-05-13T13:21:51.009463+0000][4058068][CRITICAL] load failed: module 'synthcity.plugins.generic.plugin_goggle' has no attribute 'plugin'\n",
      "[2024-05-13T13:21:51.010236+0000][4058068][CRITICAL] load failed: module 'synthcity.plugins.generic.plugin_goggle' has no attribute 'plugin'\n",
      "[2024-05-13T13:21:51.010587+0000][4058068][CRITICAL] module plugin_goggle load failed\n"
     ]
    },
    {
     "name": "stdout",
     "output_type": "stream",
     "text": [
      "Fitting ddpm covariate model\n"
     ]
    },
    {
     "name": "stderr",
     "output_type": "stream",
     "text": [
      "Epoch: 100%|██████████| 1000/1000 [00:08<00:00, 114.86it/s, loss=0.472]\n"
     ]
    },
    {
     "name": "stdout",
     "output_type": "stream",
     "text": [
      "Generating ddpm synthetic covariates\n",
      "Fitting propensity model\n",
      "Generating propensities\n",
      "Fitting CATE learner\n",
      "Generating POs\n"
     ]
    },
    {
     "name": "stderr",
     "output_type": "stream",
     "text": [
      "[2024-05-13T13:25:42.899887+0000][4058068][CRITICAL] load failed: module 'synthcity.plugins.generic.plugin_goggle' has no attribute 'plugin'\n",
      "[2024-05-13T13:25:42.902463+0000][4058068][CRITICAL] load failed: module 'synthcity.plugins.generic.plugin_goggle' has no attribute 'plugin'\n",
      "[2024-05-13T13:25:42.903429+0000][4058068][CRITICAL] module plugin_goggle load failed\n"
     ]
    },
    {
     "name": "stdout",
     "output_type": "stream",
     "text": [
      "Fitting ddpm model\n"
     ]
    },
    {
     "name": "stderr",
     "output_type": "stream",
     "text": [
      "Epoch: 100%|██████████| 1000/1000 [00:11<00:00, 86.51it/s, loss=1.17]\n"
     ]
    },
    {
     "name": "stdout",
     "output_type": "stream",
     "text": [
      "Generating ddpm synthetic dataset\n"
     ]
    },
    {
     "name": "stderr",
     "output_type": "stream",
     "text": [
      "[2024-05-13T13:25:58.127779+0000][4058068][CRITICAL] load failed: module 'synthcity.plugins.generic.plugin_goggle' has no attribute 'plugin'\n",
      "[2024-05-13T13:25:58.128445+0000][4058068][CRITICAL] load failed: module 'synthcity.plugins.generic.plugin_goggle' has no attribute 'plugin'\n",
      "[2024-05-13T13:25:58.128862+0000][4058068][CRITICAL] module plugin_goggle load failed\n"
     ]
    },
    {
     "name": "stdout",
     "output_type": "stream",
     "text": [
      "Fitting ddpm covariate model\n"
     ]
    },
    {
     "name": "stderr",
     "output_type": "stream",
     "text": [
      "Epoch: 100%|██████████| 1000/1000 [00:08<00:00, 117.19it/s, loss=0.474]\n"
     ]
    },
    {
     "name": "stdout",
     "output_type": "stream",
     "text": [
      "Generating ddpm synthetic covariates\n",
      "Fitting propensity model\n",
      "Generating propensities\n",
      "Fitting CATE learner\n",
      "Generating POs\n"
     ]
    },
    {
     "name": "stderr",
     "output_type": "stream",
     "text": [
      "[2024-05-13T13:29:53.900123+0000][4058068][CRITICAL] load failed: module 'synthcity.plugins.generic.plugin_goggle' has no attribute 'plugin'\n",
      "[2024-05-13T13:29:53.901824+0000][4058068][CRITICAL] load failed: module 'synthcity.plugins.generic.plugin_goggle' has no attribute 'plugin'\n",
      "[2024-05-13T13:29:53.902321+0000][4058068][CRITICAL] module plugin_goggle load failed\n"
     ]
    },
    {
     "name": "stdout",
     "output_type": "stream",
     "text": [
      "Fitting ddpm model\n"
     ]
    },
    {
     "name": "stderr",
     "output_type": "stream",
     "text": [
      "Epoch: 100%|██████████| 1000/1000 [00:11<00:00, 85.95it/s, loss=1.18]\n"
     ]
    },
    {
     "name": "stdout",
     "output_type": "stream",
     "text": [
      "Generating ddpm synthetic dataset\n"
     ]
    },
    {
     "name": "stderr",
     "output_type": "stream",
     "text": [
      "[2024-05-13T13:30:09.178669+0000][4058068][CRITICAL] load failed: module 'synthcity.plugins.generic.plugin_goggle' has no attribute 'plugin'\n",
      "[2024-05-13T13:30:09.179225+0000][4058068][CRITICAL] load failed: module 'synthcity.plugins.generic.plugin_goggle' has no attribute 'plugin'\n",
      "[2024-05-13T13:30:09.179569+0000][4058068][CRITICAL] module plugin_goggle load failed\n"
     ]
    },
    {
     "name": "stdout",
     "output_type": "stream",
     "text": [
      "Fitting ddpm covariate model\n"
     ]
    },
    {
     "name": "stderr",
     "output_type": "stream",
     "text": [
      "Epoch: 100%|██████████| 1000/1000 [00:08<00:00, 123.95it/s, loss=0.473]\n"
     ]
    },
    {
     "name": "stdout",
     "output_type": "stream",
     "text": [
      "Generating ddpm synthetic covariates\n",
      "Fitting propensity model\n",
      "Generating propensities\n",
      "Fitting CATE learner\n",
      "Generating POs\n"
     ]
    },
    {
     "name": "stderr",
     "output_type": "stream",
     "text": [
      "[2024-05-13T13:34:01.687731+0000][4058068][CRITICAL] load failed: module 'synthcity.plugins.generic.plugin_goggle' has no attribute 'plugin'\n",
      "[2024-05-13T13:34:01.690222+0000][4058068][CRITICAL] load failed: module 'synthcity.plugins.generic.plugin_goggle' has no attribute 'plugin'\n",
      "[2024-05-13T13:34:01.691170+0000][4058068][CRITICAL] module plugin_goggle load failed\n"
     ]
    },
    {
     "name": "stdout",
     "output_type": "stream",
     "text": [
      "Fitting ddpm model\n"
     ]
    },
    {
     "name": "stderr",
     "output_type": "stream",
     "text": [
      "Epoch: 100%|██████████| 1000/1000 [00:11<00:00, 84.93it/s, loss=1.18]\n"
     ]
    },
    {
     "name": "stdout",
     "output_type": "stream",
     "text": [
      "Generating ddpm synthetic dataset\n"
     ]
    },
    {
     "name": "stderr",
     "output_type": "stream",
     "text": [
      "[2024-05-13T13:34:17.121012+0000][4058068][CRITICAL] load failed: module 'synthcity.plugins.generic.plugin_goggle' has no attribute 'plugin'\n",
      "[2024-05-13T13:34:17.121574+0000][4058068][CRITICAL] load failed: module 'synthcity.plugins.generic.plugin_goggle' has no attribute 'plugin'\n",
      "[2024-05-13T13:34:17.121947+0000][4058068][CRITICAL] module plugin_goggle load failed\n"
     ]
    },
    {
     "name": "stdout",
     "output_type": "stream",
     "text": [
      "Fitting ddpm covariate model\n"
     ]
    },
    {
     "name": "stderr",
     "output_type": "stream",
     "text": [
      "Epoch: 100%|██████████| 1000/1000 [00:08<00:00, 122.03it/s, loss=0.473]\n"
     ]
    },
    {
     "name": "stdout",
     "output_type": "stream",
     "text": [
      "Generating ddpm synthetic covariates\n",
      "Fitting propensity model\n",
      "Generating propensities\n",
      "Fitting CATE learner\n",
      "Generating POs\n"
     ]
    },
    {
     "name": "stderr",
     "output_type": "stream",
     "text": [
      "[2024-05-13T13:38:22.445999+0000][4058068][CRITICAL] load failed: module 'synthcity.plugins.generic.plugin_goggle' has no attribute 'plugin'\n",
      "[2024-05-13T13:38:22.448295+0000][4058068][CRITICAL] load failed: module 'synthcity.plugins.generic.plugin_goggle' has no attribute 'plugin'\n",
      "[2024-05-13T13:38:22.449353+0000][4058068][CRITICAL] module plugin_goggle load failed\n"
     ]
    },
    {
     "name": "stdout",
     "output_type": "stream",
     "text": [
      "Fitting ddpm model\n"
     ]
    },
    {
     "name": "stderr",
     "output_type": "stream",
     "text": [
      "Epoch: 100%|██████████| 1000/1000 [00:11<00:00, 83.71it/s, loss=1.18]\n"
     ]
    },
    {
     "name": "stdout",
     "output_type": "stream",
     "text": [
      "Generating ddpm synthetic dataset\n"
     ]
    },
    {
     "name": "stderr",
     "output_type": "stream",
     "text": [
      "[2024-05-13T13:38:38.056449+0000][4058068][CRITICAL] load failed: module 'synthcity.plugins.generic.plugin_goggle' has no attribute 'plugin'\n",
      "[2024-05-13T13:38:38.057047+0000][4058068][CRITICAL] load failed: module 'synthcity.plugins.generic.plugin_goggle' has no attribute 'plugin'\n",
      "[2024-05-13T13:38:38.057398+0000][4058068][CRITICAL] module plugin_goggle load failed\n"
     ]
    },
    {
     "name": "stdout",
     "output_type": "stream",
     "text": [
      "Fitting ddpm covariate model\n"
     ]
    },
    {
     "name": "stderr",
     "output_type": "stream",
     "text": [
      "Epoch: 100%|██████████| 1000/1000 [00:08<00:00, 115.02it/s, loss=0.473]\n"
     ]
    },
    {
     "name": "stdout",
     "output_type": "stream",
     "text": [
      "Generating ddpm synthetic covariates\n",
      "Fitting propensity model\n",
      "Generating propensities\n",
      "Fitting CATE learner\n",
      "Generating POs\n"
     ]
    },
    {
     "name": "stderr",
     "output_type": "stream",
     "text": [
      "[2024-05-13T13:42:29.462114+0000][4058068][CRITICAL] load failed: module 'synthcity.plugins.generic.plugin_goggle' has no attribute 'plugin'\n",
      "[2024-05-13T13:42:29.464461+0000][4058068][CRITICAL] load failed: module 'synthcity.plugins.generic.plugin_goggle' has no attribute 'plugin'\n",
      "[2024-05-13T13:42:29.465413+0000][4058068][CRITICAL] module plugin_goggle load failed\n"
     ]
    },
    {
     "name": "stdout",
     "output_type": "stream",
     "text": [
      "Fitting ddpm model\n"
     ]
    },
    {
     "name": "stderr",
     "output_type": "stream",
     "text": [
      "Epoch: 100%|██████████| 1000/1000 [00:11<00:00, 86.28it/s, loss=1.18]\n"
     ]
    },
    {
     "name": "stdout",
     "output_type": "stream",
     "text": [
      "Generating ddpm synthetic dataset\n"
     ]
    },
    {
     "name": "stderr",
     "output_type": "stream",
     "text": [
      "[2024-05-13T13:42:44.749209+0000][4058068][CRITICAL] load failed: module 'synthcity.plugins.generic.plugin_goggle' has no attribute 'plugin'\n",
      "[2024-05-13T13:42:44.750007+0000][4058068][CRITICAL] load failed: module 'synthcity.plugins.generic.plugin_goggle' has no attribute 'plugin'\n",
      "[2024-05-13T13:42:44.750457+0000][4058068][CRITICAL] module plugin_goggle load failed\n"
     ]
    },
    {
     "name": "stdout",
     "output_type": "stream",
     "text": [
      "Fitting ddpm covariate model\n"
     ]
    },
    {
     "name": "stderr",
     "output_type": "stream",
     "text": [
      "Epoch: 100%|██████████| 1000/1000 [00:08<00:00, 115.09it/s, loss=0.474]\n"
     ]
    },
    {
     "name": "stdout",
     "output_type": "stream",
     "text": [
      "Generating ddpm synthetic covariates\n",
      "Fitting propensity model\n",
      "Generating propensities\n",
      "Fitting CATE learner\n",
      "Generating POs\n"
     ]
    },
    {
     "name": "stderr",
     "output_type": "stream",
     "text": [
      "[2024-05-13T13:46:36.321978+0000][4058068][CRITICAL] load failed: module 'synthcity.plugins.generic.plugin_goggle' has no attribute 'plugin'\n",
      "[2024-05-13T13:46:36.325878+0000][4058068][CRITICAL] load failed: module 'synthcity.plugins.generic.plugin_goggle' has no attribute 'plugin'\n",
      "[2024-05-13T13:46:36.326890+0000][4058068][CRITICAL] module plugin_goggle load failed\n"
     ]
    },
    {
     "name": "stdout",
     "output_type": "stream",
     "text": [
      "Fitting ddpm model\n"
     ]
    },
    {
     "name": "stderr",
     "output_type": "stream",
     "text": [
      "Epoch: 100%|██████████| 1000/1000 [00:12<00:00, 82.32it/s, loss=1.18]\n"
     ]
    },
    {
     "name": "stdout",
     "output_type": "stream",
     "text": [
      "Generating ddpm synthetic dataset\n"
     ]
    },
    {
     "name": "stderr",
     "output_type": "stream",
     "text": [
      "[2024-05-13T13:46:52.114846+0000][4058068][CRITICAL] load failed: module 'synthcity.plugins.generic.plugin_goggle' has no attribute 'plugin'\n",
      "[2024-05-13T13:46:52.115507+0000][4058068][CRITICAL] load failed: module 'synthcity.plugins.generic.plugin_goggle' has no attribute 'plugin'\n",
      "[2024-05-13T13:46:52.115922+0000][4058068][CRITICAL] module plugin_goggle load failed\n"
     ]
    },
    {
     "name": "stdout",
     "output_type": "stream",
     "text": [
      "Fitting ddpm covariate model\n"
     ]
    },
    {
     "name": "stderr",
     "output_type": "stream",
     "text": [
      "Epoch: 100%|██████████| 1000/1000 [00:08<00:00, 119.89it/s, loss=0.472]\n"
     ]
    },
    {
     "name": "stdout",
     "output_type": "stream",
     "text": [
      "Generating ddpm synthetic covariates\n",
      "Fitting propensity model\n",
      "Generating propensities\n",
      "Fitting CATE learner\n",
      "Generating POs\n"
     ]
    },
    {
     "name": "stderr",
     "output_type": "stream",
     "text": [
      "[2024-05-13T13:50:43.175291+0000][4058068][CRITICAL] load failed: module 'synthcity.plugins.generic.plugin_goggle' has no attribute 'plugin'\n",
      "[2024-05-13T13:50:43.177357+0000][4058068][CRITICAL] load failed: module 'synthcity.plugins.generic.plugin_goggle' has no attribute 'plugin'\n",
      "[2024-05-13T13:50:43.178444+0000][4058068][CRITICAL] module plugin_goggle load failed\n"
     ]
    },
    {
     "name": "stdout",
     "output_type": "stream",
     "text": [
      "Fitting ddpm model\n"
     ]
    },
    {
     "name": "stderr",
     "output_type": "stream",
     "text": [
      "Epoch: 100%|██████████| 1000/1000 [00:11<00:00, 84.17it/s, loss=1.18]\n"
     ]
    },
    {
     "name": "stdout",
     "output_type": "stream",
     "text": [
      "Generating ddpm synthetic dataset\n"
     ]
    },
    {
     "name": "stderr",
     "output_type": "stream",
     "text": [
      "[2024-05-13T13:50:58.708355+0000][4058068][CRITICAL] load failed: module 'synthcity.plugins.generic.plugin_goggle' has no attribute 'plugin'\n",
      "[2024-05-13T13:50:58.708946+0000][4058068][CRITICAL] load failed: module 'synthcity.plugins.generic.plugin_goggle' has no attribute 'plugin'\n",
      "[2024-05-13T13:50:58.709384+0000][4058068][CRITICAL] module plugin_goggle load failed\n"
     ]
    },
    {
     "name": "stdout",
     "output_type": "stream",
     "text": [
      "Fitting ddpm covariate model\n"
     ]
    },
    {
     "name": "stderr",
     "output_type": "stream",
     "text": [
      "Epoch: 100%|██████████| 1000/1000 [00:08<00:00, 118.82it/s, loss=0.473]\n"
     ]
    },
    {
     "name": "stdout",
     "output_type": "stream",
     "text": [
      "Generating ddpm synthetic covariates\n",
      "Fitting propensity model\n",
      "Generating propensities\n",
      "Fitting CATE learner\n",
      "Generating POs\n"
     ]
    },
    {
     "name": "stderr",
     "output_type": "stream",
     "text": [
      "[2024-05-13T13:54:55.230244+0000][4058068][CRITICAL] load failed: module 'synthcity.plugins.generic.plugin_goggle' has no attribute 'plugin'\n",
      "[2024-05-13T13:54:55.231143+0000][4058068][CRITICAL] load failed: module 'synthcity.plugins.generic.plugin_goggle' has no attribute 'plugin'\n",
      "[2024-05-13T13:54:55.231576+0000][4058068][CRITICAL] module plugin_goggle load failed\n"
     ]
    },
    {
     "name": "stdout",
     "output_type": "stream",
     "text": [
      "Tested n_t = 0\n",
      "Fitting ddpm model\n"
     ]
    },
    {
     "name": "stderr",
     "output_type": "stream",
     "text": [
      "Epoch: 100%|██████████| 1000/1000 [00:11<00:00, 87.20it/s, loss=1.17]\n"
     ]
    },
    {
     "name": "stdout",
     "output_type": "stream",
     "text": [
      "Generating ddpm synthetic dataset\n"
     ]
    },
    {
     "name": "stderr",
     "output_type": "stream",
     "text": [
      "[2024-05-13T13:55:10.391803+0000][4058068][CRITICAL] load failed: module 'synthcity.plugins.generic.plugin_goggle' has no attribute 'plugin'\n",
      "[2024-05-13T13:55:10.392384+0000][4058068][CRITICAL] load failed: module 'synthcity.plugins.generic.plugin_goggle' has no attribute 'plugin'\n",
      "[2024-05-13T13:55:10.392747+0000][4058068][CRITICAL] module plugin_goggle load failed\n"
     ]
    },
    {
     "name": "stdout",
     "output_type": "stream",
     "text": [
      "Fitting ddpm covariate model\n"
     ]
    },
    {
     "name": "stderr",
     "output_type": "stream",
     "text": [
      "Epoch: 100%|██████████| 1000/1000 [00:08<00:00, 117.90it/s, loss=0.473]\n"
     ]
    },
    {
     "name": "stdout",
     "output_type": "stream",
     "text": [
      "Generating ddpm synthetic covariates\n",
      "Fitting propensity model\n",
      "Generating propensities\n",
      "Fitting CATE learner\n",
      "Generating POs\n"
     ]
    },
    {
     "name": "stderr",
     "output_type": "stream",
     "text": [
      "[2024-05-13T13:59:28.714400+0000][4058068][CRITICAL] load failed: module 'synthcity.plugins.generic.plugin_goggle' has no attribute 'plugin'\n",
      "[2024-05-13T13:59:28.718005+0000][4058068][CRITICAL] load failed: module 'synthcity.plugins.generic.plugin_goggle' has no attribute 'plugin'\n",
      "[2024-05-13T13:59:28.719081+0000][4058068][CRITICAL] module plugin_goggle load failed\n"
     ]
    },
    {
     "name": "stdout",
     "output_type": "stream",
     "text": [
      "Fitting ddpm model\n"
     ]
    },
    {
     "name": "stderr",
     "output_type": "stream",
     "text": [
      "Epoch: 100%|██████████| 1000/1000 [00:11<00:00, 83.39it/s, loss=1.15]\n"
     ]
    },
    {
     "name": "stdout",
     "output_type": "stream",
     "text": [
      "Generating ddpm synthetic dataset\n"
     ]
    },
    {
     "name": "stderr",
     "output_type": "stream",
     "text": [
      "[2024-05-13T13:59:44.424708+0000][4058068][CRITICAL] load failed: module 'synthcity.plugins.generic.plugin_goggle' has no attribute 'plugin'\n",
      "[2024-05-13T13:59:44.425647+0000][4058068][CRITICAL] load failed: module 'synthcity.plugins.generic.plugin_goggle' has no attribute 'plugin'\n",
      "[2024-05-13T13:59:44.425992+0000][4058068][CRITICAL] module plugin_goggle load failed\n"
     ]
    },
    {
     "name": "stdout",
     "output_type": "stream",
     "text": [
      "Fitting ddpm covariate model\n"
     ]
    },
    {
     "name": "stderr",
     "output_type": "stream",
     "text": [
      "Epoch: 100%|██████████| 1000/1000 [00:08<00:00, 115.69it/s, loss=0.473]\n"
     ]
    },
    {
     "name": "stdout",
     "output_type": "stream",
     "text": [
      "Generating ddpm synthetic covariates\n",
      "Fitting propensity model\n",
      "Generating propensities\n",
      "Fitting CATE learner\n",
      "Generating POs\n"
     ]
    },
    {
     "name": "stderr",
     "output_type": "stream",
     "text": [
      "[2024-05-13T14:04:03.760474+0000][4058068][CRITICAL] load failed: module 'synthcity.plugins.generic.plugin_goggle' has no attribute 'plugin'\n",
      "[2024-05-13T14:04:03.762669+0000][4058068][CRITICAL] load failed: module 'synthcity.plugins.generic.plugin_goggle' has no attribute 'plugin'\n",
      "[2024-05-13T14:04:03.763629+0000][4058068][CRITICAL] module plugin_goggle load failed\n"
     ]
    },
    {
     "name": "stdout",
     "output_type": "stream",
     "text": [
      "Fitting ddpm model\n"
     ]
    },
    {
     "name": "stderr",
     "output_type": "stream",
     "text": [
      "Epoch: 100%|██████████| 1000/1000 [00:11<00:00, 85.13it/s, loss=1.16]\n"
     ]
    },
    {
     "name": "stdout",
     "output_type": "stream",
     "text": [
      "Generating ddpm synthetic dataset\n"
     ]
    },
    {
     "name": "stderr",
     "output_type": "stream",
     "text": [
      "[2024-05-13T14:04:19.148487+0000][4058068][CRITICAL] load failed: module 'synthcity.plugins.generic.plugin_goggle' has no attribute 'plugin'\n",
      "[2024-05-13T14:04:19.149206+0000][4058068][CRITICAL] load failed: module 'synthcity.plugins.generic.plugin_goggle' has no attribute 'plugin'\n",
      "[2024-05-13T14:04:19.149593+0000][4058068][CRITICAL] module plugin_goggle load failed\n"
     ]
    },
    {
     "name": "stdout",
     "output_type": "stream",
     "text": [
      "Fitting ddpm covariate model\n"
     ]
    },
    {
     "name": "stderr",
     "output_type": "stream",
     "text": [
      "Epoch: 100%|██████████| 1000/1000 [00:08<00:00, 120.08it/s, loss=0.473]\n"
     ]
    },
    {
     "name": "stdout",
     "output_type": "stream",
     "text": [
      "Generating ddpm synthetic covariates\n",
      "Fitting propensity model\n",
      "Generating propensities\n",
      "Fitting CATE learner\n",
      "Generating POs\n"
     ]
    },
    {
     "name": "stderr",
     "output_type": "stream",
     "text": [
      "[2024-05-13T14:08:41.439460+0000][4058068][CRITICAL] load failed: module 'synthcity.plugins.generic.plugin_goggle' has no attribute 'plugin'\n",
      "[2024-05-13T14:08:41.441803+0000][4058068][CRITICAL] load failed: module 'synthcity.plugins.generic.plugin_goggle' has no attribute 'plugin'\n",
      "[2024-05-13T14:08:41.442815+0000][4058068][CRITICAL] module plugin_goggle load failed\n"
     ]
    },
    {
     "name": "stdout",
     "output_type": "stream",
     "text": [
      "Fitting ddpm model\n"
     ]
    },
    {
     "name": "stderr",
     "output_type": "stream",
     "text": [
      "Epoch: 100%|██████████| 1000/1000 [00:12<00:00, 81.14it/s, loss=1.16]\n"
     ]
    },
    {
     "name": "stdout",
     "output_type": "stream",
     "text": [
      "Generating ddpm synthetic dataset\n"
     ]
    },
    {
     "name": "stderr",
     "output_type": "stream",
     "text": [
      "[2024-05-13T14:08:57.458232+0000][4058068][CRITICAL] load failed: module 'synthcity.plugins.generic.plugin_goggle' has no attribute 'plugin'\n",
      "[2024-05-13T14:08:57.458814+0000][4058068][CRITICAL] load failed: module 'synthcity.plugins.generic.plugin_goggle' has no attribute 'plugin'\n",
      "[2024-05-13T14:08:57.459383+0000][4058068][CRITICAL] module plugin_goggle load failed\n"
     ]
    },
    {
     "name": "stdout",
     "output_type": "stream",
     "text": [
      "Fitting ddpm covariate model\n"
     ]
    },
    {
     "name": "stderr",
     "output_type": "stream",
     "text": [
      "Epoch: 100%|██████████| 1000/1000 [00:08<00:00, 118.51it/s, loss=0.473]\n"
     ]
    },
    {
     "name": "stdout",
     "output_type": "stream",
     "text": [
      "Generating ddpm synthetic covariates\n",
      "Fitting propensity model\n",
      "Generating propensities\n",
      "Fitting CATE learner\n",
      "Generating POs\n"
     ]
    },
    {
     "name": "stderr",
     "output_type": "stream",
     "text": [
      "[2024-05-13T14:13:10.601571+0000][4058068][CRITICAL] load failed: module 'synthcity.plugins.generic.plugin_goggle' has no attribute 'plugin'\n",
      "[2024-05-13T14:13:10.604309+0000][4058068][CRITICAL] load failed: module 'synthcity.plugins.generic.plugin_goggle' has no attribute 'plugin'\n",
      "[2024-05-13T14:13:10.605264+0000][4058068][CRITICAL] module plugin_goggle load failed\n"
     ]
    },
    {
     "name": "stdout",
     "output_type": "stream",
     "text": [
      "Fitting ddpm model\n"
     ]
    },
    {
     "name": "stderr",
     "output_type": "stream",
     "text": [
      "Epoch: 100%|██████████| 1000/1000 [00:11<00:00, 84.04it/s, loss=1.16]\n"
     ]
    },
    {
     "name": "stdout",
     "output_type": "stream",
     "text": [
      "Generating ddpm synthetic dataset\n"
     ]
    },
    {
     "name": "stderr",
     "output_type": "stream",
     "text": [
      "[2024-05-13T14:13:26.152581+0000][4058068][CRITICAL] load failed: module 'synthcity.plugins.generic.plugin_goggle' has no attribute 'plugin'\n",
      "[2024-05-13T14:13:26.153144+0000][4058068][CRITICAL] load failed: module 'synthcity.plugins.generic.plugin_goggle' has no attribute 'plugin'\n",
      "[2024-05-13T14:13:26.153498+0000][4058068][CRITICAL] module plugin_goggle load failed\n"
     ]
    },
    {
     "name": "stdout",
     "output_type": "stream",
     "text": [
      "Fitting ddpm covariate model\n"
     ]
    },
    {
     "name": "stderr",
     "output_type": "stream",
     "text": [
      "Epoch: 100%|██████████| 1000/1000 [00:08<00:00, 114.69it/s, loss=0.473]\n"
     ]
    },
    {
     "name": "stdout",
     "output_type": "stream",
     "text": [
      "Generating ddpm synthetic covariates\n",
      "Fitting propensity model\n",
      "Generating propensities\n",
      "Fitting CATE learner\n",
      "Generating POs\n"
     ]
    },
    {
     "name": "stderr",
     "output_type": "stream",
     "text": [
      "[2024-05-13T14:17:39.876723+0000][4058068][CRITICAL] load failed: module 'synthcity.plugins.generic.plugin_goggle' has no attribute 'plugin'\n",
      "[2024-05-13T14:17:39.879173+0000][4058068][CRITICAL] load failed: module 'synthcity.plugins.generic.plugin_goggle' has no attribute 'plugin'\n",
      "[2024-05-13T14:17:39.880146+0000][4058068][CRITICAL] module plugin_goggle load failed\n"
     ]
    },
    {
     "name": "stdout",
     "output_type": "stream",
     "text": [
      "Fitting ddpm model\n"
     ]
    },
    {
     "name": "stderr",
     "output_type": "stream",
     "text": [
      "Epoch: 100%|██████████| 1000/1000 [00:11<00:00, 87.49it/s, loss=1.16]\n"
     ]
    },
    {
     "name": "stdout",
     "output_type": "stream",
     "text": [
      "Generating ddpm synthetic dataset\n"
     ]
    },
    {
     "name": "stderr",
     "output_type": "stream",
     "text": [
      "[2024-05-13T14:17:54.993437+0000][4058068][CRITICAL] load failed: module 'synthcity.plugins.generic.plugin_goggle' has no attribute 'plugin'\n",
      "[2024-05-13T14:17:54.994076+0000][4058068][CRITICAL] load failed: module 'synthcity.plugins.generic.plugin_goggle' has no attribute 'plugin'\n",
      "[2024-05-13T14:17:54.994735+0000][4058068][CRITICAL] module plugin_goggle load failed\n"
     ]
    },
    {
     "name": "stdout",
     "output_type": "stream",
     "text": [
      "Fitting ddpm covariate model\n"
     ]
    },
    {
     "name": "stderr",
     "output_type": "stream",
     "text": [
      "Epoch: 100%|██████████| 1000/1000 [00:08<00:00, 117.25it/s, loss=0.473]\n"
     ]
    },
    {
     "name": "stdout",
     "output_type": "stream",
     "text": [
      "Generating ddpm synthetic covariates\n",
      "Fitting propensity model\n",
      "Generating propensities\n",
      "Fitting CATE learner\n",
      "Generating POs\n"
     ]
    },
    {
     "name": "stderr",
     "output_type": "stream",
     "text": [
      "[2024-05-13T14:22:11.077252+0000][4058068][CRITICAL] load failed: module 'synthcity.plugins.generic.plugin_goggle' has no attribute 'plugin'\n",
      "[2024-05-13T14:22:11.081688+0000][4058068][CRITICAL] load failed: module 'synthcity.plugins.generic.plugin_goggle' has no attribute 'plugin'\n",
      "[2024-05-13T14:22:11.082264+0000][4058068][CRITICAL] module plugin_goggle load failed\n"
     ]
    },
    {
     "name": "stdout",
     "output_type": "stream",
     "text": [
      "Fitting ddpm model\n"
     ]
    },
    {
     "name": "stderr",
     "output_type": "stream",
     "text": [
      "Epoch: 100%|██████████| 1000/1000 [00:11<00:00, 84.40it/s, loss=1.14]\n"
     ]
    },
    {
     "name": "stdout",
     "output_type": "stream",
     "text": [
      "Generating ddpm synthetic dataset\n"
     ]
    },
    {
     "name": "stderr",
     "output_type": "stream",
     "text": [
      "[2024-05-13T14:22:26.610356+0000][4058068][CRITICAL] load failed: module 'synthcity.plugins.generic.plugin_goggle' has no attribute 'plugin'\n",
      "[2024-05-13T14:22:26.611172+0000][4058068][CRITICAL] load failed: module 'synthcity.plugins.generic.plugin_goggle' has no attribute 'plugin'\n",
      "[2024-05-13T14:22:26.611633+0000][4058068][CRITICAL] module plugin_goggle load failed\n"
     ]
    },
    {
     "name": "stdout",
     "output_type": "stream",
     "text": [
      "Fitting ddpm covariate model\n"
     ]
    },
    {
     "name": "stderr",
     "output_type": "stream",
     "text": [
      "Epoch: 100%|██████████| 1000/1000 [00:08<00:00, 119.49it/s, loss=0.472]\n"
     ]
    },
    {
     "name": "stdout",
     "output_type": "stream",
     "text": [
      "Generating ddpm synthetic covariates\n",
      "Fitting propensity model\n",
      "Generating propensities\n",
      "Fitting CATE learner\n",
      "Generating POs\n"
     ]
    },
    {
     "name": "stderr",
     "output_type": "stream",
     "text": [
      "[2024-05-13T14:26:43.654661+0000][4058068][CRITICAL] load failed: module 'synthcity.plugins.generic.plugin_goggle' has no attribute 'plugin'\n",
      "[2024-05-13T14:26:43.657716+0000][4058068][CRITICAL] load failed: module 'synthcity.plugins.generic.plugin_goggle' has no attribute 'plugin'\n",
      "[2024-05-13T14:26:43.658738+0000][4058068][CRITICAL] module plugin_goggle load failed\n"
     ]
    },
    {
     "name": "stdout",
     "output_type": "stream",
     "text": [
      "Fitting ddpm model\n"
     ]
    },
    {
     "name": "stderr",
     "output_type": "stream",
     "text": [
      "Epoch: 100%|██████████| 1000/1000 [00:11<00:00, 86.96it/s, loss=1.16]\n"
     ]
    },
    {
     "name": "stdout",
     "output_type": "stream",
     "text": [
      "Generating ddpm synthetic dataset\n"
     ]
    },
    {
     "name": "stderr",
     "output_type": "stream",
     "text": [
      "[2024-05-13T14:26:58.789568+0000][4058068][CRITICAL] load failed: module 'synthcity.plugins.generic.plugin_goggle' has no attribute 'plugin'\n",
      "[2024-05-13T14:26:58.790360+0000][4058068][CRITICAL] load failed: module 'synthcity.plugins.generic.plugin_goggle' has no attribute 'plugin'\n",
      "[2024-05-13T14:26:58.790763+0000][4058068][CRITICAL] module plugin_goggle load failed\n"
     ]
    },
    {
     "name": "stdout",
     "output_type": "stream",
     "text": [
      "Fitting ddpm covariate model\n"
     ]
    },
    {
     "name": "stderr",
     "output_type": "stream",
     "text": [
      "Epoch: 100%|██████████| 1000/1000 [00:08<00:00, 117.43it/s, loss=0.473]\n"
     ]
    },
    {
     "name": "stdout",
     "output_type": "stream",
     "text": [
      "Generating ddpm synthetic covariates\n",
      "Fitting propensity model\n",
      "Generating propensities\n",
      "Fitting CATE learner\n",
      "Generating POs\n"
     ]
    },
    {
     "name": "stderr",
     "output_type": "stream",
     "text": [
      "[2024-05-13T14:31:17.907033+0000][4058068][CRITICAL] load failed: module 'synthcity.plugins.generic.plugin_goggle' has no attribute 'plugin'\n",
      "[2024-05-13T14:31:17.909624+0000][4058068][CRITICAL] load failed: module 'synthcity.plugins.generic.plugin_goggle' has no attribute 'plugin'\n",
      "[2024-05-13T14:31:17.910780+0000][4058068][CRITICAL] module plugin_goggle load failed\n"
     ]
    },
    {
     "name": "stdout",
     "output_type": "stream",
     "text": [
      "Fitting ddpm model\n"
     ]
    },
    {
     "name": "stderr",
     "output_type": "stream",
     "text": [
      "Epoch: 100%|██████████| 1000/1000 [00:11<00:00, 87.85it/s, loss=1.14]\n"
     ]
    },
    {
     "name": "stdout",
     "output_type": "stream",
     "text": [
      "Generating ddpm synthetic dataset\n"
     ]
    },
    {
     "name": "stderr",
     "output_type": "stream",
     "text": [
      "[2024-05-13T14:31:32.933792+0000][4058068][CRITICAL] load failed: module 'synthcity.plugins.generic.plugin_goggle' has no attribute 'plugin'\n",
      "[2024-05-13T14:31:32.934360+0000][4058068][CRITICAL] load failed: module 'synthcity.plugins.generic.plugin_goggle' has no attribute 'plugin'\n",
      "[2024-05-13T14:31:32.934718+0000][4058068][CRITICAL] module plugin_goggle load failed\n"
     ]
    },
    {
     "name": "stdout",
     "output_type": "stream",
     "text": [
      "Fitting ddpm covariate model\n"
     ]
    },
    {
     "name": "stderr",
     "output_type": "stream",
     "text": [
      "Epoch: 100%|██████████| 1000/1000 [00:08<00:00, 116.61it/s, loss=0.474]\n"
     ]
    },
    {
     "name": "stdout",
     "output_type": "stream",
     "text": [
      "Generating ddpm synthetic covariates\n",
      "Fitting propensity model\n",
      "Generating propensities\n",
      "Fitting CATE learner\n",
      "Generating POs\n"
     ]
    },
    {
     "name": "stderr",
     "output_type": "stream",
     "text": [
      "[2024-05-13T14:35:52.758793+0000][4058068][CRITICAL] load failed: module 'synthcity.plugins.generic.plugin_goggle' has no attribute 'plugin'\n",
      "[2024-05-13T14:35:52.761820+0000][4058068][CRITICAL] load failed: module 'synthcity.plugins.generic.plugin_goggle' has no attribute 'plugin'\n",
      "[2024-05-13T14:35:52.762373+0000][4058068][CRITICAL] module plugin_goggle load failed\n"
     ]
    },
    {
     "name": "stdout",
     "output_type": "stream",
     "text": [
      "Fitting ddpm model\n"
     ]
    },
    {
     "name": "stderr",
     "output_type": "stream",
     "text": [
      "Epoch: 100%|██████████| 1000/1000 [00:11<00:00, 85.34it/s, loss=1.15]\n"
     ]
    },
    {
     "name": "stdout",
     "output_type": "stream",
     "text": [
      "Generating ddpm synthetic dataset\n"
     ]
    },
    {
     "name": "stderr",
     "output_type": "stream",
     "text": [
      "[2024-05-13T14:36:08.113403+0000][4058068][CRITICAL] load failed: module 'synthcity.plugins.generic.plugin_goggle' has no attribute 'plugin'\n",
      "[2024-05-13T14:36:08.114002+0000][4058068][CRITICAL] load failed: module 'synthcity.plugins.generic.plugin_goggle' has no attribute 'plugin'\n",
      "[2024-05-13T14:36:08.114376+0000][4058068][CRITICAL] module plugin_goggle load failed\n"
     ]
    },
    {
     "name": "stdout",
     "output_type": "stream",
     "text": [
      "Fitting ddpm covariate model\n"
     ]
    },
    {
     "name": "stderr",
     "output_type": "stream",
     "text": [
      "Epoch: 100%|██████████| 1000/1000 [00:08<00:00, 124.49it/s, loss=0.473]\n"
     ]
    },
    {
     "name": "stdout",
     "output_type": "stream",
     "text": [
      "Generating ddpm synthetic covariates\n",
      "Fitting propensity model\n",
      "Generating propensities\n",
      "Fitting CATE learner\n",
      "Generating POs\n"
     ]
    },
    {
     "name": "stderr",
     "output_type": "stream",
     "text": [
      "[2024-05-13T14:40:31.836129+0000][4058068][CRITICAL] load failed: module 'synthcity.plugins.generic.plugin_goggle' has no attribute 'plugin'\n",
      "[2024-05-13T14:40:31.837040+0000][4058068][CRITICAL] load failed: module 'synthcity.plugins.generic.plugin_goggle' has no attribute 'plugin'\n",
      "[2024-05-13T14:40:31.837399+0000][4058068][CRITICAL] module plugin_goggle load failed\n"
     ]
    },
    {
     "name": "stdout",
     "output_type": "stream",
     "text": [
      "Tested n_t = 1\n",
      "Fitting ddpm model\n"
     ]
    },
    {
     "name": "stderr",
     "output_type": "stream",
     "text": [
      "Epoch: 100%|██████████| 1000/1000 [00:11<00:00, 84.71it/s, loss=1.13]\n"
     ]
    },
    {
     "name": "stdout",
     "output_type": "stream",
     "text": [
      "Generating ddpm synthetic dataset\n"
     ]
    },
    {
     "name": "stderr",
     "output_type": "stream",
     "text": [
      "[2024-05-13T14:40:47.292009+0000][4058068][CRITICAL] load failed: module 'synthcity.plugins.generic.plugin_goggle' has no attribute 'plugin'\n",
      "[2024-05-13T14:40:47.292617+0000][4058068][CRITICAL] load failed: module 'synthcity.plugins.generic.plugin_goggle' has no attribute 'plugin'\n",
      "[2024-05-13T14:40:47.292981+0000][4058068][CRITICAL] module plugin_goggle load failed\n"
     ]
    },
    {
     "name": "stdout",
     "output_type": "stream",
     "text": [
      "Fitting ddpm covariate model\n"
     ]
    },
    {
     "name": "stderr",
     "output_type": "stream",
     "text": [
      "Epoch: 100%|██████████| 1000/1000 [00:08<00:00, 122.57it/s, loss=0.474]\n"
     ]
    },
    {
     "name": "stdout",
     "output_type": "stream",
     "text": [
      "Generating ddpm synthetic covariates\n",
      "Fitting propensity model\n",
      "Generating propensities\n",
      "Fitting CATE learner\n",
      "Generating POs\n"
     ]
    },
    {
     "name": "stderr",
     "output_type": "stream",
     "text": [
      "[2024-05-13T14:45:09.136772+0000][4058068][CRITICAL] load failed: module 'synthcity.plugins.generic.plugin_goggle' has no attribute 'plugin'\n",
      "[2024-05-13T14:45:09.139376+0000][4058068][CRITICAL] load failed: module 'synthcity.plugins.generic.plugin_goggle' has no attribute 'plugin'\n",
      "[2024-05-13T14:45:09.140381+0000][4058068][CRITICAL] module plugin_goggle load failed\n"
     ]
    },
    {
     "name": "stdout",
     "output_type": "stream",
     "text": [
      "Fitting ddpm model\n"
     ]
    },
    {
     "name": "stderr",
     "output_type": "stream",
     "text": [
      "Epoch: 100%|██████████| 1000/1000 [00:11<00:00, 83.63it/s, loss=1.13]\n"
     ]
    },
    {
     "name": "stdout",
     "output_type": "stream",
     "text": [
      "Generating ddpm synthetic dataset\n"
     ]
    },
    {
     "name": "stderr",
     "output_type": "stream",
     "text": [
      "[2024-05-13T14:45:24.784427+0000][4058068][CRITICAL] load failed: module 'synthcity.plugins.generic.plugin_goggle' has no attribute 'plugin'\n",
      "[2024-05-13T14:45:24.785147+0000][4058068][CRITICAL] load failed: module 'synthcity.plugins.generic.plugin_goggle' has no attribute 'plugin'\n",
      "[2024-05-13T14:45:24.785523+0000][4058068][CRITICAL] module plugin_goggle load failed\n"
     ]
    },
    {
     "name": "stdout",
     "output_type": "stream",
     "text": [
      "Fitting ddpm covariate model\n"
     ]
    },
    {
     "name": "stderr",
     "output_type": "stream",
     "text": [
      "Epoch: 100%|██████████| 1000/1000 [00:08<00:00, 114.35it/s, loss=0.473]\n"
     ]
    },
    {
     "name": "stdout",
     "output_type": "stream",
     "text": [
      "Generating ddpm synthetic covariates\n",
      "Fitting propensity model\n",
      "Generating propensities\n",
      "Fitting CATE learner\n",
      "Generating POs\n"
     ]
    },
    {
     "name": "stderr",
     "output_type": "stream",
     "text": [
      "[2024-05-13T14:49:49.486781+0000][4058068][CRITICAL] load failed: module 'synthcity.plugins.generic.plugin_goggle' has no attribute 'plugin'\n",
      "[2024-05-13T14:49:49.489199+0000][4058068][CRITICAL] load failed: module 'synthcity.plugins.generic.plugin_goggle' has no attribute 'plugin'\n",
      "[2024-05-13T14:49:49.490178+0000][4058068][CRITICAL] module plugin_goggle load failed\n"
     ]
    },
    {
     "name": "stdout",
     "output_type": "stream",
     "text": [
      "Fitting ddpm model\n"
     ]
    },
    {
     "name": "stderr",
     "output_type": "stream",
     "text": [
      "Epoch: 100%|██████████| 1000/1000 [00:11<00:00, 84.25it/s, loss=1.13]\n"
     ]
    },
    {
     "name": "stdout",
     "output_type": "stream",
     "text": [
      "Generating ddpm synthetic dataset\n"
     ]
    },
    {
     "name": "stderr",
     "output_type": "stream",
     "text": [
      "[2024-05-13T14:50:04.983504+0000][4058068][CRITICAL] load failed: module 'synthcity.plugins.generic.plugin_goggle' has no attribute 'plugin'\n",
      "[2024-05-13T14:50:04.984090+0000][4058068][CRITICAL] load failed: module 'synthcity.plugins.generic.plugin_goggle' has no attribute 'plugin'\n",
      "[2024-05-13T14:50:04.984441+0000][4058068][CRITICAL] module plugin_goggle load failed\n"
     ]
    },
    {
     "name": "stdout",
     "output_type": "stream",
     "text": [
      "Fitting ddpm covariate model\n"
     ]
    },
    {
     "name": "stderr",
     "output_type": "stream",
     "text": [
      "Epoch: 100%|██████████| 1000/1000 [00:08<00:00, 115.11it/s, loss=0.474]\n"
     ]
    },
    {
     "name": "stdout",
     "output_type": "stream",
     "text": [
      "Generating ddpm synthetic covariates\n",
      "Fitting propensity model\n",
      "Generating propensities\n",
      "Fitting CATE learner\n",
      "Generating POs\n"
     ]
    },
    {
     "name": "stderr",
     "output_type": "stream",
     "text": [
      "[2024-05-13T14:54:41.274027+0000][4058068][CRITICAL] load failed: module 'synthcity.plugins.generic.plugin_goggle' has no attribute 'plugin'\n",
      "[2024-05-13T14:54:41.276365+0000][4058068][CRITICAL] load failed: module 'synthcity.plugins.generic.plugin_goggle' has no attribute 'plugin'\n",
      "[2024-05-13T14:54:41.277284+0000][4058068][CRITICAL] module plugin_goggle load failed\n"
     ]
    },
    {
     "name": "stdout",
     "output_type": "stream",
     "text": [
      "Fitting ddpm model\n"
     ]
    },
    {
     "name": "stderr",
     "output_type": "stream",
     "text": [
      "Epoch: 100%|██████████| 1000/1000 [00:11<00:00, 84.67it/s, loss=1.14]\n"
     ]
    },
    {
     "name": "stdout",
     "output_type": "stream",
     "text": [
      "Generating ddpm synthetic dataset\n"
     ]
    },
    {
     "name": "stderr",
     "output_type": "stream",
     "text": [
      "[2024-05-13T14:54:56.759517+0000][4058068][CRITICAL] load failed: module 'synthcity.plugins.generic.plugin_goggle' has no attribute 'plugin'\n",
      "[2024-05-13T14:54:56.760087+0000][4058068][CRITICAL] load failed: module 'synthcity.plugins.generic.plugin_goggle' has no attribute 'plugin'\n",
      "[2024-05-13T14:54:56.760378+0000][4058068][CRITICAL] module plugin_goggle load failed\n"
     ]
    },
    {
     "name": "stdout",
     "output_type": "stream",
     "text": [
      "Fitting ddpm covariate model\n"
     ]
    },
    {
     "name": "stderr",
     "output_type": "stream",
     "text": [
      "Epoch: 100%|██████████| 1000/1000 [00:08<00:00, 122.61it/s, loss=0.473]\n"
     ]
    },
    {
     "name": "stdout",
     "output_type": "stream",
     "text": [
      "Generating ddpm synthetic covariates\n",
      "Fitting propensity model\n",
      "Generating propensities\n",
      "Fitting CATE learner\n",
      "Generating POs\n"
     ]
    },
    {
     "name": "stderr",
     "output_type": "stream",
     "text": [
      "[2024-05-13T14:59:28.569030+0000][4058068][CRITICAL] load failed: module 'synthcity.plugins.generic.plugin_goggle' has no attribute 'plugin'\n",
      "[2024-05-13T14:59:28.571306+0000][4058068][CRITICAL] load failed: module 'synthcity.plugins.generic.plugin_goggle' has no attribute 'plugin'\n",
      "[2024-05-13T14:59:28.572331+0000][4058068][CRITICAL] module plugin_goggle load failed\n"
     ]
    },
    {
     "name": "stdout",
     "output_type": "stream",
     "text": [
      "Fitting ddpm model\n"
     ]
    },
    {
     "name": "stderr",
     "output_type": "stream",
     "text": [
      "Epoch: 100%|██████████| 1000/1000 [00:11<00:00, 83.37it/s, loss=1.13]\n"
     ]
    },
    {
     "name": "stdout",
     "output_type": "stream",
     "text": [
      "Generating ddpm synthetic dataset\n"
     ]
    },
    {
     "name": "stderr",
     "output_type": "stream",
     "text": [
      "[2024-05-13T14:59:44.545526+0000][4058068][CRITICAL] load failed: module 'synthcity.plugins.generic.plugin_goggle' has no attribute 'plugin'\n",
      "[2024-05-13T14:59:44.546285+0000][4058068][CRITICAL] load failed: module 'synthcity.plugins.generic.plugin_goggle' has no attribute 'plugin'\n",
      "[2024-05-13T14:59:44.546670+0000][4058068][CRITICAL] module plugin_goggle load failed\n"
     ]
    },
    {
     "name": "stdout",
     "output_type": "stream",
     "text": [
      "Fitting ddpm covariate model\n"
     ]
    },
    {
     "name": "stderr",
     "output_type": "stream",
     "text": [
      "Epoch: 100%|██████████| 1000/1000 [00:08<00:00, 118.25it/s, loss=0.474]\n"
     ]
    },
    {
     "name": "stdout",
     "output_type": "stream",
     "text": [
      "Generating ddpm synthetic covariates\n",
      "Fitting propensity model\n",
      "Generating propensities\n",
      "Fitting CATE learner\n",
      "Generating POs\n"
     ]
    },
    {
     "name": "stderr",
     "output_type": "stream",
     "text": [
      "[2024-05-13T15:04:05.123619+0000][4058068][CRITICAL] load failed: module 'synthcity.plugins.generic.plugin_goggle' has no attribute 'plugin'\n",
      "[2024-05-13T15:04:05.125792+0000][4058068][CRITICAL] load failed: module 'synthcity.plugins.generic.plugin_goggle' has no attribute 'plugin'\n",
      "[2024-05-13T15:04:05.126793+0000][4058068][CRITICAL] module plugin_goggle load failed\n"
     ]
    },
    {
     "name": "stdout",
     "output_type": "stream",
     "text": [
      "Fitting ddpm model\n"
     ]
    },
    {
     "name": "stderr",
     "output_type": "stream",
     "text": [
      "Epoch: 100%|██████████| 1000/1000 [00:11<00:00, 87.77it/s, loss=1.14]\n"
     ]
    },
    {
     "name": "stdout",
     "output_type": "stream",
     "text": [
      "Generating ddpm synthetic dataset\n"
     ]
    },
    {
     "name": "stderr",
     "output_type": "stream",
     "text": [
      "[2024-05-13T15:04:20.157337+0000][4058068][CRITICAL] load failed: module 'synthcity.plugins.generic.plugin_goggle' has no attribute 'plugin'\n",
      "[2024-05-13T15:04:20.158309+0000][4058068][CRITICAL] load failed: module 'synthcity.plugins.generic.plugin_goggle' has no attribute 'plugin'\n",
      "[2024-05-13T15:04:20.158741+0000][4058068][CRITICAL] module plugin_goggle load failed\n"
     ]
    },
    {
     "name": "stdout",
     "output_type": "stream",
     "text": [
      "Fitting ddpm covariate model\n"
     ]
    },
    {
     "name": "stderr",
     "output_type": "stream",
     "text": [
      "Epoch: 100%|██████████| 1000/1000 [00:08<00:00, 118.67it/s, loss=0.474]\n"
     ]
    },
    {
     "name": "stdout",
     "output_type": "stream",
     "text": [
      "Generating ddpm synthetic covariates\n",
      "Fitting propensity model\n",
      "Generating propensities\n",
      "Fitting CATE learner\n",
      "Generating POs\n"
     ]
    },
    {
     "name": "stderr",
     "output_type": "stream",
     "text": [
      "[2024-05-13T15:08:51.882476+0000][4058068][CRITICAL] load failed: module 'synthcity.plugins.generic.plugin_goggle' has no attribute 'plugin'\n",
      "[2024-05-13T15:08:51.883795+0000][4058068][CRITICAL] load failed: module 'synthcity.plugins.generic.plugin_goggle' has no attribute 'plugin'\n",
      "[2024-05-13T15:08:51.884312+0000][4058068][CRITICAL] module plugin_goggle load failed\n"
     ]
    },
    {
     "name": "stdout",
     "output_type": "stream",
     "text": [
      "Fitting ddpm model\n"
     ]
    },
    {
     "name": "stderr",
     "output_type": "stream",
     "text": [
      "Epoch: 100%|██████████| 1000/1000 [00:11<00:00, 87.16it/s, loss=1.13]\n"
     ]
    },
    {
     "name": "stdout",
     "output_type": "stream",
     "text": [
      "Generating ddpm synthetic dataset\n"
     ]
    },
    {
     "name": "stderr",
     "output_type": "stream",
     "text": [
      "[2024-05-13T15:09:07.051095+0000][4058068][CRITICAL] load failed: module 'synthcity.plugins.generic.plugin_goggle' has no attribute 'plugin'\n",
      "[2024-05-13T15:09:07.051699+0000][4058068][CRITICAL] load failed: module 'synthcity.plugins.generic.plugin_goggle' has no attribute 'plugin'\n",
      "[2024-05-13T15:09:07.052051+0000][4058068][CRITICAL] module plugin_goggle load failed\n"
     ]
    },
    {
     "name": "stdout",
     "output_type": "stream",
     "text": [
      "Fitting ddpm covariate model\n"
     ]
    },
    {
     "name": "stderr",
     "output_type": "stream",
     "text": [
      "Epoch: 100%|██████████| 1000/1000 [00:08<00:00, 118.24it/s, loss=0.474]\n"
     ]
    },
    {
     "name": "stdout",
     "output_type": "stream",
     "text": [
      "Generating ddpm synthetic covariates\n",
      "Fitting propensity model\n",
      "Generating propensities\n",
      "Fitting CATE learner\n",
      "Generating POs\n"
     ]
    },
    {
     "name": "stderr",
     "output_type": "stream",
     "text": [
      "[2024-05-13T15:13:40.088254+0000][4058068][CRITICAL] load failed: module 'synthcity.plugins.generic.plugin_goggle' has no attribute 'plugin'\n",
      "[2024-05-13T15:13:40.089494+0000][4058068][CRITICAL] load failed: module 'synthcity.plugins.generic.plugin_goggle' has no attribute 'plugin'\n",
      "[2024-05-13T15:13:40.093732+0000][4058068][CRITICAL] module plugin_goggle load failed\n"
     ]
    },
    {
     "name": "stdout",
     "output_type": "stream",
     "text": [
      "Fitting ddpm model\n"
     ]
    },
    {
     "name": "stderr",
     "output_type": "stream",
     "text": [
      "Epoch: 100%|██████████| 1000/1000 [00:11<00:00, 85.10it/s, loss=1.14]\n"
     ]
    },
    {
     "name": "stdout",
     "output_type": "stream",
     "text": [
      "Generating ddpm synthetic dataset\n"
     ]
    },
    {
     "name": "stderr",
     "output_type": "stream",
     "text": [
      "[2024-05-13T15:13:55.513566+0000][4058068][CRITICAL] load failed: module 'synthcity.plugins.generic.plugin_goggle' has no attribute 'plugin'\n",
      "[2024-05-13T15:13:55.514247+0000][4058068][CRITICAL] load failed: module 'synthcity.plugins.generic.plugin_goggle' has no attribute 'plugin'\n",
      "[2024-05-13T15:13:55.514604+0000][4058068][CRITICAL] module plugin_goggle load failed\n"
     ]
    },
    {
     "name": "stdout",
     "output_type": "stream",
     "text": [
      "Fitting ddpm covariate model\n"
     ]
    },
    {
     "name": "stderr",
     "output_type": "stream",
     "text": [
      "Epoch: 100%|██████████| 1000/1000 [00:08<00:00, 123.42it/s, loss=0.473]\n"
     ]
    },
    {
     "name": "stdout",
     "output_type": "stream",
     "text": [
      "Generating ddpm synthetic covariates\n",
      "Fitting propensity model\n",
      "Generating propensities\n",
      "Fitting CATE learner\n",
      "Generating POs\n"
     ]
    },
    {
     "name": "stderr",
     "output_type": "stream",
     "text": [
      "[2024-05-13T15:18:24.449623+0000][4058068][CRITICAL] load failed: module 'synthcity.plugins.generic.plugin_goggle' has no attribute 'plugin'\n",
      "[2024-05-13T15:18:24.451526+0000][4058068][CRITICAL] load failed: module 'synthcity.plugins.generic.plugin_goggle' has no attribute 'plugin'\n",
      "[2024-05-13T15:18:24.452547+0000][4058068][CRITICAL] module plugin_goggle load failed\n"
     ]
    },
    {
     "name": "stdout",
     "output_type": "stream",
     "text": [
      "Fitting ddpm model\n"
     ]
    },
    {
     "name": "stderr",
     "output_type": "stream",
     "text": [
      "Epoch: 100%|██████████| 1000/1000 [00:11<00:00, 84.53it/s, loss=1.14]\n"
     ]
    },
    {
     "name": "stdout",
     "output_type": "stream",
     "text": [
      "Generating ddpm synthetic dataset\n"
     ]
    },
    {
     "name": "stderr",
     "output_type": "stream",
     "text": [
      "[2024-05-13T15:18:39.935003+0000][4058068][CRITICAL] load failed: module 'synthcity.plugins.generic.plugin_goggle' has no attribute 'plugin'\n",
      "[2024-05-13T15:18:39.935887+0000][4058068][CRITICAL] load failed: module 'synthcity.plugins.generic.plugin_goggle' has no attribute 'plugin'\n",
      "[2024-05-13T15:18:39.936334+0000][4058068][CRITICAL] module plugin_goggle load failed\n"
     ]
    },
    {
     "name": "stdout",
     "output_type": "stream",
     "text": [
      "Fitting ddpm covariate model\n"
     ]
    },
    {
     "name": "stderr",
     "output_type": "stream",
     "text": [
      "Epoch: 100%|██████████| 1000/1000 [00:08<00:00, 120.67it/s, loss=0.474]\n"
     ]
    },
    {
     "name": "stdout",
     "output_type": "stream",
     "text": [
      "Generating ddpm synthetic covariates\n",
      "Fitting propensity model\n",
      "Generating propensities\n",
      "Fitting CATE learner\n",
      "Generating POs\n"
     ]
    },
    {
     "name": "stderr",
     "output_type": "stream",
     "text": [
      "[2024-05-13T15:23:16.658666+0000][4058068][CRITICAL] load failed: module 'synthcity.plugins.generic.plugin_goggle' has no attribute 'plugin'\n",
      "[2024-05-13T15:23:16.660777+0000][4058068][CRITICAL] load failed: module 'synthcity.plugins.generic.plugin_goggle' has no attribute 'plugin'\n",
      "[2024-05-13T15:23:16.661753+0000][4058068][CRITICAL] module plugin_goggle load failed\n"
     ]
    },
    {
     "name": "stdout",
     "output_type": "stream",
     "text": [
      "Fitting ddpm model\n"
     ]
    },
    {
     "name": "stderr",
     "output_type": "stream",
     "text": [
      "Epoch: 100%|██████████| 1000/1000 [00:11<00:00, 88.02it/s, loss=1.14]\n"
     ]
    },
    {
     "name": "stdout",
     "output_type": "stream",
     "text": [
      "Generating ddpm synthetic dataset\n"
     ]
    },
    {
     "name": "stderr",
     "output_type": "stream",
     "text": [
      "[2024-05-13T15:23:31.672481+0000][4058068][CRITICAL] load failed: module 'synthcity.plugins.generic.plugin_goggle' has no attribute 'plugin'\n",
      "[2024-05-13T15:23:31.673146+0000][4058068][CRITICAL] load failed: module 'synthcity.plugins.generic.plugin_goggle' has no attribute 'plugin'\n",
      "[2024-05-13T15:23:31.673506+0000][4058068][CRITICAL] module plugin_goggle load failed\n"
     ]
    },
    {
     "name": "stdout",
     "output_type": "stream",
     "text": [
      "Fitting ddpm covariate model\n"
     ]
    },
    {
     "name": "stderr",
     "output_type": "stream",
     "text": [
      "Epoch: 100%|██████████| 1000/1000 [00:08<00:00, 117.06it/s, loss=0.472]\n"
     ]
    },
    {
     "name": "stdout",
     "output_type": "stream",
     "text": [
      "Generating ddpm synthetic covariates\n",
      "Fitting propensity model\n",
      "Generating propensities\n",
      "Fitting CATE learner\n",
      "Generating POs\n"
     ]
    },
    {
     "name": "stderr",
     "output_type": "stream",
     "text": [
      "[2024-05-13T15:27:57.502601+0000][4058068][CRITICAL] load failed: module 'synthcity.plugins.generic.plugin_goggle' has no attribute 'plugin'\n",
      "[2024-05-13T15:27:57.503446+0000][4058068][CRITICAL] load failed: module 'synthcity.plugins.generic.plugin_goggle' has no attribute 'plugin'\n",
      "[2024-05-13T15:27:57.503936+0000][4058068][CRITICAL] module plugin_goggle load failed\n"
     ]
    },
    {
     "name": "stdout",
     "output_type": "stream",
     "text": [
      "Tested n_t = 2\n",
      "Fitting ddpm model\n"
     ]
    },
    {
     "name": "stderr",
     "output_type": "stream",
     "text": [
      "Epoch: 100%|██████████| 1000/1000 [00:11<00:00, 86.55it/s, loss=1.08]\n"
     ]
    },
    {
     "name": "stdout",
     "output_type": "stream",
     "text": [
      "Generating ddpm synthetic dataset\n"
     ]
    },
    {
     "name": "stderr",
     "output_type": "stream",
     "text": [
      "[2024-05-13T15:28:12.689096+0000][4058068][CRITICAL] load failed: module 'synthcity.plugins.generic.plugin_goggle' has no attribute 'plugin'\n",
      "[2024-05-13T15:28:12.689917+0000][4058068][CRITICAL] load failed: module 'synthcity.plugins.generic.plugin_goggle' has no attribute 'plugin'\n",
      "[2024-05-13T15:28:12.690276+0000][4058068][CRITICAL] module plugin_goggle load failed\n"
     ]
    },
    {
     "name": "stdout",
     "output_type": "stream",
     "text": [
      "Fitting ddpm covariate model\n"
     ]
    },
    {
     "name": "stderr",
     "output_type": "stream",
     "text": [
      "Epoch: 100%|██████████| 1000/1000 [00:08<00:00, 114.17it/s, loss=0.473]\n"
     ]
    },
    {
     "name": "stdout",
     "output_type": "stream",
     "text": [
      "Generating ddpm synthetic covariates\n",
      "Fitting propensity model\n",
      "Generating propensities\n",
      "Fitting CATE learner\n",
      "Generating POs\n"
     ]
    },
    {
     "name": "stderr",
     "output_type": "stream",
     "text": [
      "[2024-05-13T15:33:10.330035+0000][4058068][CRITICAL] load failed: module 'synthcity.plugins.generic.plugin_goggle' has no attribute 'plugin'\n",
      "[2024-05-13T15:33:10.333643+0000][4058068][CRITICAL] load failed: module 'synthcity.plugins.generic.plugin_goggle' has no attribute 'plugin'\n",
      "[2024-05-13T15:33:10.334211+0000][4058068][CRITICAL] module plugin_goggle load failed\n"
     ]
    },
    {
     "name": "stdout",
     "output_type": "stream",
     "text": [
      "Fitting ddpm model\n"
     ]
    },
    {
     "name": "stderr",
     "output_type": "stream",
     "text": [
      "Epoch: 100%|██████████| 1000/1000 [00:11<00:00, 84.13it/s, loss=1.09]\n"
     ]
    },
    {
     "name": "stdout",
     "output_type": "stream",
     "text": [
      "Generating ddpm synthetic dataset\n"
     ]
    },
    {
     "name": "stderr",
     "output_type": "stream",
     "text": [
      "[2024-05-13T15:33:25.905464+0000][4058068][CRITICAL] load failed: module 'synthcity.plugins.generic.plugin_goggle' has no attribute 'plugin'\n",
      "[2024-05-13T15:33:25.906242+0000][4058068][CRITICAL] load failed: module 'synthcity.plugins.generic.plugin_goggle' has no attribute 'plugin'\n",
      "[2024-05-13T15:33:25.906688+0000][4058068][CRITICAL] module plugin_goggle load failed\n"
     ]
    },
    {
     "name": "stdout",
     "output_type": "stream",
     "text": [
      "Fitting ddpm covariate model\n"
     ]
    },
    {
     "name": "stderr",
     "output_type": "stream",
     "text": [
      "Epoch: 100%|██████████| 1000/1000 [00:08<00:00, 119.60it/s, loss=0.472]\n"
     ]
    },
    {
     "name": "stdout",
     "output_type": "stream",
     "text": [
      "Generating ddpm synthetic covariates\n",
      "Fitting propensity model\n",
      "Generating propensities\n",
      "Fitting CATE learner\n",
      "Generating POs\n"
     ]
    },
    {
     "name": "stderr",
     "output_type": "stream",
     "text": [
      "[2024-05-13T15:38:18.669435+0000][4058068][CRITICAL] load failed: module 'synthcity.plugins.generic.plugin_goggle' has no attribute 'plugin'\n",
      "[2024-05-13T15:38:18.670335+0000][4058068][CRITICAL] load failed: module 'synthcity.plugins.generic.plugin_goggle' has no attribute 'plugin'\n",
      "[2024-05-13T15:38:18.670751+0000][4058068][CRITICAL] module plugin_goggle load failed\n"
     ]
    },
    {
     "name": "stdout",
     "output_type": "stream",
     "text": [
      "Fitting ddpm model\n"
     ]
    },
    {
     "name": "stderr",
     "output_type": "stream",
     "text": [
      "Epoch: 100%|██████████| 1000/1000 [00:11<00:00, 86.67it/s, loss=1.09]\n"
     ]
    },
    {
     "name": "stdout",
     "output_type": "stream",
     "text": [
      "Generating ddpm synthetic dataset\n"
     ]
    },
    {
     "name": "stderr",
     "output_type": "stream",
     "text": [
      "[2024-05-13T15:38:33.873579+0000][4058068][CRITICAL] load failed: module 'synthcity.plugins.generic.plugin_goggle' has no attribute 'plugin'\n",
      "[2024-05-13T15:38:33.874324+0000][4058068][CRITICAL] load failed: module 'synthcity.plugins.generic.plugin_goggle' has no attribute 'plugin'\n",
      "[2024-05-13T15:38:33.874864+0000][4058068][CRITICAL] module plugin_goggle load failed\n"
     ]
    },
    {
     "name": "stdout",
     "output_type": "stream",
     "text": [
      "Fitting ddpm covariate model\n"
     ]
    },
    {
     "name": "stderr",
     "output_type": "stream",
     "text": [
      "Epoch: 100%|██████████| 1000/1000 [00:08<00:00, 120.81it/s, loss=0.473]\n"
     ]
    },
    {
     "name": "stdout",
     "output_type": "stream",
     "text": [
      "Generating ddpm synthetic covariates\n",
      "Fitting propensity model\n",
      "Generating propensities\n",
      "Fitting CATE learner\n",
      "Generating POs\n"
     ]
    },
    {
     "name": "stderr",
     "output_type": "stream",
     "text": [
      "[2024-05-13T15:43:22.030199+0000][4058068][CRITICAL] load failed: module 'synthcity.plugins.generic.plugin_goggle' has no attribute 'plugin'\n",
      "[2024-05-13T15:43:22.034341+0000][4058068][CRITICAL] load failed: module 'synthcity.plugins.generic.plugin_goggle' has no attribute 'plugin'\n",
      "[2024-05-13T15:43:22.035073+0000][4058068][CRITICAL] module plugin_goggle load failed\n"
     ]
    },
    {
     "name": "stdout",
     "output_type": "stream",
     "text": [
      "Fitting ddpm model\n"
     ]
    },
    {
     "name": "stderr",
     "output_type": "stream",
     "text": [
      "Epoch: 100%|██████████| 1000/1000 [00:11<00:00, 85.50it/s, loss=1.09]\n"
     ]
    },
    {
     "name": "stdout",
     "output_type": "stream",
     "text": [
      "Generating ddpm synthetic dataset\n"
     ]
    },
    {
     "name": "stderr",
     "output_type": "stream",
     "text": [
      "[2024-05-13T15:43:37.367738+0000][4058068][CRITICAL] load failed: module 'synthcity.plugins.generic.plugin_goggle' has no attribute 'plugin'\n",
      "[2024-05-13T15:43:37.368456+0000][4058068][CRITICAL] load failed: module 'synthcity.plugins.generic.plugin_goggle' has no attribute 'plugin'\n",
      "[2024-05-13T15:43:37.368998+0000][4058068][CRITICAL] module plugin_goggle load failed\n"
     ]
    },
    {
     "name": "stdout",
     "output_type": "stream",
     "text": [
      "Fitting ddpm covariate model\n"
     ]
    },
    {
     "name": "stderr",
     "output_type": "stream",
     "text": [
      "Epoch: 100%|██████████| 1000/1000 [00:08<00:00, 117.48it/s, loss=0.474]\n"
     ]
    },
    {
     "name": "stdout",
     "output_type": "stream",
     "text": [
      "Generating ddpm synthetic covariates\n",
      "Fitting propensity model\n",
      "Generating propensities\n",
      "Fitting CATE learner\n",
      "Generating POs\n"
     ]
    },
    {
     "name": "stderr",
     "output_type": "stream",
     "text": [
      "[2024-05-13T15:48:09.917284+0000][4058068][CRITICAL] load failed: module 'synthcity.plugins.generic.plugin_goggle' has no attribute 'plugin'\n",
      "[2024-05-13T15:48:09.919648+0000][4058068][CRITICAL] load failed: module 'synthcity.plugins.generic.plugin_goggle' has no attribute 'plugin'\n",
      "[2024-05-13T15:48:09.920659+0000][4058068][CRITICAL] module plugin_goggle load failed\n"
     ]
    },
    {
     "name": "stdout",
     "output_type": "stream",
     "text": [
      "Fitting ddpm model\n"
     ]
    },
    {
     "name": "stderr",
     "output_type": "stream",
     "text": [
      "Epoch: 100%|██████████| 1000/1000 [00:12<00:00, 81.98it/s, loss=1.08]\n"
     ]
    },
    {
     "name": "stdout",
     "output_type": "stream",
     "text": [
      "Generating ddpm synthetic dataset\n"
     ]
    },
    {
     "name": "stderr",
     "output_type": "stream",
     "text": [
      "[2024-05-13T15:48:25.749302+0000][4058068][CRITICAL] load failed: module 'synthcity.plugins.generic.plugin_goggle' has no attribute 'plugin'\n",
      "[2024-05-13T15:48:25.750058+0000][4058068][CRITICAL] load failed: module 'synthcity.plugins.generic.plugin_goggle' has no attribute 'plugin'\n",
      "[2024-05-13T15:48:25.750386+0000][4058068][CRITICAL] module plugin_goggle load failed\n"
     ]
    },
    {
     "name": "stdout",
     "output_type": "stream",
     "text": [
      "Fitting ddpm covariate model\n"
     ]
    },
    {
     "name": "stderr",
     "output_type": "stream",
     "text": [
      "Epoch: 100%|██████████| 1000/1000 [00:08<00:00, 119.36it/s, loss=0.474]\n"
     ]
    },
    {
     "name": "stdout",
     "output_type": "stream",
     "text": [
      "Generating ddpm synthetic covariates\n",
      "Fitting propensity model\n",
      "Generating propensities\n",
      "Fitting CATE learner\n",
      "Generating POs\n"
     ]
    },
    {
     "name": "stderr",
     "output_type": "stream",
     "text": [
      "[2024-05-13T15:53:08.170720+0000][4058068][CRITICAL] load failed: module 'synthcity.plugins.generic.plugin_goggle' has no attribute 'plugin'\n",
      "[2024-05-13T15:53:08.173419+0000][4058068][CRITICAL] load failed: module 'synthcity.plugins.generic.plugin_goggle' has no attribute 'plugin'\n",
      "[2024-05-13T15:53:08.174429+0000][4058068][CRITICAL] module plugin_goggle load failed\n"
     ]
    },
    {
     "name": "stdout",
     "output_type": "stream",
     "text": [
      "Fitting ddpm model\n"
     ]
    },
    {
     "name": "stderr",
     "output_type": "stream",
     "text": [
      "Epoch: 100%|██████████| 1000/1000 [00:12<00:00, 82.34it/s, loss=1.08]\n"
     ]
    },
    {
     "name": "stdout",
     "output_type": "stream",
     "text": [
      "Generating ddpm synthetic dataset\n"
     ]
    },
    {
     "name": "stderr",
     "output_type": "stream",
     "text": [
      "[2024-05-13T15:53:23.977191+0000][4058068][CRITICAL] load failed: module 'synthcity.plugins.generic.plugin_goggle' has no attribute 'plugin'\n",
      "[2024-05-13T15:53:23.978140+0000][4058068][CRITICAL] load failed: module 'synthcity.plugins.generic.plugin_goggle' has no attribute 'plugin'\n",
      "[2024-05-13T15:53:23.978502+0000][4058068][CRITICAL] module plugin_goggle load failed\n"
     ]
    },
    {
     "name": "stdout",
     "output_type": "stream",
     "text": [
      "Fitting ddpm covariate model\n"
     ]
    },
    {
     "name": "stderr",
     "output_type": "stream",
     "text": [
      "Epoch: 100%|██████████| 1000/1000 [00:08<00:00, 119.48it/s, loss=0.473]\n"
     ]
    },
    {
     "name": "stdout",
     "output_type": "stream",
     "text": [
      "Generating ddpm synthetic covariates\n",
      "Fitting propensity model\n",
      "Generating propensities\n",
      "Fitting CATE learner\n",
      "Generating POs\n"
     ]
    },
    {
     "name": "stderr",
     "output_type": "stream",
     "text": [
      "[2024-05-13T15:58:07.278304+0000][4058068][CRITICAL] load failed: module 'synthcity.plugins.generic.plugin_goggle' has no attribute 'plugin'\n",
      "[2024-05-13T15:58:07.279595+0000][4058068][CRITICAL] load failed: module 'synthcity.plugins.generic.plugin_goggle' has no attribute 'plugin'\n",
      "[2024-05-13T15:58:07.280067+0000][4058068][CRITICAL] module plugin_goggle load failed\n"
     ]
    },
    {
     "name": "stdout",
     "output_type": "stream",
     "text": [
      "Fitting ddpm model\n"
     ]
    },
    {
     "name": "stderr",
     "output_type": "stream",
     "text": [
      "Epoch: 100%|██████████| 1000/1000 [00:11<00:00, 87.33it/s, loss=1.08]\n"
     ]
    },
    {
     "name": "stdout",
     "output_type": "stream",
     "text": [
      "Generating ddpm synthetic dataset\n"
     ]
    },
    {
     "name": "stderr",
     "output_type": "stream",
     "text": [
      "[2024-05-13T15:58:22.405629+0000][4058068][CRITICAL] load failed: module 'synthcity.plugins.generic.plugin_goggle' has no attribute 'plugin'\n",
      "[2024-05-13T15:58:22.406259+0000][4058068][CRITICAL] load failed: module 'synthcity.plugins.generic.plugin_goggle' has no attribute 'plugin'\n",
      "[2024-05-13T15:58:22.406591+0000][4058068][CRITICAL] module plugin_goggle load failed\n"
     ]
    },
    {
     "name": "stdout",
     "output_type": "stream",
     "text": [
      "Fitting ddpm covariate model\n"
     ]
    },
    {
     "name": "stderr",
     "output_type": "stream",
     "text": [
      "Epoch: 100%|██████████| 1000/1000 [00:08<00:00, 117.48it/s, loss=0.473]\n"
     ]
    },
    {
     "name": "stdout",
     "output_type": "stream",
     "text": [
      "Generating ddpm synthetic covariates\n",
      "Fitting propensity model\n",
      "Generating propensities\n",
      "Fitting CATE learner\n",
      "Generating POs\n"
     ]
    },
    {
     "name": "stderr",
     "output_type": "stream",
     "text": [
      "[2024-05-13T16:03:08.634735+0000][4058068][CRITICAL] load failed: module 'synthcity.plugins.generic.plugin_goggle' has no attribute 'plugin'\n",
      "[2024-05-13T16:03:08.637434+0000][4058068][CRITICAL] load failed: module 'synthcity.plugins.generic.plugin_goggle' has no attribute 'plugin'\n",
      "[2024-05-13T16:03:08.638462+0000][4058068][CRITICAL] module plugin_goggle load failed\n"
     ]
    },
    {
     "name": "stdout",
     "output_type": "stream",
     "text": [
      "Fitting ddpm model\n"
     ]
    },
    {
     "name": "stderr",
     "output_type": "stream",
     "text": [
      "Epoch: 100%|██████████| 1000/1000 [00:11<00:00, 84.87it/s, loss=1.1] \n"
     ]
    },
    {
     "name": "stdout",
     "output_type": "stream",
     "text": [
      "Generating ddpm synthetic dataset\n"
     ]
    },
    {
     "name": "stderr",
     "output_type": "stream",
     "text": [
      "[2024-05-13T16:03:24.077794+0000][4058068][CRITICAL] load failed: module 'synthcity.plugins.generic.plugin_goggle' has no attribute 'plugin'\n",
      "[2024-05-13T16:03:24.078569+0000][4058068][CRITICAL] load failed: module 'synthcity.plugins.generic.plugin_goggle' has no attribute 'plugin'\n",
      "[2024-05-13T16:03:24.079057+0000][4058068][CRITICAL] module plugin_goggle load failed\n"
     ]
    },
    {
     "name": "stdout",
     "output_type": "stream",
     "text": [
      "Fitting ddpm covariate model\n"
     ]
    },
    {
     "name": "stderr",
     "output_type": "stream",
     "text": [
      "Epoch: 100%|██████████| 1000/1000 [00:08<00:00, 115.18it/s, loss=0.473]\n"
     ]
    },
    {
     "name": "stdout",
     "output_type": "stream",
     "text": [
      "Generating ddpm synthetic covariates\n",
      "Fitting propensity model\n",
      "Generating propensities\n",
      "Fitting CATE learner\n",
      "Generating POs\n"
     ]
    },
    {
     "name": "stderr",
     "output_type": "stream",
     "text": [
      "[2024-05-13T16:07:58.542967+0000][4058068][CRITICAL] load failed: module 'synthcity.plugins.generic.plugin_goggle' has no attribute 'plugin'\n",
      "[2024-05-13T16:07:58.545307+0000][4058068][CRITICAL] load failed: module 'synthcity.plugins.generic.plugin_goggle' has no attribute 'plugin'\n",
      "[2024-05-13T16:07:58.546357+0000][4058068][CRITICAL] module plugin_goggle load failed\n"
     ]
    },
    {
     "name": "stdout",
     "output_type": "stream",
     "text": [
      "Fitting ddpm model\n"
     ]
    },
    {
     "name": "stderr",
     "output_type": "stream",
     "text": [
      "Epoch: 100%|██████████| 1000/1000 [00:12<00:00, 81.68it/s, loss=1.08]\n"
     ]
    },
    {
     "name": "stdout",
     "output_type": "stream",
     "text": [
      "Generating ddpm synthetic dataset\n"
     ]
    },
    {
     "name": "stderr",
     "output_type": "stream",
     "text": [
      "[2024-05-13T16:08:14.465206+0000][4058068][CRITICAL] load failed: module 'synthcity.plugins.generic.plugin_goggle' has no attribute 'plugin'\n",
      "[2024-05-13T16:08:14.465951+0000][4058068][CRITICAL] load failed: module 'synthcity.plugins.generic.plugin_goggle' has no attribute 'plugin'\n",
      "[2024-05-13T16:08:14.466363+0000][4058068][CRITICAL] module plugin_goggle load failed\n"
     ]
    },
    {
     "name": "stdout",
     "output_type": "stream",
     "text": [
      "Fitting ddpm covariate model\n"
     ]
    },
    {
     "name": "stderr",
     "output_type": "stream",
     "text": [
      "Epoch: 100%|██████████| 1000/1000 [00:08<00:00, 119.78it/s, loss=0.473]\n"
     ]
    },
    {
     "name": "stdout",
     "output_type": "stream",
     "text": [
      "Generating ddpm synthetic covariates\n",
      "Fitting propensity model\n",
      "Generating propensities\n",
      "Fitting CATE learner\n",
      "Generating POs\n"
     ]
    },
    {
     "name": "stderr",
     "output_type": "stream",
     "text": [
      "[2024-05-13T16:12:58.806256+0000][4058068][CRITICAL] load failed: module 'synthcity.plugins.generic.plugin_goggle' has no attribute 'plugin'\n",
      "[2024-05-13T16:12:58.808797+0000][4058068][CRITICAL] load failed: module 'synthcity.plugins.generic.plugin_goggle' has no attribute 'plugin'\n",
      "[2024-05-13T16:12:58.809881+0000][4058068][CRITICAL] module plugin_goggle load failed\n"
     ]
    },
    {
     "name": "stdout",
     "output_type": "stream",
     "text": [
      "Fitting ddpm model\n"
     ]
    },
    {
     "name": "stderr",
     "output_type": "stream",
     "text": [
      "Epoch: 100%|██████████| 1000/1000 [00:11<00:00, 84.46it/s, loss=1.09]\n"
     ]
    },
    {
     "name": "stdout",
     "output_type": "stream",
     "text": [
      "Generating ddpm synthetic dataset\n"
     ]
    },
    {
     "name": "stderr",
     "output_type": "stream",
     "text": [
      "[2024-05-13T16:13:14.288225+0000][4058068][CRITICAL] load failed: module 'synthcity.plugins.generic.plugin_goggle' has no attribute 'plugin'\n",
      "[2024-05-13T16:13:14.288971+0000][4058068][CRITICAL] load failed: module 'synthcity.plugins.generic.plugin_goggle' has no attribute 'plugin'\n",
      "[2024-05-13T16:13:14.289444+0000][4058068][CRITICAL] module plugin_goggle load failed\n"
     ]
    },
    {
     "name": "stdout",
     "output_type": "stream",
     "text": [
      "Fitting ddpm covariate model\n"
     ]
    },
    {
     "name": "stderr",
     "output_type": "stream",
     "text": [
      "Epoch: 100%|██████████| 1000/1000 [00:08<00:00, 121.78it/s, loss=0.474]\n"
     ]
    },
    {
     "name": "stdout",
     "output_type": "stream",
     "text": [
      "Generating ddpm synthetic covariates\n",
      "Fitting propensity model\n",
      "Generating propensities\n",
      "Fitting CATE learner\n",
      "Generating POs\n"
     ]
    },
    {
     "name": "stderr",
     "output_type": "stream",
     "text": [
      "[2024-05-13T16:17:57.665162+0000][4058068][CRITICAL] load failed: module 'synthcity.plugins.generic.plugin_goggle' has no attribute 'plugin'\n",
      "[2024-05-13T16:17:57.665859+0000][4058068][CRITICAL] load failed: module 'synthcity.plugins.generic.plugin_goggle' has no attribute 'plugin'\n",
      "[2024-05-13T16:17:57.666274+0000][4058068][CRITICAL] module plugin_goggle load failed\n"
     ]
    },
    {
     "name": "stdout",
     "output_type": "stream",
     "text": [
      "Tested n_t = 3\n",
      "Fitting ddpm model\n"
     ]
    },
    {
     "name": "stderr",
     "output_type": "stream",
     "text": [
      "Epoch: 100%|██████████| 1000/1000 [00:11<00:00, 86.83it/s, loss=1.04]\n"
     ]
    },
    {
     "name": "stdout",
     "output_type": "stream",
     "text": [
      "Generating ddpm synthetic dataset\n"
     ]
    },
    {
     "name": "stderr",
     "output_type": "stream",
     "text": [
      "[2024-05-13T16:18:12.803534+0000][4058068][CRITICAL] load failed: module 'synthcity.plugins.generic.plugin_goggle' has no attribute 'plugin'\n",
      "[2024-05-13T16:18:12.804260+0000][4058068][CRITICAL] load failed: module 'synthcity.plugins.generic.plugin_goggle' has no attribute 'plugin'\n",
      "[2024-05-13T16:18:12.804609+0000][4058068][CRITICAL] module plugin_goggle load failed\n"
     ]
    },
    {
     "name": "stdout",
     "output_type": "stream",
     "text": [
      "Fitting ddpm covariate model\n"
     ]
    },
    {
     "name": "stderr",
     "output_type": "stream",
     "text": [
      "Epoch: 100%|██████████| 1000/1000 [00:08<00:00, 116.71it/s, loss=0.472]\n"
     ]
    },
    {
     "name": "stdout",
     "output_type": "stream",
     "text": [
      "Generating ddpm synthetic covariates\n",
      "Fitting propensity model\n",
      "Generating propensities\n",
      "Fitting CATE learner\n",
      "Generating POs\n"
     ]
    },
    {
     "name": "stderr",
     "output_type": "stream",
     "text": [
      "[2024-05-13T16:23:18.954980+0000][4058068][CRITICAL] load failed: module 'synthcity.plugins.generic.plugin_goggle' has no attribute 'plugin'\n",
      "[2024-05-13T16:23:18.957205+0000][4058068][CRITICAL] load failed: module 'synthcity.plugins.generic.plugin_goggle' has no attribute 'plugin'\n",
      "[2024-05-13T16:23:18.958242+0000][4058068][CRITICAL] module plugin_goggle load failed\n"
     ]
    },
    {
     "name": "stdout",
     "output_type": "stream",
     "text": [
      "Fitting ddpm model\n"
     ]
    },
    {
     "name": "stderr",
     "output_type": "stream",
     "text": [
      "Epoch: 100%|██████████| 1000/1000 [00:11<00:00, 84.34it/s, loss=1.04]\n"
     ]
    },
    {
     "name": "stdout",
     "output_type": "stream",
     "text": [
      "Generating ddpm synthetic dataset\n"
     ]
    },
    {
     "name": "stderr",
     "output_type": "stream",
     "text": [
      "[2024-05-13T16:23:34.450377+0000][4058068][CRITICAL] load failed: module 'synthcity.plugins.generic.plugin_goggle' has no attribute 'plugin'\n",
      "[2024-05-13T16:23:34.450937+0000][4058068][CRITICAL] load failed: module 'synthcity.plugins.generic.plugin_goggle' has no attribute 'plugin'\n",
      "[2024-05-13T16:23:34.451269+0000][4058068][CRITICAL] module plugin_goggle load failed\n"
     ]
    },
    {
     "name": "stdout",
     "output_type": "stream",
     "text": [
      "Fitting ddpm covariate model\n"
     ]
    },
    {
     "name": "stderr",
     "output_type": "stream",
     "text": [
      "Epoch: 100%|██████████| 1000/1000 [00:08<00:00, 116.21it/s, loss=0.473]\n"
     ]
    },
    {
     "name": "stdout",
     "output_type": "stream",
     "text": [
      "Generating ddpm synthetic covariates\n",
      "Fitting propensity model\n",
      "Generating propensities\n",
      "Fitting CATE learner\n",
      "Generating POs\n"
     ]
    },
    {
     "name": "stderr",
     "output_type": "stream",
     "text": [
      "[2024-05-13T16:28:32.297296+0000][4058068][CRITICAL] load failed: module 'synthcity.plugins.generic.plugin_goggle' has no attribute 'plugin'\n",
      "[2024-05-13T16:28:32.299337+0000][4058068][CRITICAL] load failed: module 'synthcity.plugins.generic.plugin_goggle' has no attribute 'plugin'\n",
      "[2024-05-13T16:28:32.300340+0000][4058068][CRITICAL] module plugin_goggle load failed\n"
     ]
    },
    {
     "name": "stdout",
     "output_type": "stream",
     "text": [
      "Fitting ddpm model\n"
     ]
    },
    {
     "name": "stderr",
     "output_type": "stream",
     "text": [
      "Epoch: 100%|██████████| 1000/1000 [00:11<00:00, 85.24it/s, loss=1.03]\n"
     ]
    },
    {
     "name": "stdout",
     "output_type": "stream",
     "text": [
      "Generating ddpm synthetic dataset\n"
     ]
    },
    {
     "name": "stderr",
     "output_type": "stream",
     "text": [
      "[2024-05-13T16:28:47.672539+0000][4058068][CRITICAL] load failed: module 'synthcity.plugins.generic.plugin_goggle' has no attribute 'plugin'\n",
      "[2024-05-13T16:28:47.673372+0000][4058068][CRITICAL] load failed: module 'synthcity.plugins.generic.plugin_goggle' has no attribute 'plugin'\n",
      "[2024-05-13T16:28:47.673740+0000][4058068][CRITICAL] module plugin_goggle load failed\n"
     ]
    },
    {
     "name": "stdout",
     "output_type": "stream",
     "text": [
      "Fitting ddpm covariate model\n"
     ]
    },
    {
     "name": "stderr",
     "output_type": "stream",
     "text": [
      "Epoch: 100%|██████████| 1000/1000 [00:08<00:00, 122.44it/s, loss=0.473]\n"
     ]
    },
    {
     "name": "stdout",
     "output_type": "stream",
     "text": [
      "Generating ddpm synthetic covariates\n",
      "Fitting propensity model\n",
      "Generating propensities\n",
      "Fitting CATE learner\n",
      "Generating POs\n"
     ]
    },
    {
     "name": "stderr",
     "output_type": "stream",
     "text": [
      "[2024-05-13T16:33:36.655445+0000][4058068][CRITICAL] load failed: module 'synthcity.plugins.generic.plugin_goggle' has no attribute 'plugin'\n",
      "[2024-05-13T16:33:36.656630+0000][4058068][CRITICAL] load failed: module 'synthcity.plugins.generic.plugin_goggle' has no attribute 'plugin'\n",
      "[2024-05-13T16:33:36.657128+0000][4058068][CRITICAL] module plugin_goggle load failed\n"
     ]
    },
    {
     "name": "stdout",
     "output_type": "stream",
     "text": [
      "Fitting ddpm model\n"
     ]
    },
    {
     "name": "stderr",
     "output_type": "stream",
     "text": [
      "Epoch: 100%|██████████| 1000/1000 [00:11<00:00, 85.48it/s, loss=1.03]\n"
     ]
    },
    {
     "name": "stdout",
     "output_type": "stream",
     "text": [
      "Generating ddpm synthetic dataset\n"
     ]
    },
    {
     "name": "stderr",
     "output_type": "stream",
     "text": [
      "[2024-05-13T16:33:52.027685+0000][4058068][CRITICAL] load failed: module 'synthcity.plugins.generic.plugin_goggle' has no attribute 'plugin'\n",
      "[2024-05-13T16:33:52.028235+0000][4058068][CRITICAL] load failed: module 'synthcity.plugins.generic.plugin_goggle' has no attribute 'plugin'\n",
      "[2024-05-13T16:33:52.028542+0000][4058068][CRITICAL] module plugin_goggle load failed\n"
     ]
    },
    {
     "name": "stdout",
     "output_type": "stream",
     "text": [
      "Fitting ddpm covariate model\n"
     ]
    },
    {
     "name": "stderr",
     "output_type": "stream",
     "text": [
      "Epoch: 100%|██████████| 1000/1000 [00:08<00:00, 123.11it/s, loss=0.473]\n"
     ]
    },
    {
     "name": "stdout",
     "output_type": "stream",
     "text": [
      "Generating ddpm synthetic covariates\n",
      "Fitting propensity model\n",
      "Generating propensities\n",
      "Fitting CATE learner\n",
      "Generating POs\n"
     ]
    },
    {
     "name": "stderr",
     "output_type": "stream",
     "text": [
      "[2024-05-13T16:39:01.185667+0000][4058068][CRITICAL] load failed: module 'synthcity.plugins.generic.plugin_goggle' has no attribute 'plugin'\n",
      "[2024-05-13T16:39:01.187763+0000][4058068][CRITICAL] load failed: module 'synthcity.plugins.generic.plugin_goggle' has no attribute 'plugin'\n",
      "[2024-05-13T16:39:01.188823+0000][4058068][CRITICAL] module plugin_goggle load failed\n"
     ]
    },
    {
     "name": "stdout",
     "output_type": "stream",
     "text": [
      "Fitting ddpm model\n"
     ]
    },
    {
     "name": "stderr",
     "output_type": "stream",
     "text": [
      "Epoch: 100%|██████████| 1000/1000 [00:11<00:00, 83.48it/s, loss=1.03]\n"
     ]
    },
    {
     "name": "stdout",
     "output_type": "stream",
     "text": [
      "Generating ddpm synthetic dataset\n"
     ]
    },
    {
     "name": "stderr",
     "output_type": "stream",
     "text": [
      "[2024-05-13T16:39:16.841130+0000][4058068][CRITICAL] load failed: module 'synthcity.plugins.generic.plugin_goggle' has no attribute 'plugin'\n",
      "[2024-05-13T16:39:16.841703+0000][4058068][CRITICAL] load failed: module 'synthcity.plugins.generic.plugin_goggle' has no attribute 'plugin'\n",
      "[2024-05-13T16:39:16.842080+0000][4058068][CRITICAL] module plugin_goggle load failed\n"
     ]
    },
    {
     "name": "stdout",
     "output_type": "stream",
     "text": [
      "Fitting ddpm covariate model\n"
     ]
    },
    {
     "name": "stderr",
     "output_type": "stream",
     "text": [
      "Epoch: 100%|██████████| 1000/1000 [00:08<00:00, 114.59it/s, loss=0.472]\n"
     ]
    },
    {
     "name": "stdout",
     "output_type": "stream",
     "text": [
      "Generating ddpm synthetic covariates\n",
      "Fitting propensity model\n",
      "Generating propensities\n",
      "Fitting CATE learner\n",
      "Generating POs\n"
     ]
    },
    {
     "name": "stderr",
     "output_type": "stream",
     "text": [
      "[2024-05-13T16:44:13.309400+0000][4058068][CRITICAL] load failed: module 'synthcity.plugins.generic.plugin_goggle' has no attribute 'plugin'\n",
      "[2024-05-13T16:44:13.310725+0000][4058068][CRITICAL] load failed: module 'synthcity.plugins.generic.plugin_goggle' has no attribute 'plugin'\n",
      "[2024-05-13T16:44:13.311107+0000][4058068][CRITICAL] module plugin_goggle load failed\n"
     ]
    },
    {
     "name": "stdout",
     "output_type": "stream",
     "text": [
      "Fitting ddpm model\n"
     ]
    },
    {
     "name": "stderr",
     "output_type": "stream",
     "text": [
      "Epoch: 100%|██████████| 1000/1000 [00:11<00:00, 87.48it/s, loss=1.03]\n"
     ]
    },
    {
     "name": "stdout",
     "output_type": "stream",
     "text": [
      "Generating ddpm synthetic dataset\n"
     ]
    },
    {
     "name": "stderr",
     "output_type": "stream",
     "text": [
      "[2024-05-13T16:44:28.408544+0000][4058068][CRITICAL] load failed: module 'synthcity.plugins.generic.plugin_goggle' has no attribute 'plugin'\n",
      "[2024-05-13T16:44:28.409148+0000][4058068][CRITICAL] load failed: module 'synthcity.plugins.generic.plugin_goggle' has no attribute 'plugin'\n",
      "[2024-05-13T16:44:28.409516+0000][4058068][CRITICAL] module plugin_goggle load failed\n"
     ]
    },
    {
     "name": "stdout",
     "output_type": "stream",
     "text": [
      "Fitting ddpm covariate model\n"
     ]
    },
    {
     "name": "stderr",
     "output_type": "stream",
     "text": [
      "Epoch: 100%|██████████| 1000/1000 [00:08<00:00, 118.79it/s, loss=0.473]\n"
     ]
    },
    {
     "name": "stdout",
     "output_type": "stream",
     "text": [
      "Generating ddpm synthetic covariates\n",
      "Fitting propensity model\n",
      "Generating propensities\n",
      "Fitting CATE learner\n",
      "Generating POs\n"
     ]
    },
    {
     "name": "stderr",
     "output_type": "stream",
     "text": [
      "[2024-05-13T16:49:33.808393+0000][4058068][CRITICAL] load failed: module 'synthcity.plugins.generic.plugin_goggle' has no attribute 'plugin'\n",
      "[2024-05-13T16:49:33.809531+0000][4058068][CRITICAL] load failed: module 'synthcity.plugins.generic.plugin_goggle' has no attribute 'plugin'\n",
      "[2024-05-13T16:49:33.810062+0000][4058068][CRITICAL] module plugin_goggle load failed\n"
     ]
    },
    {
     "name": "stdout",
     "output_type": "stream",
     "text": [
      "Fitting ddpm model\n"
     ]
    },
    {
     "name": "stderr",
     "output_type": "stream",
     "text": [
      "Epoch: 100%|██████████| 1000/1000 [00:11<00:00, 85.32it/s, loss=1.04]\n"
     ]
    },
    {
     "name": "stdout",
     "output_type": "stream",
     "text": [
      "Generating ddpm synthetic dataset\n"
     ]
    },
    {
     "name": "stderr",
     "output_type": "stream",
     "text": [
      "[2024-05-13T16:49:49.190688+0000][4058068][CRITICAL] load failed: module 'synthcity.plugins.generic.plugin_goggle' has no attribute 'plugin'\n",
      "[2024-05-13T16:49:49.191226+0000][4058068][CRITICAL] load failed: module 'synthcity.plugins.generic.plugin_goggle' has no attribute 'plugin'\n",
      "[2024-05-13T16:49:49.191573+0000][4058068][CRITICAL] module plugin_goggle load failed\n"
     ]
    },
    {
     "name": "stdout",
     "output_type": "stream",
     "text": [
      "Fitting ddpm covariate model\n"
     ]
    },
    {
     "name": "stderr",
     "output_type": "stream",
     "text": [
      "Epoch: 100%|██████████| 1000/1000 [00:08<00:00, 122.75it/s, loss=0.473]\n"
     ]
    },
    {
     "name": "stdout",
     "output_type": "stream",
     "text": [
      "Generating ddpm synthetic covariates\n",
      "Fitting propensity model\n",
      "Generating propensities\n",
      "Fitting CATE learner\n",
      "Generating POs\n"
     ]
    },
    {
     "name": "stderr",
     "output_type": "stream",
     "text": [
      "[2024-05-13T16:54:49.898861+0000][4058068][CRITICAL] load failed: module 'synthcity.plugins.generic.plugin_goggle' has no attribute 'plugin'\n",
      "[2024-05-13T16:54:49.901298+0000][4058068][CRITICAL] load failed: module 'synthcity.plugins.generic.plugin_goggle' has no attribute 'plugin'\n",
      "[2024-05-13T16:54:49.902344+0000][4058068][CRITICAL] module plugin_goggle load failed\n"
     ]
    },
    {
     "name": "stdout",
     "output_type": "stream",
     "text": [
      "Fitting ddpm model\n"
     ]
    },
    {
     "name": "stderr",
     "output_type": "stream",
     "text": [
      "Epoch: 100%|██████████| 1000/1000 [00:11<00:00, 84.62it/s, loss=1.03]\n"
     ]
    },
    {
     "name": "stdout",
     "output_type": "stream",
     "text": [
      "Generating ddpm synthetic dataset\n"
     ]
    },
    {
     "name": "stderr",
     "output_type": "stream",
     "text": [
      "[2024-05-13T16:55:05.361612+0000][4058068][CRITICAL] load failed: module 'synthcity.plugins.generic.plugin_goggle' has no attribute 'plugin'\n",
      "[2024-05-13T16:55:05.362409+0000][4058068][CRITICAL] load failed: module 'synthcity.plugins.generic.plugin_goggle' has no attribute 'plugin'\n",
      "[2024-05-13T16:55:05.362810+0000][4058068][CRITICAL] module plugin_goggle load failed\n"
     ]
    },
    {
     "name": "stdout",
     "output_type": "stream",
     "text": [
      "Fitting ddpm covariate model\n"
     ]
    },
    {
     "name": "stderr",
     "output_type": "stream",
     "text": [
      "Epoch: 100%|██████████| 1000/1000 [00:08<00:00, 121.71it/s, loss=0.472]\n"
     ]
    },
    {
     "name": "stdout",
     "output_type": "stream",
     "text": [
      "Generating ddpm synthetic covariates\n",
      "Fitting propensity model\n",
      "Generating propensities\n",
      "Fitting CATE learner\n",
      "Generating POs\n"
     ]
    },
    {
     "name": "stderr",
     "output_type": "stream",
     "text": [
      "[2024-05-13T17:00:21.008582+0000][4058068][CRITICAL] load failed: module 'synthcity.plugins.generic.plugin_goggle' has no attribute 'plugin'\n",
      "[2024-05-13T17:00:21.011218+0000][4058068][CRITICAL] load failed: module 'synthcity.plugins.generic.plugin_goggle' has no attribute 'plugin'\n",
      "[2024-05-13T17:00:21.012144+0000][4058068][CRITICAL] module plugin_goggle load failed\n"
     ]
    },
    {
     "name": "stdout",
     "output_type": "stream",
     "text": [
      "Fitting ddpm model\n"
     ]
    },
    {
     "name": "stderr",
     "output_type": "stream",
     "text": [
      "Epoch: 100%|██████████| 1000/1000 [00:11<00:00, 86.14it/s, loss=1.03]\n"
     ]
    },
    {
     "name": "stdout",
     "output_type": "stream",
     "text": [
      "Generating ddpm synthetic dataset\n"
     ]
    },
    {
     "name": "stderr",
     "output_type": "stream",
     "text": [
      "[2024-05-13T17:00:36.317561+0000][4058068][CRITICAL] load failed: module 'synthcity.plugins.generic.plugin_goggle' has no attribute 'plugin'\n",
      "[2024-05-13T17:00:36.318437+0000][4058068][CRITICAL] load failed: module 'synthcity.plugins.generic.plugin_goggle' has no attribute 'plugin'\n",
      "[2024-05-13T17:00:36.318859+0000][4058068][CRITICAL] module plugin_goggle load failed\n"
     ]
    },
    {
     "name": "stdout",
     "output_type": "stream",
     "text": [
      "Fitting ddpm covariate model\n"
     ]
    },
    {
     "name": "stderr",
     "output_type": "stream",
     "text": [
      "Epoch: 100%|██████████| 1000/1000 [00:08<00:00, 115.75it/s, loss=0.472]\n"
     ]
    },
    {
     "name": "stdout",
     "output_type": "stream",
     "text": [
      "Generating ddpm synthetic covariates\n",
      "Fitting propensity model\n",
      "Generating propensities\n",
      "Fitting CATE learner\n",
      "Generating POs\n"
     ]
    },
    {
     "name": "stderr",
     "output_type": "stream",
     "text": [
      "[2024-05-13T17:05:35.718800+0000][4058068][CRITICAL] load failed: module 'synthcity.plugins.generic.plugin_goggle' has no attribute 'plugin'\n",
      "[2024-05-13T17:05:35.721386+0000][4058068][CRITICAL] load failed: module 'synthcity.plugins.generic.plugin_goggle' has no attribute 'plugin'\n",
      "[2024-05-13T17:05:35.722343+0000][4058068][CRITICAL] module plugin_goggle load failed\n"
     ]
    },
    {
     "name": "stdout",
     "output_type": "stream",
     "text": [
      "Fitting ddpm model\n"
     ]
    },
    {
     "name": "stderr",
     "output_type": "stream",
     "text": [
      "Epoch: 100%|██████████| 1000/1000 [00:11<00:00, 86.01it/s, loss=1.04]\n"
     ]
    },
    {
     "name": "stdout",
     "output_type": "stream",
     "text": [
      "Generating ddpm synthetic dataset\n"
     ]
    },
    {
     "name": "stderr",
     "output_type": "stream",
     "text": [
      "[2024-05-13T17:05:51.032246+0000][4058068][CRITICAL] load failed: module 'synthcity.plugins.generic.plugin_goggle' has no attribute 'plugin'\n",
      "[2024-05-13T17:05:51.033011+0000][4058068][CRITICAL] load failed: module 'synthcity.plugins.generic.plugin_goggle' has no attribute 'plugin'\n",
      "[2024-05-13T17:05:51.033441+0000][4058068][CRITICAL] module plugin_goggle load failed\n"
     ]
    },
    {
     "name": "stdout",
     "output_type": "stream",
     "text": [
      "Fitting ddpm covariate model\n"
     ]
    },
    {
     "name": "stderr",
     "output_type": "stream",
     "text": [
      "Epoch: 100%|██████████| 1000/1000 [00:08<00:00, 114.35it/s, loss=0.474]\n"
     ]
    },
    {
     "name": "stdout",
     "output_type": "stream",
     "text": [
      "Generating ddpm synthetic covariates\n",
      "Fitting propensity model\n",
      "Generating propensities\n",
      "Fitting CATE learner\n",
      "Generating POs\n"
     ]
    },
    {
     "name": "stderr",
     "output_type": "stream",
     "text": [
      "[2024-05-13T17:10:45.489514+0000][4058068][CRITICAL] load failed: module 'synthcity.plugins.generic.plugin_goggle' has no attribute 'plugin'\n",
      "[2024-05-13T17:10:45.490517+0000][4058068][CRITICAL] load failed: module 'synthcity.plugins.generic.plugin_goggle' has no attribute 'plugin'\n",
      "[2024-05-13T17:10:45.490990+0000][4058068][CRITICAL] module plugin_goggle load failed\n"
     ]
    },
    {
     "name": "stdout",
     "output_type": "stream",
     "text": [
      "Tested n_t = 4\n",
      "Fitting ddpm model\n"
     ]
    },
    {
     "name": "stderr",
     "output_type": "stream",
     "text": [
      "Epoch: 100%|██████████| 1000/1000 [00:11<00:00, 84.78it/s, loss=1.01]\n"
     ]
    },
    {
     "name": "stdout",
     "output_type": "stream",
     "text": [
      "Generating ddpm synthetic dataset\n"
     ]
    },
    {
     "name": "stderr",
     "output_type": "stream",
     "text": [
      "[2024-05-13T17:11:00.922427+0000][4058068][CRITICAL] load failed: module 'synthcity.plugins.generic.plugin_goggle' has no attribute 'plugin'\n",
      "[2024-05-13T17:11:00.923180+0000][4058068][CRITICAL] load failed: module 'synthcity.plugins.generic.plugin_goggle' has no attribute 'plugin'\n",
      "[2024-05-13T17:11:00.923535+0000][4058068][CRITICAL] module plugin_goggle load failed\n"
     ]
    },
    {
     "name": "stdout",
     "output_type": "stream",
     "text": [
      "Fitting ddpm covariate model\n"
     ]
    },
    {
     "name": "stderr",
     "output_type": "stream",
     "text": [
      "Epoch: 100%|██████████| 1000/1000 [00:08<00:00, 121.13it/s, loss=0.474]\n"
     ]
    },
    {
     "name": "stdout",
     "output_type": "stream",
     "text": [
      "Generating ddpm synthetic covariates\n",
      "Fitting propensity model\n",
      "Generating propensities\n",
      "Fitting CATE learner\n",
      "Generating POs\n"
     ]
    },
    {
     "name": "stderr",
     "output_type": "stream",
     "text": [
      "[2024-05-13T17:15:54.822667+0000][4058068][CRITICAL] load failed: module 'synthcity.plugins.generic.plugin_goggle' has no attribute 'plugin'\n",
      "[2024-05-13T17:15:54.823410+0000][4058068][CRITICAL] load failed: module 'synthcity.plugins.generic.plugin_goggle' has no attribute 'plugin'\n",
      "[2024-05-13T17:15:54.823840+0000][4058068][CRITICAL] module plugin_goggle load failed\n"
     ]
    },
    {
     "name": "stdout",
     "output_type": "stream",
     "text": [
      "Fitting ddpm model\n"
     ]
    },
    {
     "name": "stderr",
     "output_type": "stream",
     "text": [
      "Epoch: 100%|██████████| 1000/1000 [00:11<00:00, 88.32it/s, loss=0.991]\n"
     ]
    },
    {
     "name": "stdout",
     "output_type": "stream",
     "text": [
      "Generating ddpm synthetic dataset\n"
     ]
    },
    {
     "name": "stderr",
     "output_type": "stream",
     "text": [
      "[2024-05-13T17:16:09.758309+0000][4058068][CRITICAL] load failed: module 'synthcity.plugins.generic.plugin_goggle' has no attribute 'plugin'\n",
      "[2024-05-13T17:16:09.758866+0000][4058068][CRITICAL] load failed: module 'synthcity.plugins.generic.plugin_goggle' has no attribute 'plugin'\n",
      "[2024-05-13T17:16:09.759217+0000][4058068][CRITICAL] module plugin_goggle load failed\n"
     ]
    },
    {
     "name": "stdout",
     "output_type": "stream",
     "text": [
      "Fitting ddpm covariate model\n"
     ]
    },
    {
     "name": "stderr",
     "output_type": "stream",
     "text": [
      "Epoch: 100%|██████████| 1000/1000 [00:08<00:00, 123.14it/s, loss=0.472]\n"
     ]
    },
    {
     "name": "stdout",
     "output_type": "stream",
     "text": [
      "Generating ddpm synthetic covariates\n",
      "Fitting propensity model\n",
      "Generating propensities\n",
      "Fitting CATE learner\n",
      "Generating POs\n"
     ]
    },
    {
     "name": "stderr",
     "output_type": "stream",
     "text": [
      "[2024-05-13T17:21:11.602823+0000][4058068][CRITICAL] load failed: module 'synthcity.plugins.generic.plugin_goggle' has no attribute 'plugin'\n",
      "[2024-05-13T17:21:11.605404+0000][4058068][CRITICAL] load failed: module 'synthcity.plugins.generic.plugin_goggle' has no attribute 'plugin'\n",
      "[2024-05-13T17:21:11.606402+0000][4058068][CRITICAL] module plugin_goggle load failed\n"
     ]
    },
    {
     "name": "stdout",
     "output_type": "stream",
     "text": [
      "Fitting ddpm model\n"
     ]
    },
    {
     "name": "stderr",
     "output_type": "stream",
     "text": [
      "Epoch: 100%|██████████| 1000/1000 [00:11<00:00, 83.42it/s, loss=1.01]\n"
     ]
    },
    {
     "name": "stdout",
     "output_type": "stream",
     "text": [
      "Generating ddpm synthetic dataset\n"
     ]
    },
    {
     "name": "stderr",
     "output_type": "stream",
     "text": [
      "[2024-05-13T17:21:27.263540+0000][4058068][CRITICAL] load failed: module 'synthcity.plugins.generic.plugin_goggle' has no attribute 'plugin'\n",
      "[2024-05-13T17:21:27.264643+0000][4058068][CRITICAL] load failed: module 'synthcity.plugins.generic.plugin_goggle' has no attribute 'plugin'\n",
      "[2024-05-13T17:21:27.265023+0000][4058068][CRITICAL] module plugin_goggle load failed\n"
     ]
    },
    {
     "name": "stdout",
     "output_type": "stream",
     "text": [
      "Fitting ddpm covariate model\n"
     ]
    },
    {
     "name": "stderr",
     "output_type": "stream",
     "text": [
      "Epoch: 100%|██████████| 1000/1000 [00:08<00:00, 113.93it/s, loss=0.473]\n"
     ]
    },
    {
     "name": "stdout",
     "output_type": "stream",
     "text": [
      "Generating ddpm synthetic covariates\n",
      "Fitting propensity model\n",
      "Generating propensities\n",
      "Fitting CATE learner\n",
      "Generating POs\n"
     ]
    },
    {
     "name": "stderr",
     "output_type": "stream",
     "text": [
      "[2024-05-13T17:26:42.908983+0000][4058068][CRITICAL] load failed: module 'synthcity.plugins.generic.plugin_goggle' has no attribute 'plugin'\n",
      "[2024-05-13T17:26:42.911472+0000][4058068][CRITICAL] load failed: module 'synthcity.plugins.generic.plugin_goggle' has no attribute 'plugin'\n",
      "[2024-05-13T17:26:42.912448+0000][4058068][CRITICAL] module plugin_goggle load failed\n"
     ]
    },
    {
     "name": "stdout",
     "output_type": "stream",
     "text": [
      "Fitting ddpm model\n"
     ]
    },
    {
     "name": "stderr",
     "output_type": "stream",
     "text": [
      "Epoch: 100%|██████████| 1000/1000 [00:11<00:00, 84.94it/s, loss=1.01]\n"
     ]
    },
    {
     "name": "stdout",
     "output_type": "stream",
     "text": [
      "Generating ddpm synthetic dataset\n"
     ]
    },
    {
     "name": "stderr",
     "output_type": "stream",
     "text": [
      "[2024-05-13T17:26:58.309053+0000][4058068][CRITICAL] load failed: module 'synthcity.plugins.generic.plugin_goggle' has no attribute 'plugin'\n",
      "[2024-05-13T17:26:58.309825+0000][4058068][CRITICAL] load failed: module 'synthcity.plugins.generic.plugin_goggle' has no attribute 'plugin'\n",
      "[2024-05-13T17:26:58.310373+0000][4058068][CRITICAL] module plugin_goggle load failed\n"
     ]
    },
    {
     "name": "stdout",
     "output_type": "stream",
     "text": [
      "Fitting ddpm covariate model\n"
     ]
    },
    {
     "name": "stderr",
     "output_type": "stream",
     "text": [
      "Epoch: 100%|██████████| 1000/1000 [00:08<00:00, 119.66it/s, loss=0.472]\n"
     ]
    },
    {
     "name": "stdout",
     "output_type": "stream",
     "text": [
      "Generating ddpm synthetic covariates\n",
      "Fitting propensity model\n",
      "Generating propensities\n",
      "Fitting CATE learner\n",
      "Generating POs\n"
     ]
    },
    {
     "name": "stderr",
     "output_type": "stream",
     "text": [
      "[2024-05-13T17:31:57.932607+0000][4058068][CRITICAL] load failed: module 'synthcity.plugins.generic.plugin_goggle' has no attribute 'plugin'\n",
      "[2024-05-13T17:31:57.935297+0000][4058068][CRITICAL] load failed: module 'synthcity.plugins.generic.plugin_goggle' has no attribute 'plugin'\n",
      "[2024-05-13T17:31:57.936250+0000][4058068][CRITICAL] module plugin_goggle load failed\n"
     ]
    },
    {
     "name": "stdout",
     "output_type": "stream",
     "text": [
      "Fitting ddpm model\n"
     ]
    },
    {
     "name": "stderr",
     "output_type": "stream",
     "text": [
      "Epoch: 100%|██████████| 1000/1000 [00:11<00:00, 83.46it/s, loss=1]   \n"
     ]
    },
    {
     "name": "stdout",
     "output_type": "stream",
     "text": [
      "Generating ddpm synthetic dataset\n"
     ]
    },
    {
     "name": "stderr",
     "output_type": "stream",
     "text": [
      "[2024-05-13T17:32:13.587403+0000][4058068][CRITICAL] load failed: module 'synthcity.plugins.generic.plugin_goggle' has no attribute 'plugin'\n",
      "[2024-05-13T17:32:13.588110+0000][4058068][CRITICAL] load failed: module 'synthcity.plugins.generic.plugin_goggle' has no attribute 'plugin'\n",
      "[2024-05-13T17:32:13.588443+0000][4058068][CRITICAL] module plugin_goggle load failed\n"
     ]
    },
    {
     "name": "stdout",
     "output_type": "stream",
     "text": [
      "Fitting ddpm covariate model\n"
     ]
    },
    {
     "name": "stderr",
     "output_type": "stream",
     "text": [
      "Epoch: 100%|██████████| 1000/1000 [00:08<00:00, 120.22it/s, loss=0.473]\n"
     ]
    },
    {
     "name": "stdout",
     "output_type": "stream",
     "text": [
      "Generating ddpm synthetic covariates\n",
      "Fitting propensity model\n",
      "Generating propensities\n",
      "Fitting CATE learner\n",
      "Generating POs\n"
     ]
    },
    {
     "name": "stderr",
     "output_type": "stream",
     "text": [
      "[2024-05-13T17:37:22.571364+0000][4058068][CRITICAL] load failed: module 'synthcity.plugins.generic.plugin_goggle' has no attribute 'plugin'\n",
      "[2024-05-13T17:37:22.573317+0000][4058068][CRITICAL] load failed: module 'synthcity.plugins.generic.plugin_goggle' has no attribute 'plugin'\n",
      "[2024-05-13T17:37:22.574340+0000][4058068][CRITICAL] module plugin_goggle load failed\n"
     ]
    },
    {
     "name": "stdout",
     "output_type": "stream",
     "text": [
      "Fitting ddpm model\n"
     ]
    },
    {
     "name": "stderr",
     "output_type": "stream",
     "text": [
      "Epoch: 100%|██████████| 1000/1000 [00:11<00:00, 84.36it/s, loss=1.01]\n"
     ]
    },
    {
     "name": "stdout",
     "output_type": "stream",
     "text": [
      "Generating ddpm synthetic dataset\n"
     ]
    },
    {
     "name": "stderr",
     "output_type": "stream",
     "text": [
      "[2024-05-13T17:37:38.078472+0000][4058068][CRITICAL] load failed: module 'synthcity.plugins.generic.plugin_goggle' has no attribute 'plugin'\n",
      "[2024-05-13T17:37:38.079427+0000][4058068][CRITICAL] load failed: module 'synthcity.plugins.generic.plugin_goggle' has no attribute 'plugin'\n",
      "[2024-05-13T17:37:38.079942+0000][4058068][CRITICAL] module plugin_goggle load failed\n"
     ]
    },
    {
     "name": "stdout",
     "output_type": "stream",
     "text": [
      "Fitting ddpm covariate model\n"
     ]
    },
    {
     "name": "stderr",
     "output_type": "stream",
     "text": [
      "Epoch: 100%|██████████| 1000/1000 [00:08<00:00, 117.04it/s, loss=0.474]\n"
     ]
    },
    {
     "name": "stdout",
     "output_type": "stream",
     "text": [
      "Generating ddpm synthetic covariates\n",
      "Fitting propensity model\n",
      "Generating propensities\n",
      "Fitting CATE learner\n",
      "Generating POs\n"
     ]
    },
    {
     "name": "stderr",
     "output_type": "stream",
     "text": [
      "[2024-05-13T17:42:39.273795+0000][4058068][CRITICAL] load failed: module 'synthcity.plugins.generic.plugin_goggle' has no attribute 'plugin'\n",
      "[2024-05-13T17:42:39.276297+0000][4058068][CRITICAL] load failed: module 'synthcity.plugins.generic.plugin_goggle' has no attribute 'plugin'\n",
      "[2024-05-13T17:42:39.277266+0000][4058068][CRITICAL] module plugin_goggle load failed\n"
     ]
    },
    {
     "name": "stdout",
     "output_type": "stream",
     "text": [
      "Fitting ddpm model\n"
     ]
    },
    {
     "name": "stderr",
     "output_type": "stream",
     "text": [
      "Epoch: 100%|██████████| 1000/1000 [00:11<00:00, 86.03it/s, loss=1]   \n"
     ]
    },
    {
     "name": "stdout",
     "output_type": "stream",
     "text": [
      "Generating ddpm synthetic dataset\n"
     ]
    },
    {
     "name": "stderr",
     "output_type": "stream",
     "text": [
      "[2024-05-13T17:42:54.550099+0000][4058068][CRITICAL] load failed: module 'synthcity.plugins.generic.plugin_goggle' has no attribute 'plugin'\n",
      "[2024-05-13T17:42:54.550852+0000][4058068][CRITICAL] load failed: module 'synthcity.plugins.generic.plugin_goggle' has no attribute 'plugin'\n",
      "[2024-05-13T17:42:54.551333+0000][4058068][CRITICAL] module plugin_goggle load failed\n"
     ]
    },
    {
     "name": "stdout",
     "output_type": "stream",
     "text": [
      "Fitting ddpm covariate model\n"
     ]
    },
    {
     "name": "stderr",
     "output_type": "stream",
     "text": [
      "Epoch: 100%|██████████| 1000/1000 [00:08<00:00, 116.75it/s, loss=0.474]\n"
     ]
    },
    {
     "name": "stdout",
     "output_type": "stream",
     "text": [
      "Generating ddpm synthetic covariates\n",
      "Fitting propensity model\n",
      "Generating propensities\n",
      "Fitting CATE learner\n",
      "Generating POs\n"
     ]
    },
    {
     "name": "stderr",
     "output_type": "stream",
     "text": [
      "[2024-05-13T17:47:58.937200+0000][4058068][CRITICAL] load failed: module 'synthcity.plugins.generic.plugin_goggle' has no attribute 'plugin'\n",
      "[2024-05-13T17:47:58.939447+0000][4058068][CRITICAL] load failed: module 'synthcity.plugins.generic.plugin_goggle' has no attribute 'plugin'\n",
      "[2024-05-13T17:47:58.940439+0000][4058068][CRITICAL] module plugin_goggle load failed\n"
     ]
    },
    {
     "name": "stdout",
     "output_type": "stream",
     "text": [
      "Fitting ddpm model\n"
     ]
    },
    {
     "name": "stderr",
     "output_type": "stream",
     "text": [
      "Epoch: 100%|██████████| 1000/1000 [00:12<00:00, 81.47it/s, loss=1]   \n"
     ]
    },
    {
     "name": "stdout",
     "output_type": "stream",
     "text": [
      "Generating ddpm synthetic dataset\n"
     ]
    },
    {
     "name": "stderr",
     "output_type": "stream",
     "text": [
      "[2024-05-13T17:48:14.899312+0000][4058068][CRITICAL] load failed: module 'synthcity.plugins.generic.plugin_goggle' has no attribute 'plugin'\n",
      "[2024-05-13T17:48:14.899923+0000][4058068][CRITICAL] load failed: module 'synthcity.plugins.generic.plugin_goggle' has no attribute 'plugin'\n",
      "[2024-05-13T17:48:14.900361+0000][4058068][CRITICAL] module plugin_goggle load failed\n"
     ]
    },
    {
     "name": "stdout",
     "output_type": "stream",
     "text": [
      "Fitting ddpm covariate model\n"
     ]
    },
    {
     "name": "stderr",
     "output_type": "stream",
     "text": [
      "Epoch: 100%|██████████| 1000/1000 [00:08<00:00, 119.51it/s, loss=0.473]\n"
     ]
    },
    {
     "name": "stdout",
     "output_type": "stream",
     "text": [
      "Generating ddpm synthetic covariates\n",
      "Fitting propensity model\n",
      "Generating propensities\n",
      "Fitting CATE learner\n",
      "Generating POs\n"
     ]
    },
    {
     "name": "stderr",
     "output_type": "stream",
     "text": [
      "[2024-05-13T17:53:29.671705+0000][4058068][CRITICAL] load failed: module 'synthcity.plugins.generic.plugin_goggle' has no attribute 'plugin'\n",
      "[2024-05-13T17:53:29.674188+0000][4058068][CRITICAL] load failed: module 'synthcity.plugins.generic.plugin_goggle' has no attribute 'plugin'\n",
      "[2024-05-13T17:53:29.675191+0000][4058068][CRITICAL] module plugin_goggle load failed\n"
     ]
    },
    {
     "name": "stdout",
     "output_type": "stream",
     "text": [
      "Fitting ddpm model\n"
     ]
    },
    {
     "name": "stderr",
     "output_type": "stream",
     "text": [
      "Epoch: 100%|██████████| 1000/1000 [00:12<00:00, 82.98it/s, loss=1]   \n"
     ]
    },
    {
     "name": "stdout",
     "output_type": "stream",
     "text": [
      "Generating ddpm synthetic dataset\n"
     ]
    },
    {
     "name": "stderr",
     "output_type": "stream",
     "text": [
      "[2024-05-13T17:53:45.350841+0000][4058068][CRITICAL] load failed: module 'synthcity.plugins.generic.plugin_goggle' has no attribute 'plugin'\n",
      "[2024-05-13T17:53:45.351597+0000][4058068][CRITICAL] load failed: module 'synthcity.plugins.generic.plugin_goggle' has no attribute 'plugin'\n",
      "[2024-05-13T17:53:45.352053+0000][4058068][CRITICAL] module plugin_goggle load failed\n"
     ]
    },
    {
     "name": "stdout",
     "output_type": "stream",
     "text": [
      "Fitting ddpm covariate model\n"
     ]
    },
    {
     "name": "stderr",
     "output_type": "stream",
     "text": [
      "Epoch: 100%|██████████| 1000/1000 [00:08<00:00, 122.30it/s, loss=0.472]\n"
     ]
    },
    {
     "name": "stdout",
     "output_type": "stream",
     "text": [
      "Generating ddpm synthetic covariates\n",
      "Fitting propensity model\n",
      "Generating propensities\n",
      "Fitting CATE learner\n",
      "Generating POs\n"
     ]
    },
    {
     "name": "stderr",
     "output_type": "stream",
     "text": [
      "[2024-05-13T17:58:43.507080+0000][4058068][CRITICAL] load failed: module 'synthcity.plugins.generic.plugin_goggle' has no attribute 'plugin'\n",
      "[2024-05-13T17:58:43.509288+0000][4058068][CRITICAL] load failed: module 'synthcity.plugins.generic.plugin_goggle' has no attribute 'plugin'\n",
      "[2024-05-13T17:58:43.510253+0000][4058068][CRITICAL] module plugin_goggle load failed\n"
     ]
    },
    {
     "name": "stdout",
     "output_type": "stream",
     "text": [
      "Fitting ddpm model\n"
     ]
    },
    {
     "name": "stderr",
     "output_type": "stream",
     "text": [
      "Epoch: 100%|██████████| 1000/1000 [00:11<00:00, 88.26it/s, loss=1.01]\n"
     ]
    },
    {
     "name": "stdout",
     "output_type": "stream",
     "text": [
      "Generating ddpm synthetic dataset\n"
     ]
    },
    {
     "name": "stderr",
     "output_type": "stream",
     "text": [
      "[2024-05-13T17:58:58.468580+0000][4058068][CRITICAL] load failed: module 'synthcity.plugins.generic.plugin_goggle' has no attribute 'plugin'\n",
      "[2024-05-13T17:58:58.469188+0000][4058068][CRITICAL] load failed: module 'synthcity.plugins.generic.plugin_goggle' has no attribute 'plugin'\n",
      "[2024-05-13T17:58:58.469553+0000][4058068][CRITICAL] module plugin_goggle load failed\n"
     ]
    },
    {
     "name": "stdout",
     "output_type": "stream",
     "text": [
      "Fitting ddpm covariate model\n"
     ]
    },
    {
     "name": "stderr",
     "output_type": "stream",
     "text": [
      "Epoch: 100%|██████████| 1000/1000 [00:08<00:00, 118.64it/s, loss=0.471]\n"
     ]
    },
    {
     "name": "stdout",
     "output_type": "stream",
     "text": [
      "Generating ddpm synthetic covariates\n",
      "Fitting propensity model\n",
      "Generating propensities\n",
      "Fitting CATE learner\n",
      "Generating POs\n",
      "Tested n_t = 5\n"
     ]
    }
   ],
   "source": [
    "pred_results = predictive_insight(1000, 10, 5, [0,1,2,3,4,5], 'ddpm', 10, save=True, fp = 'predictive_insight_average.csv')"
   ]
  },
  {
   "cell_type": "code",
   "execution_count": 26,
   "id": "7f99a282",
   "metadata": {},
   "outputs": [],
   "source": [
    "pred_results = pd.read_csv('predictive_insight_average.csv')"
   ]
  },
  {
   "cell_type": "code",
   "execution_count": 29,
   "id": "41fae28d",
   "metadata": {},
   "outputs": [],
   "source": [
    "pred_results = pred_results[pred_results['n_t'] != 0]"
   ]
  },
  {
   "cell_type": "code",
   "execution_count": 41,
   "id": "6558e886",
   "metadata": {},
   "outputs": [
    {
     "data": {
      "image/png": "[encoded data removed]",
      "text/plain": [
       "<Figure size 640x480 with 1 Axes>"
      ]
     },
     "metadata": {},
     "output_type": "display_data"
    }
   ],
   "source": [
    "x = [1,2,3,4,5]\n",
    "u_seq = pred_results[pred_results['method']=='seq_new'].groupby(['n_t']).mean()['u_pehe']\n",
    "u_stand = pred_results[pred_results['method']=='standard'].groupby(['n_t']).mean()['u_pehe']\n",
    "\n",
    "u_seq_std = pred_results[pred_results['method']=='seq_new'].groupby(['n_t']).std()['u_pehe'] / np.sqrt(10) * 1.96\n",
    "u_stand_std = pred_results[pred_results['method']=='standard'].groupby(['n_t']).std()['u_pehe']/ np.sqrt(10) * 1.96\n",
    "\n",
    "\n",
    "plt.plot(x, u_stand, 'o-', label = 'Standard')\n",
    "plt.plot(x, u_seq, 'o-', label = 'SynCATE')\n",
    "\n",
    "\n",
    "plt.fill_between(x, u_stand - u_stand_std, u_stand + u_stand_std, alpha=0.2)\n",
    "plt.fill_between(x, u_seq - u_seq_std, u_seq + u_seq_std, alpha=0.2)\n",
    "#plt.legend()\n",
    "plt.xlabel('No. predictive covariates')\n",
    "plt.ylabel('$U_{PEHE}$')\n",
    "plt.savefig('plots/CATE_complexity_plot.pdf', bbox_inches='tight')"
   ]
  },
  {
   "cell_type": "markdown",
   "id": "d590aa46",
   "metadata": {},
   "source": [
    "## Privacy"
   ]
  },
  {
   "cell_type": "code",
   "execution_count": 35,
   "id": "87d46633",
   "metadata": {},
   "outputs": [],
   "source": [
    "class CustomDataset(Dataset):\n",
    "    def __init__(self, X, y):\n",
    "        self.data =X\n",
    "        self.labels = y\n",
    "    \n",
    "    def __len__(self):\n",
    "        return len(self.data)\n",
    "    \n",
    "    def __getitem__(self, idx):\n",
    "        return torch.tensor(self.data[idx], dtype=torch.float32), torch.tensor(self.labels[idx], dtype=torch.float32)"
   ]
  },
  {
   "cell_type": "code",
   "execution_count": null,
   "id": "ba0c8be9",
   "metadata": {},
   "outputs": [],
   "source": [
    "# do privacy on simulated datasets to make it easier/faster"
   ]
  },
  {
   "cell_type": "code",
   "execution_count": 153,
   "id": "7b5e3368",
   "metadata": {},
   "outputs": [],
   "source": [
    "def privacy_comparison(real, gen, treatment_col, outcome_col, delta, epsilons, n_iter, save=False, fp=''):\n",
    "    results = pd.DataFrame(columns=['method', 'epsilon', 'f', 'c', 'd', 'avg_u_pehe'])\n",
    "    n_units = len(real.drop([treatment_col, outcome_col], axis=1).columns)\n",
    "    for epsilon in epsilons:\n",
    "        for _ in range(n_iter):\n",
    "            synth = generate_standard(real, gen, private=True, epsilon=epsilon, delta=delta)\n",
    "\n",
    "            results.loc[len(results)] = ['standard', epsilon, evaluate_f(real, synth, treatment_col, outcome_col), evaluate_c(real, synth, treatment_col, outcome_col), \n",
    "                                     evaluate_d(real, synth, treatment_col, outcome_col), evaluate_average_u_pehe(real, synth, treatment_col, outcome_col, n_units)]\n",
    "\n",
    "            synth_seq = generate_sequentially(real, gen, treatment_col, outcome_col, private=True, epsilon = epsilon/3, delta=delta/3)\n",
    "\n",
    "            results.loc[len(results)] = ['sequential', epsilon, evaluate_f(real, synth_seq, treatment_col, outcome_col), evaluate_c(real, synth_seq, treatment_col, outcome_col), \n",
    "                                     evaluate_d(real, synth_seq, treatment_col, outcome_col), evaluate_average_u_pehe(real, synth_seq, treatment_col, outcome_col, n_units)]\n",
    "    \n",
    "            if save:\n",
    "                print('saving results')\n",
    "                results.to_csv(fp, index=False)\n",
    "    return results"
   ]
  },
  {
   "cell_type": "code",
   "execution_count": 235,
   "id": "9f32e609",
   "metadata": {},
   "outputs": [],
   "source": [
    "X,y,w,p,t = simulate_treatment_setup(1000, d=5, n_t=3, n_c=2)\n",
    "X_df = pd.DataFrame(X)\n",
    "y_df = pd.DataFrame(y, columns = ['y'])\n",
    "w_df = pd.DataFrame(w, columns = ['w'])\n",
    "d_real = pd.concat([X_df,w_df,y_df], axis=1)"
   ]
  },
  {
   "cell_type": "code",
   "execution_count": 237,
   "id": "b56a26c8",
   "metadata": {},
   "outputs": [
    {
     "name": "stderr",
     "output_type": "stream",
     "text": [
      "[2024-05-14T10:57:17.521831+0000][130783][CRITICAL] load failed: module 'synthcity.plugins.generic.plugin_goggle' has no attribute 'plugin'\n",
      "[2024-05-14T10:57:17.523128+0000][130783][CRITICAL] load failed: module 'synthcity.plugins.generic.plugin_goggle' has no attribute 'plugin'\n",
      "[2024-05-14T10:57:17.523486+0000][130783][CRITICAL] module plugin_goggle load failed\n"
     ]
    },
    {
     "name": "stdout",
     "output_type": "stream",
     "text": [
      "Fitting dpgan model\n"
     ]
    },
    {
     "name": "stderr",
     "output_type": "stream",
     "text": [
      " 25%|██▍       | 499/2000 [00:46<02:21, 10.62it/s]\n"
     ]
    },
    {
     "name": "stdout",
     "output_type": "stream",
     "text": [
      "Generating dpgan synthetic dataset\n"
     ]
    },
    {
     "name": "stderr",
     "output_type": "stream",
     "text": [
      "[2024-05-14T10:59:13.255637+0000][130783][CRITICAL] load failed: module 'synthcity.plugins.generic.plugin_goggle' has no attribute 'plugin'\n",
      "[2024-05-14T10:59:13.256644+0000][130783][CRITICAL] load failed: module 'synthcity.plugins.generic.plugin_goggle' has no attribute 'plugin'\n",
      "[2024-05-14T10:59:13.257064+0000][130783][CRITICAL] module plugin_goggle load failed\n"
     ]
    },
    {
     "name": "stdout",
     "output_type": "stream",
     "text": [
      "Fitting dpgan covariate model\n"
     ]
    },
    {
     "name": "stderr",
     "output_type": "stream",
     "text": [
      " 22%|██▏       | 449/2000 [00:39<02:17, 11.29it/s]\n"
     ]
    },
    {
     "name": "stdout",
     "output_type": "stream",
     "text": [
      "Generating dpgan synthetic covariates\n",
      "Fitting propensity model\n",
      "Generating propensities\n",
      "Fitting private CATE learner\n",
      "Generating POs\n"
     ]
    },
    {
     "name": "stderr",
     "output_type": "stream",
     "text": [
      "[2024-05-14T11:01:13.973150+0000][130783][CRITICAL] load failed: module 'synthcity.plugins.generic.plugin_goggle' has no attribute 'plugin'\n",
      "[2024-05-14T11:01:13.974006+0000][130783][CRITICAL] load failed: module 'synthcity.plugins.generic.plugin_goggle' has no attribute 'plugin'\n",
      "[2024-05-14T11:01:13.974407+0000][130783][CRITICAL] module plugin_goggle load failed\n"
     ]
    },
    {
     "name": "stdout",
     "output_type": "stream",
     "text": [
      "saving results\n",
      "Fitting dpgan model\n"
     ]
    },
    {
     "name": "stderr",
     "output_type": "stream",
     "text": [
      " 15%|█▍        | 299/2000 [00:28<02:42, 10.49it/s]\n"
     ]
    },
    {
     "name": "stdout",
     "output_type": "stream",
     "text": [
      "Generating dpgan synthetic dataset\n"
     ]
    },
    {
     "name": "stderr",
     "output_type": "stream",
     "text": [
      "[2024-05-14T11:02:54.124679+0000][130783][CRITICAL] load failed: module 'synthcity.plugins.generic.plugin_goggle' has no attribute 'plugin'\n",
      "[2024-05-14T11:02:54.125972+0000][130783][CRITICAL] load failed: module 'synthcity.plugins.generic.plugin_goggle' has no attribute 'plugin'\n",
      "[2024-05-14T11:02:54.126333+0000][130783][CRITICAL] module plugin_goggle load failed\n"
     ]
    },
    {
     "name": "stdout",
     "output_type": "stream",
     "text": [
      "Fitting dpgan covariate model\n"
     ]
    },
    {
     "name": "stderr",
     "output_type": "stream",
     "text": [
      " 25%|██▍       | 499/2000 [00:43<02:11, 11.40it/s]\n"
     ]
    },
    {
     "name": "stdout",
     "output_type": "stream",
     "text": [
      "Generating dpgan synthetic covariates\n",
      "Fitting propensity model\n",
      "Generating propensities\n",
      "Fitting private CATE learner\n",
      "Generating POs\n"
     ]
    },
    {
     "ename": "ValueError",
     "evalue": "Expected more than 1 value per channel when training, got input size torch.Size([1, 100])",
     "output_type": "error",
     "traceback": [
      "\u001b[0;31m---------------------------------------------------------------------------\u001b[0m",
      "\u001b[0;31mValueError\u001b[0m                                Traceback (most recent call last)",
      "Cell \u001b[0;32mIn[237], line 1\u001b[0m\n\u001b[0;32m----> 1\u001b[0m test \u001b[38;5;241m=\u001b[39m \u001b[43mprivacy_comparison\u001b[49m\u001b[43m(\u001b[49m\u001b[43md_real\u001b[49m\u001b[43m,\u001b[49m\u001b[43m \u001b[49m\u001b[38;5;124;43m'\u001b[39;49m\u001b[38;5;124;43mdpgan\u001b[39;49m\u001b[38;5;124;43m'\u001b[39;49m\u001b[43m,\u001b[49m\u001b[43m \u001b[49m\u001b[38;5;124;43m'\u001b[39;49m\u001b[38;5;124;43mw\u001b[39;49m\u001b[38;5;124;43m'\u001b[39;49m\u001b[43m,\u001b[49m\u001b[43m \u001b[49m\u001b[38;5;124;43m'\u001b[39;49m\u001b[38;5;124;43my\u001b[39;49m\u001b[38;5;124;43m'\u001b[39;49m\u001b[43m,\u001b[49m\u001b[43m \u001b[49m\u001b[43mdelta\u001b[49m\u001b[43m \u001b[49m\u001b[38;5;241;43m=\u001b[39;49m\u001b[43m \u001b[49m\u001b[38;5;241;43m1e-3\u001b[39;49m\u001b[43m,\u001b[49m\u001b[43m \u001b[49m\u001b[43mepsilons\u001b[49m\u001b[43m \u001b[49m\u001b[38;5;241;43m=\u001b[39;49m\u001b[43m \u001b[49m\u001b[43m[\u001b[49m\u001b[38;5;241;43m1.5\u001b[39;49m\u001b[43m]\u001b[49m\u001b[43m,\u001b[49m\u001b[43m \u001b[49m\u001b[43mn_iter\u001b[49m\u001b[43m \u001b[49m\u001b[38;5;241;43m=\u001b[39;49m\u001b[43m \u001b[49m\u001b[38;5;241;43m10\u001b[39;49m\u001b[43m,\u001b[49m\u001b[43m \u001b[49m\u001b[43msave\u001b[49m\u001b[38;5;241;43m=\u001b[39;49m\u001b[38;5;28;43;01mTrue\u001b[39;49;00m\u001b[43m,\u001b[49m\u001b[43m \u001b[49m\u001b[43mfp\u001b[49m\u001b[43m \u001b[49m\u001b[38;5;241;43m=\u001b[39;49m\u001b[38;5;124;43m'\u001b[39;49m\u001b[38;5;124;43msimulated_privacy_dpgan_more_runs.csv\u001b[39;49m\u001b[38;5;124;43m'\u001b[39;49m\u001b[43m)\u001b[49m\n",
      "Cell \u001b[0;32mIn[153], line 14\u001b[0m, in \u001b[0;36mprivacy_comparison\u001b[0;34m(real, gen, treatment_col, outcome_col, delta, epsilons, n_iter, save, fp)\u001b[0m\n\u001b[1;32m      8\u001b[0m results\u001b[38;5;241m.\u001b[39mloc[\u001b[38;5;28mlen\u001b[39m(results)] \u001b[38;5;241m=\u001b[39m [\u001b[38;5;124m'\u001b[39m\u001b[38;5;124mstandard\u001b[39m\u001b[38;5;124m'\u001b[39m, epsilon, evaluate_f(real, synth, treatment_col, outcome_col), evaluate_c(real, synth, treatment_col, outcome_col), \n\u001b[1;32m      9\u001b[0m                          evaluate_d(real, synth, treatment_col, outcome_col), evaluate_average_u_pehe(real, synth, treatment_col, outcome_col, n_units)]\n\u001b[1;32m     11\u001b[0m synth_seq \u001b[38;5;241m=\u001b[39m generate_sequentially(real, gen, treatment_col, outcome_col, private\u001b[38;5;241m=\u001b[39m\u001b[38;5;28;01mTrue\u001b[39;00m, epsilon \u001b[38;5;241m=\u001b[39m epsilon\u001b[38;5;241m/\u001b[39m\u001b[38;5;241m3\u001b[39m, delta\u001b[38;5;241m=\u001b[39mdelta\u001b[38;5;241m/\u001b[39m\u001b[38;5;241m3\u001b[39m)\n\u001b[1;32m     13\u001b[0m results\u001b[38;5;241m.\u001b[39mloc[\u001b[38;5;28mlen\u001b[39m(results)] \u001b[38;5;241m=\u001b[39m [\u001b[38;5;124m'\u001b[39m\u001b[38;5;124msequential\u001b[39m\u001b[38;5;124m'\u001b[39m, epsilon, evaluate_f(real, synth_seq, treatment_col, outcome_col), evaluate_c(real, synth_seq, treatment_col, outcome_col), \n\u001b[0;32m---> 14\u001b[0m                          evaluate_d(real, synth_seq, treatment_col, outcome_col), \u001b[43mevaluate_average_u_pehe\u001b[49m\u001b[43m(\u001b[49m\u001b[43mreal\u001b[49m\u001b[43m,\u001b[49m\u001b[43m \u001b[49m\u001b[43msynth_seq\u001b[49m\u001b[43m,\u001b[49m\u001b[43m \u001b[49m\u001b[43mtreatment_col\u001b[49m\u001b[43m,\u001b[49m\u001b[43m \u001b[49m\u001b[43moutcome_col\u001b[49m\u001b[43m,\u001b[49m\u001b[43m \u001b[49m\u001b[43mn_units\u001b[49m\u001b[43m)\u001b[49m]\n\u001b[1;32m     16\u001b[0m \u001b[38;5;28;01mif\u001b[39;00m save:\n\u001b[1;32m     17\u001b[0m     \u001b[38;5;28mprint\u001b[39m(\u001b[38;5;124m'\u001b[39m\u001b[38;5;124msaving results\u001b[39m\u001b[38;5;124m'\u001b[39m)\n",
      "Cell \u001b[0;32mIn[20], line 27\u001b[0m, in \u001b[0;36mevaluate_average_u_pehe\u001b[0;34m(real, synth, treatment_col, outcome_col, n_units)\u001b[0m\n\u001b[1;32m     25\u001b[0m y_synth \u001b[38;5;241m=\u001b[39m np\u001b[38;5;241m.\u001b[39marray(synth[outcome_col])\n\u001b[1;32m     26\u001b[0m w_synth \u001b[38;5;241m=\u001b[39m np\u001b[38;5;241m.\u001b[39marray(synth[treatment_col])\n\u001b[0;32m---> 27\u001b[0m \u001b[43ml_synth\u001b[49m\u001b[38;5;241;43m.\u001b[39;49m\u001b[43mfit\u001b[49m\u001b[43m(\u001b[49m\u001b[43mX_synth\u001b[49m\u001b[43m,\u001b[49m\u001b[43m \u001b[49m\u001b[43my_synth\u001b[49m\u001b[43m,\u001b[49m\u001b[43m \u001b[49m\u001b[43mw_synth\u001b[49m\u001b[43m)\u001b[49m\n\u001b[1;32m     28\u001b[0m pred_synth \u001b[38;5;241m=\u001b[39m l_synth\u001b[38;5;241m.\u001b[39mpredict(X_t)\n\u001b[1;32m     30\u001b[0m pehe \u001b[38;5;241m=\u001b[39m mean_squared_error(pred_real\u001b[38;5;241m.\u001b[39mcpu()\u001b[38;5;241m.\u001b[39mdetach()\u001b[38;5;241m.\u001b[39mnumpy(), pred_synth\u001b[38;5;241m.\u001b[39mcpu()\u001b[38;5;241m.\u001b[39mdetach()\u001b[38;5;241m.\u001b[39mnumpy(), squared\u001b[38;5;241m=\u001b[39m\u001b[38;5;28;01mFalse\u001b[39;00m)\n",
      "File \u001b[0;32m/anaconda/envs/azureml_py310_sdkv2/lib/python3.10/site-packages/catenets/models/torch/tlearner.py:164\u001b[0m, in \u001b[0;36mTLearner.fit\u001b[0;34m(self, X, y, w)\u001b[0m\n\u001b[1;32m    161\u001b[0m w \u001b[38;5;241m=\u001b[39m torch\u001b[38;5;241m.\u001b[39mTensor(w)\u001b[38;5;241m.\u001b[39mto(DEVICE)\n\u001b[1;32m    163\u001b[0m \u001b[38;5;28;01mfor\u001b[39;00m widx, plugin \u001b[38;5;129;01min\u001b[39;00m \u001b[38;5;28menumerate\u001b[39m(\u001b[38;5;28mself\u001b[39m\u001b[38;5;241m.\u001b[39m_plug_in):\n\u001b[0;32m--> 164\u001b[0m     \u001b[43mtrain_wrapper\u001b[49m\u001b[43m(\u001b[49m\u001b[43mplugin\u001b[49m\u001b[43m,\u001b[49m\u001b[43m \u001b[49m\u001b[43mX\u001b[49m\u001b[43m[\u001b[49m\u001b[43mw\u001b[49m\u001b[43m \u001b[49m\u001b[38;5;241;43m==\u001b[39;49m\u001b[43m \u001b[49m\u001b[43mwidx\u001b[49m\u001b[43m]\u001b[49m\u001b[43m,\u001b[49m\u001b[43m \u001b[49m\u001b[43my\u001b[49m\u001b[43m[\u001b[49m\u001b[43mw\u001b[49m\u001b[43m \u001b[49m\u001b[38;5;241;43m==\u001b[39;49m\u001b[43m \u001b[49m\u001b[43mwidx\u001b[49m\u001b[43m]\u001b[49m\u001b[43m)\u001b[49m\n\u001b[1;32m    166\u001b[0m \u001b[38;5;28;01mreturn\u001b[39;00m \u001b[38;5;28mself\u001b[39m\n",
      "File \u001b[0;32m/anaconda/envs/azureml_py310_sdkv2/lib/python3.10/site-packages/catenets/models/torch/utils/model_utils.py:85\u001b[0m, in \u001b[0;36mtrain_wrapper\u001b[0;34m(estimator, X, y, **kwargs)\u001b[0m\n\u001b[1;32m     83\u001b[0m \u001b[38;5;28;01mif\u001b[39;00m \u001b[38;5;28mhasattr\u001b[39m(estimator, \u001b[38;5;124m\"\u001b[39m\u001b[38;5;124mtrain\u001b[39m\u001b[38;5;124m\"\u001b[39m):\n\u001b[1;32m     84\u001b[0m     log\u001b[38;5;241m.\u001b[39mdebug(\u001b[38;5;124mf\u001b[39m\u001b[38;5;124m\"\u001b[39m\u001b[38;5;124mTrain PyTorch network \u001b[39m\u001b[38;5;132;01m{\u001b[39;00mestimator\u001b[38;5;132;01m}\u001b[39;00m\u001b[38;5;124m\"\u001b[39m)\n\u001b[0;32m---> 85\u001b[0m     \u001b[43mestimator\u001b[49m\u001b[38;5;241;43m.\u001b[39;49m\u001b[43mfit\u001b[49m\u001b[43m(\u001b[49m\u001b[43mX\u001b[49m\u001b[43m,\u001b[49m\u001b[43m \u001b[49m\u001b[43my\u001b[49m\u001b[43m,\u001b[49m\u001b[43m \u001b[49m\u001b[38;5;241;43m*\u001b[39;49m\u001b[38;5;241;43m*\u001b[39;49m\u001b[43mkwargs\u001b[49m\u001b[43m)\u001b[49m\n\u001b[1;32m     86\u001b[0m \u001b[38;5;28;01melif\u001b[39;00m \u001b[38;5;28mhasattr\u001b[39m(estimator, \u001b[38;5;124m\"\u001b[39m\u001b[38;5;124mfit\u001b[39m\u001b[38;5;124m\"\u001b[39m):\n\u001b[1;32m     87\u001b[0m     log\u001b[38;5;241m.\u001b[39mdebug(\u001b[38;5;124mf\u001b[39m\u001b[38;5;124m\"\u001b[39m\u001b[38;5;124mTrain sklearn estimator \u001b[39m\u001b[38;5;132;01m{\u001b[39;00mestimator\u001b[38;5;132;01m}\u001b[39;00m\u001b[38;5;124m\"\u001b[39m)\n",
      "File \u001b[0;32m/anaconda/envs/azureml_py310_sdkv2/lib/python3.10/site-packages/catenets/models/torch/base.py:214\u001b[0m, in \u001b[0;36mBasicNet.fit\u001b[0;34m(self, X, y, weight)\u001b[0m\n\u001b[1;32m    210\u001b[0m     weight_next \u001b[38;5;241m=\u001b[39m weight[idx_next]\u001b[38;5;241m.\u001b[39mdetach()\n\u001b[1;32m    212\u001b[0m loss \u001b[38;5;241m=\u001b[39m nn\u001b[38;5;241m.\u001b[39mBCELoss(weight\u001b[38;5;241m=\u001b[39mweight_next) \u001b[38;5;28;01mif\u001b[39;00m \u001b[38;5;28mself\u001b[39m\u001b[38;5;241m.\u001b[39mbinary_y \u001b[38;5;28;01melse\u001b[39;00m nn\u001b[38;5;241m.\u001b[39mMSELoss()\n\u001b[0;32m--> 214\u001b[0m preds \u001b[38;5;241m=\u001b[39m \u001b[38;5;28;43mself\u001b[39;49m\u001b[38;5;241;43m.\u001b[39;49m\u001b[43mforward\u001b[49m\u001b[43m(\u001b[49m\u001b[43mX_next\u001b[49m\u001b[43m)\u001b[49m\u001b[38;5;241m.\u001b[39msqueeze()\n\u001b[1;32m    216\u001b[0m batch_loss \u001b[38;5;241m=\u001b[39m loss(preds, y_next)\n\u001b[1;32m    218\u001b[0m batch_loss\u001b[38;5;241m.\u001b[39mbackward()\n",
      "File \u001b[0;32m/anaconda/envs/azureml_py310_sdkv2/lib/python3.10/site-packages/catenets/models/torch/base.py:169\u001b[0m, in \u001b[0;36mBasicNet.forward\u001b[0;34m(self, X)\u001b[0m\n\u001b[1;32m    168\u001b[0m \u001b[38;5;28;01mdef\u001b[39;00m \u001b[38;5;21mforward\u001b[39m(\u001b[38;5;28mself\u001b[39m, X: torch\u001b[38;5;241m.\u001b[39mTensor) \u001b[38;5;241m-\u001b[39m\u001b[38;5;241m>\u001b[39m torch\u001b[38;5;241m.\u001b[39mTensor:\n\u001b[0;32m--> 169\u001b[0m     \u001b[38;5;28;01mreturn\u001b[39;00m \u001b[38;5;28;43mself\u001b[39;49m\u001b[38;5;241;43m.\u001b[39;49m\u001b[43mmodel\u001b[49m\u001b[43m(\u001b[49m\u001b[43mX\u001b[49m\u001b[43m)\u001b[49m\n",
      "File \u001b[0;32m/anaconda/envs/azureml_py310_sdkv2/lib/python3.10/site-packages/torch/nn/modules/module.py:1194\u001b[0m, in \u001b[0;36mModule._call_impl\u001b[0;34m(self, *input, **kwargs)\u001b[0m\n\u001b[1;32m   1190\u001b[0m \u001b[38;5;66;03m# If we don't have any hooks, we want to skip the rest of the logic in\u001b[39;00m\n\u001b[1;32m   1191\u001b[0m \u001b[38;5;66;03m# this function, and just call forward.\u001b[39;00m\n\u001b[1;32m   1192\u001b[0m \u001b[38;5;28;01mif\u001b[39;00m \u001b[38;5;129;01mnot\u001b[39;00m (\u001b[38;5;28mself\u001b[39m\u001b[38;5;241m.\u001b[39m_backward_hooks \u001b[38;5;129;01mor\u001b[39;00m \u001b[38;5;28mself\u001b[39m\u001b[38;5;241m.\u001b[39m_forward_hooks \u001b[38;5;129;01mor\u001b[39;00m \u001b[38;5;28mself\u001b[39m\u001b[38;5;241m.\u001b[39m_forward_pre_hooks \u001b[38;5;129;01mor\u001b[39;00m _global_backward_hooks\n\u001b[1;32m   1193\u001b[0m         \u001b[38;5;129;01mor\u001b[39;00m _global_forward_hooks \u001b[38;5;129;01mor\u001b[39;00m _global_forward_pre_hooks):\n\u001b[0;32m-> 1194\u001b[0m     \u001b[38;5;28;01mreturn\u001b[39;00m \u001b[43mforward_call\u001b[49m\u001b[43m(\u001b[49m\u001b[38;5;241;43m*\u001b[39;49m\u001b[38;5;28;43minput\u001b[39;49m\u001b[43m,\u001b[49m\u001b[43m \u001b[49m\u001b[38;5;241;43m*\u001b[39;49m\u001b[38;5;241;43m*\u001b[39;49m\u001b[43mkwargs\u001b[49m\u001b[43m)\u001b[49m\n\u001b[1;32m   1195\u001b[0m \u001b[38;5;66;03m# Do not call functions when jit is used\u001b[39;00m\n\u001b[1;32m   1196\u001b[0m full_backward_hooks, non_full_backward_hooks \u001b[38;5;241m=\u001b[39m [], []\n",
      "File \u001b[0;32m/anaconda/envs/azureml_py310_sdkv2/lib/python3.10/site-packages/torch/nn/modules/container.py:204\u001b[0m, in \u001b[0;36mSequential.forward\u001b[0;34m(self, input)\u001b[0m\n\u001b[1;32m    202\u001b[0m \u001b[38;5;28;01mdef\u001b[39;00m \u001b[38;5;21mforward\u001b[39m(\u001b[38;5;28mself\u001b[39m, \u001b[38;5;28minput\u001b[39m):\n\u001b[1;32m    203\u001b[0m     \u001b[38;5;28;01mfor\u001b[39;00m module \u001b[38;5;129;01min\u001b[39;00m \u001b[38;5;28mself\u001b[39m:\n\u001b[0;32m--> 204\u001b[0m         \u001b[38;5;28minput\u001b[39m \u001b[38;5;241m=\u001b[39m \u001b[43mmodule\u001b[49m\u001b[43m(\u001b[49m\u001b[38;5;28;43minput\u001b[39;49m\u001b[43m)\u001b[49m\n\u001b[1;32m    205\u001b[0m     \u001b[38;5;28;01mreturn\u001b[39;00m \u001b[38;5;28minput\u001b[39m\n",
      "File \u001b[0;32m/anaconda/envs/azureml_py310_sdkv2/lib/python3.10/site-packages/torch/nn/modules/module.py:1194\u001b[0m, in \u001b[0;36mModule._call_impl\u001b[0;34m(self, *input, **kwargs)\u001b[0m\n\u001b[1;32m   1190\u001b[0m \u001b[38;5;66;03m# If we don't have any hooks, we want to skip the rest of the logic in\u001b[39;00m\n\u001b[1;32m   1191\u001b[0m \u001b[38;5;66;03m# this function, and just call forward.\u001b[39;00m\n\u001b[1;32m   1192\u001b[0m \u001b[38;5;28;01mif\u001b[39;00m \u001b[38;5;129;01mnot\u001b[39;00m (\u001b[38;5;28mself\u001b[39m\u001b[38;5;241m.\u001b[39m_backward_hooks \u001b[38;5;129;01mor\u001b[39;00m \u001b[38;5;28mself\u001b[39m\u001b[38;5;241m.\u001b[39m_forward_hooks \u001b[38;5;129;01mor\u001b[39;00m \u001b[38;5;28mself\u001b[39m\u001b[38;5;241m.\u001b[39m_forward_pre_hooks \u001b[38;5;129;01mor\u001b[39;00m _global_backward_hooks\n\u001b[1;32m   1193\u001b[0m         \u001b[38;5;129;01mor\u001b[39;00m _global_forward_hooks \u001b[38;5;129;01mor\u001b[39;00m _global_forward_pre_hooks):\n\u001b[0;32m-> 1194\u001b[0m     \u001b[38;5;28;01mreturn\u001b[39;00m \u001b[43mforward_call\u001b[49m\u001b[43m(\u001b[49m\u001b[38;5;241;43m*\u001b[39;49m\u001b[38;5;28;43minput\u001b[39;49m\u001b[43m,\u001b[49m\u001b[43m \u001b[49m\u001b[38;5;241;43m*\u001b[39;49m\u001b[38;5;241;43m*\u001b[39;49m\u001b[43mkwargs\u001b[49m\u001b[43m)\u001b[49m\n\u001b[1;32m   1195\u001b[0m \u001b[38;5;66;03m# Do not call functions when jit is used\u001b[39;00m\n\u001b[1;32m   1196\u001b[0m full_backward_hooks, non_full_backward_hooks \u001b[38;5;241m=\u001b[39m [], []\n",
      "File \u001b[0;32m/anaconda/envs/azureml_py310_sdkv2/lib/python3.10/site-packages/torch/nn/modules/batchnorm.py:171\u001b[0m, in \u001b[0;36m_BatchNorm.forward\u001b[0;34m(self, input)\u001b[0m\n\u001b[1;32m    164\u001b[0m     bn_training \u001b[38;5;241m=\u001b[39m (\u001b[38;5;28mself\u001b[39m\u001b[38;5;241m.\u001b[39mrunning_mean \u001b[38;5;129;01mis\u001b[39;00m \u001b[38;5;28;01mNone\u001b[39;00m) \u001b[38;5;129;01mand\u001b[39;00m (\u001b[38;5;28mself\u001b[39m\u001b[38;5;241m.\u001b[39mrunning_var \u001b[38;5;129;01mis\u001b[39;00m \u001b[38;5;28;01mNone\u001b[39;00m)\n\u001b[1;32m    166\u001b[0m \u001b[38;5;250m\u001b[39m\u001b[38;5;124mr\u001b[39m\u001b[38;5;124;03m\"\"\"\u001b[39;00m\n\u001b[1;32m    167\u001b[0m \u001b[38;5;124;03mBuffers are only updated if they are to be tracked and we are in training mode. Thus they only need to be\u001b[39;00m\n\u001b[1;32m    168\u001b[0m \u001b[38;5;124;03mpassed when the update should occur (i.e. in training mode when they are tracked), or when buffer stats are\u001b[39;00m\n\u001b[1;32m    169\u001b[0m \u001b[38;5;124;03mused for normalization (i.e. in eval mode when buffers are not None).\u001b[39;00m\n\u001b[1;32m    170\u001b[0m \u001b[38;5;124;03m\"\"\"\u001b[39;00m\n\u001b[0;32m--> 171\u001b[0m \u001b[38;5;28;01mreturn\u001b[39;00m \u001b[43mF\u001b[49m\u001b[38;5;241;43m.\u001b[39;49m\u001b[43mbatch_norm\u001b[49m\u001b[43m(\u001b[49m\n\u001b[1;32m    172\u001b[0m \u001b[43m    \u001b[49m\u001b[38;5;28;43minput\u001b[39;49m\u001b[43m,\u001b[49m\n\u001b[1;32m    173\u001b[0m \u001b[43m    \u001b[49m\u001b[38;5;66;43;03m# If buffers are not to be tracked, ensure that they won't be updated\u001b[39;49;00m\n\u001b[1;32m    174\u001b[0m \u001b[43m    \u001b[49m\u001b[38;5;28;43mself\u001b[39;49m\u001b[38;5;241;43m.\u001b[39;49m\u001b[43mrunning_mean\u001b[49m\n\u001b[1;32m    175\u001b[0m \u001b[43m    \u001b[49m\u001b[38;5;28;43;01mif\u001b[39;49;00m\u001b[43m \u001b[49m\u001b[38;5;129;43;01mnot\u001b[39;49;00m\u001b[43m \u001b[49m\u001b[38;5;28;43mself\u001b[39;49m\u001b[38;5;241;43m.\u001b[39;49m\u001b[43mtraining\u001b[49m\u001b[43m \u001b[49m\u001b[38;5;129;43;01mor\u001b[39;49;00m\u001b[43m \u001b[49m\u001b[38;5;28;43mself\u001b[39;49m\u001b[38;5;241;43m.\u001b[39;49m\u001b[43mtrack_running_stats\u001b[49m\n\u001b[1;32m    176\u001b[0m \u001b[43m    \u001b[49m\u001b[38;5;28;43;01melse\u001b[39;49;00m\u001b[43m \u001b[49m\u001b[38;5;28;43;01mNone\u001b[39;49;00m\u001b[43m,\u001b[49m\n\u001b[1;32m    177\u001b[0m \u001b[43m    \u001b[49m\u001b[38;5;28;43mself\u001b[39;49m\u001b[38;5;241;43m.\u001b[39;49m\u001b[43mrunning_var\u001b[49m\u001b[43m \u001b[49m\u001b[38;5;28;43;01mif\u001b[39;49;00m\u001b[43m \u001b[49m\u001b[38;5;129;43;01mnot\u001b[39;49;00m\u001b[43m \u001b[49m\u001b[38;5;28;43mself\u001b[39;49m\u001b[38;5;241;43m.\u001b[39;49m\u001b[43mtraining\u001b[49m\u001b[43m \u001b[49m\u001b[38;5;129;43;01mor\u001b[39;49;00m\u001b[43m \u001b[49m\u001b[38;5;28;43mself\u001b[39;49m\u001b[38;5;241;43m.\u001b[39;49m\u001b[43mtrack_running_stats\u001b[49m\u001b[43m \u001b[49m\u001b[38;5;28;43;01melse\u001b[39;49;00m\u001b[43m \u001b[49m\u001b[38;5;28;43;01mNone\u001b[39;49;00m\u001b[43m,\u001b[49m\n\u001b[1;32m    178\u001b[0m \u001b[43m    \u001b[49m\u001b[38;5;28;43mself\u001b[39;49m\u001b[38;5;241;43m.\u001b[39;49m\u001b[43mweight\u001b[49m\u001b[43m,\u001b[49m\n\u001b[1;32m    179\u001b[0m \u001b[43m    \u001b[49m\u001b[38;5;28;43mself\u001b[39;49m\u001b[38;5;241;43m.\u001b[39;49m\u001b[43mbias\u001b[49m\u001b[43m,\u001b[49m\n\u001b[1;32m    180\u001b[0m \u001b[43m    \u001b[49m\u001b[43mbn_training\u001b[49m\u001b[43m,\u001b[49m\n\u001b[1;32m    181\u001b[0m \u001b[43m    \u001b[49m\u001b[43mexponential_average_factor\u001b[49m\u001b[43m,\u001b[49m\n\u001b[1;32m    182\u001b[0m \u001b[43m    \u001b[49m\u001b[38;5;28;43mself\u001b[39;49m\u001b[38;5;241;43m.\u001b[39;49m\u001b[43meps\u001b[49m\u001b[43m,\u001b[49m\n\u001b[1;32m    183\u001b[0m \u001b[43m\u001b[49m\u001b[43m)\u001b[49m\n",
      "File \u001b[0;32m/anaconda/envs/azureml_py310_sdkv2/lib/python3.10/site-packages/torch/nn/functional.py:2448\u001b[0m, in \u001b[0;36mbatch_norm\u001b[0;34m(input, running_mean, running_var, weight, bias, training, momentum, eps)\u001b[0m\n\u001b[1;32m   2435\u001b[0m     \u001b[38;5;28;01mreturn\u001b[39;00m handle_torch_function(\n\u001b[1;32m   2436\u001b[0m         batch_norm,\n\u001b[1;32m   2437\u001b[0m         (\u001b[38;5;28minput\u001b[39m, running_mean, running_var, weight, bias),\n\u001b[0;32m   (...)\u001b[0m\n\u001b[1;32m   2445\u001b[0m         eps\u001b[38;5;241m=\u001b[39meps,\n\u001b[1;32m   2446\u001b[0m     )\n\u001b[1;32m   2447\u001b[0m \u001b[38;5;28;01mif\u001b[39;00m training:\n\u001b[0;32m-> 2448\u001b[0m     \u001b[43m_verify_batch_size\u001b[49m\u001b[43m(\u001b[49m\u001b[38;5;28;43minput\u001b[39;49m\u001b[38;5;241;43m.\u001b[39;49m\u001b[43msize\u001b[49m\u001b[43m(\u001b[49m\u001b[43m)\u001b[49m\u001b[43m)\u001b[49m\n\u001b[1;32m   2450\u001b[0m \u001b[38;5;28;01mreturn\u001b[39;00m torch\u001b[38;5;241m.\u001b[39mbatch_norm(\n\u001b[1;32m   2451\u001b[0m     \u001b[38;5;28minput\u001b[39m, weight, bias, running_mean, running_var, training, momentum, eps, torch\u001b[38;5;241m.\u001b[39mbackends\u001b[38;5;241m.\u001b[39mcudnn\u001b[38;5;241m.\u001b[39menabled\n\u001b[1;32m   2452\u001b[0m )\n",
      "File \u001b[0;32m/anaconda/envs/azureml_py310_sdkv2/lib/python3.10/site-packages/torch/nn/functional.py:2416\u001b[0m, in \u001b[0;36m_verify_batch_size\u001b[0;34m(size)\u001b[0m\n\u001b[1;32m   2414\u001b[0m     size_prods \u001b[38;5;241m*\u001b[39m\u001b[38;5;241m=\u001b[39m size[i \u001b[38;5;241m+\u001b[39m \u001b[38;5;241m2\u001b[39m]\n\u001b[1;32m   2415\u001b[0m \u001b[38;5;28;01mif\u001b[39;00m size_prods \u001b[38;5;241m==\u001b[39m \u001b[38;5;241m1\u001b[39m:\n\u001b[0;32m-> 2416\u001b[0m     \u001b[38;5;28;01mraise\u001b[39;00m \u001b[38;5;167;01mValueError\u001b[39;00m(\u001b[38;5;124m\"\u001b[39m\u001b[38;5;124mExpected more than 1 value per channel when training, got input size \u001b[39m\u001b[38;5;132;01m{}\u001b[39;00m\u001b[38;5;124m\"\u001b[39m\u001b[38;5;241m.\u001b[39mformat(size))\n",
      "\u001b[0;31mValueError\u001b[0m: Expected more than 1 value per channel when training, got input size torch.Size([1, 100])"
     ]
    }
   ],
   "source": [
    "test = privacy_comparison(d_real, 'dpgan', 'w', 'y', delta = 1e-3, epsilons = [1], n_iter = 10, save=True, fp ='simulated_privacy_dpgan_more_runs.csv')"
   ]
  },
  {
   "cell_type": "code",
   "execution_count": 261,
   "id": "8bdb8309",
   "metadata": {},
   "outputs": [],
   "source": [
    "normalized=(jobs-jobs.mean())/jobs.std()"
   ]
  },
  {
   "cell_type": "code",
   "execution_count": 263,
   "id": "4e1d77ac",
   "metadata": {},
   "outputs": [],
   "source": [
    "normalized_jobs = jobs.copy()\n",
    "normalized_jobs['age'] = normalized['age']\n",
    "normalized_jobs['education'] = normalized['education']\n",
    "normalized_jobs['re75'] = normalized['re75']\n",
    "normalized_jobs['re78'] = normalized['re78']"
   ]
  },
  {
   "cell_type": "code",
   "execution_count": 284,
   "id": "8bd6d71c",
   "metadata": {},
   "outputs": [
    {
     "name": "stderr",
     "output_type": "stream",
     "text": [
      "[2024-05-14T23:34:22.891253+0000][130783][CRITICAL] load failed: module 'synthcity.plugins.generic.plugin_goggle' has no attribute 'plugin'\n",
      "[2024-05-14T23:34:22.892272+0000][130783][CRITICAL] load failed: module 'synthcity.plugins.generic.plugin_goggle' has no attribute 'plugin'\n",
      "[2024-05-14T23:34:22.892762+0000][130783][CRITICAL] module plugin_goggle load failed\n"
     ]
    },
    {
     "name": "stdout",
     "output_type": "stream",
     "text": [
      "Fitting dpgan model\n"
     ]
    },
    {
     "name": "stderr",
     "output_type": "stream",
     "text": [
      " 15%|█▍        | 299/2000 [00:25<02:26, 11.58it/s]\n"
     ]
    },
    {
     "name": "stdout",
     "output_type": "stream",
     "text": [
      "Generating dpgan synthetic dataset\n"
     ]
    },
    {
     "name": "stderr",
     "output_type": "stream",
     "text": [
      "[2024-05-14T23:35:55.788155+0000][130783][CRITICAL] load failed: module 'synthcity.plugins.generic.plugin_goggle' has no attribute 'plugin'\n",
      "[2024-05-14T23:35:55.789541+0000][130783][CRITICAL] load failed: module 'synthcity.plugins.generic.plugin_goggle' has no attribute 'plugin'\n",
      "[2024-05-14T23:35:55.790034+0000][130783][CRITICAL] module plugin_goggle load failed\n"
     ]
    },
    {
     "name": "stdout",
     "output_type": "stream",
     "text": [
      "Fitting dpgan covariate model\n"
     ]
    },
    {
     "name": "stderr",
     "output_type": "stream",
     "text": [
      " 32%|███▏      | 649/2000 [00:51<01:47, 12.61it/s]\n"
     ]
    },
    {
     "name": "stdout",
     "output_type": "stream",
     "text": [
      "Generating dpgan synthetic covariates\n",
      "Fitting propensity model\n",
      "Generating propensities\n",
      "Fitting private CATE learner\n",
      "Generating POs\n"
     ]
    },
    {
     "name": "stderr",
     "output_type": "stream",
     "text": [
      "[2024-05-14T23:37:59.540645+0000][130783][CRITICAL] load failed: module 'synthcity.plugins.generic.plugin_goggle' has no attribute 'plugin'\n",
      "[2024-05-14T23:37:59.541360+0000][130783][CRITICAL] load failed: module 'synthcity.plugins.generic.plugin_goggle' has no attribute 'plugin'\n",
      "[2024-05-14T23:37:59.541779+0000][130783][CRITICAL] module plugin_goggle load failed\n"
     ]
    },
    {
     "name": "stdout",
     "output_type": "stream",
     "text": [
      "saving results\n",
      "Fitting dpgan model\n"
     ]
    },
    {
     "name": "stderr",
     "output_type": "stream",
     "text": [
      " 20%|█▉        | 399/2000 [00:35<02:21, 11.34it/s]\n"
     ]
    },
    {
     "name": "stdout",
     "output_type": "stream",
     "text": [
      "Generating dpgan synthetic dataset\n"
     ]
    },
    {
     "name": "stderr",
     "output_type": "stream",
     "text": [
      "[2024-05-14T23:39:29.660220+0000][130783][CRITICAL] load failed: module 'synthcity.plugins.generic.plugin_goggle' has no attribute 'plugin'\n",
      "[2024-05-14T23:39:29.661585+0000][130783][CRITICAL] load failed: module 'synthcity.plugins.generic.plugin_goggle' has no attribute 'plugin'\n",
      "[2024-05-14T23:39:29.661945+0000][130783][CRITICAL] module plugin_goggle load failed\n"
     ]
    },
    {
     "name": "stdout",
     "output_type": "stream",
     "text": [
      "Fitting dpgan covariate model\n"
     ]
    },
    {
     "name": "stderr",
     "output_type": "stream",
     "text": [
      " 25%|██▍       | 499/2000 [00:39<01:57, 12.76it/s]\n"
     ]
    },
    {
     "name": "stdout",
     "output_type": "stream",
     "text": [
      "Generating dpgan synthetic covariates\n",
      "Fitting propensity model\n",
      "Generating propensities\n",
      "Fitting private CATE learner\n",
      "Generating POs\n"
     ]
    },
    {
     "name": "stderr",
     "output_type": "stream",
     "text": [
      "[2024-05-14T23:41:24.388742+0000][130783][CRITICAL] load failed: module 'synthcity.plugins.generic.plugin_goggle' has no attribute 'plugin'\n",
      "[2024-05-14T23:41:24.389334+0000][130783][CRITICAL] load failed: module 'synthcity.plugins.generic.plugin_goggle' has no attribute 'plugin'\n",
      "[2024-05-14T23:41:24.389711+0000][130783][CRITICAL] module plugin_goggle load failed\n"
     ]
    },
    {
     "name": "stdout",
     "output_type": "stream",
     "text": [
      "saving results\n",
      "Fitting dpgan model\n"
     ]
    },
    {
     "name": "stderr",
     "output_type": "stream",
     "text": [
      " 37%|███▋      | 749/2000 [01:05<01:49, 11.39it/s]\n"
     ]
    },
    {
     "name": "stdout",
     "output_type": "stream",
     "text": [
      "Generating dpgan synthetic dataset\n"
     ]
    },
    {
     "name": "stderr",
     "output_type": "stream",
     "text": [
      "[2024-05-14T23:43:19.649674+0000][130783][CRITICAL] load failed: module 'synthcity.plugins.generic.plugin_goggle' has no attribute 'plugin'\n",
      "[2024-05-14T23:43:19.650701+0000][130783][CRITICAL] load failed: module 'synthcity.plugins.generic.plugin_goggle' has no attribute 'plugin'\n",
      "[2024-05-14T23:43:19.651093+0000][130783][CRITICAL] module plugin_goggle load failed\n"
     ]
    },
    {
     "name": "stdout",
     "output_type": "stream",
     "text": [
      "Fitting dpgan covariate model\n"
     ]
    },
    {
     "name": "stderr",
     "output_type": "stream",
     "text": [
      " 22%|██▏       | 449/2000 [00:35<02:01, 12.77it/s]\n"
     ]
    },
    {
     "name": "stdout",
     "output_type": "stream",
     "text": [
      "Generating dpgan synthetic covariates\n",
      "Fitting propensity model\n",
      "Generating propensities\n",
      "Fitting private CATE learner\n",
      "Generating POs\n"
     ]
    },
    {
     "name": "stderr",
     "output_type": "stream",
     "text": [
      "[2024-05-14T23:45:08.678693+0000][130783][CRITICAL] load failed: module 'synthcity.plugins.generic.plugin_goggle' has no attribute 'plugin'\n",
      "[2024-05-14T23:45:08.679493+0000][130783][CRITICAL] load failed: module 'synthcity.plugins.generic.plugin_goggle' has no attribute 'plugin'\n",
      "[2024-05-14T23:45:08.679919+0000][130783][CRITICAL] module plugin_goggle load failed\n"
     ]
    },
    {
     "name": "stdout",
     "output_type": "stream",
     "text": [
      "saving results\n",
      "Fitting dpgan model\n"
     ]
    },
    {
     "name": "stderr",
     "output_type": "stream",
     "text": [
      " 25%|██▍       | 499/2000 [00:43<02:09, 11.60it/s]\n"
     ]
    },
    {
     "name": "stdout",
     "output_type": "stream",
     "text": [
      "Generating dpgan synthetic dataset\n"
     ]
    },
    {
     "name": "stderr",
     "output_type": "stream",
     "text": [
      "[2024-05-14T23:47:00.029130+0000][130783][CRITICAL] load failed: module 'synthcity.plugins.generic.plugin_goggle' has no attribute 'plugin'\n",
      "[2024-05-14T23:47:00.030127+0000][130783][CRITICAL] load failed: module 'synthcity.plugins.generic.plugin_goggle' has no attribute 'plugin'\n",
      "[2024-05-14T23:47:00.030459+0000][130783][CRITICAL] module plugin_goggle load failed\n"
     ]
    },
    {
     "name": "stdout",
     "output_type": "stream",
     "text": [
      "Fitting dpgan covariate model\n"
     ]
    },
    {
     "name": "stderr",
     "output_type": "stream",
     "text": [
      " 27%|██▋       | 549/2000 [00:43<01:54, 12.71it/s]\n"
     ]
    },
    {
     "name": "stdout",
     "output_type": "stream",
     "text": [
      "Generating dpgan synthetic covariates\n",
      "Fitting propensity model\n",
      "Generating propensities\n",
      "Fitting private CATE learner\n",
      "Generating POs\n"
     ]
    },
    {
     "name": "stderr",
     "output_type": "stream",
     "text": [
      "[2024-05-14T23:48:55.452475+0000][130783][CRITICAL] load failed: module 'synthcity.plugins.generic.plugin_goggle' has no attribute 'plugin'\n",
      "[2024-05-14T23:48:55.453218+0000][130783][CRITICAL] load failed: module 'synthcity.plugins.generic.plugin_goggle' has no attribute 'plugin'\n",
      "[2024-05-14T23:48:55.453604+0000][130783][CRITICAL] module plugin_goggle load failed\n"
     ]
    },
    {
     "name": "stdout",
     "output_type": "stream",
     "text": [
      "saving results\n",
      "Fitting dpgan model\n"
     ]
    },
    {
     "name": "stderr",
     "output_type": "stream",
     "text": [
      " 17%|█▋        | 349/2000 [00:29<02:21, 11.66it/s]\n"
     ]
    },
    {
     "name": "stdout",
     "output_type": "stream",
     "text": [
      "Generating dpgan synthetic dataset\n"
     ]
    },
    {
     "name": "stderr",
     "output_type": "stream",
     "text": [
      "[2024-05-14T23:50:17.383815+0000][130783][CRITICAL] load failed: module 'synthcity.plugins.generic.plugin_goggle' has no attribute 'plugin'\n",
      "[2024-05-14T23:50:17.384885+0000][130783][CRITICAL] load failed: module 'synthcity.plugins.generic.plugin_goggle' has no attribute 'plugin'\n",
      "[2024-05-14T23:50:17.385216+0000][130783][CRITICAL] module plugin_goggle load failed\n"
     ]
    },
    {
     "name": "stdout",
     "output_type": "stream",
     "text": [
      "Fitting dpgan covariate model\n"
     ]
    },
    {
     "name": "stderr",
     "output_type": "stream",
     "text": [
      " 22%|██▏       | 449/2000 [00:35<02:01, 12.72it/s]\n"
     ]
    },
    {
     "name": "stdout",
     "output_type": "stream",
     "text": [
      "Generating dpgan synthetic covariates\n",
      "Fitting propensity model\n",
      "Generating propensities\n",
      "Fitting private CATE learner\n",
      "Generating POs\n"
     ]
    },
    {
     "name": "stderr",
     "output_type": "stream",
     "text": [
      "[2024-05-14T23:52:06.251715+0000][130783][CRITICAL] load failed: module 'synthcity.plugins.generic.plugin_goggle' has no attribute 'plugin'\n",
      "[2024-05-14T23:52:06.252466+0000][130783][CRITICAL] load failed: module 'synthcity.plugins.generic.plugin_goggle' has no attribute 'plugin'\n",
      "[2024-05-14T23:52:06.252860+0000][130783][CRITICAL] module plugin_goggle load failed\n"
     ]
    },
    {
     "name": "stdout",
     "output_type": "stream",
     "text": [
      "saving results\n",
      "Fitting dpgan model\n"
     ]
    },
    {
     "name": "stderr",
     "output_type": "stream",
     "text": [
      " 17%|█▋        | 349/2000 [00:30<02:22, 11.58it/s]\n"
     ]
    },
    {
     "name": "stdout",
     "output_type": "stream",
     "text": [
      "Generating dpgan synthetic dataset\n"
     ]
    },
    {
     "name": "stderr",
     "output_type": "stream",
     "text": [
      "[2024-05-14T23:53:30.443031+0000][130783][CRITICAL] load failed: module 'synthcity.plugins.generic.plugin_goggle' has no attribute 'plugin'\n",
      "[2024-05-14T23:53:30.444040+0000][130783][CRITICAL] load failed: module 'synthcity.plugins.generic.plugin_goggle' has no attribute 'plugin'\n",
      "[2024-05-14T23:53:30.444502+0000][130783][CRITICAL] module plugin_goggle load failed\n"
     ]
    },
    {
     "name": "stdout",
     "output_type": "stream",
     "text": [
      "Fitting dpgan covariate model\n"
     ]
    },
    {
     "name": "stderr",
     "output_type": "stream",
     "text": [
      " 20%|█▉        | 399/2000 [00:31<02:08, 12.47it/s]\n"
     ]
    },
    {
     "name": "stdout",
     "output_type": "stream",
     "text": [
      "Generating dpgan synthetic covariates\n",
      "Fitting propensity model\n",
      "Generating propensities\n",
      "Fitting private CATE learner\n",
      "Generating POs\n"
     ]
    },
    {
     "name": "stderr",
     "output_type": "stream",
     "text": [
      "[2024-05-14T23:55:14.173042+0000][130783][CRITICAL] load failed: module 'synthcity.plugins.generic.plugin_goggle' has no attribute 'plugin'\n",
      "[2024-05-14T23:55:14.173807+0000][130783][CRITICAL] load failed: module 'synthcity.plugins.generic.plugin_goggle' has no attribute 'plugin'\n",
      "[2024-05-14T23:55:14.174400+0000][130783][CRITICAL] module plugin_goggle load failed\n"
     ]
    },
    {
     "name": "stdout",
     "output_type": "stream",
     "text": [
      "saving results\n",
      "Fitting dpgan model\n"
     ]
    },
    {
     "name": "stderr",
     "output_type": "stream",
     "text": [
      " 25%|██▍       | 499/2000 [00:43<02:10, 11.54it/s]\n"
     ]
    },
    {
     "name": "stdout",
     "output_type": "stream",
     "text": [
      "Generating dpgan synthetic dataset\n"
     ]
    },
    {
     "name": "stderr",
     "output_type": "stream",
     "text": [
      "Bad pipe message: %s [b'\"_k\\xa4\\x15\\x0e\\x1f\\x07l\\xf8\\xe2\\xf2\\xcc\\xbfd\\x91\\xdfb hW\\xe0\\xc2\\xbd\\xf4\\x9f8\\x13W\\xf2\\xc7\\xca\\'\\xd1\\xb2MZ\\x9a\\x84\\xb7\\xa8I\\x18t\\x98\\x1d\\xf6^\\x9d\\x0cs\\x00\\x08\\x13\\x02\\x13\\x03\\x13\\x01\\x00\\xff\\x01\\x00\\x00\\x8f\\x00\\x00\\x00\\x0e\\x00\\x0c\\x00\\x00\\t127.0.0.1\\x00\\x0b\\x00\\x04\\x03\\x00\\x01\\x02\\x00\\n\\x00\\x0c\\x00\\n\\x00\\x1d\\x00\\x17\\x00\\x1e\\x00\\x19\\x00\\x18\\x00#\\x00\\x00\\x00\\x16\\x00\\x00\\x00\\x17\\x00\\x00\\x00\\r\\x00\\x1e\\x00\\x1c\\x04\\x03\\x05\\x03\\x06\\x03\\x08\\x07\\x08\\x08\\x08\\t\\x08\\n\\x08\\x0b\\x08\\x04\\x08\\x05\\x08\\x06\\x04\\x01\\x05\\x01\\x06\\x01\\x00+\\x00\\x03\\x02', b'\\x00-']\n",
      "Bad pipe message: %s [b'\\xc6\\xd0q9\\x15']\n",
      "Bad pipe message: %s [b\"k\\xf69\\xf4\\x1f\\x93\\x08\\x83~\\x87!\\xd4B\\xb5\\xdc\\x9cz'\\x00\\x00\\xa6\\xc0,\\xc00\\x00\\xa3\\x00\\x9f\\xcc\\xa9\\xcc\\xa8\\xcc\\xaa\\xc0\\xaf\\xc0\\xad\\xc0\\xa3\\xc0\\x9f\\xc0]\\xc0a\\xc0W\\xc0S\\xc0+\\xc0/\\x00\\xa2\\x00\\x9e\\xc0\\xae\\xc0\\xac\\xc0\\xa2\\xc0\\x9e\", b\"\\xc0`\\xc0V\\xc0R\\xc0$\\xc0(\\x00k\\x00j\\xc0s\\xc0w\\x00\\xc4\\x00\\xc3\\xc0#\\xc0'\\x00g\\x00@\\xc0r\\xc0v\\x00\\xbe\\x00\\xbd\\xc0\\n\\xc0\\x14\\x009\\x008\\x00\\x88\\x00\\x87\\xc0\\t\\xc0\\x13\\x003\\x002\\x00\\x9a\\x00\\x99\\x00E\\x00D\\xc0\\x07\\xc0\\x11\\xc0\\x08\\xc0\\x12\\x00\\x16\\x00\\x13\\x00\\x9d\\xc0\\xa1\\xc0\\x9d\\xc0Q\\x00\\x9c\\xc0\\xa0\\xc0\\x9c\\xc0P\\x00=\\x00\\xc0\\x00<\\x00\\xba\\x005\\x00\\x84\\x00/\\x00\\x96\\x00A\\x00\\x05\\x00\\n\\x00\\xff\\x01\\x00\\x00j\\x00\\x00\\x00\\x0e\\x00\\x0c\\x00\\x00\\t127.0.0.1\\x00\\x0b\\x00\\x04\\x03\\x00\\x01\\x02\\x00\\n\\x00\\x0c\\x00\\n\\x00\\x1d\\x00\\x17\\x00\\x1e\\x00\\x19\\x00\\x18\\x00#\\x00\\x00\\x00\\x16\\x00\\x00\\x00\\x17\\x00\\x00\\x00\\r\\x000\\x00.\\x04\\x03\\x05\\x03\\x06\\x03\\x08\\x07\\x08\"]\n",
      "Bad pipe message: %s [b'\\t\\x08\\n\\x08\\x0b\\x08\\x04']\n",
      "Bad pipe message: %s [b'\\x08\\x06\\x04\\x01\\x05\\x01\\x06', b'', b'\\x03\\x03']\n",
      "Bad pipe message: %s [b'']\n",
      "Bad pipe message: %s [b'\\x1b\\xbd\\xdb\\xbfk\\x05\\xcbVQ/\\x01~\\x08\\\\\\xf64\\xe9\\x1c\\x00\\x00', b'\\x14\\xc0\\n\\x009\\x008\\x007\\x006\\xc0\\x0f\\xc0\\x05\\x005\\xc0\\x13\\xc0\\t\\x003\\x002\\x001\\x000\\xc0\\x0e\\xc0\\x04\\x00/\\x00\\x9a\\x00\\x99\\x00\\x98\\x00\\x97\\x00\\x96\\x00\\x07\\xc0\\x11\\xc0\\x07\\xc0\\x0c\\xc0\\x02\\x00\\x05\\x00\\x04\\x00\\xff']\n",
      "Bad pipe message: %s [b'', b'\\x02']\n",
      "Bad pipe message: %s [b'Z\\xd4V%\\x96\\xb3\\x957\\x01Ihe\\n\\x0b\\xc8k\\xf7\\xce\\x00\\x00\\xa2\\xc0\\x14\\xc0\\n\\x009\\x008\\x007\\x006\\x00\\x88\\x00\\x87\\x00\\x86\\x00\\x85\\xc0\\x19\\x00:\\x00\\x89\\xc0\\x0f\\xc0\\x05\\x005\\x00\\x84\\xc0\\x13\\xc0\\t\\x003\\x002\\x001\\x000\\x00\\x9a\\x00\\x99\\x00\\x98\\x00\\x97\\x00E\\x00D\\x00C\\x00B\\xc0\\x18\\x004\\x00\\x9b\\x00F\\xc0\\x0e\\xc0\\x04\\x00/\\x00\\x96\\x00A\\x00\\x07\\xc0\\x11\\xc0\\x07\\xc0\\x16\\x00\\x18\\xc0\\x0c\\xc0\\x02\\x00\\x05\\x00\\x04\\xc0\\x12\\xc0\\x08\\x00\\x16\\x00\\x13\\x00\\x10\\x00\\r\\xc0\\x17\\x00\\x1b\\xc0\\r\\xc0\\x03\\x00\\n\\x00\\x15\\x00', b'\\x0f\\x00\\x0c\\x00\\x1a\\x00\\t\\x00\\x14\\x00\\x11\\x00\\x19\\x00\\x08\\x00\\x06']\n",
      "Bad pipe message: %s [b'\\x05\\x02\\x06']\n",
      "Bad pipe message: %s [b'\\x90\\xdbY\\xd4\\x16z\\xf9:@n\\xd4\\xbcHZL?\\x9f/\\x00\\x00>\\xc0\\x14\\xc0\\n\\x009\\x008\\x007\\x006\\xc0\\x0f\\xc0\\x05\\x005\\xc0\\x13\\xc0\\t\\x003\\x002\\x001\\x000\\xc0\\x0e\\xc0\\x04\\x00/']\n",
      "Bad pipe message: %s [b'\\x1a\\x9f\\x89W\\xf4\\x8c\\x87\\xdb\\xeb\\xe4l\\xe56;k\\x8fC\\xf1\\x00\\x00\\xa2\\xc0\\x14\\xc0\\n\\x009\\x008\\x007\\x006\\x00\\x88\\x00\\x87\\x00\\x86\\x00\\x85\\xc0\\x19\\x00:\\x00\\x89\\xc0\\x0f\\xc0\\x05\\x00', b'\\x84\\xc0\\x13\\xc0\\t\\x003\\x002\\x001\\x000\\x00\\x9a\\x00\\x99\\x00\\x98\\x00\\x97\\x00E\\x00D\\x00C\\x00B\\xc0\\x18\\x004\\x00\\x9b\\x00F\\xc0\\x0e\\xc0\\x04\\x00/\\x00\\x96\\x00A\\x00\\x07\\xc0\\x11\\xc0']\n",
      "Bad pipe message: %s [b'\\x16\\x00\\x18\\xc0\\x0c\\xc0']\n",
      "Bad pipe message: %s [b'\\x05']\n",
      "Bad pipe message: %s [b'\\x8c\\xd4\\xe6\\xf3\\xfdB\\xcdz\\x0b\\xfa\\xdcU\\xe1D\\xe9\\x89^\\xae\\x00\\x00>\\xc0\\x14\\xc0\\n\\x009\\x008\\x007\\x006\\xc0\\x0f\\xc0\\x05\\x005\\xc0\\x13\\xc0\\t\\x003\\x002\\x001\\x000\\xc0\\x0e\\xc0\\x04\\x00/\\x00\\x9a\\x00\\x99\\x00\\x98\\x00\\x97\\x00\\x96\\x00\\x07\\xc0\\x11\\xc0\\x07\\xc0\\x0c\\xc0\\x02\\x00\\x05\\x00\\x04\\x00\\xff\\x02']\n",
      "Bad pipe message: %s [b'']\n",
      "Bad pipe message: %s [b\"\\r{\\x03':\\x07\\xa2\\x06\\xcb\\xed\\xbc\\xd6\\xd38>\\xb3@n\\x00\\x00\\x86\\xc00\\xc0,\\xc0(\", b\"\\xc0\\x14\\xc0\\n\\x00\\xa5\\x00\\xa3\\x00\\xa1\\x00\\x9f\\x00k\\x00j\\x00i\\x00h\\x009\\x008\\x007\\x006\\xc02\\xc0.\\xc0*\\xc0&\\xc0\\x0f\\xc0\\x05\\x00\\x9d\\x00=\\x005\\xc0/\\xc0+\\xc0'\\xc0#\\xc0\\x13\\xc0\\t\\x00\\xa4\\x00\\xa2\\x00\\xa0\\x00\\x9e\\x00g\\x00@\\x00?\\x00>\\x003\\x002\\x001\\x000\\xc01\\xc0-\\xc0)\\xc0%\\xc0\\x0e\\xc0\\x04\\x00\\x9c\\x00<\\x00/\\x00\\x9a\\x00\\x99\\x00\\x98\\x00\\x97\\x00\\x96\\x00\\x07\\xc0\\x11\\xc0\\x07\\xc0\\x0c\\xc0\\x02\\x00\\x05\\x00\\x04\\x00\\xff\\x02\\x01\\x00\\x00g\\x00\\x00\\x00\\x0e\\x00\\x0c\\x00\\x00\\t127.0.0.1\\x00\\x0b\\x00\\x04\\x03\\x00\\x01\\x02\\x00\\n\\x00\\x1c\\x00\\x1a\\x00\\x17\\x00\\x19\\x00\\x1c\\x00\\x1b\\x00\\x18\\x00\\x1a\\x00\\x16\\x00\\x0e\\x00\\r\\x00\\x0b\\x00\\x0c\\x00\\t\\x00\\n\\x00#\"]\n",
      "Bad pipe message: %s [b\"\\x14z\\xa6;\\xd4\\xf7\\x0c\\xd2x\\x8f\\t\\xd2\\xfeK\\xfcBs\\x84\\x00\\x00\\xf4\\xc00\\xc0,\\xc0(\\xc0$\\xc0\\x14\\xc0\\n\\x00\\xa5\\x00\\xa3\\x00\\xa1\\x00\\x9f\\x00k\\x00j\\x00i\\x00h\\x009\\x008\\x007\\x006\\x00\\x88\\x00\\x87\\x00\\x86\\x00\\x85\\xc0\\x19\\x00\\xa7\\x00m\\x00:\\x00\\x89\\xc02\\xc0.\\xc0*\\xc0&\\xc0\\x0f\\xc0\\x05\\x00\\x9d\\x00=\\x005\\x00\\x84\\xc0/\\xc0+\\xc0'\\xc0#\\xc0\\x13\\xc0\\t\\x00\\xa4\\x00\\xa2\\x00\\xa0\\x00\\x9e\\x00g\\x00@\\x00?\\x00>\\x003\\x002\\x001\\x000\\x00\\x9a\\x00\\x99\\x00\\x98\\x00\\x97\\x00E\\x00D\\x00C\\x00B\\xc0\\x18\\x00\\xa6\\x00l\\x004\\x00\\x9b\\x00F\\xc01\\xc0-\\xc0)\\xc0%\\xc0\\x0e\\xc0\\x04\\x00\\x9c\\x00<\\x00/\\x00\\x96\\x00A\\x00\\x07\\xc0\\x11\\xc0\\x07\\xc0\\x16\\x00\\x18\\xc0\\x0c\\xc0\\x02\\x00\\x05\\x00\\x04\\xc0\\x12\\xc0\\x08\\x00\\x16\\x00\\x13\\x00\\x10\\x00\\r\"]\n",
      "[2024-05-14T23:56:56.370559+0000][130783][CRITICAL] load failed: module 'synthcity.plugins.generic.plugin_goggle' has no attribute 'plugin'\n",
      "[2024-05-14T23:56:56.371636+0000][130783][CRITICAL] load failed: module 'synthcity.plugins.generic.plugin_goggle' has no attribute 'plugin'\n",
      "[2024-05-14T23:56:56.371979+0000][130783][CRITICAL] module plugin_goggle load failed\n"
     ]
    },
    {
     "name": "stdout",
     "output_type": "stream",
     "text": [
      "Fitting dpgan covariate model\n"
     ]
    },
    {
     "name": "stderr",
     "output_type": "stream",
     "text": [
      "  0%|          | 0/2000 [00:00<?, ?it/s]\n"
     ]
    },
    {
     "ename": "RuntimeError",
     "evalue": "Mismatch in shape: grad_output[0] has a shape of torch.Size([1]) and output[0] has a shape of torch.Size([]).",
     "output_type": "error",
     "traceback": [
      "\u001b[0;31m---------------------------------------------------------------------------\u001b[0m",
      "\u001b[0;31mRuntimeError\u001b[0m                              Traceback (most recent call last)",
      "Cell \u001b[0;32mIn[284], line 1\u001b[0m\n\u001b[0;32m----> 1\u001b[0m test_2 \u001b[38;5;241m=\u001b[39m \u001b[43mprivacy_comparison\u001b[49m\u001b[43m(\u001b[49m\u001b[43mnormalized_jobs\u001b[49m\u001b[43m,\u001b[49m\u001b[43m \u001b[49m\u001b[38;5;124;43m'\u001b[39;49m\u001b[38;5;124;43mdpgan\u001b[39;49m\u001b[38;5;124;43m'\u001b[39;49m\u001b[43m,\u001b[49m\u001b[43m \u001b[49m\u001b[38;5;124;43m'\u001b[39;49m\u001b[38;5;124;43mtraining\u001b[39;49m\u001b[38;5;124;43m'\u001b[39;49m\u001b[43m,\u001b[49m\u001b[43m \u001b[49m\u001b[38;5;124;43m'\u001b[39;49m\u001b[38;5;124;43mre78\u001b[39;49m\u001b[38;5;124;43m'\u001b[39;49m\u001b[43m,\u001b[49m\u001b[43m \u001b[49m\u001b[43mdelta\u001b[49m\u001b[43m \u001b[49m\u001b[38;5;241;43m=\u001b[39;49m\u001b[43m \u001b[49m\u001b[38;5;241;43m1e-3\u001b[39;49m\u001b[43m,\u001b[49m\u001b[43m \u001b[49m\u001b[43mepsilons\u001b[49m\u001b[43m \u001b[49m\u001b[38;5;241;43m=\u001b[39;49m\u001b[43m \u001b[49m\u001b[43m[\u001b[49m\u001b[38;5;241;43m50\u001b[39;49m\u001b[43m]\u001b[49m\u001b[43m,\u001b[49m\u001b[43m \u001b[49m\u001b[43mn_iter\u001b[49m\u001b[43m \u001b[49m\u001b[38;5;241;43m=\u001b[39;49m\u001b[43m \u001b[49m\u001b[38;5;241;43m10\u001b[39;49m\u001b[43m,\u001b[49m\u001b[43m \u001b[49m\u001b[43msave\u001b[49m\u001b[38;5;241;43m=\u001b[39;49m\u001b[38;5;28;43;01mTrue\u001b[39;49;00m\u001b[43m,\u001b[49m\u001b[43m \u001b[49m\u001b[43mfp\u001b[49m\u001b[43m \u001b[49m\u001b[38;5;241;43m=\u001b[39;49m\u001b[38;5;124;43m'\u001b[39;49m\u001b[38;5;124;43mjobs_privacy_dpgan_normalized_100.csv\u001b[39;49m\u001b[38;5;124;43m'\u001b[39;49m\u001b[43m)\u001b[49m\n",
      "Cell \u001b[0;32mIn[153], line 11\u001b[0m, in \u001b[0;36mprivacy_comparison\u001b[0;34m(real, gen, treatment_col, outcome_col, delta, epsilons, n_iter, save, fp)\u001b[0m\n\u001b[1;32m      6\u001b[0m synth \u001b[38;5;241m=\u001b[39m generate_standard(real, gen, private\u001b[38;5;241m=\u001b[39m\u001b[38;5;28;01mTrue\u001b[39;00m, epsilon\u001b[38;5;241m=\u001b[39mepsilon, delta\u001b[38;5;241m=\u001b[39mdelta)\n\u001b[1;32m      8\u001b[0m results\u001b[38;5;241m.\u001b[39mloc[\u001b[38;5;28mlen\u001b[39m(results)] \u001b[38;5;241m=\u001b[39m [\u001b[38;5;124m'\u001b[39m\u001b[38;5;124mstandard\u001b[39m\u001b[38;5;124m'\u001b[39m, epsilon, evaluate_f(real, synth, treatment_col, outcome_col), evaluate_c(real, synth, treatment_col, outcome_col), \n\u001b[1;32m      9\u001b[0m                          evaluate_d(real, synth, treatment_col, outcome_col), evaluate_average_u_pehe(real, synth, treatment_col, outcome_col, n_units)]\n\u001b[0;32m---> 11\u001b[0m synth_seq \u001b[38;5;241m=\u001b[39m \u001b[43mgenerate_sequentially\u001b[49m\u001b[43m(\u001b[49m\u001b[43mreal\u001b[49m\u001b[43m,\u001b[49m\u001b[43m \u001b[49m\u001b[43mgen\u001b[49m\u001b[43m,\u001b[49m\u001b[43m \u001b[49m\u001b[43mtreatment_col\u001b[49m\u001b[43m,\u001b[49m\u001b[43m \u001b[49m\u001b[43moutcome_col\u001b[49m\u001b[43m,\u001b[49m\u001b[43m \u001b[49m\u001b[43mprivate\u001b[49m\u001b[38;5;241;43m=\u001b[39;49m\u001b[38;5;28;43;01mTrue\u001b[39;49;00m\u001b[43m,\u001b[49m\u001b[43m \u001b[49m\u001b[43mepsilon\u001b[49m\u001b[43m \u001b[49m\u001b[38;5;241;43m=\u001b[39;49m\u001b[43m \u001b[49m\u001b[43mepsilon\u001b[49m\u001b[38;5;241;43m/\u001b[39;49m\u001b[38;5;241;43m3\u001b[39;49m\u001b[43m,\u001b[49m\u001b[43m \u001b[49m\u001b[43mdelta\u001b[49m\u001b[38;5;241;43m=\u001b[39;49m\u001b[43mdelta\u001b[49m\u001b[38;5;241;43m/\u001b[39;49m\u001b[38;5;241;43m3\u001b[39;49m\u001b[43m)\u001b[49m\n\u001b[1;32m     13\u001b[0m results\u001b[38;5;241m.\u001b[39mloc[\u001b[38;5;28mlen\u001b[39m(results)] \u001b[38;5;241m=\u001b[39m [\u001b[38;5;124m'\u001b[39m\u001b[38;5;124msequential\u001b[39m\u001b[38;5;124m'\u001b[39m, epsilon, evaluate_f(real, synth_seq, treatment_col, outcome_col), evaluate_c(real, synth_seq, treatment_col, outcome_col), \n\u001b[1;32m     14\u001b[0m                          evaluate_d(real, synth_seq, treatment_col, outcome_col), evaluate_average_u_pehe(real, synth_seq, treatment_col, outcome_col, n_units)]\n\u001b[1;32m     16\u001b[0m \u001b[38;5;28;01mif\u001b[39;00m save:\n",
      "Cell \u001b[0;32mIn[34], line 3\u001b[0m, in \u001b[0;36mgenerate_sequentially\u001b[0;34m(real, gen, treatment_col, outcome_col, encode, private, epsilon, delta)\u001b[0m\n\u001b[1;32m      1\u001b[0m \u001b[38;5;28;01mdef\u001b[39;00m \u001b[38;5;21mgenerate_sequentially\u001b[39m(real, gen, treatment_col, outcome_col, encode\u001b[38;5;241m=\u001b[39m\u001b[38;5;28;01mFalse\u001b[39;00m, private\u001b[38;5;241m=\u001b[39m\u001b[38;5;28;01mFalse\u001b[39;00m, epsilon\u001b[38;5;241m=\u001b[39m\u001b[38;5;28;01mNone\u001b[39;00m, delta\u001b[38;5;241m=\u001b[39m\u001b[38;5;28;01mNone\u001b[39;00m):\n\u001b[1;32m      2\u001b[0m     random\u001b[38;5;241m.\u001b[39mseed()\n\u001b[0;32m----> 3\u001b[0m     synth \u001b[38;5;241m=\u001b[39m \u001b[43mgenerate_sequentially_to_w\u001b[49m\u001b[43m(\u001b[49m\u001b[43mreal\u001b[49m\u001b[43m,\u001b[49m\u001b[43m \u001b[49m\u001b[43mgen\u001b[49m\u001b[43m,\u001b[49m\u001b[43m \u001b[49m\u001b[43mtreatment_col\u001b[49m\u001b[43m,\u001b[49m\u001b[43m \u001b[49m\u001b[43moutcome_col\u001b[49m\u001b[43m,\u001b[49m\u001b[43m \u001b[49m\u001b[43mencode\u001b[49m\u001b[38;5;241;43m=\u001b[39;49m\u001b[43mencode\u001b[49m\u001b[43m,\u001b[49m\u001b[43m \u001b[49m\u001b[43mprivate\u001b[49m\u001b[38;5;241;43m=\u001b[39;49m\u001b[43mprivate\u001b[49m\u001b[43m,\u001b[49m\u001b[43m \u001b[49m\u001b[43mepsilon\u001b[49m\u001b[38;5;241;43m=\u001b[39;49m\u001b[43mepsilon\u001b[49m\u001b[43m,\u001b[49m\u001b[43m \u001b[49m\u001b[43mdelta\u001b[49m\u001b[38;5;241;43m=\u001b[39;49m\u001b[43mdelta\u001b[49m\u001b[43m)\u001b[49m\n\u001b[1;32m      5\u001b[0m     X \u001b[38;5;241m=\u001b[39m np\u001b[38;5;241m.\u001b[39marray(real\u001b[38;5;241m.\u001b[39mdrop([treatment_col, outcome_col], axis\u001b[38;5;241m=\u001b[39m\u001b[38;5;241m1\u001b[39m))\n\u001b[1;32m      6\u001b[0m     y \u001b[38;5;241m=\u001b[39m np\u001b[38;5;241m.\u001b[39marray(real[outcome_col])\n",
      "Cell \u001b[0;32mIn[23], line 11\u001b[0m, in \u001b[0;36mgenerate_sequentially_to_w\u001b[0;34m(real, gen, treatment_col, outcome_col, encode, private, epsilon, delta)\u001b[0m\n\u001b[1;32m      9\u001b[0m real_cov \u001b[38;5;241m=\u001b[39m real\u001b[38;5;241m.\u001b[39mdrop([treatment_col, outcome_col], axis\u001b[38;5;241m=\u001b[39m\u001b[38;5;241m1\u001b[39m)\n\u001b[1;32m     10\u001b[0m \u001b[38;5;28mprint\u001b[39m(\u001b[38;5;124mf\u001b[39m\u001b[38;5;124m'\u001b[39m\u001b[38;5;124mFitting \u001b[39m\u001b[38;5;132;01m{\u001b[39;00mgen\u001b[38;5;132;01m}\u001b[39;00m\u001b[38;5;124m covariate model\u001b[39m\u001b[38;5;124m'\u001b[39m)\n\u001b[0;32m---> 11\u001b[0m \u001b[43mg\u001b[49m\u001b[38;5;241;43m.\u001b[39;49m\u001b[43mfit\u001b[49m\u001b[43m(\u001b[49m\u001b[43mreal_cov\u001b[49m\u001b[43m)\u001b[49m\n\u001b[1;32m     12\u001b[0m \u001b[38;5;28mprint\u001b[39m(\u001b[38;5;124mf\u001b[39m\u001b[38;5;124m'\u001b[39m\u001b[38;5;124mGenerating \u001b[39m\u001b[38;5;132;01m{\u001b[39;00mgen\u001b[38;5;132;01m}\u001b[39;00m\u001b[38;5;124m synthetic covariates\u001b[39m\u001b[38;5;124m'\u001b[39m)\n\u001b[1;32m     13\u001b[0m synth_cov \u001b[38;5;241m=\u001b[39m g\u001b[38;5;241m.\u001b[39mgenerate(count \u001b[38;5;241m=\u001b[39m \u001b[38;5;28mlen\u001b[39m(real))\u001b[38;5;241m.\u001b[39mdataframe()\n",
      "File \u001b[0;32m/anaconda/envs/azureml_py310_sdkv2/lib/python3.10/site-packages/pydantic/decorator.py:40\u001b[0m, in \u001b[0;36mpydantic.decorator.validate_arguments.validate.wrapper_function\u001b[0;34m()\u001b[0m\n",
      "File \u001b[0;32m/anaconda/envs/azureml_py310_sdkv2/lib/python3.10/site-packages/pydantic/decorator.py:134\u001b[0m, in \u001b[0;36mpydantic.decorator.ValidatedFunction.call\u001b[0;34m()\u001b[0m\n",
      "File \u001b[0;32m/anaconda/envs/azureml_py310_sdkv2/lib/python3.10/site-packages/pydantic/decorator.py:206\u001b[0m, in \u001b[0;36mpydantic.decorator.ValidatedFunction.execute\u001b[0;34m()\u001b[0m\n",
      "File \u001b[0;32m/anaconda/envs/azureml_py310_sdkv2/lib/python3.10/site-packages/synthcity/plugins/core/plugin.py:256\u001b[0m, in \u001b[0;36mPlugin.fit\u001b[0;34m(self, X, *args, **kwargs)\u001b[0m\n\u001b[1;32m    248\u001b[0m         X, \u001b[38;5;28mself\u001b[39m\u001b[38;5;241m.\u001b[39mcompress_context \u001b[38;5;241m=\u001b[39m load_from_file(bkp_file)\n\u001b[1;32m    250\u001b[0m \u001b[38;5;28mself\u001b[39m\u001b[38;5;241m.\u001b[39m_training_schema \u001b[38;5;241m=\u001b[39m Schema(\n\u001b[1;32m    251\u001b[0m     data\u001b[38;5;241m=\u001b[39mX,\n\u001b[1;32m    252\u001b[0m     sampling_strategy\u001b[38;5;241m=\u001b[39m\u001b[38;5;28mself\u001b[39m\u001b[38;5;241m.\u001b[39msampling_strategy,\n\u001b[1;32m    253\u001b[0m     random_state\u001b[38;5;241m=\u001b[39m\u001b[38;5;28mself\u001b[39m\u001b[38;5;241m.\u001b[39mrandom_state,\n\u001b[1;32m    254\u001b[0m )\n\u001b[0;32m--> 256\u001b[0m output \u001b[38;5;241m=\u001b[39m \u001b[38;5;28;43mself\u001b[39;49m\u001b[38;5;241;43m.\u001b[39;49m\u001b[43m_fit\u001b[49m\u001b[43m(\u001b[49m\u001b[43mX\u001b[49m\u001b[43m,\u001b[49m\u001b[43m \u001b[49m\u001b[38;5;241;43m*\u001b[39;49m\u001b[43margs\u001b[49m\u001b[43m,\u001b[49m\u001b[43m \u001b[49m\u001b[38;5;241;43m*\u001b[39;49m\u001b[38;5;241;43m*\u001b[39;49m\u001b[43mkwargs\u001b[49m\u001b[43m)\u001b[49m\n\u001b[1;32m    257\u001b[0m \u001b[38;5;28mself\u001b[39m\u001b[38;5;241m.\u001b[39mfitted \u001b[38;5;241m=\u001b[39m \u001b[38;5;28;01mTrue\u001b[39;00m\n\u001b[1;32m    259\u001b[0m \u001b[38;5;28;01mreturn\u001b[39;00m output\n",
      "File \u001b[0;32m/anaconda/envs/azureml_py310_sdkv2/lib/python3.10/site-packages/synthcity/plugins/privacy/plugin_dpgan.py:287\u001b[0m, in \u001b[0;36mDPGANPlugin._fit\u001b[0;34m(self, X, *args, **kwargs)\u001b[0m\n\u001b[1;32m    240\u001b[0m     cond \u001b[38;5;241m=\u001b[39m kwargs[\u001b[38;5;124m\"\u001b[39m\u001b[38;5;124mcond\u001b[39m\u001b[38;5;124m\"\u001b[39m]\n\u001b[1;32m    242\u001b[0m \u001b[38;5;28mself\u001b[39m\u001b[38;5;241m.\u001b[39mmodel \u001b[38;5;241m=\u001b[39m TabularGAN(\n\u001b[1;32m    243\u001b[0m     X\u001b[38;5;241m.\u001b[39mdataframe(),\n\u001b[1;32m    244\u001b[0m     cond\u001b[38;5;241m=\u001b[39mcond,\n\u001b[0;32m   (...)\u001b[0m\n\u001b[1;32m    285\u001b[0m     n_iter_print\u001b[38;5;241m=\u001b[39m\u001b[38;5;28mself\u001b[39m\u001b[38;5;241m.\u001b[39mn_iter_print,\n\u001b[1;32m    286\u001b[0m )\n\u001b[0;32m--> 287\u001b[0m \u001b[38;5;28;43mself\u001b[39;49m\u001b[38;5;241;43m.\u001b[39;49m\u001b[43mmodel\u001b[49m\u001b[38;5;241;43m.\u001b[39;49m\u001b[43mfit\u001b[49m\u001b[43m(\u001b[49m\u001b[43mX\u001b[49m\u001b[38;5;241;43m.\u001b[39;49m\u001b[43mdataframe\u001b[49m\u001b[43m(\u001b[49m\u001b[43m)\u001b[49m\u001b[43m,\u001b[49m\u001b[43m \u001b[49m\u001b[43mcond\u001b[49m\u001b[38;5;241;43m=\u001b[39;49m\u001b[43mcond\u001b[49m\u001b[43m)\u001b[49m\n\u001b[1;32m    289\u001b[0m \u001b[38;5;28;01mreturn\u001b[39;00m \u001b[38;5;28mself\u001b[39m\n",
      "File \u001b[0;32m/anaconda/envs/azureml_py310_sdkv2/lib/python3.10/site-packages/pydantic/decorator.py:40\u001b[0m, in \u001b[0;36mpydantic.decorator.validate_arguments.validate.wrapper_function\u001b[0;34m()\u001b[0m\n",
      "File \u001b[0;32m/anaconda/envs/azureml_py310_sdkv2/lib/python3.10/site-packages/pydantic/decorator.py:134\u001b[0m, in \u001b[0;36mpydantic.decorator.ValidatedFunction.call\u001b[0;34m()\u001b[0m\n",
      "File \u001b[0;32m/anaconda/envs/azureml_py310_sdkv2/lib/python3.10/site-packages/pydantic/decorator.py:206\u001b[0m, in \u001b[0;36mpydantic.decorator.ValidatedFunction.execute\u001b[0;34m()\u001b[0m\n",
      "File \u001b[0;32m/anaconda/envs/azureml_py310_sdkv2/lib/python3.10/site-packages/synthcity/plugins/core/models/tabular_gan.py:358\u001b[0m, in \u001b[0;36mTabularGAN.fit\u001b[0;34m(self, X, cond, fake_labels_generator, true_labels_generator, encoded)\u001b[0m\n\u001b[1;32m    353\u001b[0m         \u001b[38;5;28;01mraise\u001b[39;00m \u001b[38;5;167;01mValueError\u001b[39;00m(\n\u001b[1;32m    354\u001b[0m             \u001b[38;5;124mf\u001b[39m\u001b[38;5;124m\"\u001b[39m\u001b[38;5;124mInvalid conditional shape. \u001b[39m\u001b[38;5;132;01m{\u001b[39;00mcond\u001b[38;5;241m.\u001b[39mshape\u001b[38;5;132;01m}\u001b[39;00m\u001b[38;5;124m expected \u001b[39m\u001b[38;5;132;01m{\u001b[39;00m\u001b[38;5;28mlen\u001b[39m(X_enc)\u001b[38;5;132;01m}\u001b[39;00m\u001b[38;5;124m\"\u001b[39m\n\u001b[1;32m    355\u001b[0m         )\n\u001b[1;32m    357\u001b[0m \u001b[38;5;66;03m# training\u001b[39;00m\n\u001b[0;32m--> 358\u001b[0m \u001b[38;5;28;43mself\u001b[39;49m\u001b[38;5;241;43m.\u001b[39;49m\u001b[43mmodel\u001b[49m\u001b[38;5;241;43m.\u001b[39;49m\u001b[43mfit\u001b[49m\u001b[43m(\u001b[49m\n\u001b[1;32m    359\u001b[0m \u001b[43m    \u001b[49m\u001b[43mnp\u001b[49m\u001b[38;5;241;43m.\u001b[39;49m\u001b[43masarray\u001b[49m\u001b[43m(\u001b[49m\u001b[43mX_enc\u001b[49m\u001b[43m)\u001b[49m\u001b[43m,\u001b[49m\n\u001b[1;32m    360\u001b[0m \u001b[43m    \u001b[49m\u001b[43mnp\u001b[49m\u001b[38;5;241;43m.\u001b[39;49m\u001b[43masarray\u001b[49m\u001b[43m(\u001b[49m\u001b[43mcond\u001b[49m\u001b[43m)\u001b[49m\u001b[43m,\u001b[49m\n\u001b[1;32m    361\u001b[0m \u001b[43m    \u001b[49m\u001b[43mfake_labels_generator\u001b[49m\u001b[38;5;241;43m=\u001b[39;49m\u001b[43mfake_labels_generator\u001b[49m\u001b[43m,\u001b[49m\n\u001b[1;32m    362\u001b[0m \u001b[43m    \u001b[49m\u001b[43mtrue_labels_generator\u001b[49m\u001b[38;5;241;43m=\u001b[39;49m\u001b[43mtrue_labels_generator\u001b[49m\u001b[43m,\u001b[49m\n\u001b[1;32m    363\u001b[0m \u001b[43m\u001b[49m\u001b[43m)\u001b[49m\n\u001b[1;32m    365\u001b[0m \u001b[38;5;66;03m# post processing\u001b[39;00m\n\u001b[1;32m    366\u001b[0m \u001b[38;5;28mself\u001b[39m\u001b[38;5;241m.\u001b[39madjust_inference_sampling(\u001b[38;5;28mself\u001b[39m\u001b[38;5;241m.\u001b[39m_adjust_inference_sampling)\n",
      "File \u001b[0;32m/anaconda/envs/azureml_py310_sdkv2/lib/python3.10/site-packages/synthcity/plugins/core/models/gan.py:278\u001b[0m, in \u001b[0;36mGAN.fit\u001b[0;34m(self, X, cond, fake_labels_generator, true_labels_generator)\u001b[0m\n\u001b[1;32m    272\u001b[0m         \u001b[38;5;28;01mraise\u001b[39;00m \u001b[38;5;167;01mValueError\u001b[39;00m(\n\u001b[1;32m    273\u001b[0m             \u001b[38;5;124m\"\u001b[39m\u001b[38;5;124mExpecting conditional with the same length as the dataset\u001b[39m\u001b[38;5;124m\"\u001b[39m\n\u001b[1;32m    274\u001b[0m         )\n\u001b[1;32m    276\u001b[0m     condt \u001b[38;5;241m=\u001b[39m \u001b[38;5;28mself\u001b[39m\u001b[38;5;241m.\u001b[39m_check_tensor(cond)\n\u001b[0;32m--> 278\u001b[0m \u001b[38;5;28;43mself\u001b[39;49m\u001b[38;5;241;43m.\u001b[39;49m\u001b[43m_train\u001b[49m\u001b[43m(\u001b[49m\n\u001b[1;32m    279\u001b[0m \u001b[43m    \u001b[49m\u001b[43mXt\u001b[49m\u001b[43m,\u001b[49m\n\u001b[1;32m    280\u001b[0m \u001b[43m    \u001b[49m\u001b[43mcondt\u001b[49m\u001b[43m,\u001b[49m\n\u001b[1;32m    281\u001b[0m \u001b[43m    \u001b[49m\u001b[43mfake_labels_generator\u001b[49m\u001b[38;5;241;43m=\u001b[39;49m\u001b[43mfake_labels_generator\u001b[49m\u001b[43m,\u001b[49m\n\u001b[1;32m    282\u001b[0m \u001b[43m    \u001b[49m\u001b[43mtrue_labels_generator\u001b[49m\u001b[38;5;241;43m=\u001b[39;49m\u001b[43mtrue_labels_generator\u001b[49m\u001b[43m,\u001b[49m\n\u001b[1;32m    283\u001b[0m \u001b[43m\u001b[49m\u001b[43m)\u001b[49m\n\u001b[1;32m    285\u001b[0m \u001b[38;5;28;01mreturn\u001b[39;00m \u001b[38;5;28mself\u001b[39m\n",
      "File \u001b[0;32m/anaconda/envs/azureml_py310_sdkv2/lib/python3.10/site-packages/synthcity/plugins/core/models/gan.py:616\u001b[0m, in \u001b[0;36mGAN._train\u001b[0;34m(self, X, cond, fake_labels_generator, true_labels_generator)\u001b[0m\n\u001b[1;32m    613\u001b[0m best_state_dict \u001b[38;5;241m=\u001b[39m \u001b[38;5;28;01mNone\u001b[39;00m\n\u001b[1;32m    615\u001b[0m \u001b[38;5;28;01mfor\u001b[39;00m i \u001b[38;5;129;01min\u001b[39;00m tqdm(\u001b[38;5;28mrange\u001b[39m(\u001b[38;5;28mself\u001b[39m\u001b[38;5;241m.\u001b[39mgenerator_n_iter)):\n\u001b[0;32m--> 616\u001b[0m     g_loss, d_loss \u001b[38;5;241m=\u001b[39m \u001b[38;5;28;43mself\u001b[39;49m\u001b[38;5;241;43m.\u001b[39;49m\u001b[43m_train_epoch\u001b[49m\u001b[43m(\u001b[49m\n\u001b[1;32m    617\u001b[0m \u001b[43m        \u001b[49m\u001b[43mloader\u001b[49m\u001b[43m,\u001b[49m\n\u001b[1;32m    618\u001b[0m \u001b[43m        \u001b[49m\u001b[43mfake_labels_generator\u001b[49m\u001b[38;5;241;43m=\u001b[39;49m\u001b[43mfake_labels_generator\u001b[49m\u001b[43m,\u001b[49m\n\u001b[1;32m    619\u001b[0m \u001b[43m        \u001b[49m\u001b[43mtrue_labels_generator\u001b[49m\u001b[38;5;241;43m=\u001b[39;49m\u001b[43mtrue_labels_generator\u001b[49m\u001b[43m,\u001b[49m\n\u001b[1;32m    620\u001b[0m \u001b[43m    \u001b[49m\u001b[43m)\u001b[49m\n\u001b[1;32m    621\u001b[0m     \u001b[38;5;66;03m# Check how the generator is doing by saving G's output on fixed_noise\u001b[39;00m\n\u001b[1;32m    622\u001b[0m     \u001b[38;5;28;01mif\u001b[39;00m (i \u001b[38;5;241m+\u001b[39m \u001b[38;5;241m1\u001b[39m) \u001b[38;5;241m%\u001b[39m \u001b[38;5;28mself\u001b[39m\u001b[38;5;241m.\u001b[39mn_iter_print \u001b[38;5;241m==\u001b[39m \u001b[38;5;241m0\u001b[39m:\n",
      "File \u001b[0;32m/anaconda/envs/azureml_py310_sdkv2/lib/python3.10/site-packages/synthcity/plugins/core/models/gan.py:493\u001b[0m, in \u001b[0;36mGAN._train_epoch\u001b[0;34m(self, loader, fake_labels_generator, true_labels_generator)\u001b[0m\n\u001b[1;32m    489\u001b[0m     \u001b[38;5;28;01melse\u001b[39;00m:\n\u001b[1;32m    490\u001b[0m         X \u001b[38;5;241m=\u001b[39m data[\u001b[38;5;241m0\u001b[39m]\n\u001b[1;32m    492\u001b[0m     D_losses\u001b[38;5;241m.\u001b[39mappend(\n\u001b[0;32m--> 493\u001b[0m         \u001b[38;5;28;43mself\u001b[39;49m\u001b[38;5;241;43m.\u001b[39;49m\u001b[43m_train_epoch_discriminator\u001b[49m\u001b[43m(\u001b[49m\n\u001b[1;32m    494\u001b[0m \u001b[43m            \u001b[49m\u001b[43mX\u001b[49m\u001b[43m,\u001b[49m\n\u001b[1;32m    495\u001b[0m \u001b[43m            \u001b[49m\u001b[43mcond\u001b[49m\u001b[43m,\u001b[49m\n\u001b[1;32m    496\u001b[0m \u001b[43m            \u001b[49m\u001b[43mfake_labels_generator\u001b[49m\u001b[38;5;241;43m=\u001b[39;49m\u001b[43mfake_labels_generator\u001b[49m\u001b[43m,\u001b[49m\n\u001b[1;32m    497\u001b[0m \u001b[43m            \u001b[49m\u001b[43mtrue_labels_generator\u001b[49m\u001b[38;5;241;43m=\u001b[39;49m\u001b[43mtrue_labels_generator\u001b[49m\u001b[43m,\u001b[49m\n\u001b[1;32m    498\u001b[0m \u001b[43m        \u001b[49m\u001b[43m)\u001b[49m\n\u001b[1;32m    499\u001b[0m     )\n\u001b[1;32m    500\u001b[0m     G_losses\u001b[38;5;241m.\u001b[39mappend(\n\u001b[1;32m    501\u001b[0m         \u001b[38;5;28mself\u001b[39m\u001b[38;5;241m.\u001b[39m_train_epoch_generator(\n\u001b[1;32m    502\u001b[0m             X,\n\u001b[0;32m   (...)\u001b[0m\n\u001b[1;32m    506\u001b[0m         )\n\u001b[1;32m    507\u001b[0m     )\n\u001b[1;32m    509\u001b[0m \u001b[38;5;28;01mreturn\u001b[39;00m np\u001b[38;5;241m.\u001b[39mmean(G_losses), np\u001b[38;5;241m.\u001b[39mmean(D_losses)\n",
      "File \u001b[0;32m/anaconda/envs/azureml_py310_sdkv2/lib/python3.10/site-packages/synthcity/plugins/core/models/gan.py:433\u001b[0m, in \u001b[0;36mGAN._train_epoch_discriminator\u001b[0;34m(self, X, cond, fake_labels_generator, true_labels_generator)\u001b[0m\n\u001b[1;32m    430\u001b[0m fake_fake_output \u001b[38;5;241m=\u001b[39m fake_output[((\u001b[38;5;241m1\u001b[39m \u001b[38;5;241m-\u001b[39m fake_labels) \u001b[38;5;241m*\u001b[39m fake_output) \u001b[38;5;241m!=\u001b[39m \u001b[38;5;241m0\u001b[39m]\n\u001b[1;32m    431\u001b[0m errD_fake \u001b[38;5;241m=\u001b[39m torch\u001b[38;5;241m.\u001b[39mmean(torch\u001b[38;5;241m.\u001b[39mconcat((fake_real_output, fake_fake_output)))\n\u001b[0;32m--> 433\u001b[0m penalty \u001b[38;5;241m=\u001b[39m \u001b[38;5;28;43mself\u001b[39;49m\u001b[38;5;241;43m.\u001b[39;49m\u001b[43m_loss_gradient_penalty\u001b[49m\u001b[43m(\u001b[49m\n\u001b[1;32m    434\u001b[0m \u001b[43m    \u001b[49m\u001b[43mreal_samples\u001b[49m\u001b[38;5;241;43m=\u001b[39;49m\u001b[43mreal_X\u001b[49m\u001b[43m,\u001b[49m\n\u001b[1;32m    435\u001b[0m \u001b[43m    \u001b[49m\u001b[43mfake_samples\u001b[49m\u001b[38;5;241;43m=\u001b[39;49m\u001b[43mfake\u001b[49m\u001b[43m,\u001b[49m\n\u001b[1;32m    436\u001b[0m \u001b[43m    \u001b[49m\u001b[43mbatch_size\u001b[49m\u001b[38;5;241;43m=\u001b[39;49m\u001b[43mbatch_size\u001b[49m\u001b[43m,\u001b[49m\n\u001b[1;32m    437\u001b[0m \u001b[43m\u001b[49m\u001b[43m)\u001b[49m\n\u001b[1;32m    438\u001b[0m errD \u001b[38;5;241m=\u001b[39m \u001b[38;5;241m-\u001b[39merrD_real \u001b[38;5;241m+\u001b[39m errD_fake\n\u001b[1;32m    440\u001b[0m \u001b[38;5;28mself\u001b[39m\u001b[38;5;241m.\u001b[39mdiscriminator\u001b[38;5;241m.\u001b[39moptimizer\u001b[38;5;241m.\u001b[39mzero_grad()\n",
      "File \u001b[0;32m/anaconda/envs/azureml_py310_sdkv2/lib/python3.10/site-packages/synthcity/plugins/core/models/gan.py:689\u001b[0m, in \u001b[0;36mGAN._loss_gradient_penalty\u001b[0;34m(self, real_samples, fake_samples, batch_size)\u001b[0m\n\u001b[1;32m    686\u001b[0m labels \u001b[38;5;241m=\u001b[39m torch\u001b[38;5;241m.\u001b[39mones((\u001b[38;5;28mlen\u001b[39m(interpolated),), device\u001b[38;5;241m=\u001b[39m\u001b[38;5;28mself\u001b[39m\u001b[38;5;241m.\u001b[39mdevice)\n\u001b[1;32m    688\u001b[0m \u001b[38;5;66;03m# Get gradient w.r.t. interpolates\u001b[39;00m\n\u001b[0;32m--> 689\u001b[0m gradients \u001b[38;5;241m=\u001b[39m \u001b[43mtorch\u001b[49m\u001b[38;5;241;43m.\u001b[39;49m\u001b[43mautograd\u001b[49m\u001b[38;5;241;43m.\u001b[39;49m\u001b[43mgrad\u001b[49m\u001b[43m(\u001b[49m\n\u001b[1;32m    690\u001b[0m \u001b[43m    \u001b[49m\u001b[43moutputs\u001b[49m\u001b[38;5;241;43m=\u001b[39;49m\u001b[43md_interpolated\u001b[49m\u001b[43m,\u001b[49m\n\u001b[1;32m    691\u001b[0m \u001b[43m    \u001b[49m\u001b[43minputs\u001b[49m\u001b[38;5;241;43m=\u001b[39;49m\u001b[43minterpolated\u001b[49m\u001b[43m,\u001b[49m\n\u001b[1;32m    692\u001b[0m \u001b[43m    \u001b[49m\u001b[43mgrad_outputs\u001b[49m\u001b[38;5;241;43m=\u001b[39;49m\u001b[43mlabels\u001b[49m\u001b[43m,\u001b[49m\n\u001b[1;32m    693\u001b[0m \u001b[43m    \u001b[49m\u001b[43mcreate_graph\u001b[49m\u001b[38;5;241;43m=\u001b[39;49m\u001b[38;5;28;43;01mTrue\u001b[39;49;00m\u001b[43m,\u001b[49m\n\u001b[1;32m    694\u001b[0m \u001b[43m    \u001b[49m\u001b[43mretain_graph\u001b[49m\u001b[38;5;241;43m=\u001b[39;49m\u001b[38;5;28;43;01mTrue\u001b[39;49;00m\u001b[43m,\u001b[49m\n\u001b[1;32m    695\u001b[0m \u001b[43m    \u001b[49m\u001b[43monly_inputs\u001b[49m\u001b[38;5;241;43m=\u001b[39;49m\u001b[38;5;28;43;01mTrue\u001b[39;49;00m\u001b[43m,\u001b[49m\n\u001b[1;32m    696\u001b[0m \u001b[43m    \u001b[49m\u001b[43mallow_unused\u001b[49m\u001b[38;5;241;43m=\u001b[39;49m\u001b[38;5;28;43;01mTrue\u001b[39;49;00m\u001b[43m,\u001b[49m\n\u001b[1;32m    697\u001b[0m \u001b[43m\u001b[49m\u001b[43m)\u001b[49m[\u001b[38;5;241m0\u001b[39m]\n\u001b[1;32m    698\u001b[0m gradients \u001b[38;5;241m=\u001b[39m gradients\u001b[38;5;241m.\u001b[39mview(gradients\u001b[38;5;241m.\u001b[39msize(\u001b[38;5;241m0\u001b[39m), \u001b[38;5;241m-\u001b[39m\u001b[38;5;241m1\u001b[39m)\n\u001b[1;32m    699\u001b[0m gradient_penalty \u001b[38;5;241m=\u001b[39m ((gradients\u001b[38;5;241m.\u001b[39mnorm(\u001b[38;5;241m2\u001b[39m, dim\u001b[38;5;241m=\u001b[39m\u001b[38;5;241m-\u001b[39m\u001b[38;5;241m1\u001b[39m) \u001b[38;5;241m-\u001b[39m \u001b[38;5;241m1\u001b[39m) \u001b[38;5;241m*\u001b[39m\u001b[38;5;241m*\u001b[39m \u001b[38;5;241m2\u001b[39m)\u001b[38;5;241m.\u001b[39mmean()\n",
      "File \u001b[0;32m/anaconda/envs/azureml_py310_sdkv2/lib/python3.10/site-packages/torch/autograd/__init__.py:285\u001b[0m, in \u001b[0;36mgrad\u001b[0;34m(outputs, inputs, grad_outputs, retain_graph, create_graph, only_inputs, allow_unused, is_grads_batched)\u001b[0m\n\u001b[1;32m    280\u001b[0m     warnings\u001b[38;5;241m.\u001b[39mwarn(\u001b[38;5;124m\"\u001b[39m\u001b[38;5;124monly_inputs argument is deprecated and is ignored now \u001b[39m\u001b[38;5;124m\"\u001b[39m\n\u001b[1;32m    281\u001b[0m                   \u001b[38;5;124m\"\u001b[39m\u001b[38;5;124m(defaults to True). To accumulate gradient for other \u001b[39m\u001b[38;5;124m\"\u001b[39m\n\u001b[1;32m    282\u001b[0m                   \u001b[38;5;124m\"\u001b[39m\u001b[38;5;124mparts of the graph, please use torch.autograd.backward.\u001b[39m\u001b[38;5;124m\"\u001b[39m)\n\u001b[1;32m    284\u001b[0m grad_outputs_ \u001b[38;5;241m=\u001b[39m _tensor_or_tensors_to_tuple(grad_outputs, \u001b[38;5;28mlen\u001b[39m(t_outputs))\n\u001b[0;32m--> 285\u001b[0m grad_outputs_ \u001b[38;5;241m=\u001b[39m \u001b[43m_make_grads\u001b[49m\u001b[43m(\u001b[49m\u001b[43mt_outputs\u001b[49m\u001b[43m,\u001b[49m\u001b[43m \u001b[49m\u001b[43mgrad_outputs_\u001b[49m\u001b[43m,\u001b[49m\u001b[43m \u001b[49m\u001b[43mis_grads_batched\u001b[49m\u001b[38;5;241;43m=\u001b[39;49m\u001b[43mis_grads_batched\u001b[49m\u001b[43m)\u001b[49m\n\u001b[1;32m    287\u001b[0m \u001b[38;5;28;01mif\u001b[39;00m retain_graph \u001b[38;5;129;01mis\u001b[39;00m \u001b[38;5;28;01mNone\u001b[39;00m:\n\u001b[1;32m    288\u001b[0m     retain_graph \u001b[38;5;241m=\u001b[39m create_graph\n",
      "File \u001b[0;32m/anaconda/envs/azureml_py310_sdkv2/lib/python3.10/site-packages/torch/autograd/__init__.py:68\u001b[0m, in \u001b[0;36m_make_grads\u001b[0;34m(outputs, grads, is_grads_batched)\u001b[0m\n\u001b[1;32m     56\u001b[0m         \u001b[38;5;28;01mraise\u001b[39;00m \u001b[38;5;167;01mRuntimeError\u001b[39;00m(\u001b[38;5;124m\"\u001b[39m\u001b[38;5;124mIf `is_grads_batched=True`, we interpret the first \u001b[39m\u001b[38;5;124m\"\u001b[39m\n\u001b[1;32m     57\u001b[0m                            \u001b[38;5;124m\"\u001b[39m\u001b[38;5;124mdimension of each grad_output as the batch dimension. \u001b[39m\u001b[38;5;124m\"\u001b[39m\n\u001b[1;32m     58\u001b[0m                            \u001b[38;5;124m\"\u001b[39m\u001b[38;5;124mThe sizes of the remaining dimensions are expected to match \u001b[39m\u001b[38;5;124m\"\u001b[39m\n\u001b[0;32m   (...)\u001b[0m\n\u001b[1;32m     65\u001b[0m                            \u001b[38;5;124m\"\u001b[39m\u001b[38;5;124mIf you only want some tensors in `grad_output` to be considered \u001b[39m\u001b[38;5;124m\"\u001b[39m\n\u001b[1;32m     66\u001b[0m                            \u001b[38;5;124m\"\u001b[39m\u001b[38;5;124mbatched, consider using vmap.\u001b[39m\u001b[38;5;124m\"\u001b[39m)\n\u001b[1;32m     67\u001b[0m     \u001b[38;5;28;01melse\u001b[39;00m:\n\u001b[0;32m---> 68\u001b[0m         \u001b[38;5;28;01mraise\u001b[39;00m \u001b[38;5;167;01mRuntimeError\u001b[39;00m(\u001b[38;5;124m\"\u001b[39m\u001b[38;5;124mMismatch in shape: grad_output[\u001b[39m\u001b[38;5;124m\"\u001b[39m\n\u001b[1;32m     69\u001b[0m                            \u001b[38;5;241m+\u001b[39m \u001b[38;5;28mstr\u001b[39m(grads\u001b[38;5;241m.\u001b[39mindex(grad)) \u001b[38;5;241m+\u001b[39m \u001b[38;5;124m\"\u001b[39m\u001b[38;5;124m] has a shape of \u001b[39m\u001b[38;5;124m\"\u001b[39m\n\u001b[1;32m     70\u001b[0m                            \u001b[38;5;241m+\u001b[39m \u001b[38;5;28mstr\u001b[39m(grad_shape) \u001b[38;5;241m+\u001b[39m \u001b[38;5;124m\"\u001b[39m\u001b[38;5;124m and output[\u001b[39m\u001b[38;5;124m\"\u001b[39m\n\u001b[1;32m     71\u001b[0m                            \u001b[38;5;241m+\u001b[39m \u001b[38;5;28mstr\u001b[39m(outputs\u001b[38;5;241m.\u001b[39mindex(out)) \u001b[38;5;241m+\u001b[39m \u001b[38;5;124m\"\u001b[39m\u001b[38;5;124m] has a shape of \u001b[39m\u001b[38;5;124m\"\u001b[39m\n\u001b[1;32m     72\u001b[0m                            \u001b[38;5;241m+\u001b[39m \u001b[38;5;28mstr\u001b[39m(out_shape) \u001b[38;5;241m+\u001b[39m \u001b[38;5;124m\"\u001b[39m\u001b[38;5;124m.\u001b[39m\u001b[38;5;124m\"\u001b[39m)\n\u001b[1;32m     73\u001b[0m \u001b[38;5;28;01mif\u001b[39;00m out\u001b[38;5;241m.\u001b[39mdtype\u001b[38;5;241m.\u001b[39mis_complex \u001b[38;5;241m!=\u001b[39m grad\u001b[38;5;241m.\u001b[39mdtype\u001b[38;5;241m.\u001b[39mis_complex:\n\u001b[1;32m     74\u001b[0m     \u001b[38;5;28;01mraise\u001b[39;00m \u001b[38;5;167;01mRuntimeError\u001b[39;00m(\u001b[38;5;124m\"\u001b[39m\u001b[38;5;124mFor complex Tensors, both grad_output and output\u001b[39m\u001b[38;5;124m\"\u001b[39m\n\u001b[1;32m     75\u001b[0m                        \u001b[38;5;124m\"\u001b[39m\u001b[38;5;124m are required to have the same dtype.\u001b[39m\u001b[38;5;124m\"\u001b[39m\n\u001b[1;32m     76\u001b[0m                        \u001b[38;5;124m\"\u001b[39m\u001b[38;5;124m Mismatch in dtype: grad_output[\u001b[39m\u001b[38;5;124m\"\u001b[39m\n\u001b[0;32m   (...)\u001b[0m\n\u001b[1;32m     79\u001b[0m                        \u001b[38;5;241m+\u001b[39m \u001b[38;5;28mstr\u001b[39m(outputs\u001b[38;5;241m.\u001b[39mindex(out)) \u001b[38;5;241m+\u001b[39m \u001b[38;5;124m\"\u001b[39m\u001b[38;5;124m] has a dtype of \u001b[39m\u001b[38;5;124m\"\u001b[39m\n\u001b[1;32m     80\u001b[0m                        \u001b[38;5;241m+\u001b[39m \u001b[38;5;28mstr\u001b[39m(out\u001b[38;5;241m.\u001b[39mdtype) \u001b[38;5;241m+\u001b[39m \u001b[38;5;124m\"\u001b[39m\u001b[38;5;124m.\u001b[39m\u001b[38;5;124m\"\u001b[39m)\n",
      "\u001b[0;31mRuntimeError\u001b[0m: Mismatch in shape: grad_output[0] has a shape of torch.Size([1]) and output[0] has a shape of torch.Size([])."
     ]
    }
   ],
   "source": [
    "test_2 = privacy_comparison(normalized_jobs, 'dpgan', 'training', 're78', delta = 1e-3, epsilons = [50], n_iter = 10, save=True, fp ='jobs_privacy_dpgan_normalized_100.csv')"
   ]
  },
  {
   "cell_type": "code",
   "execution_count": 277,
   "id": "6b31f154",
   "metadata": {},
   "outputs": [
    {
     "name": "stderr",
     "output_type": "stream",
     "text": [
      "[2024-05-14T12:21:31.114264+0000][130783][CRITICAL] load failed: module 'synthcity.plugins.generic.plugin_goggle' has no attribute 'plugin'\n",
      "[2024-05-14T12:21:31.115572+0000][130783][CRITICAL] load failed: module 'synthcity.plugins.generic.plugin_goggle' has no attribute 'plugin'\n",
      "[2024-05-14T12:21:31.116002+0000][130783][CRITICAL] module plugin_goggle load failed\n"
     ]
    },
    {
     "name": "stdout",
     "output_type": "stream",
     "text": [
      "Fitting dpgan model\n"
     ]
    },
    {
     "name": "stderr",
     "output_type": "stream",
     "text": [
      " 25%|██▍       | 499/2000 [00:40<02:00, 12.46it/s]\n"
     ]
    },
    {
     "name": "stdout",
     "output_type": "stream",
     "text": [
      "Generating dpgan synthetic dataset\n"
     ]
    },
    {
     "name": "stderr",
     "output_type": "stream",
     "text": [
      "[2024-05-14T12:22:42.613998+0000][130783][CRITICAL] load failed: module 'synthcity.plugins.generic.plugin_goggle' has no attribute 'plugin'\n",
      "[2024-05-14T12:22:42.615367+0000][130783][CRITICAL] load failed: module 'synthcity.plugins.generic.plugin_goggle' has no attribute 'plugin'\n",
      "[2024-05-14T12:22:42.615738+0000][130783][CRITICAL] module plugin_goggle load failed\n"
     ]
    },
    {
     "name": "stdout",
     "output_type": "stream",
     "text": [
      "Fitting dpgan covariate model\n"
     ]
    },
    {
     "name": "stderr",
     "output_type": "stream",
     "text": [
      " 25%|██▍       | 499/2000 [00:38<01:54, 13.07it/s]\n"
     ]
    },
    {
     "name": "stdout",
     "output_type": "stream",
     "text": [
      "Generating dpgan synthetic covariates\n",
      "Fitting propensity model\n",
      "Generating propensities\n",
      "Fitting private CATE learner\n",
      "Generating POs\n"
     ]
    },
    {
     "name": "stderr",
     "output_type": "stream",
     "text": [
      "[2024-05-14T12:24:09.461483+0000][130783][CRITICAL] load failed: module 'synthcity.plugins.generic.plugin_goggle' has no attribute 'plugin'\n",
      "[2024-05-14T12:24:09.462354+0000][130783][CRITICAL] load failed: module 'synthcity.plugins.generic.plugin_goggle' has no attribute 'plugin'\n",
      "[2024-05-14T12:24:09.462834+0000][130783][CRITICAL] module plugin_goggle load failed\n"
     ]
    },
    {
     "name": "stdout",
     "output_type": "stream",
     "text": [
      "saving results\n",
      "Fitting dpgan model\n"
     ]
    },
    {
     "name": "stderr",
     "output_type": "stream",
     "text": [
      " 35%|███▍      | 699/2000 [00:56<01:44, 12.39it/s]\n"
     ]
    },
    {
     "name": "stdout",
     "output_type": "stream",
     "text": [
      "Generating dpgan synthetic dataset\n"
     ]
    },
    {
     "name": "stderr",
     "output_type": "stream",
     "text": [
      "[2024-05-14T12:25:43.682863+0000][130783][CRITICAL] load failed: module 'synthcity.plugins.generic.plugin_goggle' has no attribute 'plugin'\n",
      "[2024-05-14T12:25:43.684107+0000][130783][CRITICAL] load failed: module 'synthcity.plugins.generic.plugin_goggle' has no attribute 'plugin'\n",
      "[2024-05-14T12:25:43.684500+0000][130783][CRITICAL] module plugin_goggle load failed\n"
     ]
    },
    {
     "name": "stdout",
     "output_type": "stream",
     "text": [
      "Fitting dpgan covariate model\n"
     ]
    },
    {
     "name": "stderr",
     "output_type": "stream",
     "text": [
      " 17%|█▋        | 349/2000 [00:26<02:05, 13.16it/s]\n"
     ]
    },
    {
     "name": "stdout",
     "output_type": "stream",
     "text": [
      "Generating dpgan synthetic covariates\n",
      "Fitting propensity model\n",
      "Generating propensities\n",
      "Fitting private CATE learner\n",
      "Generating POs\n"
     ]
    },
    {
     "name": "stderr",
     "output_type": "stream",
     "text": [
      "[2024-05-14T12:26:59.364283+0000][130783][CRITICAL] load failed: module 'synthcity.plugins.generic.plugin_goggle' has no attribute 'plugin'\n",
      "[2024-05-14T12:26:59.365035+0000][130783][CRITICAL] load failed: module 'synthcity.plugins.generic.plugin_goggle' has no attribute 'plugin'\n",
      "[2024-05-14T12:26:59.365446+0000][130783][CRITICAL] module plugin_goggle load failed\n"
     ]
    },
    {
     "name": "stdout",
     "output_type": "stream",
     "text": [
      "saving results\n",
      "Fitting dpgan model\n"
     ]
    },
    {
     "name": "stderr",
     "output_type": "stream",
     "text": [
      " 32%|███▏      | 649/2000 [00:51<01:47, 12.52it/s]\n"
     ]
    },
    {
     "name": "stdout",
     "output_type": "stream",
     "text": [
      "Generating dpgan synthetic dataset\n"
     ]
    },
    {
     "name": "stderr",
     "output_type": "stream",
     "text": [
      "[2024-05-14T12:28:40.174611+0000][130783][CRITICAL] load failed: module 'synthcity.plugins.generic.plugin_goggle' has no attribute 'plugin'\n",
      "[2024-05-14T12:28:40.175623+0000][130783][CRITICAL] load failed: module 'synthcity.plugins.generic.plugin_goggle' has no attribute 'plugin'\n",
      "[2024-05-14T12:28:40.176110+0000][130783][CRITICAL] module plugin_goggle load failed\n"
     ]
    },
    {
     "name": "stdout",
     "output_type": "stream",
     "text": [
      "Fitting dpgan covariate model\n"
     ]
    },
    {
     "name": "stderr",
     "output_type": "stream",
     "text": [
      " 17%|█▋        | 349/2000 [00:27<02:10, 12.64it/s]\n"
     ]
    },
    {
     "name": "stdout",
     "output_type": "stream",
     "text": [
      "Generating dpgan synthetic covariates\n",
      "Fitting propensity model\n",
      "Generating propensities\n",
      "Fitting private CATE learner\n",
      "Generating POs\n"
     ]
    },
    {
     "name": "stderr",
     "output_type": "stream",
     "text": [
      "[2024-05-14T12:29:56.430598+0000][130783][CRITICAL] load failed: module 'synthcity.plugins.generic.plugin_goggle' has no attribute 'plugin'\n",
      "[2024-05-14T12:29:56.431381+0000][130783][CRITICAL] load failed: module 'synthcity.plugins.generic.plugin_goggle' has no attribute 'plugin'\n",
      "[2024-05-14T12:29:56.431772+0000][130783][CRITICAL] module plugin_goggle load failed\n"
     ]
    },
    {
     "name": "stdout",
     "output_type": "stream",
     "text": [
      "saving results\n",
      "Fitting dpgan model\n"
     ]
    },
    {
     "name": "stderr",
     "output_type": "stream",
     "text": [
      " 17%|█▋        | 349/2000 [00:28<02:12, 12.46it/s]\n"
     ]
    },
    {
     "name": "stdout",
     "output_type": "stream",
     "text": [
      "Generating dpgan synthetic dataset\n"
     ]
    },
    {
     "name": "stderr",
     "output_type": "stream",
     "text": [
      "[2024-05-14T12:30:59.898808+0000][130783][CRITICAL] load failed: module 'synthcity.plugins.generic.plugin_goggle' has no attribute 'plugin'\n",
      "[2024-05-14T12:30:59.900002+0000][130783][CRITICAL] load failed: module 'synthcity.plugins.generic.plugin_goggle' has no attribute 'plugin'\n",
      "[2024-05-14T12:30:59.900398+0000][130783][CRITICAL] module plugin_goggle load failed\n"
     ]
    },
    {
     "name": "stdout",
     "output_type": "stream",
     "text": [
      "Fitting dpgan covariate model\n"
     ]
    },
    {
     "name": "stderr",
     "output_type": "stream",
     "text": [
      " 20%|█▉        | 399/2000 [00:30<02:03, 12.99it/s]\n"
     ]
    },
    {
     "name": "stdout",
     "output_type": "stream",
     "text": [
      "Generating dpgan synthetic covariates\n",
      "Fitting propensity model\n",
      "Generating propensities\n",
      "Fitting private CATE learner\n",
      "Generating POs\n"
     ]
    },
    {
     "name": "stderr",
     "output_type": "stream",
     "text": [
      "[2024-05-14T12:32:22.676669+0000][130783][CRITICAL] load failed: module 'synthcity.plugins.generic.plugin_goggle' has no attribute 'plugin'\n",
      "[2024-05-14T12:32:22.677521+0000][130783][CRITICAL] load failed: module 'synthcity.plugins.generic.plugin_goggle' has no attribute 'plugin'\n",
      "[2024-05-14T12:32:22.677956+0000][130783][CRITICAL] module plugin_goggle load failed\n"
     ]
    },
    {
     "name": "stdout",
     "output_type": "stream",
     "text": [
      "saving results\n",
      "Fitting dpgan model\n"
     ]
    },
    {
     "name": "stderr",
     "output_type": "stream",
     "text": [
      " 15%|█▍        | 299/2000 [00:24<02:17, 12.37it/s]\n"
     ]
    },
    {
     "name": "stdout",
     "output_type": "stream",
     "text": [
      "Generating dpgan synthetic dataset\n"
     ]
    },
    {
     "name": "stderr",
     "output_type": "stream",
     "text": [
      "[2024-05-14T12:33:18.518686+0000][130783][CRITICAL] load failed: module 'synthcity.plugins.generic.plugin_goggle' has no attribute 'plugin'\n",
      "[2024-05-14T12:33:18.519706+0000][130783][CRITICAL] load failed: module 'synthcity.plugins.generic.plugin_goggle' has no attribute 'plugin'\n",
      "[2024-05-14T12:33:18.520047+0000][130783][CRITICAL] module plugin_goggle load failed\n"
     ]
    },
    {
     "name": "stdout",
     "output_type": "stream",
     "text": [
      "Fitting dpgan covariate model\n"
     ]
    },
    {
     "name": "stderr",
     "output_type": "stream",
     "text": [
      " 20%|█▉        | 399/2000 [00:30<02:03, 12.98it/s]\n"
     ]
    },
    {
     "name": "stdout",
     "output_type": "stream",
     "text": [
      "Generating dpgan synthetic covariates\n",
      "Fitting propensity model\n",
      "Generating propensities\n",
      "Fitting private CATE learner\n",
      "Generating POs\n"
     ]
    },
    {
     "name": "stderr",
     "output_type": "stream",
     "text": [
      "[2024-05-14T12:34:38.540197+0000][130783][CRITICAL] load failed: module 'synthcity.plugins.generic.plugin_goggle' has no attribute 'plugin'\n",
      "[2024-05-14T12:34:38.540938+0000][130783][CRITICAL] load failed: module 'synthcity.plugins.generic.plugin_goggle' has no attribute 'plugin'\n",
      "[2024-05-14T12:34:38.541313+0000][130783][CRITICAL] module plugin_goggle load failed\n"
     ]
    },
    {
     "name": "stdout",
     "output_type": "stream",
     "text": [
      "saving results\n",
      "Fitting dpgan model\n"
     ]
    },
    {
     "name": "stderr",
     "output_type": "stream",
     "text": [
      " 25%|██▍       | 499/2000 [00:40<02:01, 12.35it/s]\n"
     ]
    },
    {
     "name": "stdout",
     "output_type": "stream",
     "text": [
      "Generating dpgan synthetic dataset\n"
     ]
    },
    {
     "name": "stderr",
     "output_type": "stream",
     "text": [
      "[2024-05-14T12:36:04.645233+0000][130783][CRITICAL] load failed: module 'synthcity.plugins.generic.plugin_goggle' has no attribute 'plugin'\n",
      "[2024-05-14T12:36:04.646621+0000][130783][CRITICAL] load failed: module 'synthcity.plugins.generic.plugin_goggle' has no attribute 'plugin'\n",
      "[2024-05-14T12:36:04.647403+0000][130783][CRITICAL] module plugin_goggle load failed\n"
     ]
    },
    {
     "name": "stdout",
     "output_type": "stream",
     "text": [
      "Fitting dpgan covariate model\n"
     ]
    },
    {
     "name": "stderr",
     "output_type": "stream",
     "text": [
      " 27%|██▋       | 549/2000 [00:42<01:51, 12.99it/s]\n"
     ]
    },
    {
     "name": "stdout",
     "output_type": "stream",
     "text": [
      "Generating dpgan synthetic covariates\n",
      "Fitting propensity model\n",
      "Generating propensities\n",
      "Fitting private CATE learner\n",
      "Generating POs\n"
     ]
    },
    {
     "name": "stderr",
     "output_type": "stream",
     "text": [
      "[2024-05-14T12:37:33.616348+0000][130783][CRITICAL] load failed: module 'synthcity.plugins.generic.plugin_goggle' has no attribute 'plugin'\n",
      "[2024-05-14T12:37:33.617215+0000][130783][CRITICAL] load failed: module 'synthcity.plugins.generic.plugin_goggle' has no attribute 'plugin'\n",
      "[2024-05-14T12:37:33.617709+0000][130783][CRITICAL] module plugin_goggle load failed\n"
     ]
    },
    {
     "name": "stdout",
     "output_type": "stream",
     "text": [
      "saving results\n",
      "Fitting dpgan model\n"
     ]
    },
    {
     "name": "stderr",
     "output_type": "stream",
     "text": [
      " 20%|█▉        | 399/2000 [00:32<02:08, 12.46it/s]\n"
     ]
    },
    {
     "name": "stdout",
     "output_type": "stream",
     "text": [
      "Generating dpgan synthetic dataset\n"
     ]
    },
    {
     "name": "stderr",
     "output_type": "stream",
     "text": [
      "[2024-05-14T12:38:42.061274+0000][130783][CRITICAL] load failed: module 'synthcity.plugins.generic.plugin_goggle' has no attribute 'plugin'\n",
      "[2024-05-14T12:38:42.062646+0000][130783][CRITICAL] load failed: module 'synthcity.plugins.generic.plugin_goggle' has no attribute 'plugin'\n",
      "[2024-05-14T12:38:42.063170+0000][130783][CRITICAL] module plugin_goggle load failed\n"
     ]
    },
    {
     "name": "stdout",
     "output_type": "stream",
     "text": [
      "Fitting dpgan covariate model\n"
     ]
    },
    {
     "name": "stderr",
     "output_type": "stream",
     "text": [
      " 27%|██▋       | 549/2000 [00:43<01:55, 12.61it/s]\n"
     ]
    },
    {
     "name": "stdout",
     "output_type": "stream",
     "text": [
      "Generating dpgan synthetic covariates\n",
      "Fitting propensity model\n",
      "Generating propensities\n",
      "Fitting private CATE learner\n",
      "Generating POs\n"
     ]
    },
    {
     "name": "stderr",
     "output_type": "stream",
     "text": [
      "[2024-05-14T12:40:12.954854+0000][130783][CRITICAL] load failed: module 'synthcity.plugins.generic.plugin_goggle' has no attribute 'plugin'\n",
      "[2024-05-14T12:40:12.955472+0000][130783][CRITICAL] load failed: module 'synthcity.plugins.generic.plugin_goggle' has no attribute 'plugin'\n",
      "[2024-05-14T12:40:12.955901+0000][130783][CRITICAL] module plugin_goggle load failed\n"
     ]
    },
    {
     "name": "stdout",
     "output_type": "stream",
     "text": [
      "saving results\n",
      "Fitting dpgan model\n"
     ]
    },
    {
     "name": "stderr",
     "output_type": "stream",
     "text": [
      " 17%|█▋        | 349/2000 [00:27<02:12, 12.48it/s]\n"
     ]
    },
    {
     "name": "stdout",
     "output_type": "stream",
     "text": [
      "Generating dpgan synthetic dataset\n"
     ]
    },
    {
     "name": "stderr",
     "output_type": "stream",
     "text": [
      "[2024-05-14T12:41:27.543826+0000][130783][CRITICAL] load failed: module 'synthcity.plugins.generic.plugin_goggle' has no attribute 'plugin'\n",
      "[2024-05-14T12:41:27.544853+0000][130783][CRITICAL] load failed: module 'synthcity.plugins.generic.plugin_goggle' has no attribute 'plugin'\n",
      "[2024-05-14T12:41:27.545215+0000][130783][CRITICAL] module plugin_goggle load failed\n"
     ]
    },
    {
     "name": "stdout",
     "output_type": "stream",
     "text": [
      "Fitting dpgan covariate model\n"
     ]
    },
    {
     "name": "stderr",
     "output_type": "stream",
     "text": [
      " 17%|█▋        | 349/2000 [00:26<02:07, 12.97it/s]\n"
     ]
    },
    {
     "name": "stdout",
     "output_type": "stream",
     "text": [
      "Generating dpgan synthetic covariates\n",
      "Fitting propensity model\n",
      "Generating propensities\n",
      "Fitting private CATE learner\n",
      "Generating POs\n"
     ]
    },
    {
     "name": "stderr",
     "output_type": "stream",
     "text": [
      "[2024-05-14T12:42:44.090210+0000][130783][CRITICAL] load failed: module 'synthcity.plugins.generic.plugin_goggle' has no attribute 'plugin'\n",
      "[2024-05-14T12:42:44.090770+0000][130783][CRITICAL] load failed: module 'synthcity.plugins.generic.plugin_goggle' has no attribute 'plugin'\n",
      "[2024-05-14T12:42:44.091138+0000][130783][CRITICAL] module plugin_goggle load failed\n"
     ]
    },
    {
     "name": "stdout",
     "output_type": "stream",
     "text": [
      "saving results\n",
      "Fitting dpgan model\n"
     ]
    },
    {
     "name": "stderr",
     "output_type": "stream",
     "text": [
      " 45%|████▍     | 899/2000 [01:12<01:28, 12.42it/s]\n"
     ]
    },
    {
     "name": "stdout",
     "output_type": "stream",
     "text": [
      "Generating dpgan synthetic dataset\n"
     ]
    },
    {
     "name": "stderr",
     "output_type": "stream",
     "text": [
      "[2024-05-14T12:44:43.937966+0000][130783][CRITICAL] load failed: module 'synthcity.plugins.generic.plugin_goggle' has no attribute 'plugin'\n",
      "[2024-05-14T12:44:43.938631+0000][130783][CRITICAL] load failed: module 'synthcity.plugins.generic.plugin_goggle' has no attribute 'plugin'\n",
      "[2024-05-14T12:44:43.938975+0000][130783][CRITICAL] module plugin_goggle load failed\n"
     ]
    },
    {
     "name": "stdout",
     "output_type": "stream",
     "text": [
      "Fitting dpgan covariate model\n"
     ]
    },
    {
     "name": "stderr",
     "output_type": "stream",
     "text": [
      " 22%|██▏       | 449/2000 [00:34<01:59, 13.01it/s]\n"
     ]
    },
    {
     "name": "stdout",
     "output_type": "stream",
     "text": [
      "Generating dpgan synthetic covariates\n",
      "Fitting propensity model\n",
      "Generating propensities\n",
      "Fitting private CATE learner\n",
      "Generating POs\n"
     ]
    },
    {
     "name": "stderr",
     "output_type": "stream",
     "text": [
      "[2024-05-14T12:46:06.587769+0000][130783][CRITICAL] load failed: module 'synthcity.plugins.generic.plugin_goggle' has no attribute 'plugin'\n",
      "[2024-05-14T12:46:06.588348+0000][130783][CRITICAL] load failed: module 'synthcity.plugins.generic.plugin_goggle' has no attribute 'plugin'\n",
      "[2024-05-14T12:46:06.588724+0000][130783][CRITICAL] module plugin_goggle load failed\n"
     ]
    },
    {
     "name": "stdout",
     "output_type": "stream",
     "text": [
      "saving results\n",
      "Fitting dpgan model\n"
     ]
    },
    {
     "name": "stderr",
     "output_type": "stream",
     "text": [
      " 30%|██▉       | 599/2000 [00:47<01:52, 12.49it/s]\n"
     ]
    },
    {
     "name": "stdout",
     "output_type": "stream",
     "text": [
      "Generating dpgan synthetic dataset\n"
     ]
    },
    {
     "name": "stderr",
     "output_type": "stream",
     "text": [
      "[2024-05-14T12:47:26.924360+0000][130783][CRITICAL] load failed: module 'synthcity.plugins.generic.plugin_goggle' has no attribute 'plugin'\n",
      "[2024-05-14T12:47:26.925030+0000][130783][CRITICAL] load failed: module 'synthcity.plugins.generic.plugin_goggle' has no attribute 'plugin'\n",
      "[2024-05-14T12:47:26.925386+0000][130783][CRITICAL] module plugin_goggle load failed\n"
     ]
    },
    {
     "name": "stdout",
     "output_type": "stream",
     "text": [
      "Fitting dpgan covariate model\n"
     ]
    },
    {
     "name": "stderr",
     "output_type": "stream",
     "text": [
      " 17%|█▋        | 349/2000 [00:26<02:07, 13.00it/s]\n"
     ]
    },
    {
     "name": "stdout",
     "output_type": "stream",
     "text": [
      "Generating dpgan synthetic covariates\n",
      "Fitting propensity model\n",
      "Generating propensities\n",
      "Fitting private CATE learner\n",
      "Generating POs\n"
     ]
    },
    {
     "name": "stderr",
     "output_type": "stream",
     "text": [
      "[2024-05-14T12:48:42.733540+0000][130783][CRITICAL] load failed: module 'synthcity.plugins.generic.plugin_goggle' has no attribute 'plugin'\n",
      "[2024-05-14T12:48:42.734466+0000][130783][CRITICAL] load failed: module 'synthcity.plugins.generic.plugin_goggle' has no attribute 'plugin'\n",
      "[2024-05-14T12:48:42.734930+0000][130783][CRITICAL] module plugin_goggle load failed\n"
     ]
    },
    {
     "name": "stdout",
     "output_type": "stream",
     "text": [
      "saving results\n",
      "Fitting dpgan model\n"
     ]
    },
    {
     "name": "stderr",
     "output_type": "stream",
     "text": [
      " 20%|█▉        | 399/2000 [00:32<02:08, 12.42it/s]\n"
     ]
    },
    {
     "name": "stdout",
     "output_type": "stream",
     "text": [
      "Generating dpgan synthetic dataset\n"
     ]
    },
    {
     "name": "stderr",
     "output_type": "stream",
     "text": [
      "[2024-05-14T12:49:52.279155+0000][130783][CRITICAL] load failed: module 'synthcity.plugins.generic.plugin_goggle' has no attribute 'plugin'\n",
      "[2024-05-14T12:49:52.280389+0000][130783][CRITICAL] load failed: module 'synthcity.plugins.generic.plugin_goggle' has no attribute 'plugin'\n",
      "[2024-05-14T12:49:52.281034+0000][130783][CRITICAL] module plugin_goggle load failed\n"
     ]
    },
    {
     "name": "stdout",
     "output_type": "stream",
     "text": [
      "Fitting dpgan covariate model\n"
     ]
    },
    {
     "name": "stderr",
     "output_type": "stream",
     "text": [
      " 17%|█▋        | 349/2000 [00:27<02:08, 12.88it/s]\n"
     ]
    },
    {
     "name": "stdout",
     "output_type": "stream",
     "text": [
      "Generating dpgan synthetic covariates\n",
      "Fitting propensity model\n",
      "Generating propensities\n",
      "Fitting private CATE learner\n",
      "Generating POs\n"
     ]
    },
    {
     "name": "stderr",
     "output_type": "stream",
     "text": [
      "[2024-05-14T12:51:11.976489+0000][130783][CRITICAL] load failed: module 'synthcity.plugins.generic.plugin_goggle' has no attribute 'plugin'\n",
      "[2024-05-14T12:51:11.977424+0000][130783][CRITICAL] load failed: module 'synthcity.plugins.generic.plugin_goggle' has no attribute 'plugin'\n",
      "[2024-05-14T12:51:11.977946+0000][130783][CRITICAL] module plugin_goggle load failed\n"
     ]
    },
    {
     "name": "stdout",
     "output_type": "stream",
     "text": [
      "saving results\n",
      "Fitting dpgan model\n"
     ]
    },
    {
     "name": "stderr",
     "output_type": "stream",
     "text": [
      " 17%|█▋        | 349/2000 [00:28<02:16, 12.08it/s]\n"
     ]
    },
    {
     "name": "stdout",
     "output_type": "stream",
     "text": [
      "Generating dpgan synthetic dataset\n"
     ]
    },
    {
     "ename": "ValueError",
     "evalue": "Expected more than 1 value per channel when training, got input size torch.Size([1, 100])",
     "output_type": "error",
     "traceback": [
      "\u001b[0;31m---------------------------------------------------------------------------\u001b[0m",
      "\u001b[0;31mValueError\u001b[0m                                Traceback (most recent call last)",
      "Cell \u001b[0;32mIn[277], line 1\u001b[0m\n\u001b[0;32m----> 1\u001b[0m test \u001b[38;5;241m=\u001b[39m \u001b[43mprivacy_comparison\u001b[49m\u001b[43m(\u001b[49m\u001b[43mnormalized_jobs\u001b[49m\u001b[43m,\u001b[49m\u001b[43m \u001b[49m\u001b[38;5;124;43m'\u001b[39;49m\u001b[38;5;124;43mdpgan\u001b[39;49m\u001b[38;5;124;43m'\u001b[39;49m\u001b[43m,\u001b[49m\u001b[43m \u001b[49m\u001b[38;5;124;43m'\u001b[39;49m\u001b[38;5;124;43mtraining\u001b[39;49m\u001b[38;5;124;43m'\u001b[39;49m\u001b[43m,\u001b[49m\u001b[43m \u001b[49m\u001b[38;5;124;43m'\u001b[39;49m\u001b[38;5;124;43mre78\u001b[39;49m\u001b[38;5;124;43m'\u001b[39;49m\u001b[43m,\u001b[49m\u001b[43m \u001b[49m\u001b[43mdelta\u001b[49m\u001b[43m \u001b[49m\u001b[38;5;241;43m=\u001b[39;49m\u001b[43m \u001b[49m\u001b[38;5;241;43m1e-3\u001b[39;49m\u001b[43m,\u001b[49m\u001b[43m \u001b[49m\u001b[43mepsilons\u001b[49m\u001b[43m \u001b[49m\u001b[38;5;241;43m=\u001b[39;49m\u001b[43m \u001b[49m\u001b[43m[\u001b[49m\u001b[38;5;241;43m15\u001b[39;49m\u001b[43m,\u001b[49m\u001b[38;5;241;43m20\u001b[39;49m\u001b[43m]\u001b[49m\u001b[43m,\u001b[49m\u001b[43m \u001b[49m\u001b[43mn_iter\u001b[49m\u001b[43m \u001b[49m\u001b[38;5;241;43m=\u001b[39;49m\u001b[43m \u001b[49m\u001b[38;5;241;43m10\u001b[39;49m\u001b[43m,\u001b[49m\u001b[43m \u001b[49m\u001b[43msave\u001b[49m\u001b[38;5;241;43m=\u001b[39;49m\u001b[38;5;28;43;01mTrue\u001b[39;49;00m\u001b[43m,\u001b[49m\u001b[43m \u001b[49m\u001b[43mfp\u001b[49m\u001b[43m \u001b[49m\u001b[38;5;241;43m=\u001b[39;49m\u001b[38;5;124;43m'\u001b[39;49m\u001b[38;5;124;43mjobs_privacy_dpgan_normalized_2.csv\u001b[39;49m\u001b[38;5;124;43m'\u001b[39;49m\u001b[43m)\u001b[49m\n",
      "Cell \u001b[0;32mIn[153], line 9\u001b[0m, in \u001b[0;36mprivacy_comparison\u001b[0;34m(real, gen, treatment_col, outcome_col, delta, epsilons, n_iter, save, fp)\u001b[0m\n\u001b[1;32m      5\u001b[0m \u001b[38;5;28;01mfor\u001b[39;00m _ \u001b[38;5;129;01min\u001b[39;00m \u001b[38;5;28mrange\u001b[39m(n_iter):\n\u001b[1;32m      6\u001b[0m     synth \u001b[38;5;241m=\u001b[39m generate_standard(real, gen, private\u001b[38;5;241m=\u001b[39m\u001b[38;5;28;01mTrue\u001b[39;00m, epsilon\u001b[38;5;241m=\u001b[39mepsilon, delta\u001b[38;5;241m=\u001b[39mdelta)\n\u001b[1;32m      8\u001b[0m     results\u001b[38;5;241m.\u001b[39mloc[\u001b[38;5;28mlen\u001b[39m(results)] \u001b[38;5;241m=\u001b[39m [\u001b[38;5;124m'\u001b[39m\u001b[38;5;124mstandard\u001b[39m\u001b[38;5;124m'\u001b[39m, epsilon, evaluate_f(real, synth, treatment_col, outcome_col), evaluate_c(real, synth, treatment_col, outcome_col), \n\u001b[0;32m----> 9\u001b[0m                              evaluate_d(real, synth, treatment_col, outcome_col), \u001b[43mevaluate_average_u_pehe\u001b[49m\u001b[43m(\u001b[49m\u001b[43mreal\u001b[49m\u001b[43m,\u001b[49m\u001b[43m \u001b[49m\u001b[43msynth\u001b[49m\u001b[43m,\u001b[49m\u001b[43m \u001b[49m\u001b[43mtreatment_col\u001b[49m\u001b[43m,\u001b[49m\u001b[43m \u001b[49m\u001b[43moutcome_col\u001b[49m\u001b[43m,\u001b[49m\u001b[43m \u001b[49m\u001b[43mn_units\u001b[49m\u001b[43m)\u001b[49m]\n\u001b[1;32m     11\u001b[0m     synth_seq \u001b[38;5;241m=\u001b[39m generate_sequentially(real, gen, treatment_col, outcome_col, private\u001b[38;5;241m=\u001b[39m\u001b[38;5;28;01mTrue\u001b[39;00m, epsilon \u001b[38;5;241m=\u001b[39m epsilon\u001b[38;5;241m/\u001b[39m\u001b[38;5;241m3\u001b[39m, delta\u001b[38;5;241m=\u001b[39mdelta\u001b[38;5;241m/\u001b[39m\u001b[38;5;241m3\u001b[39m)\n\u001b[1;32m     13\u001b[0m     results\u001b[38;5;241m.\u001b[39mloc[\u001b[38;5;28mlen\u001b[39m(results)] \u001b[38;5;241m=\u001b[39m [\u001b[38;5;124m'\u001b[39m\u001b[38;5;124msequential\u001b[39m\u001b[38;5;124m'\u001b[39m, epsilon, evaluate_f(real, synth_seq, treatment_col, outcome_col), evaluate_c(real, synth_seq, treatment_col, outcome_col), \n\u001b[1;32m     14\u001b[0m                              evaluate_d(real, synth_seq, treatment_col, outcome_col), evaluate_average_u_pehe(real, synth_seq, treatment_col, outcome_col, n_units)]\n",
      "Cell \u001b[0;32mIn[20], line 27\u001b[0m, in \u001b[0;36mevaluate_average_u_pehe\u001b[0;34m(real, synth, treatment_col, outcome_col, n_units)\u001b[0m\n\u001b[1;32m     25\u001b[0m y_synth \u001b[38;5;241m=\u001b[39m np\u001b[38;5;241m.\u001b[39marray(synth[outcome_col])\n\u001b[1;32m     26\u001b[0m w_synth \u001b[38;5;241m=\u001b[39m np\u001b[38;5;241m.\u001b[39marray(synth[treatment_col])\n\u001b[0;32m---> 27\u001b[0m \u001b[43ml_synth\u001b[49m\u001b[38;5;241;43m.\u001b[39;49m\u001b[43mfit\u001b[49m\u001b[43m(\u001b[49m\u001b[43mX_synth\u001b[49m\u001b[43m,\u001b[49m\u001b[43m \u001b[49m\u001b[43my_synth\u001b[49m\u001b[43m,\u001b[49m\u001b[43m \u001b[49m\u001b[43mw_synth\u001b[49m\u001b[43m)\u001b[49m\n\u001b[1;32m     28\u001b[0m pred_synth \u001b[38;5;241m=\u001b[39m l_synth\u001b[38;5;241m.\u001b[39mpredict(X_t)\n\u001b[1;32m     30\u001b[0m pehe \u001b[38;5;241m=\u001b[39m mean_squared_error(pred_real\u001b[38;5;241m.\u001b[39mcpu()\u001b[38;5;241m.\u001b[39mdetach()\u001b[38;5;241m.\u001b[39mnumpy(), pred_synth\u001b[38;5;241m.\u001b[39mcpu()\u001b[38;5;241m.\u001b[39mdetach()\u001b[38;5;241m.\u001b[39mnumpy(), squared\u001b[38;5;241m=\u001b[39m\u001b[38;5;28;01mFalse\u001b[39;00m)\n",
      "File \u001b[0;32m/anaconda/envs/azureml_py310_sdkv2/lib/python3.10/site-packages/catenets/models/torch/tlearner.py:164\u001b[0m, in \u001b[0;36mTLearner.fit\u001b[0;34m(self, X, y, w)\u001b[0m\n\u001b[1;32m    161\u001b[0m w \u001b[38;5;241m=\u001b[39m torch\u001b[38;5;241m.\u001b[39mTensor(w)\u001b[38;5;241m.\u001b[39mto(DEVICE)\n\u001b[1;32m    163\u001b[0m \u001b[38;5;28;01mfor\u001b[39;00m widx, plugin \u001b[38;5;129;01min\u001b[39;00m \u001b[38;5;28menumerate\u001b[39m(\u001b[38;5;28mself\u001b[39m\u001b[38;5;241m.\u001b[39m_plug_in):\n\u001b[0;32m--> 164\u001b[0m     \u001b[43mtrain_wrapper\u001b[49m\u001b[43m(\u001b[49m\u001b[43mplugin\u001b[49m\u001b[43m,\u001b[49m\u001b[43m \u001b[49m\u001b[43mX\u001b[49m\u001b[43m[\u001b[49m\u001b[43mw\u001b[49m\u001b[43m \u001b[49m\u001b[38;5;241;43m==\u001b[39;49m\u001b[43m \u001b[49m\u001b[43mwidx\u001b[49m\u001b[43m]\u001b[49m\u001b[43m,\u001b[49m\u001b[43m \u001b[49m\u001b[43my\u001b[49m\u001b[43m[\u001b[49m\u001b[43mw\u001b[49m\u001b[43m \u001b[49m\u001b[38;5;241;43m==\u001b[39;49m\u001b[43m \u001b[49m\u001b[43mwidx\u001b[49m\u001b[43m]\u001b[49m\u001b[43m)\u001b[49m\n\u001b[1;32m    166\u001b[0m \u001b[38;5;28;01mreturn\u001b[39;00m \u001b[38;5;28mself\u001b[39m\n",
      "File \u001b[0;32m/anaconda/envs/azureml_py310_sdkv2/lib/python3.10/site-packages/catenets/models/torch/utils/model_utils.py:85\u001b[0m, in \u001b[0;36mtrain_wrapper\u001b[0;34m(estimator, X, y, **kwargs)\u001b[0m\n\u001b[1;32m     83\u001b[0m \u001b[38;5;28;01mif\u001b[39;00m \u001b[38;5;28mhasattr\u001b[39m(estimator, \u001b[38;5;124m\"\u001b[39m\u001b[38;5;124mtrain\u001b[39m\u001b[38;5;124m\"\u001b[39m):\n\u001b[1;32m     84\u001b[0m     log\u001b[38;5;241m.\u001b[39mdebug(\u001b[38;5;124mf\u001b[39m\u001b[38;5;124m\"\u001b[39m\u001b[38;5;124mTrain PyTorch network \u001b[39m\u001b[38;5;132;01m{\u001b[39;00mestimator\u001b[38;5;132;01m}\u001b[39;00m\u001b[38;5;124m\"\u001b[39m)\n\u001b[0;32m---> 85\u001b[0m     \u001b[43mestimator\u001b[49m\u001b[38;5;241;43m.\u001b[39;49m\u001b[43mfit\u001b[49m\u001b[43m(\u001b[49m\u001b[43mX\u001b[49m\u001b[43m,\u001b[49m\u001b[43m \u001b[49m\u001b[43my\u001b[49m\u001b[43m,\u001b[49m\u001b[43m \u001b[49m\u001b[38;5;241;43m*\u001b[39;49m\u001b[38;5;241;43m*\u001b[39;49m\u001b[43mkwargs\u001b[49m\u001b[43m)\u001b[49m\n\u001b[1;32m     86\u001b[0m \u001b[38;5;28;01melif\u001b[39;00m \u001b[38;5;28mhasattr\u001b[39m(estimator, \u001b[38;5;124m\"\u001b[39m\u001b[38;5;124mfit\u001b[39m\u001b[38;5;124m\"\u001b[39m):\n\u001b[1;32m     87\u001b[0m     log\u001b[38;5;241m.\u001b[39mdebug(\u001b[38;5;124mf\u001b[39m\u001b[38;5;124m\"\u001b[39m\u001b[38;5;124mTrain sklearn estimator \u001b[39m\u001b[38;5;132;01m{\u001b[39;00mestimator\u001b[38;5;132;01m}\u001b[39;00m\u001b[38;5;124m\"\u001b[39m)\n",
      "File \u001b[0;32m/anaconda/envs/azureml_py310_sdkv2/lib/python3.10/site-packages/catenets/models/torch/base.py:214\u001b[0m, in \u001b[0;36mBasicNet.fit\u001b[0;34m(self, X, y, weight)\u001b[0m\n\u001b[1;32m    210\u001b[0m     weight_next \u001b[38;5;241m=\u001b[39m weight[idx_next]\u001b[38;5;241m.\u001b[39mdetach()\n\u001b[1;32m    212\u001b[0m loss \u001b[38;5;241m=\u001b[39m nn\u001b[38;5;241m.\u001b[39mBCELoss(weight\u001b[38;5;241m=\u001b[39mweight_next) \u001b[38;5;28;01mif\u001b[39;00m \u001b[38;5;28mself\u001b[39m\u001b[38;5;241m.\u001b[39mbinary_y \u001b[38;5;28;01melse\u001b[39;00m nn\u001b[38;5;241m.\u001b[39mMSELoss()\n\u001b[0;32m--> 214\u001b[0m preds \u001b[38;5;241m=\u001b[39m \u001b[38;5;28;43mself\u001b[39;49m\u001b[38;5;241;43m.\u001b[39;49m\u001b[43mforward\u001b[49m\u001b[43m(\u001b[49m\u001b[43mX_next\u001b[49m\u001b[43m)\u001b[49m\u001b[38;5;241m.\u001b[39msqueeze()\n\u001b[1;32m    216\u001b[0m batch_loss \u001b[38;5;241m=\u001b[39m loss(preds, y_next)\n\u001b[1;32m    218\u001b[0m batch_loss\u001b[38;5;241m.\u001b[39mbackward()\n",
      "File \u001b[0;32m/anaconda/envs/azureml_py310_sdkv2/lib/python3.10/site-packages/catenets/models/torch/base.py:169\u001b[0m, in \u001b[0;36mBasicNet.forward\u001b[0;34m(self, X)\u001b[0m\n\u001b[1;32m    168\u001b[0m \u001b[38;5;28;01mdef\u001b[39;00m \u001b[38;5;21mforward\u001b[39m(\u001b[38;5;28mself\u001b[39m, X: torch\u001b[38;5;241m.\u001b[39mTensor) \u001b[38;5;241m-\u001b[39m\u001b[38;5;241m>\u001b[39m torch\u001b[38;5;241m.\u001b[39mTensor:\n\u001b[0;32m--> 169\u001b[0m     \u001b[38;5;28;01mreturn\u001b[39;00m \u001b[38;5;28;43mself\u001b[39;49m\u001b[38;5;241;43m.\u001b[39;49m\u001b[43mmodel\u001b[49m\u001b[43m(\u001b[49m\u001b[43mX\u001b[49m\u001b[43m)\u001b[49m\n",
      "File \u001b[0;32m/anaconda/envs/azureml_py310_sdkv2/lib/python3.10/site-packages/torch/nn/modules/module.py:1194\u001b[0m, in \u001b[0;36mModule._call_impl\u001b[0;34m(self, *input, **kwargs)\u001b[0m\n\u001b[1;32m   1190\u001b[0m \u001b[38;5;66;03m# If we don't have any hooks, we want to skip the rest of the logic in\u001b[39;00m\n\u001b[1;32m   1191\u001b[0m \u001b[38;5;66;03m# this function, and just call forward.\u001b[39;00m\n\u001b[1;32m   1192\u001b[0m \u001b[38;5;28;01mif\u001b[39;00m \u001b[38;5;129;01mnot\u001b[39;00m (\u001b[38;5;28mself\u001b[39m\u001b[38;5;241m.\u001b[39m_backward_hooks \u001b[38;5;129;01mor\u001b[39;00m \u001b[38;5;28mself\u001b[39m\u001b[38;5;241m.\u001b[39m_forward_hooks \u001b[38;5;129;01mor\u001b[39;00m \u001b[38;5;28mself\u001b[39m\u001b[38;5;241m.\u001b[39m_forward_pre_hooks \u001b[38;5;129;01mor\u001b[39;00m _global_backward_hooks\n\u001b[1;32m   1193\u001b[0m         \u001b[38;5;129;01mor\u001b[39;00m _global_forward_hooks \u001b[38;5;129;01mor\u001b[39;00m _global_forward_pre_hooks):\n\u001b[0;32m-> 1194\u001b[0m     \u001b[38;5;28;01mreturn\u001b[39;00m \u001b[43mforward_call\u001b[49m\u001b[43m(\u001b[49m\u001b[38;5;241;43m*\u001b[39;49m\u001b[38;5;28;43minput\u001b[39;49m\u001b[43m,\u001b[49m\u001b[43m \u001b[49m\u001b[38;5;241;43m*\u001b[39;49m\u001b[38;5;241;43m*\u001b[39;49m\u001b[43mkwargs\u001b[49m\u001b[43m)\u001b[49m\n\u001b[1;32m   1195\u001b[0m \u001b[38;5;66;03m# Do not call functions when jit is used\u001b[39;00m\n\u001b[1;32m   1196\u001b[0m full_backward_hooks, non_full_backward_hooks \u001b[38;5;241m=\u001b[39m [], []\n",
      "File \u001b[0;32m/anaconda/envs/azureml_py310_sdkv2/lib/python3.10/site-packages/torch/nn/modules/container.py:204\u001b[0m, in \u001b[0;36mSequential.forward\u001b[0;34m(self, input)\u001b[0m\n\u001b[1;32m    202\u001b[0m \u001b[38;5;28;01mdef\u001b[39;00m \u001b[38;5;21mforward\u001b[39m(\u001b[38;5;28mself\u001b[39m, \u001b[38;5;28minput\u001b[39m):\n\u001b[1;32m    203\u001b[0m     \u001b[38;5;28;01mfor\u001b[39;00m module \u001b[38;5;129;01min\u001b[39;00m \u001b[38;5;28mself\u001b[39m:\n\u001b[0;32m--> 204\u001b[0m         \u001b[38;5;28minput\u001b[39m \u001b[38;5;241m=\u001b[39m \u001b[43mmodule\u001b[49m\u001b[43m(\u001b[49m\u001b[38;5;28;43minput\u001b[39;49m\u001b[43m)\u001b[49m\n\u001b[1;32m    205\u001b[0m     \u001b[38;5;28;01mreturn\u001b[39;00m \u001b[38;5;28minput\u001b[39m\n",
      "File \u001b[0;32m/anaconda/envs/azureml_py310_sdkv2/lib/python3.10/site-packages/torch/nn/modules/module.py:1194\u001b[0m, in \u001b[0;36mModule._call_impl\u001b[0;34m(self, *input, **kwargs)\u001b[0m\n\u001b[1;32m   1190\u001b[0m \u001b[38;5;66;03m# If we don't have any hooks, we want to skip the rest of the logic in\u001b[39;00m\n\u001b[1;32m   1191\u001b[0m \u001b[38;5;66;03m# this function, and just call forward.\u001b[39;00m\n\u001b[1;32m   1192\u001b[0m \u001b[38;5;28;01mif\u001b[39;00m \u001b[38;5;129;01mnot\u001b[39;00m (\u001b[38;5;28mself\u001b[39m\u001b[38;5;241m.\u001b[39m_backward_hooks \u001b[38;5;129;01mor\u001b[39;00m \u001b[38;5;28mself\u001b[39m\u001b[38;5;241m.\u001b[39m_forward_hooks \u001b[38;5;129;01mor\u001b[39;00m \u001b[38;5;28mself\u001b[39m\u001b[38;5;241m.\u001b[39m_forward_pre_hooks \u001b[38;5;129;01mor\u001b[39;00m _global_backward_hooks\n\u001b[1;32m   1193\u001b[0m         \u001b[38;5;129;01mor\u001b[39;00m _global_forward_hooks \u001b[38;5;129;01mor\u001b[39;00m _global_forward_pre_hooks):\n\u001b[0;32m-> 1194\u001b[0m     \u001b[38;5;28;01mreturn\u001b[39;00m \u001b[43mforward_call\u001b[49m\u001b[43m(\u001b[49m\u001b[38;5;241;43m*\u001b[39;49m\u001b[38;5;28;43minput\u001b[39;49m\u001b[43m,\u001b[49m\u001b[43m \u001b[49m\u001b[38;5;241;43m*\u001b[39;49m\u001b[38;5;241;43m*\u001b[39;49m\u001b[43mkwargs\u001b[49m\u001b[43m)\u001b[49m\n\u001b[1;32m   1195\u001b[0m \u001b[38;5;66;03m# Do not call functions when jit is used\u001b[39;00m\n\u001b[1;32m   1196\u001b[0m full_backward_hooks, non_full_backward_hooks \u001b[38;5;241m=\u001b[39m [], []\n",
      "File \u001b[0;32m/anaconda/envs/azureml_py310_sdkv2/lib/python3.10/site-packages/torch/nn/modules/batchnorm.py:171\u001b[0m, in \u001b[0;36m_BatchNorm.forward\u001b[0;34m(self, input)\u001b[0m\n\u001b[1;32m    164\u001b[0m     bn_training \u001b[38;5;241m=\u001b[39m (\u001b[38;5;28mself\u001b[39m\u001b[38;5;241m.\u001b[39mrunning_mean \u001b[38;5;129;01mis\u001b[39;00m \u001b[38;5;28;01mNone\u001b[39;00m) \u001b[38;5;129;01mand\u001b[39;00m (\u001b[38;5;28mself\u001b[39m\u001b[38;5;241m.\u001b[39mrunning_var \u001b[38;5;129;01mis\u001b[39;00m \u001b[38;5;28;01mNone\u001b[39;00m)\n\u001b[1;32m    166\u001b[0m \u001b[38;5;250m\u001b[39m\u001b[38;5;124mr\u001b[39m\u001b[38;5;124;03m\"\"\"\u001b[39;00m\n\u001b[1;32m    167\u001b[0m \u001b[38;5;124;03mBuffers are only updated if they are to be tracked and we are in training mode. Thus they only need to be\u001b[39;00m\n\u001b[1;32m    168\u001b[0m \u001b[38;5;124;03mpassed when the update should occur (i.e. in training mode when they are tracked), or when buffer stats are\u001b[39;00m\n\u001b[1;32m    169\u001b[0m \u001b[38;5;124;03mused for normalization (i.e. in eval mode when buffers are not None).\u001b[39;00m\n\u001b[1;32m    170\u001b[0m \u001b[38;5;124;03m\"\"\"\u001b[39;00m\n\u001b[0;32m--> 171\u001b[0m \u001b[38;5;28;01mreturn\u001b[39;00m \u001b[43mF\u001b[49m\u001b[38;5;241;43m.\u001b[39;49m\u001b[43mbatch_norm\u001b[49m\u001b[43m(\u001b[49m\n\u001b[1;32m    172\u001b[0m \u001b[43m    \u001b[49m\u001b[38;5;28;43minput\u001b[39;49m\u001b[43m,\u001b[49m\n\u001b[1;32m    173\u001b[0m \u001b[43m    \u001b[49m\u001b[38;5;66;43;03m# If buffers are not to be tracked, ensure that they won't be updated\u001b[39;49;00m\n\u001b[1;32m    174\u001b[0m \u001b[43m    \u001b[49m\u001b[38;5;28;43mself\u001b[39;49m\u001b[38;5;241;43m.\u001b[39;49m\u001b[43mrunning_mean\u001b[49m\n\u001b[1;32m    175\u001b[0m \u001b[43m    \u001b[49m\u001b[38;5;28;43;01mif\u001b[39;49;00m\u001b[43m \u001b[49m\u001b[38;5;129;43;01mnot\u001b[39;49;00m\u001b[43m \u001b[49m\u001b[38;5;28;43mself\u001b[39;49m\u001b[38;5;241;43m.\u001b[39;49m\u001b[43mtraining\u001b[49m\u001b[43m \u001b[49m\u001b[38;5;129;43;01mor\u001b[39;49;00m\u001b[43m \u001b[49m\u001b[38;5;28;43mself\u001b[39;49m\u001b[38;5;241;43m.\u001b[39;49m\u001b[43mtrack_running_stats\u001b[49m\n\u001b[1;32m    176\u001b[0m \u001b[43m    \u001b[49m\u001b[38;5;28;43;01melse\u001b[39;49;00m\u001b[43m \u001b[49m\u001b[38;5;28;43;01mNone\u001b[39;49;00m\u001b[43m,\u001b[49m\n\u001b[1;32m    177\u001b[0m \u001b[43m    \u001b[49m\u001b[38;5;28;43mself\u001b[39;49m\u001b[38;5;241;43m.\u001b[39;49m\u001b[43mrunning_var\u001b[49m\u001b[43m \u001b[49m\u001b[38;5;28;43;01mif\u001b[39;49;00m\u001b[43m \u001b[49m\u001b[38;5;129;43;01mnot\u001b[39;49;00m\u001b[43m \u001b[49m\u001b[38;5;28;43mself\u001b[39;49m\u001b[38;5;241;43m.\u001b[39;49m\u001b[43mtraining\u001b[49m\u001b[43m \u001b[49m\u001b[38;5;129;43;01mor\u001b[39;49;00m\u001b[43m \u001b[49m\u001b[38;5;28;43mself\u001b[39;49m\u001b[38;5;241;43m.\u001b[39;49m\u001b[43mtrack_running_stats\u001b[49m\u001b[43m \u001b[49m\u001b[38;5;28;43;01melse\u001b[39;49;00m\u001b[43m \u001b[49m\u001b[38;5;28;43;01mNone\u001b[39;49;00m\u001b[43m,\u001b[49m\n\u001b[1;32m    178\u001b[0m \u001b[43m    \u001b[49m\u001b[38;5;28;43mself\u001b[39;49m\u001b[38;5;241;43m.\u001b[39;49m\u001b[43mweight\u001b[49m\u001b[43m,\u001b[49m\n\u001b[1;32m    179\u001b[0m \u001b[43m    \u001b[49m\u001b[38;5;28;43mself\u001b[39;49m\u001b[38;5;241;43m.\u001b[39;49m\u001b[43mbias\u001b[49m\u001b[43m,\u001b[49m\n\u001b[1;32m    180\u001b[0m \u001b[43m    \u001b[49m\u001b[43mbn_training\u001b[49m\u001b[43m,\u001b[49m\n\u001b[1;32m    181\u001b[0m \u001b[43m    \u001b[49m\u001b[43mexponential_average_factor\u001b[49m\u001b[43m,\u001b[49m\n\u001b[1;32m    182\u001b[0m \u001b[43m    \u001b[49m\u001b[38;5;28;43mself\u001b[39;49m\u001b[38;5;241;43m.\u001b[39;49m\u001b[43meps\u001b[49m\u001b[43m,\u001b[49m\n\u001b[1;32m    183\u001b[0m \u001b[43m\u001b[49m\u001b[43m)\u001b[49m\n",
      "File \u001b[0;32m/anaconda/envs/azureml_py310_sdkv2/lib/python3.10/site-packages/torch/nn/functional.py:2448\u001b[0m, in \u001b[0;36mbatch_norm\u001b[0;34m(input, running_mean, running_var, weight, bias, training, momentum, eps)\u001b[0m\n\u001b[1;32m   2435\u001b[0m     \u001b[38;5;28;01mreturn\u001b[39;00m handle_torch_function(\n\u001b[1;32m   2436\u001b[0m         batch_norm,\n\u001b[1;32m   2437\u001b[0m         (\u001b[38;5;28minput\u001b[39m, running_mean, running_var, weight, bias),\n\u001b[0;32m   (...)\u001b[0m\n\u001b[1;32m   2445\u001b[0m         eps\u001b[38;5;241m=\u001b[39meps,\n\u001b[1;32m   2446\u001b[0m     )\n\u001b[1;32m   2447\u001b[0m \u001b[38;5;28;01mif\u001b[39;00m training:\n\u001b[0;32m-> 2448\u001b[0m     \u001b[43m_verify_batch_size\u001b[49m\u001b[43m(\u001b[49m\u001b[38;5;28;43minput\u001b[39;49m\u001b[38;5;241;43m.\u001b[39;49m\u001b[43msize\u001b[49m\u001b[43m(\u001b[49m\u001b[43m)\u001b[49m\u001b[43m)\u001b[49m\n\u001b[1;32m   2450\u001b[0m \u001b[38;5;28;01mreturn\u001b[39;00m torch\u001b[38;5;241m.\u001b[39mbatch_norm(\n\u001b[1;32m   2451\u001b[0m     \u001b[38;5;28minput\u001b[39m, weight, bias, running_mean, running_var, training, momentum, eps, torch\u001b[38;5;241m.\u001b[39mbackends\u001b[38;5;241m.\u001b[39mcudnn\u001b[38;5;241m.\u001b[39menabled\n\u001b[1;32m   2452\u001b[0m )\n",
      "File \u001b[0;32m/anaconda/envs/azureml_py310_sdkv2/lib/python3.10/site-packages/torch/nn/functional.py:2416\u001b[0m, in \u001b[0;36m_verify_batch_size\u001b[0;34m(size)\u001b[0m\n\u001b[1;32m   2414\u001b[0m     size_prods \u001b[38;5;241m*\u001b[39m\u001b[38;5;241m=\u001b[39m size[i \u001b[38;5;241m+\u001b[39m \u001b[38;5;241m2\u001b[39m]\n\u001b[1;32m   2415\u001b[0m \u001b[38;5;28;01mif\u001b[39;00m size_prods \u001b[38;5;241m==\u001b[39m \u001b[38;5;241m1\u001b[39m:\n\u001b[0;32m-> 2416\u001b[0m     \u001b[38;5;28;01mraise\u001b[39;00m \u001b[38;5;167;01mValueError\u001b[39;00m(\u001b[38;5;124m\"\u001b[39m\u001b[38;5;124mExpected more than 1 value per channel when training, got input size \u001b[39m\u001b[38;5;132;01m{}\u001b[39;00m\u001b[38;5;124m\"\u001b[39m\u001b[38;5;241m.\u001b[39mformat(size))\n",
      "\u001b[0;31mValueError\u001b[0m: Expected more than 1 value per channel when training, got input size torch.Size([1, 100])"
     ]
    }
   ],
   "source": [
    "test = privacy_comparison(normalized_jobs, 'dpgan', 'training', 're78', delta = 1e-3, epsilons = [15,20], n_iter = 10, save=True, fp ='jobs_privacy_dpgan_normalized_2.csv')"
   ]
  },
  {
   "cell_type": "code",
   "execution_count": 239,
   "id": "15c6f1bf",
   "metadata": {},
   "outputs": [],
   "source": [
    "test = pd.read_csv('simulated_privacy_dpgan_more_runs.csv')"
   ]
  },
  {
   "cell_type": "code",
   "execution_count": 240,
   "id": "1551be70",
   "metadata": {},
   "outputs": [
    {
     "data": {
      "text/html": [
       "<div>\n",
       "<style scoped>\n",
       "    .dataframe tbody tr th:only-of-type {\n",
       "        vertical-align: middle;\n",
       "    }\n",
       "\n",
       "    .dataframe tbody tr th {\n",
       "        vertical-align: top;\n",
       "    }\n",
       "\n",
       "    .dataframe thead th {\n",
       "        text-align: right;\n",
       "    }\n",
       "</style>\n",
       "<table border=\"1\" class=\"dataframe\">\n",
       "  <thead>\n",
       "    <tr style=\"text-align: right;\">\n",
       "      <th></th>\n",
       "      <th>method</th>\n",
       "      <th>epsilon</th>\n",
       "      <th>f</th>\n",
       "      <th>c</th>\n",
       "      <th>d</th>\n",
       "      <th>avg_u_pehe</th>\n",
       "    </tr>\n",
       "  </thead>\n",
       "  <tbody>\n",
       "    <tr>\n",
       "      <th>0</th>\n",
       "      <td>standard</td>\n",
       "      <td>1.5</td>\n",
       "      <td>0.772533</td>\n",
       "      <td>0.206000</td>\n",
       "      <td>0.455955</td>\n",
       "      <td>4.700255</td>\n",
       "    </tr>\n",
       "    <tr>\n",
       "      <th>1</th>\n",
       "      <td>sequential</td>\n",
       "      <td>1.5</td>\n",
       "      <td>0.375800</td>\n",
       "      <td>0.433667</td>\n",
       "      <td>0.415196</td>\n",
       "      <td>3.590751</td>\n",
       "    </tr>\n",
       "  </tbody>\n",
       "</table>\n",
       "</div>"
      ],
      "text/plain": [
       "       method  epsilon         f         c         d  avg_u_pehe\n",
       "0    standard      1.5  0.772533  0.206000  0.455955    4.700255\n",
       "1  sequential      1.5  0.375800  0.433667  0.415196    3.590751"
      ]
     },
     "execution_count": 240,
     "metadata": {},
     "output_type": "execute_result"
    }
   ],
   "source": [
    "test"
   ]
  },
  {
   "cell_type": "code",
   "execution_count": 50,
   "id": "9798a386",
   "metadata": {},
   "outputs": [],
   "source": [
    "results_comb = pd.read_csv('simulated_privacy_dpgan_combined.csv')\n",
    "#results_comb = pd.read_csv('jobs_privacy_dpgan_normalized.csv')"
   ]
  },
  {
   "cell_type": "code",
   "execution_count": 290,
   "id": "63772336",
   "metadata": {},
   "outputs": [],
   "source": [
    "test = pd.read_csv('jobs_privacy_dpgan_normalized_100.csv')"
   ]
  },
  {
   "cell_type": "code",
   "execution_count": 291,
   "id": "fd00944d",
   "metadata": {},
   "outputs": [],
   "source": [
    "results_comb = pd.concat([results_comb, test])"
   ]
  },
  {
   "cell_type": "code",
   "execution_count": 234,
   "id": "95f0d831",
   "metadata": {},
   "outputs": [],
   "source": [
    "#results_comb.to_csv('simulated_privacy_dpgan_combined.csv', index=False)"
   ]
  },
  {
   "cell_type": "code",
   "execution_count": 310,
   "id": "098e2150",
   "metadata": {},
   "outputs": [],
   "source": [
    "results_comb = results_comb.reset_index(drop=True)"
   ]
  },
  {
   "cell_type": "code",
   "execution_count": 313,
   "id": "c275174b",
   "metadata": {},
   "outputs": [],
   "source": [
    "results_comb = results_comb.drop([60,61,62,63])"
   ]
  },
  {
   "cell_type": "code",
   "execution_count": 51,
   "id": "5e0fd63f",
   "metadata": {},
   "outputs": [
    {
     "data": {
      "text/html": [
       "<div>\n",
       "<style scoped>\n",
       "    .dataframe tbody tr th:only-of-type {\n",
       "        vertical-align: middle;\n",
       "    }\n",
       "\n",
       "    .dataframe tbody tr th {\n",
       "        vertical-align: top;\n",
       "    }\n",
       "\n",
       "    .dataframe thead th {\n",
       "        text-align: right;\n",
       "    }\n",
       "</style>\n",
       "<table border=\"1\" class=\"dataframe\">\n",
       "  <thead>\n",
       "    <tr style=\"text-align: right;\">\n",
       "      <th></th>\n",
       "      <th>method</th>\n",
       "      <th>f</th>\n",
       "      <th>c</th>\n",
       "      <th>d</th>\n",
       "      <th>avg_u_pehe</th>\n",
       "    </tr>\n",
       "    <tr>\n",
       "      <th>epsilon</th>\n",
       "      <th></th>\n",
       "      <th></th>\n",
       "      <th></th>\n",
       "      <th></th>\n",
       "      <th></th>\n",
       "    </tr>\n",
       "  </thead>\n",
       "  <tbody>\n",
       "    <tr>\n",
       "      <th>1</th>\n",
       "      <td>20</td>\n",
       "      <td>20</td>\n",
       "      <td>20</td>\n",
       "      <td>20</td>\n",
       "      <td>20</td>\n",
       "    </tr>\n",
       "    <tr>\n",
       "      <th>2</th>\n",
       "      <td>20</td>\n",
       "      <td>20</td>\n",
       "      <td>20</td>\n",
       "      <td>20</td>\n",
       "      <td>20</td>\n",
       "    </tr>\n",
       "    <tr>\n",
       "      <th>3</th>\n",
       "      <td>20</td>\n",
       "      <td>20</td>\n",
       "      <td>20</td>\n",
       "      <td>20</td>\n",
       "      <td>20</td>\n",
       "    </tr>\n",
       "    <tr>\n",
       "      <th>4</th>\n",
       "      <td>20</td>\n",
       "      <td>20</td>\n",
       "      <td>20</td>\n",
       "      <td>20</td>\n",
       "      <td>20</td>\n",
       "    </tr>\n",
       "    <tr>\n",
       "      <th>5</th>\n",
       "      <td>20</td>\n",
       "      <td>20</td>\n",
       "      <td>20</td>\n",
       "      <td>20</td>\n",
       "      <td>20</td>\n",
       "    </tr>\n",
       "    <tr>\n",
       "      <th>10</th>\n",
       "      <td>20</td>\n",
       "      <td>20</td>\n",
       "      <td>20</td>\n",
       "      <td>20</td>\n",
       "      <td>20</td>\n",
       "    </tr>\n",
       "    <tr>\n",
       "      <th>15</th>\n",
       "      <td>20</td>\n",
       "      <td>20</td>\n",
       "      <td>20</td>\n",
       "      <td>20</td>\n",
       "      <td>20</td>\n",
       "    </tr>\n",
       "  </tbody>\n",
       "</table>\n",
       "</div>"
      ],
      "text/plain": [
       "         method   f   c   d  avg_u_pehe\n",
       "epsilon                                \n",
       "1            20  20  20  20          20\n",
       "2            20  20  20  20          20\n",
       "3            20  20  20  20          20\n",
       "4            20  20  20  20          20\n",
       "5            20  20  20  20          20\n",
       "10           20  20  20  20          20\n",
       "15           20  20  20  20          20"
      ]
     },
     "execution_count": 51,
     "metadata": {},
     "output_type": "execute_result"
    }
   ],
   "source": [
    "results_comb.groupby('epsilon').count()"
   ]
  },
  {
   "cell_type": "code",
   "execution_count": 53,
   "id": "8e5769a4",
   "metadata": {},
   "outputs": [],
   "source": [
    "results_standard = results_comb[results_comb['method']=='standard']"
   ]
  },
  {
   "cell_type": "code",
   "execution_count": 54,
   "id": "5c83363c",
   "metadata": {},
   "outputs": [],
   "source": [
    "results_seq = results_comb[results_comb['method']=='sequential']"
   ]
  },
  {
   "cell_type": "code",
   "execution_count": 55,
   "id": "73f328e3",
   "metadata": {},
   "outputs": [],
   "source": [
    "x = [1,2,3,4,5,10,15]\n",
    "d_stand = results_standard.groupby('epsilon').mean()['d']\n",
    "d_seq = results_seq.groupby('epsilon').mean()['d']\n",
    "f_stand = results_standard.groupby('epsilon').mean()['f']\n",
    "f_seq = results_seq.groupby('epsilon').mean()['f']\n",
    "c_stand = results_standard.groupby('epsilon').mean()['c']\n",
    "c_seq = results_seq.groupby('epsilon').mean()['c']\n",
    "u_stand = results_standard.groupby('epsilon').mean()['avg_u_pehe']\n",
    "u_seq = results_seq.groupby('epsilon').mean()['avg_u_pehe']\n",
    "\n",
    "\n",
    "d_stand_std = results_standard.groupby('epsilon').std()['d'] / np.sqrt(10) * 1.96\n",
    "d_seq_std = results_seq.groupby('epsilon').std()['d']/ np.sqrt(10)* 1.96\n",
    "f_stand_std = results_standard.groupby('epsilon').std()['f']/ np.sqrt(10)* 1.96\n",
    "f_seq_std = results_seq.groupby('epsilon').std()['f']/ np.sqrt(10)* 1.96\n",
    "c_stand_std = results_standard.groupby('epsilon').std()['c']/ np.sqrt(10)* 1.96\n",
    "c_seq_std = results_seq.groupby('epsilon').std()['c']/ np.sqrt(10)* 1.96\n",
    "u_stand_std = results_standard.groupby('epsilon').std()['avg_u_pehe']/ np.sqrt(10)* 1.96\n",
    "u_seq_std = results_seq.groupby('epsilon').std()['avg_u_pehe']/ np.sqrt(10)* 1.96"
   ]
  },
  {
   "cell_type": "code",
   "execution_count": 57,
   "id": "48aae500",
   "metadata": {},
   "outputs": [
    {
     "data": {
      "image/png": "[encoded data removed]",
      "text/plain": [
       "<Figure size 640x480 with 1 Axes>"
      ]
     },
     "metadata": {},
     "output_type": "display_data"
    }
   ],
   "source": [
    "plt.plot(x, d_stand, 'o-', label = 'Standard')\n",
    "plt.plot(x, d_seq, 'o-', label = 'Sequential')\n",
    "plt.fill_between(x, d_stand - d_stand_std, d_stand + d_stand_std, alpha=0.2)\n",
    "plt.fill_between(x, d_seq - d_seq_std, d_seq + d_seq_std, alpha=0.2)\n",
    "#plt.legend()\n",
    "plt.ylim([0,1])\n",
    "plt.ylabel('$D$')\n",
    "plt.xlabel('$\\epsilon$')\n",
    "plt.xscale('log')\n",
    "plt.savefig('plots/D_with_epsilon.pdf', bbox_inches='tight')"
   ]
  },
  {
   "cell_type": "code",
   "execution_count": 58,
   "metadata": {},
   "outputs": [
    {
     "data": {
      "image/png": "[encoded data removed]",
      "text/plain": [
       "<Figure size 640x480 with 1 Axes>"
      ]
     },
     "metadata": {},
     "output_type": "display_data"
    }
   ],
   "source": [
    "plt.plot(x, f_stand, 'o-', label = 'Standard')\n",
    "plt.plot(x, f_seq, 'o-', label = 'Sequential')\n",
    "plt.fill_between(x, f_stand - f_stand_std, f_stand + f_stand_std, alpha=0.2)\n",
    "plt.fill_between(x, f_seq - f_seq_std, f_seq + f_seq_std, alpha=0.2)\n",
    "#plt.legend()\n",
    "plt.ylim([0,1])\n",
    "plt.ylabel('$F$')\n",
    "plt.xlabel('$\\epsilon$')\n",
    "plt.xscale('log')\n",
    "plt.savefig('plots/F_with_epsilon.pdf', bbox_inches='tight')"
   ]
  },
  {
   "cell_type": "code",
   "execution_count": 61,
   "id": "d86cc520",
   "metadata": {},
   "outputs": [
    {
     "data": {
      "image/png": "[encoded data removed]",
      "text/plain": [
       "<Figure size 640x480 with 1 Axes>"
      ]
     },
     "metadata": {},
     "output_type": "display_data"
    }
   ],
   "source": [
    "plt.plot(x, c_stand, 'o-', label = 'Standard')\n",
    "plt.plot(x, c_seq, 'o-', label = 'SynCATE')\n",
    "plt.fill_between(x, c_stand - c_stand_std, c_stand + c_stand_std, alpha=0.2)\n",
    "plt.fill_between(x, c_seq - c_seq_std, c_seq + c_seq_std, alpha=0.2)\n",
    "plt.legend()\n",
    "plt.ylim([0,1])\n",
    "plt.ylabel('$C$')\n",
    "plt.xlabel('$\\epsilon$')\n",
    "plt.xscale('log')\n",
    "plt.savefig('plots/C_with_epsilon.pdf', bbox_inches='tight')"
   ]
  },
  {
   "cell_type": "code",
   "execution_count": 60,
   "id": "f5c2e680",
   "metadata": {},
   "outputs": [
    {
     "data": {
      "image/png": "[encoded data removed]",
      "text/plain": [
       "<Figure size 640x480 with 1 Axes>"
      ]
     },
     "metadata": {},
     "output_type": "display_data"
    }
   ],
   "source": [
    "plt.plot(x, u_stand, 'o-', label = 'Standard')\n",
    "plt.plot(x, u_seq, 'o-', label = 'Sequential')\n",
    "plt.fill_between(x, u_stand - u_stand_std, u_stand + u_stand_std, alpha=0.2)\n",
    "plt.fill_between(x, u_seq - u_seq_std, u_seq + u_seq_std, alpha=0.2)\n",
    "#plt.legend()\n",
    "plt.ylabel('$U_{PEHE}$')\n",
    "plt.xlabel('$\\epsilon$')\n",
    "plt.xscale('log')\n",
    "plt.savefig('plots/U_with_epsilon.pdf', bbox_inches='tight')"
   ]
  },
  {
   "cell_type": "code",
   "execution_count": null,
   "id": "330e861d",
   "metadata": {},
   "outputs": [],
   "source": []
  }
 ],
 "metadata": {
  "kernelspec": {
   "display_name": "Python 3.10 - SDK v2",
   "language": "python",
   "name": "python310-sdkv2"
  },
  "language_info": {
   "codemirror_mode": {
    "name": "ipython",
    "version": 3
   },
   "file_extension": ".py",
   "mimetype": "text/x-python",
   "name": "python",
   "nbconvert_exporter": "python",
   "pygments_lexer": "ipython3",
   "version": "3.10.11"
  },
  "varInspector": {
   "cols": {
    "lenName": 16,
    "lenType": 16,
    "lenVar": 40
   },
   "kernels_config": {
    "python": {
     "delete_cmd_postfix": "",
     "delete_cmd_prefix": "del ",
     "library": "var_list.py",
     "varRefreshCmd": "print(var_dic_list())"
    },
    "r": {
     "delete_cmd_postfix": ") ",
     "delete_cmd_prefix": "rm(",
     "library": "var_list.r",
     "varRefreshCmd": "cat(var_dic_list()) "
    }
   },
   "types_to_exclude": [
    "module",
    "function",
    "builtin_function_or_method",
    "instance",
    "_Feature"
   ],
   "window_display": false
  }
 },
 "nbformat": 4,
 "nbformat_minor": 5
}
